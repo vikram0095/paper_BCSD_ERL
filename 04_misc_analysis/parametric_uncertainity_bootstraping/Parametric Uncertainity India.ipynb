{
 "cells": [
  {
   "cell_type": "markdown",
   "id": "6050927a-df1d-4e50-956e-ac5ffadf1dbb",
   "metadata": {
    "tags": []
   },
   "source": [
    "# imports and defs"
   ]
  },
  {
   "cell_type": "code",
   "execution_count": 1,
   "id": "e970b564-beaa-4161-aea9-82431c7d7447",
   "metadata": {},
   "outputs": [],
   "source": [
    "import numpy as np\n",
    "import pandas as pd\n",
    "import bcsd_module as bb\n",
    "import matplotlib.pyplot as plt\n",
    "import utility_module_2_v_3 as uu\n",
    "from datetime import datetime\n"
   ]
  },
  {
   "cell_type": "code",
   "execution_count": 2,
   "id": "16dcfd3f-40eb-4e92-bed5-b60ac4e78a5a",
   "metadata": {},
   "outputs": [],
   "source": [
    "def check_for_nans_infs_zeros(data_sts):\n",
    "    print('Nans:',np.sum(np.isnan(data_sts)))\n",
    "    print('Infs:' ,np.sum(np.isinf(data_sts)))\n",
    "    print('Zeros:',np.sum((data_sts==0)))\n",
    "    "
   ]
  },
  {
   "cell_type": "code",
   "execution_count": 3,
   "id": "6f8bfc98-3072-49d5-998d-57e874e4f264",
   "metadata": {},
   "outputs": [],
   "source": [
    "## check dimensions and plot ts\n",
    "def data_check(data_sts,lat,lon,Np= 12):\n",
    "    check_for_nans_infs_zeros(data_sts)\n",
    "    map_bounds=metadata['data_bounds'] #[50 , 50, 110, 0] #ltrb\n",
    "    mp_spacing=10\n",
    "\n",
    "    plt.figure(figsize = (12,2))\n",
    "\n",
    "    plt.subplot(121)\n",
    "    uu.map_plot_cyl(np.nanmean(data_sts[:,:,:],axis=0),lat,lon,map_bounds,mp_spacing=10)\n",
    "    plt.title('Mean')\n",
    "\n",
    "    plt.subplot(122)\n",
    "    plt.plot(data_sts[:Np*5,int(lat.shape[0]/2),int(lon.shape[0]/2)])\n",
    "    plt.plot(data_sts[-Np*5:,int(lat.shape[0]/2),int(lon.shape[0]/2)])\n"
   ]
  },
  {
   "cell_type": "code",
   "execution_count": null,
   "id": "51615b86-c730-4855-8648-fa68e8e2e34b",
   "metadata": {},
   "outputs": [],
   "source": []
  },
  {
   "cell_type": "markdown",
   "id": "940d111a-b1ec-47db-bab9-d30a62e03480",
   "metadata": {},
   "source": [
    "# Exp details"
   ]
  },
  {
   "cell_type": "code",
   "execution_count": 6,
   "id": "ccc7b5c8-61b8-428a-9407-a93969a48f0b",
   "metadata": {},
   "outputs": [],
   "source": [
    "import geopandas as gpd\n",
    "from shapely.geometry  import Point\n",
    "from shapely.geometry import shape\n"
   ]
  },
  {
   "cell_type": "code",
   "execution_count": 7,
   "id": "4f59c567-3536-4644-ad8a-b3832f555304",
   "metadata": {},
   "outputs": [
    {
     "data": {
      "text/html": [
       "<div>\n",
       "<style scoped>\n",
       "    .dataframe tbody tr th:only-of-type {\n",
       "        vertical-align: middle;\n",
       "    }\n",
       "\n",
       "    .dataframe tbody tr th {\n",
       "        vertical-align: top;\n",
       "    }\n",
       "\n",
       "    .dataframe thead th {\n",
       "        text-align: right;\n",
       "    }\n",
       "</style>\n",
       "<table border=\"1\" class=\"dataframe\">\n",
       "  <thead>\n",
       "    <tr style=\"text-align: right;\">\n",
       "      <th></th>\n",
       "      <th>exp_names</th>\n",
       "      <th>SD_types</th>\n",
       "      <th>var_types</th>\n",
       "    </tr>\n",
       "  </thead>\n",
       "  <tbody>\n",
       "    <tr>\n",
       "      <th>0</th>\n",
       "      <td>India_P_BCSDd</td>\n",
       "      <td>PREC</td>\n",
       "      <td>pre</td>\n",
       "    </tr>\n",
       "    <tr>\n",
       "      <th>1</th>\n",
       "      <td>India_T_BCSDd</td>\n",
       "      <td>TEMP</td>\n",
       "      <td>tas</td>\n",
       "    </tr>\n",
       "  </tbody>\n",
       "</table>\n",
       "</div>"
      ],
      "text/plain": [
       "       exp_names SD_types var_types\n",
       "0  India_P_BCSDd     PREC       pre\n",
       "1  India_T_BCSDd     TEMP       tas"
      ]
     },
     "execution_count": 7,
     "metadata": {},
     "output_type": "execute_result"
    }
   ],
   "source": [
    "exp_names =['India_P_BCSDd',\n",
    "            'India_T_BCSDd',\n",
    "           ]\n",
    "\n",
    "SD_types = ['PREC','TEMP',]\n",
    "var_types = ['pre','tas']\n",
    "\n",
    "\n",
    "\n",
    "df = pd.DataFrame(list(zip(exp_names, SD_types,var_types)),\n",
    "               columns =['exp_names', 'SD_types', 'var_types'])\n",
    "df"
   ]
  },
  {
   "cell_type": "code",
   "execution_count": 33,
   "id": "92a7f73a-0207-498e-a600-7810c3db2c0e",
   "metadata": {},
   "outputs": [],
   "source": [
    "\n",
    "    \n",
    "itr=0\n",
    "gcm_name= 'CanESM2'\n",
    "exp_name = df['exp_names'][itr]\n",
    "SD_type = df['SD_types'][itr]\n",
    "var_type = df['var_types'][itr]\n",
    "\n",
    "\n",
    "lon_obs=metadata['lon_obs'] \n",
    "lat_obs=metadata['lat_obs']                                                       \n",
    "lat_gcm=metadata['lat_gcm']\n",
    "lon_gcm=metadata['lon_gcm']\n",
    "\n",
    "\n",
    "path_out = '/home/vikram/BCSD_data/' + exp_name  + '/'\n",
    "\n",
    "metadata = np.load(path_out+'bcsd_imd_metadata_'+gcm_name + '.npy',allow_pickle=True).item()\n",
    "pre_obs= np.load(path_out+'data_obs_imd_pred'+ '.npy')\n",
    "pre_gcm= np.load(path_out+'data_gcm_'+gcm_name+'_imd_pred.npy') \n",
    "\n",
    "pre_obs_coarse = np.zeros((pre_obs.shape[0],pre_gcm.shape[1],pre_gcm.shape[2]))\n",
    "for i in range(pre_obs.shape[0]):\n",
    "    pre_obs_coarse[i,:,:] = uu.regrid(pre_obs[i,:,:],  metadata['lat_obs'],  metadata['lon_obs'],\n",
    "                                                       metadata['lat_gcm'], metadata['lon_gcm'])\n",
    "\n",
    "\n",
    "\n",
    "# data_check(pre_obs_coarse*~mask, metadata['lat_gcm'], metadata['lon_gcm'])\n",
    "# data_check(pre_gcm, metadata['lat_gcm'], metadata['lon_gcm'])\n",
    "\n",
    "# plt.pcolor(mask)"
   ]
  },
  {
   "cell_type": "code",
   "execution_count": 15,
   "id": "02d72669-d4e6-4ace-911e-532b23a9c98c",
   "metadata": {},
   "outputs": [
    {
     "ename": "NameError",
     "evalue": "name 'j' is not defined",
     "output_type": "error",
     "traceback": [
      "\u001b[0;31m---------------------------------------------------------------------------\u001b[0m",
      "\u001b[0;31mNameError\u001b[0m                                 Traceback (most recent call last)",
      "Input \u001b[0;32mIn [15]\u001b[0m, in \u001b[0;36m<cell line: 11>\u001b[0;34m()\u001b[0m\n\u001b[1;32m      9\u001b[0m data_gcm_m_ex\u001b[38;5;241m=\u001b[39mnp\u001b[38;5;241m.\u001b[39mconcatenate((data_gcm_m[\u001b[38;5;241m-\u001b[39m\u001b[38;5;241m15\u001b[39m:,:,:,:],data_gcm_m[:,:,:,:],data_gcm_m[:\u001b[38;5;241m15\u001b[39m,:,:,:]),axis\u001b[38;5;241m=\u001b[39m\u001b[38;5;241m0\u001b[39m)\n\u001b[1;32m     10\u001b[0m day_iter \u001b[38;5;241m=\u001b[39m \u001b[38;5;241m181\u001b[39m\n\u001b[0;32m---> 11\u001b[0m va\u001b[38;5;241m=\u001b[39mdata_obs_m_ex[day_iter:day_iter\u001b[38;5;241m+\u001b[39m\u001b[38;5;241m31\u001b[39m,:,i,\u001b[43mj\u001b[49m]\u001b[38;5;241m.\u001b[39mflatten(order\u001b[38;5;241m=\u001b[39m\u001b[38;5;124m'\u001b[39m\u001b[38;5;124mF\u001b[39m\u001b[38;5;124m'\u001b[39m)\n\u001b[1;32m     12\u001b[0m vb\u001b[38;5;241m=\u001b[39mdata_gcm_train_m_ex[day_iter:day_iter\u001b[38;5;241m+\u001b[39m\u001b[38;5;241m31\u001b[39m,:,i,j]\u001b[38;5;241m.\u001b[39mflatten(order\u001b[38;5;241m=\u001b[39m\u001b[38;5;124m'\u001b[39m\u001b[38;5;124mF\u001b[39m\u001b[38;5;124m'\u001b[39m)\n",
      "\u001b[0;31mNameError\u001b[0m: name 'j' is not defined"
     ]
    }
   ],
   "source": [
    "N1g=lat_gcm.shape[0]\n",
    "N2g=lon_gcm.shape[0]\n",
    "\n",
    "    \n",
    "data_obs_m=pre_obs_coarse.flatten(order='F').reshape((365,-1,N1g,N1g),order='F') # DOYxNxN1xN2\n",
    "data_gcm_m=pre_gcm.flatten(order='F').reshape((365,-1,N1g,N1g),order='F')\n",
    "\n",
    "data_obs_m_ex=np.concatenate((data_obs_m[-15:,:,:,:],data_obs_m[:,:,:,:],data_obs_m[:15,:,:,:]),axis=0)\n",
    "data_gcm_m_ex=np.concatenate((data_gcm_m[-15:,:,:,:],data_gcm_m[:,:,:,:],data_gcm_m[:15,:,:,:]),axis=0)\n",
    "day_iter = 181\n",
    "\n",
    "\n"
   ]
  },
  {
   "cell_type": "code",
   "execution_count": 10,
   "id": "41b68fb9-4d5f-4acb-908b-b0739656b161",
   "metadata": {},
   "outputs": [
    {
     "data": {
      "text/plain": [
       "((105, 14, 14), (38325, 14, 14))"
      ]
     },
     "execution_count": 10,
     "metadata": {},
     "output_type": "execute_result"
    }
   ],
   "source": [
    "pre_gcm[166:196].shape, pre_obs_coarse.shape"
   ]
  },
  {
   "cell_type": "code",
   "execution_count": 26,
   "id": "880e17b4-09b0-4ce4-8c40-b5082b73e07a",
   "metadata": {},
   "outputs": [
    {
     "data": {
      "text/plain": [
       "181"
      ]
     },
     "execution_count": 26,
     "metadata": {},
     "output_type": "execute_result"
    }
   ],
   "source": [
    "day_iter"
   ]
  },
  {
   "cell_type": "markdown",
   "id": "3bbcee61-040c-410c-b771-6680f33030fb",
   "metadata": {},
   "source": [
    "# Bootstraping and BC"
   ]
  },
  {
   "cell_type": "code",
   "execution_count": 24,
   "id": "74fa7dca-8150-4675-9614-96731b0af7dc",
   "metadata": {},
   "outputs": [
    {
     "name": "stderr",
     "output_type": "stream",
     "text": [
      "100%|███████████████████████████████████████████| 14/14 [02:18<00:00,  9.89s/it]\n"
     ]
    }
   ],
   "source": [
    "N=105\n",
    "B=10\n",
    "N1= pre_gcm.shape[1]\n",
    "N2= pre_gcm.shape[2]\n",
    "bias_corrected_uncen_output = np.zeros((N1,N2,B*B,N))\n",
    "\n",
    "from tqdm import tqdm\n",
    "\n",
    "for n1 in tqdm(range(N1)):\n",
    "    for n2 in (range(N2)):\n",
    "        va=data_obs_m_ex[day_iter:day_iter+31,:,n1,n2].flatten(order='F')\n",
    "        vb=data_gcm_m_ex[day_iter:day_iter+31,:,n1,n2].flatten(order='F')\n",
    "        vc=data_gcm_m_ex[day_iter+15,:,n1,n2].flatten(order='F')\n",
    "        \n",
    "        x=va\n",
    "        N=x.shape[0]\n",
    "        data_Jan_samples= []\n",
    "        for i in range(B):\n",
    "            y = np.random.choice(x.tolist(), N, replace=True)\n",
    "            data_Jan_samples.append(y)\n",
    "\n",
    "\n",
    "        x=vb\n",
    "        N=x.shape[0]\n",
    "        data_Jan_samples_obs= []\n",
    "        for i in range(B):\n",
    "            y = np.random.choice(x.tolist(), N, replace=True)\n",
    "            data_Jan_samples_obs.append(y)\n",
    "            \n",
    "            \n",
    "        data_bc=[]\n",
    "        for samp in data_Jan_samples:\n",
    "            for samp_obs in data_Jan_samples_obs:\n",
    "                # print(samp_obs.shape,samp.shape,vc.shape)\n",
    "                a = bb.gamma_quantile_mapping(samp_obs,samp,vc)\n",
    "                data_bc.append(a)\n",
    "                \n",
    "                \n",
    "        bias_corrected_uncen_output[n1,n2,:,:]=np.array(data_bc)\n",
    "        "
   ]
  },
  {
   "cell_type": "code",
   "execution_count": 4,
   "id": "9ccdf04e-9866-490c-a4de-b52e9ab88c94",
   "metadata": {},
   "outputs": [],
   "source": [
    "def create_mask(fo,lat_obs_cru,lon_obs_cru,buffer=0,plot=0):\n",
    "  filename=gpd.read_file(fo)\n",
    "  shp_geom = shape(filename.geometry[0])\n",
    "\n",
    "  xxc, yyc = np.meshgrid(lon_obs_cru,lat_obs_cru)\n",
    "  mask_shape=np.zeros(xxc.shape,dtype=bool)\n",
    "  if plot==1:\n",
    "    x,y = shp_geom.exterior.xy\n",
    "    plt.plot(x,y)\n",
    "  N1=xxc.shape[0]\n",
    "  N2=xxc.shape[1]\n",
    "\n",
    "  for lat_i in range(0,N1):\n",
    "    for lon_i in range(0,N2):\n",
    "      xi=xxc[lat_i,lon_i]\n",
    "      yi=yyc[lat_i,lon_i]\n",
    "      m1= (shp_geom.contains(Point(xi, yi)) or shp_geom.touches(Point(xi, yi)))\n",
    "      mask_shape[lat_i,lon_i]=not m1\n",
    "\n",
    "  return mask_shape"
   ]
  },
  {
   "cell_type": "code",
   "execution_count": 37,
   "id": "de0b746f-e51b-4ae3-b315-9bc7deb37038",
   "metadata": {},
   "outputs": [
    {
     "data": {
      "image/png": "[encoded data removed]",
      "text/plain": [
       "<Figure size 1080x504 with 2 Axes>"
      ]
     },
     "metadata": {
      "needs_background": "light"
     },
     "output_type": "display_data"
    }
   ],
   "source": [
    "p_obs = pre_obs_coarse[:,:,:].reshape((365,-1,N1,N2),order = 'F' )[day_iter,:]\n",
    "p_gcm  =  pre_gcm[:,:,:].reshape((365,-1,N1,N2),order = 'F' )[day_iter,:]\n",
    "\n",
    "_bias =  p_gcm  -  p_obs\n",
    "_std = np.moveaxis(np.std(bias_corrected_uncen_output,axis=2),2,0)\n",
    "fo='/home/vikram/BCSD_Shapefiles/ind.shp'\n",
    "mask = create_mask(fo, metadata['lat_gcm'], metadata['lon_gcm'],buffer=5,plot=0) \n",
    "\n",
    "data_plot = (np.mean(np.abs(_bias/_std),axis=0))\n",
    "map_plot_cyl(data_plot * ~mask,lat_gcm,lon_gcm,metadata['data_bounds'],mp_spacing=10,vv=100)\n"
   ]
  },
  {
   "cell_type": "code",
   "execution_count": 28,
   "id": "2f72c812-de29-4c1b-889d-d1cc1a90a2c1",
   "metadata": {},
   "outputs": [],
   "source": [
    "from mpl_toolkits.basemap import Basemap\n",
    "import matplotlib.pyplot as plt\n",
    "\n",
    "def map_plot_cyl(data_lat_x_lon,lat_cen,lon_cen,map_bounds,mp_spacing=10,vv=10):\n",
    "  \n",
    "\n",
    "  lat_box=uu.cen_to_box(lat_cen)\n",
    "  lon_box=uu.cen_to_box(lon_cen)\n",
    "\n",
    "  fig=plt.figure(figsize=(15,7))\n",
    "  map = Basemap(projection='cyl',resolution='l',\n",
    "                llcrnrlon=map_bounds[0], \n",
    "                urcrnrlat=map_bounds[1],\n",
    "                urcrnrlon=map_bounds[2], \n",
    "                llcrnrlat=map_bounds[3])\n",
    "\n",
    "\n",
    "  xx, yy = np.meshgrid(lon_box,lat_box )\n",
    "  #return  dimenion of lat * lon\n",
    "\n",
    "  map.pcolor(xx, yy, data_lat_x_lon,cmap='Blues',vmax=vv,vmin=0)\n",
    "  map.drawmeridians(np.arange(-180,180,mp_spacing),labels=[0,0,0,1], linewidth=1.0) #longitudes\n",
    "  map.drawparallels(np.arange(-90,90,mp_spacing),labels=[1,0,0,0], linewidth=1.0) #latitudes\n",
    "\n",
    "  map.drawcountries(linewidth=1)\n",
    "  map.drawcoastlines(linewidth=1)\n",
    "\n",
    "  map.colorbar()\n",
    "\n",
    "  plt.show()"
   ]
  },
  {
   "cell_type": "code",
   "execution_count": null,
   "id": "48c7f1a6-1002-403d-9678-43612b42415c",
   "metadata": {},
   "outputs": [],
   "source": []
  }
 ],
 "metadata": {
  "kernelspec": {
   "display_name": "Python 3 (ipykernel)",
   "language": "python",
   "name": "python3"
  },
  "language_info": {
   "codemirror_mode": {
    "name": "ipython",
    "version": 3
   },
   "file_extension": ".py",
   "mimetype": "text/x-python",
   "name": "python",
   "nbconvert_exporter": "python",
   "pygments_lexer": "ipython3",
   "version": "3.9.12"
  }
 },
 "nbformat": 4,
 "nbformat_minor": 5
}
