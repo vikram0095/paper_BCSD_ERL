{
 "cells": [
  {
   "cell_type": "code",
   "execution_count": null,
   "id": "22622add-b33d-4ecd-aaf4-2620654d4bd7",
   "metadata": {},
   "outputs": [],
   "source": [
    "\n",
    "for yeaR in range(1979,2019):\n",
    "    url = 'https://www.ncei.noaa.gov/data/outgoing-longwave-radiation-daily/access/olr-daily_v01r02_'+str(yeaR)+'0101_'+str(yeaR)+'1231.nc'\n",
    "    for iter in range(1):\n",
    "        r = requests.get(url)\n",
    "        open('/home/vikram/Premonsoon/olr_data/olr-daily_v01r02_'+str(yeaR)+'0101_'+str(yeaR)+'1231.nc', 'wb').write(r.content)"
   ]
  }
 ],
 "metadata": {
  "kernelspec": {
   "display_name": "Python 3 (ipykernel)",
   "language": "python",
   "name": "python3"
  },
  "language_info": {
   "codemirror_mode": {
    "name": "ipython",
    "version": 3
   },
   "file_extension": ".py",
   "mimetype": "text/x-python",
   "name": "python",
   "nbconvert_exporter": "python",
   "pygments_lexer": "ipython3",
   "version": "3.9.12"
  }
 },
 "nbformat": 4,
 "nbformat_minor": 5
}
