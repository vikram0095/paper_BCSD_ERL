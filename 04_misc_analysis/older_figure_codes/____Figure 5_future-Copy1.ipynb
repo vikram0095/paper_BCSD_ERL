{
 "cells": [
  {
   "cell_type": "code",
   "execution_count": null,
   "metadata": {
    "executionInfo": {
     "elapsed": 13,
     "status": "ok",
     "timestamp": 1640712864400,
     "user": {
      "displayName": "Vikram Singh Chandel",
      "photoUrl": "https://lh3.googleusercontent.com/a/default-user=s64",
      "userId": "07964427013125611178"
     },
     "user_tz": -330
    },
    "id": "fKd-tcXtK_Tj"
   },
   "outputs": [],
   "source": [
    "import utility_module_2_v_3 as uu\n",
    "import numpy as np\n",
    "import matplotlib.pyplot as plt\n",
    "import pandas as pd\n",
    "import numpy.ma as ma\n",
    "from numpy import meshgrid\n",
    "from mpl_toolkits.basemap import Basemap\n",
    "from tqdm import tqdm\n",
    "\n",
    "import geopandas as gpd\n",
    "from shapely.geometry  import Point\n",
    "from shapely.geometry import shape\n",
    "import seaborn as sns\n"
   ]
  },
  {
   "cell_type": "code",
   "execution_count": null,
   "metadata": {},
   "outputs": [],
   "source": [
    "path_out_P = '/home/vikram/BCSD_data/' + 'US_P_BCSD/'\n",
    "path_out_T = '/home/vikram/BCSD_data/' + 'US_T_BCSD/'\n",
    "\n",
    "output_figname = ''#_eqm'"
   ]
  },
  {
   "cell_type": "markdown",
   "metadata": {
    "id": "pWMY5hi98Ief",
    "tags": []
   },
   "source": [
    "# init"
   ]
  },
  {
   "cell_type": "code",
   "execution_count": null,
   "metadata": {},
   "outputs": [],
   "source": [
    "gcm_names=['MIROC_ESM','CanESM2','HadGEM_AO','GFDL_CM3']\n",
    "gcm_name  =  gcm_names[1]"
   ]
  },
  {
   "cell_type": "code",
   "execution_count": null,
   "metadata": {},
   "outputs": [],
   "source": [
    "def getclosest_ij(lats,lons,latpt,lonpt):\n",
    "    dis_sq1=(lats-latpt)**2\n",
    "    dis_sq2=(lons-lonpt)**2\n",
    "    \n",
    "    minidex_lat=dis_sq1.argmin()\n",
    "    minidex_lon=dis_sq2.argmin()\n",
    "    \n",
    "    return minidex_lon,minidex_lat"
   ]
  },
  {
   "cell_type": "code",
   "execution_count": null,
   "metadata": {},
   "outputs": [],
   "source": [
    "import matplotlib.pyplot as plt\n",
    "from matplotlib.patches import Polygon\n",
    "import geopandas as gpd\n",
    "from geopy.geocoders import Nominatim\n",
    "\n",
    "\n",
    "\n",
    "lats,lons = (np.arange(0,40,1),np.arange(-180,100,1))\n",
    "XX12,YY12 = np.meshgrid(lons,lats)\n",
    "\n",
    "fig, ax = plt.subplots()\n",
    "\n",
    "for address in ['San Francisco','New ','Los Angeles', 'Chicago']:\n",
    "    geolocator = Nominatim(user_agent=\"Your_Name\")\n",
    "    location = geolocator.geocode(address)\n",
    "    [ind_lon,ind_lat] = getclosest_ij(lats,lons,location.latitude,location.longitude)\n",
    "    plt.plot(lons[ind_lon]+2,lats[ind_lat],marker='*',markersize= 25)\n",
    "\n",
    "ind = gpd.read_file('/home/vikram/BCSD_Shapefiles/Us_boundary.shp')\n",
    "ind.plot(ax=ax,facecolor=\"none\")\n",
    "\n",
    "regional_boxes = [[-120,37,-113,45],\n",
    "                  [-109,37,-98,45],\n",
    "                  [-88,33,-77,41]]\n",
    "\n",
    "for co_ords in regional_boxes:\n",
    "    ax.add_patch(Polygon([(co_ords[0],co_ords[1]),\n",
    "                           (co_ords[0],co_ords[3]),\n",
    "                           (co_ords[2],co_ords[3]),\n",
    "                           (co_ords[2],co_ords[1])],facecolor='none',edgecolor= 'k'))\n",
    "\n",
    "plt.show()\n",
    "\n",
    "\n"
   ]
  },
  {
   "cell_type": "markdown",
   "metadata": {
    "id": "amLp3GdOnFz2",
    "tags": []
   },
   "source": [
    "# Import data"
   ]
  },
  {
   "cell_type": "code",
   "execution_count": null,
   "metadata": {
    "id": "QYtB5Im03wFO"
   },
   "outputs": [],
   "source": [
    "\n",
    "metadata=np.load(path_out_P+ '/pre_metadata'+gcm_name+'.npy', allow_pickle=True)\n",
    "st=metadata.item()['st']\n",
    "en=metadata.item()['en']\n",
    "\n",
    "mask_fine_obs=metadata.item()['mask']\n",
    "\n",
    "lat_obs=metadata.item()['lat_obs']\n",
    "lon_obs=metadata.item()['lon_obs']\n",
    "\n",
    "pre_obs=np.load(path_out_P+ '/pre_obs.npy')\n",
    "tas_obs=np.load(path_out_T+ '/tas_obs.npy')\n",
    "\n",
    "tas_data_all=np.empty([4,tas_obs.shape[0]-55*12,tas_obs.shape[1],tas_obs.shape[2]])\n",
    "pre_data_all=np.empty([4,pre_obs.shape[0]-55*12,pre_obs.shape[1],pre_obs.shape[2]])\n",
    "\n",
    "\n",
    "\n",
    "giter =0\n",
    "gcm_name = \"CanESM2\"\n",
    "N_esms = 1\n",
    "tas_data_all[giter]=np.load(path_out_T+ '/tas_gcm_fine_'+gcm_name+'.npy')[55*12:,:,:]\n",
    "tas_data_all[giter +N_esms]=np.load(path_out_T+ '/BCSD_outputs_tas_'+gcm_name+'_cru.npy')[55*12:,:,:]\n",
    "\n",
    "tas_gcm=np.load(path_out_T+ '/tas_gcm_future_'+gcm_name+'.npy')[45*12:,:,:]\n",
    "metadata=np.load(path_out_P+ '/pre_metadata'+gcm_name+'.npy', allow_pickle=True)\n",
    "\n",
    "lat_gcm=metadata.item()['lat_gcm']\n",
    "lon_gcm=metadata.item()['lon_gcm']\n",
    "\n",
    "tas_gcm_fine=np.zeros((tas_gcm.shape[0],tas_obs.shape[1],tas_obs.shape[2]))\n",
    "\n",
    "for i in range(tas_gcm.shape[0]):\n",
    "    tas_gcm_fine[i,:,:]=uu.regrid(tas_gcm[i,:,:],lat_gcm,lon_gcm,lat_obs,lon_obs)\n",
    "\n",
    "\n",
    "tas_data_all[giter + 2* N_esms]        = tas_gcm_fine \n",
    "tas_data_all[giter + 3* N_esms] =np.load(path_out_T+ '/future_BCSD_outputs_tas_'+gcm_name+'_cru.npy')[45*12:,:,:] \n",
    "\n",
    "\n",
    "\n",
    "\n",
    "pre_data_all[giter ]=np.load(path_out_P+ '/pre_gcm_fine'+gcm_name+'.npy')[55*12:,:,:]\n",
    "pre_data_all[giter +N_esms]=np.load(path_out_P+ '/BCSD_outputs_pre_'+gcm_name+'_cru.npy')[55*12:,:,:]\n",
    "\n",
    "pre_gcm=np.load(path_out_P+ '/pre_gcm_future_'+gcm_name+'.npy')[45*12:,:,:]\n",
    "metadata=np.load(path_out_P+ '/pre_metadata'+gcm_name+'.npy', allow_pickle=True)\n",
    "\n",
    "lat_gcm=metadata.item()['lat_gcm']\n",
    "lon_gcm=metadata.item()['lon_gcm']\n",
    "\n",
    "pre_gcm_fine=np.zeros((pre_gcm.shape[0],pre_obs.shape[1],pre_obs.shape[2]))\n",
    "\n",
    "for i in range(pre_gcm.shape[0]):\n",
    "    pre_gcm_fine[i,:,:]=uu.regrid(pre_gcm[i,:,:],lat_gcm,lon_gcm,lat_obs,lon_obs)\n",
    "\n",
    "pre_data_all[giter + 2 * N_esms ]= pre_gcm_fine \n",
    "pre_data_all[giter  + 3 * N_esms]=np.load(path_out_P+ '/future_BCSD_outputs_pre_'+gcm_name+'_cru.npy') [45*12:,:,:]\n",
    "\n",
    "        \n",
    "    \n"
   ]
  },
  {
   "cell_type": "code",
   "execution_count": null,
   "metadata": {},
   "outputs": [],
   "source": [
    "plt.figure(figsize =(36,36))\n",
    "for i in range(4):\n",
    "    plt.subplot(6,6,i+1)\n",
    "    plt.pcolor(np.nanmean(pre_data_all[i],axis= 0),cmap='jet',vmax=300)\n",
    "    plt.colorbar()\n",
    "plt.figure(figsize =(36,36))\n",
    "   \n",
    "for i in range(4):\n",
    "    plt.subplot(6,6,i+1)\n",
    "    plt.plot(pre_data_all[i][:100,25,52])\n",
    "    \n"
   ]
  },
  {
   "cell_type": "code",
   "execution_count": null,
   "metadata": {},
   "outputs": [],
   "source": [
    "plt.figure(figsize =(36,36))\n",
    "for i in range(4):\n",
    "    plt.subplot(6,6,i+1)\n",
    "    plt.pcolor(np.nanmean(tas_data_all[i],axis= 0),cmap='jet',vmax=300)\n",
    "    plt.colorbar()\n",
    "plt.figure(figsize =(36,36))\n",
    "   \n",
    "for i in range(4):\n",
    "    plt.subplot(6,6,i+1)\n",
    "    plt.plot(tas_data_all[i][:100,25,52])\n",
    "    \n"
   ]
  },
  {
   "cell_type": "markdown",
   "metadata": {
    "id": "dNtLllLa6FKH",
    "tags": []
   },
   "source": [
    "# SPI"
   ]
  },
  {
   "cell_type": "code",
   "execution_count": null,
   "metadata": {
    "id": "9Z0ixD4843wd"
   },
   "outputs": [],
   "source": [
    "import scipy.stats\n",
    "\n",
    "def calc_spi_nonparam(data):\n",
    "  N=data.shape[0]\n",
    "  index_ts=np.arange(N)  \n",
    "\n",
    "  data_non_zeros=(data[data>0])\n",
    "  index_non_zeros=index_ts[data>0]\n",
    "  N_non_zeros=len(data_non_zeros)\n",
    "  index_sorted=  np.argsort(data_non_zeros)\n",
    "  ranks = np.empty_like(index_sorted)\n",
    "  ranks[index_sorted] = np.arange(N_non_zeros)\n",
    "\n",
    "  p_gringorten=(ranks-0.44)/(N_non_zeros+0.12)\n",
    "  p_g_all=np.zeros_like(data)\n",
    "  p_g_all[data>0]=p_gringorten\n",
    "\n",
    "\n",
    "  count_zeros=(data[data==0].shape[0])\n",
    "  count_total=(data.shape[0])\n",
    "  p_zeros=count_zeros/count_total\n",
    "\n",
    "  cdf2 = p_zeros + (1 - p_zeros) * p_g_all\n",
    "  SPI= scipy.stats.norm.ppf(cdf2)\n",
    "  return SPI\n",
    "\n",
    "\n",
    "\n",
    "# def calc_spi_gamma(data_123,data_pred_123):\n",
    "    \n",
    "    \n",
    "#     data_123 = data_123.reshape((12,-1),order ='F')\n",
    "#     data_pred_123  =data_pred_123.reshape((12,-1),order ='F')\n",
    "#     spi_pred = np.empty_like(data_pred_123)\n",
    "#     for iter_m in range(12):\n",
    "#         data=data_123[iter_m,:]\n",
    "#         data_pred=data_pred_123[iter_m,:]\n",
    "#         data_non_zeros=(data[data<1])\n",
    "#         count_zeros=(data[data<1].shape[0])\n",
    "#         count_total=(data.shape[0])\n",
    "#         p_zeros=count_zeros/count_total\n",
    "\n",
    "#         # print(\"Zeros,Total,p_zeros\",count_zeros,count_total,p_zeros)\n",
    "\n",
    "#         fita,fitloc,fitscale  = scipy.stats.gamma.fit(data_non_zeros,floc=0)\n",
    "\n",
    "#         #   # print(\"Parameters: a,loc,scale:\",fita,fitloc,fitscale)\n",
    "\n",
    "#         #   aleph = np.ma.log(np.mean(data_non_zeros)) - np.log(data_non_zeros).mean(axis=0) \n",
    "#         #   alpha = (1. + np.sqrt(1.+4./3*aleph)) / (4.*aleph)\n",
    "#         #   beta = np.mean(data_non_zeros)/alpha\n",
    "#         #   print(\"alpha,beta\",alpha,beta)\n",
    "        \n",
    "#         print(np.sum(np.isnan(cdf2)))\n",
    "#         cdf2 = p_zeros + (1 - p_zeros) * scipy.stats.gamma.cdf(data_pred, a=fita,loc=fitloc,scale=fitscale)\n",
    "#         print(np.sum(np.isnan(cdf2)))\n",
    "#         spi_pred[iter_m,:] =  scipy.stats.norm.ppf(cdf2)\n",
    "    \n",
    "    \n",
    "#     SPI= spi_pred.flatten(order ='F') \n",
    "#     return SPI\n",
    "\n",
    "\n",
    "\n",
    "\n",
    "    \n",
    "def calc_spi_gamma(data_123,data_pred_123):\n",
    "    \n",
    "    nbins =10\n",
    "    hist_tr = np.histogram(data_123, bins=nbins)\n",
    "    hist_dist_tr = scipy.stats.rv_histogram(hist_tr)\n",
    "    cdf2 = hist_dist_tr.cdf(data_pred_123)\n",
    "    # print(cdf2)\n",
    "    SPI =  scipy.stats.norm.ppf(cdf2)\n",
    "    SPI[SPI<-3]=-3\n",
    "    SPI[SPI>3]=3\n",
    "    \n",
    "    return SPI\n"
   ]
  },
  {
   "cell_type": "code",
   "execution_count": null,
   "metadata": {},
   "outputs": [],
   "source": []
  },
  {
   "cell_type": "code",
   "execution_count": null,
   "metadata": {
    "id": "SpQooYFTZTiw"
   },
   "outputs": [],
   "source": [
    "pre_6_monthly=np.empty([pre_data_all.shape[0],pre_data_all.shape[1]-5,pre_data_all.shape[2],pre_data_all.shape[3]])\n",
    "\n",
    "for i in range(pre_data_all.shape[0]):\n",
    "  pre_6_monthly[i,:,:,:]=(pre_data_all[i,0:-5,:,:]+\n",
    "                          pre_data_all[i,1:-4,:,:]+\n",
    "                          pre_data_all[i,2:-3,:,:]+\n",
    "                          pre_data_all[i,3:-2,:,:]+\n",
    "                          pre_data_all[i,4:-1,:,:]+\n",
    "                          pre_data_all[i,5:,:,:])/6\n"
   ]
  },
  {
   "cell_type": "markdown",
   "metadata": {
    "tags": []
   },
   "source": [
    "# Calculate delta "
   ]
  },
  {
   "cell_type": "code",
   "execution_count": null,
   "metadata": {
    "id": "pKjanX3mUqii"
   },
   "outputs": [],
   "source": [
    "import copy\n",
    "N_datasets = 2\n",
    "N_esms = 1\n",
    "dalta_tas_all =np.zeros((2,N1,N2))\n",
    "delta_spi_all  =np.zeros((2,N1,N2))\n",
    "delta_tas_spi_all  =np.zeros((2,N1,N2))\n",
    "\n",
    "\n",
    "\n",
    "for diter in tqdm(range(N_datasets)):\n",
    "\n",
    "    data_precipitation_all = pre_data_all[diter]\n",
    "    data_temperature_all = tas_data_all[diter]\n",
    "    \n",
    "    data_precipitation_all_future = pre_data_all[diter+2]\n",
    "    data_temperature_all_future = tas_data_all[diter+2]\n",
    "    \n",
    "    \n",
    "\n",
    "\n",
    "    for n1 in range(N1):\n",
    "        for n2 in range(N2):\n",
    "        \n",
    "            precipitation_data = data_precipitation_all[:,n1,n2]\n",
    "            temperature_data  = data_temperature_all[:,n1,n2]\n",
    "            \n",
    "            precipitation_data[np.isnan(precipitation_data)] = 0\n",
    "\n",
    "            precipitation_data_future = data_precipitation_all_future[:,n1,n2]\n",
    "            temperature_data_future  = data_temperature_all_future[:,n1,n2]\n",
    "\n",
    "            precipitation_data_future[np.isnan(precipitation_data_future)] = 0\n",
    "\n",
    "            pre_6_monthly=copy.deepcopy(precipitation_data)\n",
    "            pre_6_monthly[3:-2]  =   (precipitation_data[0:-5]+\n",
    "                                      precipitation_data[1:-4]+\n",
    "                                      precipitation_data[2:-3]+\n",
    "                                      precipitation_data[3:-2]+\n",
    "                                      precipitation_data[4:-1]+\n",
    "                                      precipitation_data[5:])/6\n",
    "\n",
    "            pre_6_monthly_future=copy.deepcopy(precipitation_data_future)\n",
    "            pre_6_monthly_future[3:-2]  =   (precipitation_data_future[0:-5]+\n",
    "                                      precipitation_data_future[1:-4]+\n",
    "                                      precipitation_data_future[2:-3]+\n",
    "                                      precipitation_data_future[3:-2]+\n",
    "                                      precipitation_data_future[4:-1]+\n",
    "                                      precipitation_data_future[5:])/6\n",
    "    #         print(precipitation_data)\n",
    "    #         print(precipitation_data_future)\n",
    "\n",
    "    #         print(np.max(SPI_monthly_np),np.min(SPI_monthly_np),)\n",
    "    #         print(np.max(SPI_monthly_np_future),np.min(SPI_monthly_np_future),)\n",
    "    #         print(np.max(precipitation_data_future),np.min(precipitation_data_future),)\n",
    "    #         print(np.max(precipitation_data),np.min(precipitation_data),)\n",
    "    #         print(np.max(temperature_data_future),np.min(temperature_data_future),)\n",
    "    #         print(np.max(temperature_data),np.min(temperature_data),)\n",
    "\n",
    "\n",
    "            SPI_monthly_np=calc_spi_gamma(pre_6_monthly.flatten(),pre_6_monthly.flatten())\n",
    "            SPI_monthly_np_future=calc_spi_gamma(pre_6_monthly.flatten(),pre_6_monthly_future.flatten())\n",
    "\n",
    "            tp0=temperature_data\n",
    "            tp1=temperature_data_future\n",
    "\n",
    "            delta_tas = np.mean(tp1,axis=0)  -  np.mean(tp0,axis=0)\n",
    "            # print(delta_tas)\n",
    "            spi0=SPI_monthly_np\n",
    "            spi1=SPI_monthly_np_future\n",
    "\n",
    "\n",
    "            d__02=np.all(np.array([spi0<=-0.8]),axis=0).sum()\n",
    "            d__12=np.all(np.array([spi1<=-0.8]),axis=0).sum()\n",
    "\n",
    "            delta_spi_freq = (d__12)/(SPI_monthly_np.shape[0]/12)-(d__02)/(SPI_monthly_np_future.shape[0]/12)\n",
    "\n",
    "            tas_d1_p0=np.nanmean(tp0[np.all(np.array([spi0<=-0.8]),axis=0)])\n",
    "            tas_d1_p1=np.nanmean(tp1[np.all(np.array([spi1<=-0.8]),axis=0)])\n",
    "\n",
    "            delta_tas_d1  =   tas_d1_p1    -  tas_d1_p0\n",
    "\n",
    "\n",
    "            dalta_tas_all[diter][n1,n2] = delta_tas\n",
    "            delta_spi_all[diter][n1,n2] = delta_spi_freq\n",
    "            delta_tas_spi_all[diter][n1,n2] = delta_tas_d1\n"
   ]
  },
  {
   "cell_type": "markdown",
   "metadata": {
    "id": "AR-tzKkfoirQ",
    "tags": []
   },
   "source": [
    "# Plotting change"
   ]
  },
  {
   "cell_type": "markdown",
   "metadata": {
    "tags": []
   },
   "source": [
    "## Creating mask"
   ]
  },
  {
   "cell_type": "code",
   "execution_count": null,
   "metadata": {
    "colab": {
     "base_uri": "https://localhost:8080/",
     "height": 227
    },
    "executionInfo": {
     "elapsed": 6265,
     "status": "ok",
     "timestamp": 1640352987461,
     "user": {
      "displayName": "Vikram Singh Chandel",
      "photoUrl": "https://lh3.googleusercontent.com/a/default-user=s64",
      "userId": "07964427013125611178"
     },
     "user_tz": -330
    },
    "id": "BuEYZFH1HIi4",
    "outputId": "0a34c875-2aa6-469c-c555-79671d991702"
   },
   "outputs": [],
   "source": [
    "\n",
    "fo=gpd.read_file('/home/vikram/BCSD_Shapefiles/Us_boundary.shp')\n",
    "fo.plot()\n",
    "shp_geom = shape(fo.geometry[0])\n",
    "\n",
    "xxc, yyc = np.meshgrid(lon_obs.data-360,lat_obs.data)\n",
    "mask_shape=np.empty_like(xxc)\n",
    "\n",
    "N1=xxc.shape[0]\n",
    "N2=xxc.shape[1]\n",
    "for lat_i in range(N1):\n",
    "  for lon_i in range(N2):\n",
    "    xi=xxc[lat_i,lon_i]\n",
    "    yi=yyc[lat_i,lon_i]\n",
    "    m1= (shp_geom.contains(Point(xi, yi)) or shp_geom.touches(Point(xi, yi)))\n",
    "    mask_shape[lat_i,lon_i]=not m1\n"
   ]
  },
  {
   "cell_type": "markdown",
   "metadata": {
    "id": "pRK32wbVCinr",
    "tags": []
   },
   "source": [
    "## Figure 5"
   ]
  },
  {
   "cell_type": "code",
   "execution_count": null,
   "metadata": {
    "id": "bXodl9vxdnOr"
   },
   "outputs": [],
   "source": [
    "def map_plot_cyl_final(data_lat_x_lon,lat_cen,lon_cen,map_bounds,clab,y_limit,ax,mp_spacing=10,subplot_iter=1,loff=1,coff=1,ex='both'):\n",
    "\n",
    "  lat_box=uu.cen_to_box(lat_cen)\n",
    "  lon_box=uu.cen_to_box(lon_cen)\n",
    "\n",
    "  map = Basemap(projection='cyl',resolution='l',\n",
    "                llcrnrlon=map_bounds[0], \n",
    "                urcrnrlat=map_bounds[1],\n",
    "                urcrnrlon=map_bounds[2], \n",
    "                llcrnrlat=map_bounds[3])\n",
    "\n",
    "\n",
    "  xx, yy = meshgrid(lon_box,lat_box )\n",
    "  #return  dimenion of lat * lon\n",
    "  map.pcolor(xx, yy, data_lat_x_lon,cmap='RdBu_r')\n",
    "  map.drawmeridians(np.arange(-180,180,mp_spacing),labels=[0,0,0,1], linewidth=1.0) #longitudes\n",
    "  if loff==0:\n",
    "    map.drawparallels(np.arange(-90,90,mp_spacing),labels=[1,0,0,0], linewidth=1.0) #latitudes\n",
    "  else:\n",
    "    map.drawparallels(np.arange(-90,90,mp_spacing),labels=[0,0,0,0], linewidth=1.0) #latitudes\n",
    "  cbar = map.colorbar(extend=ex)\n",
    "  #cbar.ax.set_yticklabels(['0','1','2','>3'])\n",
    "  cbar.set_label(clab, rotation=90)\n",
    "  plt.clim(y_limit)\n",
    "\n",
    "  if coff==1:\n",
    "    cbar.remove()\n",
    "\n",
    "  #map.drawcountries(linewidth=1)\n",
    "  map.readshapefile('/home/vikram/BCSD_Shapefiles/Us_boundary','UU',linewidth=2.0)\n",
    "\n",
    "  map.drawcoastlines(linewidth=1)\n",
    "  lxx=0.02\n",
    "  lyy=1.02\n",
    "  lcol='k'\n",
    "  lsize=24\n",
    "  lfamily='Arial'\n",
    "  lweight=800\n",
    " # y_limit=[0,30]\n",
    "  #clab='days'\n",
    "  \n",
    "  plt.text(lxx, lyy, chr(subplot_iter+96), horizontalalignment='left',verticalalignment='bottom', transform=ax.transAxes,fontweight=lweight,\n",
    "           fontfamily=lfamily,fontsize=lsize,color=lcol)"
   ]
  },
  {
   "cell_type": "code",
   "execution_count": null,
   "metadata": {
    "colab": {
     "base_uri": "https://localhost:8080/",
     "height": 431
    },
    "executionInfo": {
     "elapsed": 23774,
     "status": "ok",
     "timestamp": 1640362930171,
     "user": {
      "displayName": "Vikram Singh Chandel",
      "photoUrl": "https://lh3.googleusercontent.com/a/default-user=s64",
      "userId": "07964427013125611178"
     },
     "user_tz": -330
    },
    "id": "kz-SnTyXCiWm",
    "outputId": "04165471-752e-4314-f375-1b340f289ba9"
   },
   "outputs": [],
   "source": [
    "data_bounds=[ -125, 50, -70, 25]\n",
    "gcm_iter=1\n",
    "Dl=[0,1,2,3]\n",
    "gcm_name=gcm_names[gcm_iter]\n",
    "dapa=[dalta_tas_all[0,:,:],\n",
    "  dalta_tas_all[1,:,:],\n",
    "  delta_spi_all[0,:,:],\n",
    "  delta_spi_all[1,:,:],\n",
    "  delta_tas_spi_all[0,:,:],\n",
    "  delta_tas_spi_all[1,:,:],]\n",
    "\n",
    "y_limits=[[-1.5,1.5],\n",
    "         [-1.5,1.5]]\n",
    "\n",
    "y_limits=[[0,8],\n",
    "         [-2,2],[0,8]]\n",
    "\n",
    "\n",
    "lofff=[0,1,1,1,0,1,1,1,0,1,1,1]\n",
    "cofff=[1,1,1,0,1,1,1,0,1,1,1,0]\n",
    "titlesx=[\"CC\",\"BCSD CC\"]\n",
    "titlesy=['$\\Delta$T','$\\Delta_{freq}$D1','$\\Delta$T|D1']\n",
    "labels=['$\\degree$C','drought months/year','$\\degree$C']\n",
    "\n",
    "ex='both'\n",
    "fig=plt.figure(figsize=(10,8))\n",
    "\n",
    "for rr in range(3):\n",
    "  for cc in range(2):\n",
    "    iter1=rr*2+cc\n",
    "    iter2=rr*3+cc\n",
    "    ax=plt.subplot(3,2,iter1+1)\n",
    "      \n",
    "    #plt.pcolor(ma.masked_array(dapa[rr*4+cc], mask=mask))\n",
    "    map_plot_cyl_final(ma.masked_array(dapa[iter1], mask=mask_shape),\n",
    "                       lat_obs,lon_obs-360,data_bounds,labels[rr],y_limits[rr],\n",
    "                       ax,mp_spacing=10,subplot_iter=iter1+1,loff=lofff[iter1],\n",
    "                       coff=0,ex=ex)\n",
    "    plt.title(titlesx[cc])\n",
    "\n",
    "\n",
    "fig.text(0.08, 0.78, titlesy[0], va='center', ha='center', rotation='vertical', fontsize=16)\n",
    "fig.text(0.08, 0.5, titlesy[1], va='center', ha='center', rotation='vertical', fontsize=16)\n",
    "fig.text(0.08, 0.25, titlesy[2], va='center', ha='center', rotation='vertical', fontsize=16)\n",
    "# plt.savefig('/home/vikram/Dropbox/BCSD Work/03_Figures/Figures/Figure5/with_std_extended_'+gcm_name+output_figname+'.svg',\n",
    "#            facecolor = 'w')\n",
    "\n",
    "# plt.savefig('/home/vikram/Dropbox/BCSD Work/03_Figures/Figure_new_auroop/Figure3/future_part_1_with_std_extended_'+gcm_name+output_figname+'.svg',\n",
    "#            facecolor = 'w')\n",
    "\n"
   ]
  },
  {
   "cell_type": "code",
   "execution_count": null,
   "metadata": {
    "id": "EMDA0mB4EKCS"
   },
   "outputs": [],
   "source": [
    "\n",
    "period_0=[1902,1951] # ind1=(period_0[0]-st)*12 ++ ind2=(period_0[1]-st+1)*12\n",
    "period_1=[1956,2005] # ind1=(period_1[0]-st)*12 ++ ind2=(period_1[1]-st+1)*12\n",
    "N1=tas_data_all.shape[2]\n",
    "N2=tas_data_all.shape[3]\n",
    "## OBS  ##\n",
    "tas_period_0=np.zeros([tas_data_all.shape[0],50*12,N1,N2])\n",
    "tas_period_1=np.zeros([tas_data_all.shape[0],50*12,N1,N2])\n",
    "delta_tas=np.zeros([tas_data_all.shape[0],N1,N2])\n",
    "spi_period_0=np.zeros([SPI_monthly_np.shape[0],50*12,N1,N2])\n",
    "spi_period_1=np.zeros([SPI_monthly_np.shape[0],50*12,N1,N2])\n",
    "\n",
    "for i in range(4):\n",
    "  tas_period_0[i,:,:,:]=tas_data_all[i,(period_0[0]-st)*12:(period_0[1]-st+1)*12,:,:]\n",
    "  tas_period_1[i,:,:,:]=tas_data_all[i,(period_1[0]-st)*12:(period_1[1]-st+1)*12,:,:]\n",
    "  t0=tas_period_0[i,:,:,:]\n",
    "  t1=tas_period_1[i,:,:,:]\n",
    "  \n",
    "  #print(t0.shape,t1.shape)\n",
    "\n",
    "  mean_tas_period_0=np.mean(t0,axis=0)\n",
    "  mean_tas_period_1=np.mean(t1,axis=0)\n",
    "  #print(mean_tas_period_0.shape,mean_tas_period_1.shape)\n",
    "\n",
    "  delta_tas[i,:,:]=mean_tas_period_1-mean_tas_period_0\n",
    "  #print(delta_tas.shape)\n",
    "\n",
    "  spi_period_0[i,:,:,:]=SPI_monthly_np[i,(period_0[0]-st)*12-5:(period_0[1]-st+1)*12-5,:,:]\n",
    "  spi_period_1[i,:,:,:]=SPI_monthly_np[i,(period_1[0]-st)*12-5:(period_1[1]-st+1)*12-5,:,:]\n",
    "\n",
    "  #print(spi_period_0.shape)\n",
    "  #print(spi_period_1.shape)\n",
    "\n"
   ]
  },
  {
   "cell_type": "code",
   "execution_count": null,
   "metadata": {
    "id": "pKjanX3mUqii"
   },
   "outputs": [],
   "source": [
    "delta_tas_d0=np.zeros((13,N1,N2))\n",
    "delta_tas_d1=np.zeros((13,N1,N2))\n",
    "\n",
    "delta_spi_freq_sp1=np.zeros((13,N1,N2))\n",
    "delta_spi_freq_sp2=np.zeros((13,N1,N2))\n",
    "delta_spi_freq_sp3=np.zeros((13,N1,N2))\n",
    "\n",
    "for i in tqdm(range(4)):\n",
    "  for n1 in range(N1):\n",
    "    for n2 in range(N2):\n",
    "\n",
    "      spi0=spi_period_0[i,:,n1,n2]\n",
    "      spi1=spi_period_1[i,:,n1,n2]\n",
    "\n",
    "      tp0=tas_period_0[i,:,n1,n2]\n",
    "      tp1=tas_period_1[i,:,n1,n2]\n",
    "\n",
    "      tas_d0_p0=np.nanmean(tp0[np.all(np.array([spi0<=-0.5]),axis=0)])\n",
    "      tas_d1_p0=np.nanmean(tp0[np.all(np.array([spi0<=-0.8]),axis=0)])\n",
    "\n",
    "      tas_d0_p1=np.nanmean(tp1[np.all(np.array([spi1<=-0.5]),axis=0)])\n",
    "      tas_d1_p1=np.nanmean(tp1[np.all(np.array([spi1<=-0.8]),axis=0)])\n",
    "      \n",
    "      d__01=np.all(np.array([spi0<=-0.5]),axis=0).sum()\n",
    "      d__02=np.all(np.array([spi0<=-0.8]),axis=0).sum()\n",
    "      d__03=np.all(np.array([spi0<=-1.3]),axis=0).sum()\n",
    "      \n",
    "      d__11=np.all(np.array([spi1<=-0.5]),axis=0).sum()\n",
    "      d__12=np.all(np.array([spi1<=-0.8]),axis=0).sum()\n",
    "      d__13=np.all(np.array([spi1<=-1.3]),axis=0).sum()\n",
    "\n",
    "      del_spi_1=(d__11-d__01)/50\n",
    "      del_spi_2=(d__12-d__02)/50\n",
    "      del_spi_3=(d__13-d__03)/50\n",
    "      \n",
    "      delta_spi_freq_sp1[i,n1,n2]=del_spi_1\n",
    "      delta_spi_freq_sp2[i,n1,n2]=del_spi_2\n",
    "      delta_spi_freq_sp3[i,n1,n2]=del_spi_3\n",
    "\n",
    "      delta_tas_d0[i,n1,n2]=tas_d0_p1-tas_d0_p0\n",
    "      delta_tas_d1[i,n1,n2]=tas_d1_p1-tas_d1_p0\n"
   ]
  },
  {
   "cell_type": "code",
   "execution_count": null,
   "metadata": {},
   "outputs": [],
   "source": []
  },
  {
   "cell_type": "markdown",
   "metadata": {
    "id": "AR-tzKkfoirQ",
    "tags": []
   },
   "source": [
    "# Plotting change"
   ]
  },
  {
   "cell_type": "markdown",
   "metadata": {
    "tags": []
   },
   "source": [
    "## Creating mask"
   ]
  },
  {
   "cell_type": "code",
   "execution_count": null,
   "metadata": {
    "colab": {
     "base_uri": "https://localhost:8080/",
     "height": 227
    },
    "executionInfo": {
     "elapsed": 6265,
     "status": "ok",
     "timestamp": 1640352987461,
     "user": {
      "displayName": "Vikram Singh Chandel",
      "photoUrl": "https://lh3.googleusercontent.com/a/default-user=s64",
      "userId": "07964427013125611178"
     },
     "user_tz": -330
    },
    "id": "BuEYZFH1HIi4",
    "outputId": "0a34c875-2aa6-469c-c555-79671d991702"
   },
   "outputs": [],
   "source": [
    "\n",
    "fo=gpd.read_file('/home/vikram/BCSD_Shapefiles/Us_boundary.shp')\n",
    "fo.plot()\n",
    "shp_geom = shape(fo.geometry[0])\n",
    "\n",
    "xxc, yyc = np.meshgrid(lon_obs.data-360,lat_obs.data)\n",
    "mask_shape=np.empty_like(xxc)\n",
    "\n",
    "N1=xxc.shape[0]\n",
    "N2=xxc.shape[1]\n",
    "for lat_i in range(N1):\n",
    "  for lon_i in range(N2):\n",
    "    xi=xxc[lat_i,lon_i]\n",
    "    yi=yyc[lat_i,lon_i]\n",
    "    m1= (shp_geom.contains(Point(xi, yi)) or shp_geom.touches(Point(xi, yi)))\n",
    "    mask_shape[lat_i,lon_i]=not m1\n"
   ]
  },
  {
   "cell_type": "markdown",
   "metadata": {
    "id": "pRK32wbVCinr",
    "tags": []
   },
   "source": [
    "## Figure 5"
   ]
  },
  {
   "cell_type": "code",
   "execution_count": null,
   "metadata": {
    "id": "bXodl9vxdnOr"
   },
   "outputs": [],
   "source": [
    "def map_plot_cyl_final(data_lat_x_lon,lat_cen,lon_cen,map_bounds,clab,y_limit,ax,mp_spacing=10,subplot_iter=1,loff=1,coff=1,ex='both'):\n",
    "\n",
    "  lat_box=uu.cen_to_box(lat_cen)\n",
    "  lon_box=uu.cen_to_box(lon_cen)\n",
    "\n",
    "  map = Basemap(projection='cyl',resolution='l',\n",
    "                llcrnrlon=map_bounds[0], \n",
    "                urcrnrlat=map_bounds[1],\n",
    "                urcrnrlon=map_bounds[2], \n",
    "                llcrnrlat=map_bounds[3])\n",
    "\n",
    "\n",
    "  xx, yy = meshgrid(lon_box,lat_box )\n",
    "  #return  dimenion of lat * lon\n",
    "  map.pcolor(xx, yy, data_lat_x_lon,cmap='RdBu_r')\n",
    "  map.drawmeridians(np.arange(-180,180,mp_spacing),labels=[0,0,0,1], linewidth=1.0) #longitudes\n",
    "  if loff==0:\n",
    "    map.drawparallels(np.arange(-90,90,mp_spacing),labels=[1,0,0,0], linewidth=1.0) #latitudes\n",
    "  else:\n",
    "    map.drawparallels(np.arange(-90,90,mp_spacing),labels=[0,0,0,0], linewidth=1.0) #latitudes\n",
    "  cbar = map.colorbar(extend=ex)\n",
    "  #cbar.ax.set_yticklabels(['0','1','2','>3'])\n",
    "  cbar.set_label(clab, rotation=90)\n",
    "  plt.clim(y_limit)\n",
    "\n",
    "  if coff==1:\n",
    "    cbar.remove()\n",
    "\n",
    "  #map.drawcountries(linewidth=1)\n",
    "  map.readshapefile('/home/vikram/BCSD_Shapefiles/Us_boundary','UU',linewidth=2.0)\n",
    "\n",
    "  map.drawcoastlines(linewidth=1)\n",
    "  lxx=0.02\n",
    "  lyy=1.02\n",
    "  lcol='k'\n",
    "  lsize=24\n",
    "  lfamily='Arial'\n",
    "  lweight=800\n",
    " # y_limit=[0,30]\n",
    "  #clab='days'\n",
    "  \n",
    "  plt.text(lxx, lyy, chr(subplot_iter+96), horizontalalignment='left',verticalalignment='bottom', transform=ax.transAxes,fontweight=lweight,\n",
    "           fontfamily=lfamily,fontsize=lsize,color=lcol)"
   ]
  },
  {
   "cell_type": "code",
   "execution_count": null,
   "metadata": {
    "colab": {
     "base_uri": "https://localhost:8080/",
     "height": 431
    },
    "executionInfo": {
     "elapsed": 23774,
     "status": "ok",
     "timestamp": 1640362930171,
     "user": {
      "displayName": "Vikram Singh Chandel",
      "photoUrl": "https://lh3.googleusercontent.com/a/default-user=s64",
      "userId": "07964427013125611178"
     },
     "user_tz": -330
    },
    "id": "kz-SnTyXCiWm",
    "outputId": "04165471-752e-4314-f375-1b340f289ba9"
   },
   "outputs": [],
   "source": [
    "data_bounds=[ -125, 50, -70, 25]\n",
    "gcm_iter=1\n",
    "Dl=[0,1,2,3]\n",
    "gcm_name=gcm_names[gcm_iter]\n",
    "dapa=[delta_tas[0,:,:],\n",
    "  delta_tas[1,:,:],\n",
    "  delta_tas[3,:,:],\n",
    "  delta_tas[2,:,:],\n",
    "  delta_spi_freq_sp2[0,:,:],\n",
    "  delta_spi_freq_sp2[1,:,:],\n",
    "  delta_spi_freq_sp2[3,:,:],\n",
    "  delta_spi_freq_sp2[2,:,:],\n",
    "  delta_tas_d1[0,:,:],\n",
    "  delta_tas_d1[1,:,:],\n",
    "  delta_tas_d1[3,:,:],\n",
    "  delta_tas_d1[2,:,:]]\n",
    "y_limits=[[-1.5,1.5],\n",
    "         [-1.5,1.5],\n",
    "         [-1.5,1.5]]\n",
    "\n",
    "y_limits=[[-3,3],\n",
    "         [-3,3],\n",
    "         [-3,3]]\n",
    "\n",
    "\n",
    "lofff=[0,1,1,1,0,1,1,1,0,1,1,1]\n",
    "cofff=[1,1,1,0,1,1,1,0,1,1,1,0]\n",
    "titlesx=['Observation','Raw '+gcm_name,'Standardisation '+gcm_name,'BCSD '+gcm_name]\n",
    "titlesy=['$\\Delta$T','$\\Delta_{freq}$D1','$\\Delta$T|D1']\n",
    "labels=['$\\degree$C','drought months/year','$\\degree$C']\n",
    "\n",
    "ex='both'\n",
    "fig=plt.figure(figsize=(20,8))\n",
    "\n",
    "for rr in range(3):\n",
    "  for cc in range(4):\n",
    "    iter1=rr*4+cc\n",
    "    iter2=rr*3+cc\n",
    "    ax=plt.subplot(3,4,iter1+1)\n",
    "    #plt.pcolor(ma.masked_array(dapa[rr*4+cc], mask=mask))\n",
    "    map_plot_cyl_final(ma.masked_array(dapa[iter1], mask=mask_shape),\n",
    "                       lat_obs,lon_obs-360,data_bounds,labels[rr],y_limits[rr],\n",
    "                       ax,mp_spacing=10,subplot_iter=iter1+1,loff=lofff[iter1],\n",
    "                       coff=cofff[iter1],ex=ex)\n",
    "    plt.title(titlesx[cc])\n",
    "\n",
    "\n",
    "fig.text(0.08, 0.78, titlesy[0], va='center', ha='center', rotation='vertical', fontsize=16)\n",
    "fig.text(0.08, 0.5, titlesy[1], va='center', ha='center', rotation='vertical', fontsize=16)\n",
    "fig.text(0.08, 0.25, titlesy[2], va='center', ha='center', rotation='vertical', fontsize=16)\n",
    "# plt.savefig('/home/vikram/Dropbox/BCSD Work/03_Figures/Figures/Figure5/with_std_extended_'+gcm_name+output_figname+'.svg',\n",
    "#            facecolor = 'w')\n",
    "\n",
    "plt.savefig('/home/vikram/Dropbox/BCSD Work/03_Figures/Figure_new_auroop/Figure3/future_part_1_with_std_extended_'+gcm_name+output_figname+'.svg',\n",
    "           facecolor = 'w')\n",
    "\n"
   ]
  },
  {
   "cell_type": "code",
   "execution_count": null,
   "metadata": {
    "colab": {
     "base_uri": "https://localhost:8080/",
     "height": 525
    },
    "executionInfo": {
     "elapsed": 6714,
     "status": "ok",
     "timestamp": 1640230957895,
     "user": {
      "displayName": "Vikram Singh Chandel",
      "photoUrl": "https://lh3.googleusercontent.com/a/default-user=s64",
      "userId": "07964427013125611178"
     },
     "user_tz": -330
    },
    "id": "e6Bgpglu6ueG",
    "outputId": "f495a1c9-0021-4f2d-8d92-1d8c39003d53"
   },
   "outputs": [],
   "source": [
    "gcm_iter=3\n",
    "Dl=[0,1+gcm_iter,5+gcm_iter,9+gcm_iter]\n",
    "gcm_name=gcm_names[gcm_iter]\n",
    "dapa=[delta_tas_d1[Dl[0],:,:],\n",
    "  delta_tas_d1[Dl[1],:,:],\n",
    "  delta_tas_d1[Dl[2],:,:],\n",
    "  delta_tas_d1[Dl[3],:,:]]\n",
    "\n",
    "y_limit=[-1.5,1.5]\n",
    "labels=['$\\degree$C']\n",
    "lofff=[0,1,0,1]\n",
    "cofff=[0,0,0,0]\n",
    "titlesx=['Observation','Raw '+gcm_name,'BCSD '+gcm_name,'BCSD Random']\n",
    "titlesy=['$\\Delta$T|D1']\n",
    "ex='both'\n",
    "fig=plt.figure(figsize=(16,8))\n",
    "\n",
    "for rr in range(2):\n",
    "  for cc in range(2):\n",
    "    iter=rr*2+cc\n",
    "    ax=plt.subplot(2,2,iter+1)\n",
    "    #plt.pcolor(ma.masked_array(dapa[rr*4+cc], mask=mask))\n",
    "    map_plot_cyl_final(ma.masked_array(dapa[iter], mask=mask_shape),lat_obs,lon_obs-360,data_bounds,labels[0],y_limits[0],ax,mp_spacing=10,subplot_iter=iter+1,loff=lofff[iter],coff=cofff[iter],ex=ex)\n",
    "    plt.title(titlesx[iter])\n",
    "\n",
    "\n",
    "fig.text(0.08, 0.5, titlesy[0], va='center', ha='center', rotation='vertical', fontsize=16)\n",
    "fig.suptitle(gcm_name)\n",
    "plt.savefig('/content/drive/MyDrive/Figures/Figure5/brief_'+gcm_name+'.svg')"
   ]
  },
  {
   "cell_type": "code",
   "execution_count": null,
   "metadata": {
    "id": "zbaPqgwUUppJ"
   },
   "outputs": [],
   "source": [
    "data_bounds=[ 360-125, 50, 360-70, 25]\n",
    "\n",
    "lab_list=['Obs','GCM0*','GCM1*','GCM2*','GCM3*','BCSD-GCM0','BCSD-GCM1','BCSD-GCM2','BCSD-GCM3','BCSD-RND0','BCSD-RND1','BCSD-RND2','BCSD-RND3']\n",
    "lweight=500\n",
    "lsize=20\n",
    "lcol='k'\n",
    "sx=1\n",
    "sy=3\n",
    "fig=plt.figure(figsize=(25,60))\n",
    "ylim=[250,330]\n",
    "for ii in range(sx):\n",
    "  ind=ii*3\n",
    "  ax=plt.subplot(sx,sy,ii*3+1)\n",
    "  map_plot_cyl_change(delta_tas[ii],lat_obs,lon_obs,data_bounds,'',ylim,ax,mp_spacing=10,subplot_iter=ii+1,loff=(ind+1)%3,coff=(ind+1)%3)\n",
    "  plt.title(lab_list[ii]+': $\\Delta$T',fontweight=lweight,fontsize=lsize,color=lcol)\n",
    "\n",
    "  ind=ii*3+1\n",
    "  ax=plt.subplot(sx,sy,ii*3+1+1) \n",
    "  tt0=tas_period_0[ii,:,:,:]\n",
    "\n",
    "  map_plot_cyl_change(tt0[0,:,:],lat_obs,lon_obs,data_bounds,'',ylim,ax,mp_spacing=10,subplot_iter=ii+1,loff=(ind+1)%3,coff=(ind+1)%3)\n",
    "  plt.title(lab_list[ii]+': $\\Delta$T|D0',fontweight=lweight,fontsize=lsize,color=lcol)\n",
    "  ind=ii*3+1\n",
    "  tt1=tas_period_1[ii,:,:,:]\n",
    "  ax=plt.subplot(sx,sy,ii*3+2+1)\n",
    "  map_plot_cyl_change(np.nanmean(tt1,axis=0),lat_obs,lon_obs,data_bounds,'',ylim,ax,mp_spacing=10,subplot_iter=ii+1,loff=(ind+1)%3,coff=(ind+1)%3)\n",
    "  plt.title(lab_list[ii]+': $\\Delta$T|D1',fontweight=lweight,fontsize=lsize,color=lcol)\n",
    "\n",
    "plt.suptitle(\"Change in Annual Mean: (1902-1951) to (1955-2005)\",fontsize=24,color='k')\n",
    "\n"
   ]
  },
  {
   "cell_type": "code",
   "execution_count": null,
   "metadata": {
    "id": "F6A21QiCWBnw"
   },
   "outputs": [],
   "source": [
    "data_bounds=[ 360-125, 50, 360-70, 25]\n",
    "\n",
    "lab_list=['Obs','GCM0*','GCM1*','GCM2*','GCM3*','BCSD-GCM0','BCSD-GCM1','BCSD-GCM2','BCSD-GCM3','BCSD-RND0','BCSD-RND1','BCSD-RND2','BCSD-RND3']\n",
    "lweight=500\n",
    "lsize=20\n",
    "lcol='k'\n",
    "sx=13\n",
    "sy=3\n",
    "fig=plt.figure(figsize=(25,60))\n",
    "ylim=[250,330]\n",
    "for ii in range(sx):\n",
    "  ind=ii*3\n",
    "  ax=plt.subplot(sx,sy,ii*3+1)\n",
    "  map_plot_cyl_change(delta_tas[ii],lat_obs,lon_obs,data_bounds,'',ylim,ax,mp_spacing=10,subplot_iter=ind+1,loff=(ind+1)%3,coff=(ind+1)%3)\n",
    "  plt.title(lab_list[ii]+': $\\Delta$T',fontweight=lweight,fontsize=lsize,color=lcol)\n",
    "\n",
    "  ind=ii*3+1\n",
    "  ax=plt.subplot(sx,sy,ii*3+1+1) \n",
    "  tt0=spi_period_0[ii,:,:,:]\n",
    "\n",
    "  map_plot_cyl_change(tt0[0,:,:],lat_obs,lon_obs,data_bounds,'',ylim,ax,mp_spacing=10,subplot_iter=ind+1,loff=(ind+1)%3,coff=(ind+1)%3)\n",
    "  plt.title(lab_list[ii]+': $\\Delta$T|D0',fontweight=lweight,fontsize=lsize,color=lcol)\n",
    "  ind=ii*3+2\n",
    "  tt1=spi_period_1[ii,:,:,:]\n",
    "  ax=plt.subplot(sx,sy,ii*3+2+1)\n",
    "  map_plot_cyl_change(np.nanmean(tt1,axis=0),lat_obs,lon_obs,data_bounds,'',ylim,ax,mp_spacing=10,subplot_iter=ind+1,loff=(ind+1)%3,coff=(ind+1)%3)\n",
    "  plt.title(lab_list[ii]+': $\\Delta$T|D1',fontweight=lweight,fontsize=lsize,color=lcol)\n",
    "\n",
    "plt.suptitle(\"Change in Annual Mean: (1902-1951) to (1955-2005)\",fontsize=24,color='k')\n",
    "\n"
   ]
  }
 ],
 "metadata": {
  "colab": {
   "authorship_tag": "ABX9TyNb7pWGij0vh3peVDqVqqu/",
   "collapsed_sections": [
    "YCuW1uxzkvhj",
    "rW-O5gHB_ozZ",
    "9MGiFJ8WtzQY",
    "pWMY5hi98Ief",
    "amLp3GdOnFz2",
    "dNtLllLa6FKH",
    "AR-tzKkfoirQ",
    "fOKxzAVTxwkf"
   ],
   "mount_file_id": "1Hc_hX_fu8cx8C7RIv07t6vt_6jaMV0c6",
   "name": "Figure 5.ipynb",
   "provenance": [
    {
     "file_id": "1R87Z8gZrwK8rXFmacCSUg_UYk7GAmdp3",
     "timestamp": 1628259240200
    }
   ]
  },
  "kernelspec": {
   "display_name": "Python 3 (ipykernel)",
   "language": "python",
   "name": "python3"
  },
  "language_info": {
   "codemirror_mode": {
    "name": "ipython",
    "version": 3
   },
   "file_extension": ".py",
   "mimetype": "text/x-python",
   "name": "python",
   "nbconvert_exporter": "python",
   "pygments_lexer": "ipython3",
   "version": "3.9.12"
  }
 },
 "nbformat": 4,
 "nbformat_minor": 4
}
