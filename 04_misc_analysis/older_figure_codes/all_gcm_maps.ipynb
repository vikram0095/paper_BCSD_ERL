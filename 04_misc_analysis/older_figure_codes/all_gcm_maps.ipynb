{
 "cells": [
  {
   "cell_type": "code",
   "execution_count": null,
   "metadata": {
    "executionInfo": {
     "elapsed": 416,
     "status": "ok",
     "timestamp": 1655100642669,
     "user": {
      "displayName": "Vikram Singh Chandel",
      "userId": "07964427013125611178"
     },
     "user_tz": -330
    },
    "id": "fKd-tcXtK_Tj"
   },
   "outputs": [],
   "source": [
    "import utility_module_2_v_3 as uu\n",
    "import numpy as np\n",
    "import matplotlib.pyplot as plt\n",
    "import numpy.ma as ma\n",
    "from numpy import meshgrid\n",
    "\n",
    "from geopy.geocoders import Nominatim\n",
    "from tqdm import tqdm\n",
    "import indices_no_leap as ii"
   ]
  },
  {
   "cell_type": "markdown",
   "metadata": {
    "id": "UENTQsfuNKEn"
   },
   "source": [
    "# Figure 3"
   ]
  },
  {
   "cell_type": "code",
   "execution_count": null,
   "metadata": {},
   "outputs": [],
   "source": [
    "map_bounds=[65, 40, 100, 5]"
   ]
  },
  {
   "cell_type": "code",
   "execution_count": null,
   "metadata": {},
   "outputs": [],
   "source": [
    "from tqdm import tqdm\n",
    "def check_for_nans_infs_zeros(data_sts):\n",
    "    print('Nans:',np.sum(np.isnan(data_sts)))\n",
    "    print('Infs:' ,np.sum(np.isinf(data_sts)))\n",
    "    print('Zeros:',np.sum((data_sts==0)))\n",
    "    \n",
    "    \n",
    "def spatial_ind_single(func,data_all,mask):\n",
    "    N=data_all.shape[0]\n",
    "    N1=data_all.shape[1]\n",
    "    N2=data_all.shape[2]\n",
    "    Nyears  =  int(N/365 )\n",
    "\n",
    "    calc_index=np.zeros((N1,N2))\n",
    "    for i in range(N1):\n",
    "      for j in range(N2):\n",
    "        if mask[i,j] == 0:\n",
    "            calc_index[i,j]=np.nanmean(func(data_all[:,i,j],Nyears))\n",
    "    return calc_index\n",
    "\n",
    "\n",
    "\n",
    "def spatial_ind_single_var(func,data_all,mask):\n",
    "    N=data_all.shape[0]\n",
    "    N1=data_all.shape[1]\n",
    "    N2=data_all.shape[2]\n",
    "    Nyears  =  int(N/365 )\n",
    "    \n",
    "    calc_index=np.zeros((N1,N2))\n",
    "    for i in range(N1):\n",
    "      for j in range(N2):\n",
    "            if mask[i,j] == 0:\n",
    "                calc_index[i,j]=np.nanvar(func(data_all[:,i,j],Nyears))\n",
    "    return calc_index\n",
    "\n"
   ]
  },
  {
   "cell_type": "markdown",
   "metadata": {
    "id": "amLp3GdOnFz2",
    "tags": []
   },
   "source": [
    "## Import data"
   ]
  },
  {
   "cell_type": "code",
   "execution_count": null,
   "metadata": {},
   "outputs": [],
   "source": [
    "output_figname = ''\n",
    "path_out_IMD = '/home/vikram/BCSD_data/India_P_BCSDd'+output_figname"
   ]
  },
  {
   "cell_type": "code",
   "execution_count": null,
   "metadata": {},
   "outputs": [],
   "source": [
    "gcm_list = ['CanESM2','GFDL_CM3','MIROC_ESM','MRI_ESM1','ACCESS1_0','NorESM1_M','CM5A_LR','CNRM_CM5','MPI_ESM_MR']\n",
    "index_list = ['CDD','Rx1day','R20mm','R99p']\n",
    "N_random = 100\n"
   ]
  },
  {
   "cell_type": "code",
   "execution_count": null,
   "metadata": {},
   "outputs": [],
   "source": [
    "data_all_indices = {}\n",
    "\n",
    "\n",
    "gcm_meta=np.load(path_out_IMD + '/bcsd_imd_metadata_'+gcm_list[0]+'.npy',allow_pickle=True)\n",
    "Nyears_train = gcm_meta.item()['Nyears_train']\n",
    "N_future_start = 2045-2006\n",
    "\n",
    "st=gcm_meta.item()['st']\n",
    "en=gcm_meta.item()['en']\n",
    "\n",
    "lat_obs=gcm_meta.item()['lat_obs']\n",
    "lon_obs=gcm_meta.item()['lon_obs']\n",
    "mask=gcm_meta.item()['mask']\n",
    "\n",
    "\n",
    "N1=lat_obs.shape[0]\n",
    "N2=lon_obs.shape[0]\n",
    "\n",
    "imd_test=uu.correct_nan_inf_neg(np.load(path_out_IMD + '/data_obs_imd_pred.npy'))[365*Nyears_train:]\n",
    "for ind_name, func in zip(['Mean','CDD','Rx1day','R20mm','R99p'],[ii.sum_annualy,ii.CDD_annualy,ii.Rx1day_annualy,ii.R20mm_annualy,ii.R99p_annualy]):\n",
    "    data_all_indices[ind_name] = [] \n",
    "    data_all_indices[ind_name].append(spatial_ind_single(func,imd_test,mask))\n",
    "\n",
    "data_all_indices[\"Var\"] = [] \n",
    "data_all_indices[\"Var\"].append(spatial_ind_single_var(ii.sum_annualy,imd_test,mask))\n"
   ]
  },
  {
   "cell_type": "code",
   "execution_count": null,
   "metadata": {},
   "outputs": [],
   "source": [
    "mask_nan = np.array(mask , dtype =np.float16)\n",
    "mask_nan[mask == True] = np.nan\n",
    "mask_nan[mask == False] = 1"
   ]
  },
  {
   "cell_type": "code",
   "execution_count": null,
   "metadata": {},
   "outputs": [],
   "source": [
    "for gcm_name in tqdm(gcm_list):\n",
    "    gcm_meta=np.load(path_out_IMD + '/bcsd_imd_metadata_'+gcm_name+'.npy',allow_pickle=True)\n",
    "    lat_gcm_01=gcm_meta.item()['lat_gcm']\n",
    "    lon_gcm_01=gcm_meta.item()['lon_gcm']\n",
    "    gcm_test=uu.correct_nan_inf_neg(np.load(path_out_IMD + '/data_gcm_'+gcm_name+'_imd_pred.npy'))[365*Nyears_train:]\n",
    "    data_gf_test=np.zeros(imd_test.shape)\n",
    "    for i in range(gcm_test.shape[0]):\n",
    "        data_gf_test[i,:,:]=uu.regrid(gcm_test[i,:,:],lat_gcm_01,lon_gcm_01,lat_obs,lon_obs)\n",
    "        \n",
    "    for ind_name, func in zip(['Mean','CDD','Rx1day','R20mm','R99p'],[ii.sum_annualy,ii.CDD_annualy,ii.Rx1day_annualy,ii.R20mm_annualy,ii.R99p_annualy]):\n",
    "        data_all_indices[ind_name].append(spatial_ind_single(func,data_gf_test,mask))\n",
    "    data_all_indices[\"Var\"].append(spatial_ind_single_var(ii.sum_annualy,data_gf_test,mask))\n",
    "    \n",
    "del data_gf_test\n",
    "    \n",
    "for gcm_name in tqdm(gcm_list):\n",
    "    out_id='pre_'+gcm_name \n",
    "    bcsd_gcm_test=uu.correct_nan_inf_neg(np.load(path_out_IMD + '/detrended_BCSD_outputs_historical'+out_id+'.npy'))[365*Nyears_train:]\n",
    "    # data_all_indices[\"Mean\"].append(spatial_ind_single(ii.sum_annualy,bcsd_gcm_test,mask))\n",
    "    \n",
    "    for ind_name, func in zip(['Mean','CDD','Rx1day','R20mm','R99p'],[ii.sum_annualy,ii.CDD_annualy,ii.Rx1day_annualy,ii.R20mm_annualy,ii.R99p_annualy]):\n",
    "        data_all_indices[ind_name].append(spatial_ind_single(func,bcsd_gcm_test,mask))\n",
    "    data_all_indices[\"Var\"].append(spatial_ind_single_var(ii.sum_annualy,bcsd_gcm_test,mask))\n",
    "\n",
    "del bcsd_gcm_test    \n",
    "    \n",
    "for gcm_name in tqdm(gcm_list):\n",
    "    gcm_meta=np.load(path_out_IMD + '/bcsd_imd_metadata_'+gcm_name+'.npy',allow_pickle=True)\n",
    "    lat_gcm_01=gcm_meta.item()['lat_gcm']\n",
    "    lon_gcm_01=gcm_meta.item()['lon_gcm']\n",
    "\n",
    "    gcm_future=uu.correct_nan_inf_neg(np.load(path_out_IMD + '/data_gcm_'+gcm_name+'_future.npy'))[365*N_future_start:]\n",
    "    data_gf_future=np.zeros([gcm_future.shape[0],imd_test.shape[1],imd_test.shape[2]])\n",
    "    for i in range(data_gf_future.shape[0]):\n",
    "        data_gf_future[i,:,:]=uu.regrid(gcm_future[i,:,:],lat_gcm_01,lon_gcm_01,lat_obs,lon_obs)\n",
    "    # data_all_indices[\"Mean\"].append(spatial_ind_single(ii.sum_annualy,data_gf_future,mask))\n",
    "    for ind_name, func in zip(['Mean','CDD','Rx1day','R20mm','R99p'],[ii.sum_annualy,ii.CDD_annualy,ii.Rx1day_annualy,ii.R20mm_annualy,ii.R99p_annualy]):\n",
    "        data_all_indices[ind_name].append(spatial_ind_single(func,data_gf_future,mask))\n",
    "    data_all_indices[\"Var\"].append(spatial_ind_single_var(ii.sum_annualy,data_gf_future,mask))\n",
    "        \n",
    "del  data_gf_future,gcm_future\n",
    "\n",
    "\n",
    "for gcm_name in tqdm(gcm_list):\n",
    "    bcsd_gcm_future2=uu.correct_nan_inf_neg(np.load(path_out_IMD + '/detrended_BCSD_outputs_'+out_id+'.npy'))[365*N_future_start:]\n",
    "    # data_all_indices[\"Mean\"].append(spatial_ind_single(ii.sum_annualy,bcsd_gcm_future2,mask))\n",
    "    for ind_name, func in zip(['Mean','CDD','Rx1day','R20mm','R99p'],[ii.sum_annualy,ii.CDD_annualy,ii.Rx1day_annualy,ii.R20mm_annualy,ii.R99p_annualy]):\n",
    "        data_all_indices[ind_name].append(spatial_ind_single(func,bcsd_gcm_future2,mask))\n",
    "    data_all_indices[\"Var\"].append(spatial_ind_single_var(ii.sum_annualy,bcsd_gcm_future2,mask))\n",
    "del  bcsd_gcm_future2\n",
    "    \n",
    "\n",
    "\n",
    "    \n",
    "    \n",
    "    "
   ]
  },
  {
   "cell_type": "code",
   "execution_count": null,
   "metadata": {},
   "outputs": [],
   "source": [
    "data_all_indices_random={}\n",
    "\n",
    "\n",
    "for ind_name, func in zip(['Mean','CDD','Rx1day','R20mm','R99p'],[ii.sum_annualy,ii.CDD_annualy,ii.Rx1day_annualy,ii.R20mm_annualy,ii.R99p_annualy]):\n",
    "    data_all_indices_random[ind_name] = [] \n",
    "data_all_indices_random[\"Var\"] = [] \n",
    "\n",
    "for j in tqdm(range(100)):\n",
    "    out_id='pre_rnd_new_'+str(j)  \n",
    "    bcsd_rnd_test=uu.correct_nan_inf_neg((np.load(path_out_IMD + '/BCSD_outputs_'+out_id+'.npy')))[365*Nyears_train:]\n",
    "    for ind_name, func in zip(['Mean','CDD','Rx1day','R20mm','R99p'],[ii.sum_annualy,ii.CDD_annualy,ii.Rx1day_annualy,ii.R20mm_annualy,ii.R99p_annualy]):\n",
    "        data_all_indices_random[ind_name].append(spatial_ind_single(func,bcsd_rnd_test,mask))\n",
    "    data_all_indices_random[\"Var\"].append(spatial_ind_single_var(ii.sum_annualy,bcsd_rnd_test,mask))\n"
   ]
  },
  {
   "cell_type": "code",
   "execution_count": null,
   "metadata": {},
   "outputs": [],
   "source": [
    "period_list  =[\"ESM:1950-2005\",\n",
    "              \"BCSD:1950-2005\",\n",
    "              \"ESM:2045-2099\",\n",
    "              \"BCSD:2045-2099\",]\n",
    "\n",
    "ind_name =\"Mean\"\n",
    "ylims  =  [ 0 , 2000]\n",
    "units = \"mm\"\n",
    "cmap ='BrBG'\n",
    "\n",
    "\n",
    "ind_name=  'R99p'\n",
    "units = \"mm\"\n",
    "ylims = [0,200]\n",
    "\n",
    "\n",
    "ind_name=  'Var'\n",
    "units = \"x 10000 mm2\"\n",
    "ylims = [0,150000]\n",
    "\n",
    "\n",
    "ind_name=  'CDD'\n",
    "units = \"# days\"  \n",
    "ylims = [0,200]\n",
    "    \n",
    "    \n",
    "ind_name=  'Rx1day'\n",
    "units = \"mm\"\n",
    "ylims = [0,200]\n",
    "\n",
    "\n",
    "\n",
    "ind_name=  'R20mm'\n",
    "units = \"# days\"\n",
    "ylims = [0,60]\n",
    "    \n",
    "cmap ='YlOrRd'\n",
    "    \n",
    "    \n",
    "\n",
    "N_esms =len(gcm_list)\n",
    "\n",
    "plt.figure(figsize  =  (15,30))\n",
    "\n",
    "ax = plt.subplot(N_esms +1 ,4,1)\n",
    "plt.pcolor(lon_obs,lat_obs,data_all_indices[ind_name][0]*mask_nan,cmap = cmap,\n",
    "          vmax= ylims[1],vmin= ylims[0])\n",
    "plt.colorbar()\n",
    "\n",
    "plt.text(0.995, 0.995, \"Observations\",  horizontalalignment='right',verticalalignment='top', transform=ax.transAxes,fontweight='bold',\n",
    "   fontsize=18,color='k')\n",
    "\n",
    "for piter in range(36):\n",
    "    dataiter = piter + 1 \n",
    "    subiter = (piter% 9 ) * 4    + (piter//9) + 1\n",
    "    \n",
    "    # print(subiter,dataiter)\n",
    "    ax =plt.subplot(N_esms +1 ,4,4+ subiter)\n",
    "    plt.pcolor(lon_obs,lat_obs,data_all_indices[ind_name][dataiter]*mask_nan,cmap = cmap,\n",
    "              vmax= ylims[1],vmin=ylims[0]\n",
    "              )\n",
    "    plt.colorbar(label = units)\n",
    "    plt.text(0.995, 0.995, gcm_list[(piter% 9 )], horizontalalignment='right',verticalalignment='top', transform=ax.transAxes,fontweight='bold',\n",
    "       fontsize=18,color='k')\n",
    "\n",
    "    plt.text(0.995, 0.05, period_list[piter%4], horizontalalignment='right',verticalalignment='bottom', transform=ax.transAxes,fontweight='bold',\n",
    "       fontsize=18,color='k')\n",
    "\n",
    "plt.tight_layout()\n",
    "\n",
    "\n",
    "\n",
    "plt.savefig(\"/home/vikram/Dropbox/BCSD Work/03_Figures/plots_Oct10/\" + ind_name+ \"_esms.png\",dpi = 150,facecolor = 'w')\n",
    "            \n",
    "plt.figure(figsize  =  (15,6.5))\n",
    "\n",
    "data_to_plot =   [\n",
    "    data_all_indices_random[ind_name][0],\n",
    "    np.percentile(data_all_indices_random[ind_name],25,axis = 0),\n",
    "    np.percentile(data_all_indices_random[ind_name],50,axis = 0),\n",
    "    np.percentile(data_all_indices_random[ind_name],75,axis = 0),\n",
    "\n",
    "    data_all_indices_random[ind_name][5],\n",
    "    np.mean(data_all_indices_random[ind_name],axis = 0),\n",
    "    np.percentile(data_all_indices_random[ind_name],75,axis = 0)-np.percentile(data_all_indices_random[ind_name],25,axis = 0),\n",
    "    np.var(data_all_indices_random[ind_name],axis = 0),\n",
    "\n",
    "]\n",
    "\n",
    "data_to_plot_desc = [\"Random 1\", \"25 %ile\", \"Median\", \"75 %ile\",\n",
    "                      \"Random 2\",\"Mean\",\"IQR\",\"Var\"]\n",
    "\n",
    "for piter in range(8):\n",
    "    ax =plt.subplot(2,4,piter+1)\n",
    "    \n",
    "    if piter == 6 :\n",
    "        plt.pcolor(lon_obs,lat_obs,data_to_plot[piter]*mask_nan,cmap =cmap,\n",
    "                  vmax= ylims[1]/20,vmin=0\n",
    "                  )\n",
    "    elif  piter == 7:\n",
    "        plt.pcolor(lon_obs,lat_obs,data_to_plot[piter]*mask_nan,cmap =cmap,\n",
    "                  vmax= ylims[1]/5,vmin=0\n",
    "                  )\n",
    "    else:\n",
    "        plt.pcolor(lon_obs,lat_obs,data_to_plot[piter]*mask_nan,cmap = cmap,\n",
    "          vmax= ylims[1],vmin=ylims[0]\n",
    "                  )\n",
    "        \n",
    "    plt.colorbar(label = units)\n",
    "    plt.text(0.995, 0.995, data_to_plot_desc[piter], horizontalalignment='right',verticalalignment='top', transform=ax.transAxes,fontweight='bold',\n",
    "       fontsize=18,color='k')\n",
    "\n",
    "    plt.text(0.995, 0.05, \"BCSD:1945-2005\", horizontalalignment='right',verticalalignment='bottom', transform=ax.transAxes,fontweight='bold',\n",
    "       fontsize=18,color='k')\n",
    "plt.tight_layout()\n",
    "\n",
    "plt.savefig(\"/home/vikram/Dropbox/BCSD Work/03_Figures/plots_Oct10/\" + ind_name+ \"_random.png\",dpi = 150,facecolor = 'w')"
   ]
  },
  {
   "cell_type": "code",
   "execution_count": null,
   "metadata": {},
   "outputs": [],
   "source": []
  },
  {
   "cell_type": "code",
   "execution_count": null,
   "metadata": {},
   "outputs": [],
   "source": [
    "## Change"
   ]
  },
  {
   "cell_type": "markdown",
   "metadata": {
    "tags": []
   },
   "source": [
    "# Others"
   ]
  },
  {
   "cell_type": "code",
   "execution_count": null,
   "metadata": {},
   "outputs": [],
   "source": [
    "import matplotlib.pyplot as plt\n",
    "from matplotlib.patches import Polygon\n",
    "import geopandas as gpd\n",
    "from geopy.geocoders import Nominatim\n",
    "\n",
    "\n",
    "\n",
    "lats,lons = (np.arange(0,40,1),np.arange(65,100,1))\n",
    "XX12,YY12 = np.meshgrid(lons,lats)\n",
    "\n",
    "fig, ax = plt.subplots()\n",
    "\n",
    "for address in ['Kolkata','Mumbai','New Delhi', 'Chennai']:\n",
    "    geolocator = Nominatim(user_agent=\"Your_Name\")\n",
    "    location = geolocator.geocode(address)\n",
    "    [ind_lon,ind_lat] = getclosest_ij(lats,lons,location.latitude,location.longitude)\n",
    "    plt.plot(lons[ind_lon],lats[ind_lat],marker='*',markersize= 25)\n",
    "\n",
    "ind =gpd.read_file('/home/vikram/BCSD_Shapefiles/ind.shp')\n",
    "ind.plot(ax=ax,facecolor=\"none\")\n",
    "\n",
    "regional_boxes = [[72,29,77,25],[77,24,84,18],[87,30,97,21]]\n",
    "for co_ords in regional_boxes:\n",
    "    ax.add_patch(Polygon([(co_ords[0],co_ords[1]),\n",
    "                           (co_ords[0],co_ords[3]),\n",
    "                           (co_ords[2],co_ords[3]),\n",
    "                           (co_ords[2],co_ords[1])],facecolor='none',edgecolor= 'k'))\n",
    "\n",
    "plt.show()\n",
    "\n",
    "\n"
   ]
  },
  {
   "cell_type": "code",
   "execution_count": null,
   "metadata": {},
   "outputs": [],
   "source": []
  },
  {
   "cell_type": "code",
   "execution_count": null,
   "metadata": {},
   "outputs": [],
   "source": []
  }
 ],
 "metadata": {
  "colab": {
   "authorship_tag": "ABX9TyPawuAkg8Z02o09yH2IQNlU",
   "collapsed_sections": [
    "dU2nvEm8MCa5",
    "2NG2USEmDeTg",
    "KjsqWLFr1upl",
    "D_Y5XbZnmhZC",
    "Xg4zONeqnmO9",
    "d0VsKMDYFrxL"
   ],
   "mount_file_id": "1VlyiGYmEpVqrnjayEPjJp7X8EHjpPLMR",
   "name": "Figure 2 AND Figure 3.ipynb",
   "provenance": [
    {
     "file_id": "1R87Z8gZrwK8rXFmacCSUg_UYk7GAmdp3",
     "timestamp": 1625652572820
    }
   ]
  },
  "kernelspec": {
   "display_name": "Python 3 (ipykernel)",
   "language": "python",
   "name": "python3"
  },
  "language_info": {
   "codemirror_mode": {
    "name": "ipython",
    "version": 3
   },
   "file_extension": ".py",
   "mimetype": "text/x-python",
   "name": "python",
   "nbconvert_exporter": "python",
   "pygments_lexer": "ipython3",
   "version": "3.9.12"
  }
 },
 "nbformat": 4,
 "nbformat_minor": 4
}
