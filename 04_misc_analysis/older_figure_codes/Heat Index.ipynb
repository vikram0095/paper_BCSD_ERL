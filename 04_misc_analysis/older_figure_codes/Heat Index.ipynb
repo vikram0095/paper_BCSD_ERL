{
 "cells": [
  {
   "cell_type": "markdown",
   "metadata": {
    "id": "rW-O5gHB_ozZ"
   },
   "source": [
    "# Build and imports"
   ]
  },
  {
   "cell_type": "code",
   "execution_count": null,
   "metadata": {
    "colab": {
     "base_uri": "https://localhost:8080/"
    },
    "executionInfo": {
     "elapsed": 49188,
     "status": "ok",
     "timestamp": 1638007056108,
     "user": {
      "displayName": "Vikram Singh Chandel",
      "photoUrl": "https://lh3.googleusercontent.com/a/default-user=s64",
      "userId": "07964427013125611178"
     },
     "user_tz": -330
    },
    "id": "DeX96SBDLKBh",
    "outputId": "f85975ba-d867-4c7b-f017-714fa3ad3db7"
   },
   "outputs": [],
   "source": [
    "!pip install -q https://github.com/matplotlib/basemap/archive/master.zip\n",
    "!pip3 install netCDF4"
   ]
  },
  {
   "cell_type": "code",
   "execution_count": null,
   "metadata": {
    "executionInfo": {
     "elapsed": 1746,
     "status": "ok",
     "timestamp": 1638007090152,
     "user": {
      "displayName": "Vikram Singh Chandel",
      "photoUrl": "https://lh3.googleusercontent.com/a/default-user=s64",
      "userId": "07964427013125611178"
     },
     "user_tz": -330
    },
    "id": "fKd-tcXtK_Tj"
   },
   "outputs": [],
   "source": [
    "import utility_module_2_v_3 as uu\n",
    "import numpy as np\n",
    "import scipy.stats\n",
    "import matplotlib.pyplot as plt\n"
   ]
  },
  {
   "cell_type": "markdown",
   "metadata": {
    "id": "XmHnK1-9m8tj"
   },
   "source": [
    "# def indices"
   ]
  },
  {
   "cell_type": "code",
   "execution_count": null,
   "metadata": {
    "executionInfo": {
     "elapsed": 1307,
     "status": "ok",
     "timestamp": 1638007095365,
     "user": {
      "displayName": "Vikram Singh Chandel",
      "photoUrl": "https://lh3.googleusercontent.com/a/default-user=s64",
      "userId": "07964427013125611178"
     },
     "user_tz": -330
    },
    "id": "4D3YibxS3XwE"
   },
   "outputs": [],
   "source": [
    "\n",
    "def heat_index(R,TC):\n",
    "  #input output both in celsius\n",
    "  T=1.8*TC+32\n",
    "\n",
    "  c1=-42.379\n",
    "  c2=2.04901523\n",
    "  c3=10.14333127\n",
    "  c4=-0.22475541\n",
    "  c5=-6.83783*0.001\n",
    "  c6=-5.481717*0.01\n",
    "  c7=1.22874*0.001\n",
    "  c8=8.5282*0.0001\n",
    "  c9=-1.99*0.000001\n",
    "  \n",
    "  HI=c1+c2*T+c3*R+c4*T*R+c5*T*T+c6*R*R+c7*T*T*R+c8*T*R*R+c9*T*T*R*R\n",
    "  HIC=(HI-32)/1.8\n",
    "  return HIC\n",
    "\n",
    "\n",
    "def thresh_heat_index(ts_rh,ts_tas):\n",
    "  thresh=32\n",
    "  ts_tas[ts_rh<40]=27\n",
    "  ts_rh[ts_rh<40]=40\n",
    "  ts_tas[ts_tas<27]=27\n",
    "  ts_rh[ts_tas<27]=40\n",
    "  \n",
    "\n",
    " # print(ts_rh.shape,ts_tas.shape)\n",
    "  daily_ts=heat_index(ts_rh,ts_tas)\n",
    "\n",
    "  return np.sum([daily_ts>=thresh])\n",
    "\n",
    "def heat_index_annual(daily_rh,daily_tas,st,en):\n",
    "  heat_index_annual=np.zeros((en-st+1))\n",
    "  days_iter=0\n",
    "  for yeaR in range(en-st+1):\n",
    "    daily_year_rh=daily_rh[days_iter:days_iter+uu.isleapyear(st)+365]\n",
    "    daily_year_tas=daily_tas[days_iter:days_iter+uu.isleapyear(st)+365]\n",
    "    heat_index_annual[yeaR]=thresh_heat_index(daily_year_rh,daily_year_tas)\n",
    "    days_iter=days_iter+uu.isleapyear(st)+365\n",
    "  return heat_index_annual\n",
    "\n"
   ]
  },
  {
   "cell_type": "markdown",
   "metadata": {
    "id": "9MGiFJ8WtzQY"
   },
   "source": [
    "# defs"
   ]
  },
  {
   "cell_type": "code",
   "execution_count": null,
   "metadata": {
    "executionInfo": {
     "elapsed": 2,
     "status": "ok",
     "timestamp": 1638007095365,
     "user": {
      "displayName": "Vikram Singh Chandel",
      "photoUrl": "https://lh3.googleusercontent.com/a/default-user=s64",
      "userId": "07964427013125611178"
     },
     "user_tz": -330
    },
    "id": "r6FN1Oixt2wJ"
   },
   "outputs": [],
   "source": [
    "from numpy import meshgrid\n",
    "from mpl_toolkits.basemap import Basemap\n",
    "def map_plot_cyl(data_lat_x_lon,lat_cen,lon_cen,map_bounds,clab,cmap,y_limit,ax,mp_spacing=10,subplot_iter=1,loff=1,ex='both'):\n",
    "\n",
    "  lat_box=uu.cen_to_box(lat_cen)\n",
    "  lon_box=uu.cen_to_box(lon_cen)\n",
    "\n",
    "  map = Basemap(projection='cyl',resolution='l',\n",
    "                llcrnrlon=map_bounds[0], \n",
    "                urcrnrlat=map_bounds[1],\n",
    "                urcrnrlon=map_bounds[2], \n",
    "                llcrnrlat=map_bounds[3])\n",
    "\n",
    "\n",
    "  xx, yy = meshgrid(lon_box,lat_box )\n",
    "  #return  dimenion of lat * lon\n",
    "  map.pcolor(xx, yy, data_lat_x_lon,cmap=cmap)\n",
    "  map.drawmeridians(np.arange(-180,180,mp_spacing),labels=[0,0,0,1], linewidth=1.0) #longitudes\n",
    "  if loff==0:\n",
    "    map.drawparallels(np.arange(-90,90,mp_spacing),labels=[1,0,0,0], linewidth=1.0) #latitudes\n",
    "  else:\n",
    "    map.drawparallels(np.arange(-90,90,mp_spacing),labels=[0,0,0,0], linewidth=1.0) #latitudes\n",
    "  cbar = map.colorbar(extend=ex)\n",
    "  #cbar.ax.set_yticklabels(['0','1','2','>3'])\n",
    "  cbar.set_label(clab, rotation=90)\n",
    "  #map.drawcountries(linewidth=1)\n",
    "  map.readshapefile('/content/drive/MyDrive/Shapefiles/ind', 'IND', linewidth=1.0)\n",
    "\n",
    "  map.drawcoastlines(linewidth=1)\n",
    "  lxx=0.05\n",
    "  lyy=0.92\n",
    "  lcol='k'\n",
    "  lsize=24\n",
    "  lfamily='Tahoma'\n",
    "  lweight=800\n",
    " # y_limit=[0,30]\n",
    "  #clab='days'\n",
    "  \n",
    "  plt.clim(y_limit)\n",
    "  plt.text(lxx, lyy, chr(subplot_iter+96), horizontalalignment='center',verticalalignment='center', transform=ax.transAxes,fontweight=lweight,\n",
    "           fontfamily=lfamily,fontsize=lsize,color=lcol)\n"
   ]
  },
  {
   "cell_type": "markdown",
   "metadata": {
    "id": "amLp3GdOnFz2"
   },
   "source": [
    "# Import data"
   ]
  },
  {
   "cell_type": "markdown",
   "metadata": {
    "id": "fwo6erev4KDb"
   },
   "source": [
    "## rh and tas"
   ]
  },
  {
   "cell_type": "code",
   "execution_count": null,
   "metadata": {
    "executionInfo": {
     "elapsed": 27104,
     "status": "ok",
     "timestamp": 1638007123823,
     "user": {
      "displayName": "Vikram Singh Chandel",
      "photoUrl": "https://lh3.googleusercontent.com/a/default-user=s64",
      "userId": "07964427013125611178"
     },
     "user_tz": -330
    },
    "id": "JA5_KsB6KZDV"
   },
   "outputs": [],
   "source": [
    "map_bounds=[65, 40, 100, 5]\n",
    "\n",
    "gcm_names=['MIROC_ESM','CanESM2','HadGEM2_ES','GFDL_CM3']#\n",
    "\n",
    "rh_obs=np.load('/content/drive/MyDrive/BiasCorr/output_rh_tas_daily/rh_obs_pred.npy')\n",
    "tas_obs=np.load('/content/drive/MyDrive/BiasCorr/output_rh_tas_daily/tas_obs_pred.npy')\n",
    "\n",
    "\n",
    "i=0\n",
    "gcm_name=gcm_names[i]\n",
    "rh_gcm_01=np.load('/content/drive/MyDrive/BiasCorr/output_rh_tas_daily/rh_gcm_'+gcm_name+'_pred.npy')\n",
    "rh_bcsd_gcm_01=np.load('/content/drive/MyDrive/BiasCorr/output_rh_tas_daily/rh_BCSD_'+gcm_name+'.npy')\n",
    "\n",
    "tas_gcm_01=np.load('/content/drive/MyDrive/BiasCorr/output_rh_tas_daily/tas_gcm_'+gcm_name+'_pred.npy')\n",
    "tas_bcsd_gcm_01=np.load('/content/drive/MyDrive/BiasCorr/output_rh_tas_daily/tas_BCSD_'+gcm_name+'.npy')\n",
    "\n",
    "tas_gcm_meta_01=np.load('/content/drive/MyDrive/BiasCorr/output_rh_tas_daily/tas_metadata_'+gcm_name+'.npy',allow_pickle=True)\n",
    "\n",
    "st=tas_gcm_meta_01.item()['st']\n",
    "en=tas_gcm_meta_01.item()['en']\n",
    "yr_split=tas_gcm_meta_01.item()['yr_split']\n",
    "\n",
    "lat_obs=tas_gcm_meta_01.item()['lat_obs']\n",
    "lon_obs=tas_gcm_meta_01.item()['lon_obs']\n",
    "\n",
    "lat_gcm_01=tas_gcm_meta_01.item()['lat_gcm']\n",
    "lon_gcm_01=tas_gcm_meta_01.item()['lon_gcm']\n",
    "\n",
    "\n",
    "\n",
    "i=1\n",
    "gcm_name=gcm_names[i]\n",
    "rh_gcm_02=np.load('/content/drive/MyDrive/BiasCorr/output_rh_tas_daily/rh_gcm_'+gcm_name+'_pred.npy')\n",
    "rh_bcsd_gcm_02=np.load('/content/drive/MyDrive/BiasCorr/output_rh_tas_daily/rh_BCSD_'+gcm_name+'.npy')\n",
    "\n",
    "tas_gcm_02=np.load('/content/drive/MyDrive/BiasCorr/output_rh_tas_daily/tas_gcm_'+gcm_name+'_pred.npy')\n",
    "tas_bcsd_gcm_02=np.load('/content/drive/MyDrive/BiasCorr/output_rh_tas_daily/tas_BCSD_'+gcm_name+'.npy')\n",
    "\n",
    "tas_gcm_meta_02=np.load('/content/drive/MyDrive/BiasCorr/output_rh_tas_daily/tas_metadata_'+gcm_name+'.npy',allow_pickle=True)\n",
    "\n",
    "lat_gcm_02=tas_gcm_meta_02.item()['lat_gcm']\n",
    "lon_gcm_02=tas_gcm_meta_02.item()['lon_gcm']\n",
    "\n",
    "\n",
    "i=2\n",
    "gcm_name=gcm_names[i]\n",
    "rh_gcm_03=np.load('/content/drive/MyDrive/BiasCorr/output_rh_tas_daily/rh_gcm_'+gcm_name+'_pred.npy')\n",
    "rh_bcsd_gcm_03=np.load('/content/drive/MyDrive/BiasCorr/output_rh_tas_daily/rh_BCSD_'+gcm_name+'.npy')\n",
    "\n",
    "tas_gcm_03=np.load('/content/drive/MyDrive/BiasCorr/output_rh_tas_daily/tas_gcm_'+gcm_name+'_pred.npy')\n",
    "tas_bcsd_gcm_03=np.load('/content/drive/MyDrive/BiasCorr/output_rh_tas_daily/tas_BCSD_'+gcm_name+'.npy')\n",
    "\n",
    "tas_gcm_meta_03=np.load('/content/drive/MyDrive/BiasCorr/output_rh_tas_daily/tas_metadata_'+gcm_name+'.npy',allow_pickle=True)\n",
    "\n",
    "lat_gcm_03=tas_gcm_meta_03.item()['lat_gcm']\n",
    "lon_gcm_03=tas_gcm_meta_03.item()['lon_gcm']\n",
    "\n",
    "\n",
    "i=3\n",
    "gcm_name=gcm_names[i]\n",
    "rh_gcm_04=np.load('/content/drive/MyDrive/BiasCorr/output_rh_tas_daily/rh_gcm_'+gcm_name+'_pred.npy')\n",
    "rh_bcsd_gcm_04=np.load('/content/drive/MyDrive/BiasCorr/output_rh_tas_daily/rh_BCSD_'+gcm_name+'.npy')\n",
    "\n",
    "tas_gcm_04=np.load('/content/drive/MyDrive/BiasCorr/output_rh_tas_daily/tas_gcm_'+gcm_name+'_pred.npy')\n",
    "tas_bcsd_gcm_04=np.load('/content/drive/MyDrive/BiasCorr/output_rh_tas_daily/tas_BCSD_'+gcm_name+'.npy')\n",
    "\n",
    "tas_gcm_meta_04=np.load('/content/drive/MyDrive/BiasCorr/output_rh_tas_daily/tas_metadata_'+gcm_name+'.npy',allow_pickle=True)\n",
    "\n",
    "lat_gcm_04=tas_gcm_meta_04.item()['lat_gcm']\n",
    "lon_gcm_04=tas_gcm_meta_04.item()['lon_gcm']\n",
    "\n"
   ]
  },
  {
   "cell_type": "code",
   "execution_count": null,
   "metadata": {
    "executionInfo": {
     "elapsed": 3,
     "status": "ok",
     "timestamp": 1638008141902,
     "user": {
      "displayName": "Vikram Singh Chandel",
      "photoUrl": "https://lh3.googleusercontent.com/a/default-user=s64",
      "userId": "07964427013125611178"
     },
     "user_tz": -330
    },
    "id": "mAh1R7lSqhK3"
   },
   "outputs": [],
   "source": [
    "\n",
    "j=0\n",
    "out_id='rnd_'+str(j)\n",
    "rh_bcsd_rnd_01=np.load('/content/drive/MyDrive/BiasCorr/output_rh_tas_daily/rh_BCSD_'+out_id+'.npy')\n",
    "tas_bcsd_rnd_01=np.load('/content/drive/MyDrive/BiasCorr/output_rh_tas_daily/tas_BCSD_'+out_id+'.npy')\n",
    "\n",
    "j=1\n",
    "out_id='rnd_'+str(j)\n",
    "rh_bcsd_rnd_02=np.load('/content/drive/MyDrive/BiasCorr/output_rh_tas_daily/rh_BCSD_'+out_id+'.npy')\n",
    "tas_bcsd_rnd_02=np.load('/content/drive/MyDrive/BiasCorr/output_rh_tas_daily/tas_BCSD_'+out_id+'.npy')\n",
    "\n",
    "j=2\n",
    "out_id='rnd_'+str(j)\n",
    "rh_bcsd_rnd_03=np.load('/content/drive/MyDrive/BiasCorr/output_rh_tas_daily/rh_BCSD_'+out_id+'.npy')\n",
    "tas_bcsd_rnd_03=np.load('/content/drive/MyDrive/BiasCorr/output_rh_tas_daily/tas_BCSD_'+out_id+'.npy')\n",
    "\n",
    "\n",
    "j=3\n",
    "out_id='rnd_'+str(j)\n",
    "rh_bcsd_rnd_04=np.load('/content/drive/MyDrive/BiasCorr/output_rh_tas_daily/rh_BCSD_'+out_id+'.npy')\n",
    "tas_bcsd_rnd_04=np.load('/content/drive/MyDrive/BiasCorr/output_rh_tas_daily/tas_BCSD_'+out_id+'.npy')\n",
    "\n"
   ]
  },
  {
   "cell_type": "markdown",
   "metadata": {
    "id": "uUmZjdp-m6JT"
   },
   "source": [
    "## creates mask"
   ]
  },
  {
   "cell_type": "code",
   "execution_count": null,
   "metadata": {
    "colab": {
     "base_uri": "https://localhost:8080/"
    },
    "executionInfo": {
     "elapsed": 4045,
     "status": "ok",
     "timestamp": 1638007886944,
     "user": {
      "displayName": "Vikram Singh Chandel",
      "photoUrl": "https://lh3.googleusercontent.com/a/default-user=s64",
      "userId": "07964427013125611178"
     },
     "user_tz": -330
    },
    "id": "om_kXCsPG2mw",
    "outputId": "52da9f9a-4d74-46b3-87e1-b1202046de3a"
   },
   "outputs": [],
   "source": [
    "!pip install geopandas"
   ]
  },
  {
   "cell_type": "code",
   "execution_count": null,
   "metadata": {
    "colab": {
     "base_uri": "https://localhost:8080/",
     "height": 0
    },
    "executionInfo": {
     "elapsed": 6,
     "status": "ok",
     "timestamp": 1638007886945,
     "user": {
      "displayName": "Vikram Singh Chandel",
      "photoUrl": "https://lh3.googleusercontent.com/a/default-user=s64",
      "userId": "07964427013125611178"
     },
     "user_tz": -330
    },
    "id": "meID2E6SvO6U",
    "outputId": "789f41d3-2ac3-4f0b-cd0f-32c4c2cc912a"
   },
   "outputs": [],
   "source": [
    "\n",
    "import geopandas as gpd\n",
    "from shapely.geometry  import Point\n",
    "from shapely.geometry import shape\n",
    "\n",
    "import numpy.ma as ma\n",
    "from numpy import meshgrid\n",
    "\n",
    "fo=gpd.read_file(\"/content/drive/MyDrive/Shapefiles/ind.shp\")\n",
    "fo.plot()\n",
    "shp_geom = shape(fo.geometry[0]).buffer(1)\n",
    "\n",
    "xxc, yyc = meshgrid(lon_obs.data,lat_obs.data)\n",
    "mask_shape=np.empty_like(xxc)\n",
    "\n",
    "N1=xxc.shape[0]\n",
    "N2=xxc.shape[1]\n",
    "for lat_i in range(N1):\n",
    "  for lon_i in range(N2):\n",
    "    xi=xxc[lat_i,lon_i]\n",
    "    yi=yyc[lat_i,lon_i]\n",
    "    m1= (shp_geom.contains(Point(xi, yi)) or shp_geom.touches(Point(xi, yi)))\n",
    "\n",
    "    mask_shape[lat_i,lon_i]=not m1"
   ]
  },
  {
   "cell_type": "markdown",
   "metadata": {
    "id": "FDeN4mfem9p_"
   },
   "source": [
    "## fined gcm"
   ]
  },
  {
   "cell_type": "code",
   "execution_count": null,
   "metadata": {
    "executionInfo": {
     "elapsed": 55145,
     "status": "ok",
     "timestamp": 1638008129839,
     "user": {
      "displayName": "Vikram Singh Chandel",
      "photoUrl": "https://lh3.googleusercontent.com/a/default-user=s64",
      "userId": "07964427013125611178"
     },
     "user_tz": -330
    },
    "id": "OoPcXcLeU3HI"
   },
   "outputs": [],
   "source": [
    "rh_fined_gcm_01=np.zeros(rh_obs.shape)\n",
    "rh_fined_gcm_02=np.zeros(rh_obs.shape)\n",
    "rh_fined_gcm_03=np.zeros(rh_obs.shape)\n",
    "rh_fined_gcm_04=np.zeros(rh_obs.shape)\n",
    "\n",
    "tas_fined_gcm_01=np.zeros(tas_obs.shape)\n",
    "tas_fined_gcm_02=np.zeros(tas_obs.shape)\n",
    "tas_fined_gcm_03=np.zeros(tas_obs.shape)\n",
    "tas_fined_gcm_04=np.zeros(tas_obs.shape)\n",
    "\n",
    "for t in range(tas_obs.shape[0]):\n",
    "  rh_fined_gcm_01[t,:,:]=uu.regrid(rh_gcm_01[t,:,:],lat_gcm_01,lon_gcm_01,lat_obs,lon_obs)\n",
    "  rh_fined_gcm_02[t,:,:]=uu.regrid(rh_gcm_02[t,:,:],lat_gcm_02,lon_gcm_02,lat_obs,lon_obs)\n",
    "  rh_fined_gcm_03[t,:,:]=uu.regrid(rh_gcm_03[t,:,:],lat_gcm_03,lon_gcm_03,lat_obs,lon_obs)\n",
    "  rh_fined_gcm_04[t,:,:]=uu.regrid(rh_gcm_04[t,:,:],lat_gcm_04,lon_gcm_04,lat_obs,lon_obs)\n",
    "  \n",
    "  tas_fined_gcm_01[t,:,:]=uu.regrid(tas_gcm_01[t,:,:],lat_gcm_01,lon_gcm_01,lat_obs,lon_obs)\n",
    "  tas_fined_gcm_02[t,:,:]=uu.regrid(tas_gcm_02[t,:,:],lat_gcm_02,lon_gcm_02,lat_obs,lon_obs)\n",
    "  tas_fined_gcm_03[t,:,:]=uu.regrid(tas_gcm_03[t,:,:],lat_gcm_03,lon_gcm_03,lat_obs,lon_obs)\n",
    "  tas_fined_gcm_04[t,:,:]=uu.regrid(tas_gcm_04[t,:,:],lat_gcm_04,lon_gcm_04,lat_obs,lon_obs)\n",
    "\n"
   ]
  },
  {
   "cell_type": "code",
   "execution_count": null,
   "metadata": {
    "colab": {
     "base_uri": "https://localhost:8080/",
     "height": 1000
    },
    "executionInfo": {
     "elapsed": 11659,
     "status": "ok",
     "timestamp": 1638008162981,
     "user": {
      "displayName": "Vikram Singh Chandel",
      "photoUrl": "https://lh3.googleusercontent.com/a/default-user=s64",
      "userId": "07964427013125611178"
     },
     "user_tz": -330
    },
    "id": "5h7M2tONt5kD",
    "outputId": "76a52dfa-cbd0-4d5d-eeca-8143ddda1e62"
   },
   "outputs": [],
   "source": [
    "data_rh=[rh_obs,\n",
    "      rh_fined_gcm_01,\n",
    "      rh_fined_gcm_02,\n",
    "      rh_fined_gcm_03,\n",
    "      rh_fined_gcm_04,\n",
    "      rh_bcsd_gcm_01,\n",
    "      rh_bcsd_gcm_02,\n",
    "      rh_bcsd_gcm_03,\n",
    "      rh_bcsd_gcm_04,\n",
    "      rh_bcsd_rnd_01,\n",
    "      rh_bcsd_rnd_02,\n",
    "      rh_bcsd_rnd_03,\n",
    "      rh_bcsd_rnd_04\n",
    "      ]\n",
    "\n",
    "data_tas=[tas_obs,\n",
    "      tas_fined_gcm_01,\n",
    "      tas_fined_gcm_02,\n",
    "      tas_fined_gcm_03,\n",
    "      tas_fined_gcm_04,\n",
    "      tas_bcsd_gcm_01,\n",
    "      tas_bcsd_gcm_02,\n",
    "      tas_bcsd_gcm_03,\n",
    "      tas_bcsd_gcm_04,\n",
    "      tas_bcsd_rnd_01,\n",
    "      tas_bcsd_rnd_02,\n",
    "      tas_bcsd_rnd_03,\n",
    "      tas_bcsd_rnd_04\n",
    "      ]\n",
    "\n",
    "\n",
    "plt.figure(figsize=(10,10))\n",
    "for i in range(13):\n",
    "  plt.subplot(4,4,i+1)\n",
    "  plt.pcolor(data_rh[i][250,:,:])\n",
    "  plt.colorbar()\n",
    "\n",
    "plt.figure(figsize=(20,10))\n",
    "for i in range(13):\n",
    "  plt.subplot(4,4,i+1)\n",
    "  plt.plot(data_rh[i][:,7,7])\n",
    "\n",
    "\n",
    "plt.figure(figsize=(10,10))\n",
    "for i in range(13):\n",
    "  plt.subplot(4,4,i+1)\n",
    "  plt.pcolor(data_tas[i][250,:,:])\n",
    "  plt.colorbar()\n",
    "\n",
    "plt.figure(figsize=(20,10))\n",
    "for i in range(13):\n",
    "  plt.subplot(4,4,i+1)\n",
    "  plt.plot(data_tas[i][:,7,7])\n",
    "\n"
   ]
  },
  {
   "cell_type": "markdown",
   "metadata": {
    "id": "pWMY5hi98Ief"
   },
   "source": [
    "# Get spatial mean"
   ]
  },
  {
   "cell_type": "code",
   "execution_count": null,
   "metadata": {
    "colab": {
     "base_uri": "https://localhost:8080/"
    },
    "executionInfo": {
     "elapsed": 4397,
     "status": "ok",
     "timestamp": 1638007891338,
     "user": {
      "displayName": "Vikram Singh Chandel",
      "photoUrl": "https://lh3.googleusercontent.com/a/default-user=s64",
      "userId": "07964427013125611178"
     },
     "user_tz": -330
    },
    "id": "MQ7zPWrSSvp0",
    "outputId": "f2494c24-47ff-41b9-a4a1-5c9654f4c5d2"
   },
   "outputs": [],
   "source": [
    "!pip install geopandas"
   ]
  },
  {
   "cell_type": "code",
   "execution_count": null,
   "metadata": {
    "executionInfo": {
     "elapsed": 14,
     "status": "ok",
     "timestamp": 1638007891339,
     "user": {
      "displayName": "Vikram Singh Chandel",
      "photoUrl": "https://lh3.googleusercontent.com/a/default-user=s64",
      "userId": "07964427013125611178"
     },
     "user_tz": -330
    },
    "id": "ftTK6sIuSqPy"
   },
   "outputs": [],
   "source": [
    "import geopandas as gpd\n",
    "import pandas as pd \n",
    "from shapely.geometry  import Point\n",
    "from shapely.geometry import shape\n",
    "import numpy as np\n",
    "import seaborn as sns\n",
    "import matplotlib.pylab as plt\n",
    "  \n",
    "# creating the dataframe\n",
    "\n",
    "titles=['Obs',\n",
    "        'GCM-M',\n",
    "        'GCM-C',\n",
    "        'GCM-H',\n",
    "        'GCM-G',\n",
    "        'BC-M',\n",
    "        'BC-C',\n",
    "        'BC-H',\n",
    "        'BC-G',\n",
    "        'BC-R0',\n",
    "        'BC-R1',\n",
    "        'BC-R2',\n",
    "        'BC-R3']"
   ]
  },
  {
   "cell_type": "code",
   "execution_count": null,
   "metadata": {
    "executionInfo": {
     "elapsed": 14,
     "status": "ok",
     "timestamp": 1638007891339,
     "user": {
      "displayName": "Vikram Singh Chandel",
      "photoUrl": "https://lh3.googleusercontent.com/a/default-user=s64",
      "userId": "07964427013125611178"
     },
     "user_tz": -330
    },
    "id": "stEUgJCqD5AF"
   },
   "outputs": [],
   "source": [
    "def get_regional_rmse(data_0,data_1,lat_obs_cru,lon_obs_cru,region_shapes):\n",
    "  XX, YY = meshgrid(lon_obs_cru,lat_obs_cru)\n",
    "  N1=XX.shape[0]\n",
    "  N2=XX.shape[1]\n",
    "\n",
    "  data_out=[]\n",
    "\n",
    "  for shp in range(len(region_shapes.geometry)):\n",
    "    data_temp=[]\n",
    "    shp_geom = shape(region_shapes.geometry[shp])\n",
    "\n",
    "    for lat_i in range(N1):\n",
    "      for lon_i in range(N2):\n",
    "        xi=XX[lat_i,lon_i]\n",
    "        yi=YY[lat_i,lon_i]\n",
    "        m1= (shp_geom.contains(Point(xi, yi)) or shp_geom.touches(Point(xi, yi)))\n",
    "        if m1:\n",
    "          data_temp.append((data_1[lat_i,lon_i]-data_0[lat_i,lon_i])**2)\n",
    "    \n",
    "    data_out.append(np.sqrt(np.nanmean(np.array(data_temp))))\n",
    "  return data_out\n",
    "\n",
    "def get_regional_corr(data_0,data_1,lat_obs_cru,lon_obs_cru,region_shapes):\n",
    "  XX, YY = meshgrid(lon_obs_cru,lat_obs_cru)\n",
    "  N1=XX.shape[0]\n",
    "  N2=XX.shape[1]\n",
    "\n",
    "  data_out=[]\n",
    "\n",
    "  for shp in range(len(region_shapes.geometry)):\n",
    "    data_temp_0=[]\n",
    "    data_temp_1=[]\n",
    "    shp_geom = shape(region_shapes.geometry[shp])\n",
    "\n",
    "    for lat_i in range(N1):\n",
    "      for lon_i in range(N2):\n",
    "        xi=XX[lat_i,lon_i]\n",
    "        yi=YY[lat_i,lon_i]\n",
    "        m1= (shp_geom.contains(Point(xi, yi)) or shp_geom.touches(Point(xi, yi)))\n",
    "        if m1:\n",
    "          data_temp_0.append(data_0[lat_i,lon_i])\n",
    "          data_temp_1.append(data_1[lat_i,lon_i])\n",
    "    \n",
    "    data_out.append(np.corrcoef(data_temp_0,data_temp_1)[0,1])\n",
    "  return data_out"
   ]
  },
  {
   "cell_type": "code",
   "execution_count": null,
   "metadata": {
    "colab": {
     "base_uri": "https://localhost:8080/"
    },
    "executionInfo": {
     "elapsed": 15,
     "status": "ok",
     "timestamp": 1638007891340,
     "user": {
      "displayName": "Vikram Singh Chandel",
      "photoUrl": "https://lh3.googleusercontent.com/a/default-user=s64",
      "userId": "07964427013125611178"
     },
     "user_tz": -330
    },
    "id": "bWGjKM9NTMtA",
    "outputId": "deda2390-8d74-43fb-bbd3-de8b4f5299e3"
   },
   "outputs": [],
   "source": [
    "region_shapes = gpd.read_file(\"/content/drive/MyDrive/Shapefiles/zones_imd.shp\")\n",
    "S= len(region_shapes['State_Name'])\n",
    "print(S)"
   ]
  },
  {
   "cell_type": "code",
   "execution_count": null,
   "metadata": {
    "colab": {
     "base_uri": "https://localhost:8080/",
     "height": 0
    },
    "executionInfo": {
     "elapsed": 15,
     "status": "ok",
     "timestamp": 1638007891341,
     "user": {
      "displayName": "Vikram Singh Chandel",
      "photoUrl": "https://lh3.googleusercontent.com/a/default-user=s64",
      "userId": "07964427013125611178"
     },
     "user_tz": -330
    },
    "id": "ouxUAeLyu2C2",
    "outputId": "034edf98-3175-4c5b-ac4f-ca809642c42d"
   },
   "outputs": [],
   "source": [
    "\n",
    "from matplotlib import cm\n",
    "from matplotlib.colors import ListedColormap, LinearSegmentedColormap\n",
    "\n",
    "plt.figure(figsize=(10,10))\n",
    "ax=plt.subplot(1,1,1)\n",
    "\n",
    "buu = cm.get_cmap('Blues', 128)\n",
    "newcmp = ListedColormap(buu(np.linspace(0.25, 0.75, 10)), name='OrangeBlue')\n",
    "\n",
    "region_shapes.plot(column='State_Name', ax=ax,cmap=newcmp,legend=True,linewidth=2.0, edgecolor='0.9',linestyle=\"-\")\n",
    "plt.xlabel('Longitudes')\n",
    "plt.ylabel('Latitudes')"
   ]
  },
  {
   "cell_type": "code",
   "execution_count": null,
   "metadata": {
    "executionInfo": {
     "elapsed": 14,
     "status": "ok",
     "timestamp": 1638007891341,
     "user": {
      "displayName": "Vikram Singh Chandel",
      "photoUrl": "https://lh3.googleusercontent.com/a/default-user=s64",
      "userId": "07964427013125611178"
     },
     "user_tz": -330
    },
    "id": "KHghXOFHfYVc"
   },
   "outputs": [],
   "source": [
    "\n",
    "\n",
    "def get_corr_n_rmse(indic,lat_obs,lon_obs):\n",
    "  S=len(region_shapes.geometry)\n",
    "  NN=len(indic)\n",
    "  #data_corr=np.zeros((S,13,13))\n",
    "  data_rmse=np.zeros((S,NN,NN))*np.nan\n",
    "  for i in range(NN):\n",
    "    for j in range(i+1):\n",
    "      rmse_1=get_regional_rmse(indic[i],indic[j],lat_obs,lon_obs,region_shapes)\n",
    "      #corr_1=get_regional_corr(indic[i],indic[j],lat_obs,lon_obs,region_shapes)\n",
    "      #data_corr[:,i,j]=np.array(corr_1)\n",
    "      data_rmse[:,i,j]=np.array(rmse_1)\n",
    "\n",
    "  return data_rmse#data_corr,\n",
    "\n"
   ]
  },
  {
   "cell_type": "code",
   "execution_count": null,
   "metadata": {
    "colab": {
     "base_uri": "https://localhost:8080/"
    },
    "executionInfo": {
     "elapsed": 14,
     "status": "ok",
     "timestamp": 1638007891342,
     "user": {
      "displayName": "Vikram Singh Chandel",
      "photoUrl": "https://lh3.googleusercontent.com/a/default-user=s64",
      "userId": "07964427013125611178"
     },
     "user_tz": -330
    },
    "id": "Ctau3ZSJovvP",
    "outputId": "e7274dbd-1141-4bc8-e4e0-58ee2d150ce7"
   },
   "outputs": [],
   "source": [
    "len([1,2,3][0:1])"
   ]
  },
  {
   "cell_type": "code",
   "execution_count": null,
   "metadata": {
    "executionInfo": {
     "elapsed": 14,
     "status": "ok",
     "timestamp": 1638007891342,
     "user": {
      "displayName": "Vikram Singh Chandel",
      "photoUrl": "https://lh3.googleusercontent.com/a/default-user=s64",
      "userId": "07964427013125611178"
     },
     "user_tz": -330
    },
    "id": "aePR2BoMZY7n"
   },
   "outputs": [],
   "source": [
    "\n",
    "\n",
    "def plot_heatmap(data_corr,ylim,titles,fmt,cmap,title1):\n",
    "  plt.figure(figsize=(25,13.75))\n",
    "  S=data_corr.shape[0]\n",
    "  for subs in range(S):\n",
    "    plt.subplot(2,3,subs+1)\n",
    "    \n",
    "    data_set = data_corr[subs,:,:]\n",
    "    sns.heatmap(data_set , linewidth = 2 , cmap = cmap, \n",
    "                annot=True,\n",
    "                fmt=fmt ,square=True,\n",
    "                xticklabels=titles,\n",
    "                yticklabels=titles,vmin=ylim[0],vmax=ylim[1])\n",
    "    plt.title(region_shapes['State_Name'][subs])\n",
    "  plt.savefig('/content/drive/MyDrive/Figures/Figure3/indices/imd_rmse_indices_'+title1+'.png')\n",
    "  plt.show()"
   ]
  },
  {
   "cell_type": "code",
   "execution_count": null,
   "metadata": {
    "executionInfo": {
     "elapsed": 15,
     "status": "ok",
     "timestamp": 1638007891343,
     "user": {
      "displayName": "Vikram Singh Chandel",
      "photoUrl": "https://lh3.googleusercontent.com/a/default-user=s64",
      "userId": "07964427013125611178"
     },
     "user_tz": -330
    },
    "id": "GTFfX1C1nWWK"
   },
   "outputs": [],
   "source": [
    "titles=['Obs',\n",
    "        'GCM-M',\n",
    "        'GCM-C',\n",
    "        'GCM-H',\n",
    "        'GCM-G',\n",
    "        'BC-M',\n",
    "        'BC-C',\n",
    "        'BC-H',\n",
    "        'BC-G',\n",
    "        'BC-R0',\n",
    "        'BC-R1',\n",
    "        'BC-R2',\n",
    "        'BC-R3']"
   ]
  },
  {
   "cell_type": "markdown",
   "metadata": {
    "id": "lhg5IiygwncX"
   },
   "source": [
    "# Compute indices"
   ]
  },
  {
   "cell_type": "markdown",
   "metadata": {
    "id": "AYP0WOc5xJj5"
   },
   "source": [
    "## def general function"
   ]
  },
  {
   "cell_type": "code",
   "execution_count": null,
   "metadata": {
    "executionInfo": {
     "elapsed": 4,
     "status": "ok",
     "timestamp": 1638008164885,
     "user": {
      "displayName": "Vikram Singh Chandel",
      "photoUrl": "https://lh3.googleusercontent.com/a/default-user=s64",
      "userId": "07964427013125611178"
     },
     "user_tz": -330
    },
    "id": "-SoMtH15xhCZ"
   },
   "outputs": [],
   "source": [
    "titles123=['Obs',\n",
    "        'MIROC_ESM',\n",
    "        'CanESM2',\n",
    "        'HadGEM_AO',\n",
    "        'GFDL_CM3',\n",
    "        'BCSD-MIROC_ESM',\n",
    "        'BCSD-CanESM2',\n",
    "        'BCSD-HadGEM2_ES',\n",
    "        'BCSD-GFDL_CM3',\n",
    "        'BCSD-Rnd_0',\n",
    "        'BCSD-Rnd_1',\n",
    "        'BCSD-Rnd_2',\n",
    "        'BCSD-Rnd_3'\n",
    "        ]\n",
    "titles=['Obs',\n",
    "        'GCM-M',\n",
    "        'GCM-C',\n",
    "        'GCM-H',\n",
    "        'GCM-G',\n",
    "        'BC-M',\n",
    "        'BC-C',\n",
    "        'BC-H',\n",
    "        'BC-G',\n",
    "        'BC-R0',\n",
    "        'BC-R1',\n",
    "        'BC-R2',\n",
    "        'BC-R3'\n",
    "        ]\n",
    "\n",
    "lofff=[0,0,1,1,1,0,1,1,1,0,1,1,1]\n",
    "\n",
    "import numpy.ma as ma\n",
    "def spatial_ind(data_rh,data_tas):\n",
    "\n",
    "  D=13\n",
    "  R20_all=np.zeros((D,N1,N2))\n",
    "  for d in range(D):\n",
    "    for i in range(N1):\n",
    "      for j in range(N2):\n",
    "        R20_all[d,i,j]=np.mean(heat_index_annual(data_rh[d][:,i,j],data_tas[d][:,i,j],yr_split,en))\n",
    "    print(str((d+1)/D*100))\n",
    "  return R20_all\n",
    "\n",
    "def plot_indices(R20_all,titles,title1,clab,y_limit,ex='both',cmap='jet'):\n",
    "  \n",
    "  fig=plt.figure(figsize=(24,24))\n",
    "  D=13\n",
    "\n",
    "  for d in range(D):\n",
    "    ax=plt.subplot(4,4,d+4)\n",
    "    map_plot_cyl(ma.masked_array(R20_all[d,:,:], mask=mask_shape),lat_obs,lon_obs,map_bounds,clab,cmap,y_limit,ax,mp_spacing=10,subplot_iter=d+1,loff=lofff[d],ex=ex)\n",
    "    plt.title(titles[d])\n",
    "    if d == 3:\n",
    "      plt.text(0.5, 1.15, title1, horizontalalignment='center',verticalalignment='center', transform=ax.transAxes,fontweight=600,\n",
    "              fontfamily='Tahoma',fontsize=20,color='k')\n",
    "  plt.savefig('/content/drive/MyDrive/Figures/Figure3/indices/imd_indices_'+title1+'.png')\n",
    "  #plt.savefig('/content/drive/MyDrive/BiasCorr/plots/imd_indices_'+title1+'.png')\n"
   ]
  },
  {
   "cell_type": "markdown",
   "metadata": {
    "id": "RBwAthvXB59D"
   },
   "source": [
    "## heat index"
   ]
  },
  {
   "cell_type": "code",
   "execution_count": null,
   "metadata": {
    "colab": {
     "base_uri": "https://localhost:8080/",
     "height": 1000
    },
    "executionInfo": {
     "elapsed": 21932,
     "status": "ok",
     "timestamp": 1638008186814,
     "user": {
      "displayName": "Vikram Singh Chandel",
      "photoUrl": "https://lh3.googleusercontent.com/a/default-user=s64",
      "userId": "07964427013125611178"
     },
     "user_tz": -330
    },
    "id": "QsQh4wlJAMKB",
    "outputId": "307604b8-44b2-46ba-f72b-9e7c98ca9404"
   },
   "outputs": [],
   "source": [
    "hit2=spatial_ind(data_rh,data_tas)\n",
    "titles123=['Obs',\n",
    "        'MIROC_ESM',\n",
    "        'CanESM2',\n",
    "        'HadGEM2_ES',\n",
    "        'GFDL_CM3',\n",
    "        'BCSD-MIROC_ESM',\n",
    "        'BCSD-CanESM2',\n",
    "        'BCSD-HadGEM2_ES',\n",
    "        'BCSD-GFDL_CM3',\n",
    "        'BCSD-Rnd_0',\n",
    "        'BCSD-Rnd_1',\n",
    "        'BCSD-Rnd_2',\n",
    "        'BCSD-Rnd_3']\n",
    "plot_indices(hit2,titles123,'HI32','# of days',[0,100],ex='max',cmap='YlOrRd')\n",
    "\n",
    "#R10mma,R10mmb=get_corr_n_rmse(R10mmindic)\n",
    "#plot_heatmap(R10mma,[-1,1],titles,\".1f\",'RdBu_r')\n",
    "#plot_heatmap(R10mmb,[0,100],titles,\".0f\",'Reds')"
   ]
  },
  {
   "cell_type": "code",
   "execution_count": null,
   "metadata": {
    "colab": {
     "base_uri": "https://localhost:8080/",
     "height": 555
    },
    "executionInfo": {
     "elapsed": 35674,
     "status": "ok",
     "timestamp": 1638008227957,
     "user": {
      "displayName": "Vikram Singh Chandel",
      "photoUrl": "https://lh3.googleusercontent.com/a/default-user=s64",
      "userId": "07964427013125611178"
     },
     "user_tz": -330
    },
    "id": "FmGcaI_rjH3_",
    "outputId": "c6b93912-7d9d-49fb-9fe0-67f024c25107"
   },
   "outputs": [],
   "source": [
    "b=get_corr_n_rmse(hit2,lat_obs,lon_obs)\n",
    "plot_heatmap(b,[0,100],titles,\".0f\",'Reds','HI32')"
   ]
  },
  {
   "cell_type": "code",
   "execution_count": null,
   "metadata": {
    "executionInfo": {
     "elapsed": 794,
     "status": "ok",
     "timestamp": 1638008230523,
     "user": {
      "displayName": "Vikram Singh Chandel",
      "photoUrl": "https://lh3.googleusercontent.com/a/default-user=s64",
      "userId": "07964427013125611178"
     },
     "user_tz": -330
    },
    "id": "PZOpD6RW7-pN"
   },
   "outputs": [],
   "source": [
    "np.save('/content/drive/MyDrive/BiasCorr/output_rh_tas_daily/heat_index',hit2)"
   ]
  },
  {
   "cell_type": "code",
   "execution_count": null,
   "metadata": {
    "executionInfo": {
     "elapsed": 8,
     "status": "ok",
     "timestamp": 1638008230524,
     "user": {
      "displayName": "Vikram Singh Chandel",
      "photoUrl": "https://lh3.googleusercontent.com/a/default-user=s64",
      "userId": "07964427013125611178"
     },
     "user_tz": -330
    },
    "id": "9_Q9fA_qEuGw"
   },
   "outputs": [],
   "source": [
    "np.save('/content/drive/MyDrive/BiasCorr/output_rh_tas_daily/mask_shape',mask_shape)"
   ]
  },
  {
   "cell_type": "code",
   "execution_count": null,
   "metadata": {
    "executionInfo": {
     "elapsed": 1230,
     "status": "ok",
     "timestamp": 1638008231746,
     "user": {
      "displayName": "Vikram Singh Chandel",
      "photoUrl": "https://lh3.googleusercontent.com/a/default-user=s64",
      "userId": "07964427013125611178"
     },
     "user_tz": -330
    },
    "id": "FiLR-iMHGEUv"
   },
   "outputs": [],
   "source": [
    "np.save('/content/drive/MyDrive/BiasCorr/output_rh_tas_daily/lat_obs_ncar',lat_obs.data)\n",
    "np.save('/content/drive/MyDrive/BiasCorr/output_rh_tas_daily/lon_obs_ncar',lon_obs.data)"
   ]
  },
  {
   "cell_type": "code",
   "execution_count": null,
   "metadata": {
    "executionInfo": {
     "elapsed": 14,
     "status": "aborted",
     "timestamp": 1638007218672,
     "user": {
      "displayName": "Vikram Singh Chandel",
      "photoUrl": "https://lh3.googleusercontent.com/a/default-user=s64",
      "userId": "07964427013125611178"
     },
     "user_tz": -330
    },
    "id": "DQlGcKt47IeM"
   },
   "outputs": [],
   "source": [
    "N1=hit[0].shape[0]\n",
    "N2=hit[0].shape[1]\n",
    "print(N1,N2)\n",
    "out_write=np.zeros(13,N1,N2)\n",
    "for d in range(13):\n"
   ]
  },
  {
   "cell_type": "markdown",
   "metadata": {
    "id": "1SzV4ve7V2an"
   },
   "source": [
    "# Other"
   ]
  },
  {
   "cell_type": "markdown",
   "metadata": {
    "id": "T_SOQxfzdm4R"
   },
   "source": []
  },
  {
   "cell_type": "code",
   "execution_count": null,
   "metadata": {
    "id": "bXodl9vxdnOr"
   },
   "outputs": [],
   "source": [
    "def map_plot_cyl_final(data_lat_x_lon,lat_cen,lon_cen,map_bounds,clab,y_limit,ax,mp_spacing=10,subplot_iter=1,loff=1,coff=1,ex='both'):\n",
    "\n",
    "  lat_box=uu.cen_to_box(lat_cen)\n",
    "  lon_box=uu.cen_to_box(lon_cen)\n",
    "\n",
    "  map = Basemap(projection='cyl',resolution='l',\n",
    "                llcrnrlon=map_bounds[0], \n",
    "                urcrnrlat=map_bounds[1],\n",
    "                urcrnrlon=map_bounds[2], \n",
    "                llcrnrlat=map_bounds[3])\n",
    "\n",
    "\n",
    "  xx, yy = meshgrid(lon_box,lat_box )\n",
    "  #return  dimenion of lat * lon\n",
    "  map.pcolor(xx, yy, data_lat_x_lon,cmap='jet')\n",
    "  map.drawmeridians(np.arange(-180,180,mp_spacing),labels=[0,0,0,1], linewidth=1.0) #longitudes\n",
    "  if loff==0:\n",
    "    map.drawparallels(np.arange(-90,90,mp_spacing),labels=[1,0,0,0], linewidth=1.0) #latitudes\n",
    "  else:\n",
    "    map.drawparallels(np.arange(-90,90,mp_spacing),labels=[0,0,0,0], linewidth=1.0) #latitudes\n",
    "  cbar = map.colorbar(extend=ex)\n",
    "  #cbar.ax.set_yticklabels(['0','1','2','>3'])\n",
    "  cbar.set_label(clab, rotation=90)\n",
    "  plt.clim(y_limit)\n",
    "\n",
    "  if coff==1:\n",
    "    cbar.remove()\n",
    "\n",
    "  #map.drawcountries(linewidth=1)\n",
    "  map.readshapefile('/content/drive/MyDrive/Shapefiles/ind', 'IND', linewidth=1.0)\n",
    "\n",
    "  map.drawcoastlines(linewidth=1)\n",
    "  lxx=0.02\n",
    "  lyy=0.98\n",
    "  lcol='k'\n",
    "  lsize=24\n",
    "  lfamily='Tahoma'\n",
    "  lweight=800\n",
    " # y_limit=[0,30]\n",
    "  #clab='days'\n",
    "  \n",
    "  plt.text(lxx, lyy, chr(subplot_iter+96), horizontalalignment='left',verticalalignment='top', transform=ax.transAxes,fontweight=lweight,\n",
    "           fontfamily=lfamily,fontsize=lsize,color=lcol)"
   ]
  },
  {
   "cell_type": "code",
   "execution_count": null,
   "metadata": {
    "id": "kfPfMXtWiLyL"
   },
   "outputs": [],
   "source": []
  },
  {
   "cell_type": "code",
   "execution_count": null,
   "metadata": {
    "colab": {
     "base_uri": "https://localhost:8080/",
     "height": 980
    },
    "executionInfo": {
     "elapsed": 12628,
     "status": "ok",
     "timestamp": 1634449734834,
     "user": {
      "displayName": "Vikram Singh Chandel",
      "photoUrl": "https://lh3.googleusercontent.com/a/default-user=s64",
      "userId": "07964427013125611178"
     },
     "user_tz": -330
    },
    "id": "UUdFDQmOV82y",
    "outputId": "09c4ad07-32ec-4129-aef2-0f6efd5a3f62"
   },
   "outputs": [],
   "source": [
    "Dl=[0,2,6,10]\n",
    "\n",
    "dapa=[R10mmindic[Dl[0],:,:],\n",
    "  R10mmindic[Dl[1],:,:],\n",
    "  R10mmindic[Dl[2],:,:],\n",
    "  R10mmindic[Dl[3],:,:],\n",
    "  CDDindic[Dl[0],:,:],\n",
    "  CDDindic[Dl[1],:,:],\n",
    "  CDDindic[Dl[2],:,:],\n",
    "  CDDindic[Dl[3],:,:],\n",
    "  Rx1dayindic[Dl[0],:,:],\n",
    "  Rx1dayindic[Dl[1],:,:],\n",
    "  Rx1dayindic[Dl[2],:,:],\n",
    "  Rx1dayindic[Dl[3],:,:],\n",
    "  R99pTOTindic[Dl[0],:,:],\n",
    "  R99pTOTindic[Dl[1],:,:],\n",
    "  R99pTOTindic[Dl[2],:,:],\n",
    "  R99pTOTindic[Dl[3],:,:]]\n",
    "\n",
    "clab='1111'\n",
    "y_limits=[[0,120],\n",
    "         [0,150],\n",
    "         [0,120],\n",
    "         [0,15]]\n",
    "labels=['# of days','# of days','mm','%age']\n",
    "lofff=[0,1,1,1,0,1,1,1,0,1,1,1,0,1,1,1]\n",
    "cofff=[1,1,1,0,1,1,1,0,1,1,1,0,1,1,1,0]\n",
    "titlesx=['Observation','Raw CanESM2','BCSD CanESM2','BCSD Random']\n",
    "titlesy=['R10mm','CDD','Rx1day','R99pTOT']\n",
    "ex='max'\n",
    "fig=plt.figure(figsize=(16,17))\n",
    "\n",
    "for rr in range(4):\n",
    "  for cc in range(4):\n",
    "    iter=rr*4+cc\n",
    "    ax=plt.subplot(4,4,iter+1)\n",
    "    #plt.pcolor(ma.masked_array(dapa[rr*4+cc], mask=mask))\n",
    "    map_plot_cyl_final(ma.masked_array(dapa[iter], mask=mask),lat_obs,lon_obs,map_bounds,labels[rr],y_limits[rr],ax,mp_spacing=10,subplot_iter=iter+1,loff=lofff[iter],coff=cofff[iter],ex=ex)\n",
    "    plt.title(titlesx[cc])\n",
    "\n",
    "\n",
    "fig.text(0.08, 0.8, titlesy[0], va='center', ha='center', rotation='vertical', fontsize=16)\n",
    "fig.text(0.08, 0.6, titlesy[1], va='center', ha='center', rotation='vertical', fontsize=16)\n",
    "fig.text(0.08, 0.4, titlesy[2], va='center', ha='center', rotation='vertical', fontsize=16)\n",
    "fig.text(0.08, 0.21, titlesy[3], va='center', ha='center', rotation='vertical', fontsize=16)\n",
    "\n"
   ]
  },
  {
   "cell_type": "code",
   "execution_count": null,
   "metadata": {
    "id": "SUSOxidVpjCD"
   },
   "outputs": [],
   "source": [
    "ind1h=get_corr_n_rmse(dapa[:4])"
   ]
  },
  {
   "cell_type": "code",
   "execution_count": null,
   "metadata": {
    "id": "t4qJLZvtpriD"
   },
   "outputs": [],
   "source": [
    "ind2h=get_corr_n_rmse(dapa[4:8])"
   ]
  },
  {
   "cell_type": "code",
   "execution_count": null,
   "metadata": {
    "id": "g8Rp5msQpuF4"
   },
   "outputs": [],
   "source": [
    "ind3h=get_corr_n_rmse(dapa[8:12])"
   ]
  },
  {
   "cell_type": "code",
   "execution_count": null,
   "metadata": {
    "id": "btOqk9UgpwvZ"
   },
   "outputs": [],
   "source": [
    "ind4h=get_corr_n_rmse(dapa[12:16])"
   ]
  },
  {
   "cell_type": "code",
   "execution_count": null,
   "metadata": {
    "id": "FKxrtdxipahr"
   },
   "outputs": [],
   "source": [
    "\n",
    "\n",
    "def plot_hmap(data_corr,ylim,titles,fmt,cmap):\n",
    "  fig=plt.figure(figsize=(25,13.75))\n",
    "  S=data_corr[0].shape[0]\n",
    "  for iii in range(4):\n",
    "    for subs in range(S):\n",
    "      ax=plt.subplot(4,6,iii*6+subs+1)\n",
    "      \n",
    "      data_set = data_corr[iii][subs,:,:]\n",
    "      h=sns.heatmap(data_set , linewidth = 2 , cmap = cmap, \n",
    "                  annot=True,\n",
    "                  fmt=fmt ,square=True,\n",
    "                  xticklabels=titles,\n",
    "                  yticklabels=titles,vmin=ylim[iii][0],vmax=ylim[iii][1])\n",
    "      if iii==0:\n",
    "        plt.title(region_shapes['State_Name'][subs])\n",
    "        \n",
    "      lxx=0.98\n",
    "      lyy=0.98\n",
    "      lcol='k'\n",
    "      lsize=24\n",
    "      lfamily='Tahoma'\n",
    "      lweight=800\n",
    "      \n",
    "      plt.text(lxx, lyy,  chr(iii*4+subs+1+96), horizontalalignment='right',verticalalignment='top', transform=ax.transAxes,fontweight=lweight,\n",
    "              fontsize=lsize,color=lcol)    \n",
    "      \n",
    "  fig.text(0.08, 0.8, titlesy[0], va='center', ha='center', rotation='vertical', fontsize=16)\n",
    "  fig.text(0.08, 0.6, titlesy[1], va='center', ha='center', rotation='vertical', fontsize=16)\n",
    "  fig.text(0.08, 0.4, titlesy[2], va='center', ha='center', rotation='vertical', fontsize=16)\n",
    "  fig.text(0.08, 0.21, titlesy[3], va='center', ha='center', rotation='vertical', fontsize=16)\n",
    "  #fig.text(0.08, 0.21, titlesy[3], va='center', ha='center', rotation='vertical', fontsize=16)\n",
    "\n",
    "\n",
    "  plt.show()"
   ]
  },
  {
   "cell_type": "code",
   "execution_count": null,
   "metadata": {
    "id": "Q9EEPIogsGmH"
   },
   "outputs": [],
   "source": [
    "titles=['Obs','GCM','BC-G','BC-R']\n"
   ]
  },
  {
   "cell_type": "code",
   "execution_count": null,
   "metadata": {
    "colab": {
     "base_uri": "https://localhost:8080/"
    },
    "executionInfo": {
     "elapsed": 13443,
     "status": "ok",
     "timestamp": 1634449828587,
     "user": {
      "displayName": "Vikram Singh Chandel",
      "photoUrl": "https://lh3.googleusercontent.com/a/default-user=s64",
      "userId": "07964427013125611178"
     },
     "user_tz": -330
    },
    "id": "o1gWaYmar_By",
    "outputId": "642a53a7-a123-4c24-9dac-2003a0f92244"
   },
   "outputs": [],
   "source": [
    "plot_hmap([ind1h,ind2h,ind3h,ind4h],[[0,40],[0,50],[0,80],[0,10]],titles,\".1f\",'Reds')"
   ]
  }
 ],
 "metadata": {
  "colab": {
   "authorship_tag": "ABX9TyNhak9o6zgYfuI0uK0VjCW9",
   "collapsed_sections": [
    "fwo6erev4KDb",
    "uUmZjdp-m6JT",
    "FDeN4mfem9p_",
    "AYP0WOc5xJj5",
    "1SzV4ve7V2an"
   ],
   "mount_file_id": "1nAZZ6zhoLgJ3iepqS7RygPJ1001H3A4m",
   "name": "Heat Index.ipynb",
   "provenance": [
    {
     "file_id": "1VlyiGYmEpVqrnjayEPjJp7X8EHjpPLMR",
     "timestamp": 1636460926421
    },
    {
     "file_id": "1R87Z8gZrwK8rXFmacCSUg_UYk7GAmdp3",
     "timestamp": 1625652572820
    }
   ]
  },
  "kernelspec": {
   "display_name": "Python 3 (ipykernel)",
   "language": "python",
   "name": "python3"
  },
  "language_info": {
   "codemirror_mode": {
    "name": "ipython",
    "version": 3
   },
   "file_extension": ".py",
   "mimetype": "text/x-python",
   "name": "python",
   "nbconvert_exporter": "python",
   "pygments_lexer": "ipython3",
   "version": "3.9.12"
  }
 },
 "nbformat": 4,
 "nbformat_minor": 4
}
