{
 "cells": [
  {
   "cell_type": "code",
   "execution_count": null,
   "metadata": {
    "executionInfo": {
     "elapsed": 416,
     "status": "ok",
     "timestamp": 1655100642669,
     "user": {
      "displayName": "Vikram Singh Chandel",
      "userId": "07964427013125611178"
     },
     "user_tz": -330
    },
    "id": "fKd-tcXtK_Tj"
   },
   "outputs": [],
   "source": [
    "import utility_module_2_v_3 as uu\n",
    "import numpy as np\n",
    "import matplotlib.pyplot as plt\n",
    "import numpy.ma as ma\n",
    "from numpy import meshgrid\n",
    "from mpl_toolkits.basemap import Basemap\n",
    "\n",
    "# import geopandas as gpd\n",
    "# from shapely.geometry  import Point\n",
    "# from shapely.geometry import shape\n",
    "# import seaborn as sns\n",
    "from matplotlib.patches import Rectangle\n",
    "import geopandas as gpd\n",
    "from shapely.geometry  import Point\n",
    "from shapely.geometry import shape\n",
    "\n",
    "\n",
    "import pandas as pd \n"
   ]
  },
  {
   "cell_type": "markdown",
   "metadata": {
    "id": "9MGiFJ8WtzQY"
   },
   "source": [
    "# defs"
   ]
  },
  {
   "cell_type": "markdown",
   "metadata": {
    "id": "6rCGZi_YOy2P"
   },
   "source": [
    "## other functions"
   ]
  },
  {
   "cell_type": "code",
   "execution_count": null,
   "metadata": {
    "executionInfo": {
     "elapsed": 5,
     "status": "ok",
     "timestamp": 1655100652140,
     "user": {
      "displayName": "Vikram Singh Chandel",
      "userId": "07964427013125611178"
     },
     "user_tz": -330
    },
    "id": "00UPUuJqY1Gf"
   },
   "outputs": [],
   "source": [
    "def create_mask(fo,lat_obs_cru,lon_obs_cru,buffer=0,plot=0):\n",
    "  filename=gpd.read_file(fo)\n",
    "  shp_geom = shape(filename.geometry[0])\n",
    "\n",
    "  xxc, yyc = meshgrid(lon_obs_cru,lat_obs_cru)\n",
    "  mask_shape=np.zeros(xxc.shape,dtype=bool)\n",
    "  if plot==1:\n",
    "    x,y = shp_geom.exterior.xy\n",
    "    plt.plot(x,y)\n",
    "  N1=xxc.shape[0]\n",
    "  N2=xxc.shape[1]\n",
    "\n",
    "  for lat_i in range(0,N1):\n",
    "    for lon_i in range(0,N2):\n",
    "      xi=xxc[lat_i,lon_i]\n",
    "      yi=yyc[lat_i,lon_i]\n",
    "      m1= (shp_geom.contains(Point(xi, yi)) or shp_geom.touches(Point(xi, yi)))\n",
    "      mask_shape[lat_i,lon_i]=not m1\n",
    "\n",
    "  return mask_shape"
   ]
  },
  {
   "cell_type": "markdown",
   "metadata": {
    "id": "KQ7_Xd8CfKyR"
   },
   "source": [
    "# init"
   ]
  },
  {
   "cell_type": "code",
   "execution_count": null,
   "metadata": {
    "colab": {
     "base_uri": "https://localhost:8080/",
     "height": 35
    },
    "executionInfo": {
     "elapsed": 11,
     "status": "ok",
     "timestamp": 1655100421198,
     "user": {
      "displayName": "Vikram Singh Chandel",
      "userId": "07964427013125611178"
     },
     "user_tz": -330
    },
    "id": "YLwaVMxlq0Sz",
    "outputId": "5e2d9f53-b583-499d-cd1d-4300f195278e"
   },
   "outputs": [],
   "source": [
    "gcm_names=['MIROC_ESM','CanESM2','HadGEM2_AO','GFDL_CM3']\n",
    "gcm_iter=1\n",
    "gcm_name=gcm_names[gcm_iter]\n",
    "gcm_name\n",
    "fig_name_suffix = ''#_eqm'"
   ]
  },
  {
   "cell_type": "markdown",
   "metadata": {
    "id": "2NG2USEmDeTg",
    "tags": []
   },
   "source": [
    "## India Bias "
   ]
  },
  {
   "cell_type": "code",
   "execution_count": null,
   "metadata": {
    "executionInfo": {
     "elapsed": 60894,
     "status": "ok",
     "timestamp": 1655100629786,
     "user": {
      "displayName": "Vikram Singh Chandel",
      "userId": "07964427013125611178"
     },
     "user_tz": -330
    },
    "id": "MV5T3FLRqxZI"
   },
   "outputs": [],
   "source": [
    "map_bounds=[65, 40, 100, 5]\n",
    "path_out ='/home/vikram/BCSD_data/India_P_BCSDd' +fig_name_suffix\n",
    "\n",
    "imd=np.load(path_out + '/data_obs_imd_pred.npy')\n",
    "\n",
    "gcm_01=uu.correct_nan_inf_neg(np.load(path_out + '/data_gcm_'+gcm_name+'_imd_pred.npy'))\n",
    "gcm_meta_01=(np.load(path_out + '/bcsd_imd_metadata_'+gcm_name+'.npy',\n",
    "                     allow_pickle=True))\n",
    "out_id='pre_'+gcm_name\n",
    "bcsd_gcm_01=uu.correct_nan_inf_neg(np.load(path_out + '/BCSD_outputs_'+out_id+'.npy'))\n",
    "#bc_gcm_01=correct_nan_inf_neg(np.load('/content/drive/MyDrive/BiasCorr/aBC_outputs_full_'+out_id+'.npy'))\n",
    "#bc_rnd_01=correct_nan_inf_neg(np.load('/content/drive/MyDrive/BiasCorr/aBC_outputs_full_exp_0_run_0_imd.npy'))\n",
    "bcsd_rnd_01=uu.correct_nan_inf_neg(np.load(path_out + '/BCSD_outputs_pre_rnd_0.npy'))\n",
    "# bcsd_rnd_01=uu.correct_nan_inf_neg(np.load(path_out + '/BCSD_outputs_pre_rnd_new_12.npy'))\n",
    "\n",
    "st=gcm_meta_01.item()['st']\n",
    "en=gcm_meta_01.item()['en']\n",
    "lat_obs_in=gcm_meta_01.item()['lat_obs']\n",
    "lon_obs_in=gcm_meta_01.item()['lon_obs']\n",
    "lat_gcm_01=gcm_meta_01.item()['lat_gcm']\n",
    "lon_gcm_01=gcm_meta_01.item()['lon_gcm']\n",
    "\n",
    "data_obs=np.zeros((imd.shape[0],gcm_01.shape[1],gcm_01.shape[2]))\n",
    "data_gf=np.zeros(imd.shape)\n",
    "\n",
    "for i in range(data_obs.shape[0]):\n",
    "  data_obs[i,:,:]=uu.regrid(imd[i,:,:],lat_obs_in,lon_obs_in,lat_gcm_01,lon_gcm_01)\n",
    "  data_gf[i,:,:]=uu.regrid(gcm_01[i,:,:],lat_gcm_01,lon_gcm_01,lat_obs_in,lon_obs_in)\n",
    "  "
   ]
  },
  {
   "cell_type": "code",
   "execution_count": null,
   "metadata": {
    "executionInfo": {
     "elapsed": 640,
     "status": "ok",
     "timestamp": 1655100630421,
     "user": {
      "displayName": "Vikram Singh Chandel",
      "userId": "07964427013125611178"
     },
     "user_tz": -330
    },
    "id": "VBMxmBAxye6u"
   },
   "outputs": [],
   "source": [
    "later=14\n",
    "loner=16\n",
    "\n",
    "\n",
    "\n",
    "lat_obs_in[later]\n",
    "lon_obs_in[loner]\n",
    "rhx=lon_obs_in[loner+1]-lon_obs_in[loner]\n",
    "rhy=lat_obs_in[later+1]-lat_obs_in[later]\n",
    "ll=(lon_obs_in[loner]-0.5*rhx,lat_obs_in[later]-rhy*0.5)"
   ]
  },
  {
   "cell_type": "code",
   "execution_count": null,
   "metadata": {
    "colab": {
     "base_uri": "https://localhost:8080/",
     "height": 131
    },
    "executionInfo": {
     "elapsed": 4068,
     "status": "ok",
     "timestamp": 1655100663871,
     "user": {
      "displayName": "Vikram Singh Chandel",
      "userId": "07964427013125611178"
     },
     "user_tz": -330
    },
    "id": "M3W6Ex6EX1hO",
    "outputId": "df3501de-dda7-4726-ae6f-246c4d2d40f0"
   },
   "outputs": [],
   "source": [
    "mask_inf=create_mask('/home/vikram/BCSD_Shapefiles/ind.shp',lat_obs_in.data,lon_obs_in.data,buffer=1,plot=0)\n",
    "map_bounds=[55,37.5,110,7.5]\n",
    "import numpy.ma as ma\n",
    "data_in_pre=[imd,data_gf,bcsd_gcm_01,bcsd_rnd_01]\n",
    "# plt.figure(figsize=(20,5))\n",
    "# for d in range(4):\n",
    "#   ax=plt.subplot(1,4,d+1)\n",
    "#   data_x=ma.MaskedArray(np.mean(data_in_pre[d],axis=0),mask=mask_inf)\n",
    "#   map_plot_cyl(data_x,lat_obs_in,lon_obs_in,map_bounds,'mm','jet',[0,10],ax,subplot_iter=d+1)\n",
    "\n",
    "#   rect1 = Rectangle(ll, rhx, rhy, facecolor='none',edgecolor='black' )\n",
    "#   pt1=ax.add_patch(rect1) \n",
    "#   pt1.zorder=1\n",
    "#   pt1.set_lw(2)"
   ]
  },
  {
   "cell_type": "code",
   "execution_count": null,
   "metadata": {
    "colab": {
     "base_uri": "https://localhost:8080/"
    },
    "executionInfo": {
     "elapsed": 5153,
     "status": "ok",
     "timestamp": 1642515918195,
     "user": {
      "displayName": "Vikram Singh Chandel",
      "photoUrl": "https://lh3.googleusercontent.com/a/default-user=s64",
      "userId": "07964427013125611178"
     },
     "user_tz": -330
    },
    "id": "7Zl2PQNJ2kN6",
    "outputId": "94aa555d-d4f0-41ee-c9cf-272ceac62960"
   },
   "outputs": [],
   "source": [
    "mask_inf=create_mask('/home/vikram/BCSD_Shapefiles/ind.shp',lat_obs_in.data,lon_obs_in.data,buffer=1,plot=0)\n",
    "map_bounds=[55,37.5,110,7.5]\n",
    "import numpy.ma as ma\n",
    "data_in_pre=[imd,data_gf,bcsd_gcm_01,bcsd_rnd_01]\n",
    "# plt.figure(figsize=(20,5))\n",
    "# for d in range(4):\n",
    "#   ax=plt.subplot(1,4,d+1)\n",
    "#   data_x=ma.MaskedArray(np.var(data_in_pre[d],axis=0),mask=mask_inf)\n",
    "#   map_plot_cyl(data_x,lat_obs_in,lon_obs_in,map_bounds,'mm','jet',[0,100],ax,subplot_iter=d+1)\n",
    "\n",
    "#   rect1 = Rectangle(ll, rhx, rhy, facecolor='none',edgecolor='black' )\n",
    "#   pt1=ax.add_patch(rect1) \n",
    "#   pt1.zorder=1\n",
    "#   pt1.set_lw(2)"
   ]
  },
  {
   "cell_type": "code",
   "execution_count": null,
   "metadata": {
    "id": "ws3qg7PhwP1X"
   },
   "outputs": [],
   "source": [
    "ts_obs=np.mean(np.reshape((data_in_pre[0],1951,2005)[0][:,later,loner],[365,-1],order='F'),axis=1)\n",
    "ts_gcm=np.mean(np.reshape((data_in_pre[1],1951,2005)[0][:,later,loner],[365,-1],order='F'),axis=1)\n",
    "ts_bcsd_gcm=np.mean(np.reshape((data_in_pre[2],1951,2005)[0][:,later,loner],[365,-1],order='F'),axis=1)\n",
    "ts_bcsd_rnd=np.mean(np.reshape((data_in_pre[3],1951,2005)[0][:,later,loner],[365,-1],order='F'),axis=1)"
   ]
  },
  {
   "cell_type": "code",
   "execution_count": null,
   "metadata": {
    "id": "Om0iV0PG2Mga"
   },
   "outputs": [],
   "source": [
    "ts_obs_v=np.var(np.reshape((data_in_pre[0],1951,2005)[0][:,later,loner],[365,-1],order='F'),axis=1)\n",
    "ts_gcm_v=np.var(np.reshape((data_in_pre[1],1951,2005)[0][:,later,loner],[365,-1],order='F'),axis=1)\n",
    "ts_bcsd_gcm_v=np.var(np.reshape((data_in_pre[2],1951,2005)[0][:,later,loner],[365,-1],order='F'),axis=1)\n",
    "ts_bcsd_rnd_v=np.var(np.reshape((data_in_pre[3],1951,2005)[0][:,later,loner],[365,-1],order='F'),axis=1)"
   ]
  },
  {
   "cell_type": "code",
   "execution_count": null,
   "metadata": {
    "id": "1Ay13-nDezNr"
   },
   "outputs": [],
   "source": [
    "ts_obs_1a=np.reshape((data_in_pre[0],1951,2005)[0][:,later,loner],[365,-1],order='F')[213,:]\n",
    "ts_gcm_1a=np.reshape((data_in_pre[1],1951,2005)[0][:,later,loner],[365,-1],order='F')[213,:]\n",
    "ts_bcsd_gcm_1a=np.reshape((data_in_pre[2],1951,2005)[0][:,later,loner],[365,-1],order='F')[213,:]\n",
    "ts_bcsd_rnd_1a=np.reshape((data_in_pre[3],1951,2005)[0][:,later,loner],[365,-1],order='F')[213,:]\n",
    "data_qq_ip=[ts_obs_1a,ts_gcm_1a,ts_bcsd_gcm_1a,ts_bcsd_rnd]"
   ]
  },
  {
   "cell_type": "code",
   "execution_count": null,
   "metadata": {
    "colab": {
     "base_uri": "https://localhost:8080/"
    },
    "executionInfo": {
     "elapsed": 22,
     "status": "ok",
     "timestamp": 1642515919388,
     "user": {
      "displayName": "Vikram Singh Chandel",
      "photoUrl": "https://lh3.googleusercontent.com/a/default-user=s64",
      "userId": "07964427013125611178"
     },
     "user_tz": -330
    },
    "id": "7JgX6rHWwOZ3",
    "outputId": "6638a4d6-f1b3-4143-a7d9-2607ab308c36"
   },
   "outputs": [],
   "source": [
    "\n",
    "data_in_pre2=[ts_obs,ts_gcm,ts_bcsd_gcm,ts_bcsd_rnd]\n",
    "\n",
    "plt.plot(ts_obs)#moving_average(a,ww))\n",
    "plt.plot(ts_gcm)#moving_average(b,ww))\n",
    "plt.plot(ts_bcsd_gcm)#moving_average(c,ww))\n",
    "plt.plot(ts_bcsd_rnd)#moving_average(d,ww))\n",
    "\n",
    "plt.legend(['Obs','GCM','BCSD-gcm','BCSD-rnd'])\n",
    "#plt.savefig('/content/drive/MyDrive/fig2b.svg')"
   ]
  },
  {
   "cell_type": "markdown",
   "metadata": {
    "id": "2NG2USEmDeTg",
    "tags": []
   },
   "source": [
    "## India Bias temp "
   ]
  },
  {
   "cell_type": "code",
   "execution_count": null,
   "metadata": {
    "executionInfo": {
     "elapsed": 60894,
     "status": "ok",
     "timestamp": 1655100629786,
     "user": {
      "displayName": "Vikram Singh Chandel",
      "userId": "07964427013125611178"
     },
     "user_tz": -330
    },
    "id": "MV5T3FLRqxZI"
   },
   "outputs": [],
   "source": [
    "map_bounds=[65, 40, 100, 5]\n",
    "path_out ='/home/vikram/BCSD_data/India_T_BCSDd'+fig_name_suffix\n",
    "\n",
    "imd=uu.correct_nan_inf_neg(np.load(path_out + '/data_obs_imd_pred.npy'))\n",
    "\n",
    "gcm_01=uu.correct_nan_inf_neg(np.load(path_out + '/data_gcm_'+gcm_name+'_imd_pred.npy'))\n",
    "gcm_meta_01=(np.load(path_out + '/bcsd_imd_metadata_'+gcm_name+'.npy',\n",
    "                     allow_pickle=True))\n",
    "out_id='tas_'+gcm_name\n",
    "# bcsd_gcm_01=uu.correct_nan_inf_neg(np.load(path_out + '/BCSD_outputs_'+out_id+'.npy'))\n",
    "bcsd_gcm_01 = np.load(path_out + '/BCSD_outputs_'+out_id+'.npy')\n",
    "bcsd_gcm_01[np.isinf(bcsd_gcm_01)] = np.nan\n",
    "#bc_gcm_01=correct_nan_inf_neg(np.load('/content/drive/MyDrive/BiasCorr/aBC_outputs_full_'+out_id+'.npy'))\n",
    "#bc_rnd_01=correct_nan_inf_neg(np.load('/content/drive/MyDrive/BiasCorr/aBC_outputs_full_exp_0_run_0_imd.npy'))\n",
    "bcsd_rnd_01=np.load(path_out + '/BCSD_outputs_tas_rnd_0.npy')\n",
    "bcsd_rnd_01[np.isinf(bcsd_rnd_01)] = np.nan\n",
    "\n",
    "st=gcm_meta_01.item()['st']\n",
    "en=gcm_meta_01.item()['en']\n",
    "lat_obs_in_t=gcm_meta_01.item()['lat_obs']\n",
    "lon_obs_in_t=gcm_meta_01.item()['lon_obs']\n",
    "lat_gcm_01_t=gcm_meta_01.item()['lat_gcm']\n",
    "lon_gcm_01_t=gcm_meta_01.item()['lon_gcm']\n",
    "\n",
    "data_obs=np.zeros((imd.shape[0],gcm_01.shape[1],gcm_01.shape[2]))\n",
    "data_gf=np.zeros(imd.shape)\n",
    "\n",
    "for i in range(data_obs.shape[0]):\n",
    "  data_obs[i,:,:]=uu.regrid(imd[i,:,:],lat_obs_in_t,lon_obs_in_t,lat_gcm_01_t,lon_gcm_01_t)\n",
    "  data_gf[i,:,:]=uu.regrid(gcm_01[i,:,:],lat_gcm_01_t,lon_gcm_01_t,lat_obs_in_t,lon_obs_in_t)\n",
    "  "
   ]
  },
  {
   "cell_type": "code",
   "execution_count": null,
   "metadata": {},
   "outputs": [],
   "source": [
    "bcsd_rnd_01[np.isinf(bcsd_rnd_01)] = np.nan\n"
   ]
  },
  {
   "cell_type": "code",
   "execution_count": null,
   "metadata": {},
   "outputs": [],
   "source": [
    "lat_obs_in_t.shape"
   ]
  },
  {
   "cell_type": "code",
   "execution_count": null,
   "metadata": {
    "executionInfo": {
     "elapsed": 640,
     "status": "ok",
     "timestamp": 1655100630421,
     "user": {
      "displayName": "Vikram Singh Chandel",
      "userId": "07964427013125611178"
     },
     "user_tz": -330
    },
    "id": "VBMxmBAxye6u"
   },
   "outputs": [],
   "source": [
    "later=15\n",
    "loner=12\n",
    "later=14\n",
    "loner=16\n",
    "\n",
    "\n",
    "lat_obs_in_t[later]\n",
    "lon_obs_in_t[loner]\n",
    "rhx=lon_obs_in_t[loner+1]-lon_obs_in_t[loner]\n",
    "rhy=lat_obs_in_t[later+1]-lat_obs_in_t[later]\n",
    "ll=(lon_obs_in_t[loner]-0.5*rhx,lat_obs_in_t[later]-rhy*0.5)"
   ]
  },
  {
   "cell_type": "code",
   "execution_count": null,
   "metadata": {
    "colab": {
     "base_uri": "https://localhost:8080/",
     "height": 131
    },
    "executionInfo": {
     "elapsed": 4068,
     "status": "ok",
     "timestamp": 1655100663871,
     "user": {
      "displayName": "Vikram Singh Chandel",
      "userId": "07964427013125611178"
     },
     "user_tz": -330
    },
    "id": "M3W6Ex6EX1hO",
    "outputId": "df3501de-dda7-4726-ae6f-246c4d2d40f0"
   },
   "outputs": [],
   "source": [
    "mask_inf_temp=create_mask('/home/vikram/BCSD_Shapefiles/ind.shp',lat_obs_in_t.data,lon_obs_in_t.data,buffer=1,plot=0)\n",
    "map_bounds=[55,37.5,110,7.5]\n",
    "import numpy.ma as ma\n",
    "data_in_tas=[imd,data_gf,bcsd_gcm_01,bcsd_rnd_01]\n",
    "# plt.figure(figsize=(20,5))\n",
    "# for d in range(4):\n",
    "#   ax=plt.subplot(1,4,d+1)\n",
    "#   data_x=ma.MaskedArray(np.mean(data_in_pre[d],axis=0),mask=mask_inf)\n",
    "#   map_plot_cyl(data_x,lat_obs_in,lon_obs_in,map_bounds,'mm','jet',[0,10],ax,subplot_iter=d+1)\n",
    "\n",
    "#   rect1 = Rectangle(ll, rhx, rhy, facecolor='none',edgecolor='black' )\n",
    "#   pt1=ax.add_patch(rect1) \n",
    "#   pt1.zorder=1\n",
    "#   pt1.set_lw(2)"
   ]
  },
  {
   "cell_type": "code",
   "execution_count": null,
   "metadata": {},
   "outputs": [],
   "source": [
    "mask_inf_temp.shape"
   ]
  },
  {
   "cell_type": "code",
   "execution_count": null,
   "metadata": {
    "id": "ws3qg7PhwP1X"
   },
   "outputs": [],
   "source": [
    "ts_obs=np.nanmean(np.reshape((data_in_tas[0],1951,2005)[0][:,later,loner],[365,-1],order='F'),axis=1)\n",
    "ts_gcm=np.nanmean(np.reshape((data_in_tas[1],1951,2005)[0][:,later,loner],[365,-1],order='F'),axis=1)\n",
    "ts_bcsd_gcm=np.nanmean(np.reshape((data_in_tas[2],1951,2005)[0][:,later,loner],[365,-1],order='F'),axis=1)\n",
    "ts_bcsd_rnd=np.nanmean(np.reshape((data_in_tas[3],1951,2005)[0][:,later,loner],[365,-1],order='F'),axis=1)"
   ]
  },
  {
   "cell_type": "code",
   "execution_count": null,
   "metadata": {
    "id": "Om0iV0PG2Mga"
   },
   "outputs": [],
   "source": [
    "ts_obs_v=np.nanvar(np.reshape((data_in_tas[0],1951,2005)[0][:,later,loner],[365,-1],order='F'),axis=1)\n",
    "ts_gcm_v=np.nanvar(np.reshape((data_in_tas[1],1951,2005)[0][:,later,loner],[365,-1],order='F'),axis=1)\n",
    "ts_bcsd_gcm_v=np.nanvar(np.reshape((data_in_tas[2],1951,2005)[0][:,later,loner],[365,-1],order='F'),axis=1)\n",
    "ts_bcsd_rnd_v=np.nanvar(np.reshape((data_in_tas[3],1951,2005)[0][:,later,loner],[365,-1],order='F'),axis=1)"
   ]
  },
  {
   "cell_type": "code",
   "execution_count": null,
   "metadata": {
    "id": "1Ay13-nDezNr"
   },
   "outputs": [],
   "source": [
    "ts_obs_1a=np.reshape((data_in_tas[0],1951,2005)[0][:,later,loner],[365,-1],order='F')[213,:]\n",
    "ts_gcm_1a=np.reshape((data_in_tas[1],1951,2005)[0][:,later,loner],[365,-1],order='F')[213,:]\n",
    "ts_bcsd_gcm_1a=np.reshape((data_in_tas[2],1951,2005)[0][:,later,loner],[365,-1],order='F')[213,:]\n",
    "ts_bcsd_rnd_1a=np.reshape((data_in_tas[3],1951,2005)[0][:,later,loner],[365,-1],order='F')[213,:]\n",
    "data_qq_ip=[ts_obs_1a,ts_gcm_1a,ts_bcsd_gcm_1a,ts_bcsd_rnd]"
   ]
  },
  {
   "cell_type": "code",
   "execution_count": null,
   "metadata": {
    "colab": {
     "base_uri": "https://localhost:8080/"
    },
    "executionInfo": {
     "elapsed": 22,
     "status": "ok",
     "timestamp": 1642515919388,
     "user": {
      "displayName": "Vikram Singh Chandel",
      "photoUrl": "https://lh3.googleusercontent.com/a/default-user=s64",
      "userId": "07964427013125611178"
     },
     "user_tz": -330
    },
    "id": "7JgX6rHWwOZ3",
    "outputId": "6638a4d6-f1b3-4143-a7d9-2607ab308c36"
   },
   "outputs": [],
   "source": [
    "\n",
    "data_in_tas2=[ts_obs,ts_gcm,ts_bcsd_gcm,ts_bcsd_rnd]\n",
    "\n",
    "plt.plot(ts_obs)#moving_average(a,ww))\n",
    "plt.plot(ts_gcm)#moving_average(b,ww))\n",
    "plt.plot(ts_bcsd_gcm)#moving_average(c,ww))\n",
    "plt.plot(ts_bcsd_rnd)#moving_average(d,ww))\n",
    "\n",
    "plt.legend(['Obs','GCM','BCSD-gcm','BCSD-rnd'])\n",
    "#plt.savefig('/content/drive/MyDrive/fig2b.svg')"
   ]
  },
  {
   "cell_type": "code",
   "execution_count": null,
   "metadata": {
    "colab": {
     "base_uri": "https://localhost:8080/"
    },
    "executionInfo": {
     "elapsed": 22,
     "status": "ok",
     "timestamp": 1642515919388,
     "user": {
      "displayName": "Vikram Singh Chandel",
      "photoUrl": "https://lh3.googleusercontent.com/a/default-user=s64",
      "userId": "07964427013125611178"
     },
     "user_tz": -330
    },
    "id": "7JgX6rHWwOZ3",
    "outputId": "6638a4d6-f1b3-4143-a7d9-2607ab308c36"
   },
   "outputs": [],
   "source": [
    "\n",
    "data_in_tas2=[ts_obs,ts_gcm,ts_bcsd_gcm,ts_bcsd_rnd]\n",
    "\n",
    "plt.plot(ts_obs)#moving_average(a,ww))\n",
    "plt.plot(ts_gcm)#moving_average(b,ww))\n",
    "plt.plot(ts_bcsd_gcm)#moving_average(c,ww))\n",
    "plt.plot(ts_bcsd_rnd)#moving_average(d,ww))\n",
    "\n",
    "plt.legend(['Obs','GCM','BCSD-gcm','BCSD-rnd'])\n",
    "#plt.savefig('/content/drive/MyDrive/fig2b.svg')"
   ]
  },
  {
   "cell_type": "code",
   "execution_count": null,
   "metadata": {},
   "outputs": [],
   "source": [
    "plt.plot(np.reshape((data_in_tas[3],1951,2005)[0][:,later,loner],[365,-1],order='F'))"
   ]
  },
  {
   "cell_type": "markdown",
   "metadata": {
    "id": "KjsqWLFr1upl",
    "tags": []
   },
   "source": [
    "## Bias  us"
   ]
  },
  {
   "cell_type": "code",
   "execution_count": null,
   "metadata": {
    "id": "EgGXzpRE1upm"
   },
   "outputs": [],
   "source": [
    "path_US_T='/home/vikram/BCSD_data/US_T_BCSD'+fig_name_suffix\n",
    "path_US_P='/home/vikram/BCSD_data/US_P_BCSD'+fig_name_suffix\n",
    "\n",
    "metadata=np.load(path_US_P+'/pre_metadata'+gcm_names[gcm_iter]+'.npy', allow_pickle=True)\n",
    "st=metadata.item()['st']\n",
    "en=metadata.item()['en']\n",
    "mask_fine_obs=metadata.item()['mask']\n",
    "\n",
    "lat_obs_us=metadata.item()['lat_obs']\n",
    "lon_obs_us=metadata.item()['lon_obs']\n",
    "lat_gcm_1=metadata.item()['lat_gcm']\n",
    "lon_gcm_1=metadata.item()['lon_gcm']\n",
    "\n",
    "\n",
    "pre_obs=np.load(path_US_P+'/pre_obs.npy')\n",
    "\n",
    "pre_gcmf=np.load(path_US_P+'/pre_gcm_fine'+gcm_names[gcm_iter]+'.npy')\n",
    "#pre_gcm=np.load('/content/drive/MyDrive/BiasCorr/output_cru/pre_gcm_'+gcm_names[gcm_iter]+'.npy')\n",
    "\n",
    "pre_bcsd=np.load(path_US_P+'/BCSD_outputs_pre_'+gcm_names[gcm_iter]+'_cru.npy')\n",
    "#pre_bc=np.load('/content/drive/MyDrive/BiasCorr/output_cru/apre_BC_gcm_'+gcm_names[gcm_iter]+'_cru.npy')\n",
    "\n",
    "pre_rnd=np.load(path_US_P+'/BCSD_outputs_pre_rnd_0_cru.npy')\n",
    "#pre_rndc=np.load('/content/drive/MyDrive/BiasCorr/output_cru/apre_BC_pre_rnd1.npy')\n",
    "\n",
    "#data_obs=np.zeros((pre_obs.shape[0],pre_gcm.shape[1],pre_gcm.shape[2]))\n",
    "#\n",
    "#for i in range(data_obs.shape[0]):\n",
    "#  data_obs[i,:,:]=uu.regrid(pre_obs[i,:,:],lat_obs_us,lon_obs_us,lat_gcm_1,lon_gcm_1)\n",
    "# /home/vikram/BCSD_data/US_P_BCSD/BCSD_outputs_pre_rnd_0_cru.npy"
   ]
  },
  {
   "cell_type": "code",
   "execution_count": null,
   "metadata": {
    "id": "aWk9yB9c0NTU"
   },
   "outputs": [],
   "source": [
    "later_us=25\n",
    "loner_us=50\n",
    "\n",
    "later_us=25\n",
    "loner_us=52\n",
    "\n",
    "\n",
    "\n",
    "rhx=1#lon_obs_us[loner_us+1]-lon_obs_us[loner_us]\n",
    "rhy=1#lat_obs_us[later_us+1]-lat_obs_us[later_us]\n",
    "ll=(lon_obs_us[loner_us]-0.5*rhx,lat_obs_us[later_us]-rhy*0.5)"
   ]
  },
  {
   "cell_type": "code",
   "execution_count": null,
   "metadata": {
    "colab": {
     "base_uri": "https://localhost:8080/"
    },
    "executionInfo": {
     "elapsed": 3367,
     "status": "ok",
     "timestamp": 1642515923448,
     "user": {
      "displayName": "Vikram Singh Chandel",
      "photoUrl": "https://lh3.googleusercontent.com/a/default-user=s64",
      "userId": "07964427013125611178"
     },
     "user_tz": -330
    },
    "id": "x1WLqt-81upn",
    "outputId": "ef48d075-1c21-4e41-c11f-00b1b93d72f3"
   },
   "outputs": [],
   "source": [
    "mask_usf=create_mask('/home/vikram/BCSD_Shapefiles/us_rough.shp',lat_obs_us.data,lon_obs_us.data-360,buffer=1,plot=0)\n",
    "data_us_pre=[pre_obs,pre_gcmf,pre_bcsd,pre_rnd]\n",
    "map_bounds=[360-125,52.5,360-70,22.5]\n",
    "# plt.figure(figsize=(20,5))\n",
    "# for d in range(4):\n",
    "#   ax=plt.subplot(1,4,d+1)\n",
    "#   data_x=ma.MaskedArray(np.mean(data_us_pre[d],axis=0),mask=mask_usf)\n",
    "#   map_plot_cyl(data_x,lat_obs_us,lon_obs_us,[360-125,50,360-70,25],'mm','jet',[0,150],ax)\n",
    "\n",
    "#   rect1 = Rectangle(ll, rhx, rhy, facecolor='white',edgecolor='black' )\n",
    "#   pt1=ax.add_patch(rect1) \n",
    "#   pt1.zorder=1\n",
    "#   pt1.set_lw(2)\n"
   ]
  },
  {
   "cell_type": "code",
   "execution_count": null,
   "metadata": {
    "colab": {
     "base_uri": "https://localhost:8080/"
    },
    "executionInfo": {
     "elapsed": 4024,
     "status": "ok",
     "timestamp": 1642515927418,
     "user": {
      "displayName": "Vikram Singh Chandel",
      "photoUrl": "https://lh3.googleusercontent.com/a/default-user=s64",
      "userId": "07964427013125611178"
     },
     "user_tz": -330
    },
    "id": "OKp5WT2U6yiH",
    "outputId": "385bdabd-56d9-4bca-e18b-c7100fd17960"
   },
   "outputs": [],
   "source": [
    "mask_usf=create_mask('/home/vikram/BCSD_Shapefiles/us_rough.shp',lat_obs_us.data,lon_obs_us.data-360,buffer=1,plot=0)\n",
    "data_us_pre=[pre_obs,pre_gcmf,pre_bcsd,pre_rnd]\n",
    "map_bounds=[360-125,52.5,360-70,22.5]\n",
    "plt.figure(figsize=(20,5))\n",
    "# for d in ra?"
   ]
  },
  {
   "cell_type": "code",
   "execution_count": null,
   "metadata": {
    "colab": {
     "base_uri": "https://localhost:8080/"
    },
    "executionInfo": {
     "elapsed": 68,
     "status": "ok",
     "timestamp": 1642515927419,
     "user": {
      "displayName": "Vikram Singh Chandel",
      "photoUrl": "https://lh3.googleusercontent.com/a/default-user=s64",
      "userId": "07964427013125611178"
     },
     "user_tz": -330
    },
    "id": "QLND934j1upo",
    "outputId": "a082e541-2c31-43e0-dc96-6e304e02bd76"
   },
   "outputs": [],
   "source": [
    "pre_obs_grid=np.mean(np.reshape(data_us_pre[0][:,later_us,loner_us],[12,-1],order='F'),axis=1)\n",
    "pre_gcm_grid=np.mean(np.reshape(data_us_pre[1][:,later_us,loner_us],[12,-1],order='F'),axis=1)\n",
    "pre_bcsd_gcm_grid=np.mean(np.reshape(data_us_pre[2][:,later_us,loner_us],[12,-1],order='F'),axis=1)\n",
    "pre_bcsd_rnd_grid=np.mean(np.reshape(data_us_pre[3][:,later_us,loner_us],[12,-1],order='F'),axis=1)\n",
    "#         ww=15\n",
    "plt.plot(pre_obs_grid+1)\n",
    "plt.plot(pre_gcm_grid)\n",
    "plt.plot(pre_bcsd_gcm_grid)\n",
    "plt.plot(pre_bcsd_rnd_grid)\n",
    "data_us_pre2=[pre_obs_grid,pre_gcm_grid,pre_bcsd_gcm_grid,pre_bcsd_rnd_grid]\n",
    "\n",
    "plt.legend(['Obs','GCM','BCSD','BCSD-RND'])"
   ]
  },
  {
   "cell_type": "code",
   "execution_count": null,
   "metadata": {
    "id": "tww2qzROhzPy"
   },
   "outputs": [],
   "source": [
    "pre_obs_jan=np.reshape(data_us_pre[0][:,later_us,loner_us],[12,-1],order='F')[0,:]\n",
    "pre_gcm_jan=np.reshape(data_us_pre[1][:,later_us,loner_us],[12,-1],order='F')[0,:]\n",
    "pre_bcsd_gcm_jan=np.reshape(data_us_pre[2][:,later_us,loner_us],[12,-1],order='F')[0,:]\n",
    "pre_bcsd_rnd_jan=np.reshape(data_us_pre[3][:,later_us,loner_us],[12,-1],order='F')[0,:]\n",
    "data_qq_up=[pre_obs_jan,pre_gcm_jan,pre_bcsd_gcm_jan,pre_bcsd_rnd_jan]"
   ]
  },
  {
   "cell_type": "markdown",
   "metadata": {
    "id": "D_Y5XbZnmhZC",
    "tags": []
   },
   "source": [
    "## Bias  us tmp"
   ]
  },
  {
   "cell_type": "code",
   "execution_count": null,
   "metadata": {
    "id": "ZHQrc2EPmhZC"
   },
   "outputs": [],
   "source": [
    "\n",
    "metadata=np.load(path_US_T + '/tas_metadata'+gcm_names[gcm_iter]+'.npy', allow_pickle=True)\n",
    "st=metadata.item()['st']\n",
    "en=metadata.item()['en']\n",
    "mask_fine_obs=metadata.item()['mask']\n",
    "\n",
    "lat_obs_us=metadata.item()['lat_obs']\n",
    "lon_obs_us=metadata.item()['lon_obs']\n",
    "lat_gcm_1=metadata.item()['lat_gcm']\n",
    "lon_gcm_1=metadata.item()['lon_gcm']\n",
    "\n",
    "\n",
    "tas_obs=np.load(path_US_T + '/tas_obs.npy')\n",
    "\n",
    "tas_gcmf=np.load(path_US_T + '/tas_gcm_fine_'+gcm_names[gcm_iter]+'.npy')\n",
    "#tas_gcm=np.load('/content/drive/MyDrive/BiasCorr/output_cru/tas_gcm_'+gcm_names[gcm_iter]+'.npy')\n",
    "\n",
    "tas_bcsd=np.load(path_US_T + '/BCSD_outputs_tas_'+gcm_names[gcm_iter]+'_cru.npy')\n",
    "#tas_bc=np.load('/content/drive/MyDrive/BiasCorr/output_cru/atas_BC_gcm_'+gcm_names[gcm_iter]+'_cru.npy')\n",
    "#pre_bc=np.load('/content/drive/MyDrive/BiasCorr/output_cru/apre_BC_gcm_'+gcm_names[gcm_iter]+'_cru.npy')\n",
    "\n",
    "tas_rnd=np.load(path_US_T + '/BCSD_outputs_tas_rnd_0_cru.npy')\n",
    "#tas_rndc=np.load('/content/drive/MyDrive/BiasCorr/output_cru/atas_BC_tas_rnd1.npy')\n",
    "#datat_obs=np.zeros((tas_obs.shape[0],tas_gcm.shape[1],tas_gcm.shape[2]))\n",
    "\n",
    "#for i in range(data_obs.shape[0]):\n",
    "#  datat_obs[i,:,:]=uu.regrid(tas_obs[i,:,:],lat_obs_us,lon_obs_us,lat_gcm_1,lon_gcm_1)\n"
   ]
  },
  {
   "cell_type": "code",
   "execution_count": null,
   "metadata": {
    "colab": {
     "base_uri": "https://localhost:8080/"
    },
    "executionInfo": {
     "elapsed": 4239,
     "status": "ok",
     "timestamp": 1642515932101,
     "user": {
      "displayName": "Vikram Singh Chandel",
      "photoUrl": "https://lh3.googleusercontent.com/a/default-user=s64",
      "userId": "07964427013125611178"
     },
     "user_tz": -330
    },
    "id": "ewzpqDU9mhZC",
    "outputId": "6135a3b4-9e2f-4f1c-9f74-90f4c35a3b49"
   },
   "outputs": [],
   "source": [
    "data_us_tas=[tas_obs,tas_gcmf,tas_bcsd,tas_rnd]\n",
    "map_bounds=[360-125,52.5,360-70,22.5]\n",
    "# plt.figure(figsize=(20,5))\n",
    "# for d in range(4):\n",
    "#   ax=plt.subplot(1,4,d+1)\n",
    "#   data_x=ma.MaskedArray(np.mean(data_us_tas[d],axis=0)-273.15,mask=mask_usf)\n",
    "\n",
    "#   map_plot_cyl(data_x,lat_obs_us,lon_obs_us,[360-125,50,360-70,25],'$\\degree$C','jet',[270-273.15,300-273.15],ax)\n",
    "\n"
   ]
  },
  {
   "cell_type": "code",
   "execution_count": null,
   "metadata": {
    "colab": {
     "base_uri": "https://localhost:8080/"
    },
    "executionInfo": {
     "elapsed": 3427,
     "status": "ok",
     "timestamp": 1642515935486,
     "user": {
      "displayName": "Vikram Singh Chandel",
      "photoUrl": "https://lh3.googleusercontent.com/a/default-user=s64",
      "userId": "07964427013125611178"
     },
     "user_tz": -330
    },
    "id": "3UlQ36BV7dX8",
    "outputId": "6f002189-43ae-46ce-bba2-12097b4bab22"
   },
   "outputs": [],
   "source": [
    "data_us_tas=[tas_obs,tas_gcmf,tas_bcsd,tas_rnd]\n",
    "map_bounds=[360-125,52.5,360-70,22.5]\n",
    "# plt.figure(figsize=(20,5))\n",
    "# for d in range(4):\n",
    "#   ax=plt.subplot(1,4,d+1)\n",
    "#   data_xv=ma.MaskedArray(np.std(data_us_tas[d],axis=0),mask=mask_usf)\n",
    "\n",
    "#   map_plot_cyl(data_x,lat_obs_us,lon_obs_us,[360-125,50,360-70,25],'$\\degree$C','jet',[0,15],ax)\n",
    "\n"
   ]
  },
  {
   "cell_type": "code",
   "execution_count": null,
   "metadata": {
    "colab": {
     "base_uri": "https://localhost:8080/"
    },
    "executionInfo": {
     "elapsed": 66,
     "status": "ok",
     "timestamp": 1642515935508,
     "user": {
      "displayName": "Vikram Singh Chandel",
      "photoUrl": "https://lh3.googleusercontent.com/a/default-user=s64",
      "userId": "07964427013125611178"
     },
     "user_tz": -330
    },
    "id": "CJ16U-U2mhZD",
    "outputId": "929e3ecf-7df2-4d98-d1ad-3819476a3e1a"
   },
   "outputs": [],
   "source": [
    "later_us=23\n",
    "loner_us=45\n",
    "\n",
    "later_us=25\n",
    "loner_us=52\n",
    "\n",
    "\n",
    "\n",
    "\n",
    "\n",
    "tas_obs_grid=np.mean(np.reshape(data_us_tas[0][:,later_us,loner_us],[12,-1],order='F'),axis=1)-273.15\n",
    "tas_gcm_grid=np.mean(np.reshape(data_us_tas[1][:,later_us,loner_us],[12,-1],order='F'),axis=1)-273.15\n",
    "tas_bcsd_gcm_grid=np.mean(np.reshape(data_us_tas[2][:,later_us,loner_us],[12,-1],order='F'),axis=1)-273.15\n",
    "tas_bcsd_rnd_grid=np.mean(np.reshape(data_us_tas[3][:,later_us,loner_us],[12,-1],order='F'),axis=1)-273.15\n",
    "#         ww=15\n",
    "plt.plot(tas_obs_grid)\n",
    "plt.plot(tas_gcm_grid)\n",
    "plt.plot(tas_bcsd_gcm_grid)\n",
    "plt.plot(tas_bcsd_rnd_grid)\n",
    "data_us_tas2=[tas_obs_grid,tas_gcm_grid,tas_bcsd_gcm_grid,tas_bcsd_rnd_grid]\n",
    "\n",
    "plt.legend(['Obs','GCM','BCSD','BCSD-RND'])"
   ]
  },
  {
   "cell_type": "code",
   "execution_count": null,
   "metadata": {
    "id": "nPm0tIqkg3K6"
   },
   "outputs": [],
   "source": [
    "tas_obs_jan=np.reshape(data_us_tas[0][:,later_us,loner_us],[12,-1],order='F')[0,:]-273.15\n",
    "tas_gcm_jan=np.reshape(data_us_tas[1][:,later_us,loner_us],[12,-1],order='F')[0,:]-273.15\n",
    "tas_bcsd_gcm_jan=np.reshape(data_us_tas[2][:,later_us,loner_us],[12,-1],order='F')[0,:]-273.15\n",
    "tas_bcsd_rnd_jan=np.reshape(data_us_tas[3][:,later_us,loner_us],[12,-1],order='F')[0,:]-273.15\n",
    "data_qq_ut=[tas_obs_jan,tas_gcm_jan,tas_bcsd_gcm_jan,tas_bcsd_rnd_jan]"
   ]
  },
  {
   "cell_type": "markdown",
   "metadata": {},
   "source": [
    "# defs\n"
   ]
  },
  {
   "cell_type": "code",
   "execution_count": null,
   "metadata": {},
   "outputs": [],
   "source": [
    "def S_score_2D(data_ref, data_model,mask_inf):\n",
    "    # mask is true for exterior values\n",
    "    data_1 = data_ref\n",
    "    data_2 = data_model \n",
    "    ind_1 = np.isnan(data_1)\n",
    "    ind_2 = np.isnan(data_2)\n",
    "    data_1[ind_2] = np.nan\n",
    "    data_2[ind_1] = np.nan\n",
    "    data_1[mask_inf == True] = np.nan\n",
    "    data_2[mask_inf == True] = np.nan\n",
    "\n",
    "    data_1 = data_1.flatten()\n",
    "    data_2 = data_2.flatten()\n",
    "    \n",
    "    data_1 =  np.delete(data_1,np.isnan(data_1))\n",
    "    data_2 =  np.delete(data_2,np.isnan(data_2))\n",
    "    R = np.corrcoef(data_1,data_2)[0,1]\n",
    "\n",
    "    SDR = np.std(data_2)/np.std(data_1)\n",
    "\n",
    "    S_score = (1+R)**4  / ( 4 * (SDR + 1 / SDR)**2 )\n",
    "    \n",
    "    \n",
    "    return S_score"
   ]
  },
  {
   "cell_type": "markdown",
   "metadata": {
    "id": "t3ObFBiHunwZ"
   },
   "source": [
    "# Plot Mean figure"
   ]
  },
  {
   "cell_type": "code",
   "execution_count": null,
   "metadata": {
    "colab": {
     "base_uri": "https://localhost:8080/"
    },
    "executionInfo": {
     "elapsed": 16484,
     "status": "ok",
     "timestamp": 1642515951934,
     "user": {
      "displayName": "Vikram Singh Chandel",
      "photoUrl": "https://lh3.googleusercontent.com/a/default-user=s64",
      "userId": "07964427013125611178"
     },
     "user_tz": -330
    },
    "id": "Lo9t7pl5uqgH",
    "outputId": "56330a8d-7554-4967-a77a-2b1d9e6f7088"
   },
   "outputs": [],
   "source": [
    "data_plot=[data_us_tas,data_us_pre,data_in_tas,data_in_pre]\n",
    "titles_plot=['Temperature','Precipitation','Temperature','Precipitation']\n",
    "clab_plot=['$\\degree$C','mm/month','$\\degree$C','mm/day']\n",
    "masks=[mask_usf,mask_usf,mask_inf_temp,mask_inf]\n",
    "clims=[[-4,30],[0,150],[15,30],[0,12]]\n",
    "ext=['both','max','both','max']\n",
    "cmaps = ['RdBu_r','BrBG','RdBu_r','BrBG']\n",
    "fig=plt.figure(figsize=(14,12))\n",
    "for sitery in range(4):\n",
    "  for siterx in range(4):\n",
    "\n",
    "    if sitery<2:\n",
    "      lat_box=uu.cen_to_box(lat_obs_us)\n",
    "      lon_box=uu.cen_to_box(lon_obs_us)\n",
    "      mp_spacing=10\n",
    "      map_bounds=[360-125,52.5,360-70,22.5]\n",
    "      shape_bound='/home/vikram/BCSD_Shapefiles/us_rough'\n",
    "      later_us=25\n",
    "      loner_us=52\n",
    "      rhx=1#lon_obs_us[loner_us+1]-lon_obs_us[loner_us]\n",
    "      rhy=1#lat_obs_us[later_us+1]-lat_obs_us[later_us]\n",
    "      ll=(lon_obs_us[loner_us]-0.5*rhx,lat_obs_us[later_us]-rhy*0.5)    \n",
    "      xfac   = 12\n",
    "\n",
    "    \n",
    "    elif sitery == 3:\n",
    "      lat_box=uu.cen_to_box(lat_obs_in)\n",
    "      lon_box=uu.cen_to_box(lon_obs_in)\n",
    "      mp_spacing=10\n",
    "      map_bounds=[65,37.5,100,7.5]\n",
    "      shape_bound='/home/vikram/BCSD_Shapefiles/ind'\n",
    "      later=14\n",
    "      loner=16\n",
    "      lat_obs_in[later]\n",
    "      lon_obs_in[loner]\n",
    "      rhx=lon_obs_in[loner+1]-lon_obs_in[loner]\n",
    "      rhy=lat_obs_in[later+1]-lat_obs_in[later]\n",
    "      ll=(lon_obs_in[loner]-0.5*rhx,lat_obs_in[later]-rhy*0.5)\n",
    "      xfac   = 365\n",
    "\n",
    "    elif sitery == 2:\n",
    "      lat_box=uu.cen_to_box(lat_obs_in_t)\n",
    "      lon_box=uu.cen_to_box(lon_obs_in_t)\n",
    "      mp_spacing=10\n",
    "      map_bounds=[65,37.5,100,7.5]\n",
    "      shape_bound='/home/vikram/BCSD_Shapefiles/ind'\n",
    "      later=14\n",
    "      loner=16\n",
    "      lat_obs_in_t[later]\n",
    "      lon_obs_in_t[loner]\n",
    "      rhx=lon_obs_in_t[loner+1]-lon_obs_in_t[loner]\n",
    "      rhy=lat_obs_in_t[later+1]-lat_obs_in_t[later]\n",
    "      ll=(lon_obs_in_t[loner]-0.5*rhx,lat_obs_in_t[later]-rhy*0.5)\n",
    "      xfac   = 365\n",
    "    else:\n",
    "      pass\n",
    "\n",
    "\n",
    "    ax=plt.subplot(4,4,siterx*4+sitery+1)\n",
    "    siter=sitery*4+siterx\n",
    "    # print(siter)\n",
    "    if sitery == 0:\n",
    "        data_temp = data_plot[sitery][siterx]-273.15\n",
    "        data_temp2 =np.mean(data_temp.reshape([xfac,-1,data_temp.shape[1],data_temp.shape[2]],order ='F'),axis= 0)\n",
    "    elif sitery == 1:\n",
    "        data_temp = data_plot[sitery][siterx]\n",
    "        data_temp2 =np.mean(data_temp.reshape([xfac,-1,data_temp.shape[1],data_temp.shape[2]],order ='F'),axis= 0)\n",
    "    elif sitery == 2:\n",
    "        data_temp = data_plot[sitery][siterx]-273.15\n",
    "        data_temp2 =np.mean(data_temp.reshape([xfac,-1,data_temp.shape[1],data_temp.shape[2]],order ='F'),axis= 0)\n",
    "    elif sitery == 3:\n",
    "        data_temp = data_plot[sitery][siterx]\n",
    "        data_temp2 =np.mean(data_temp.reshape([xfac,-1,data_temp.shape[1],data_temp.shape[2]],order ='F'),axis= 0)\n",
    "    else:\n",
    "        print(\"Error\")\n",
    "        pass\n",
    "\n",
    "    data_x=ma.MaskedArray(np.nanmean(data_temp2,axis=0),mask=masks[sitery])\n",
    "\n",
    "    \n",
    "    \n",
    "    map = Basemap(projection='cyl',resolution='l',\n",
    "                  llcrnrlon=map_bounds[0], \n",
    "                  urcrnrlat=map_bounds[1],\n",
    "                  urcrnrlon=map_bounds[2], \n",
    "                  llcrnrlat=map_bounds[3])\n",
    "\n",
    "    xx, yy = meshgrid(lon_box,lat_box )\n",
    "    map.pcolor(xx, yy, data_x,cmap=cmaps[sitery])\n",
    "    map.drawmeridians(np.arange(-180,180,mp_spacing),labels=[0,1,0,0], linewidth=1.0) #longitudes\n",
    "    map.drawparallels(np.arange(-90,90,mp_spacing),labels=[1,0,0,0], linewidth=1.0) #latitudes\n",
    "    cbar = map.colorbar(extend=ext[sitery],location='bottom')\n",
    "    cbar.set_label(clab_plot[sitery], rotation=0)\n",
    "    plt.clim(clims[sitery])\n",
    "    if siter<8:\n",
    "      map.drawcountries(linewidth=1)\n",
    "      map.drawcoastlines(linewidth=1)\n",
    "    else:\n",
    "      map.readshapefile(shape_bound,'DD',drawbounds=True)\n",
    "\n",
    "    rect1 = Rectangle(ll, rhx, rhy, facecolor='none',edgecolor='black' )\n",
    "    pt1=ax.add_patch(rect1) \n",
    "    pt1.zorder=1\n",
    "    pt1.set_lw(2)\n",
    "    lxx=0.0\n",
    "    lyy=1.0\n",
    "    plt.text(lxx, lyy, chr(siterx*4+sitery+96+1), horizontalalignment='right',verticalalignment='bottom', transform=ax.transAxes,fontweight=800,\n",
    "            fontsize=24,color='k')\n",
    "    \n",
    "fig.text(0.0, 0.875, 'Observation', va='center', ha='center', rotation='vertical', fontsize=12)\n",
    "fig.text(0.0, 0.625, 'ESM', va='center', ha='center', rotation='vertical', fontsize=12)\n",
    "fig.text(0.0, 0.375, 'BCSD-ESM', va='center', ha='center', rotation='vertical', fontsize=12)\n",
    "fig.text(0.0, 0.125, 'BCSD-Rnd', va='center', ha='center', rotation='vertical', fontsize=12)\n",
    "\n",
    "\n",
    "fig.text( 0.875,1, 'India Daily Precipitation', va='center', ha='center', fontsize=12)\n",
    "fig.text( 0.625,1, 'India Daily Temperature', va='center', ha='center',  fontsize=12)\n",
    "fig.text( 0.375,1, 'US Monthly Precipitation', va='center', ha='center',  fontsize=12)\n",
    "fig.text( 0.125,1, 'US Monthly Temperature', va='center', ha='center',  fontsize=12)\n",
    "\n",
    "    #map.drawcoastlines(linewidth=1)\n",
    "    #plt.title(titles_plot[siter],fontsize=20)\n",
    "fig.suptitle(gcm_name)\n",
    "plt.tight_layout()\n",
    "# plt.savefig('./Figures/Figure2/mean_maps_'+gcm_name+'_'+'gamma'+fig_name_suffix+'.svg')\n",
    "plt.savefig('/home/vikram/Dropbox/BCSD Work/03_Figures/Figure_new_auroop/Supp/S1/mean_maps_'+gcm_name+'_'+'gamma'+fig_name_suffix+'.svg')\n",
    "# plt.savefig('./Figures/Figure2/mean_maps_'+gcm_name+'_'+'gamma'+fig_name_suffix+'.svg')\n"
   ]
  },
  {
   "cell_type": "markdown",
   "metadata": {
    "tags": []
   },
   "source": [
    "## S Score\n"
   ]
  },
  {
   "cell_type": "code",
   "execution_count": null,
   "metadata": {},
   "outputs": [],
   "source": [
    "D=4\n",
    "N_index= 4\n",
    "S_score_matrix = np.zeros((N_index,D))\n",
    "\n",
    "\n",
    "data_plot=[data_us_tas,data_us_pre,data_in_tas,data_in_pre]\n",
    "masks=[mask_usf,mask_usf,mask_inf_temp,mask_inf]\n",
    "\n",
    "for itr in range(4):\n",
    "    for d in range(D):\n",
    "        S_score_matrix[itr,d] = (S_score_2D(np.mean(data_plot[itr],axis=1)[0,:,:],np.mean(data_plot[itr],axis=1)[d,:,:],masks[itr]))\n",
    "        \n",
    "        \n",
    "\n",
    "\n",
    "import seaborn as sns\n",
    "\n",
    "h=sns.heatmap(S_score_matrix , linewidth = 2 , cmap = 'Reds', \n",
    "          annot=True,\n",
    "          fmt=\".2f\", square=True,\n",
    "          xticklabels=['O','G','B','R'],\n",
    "          yticklabels=['US - T','US - P','In - T','In - P'],vmin=0,vmax=1,\n",
    "             \n",
    "          cbar_kws={'label': 'S score','extend':None},cbar = True)\n",
    "# plt.savefig('./Figures/Figure2/mean_maps_score_'+gcm_name+'_'+'gamma'+fig_name_suffix+'.svg')\n",
    "plt.savefig('/home/vikram/Dropbox/BCSD Work/03_Figures/Figure_new_auroop/Supp/S1/mean_maps_score_'+gcm_name+'_'+'gamma'+fig_name_suffix+'.svg')\n"
   ]
  },
  {
   "cell_type": "markdown",
   "metadata": {
    "id": "t3ObFBiHunwZ"
   },
   "source": [
    "# Plot Std figure"
   ]
  },
  {
   "cell_type": "code",
   "execution_count": null,
   "metadata": {
    "colab": {
     "base_uri": "https://localhost:8080/"
    },
    "executionInfo": {
     "elapsed": 16484,
     "status": "ok",
     "timestamp": 1642515951934,
     "user": {
      "displayName": "Vikram Singh Chandel",
      "photoUrl": "https://lh3.googleusercontent.com/a/default-user=s64",
      "userId": "07964427013125611178"
     },
     "user_tz": -330
    },
    "id": "Lo9t7pl5uqgH",
    "outputId": "56330a8d-7554-4967-a77a-2b1d9e6f7088"
   },
   "outputs": [],
   "source": [
    "data_plot=[data_us_tas,data_us_pre,data_in_tas,data_in_pre]\n",
    "titles_plot=['Temperature','Precipitation','Temperature','Precipitation']\n",
    "clab_plot=['$\\degree$C','mm/month','$\\degree$C','mm/day']\n",
    "masks=[mask_usf,mask_usf,mask_inf_temp,mask_inf]\n",
    "clims=[[0,0.25],[0,15],[0,0.25],[0,1]]\n",
    "clims=[[0,15],[0,100],[0,10],[0,10]]\n",
    "ext=['max','max','max','max']\n",
    "\n",
    "fig=plt.figure(figsize=(14,12))\n",
    "for sitery in range(4):\n",
    "  for siterx in range(4):\n",
    "\n",
    "    if sitery<2:\n",
    "      lat_box=uu.cen_to_box(lat_obs_us)\n",
    "      lon_box=uu.cen_to_box(lon_obs_us)\n",
    "      mp_spacing=10\n",
    "      map_bounds=[360-125,52.5,360-70,22.5]\n",
    "      shape_bound='/home/vikram/BCSD_Shapefiles/us_rough'\n",
    "      later_us=25\n",
    "      loner_us=50\n",
    "      rhx=1#lon_obs_us[loner_us+1]-lon_obs_us[loner_us]\n",
    "      rhy=1#lat_obs_us[later_us+1]-lat_obs_us[later_us]\n",
    "      ll=(lon_obs_us[loner_us]-0.5*rhx,lat_obs_us[later_us]-rhy*0.5)    \n",
    "      xfac = 12 \n",
    "    elif sitery == 3:\n",
    "      lat_box=uu.cen_to_box(lat_obs_in)\n",
    "      lon_box=uu.cen_to_box(lon_obs_in)\n",
    "      mp_spacing=10\n",
    "      map_bounds=[65,37.5,100,7.5]\n",
    "      shape_bound='/home/vikram/BCSD_Shapefiles/ind'\n",
    "      later=15\n",
    "      loner=12\n",
    "      lat_obs_in[later]\n",
    "      lon_obs_in[loner]\n",
    "      rhx=lon_obs_in[loner+1]-lon_obs_in[loner]\n",
    "      rhy=lat_obs_in[later+1]-lat_obs_in[later]\n",
    "      ll=(lon_obs_in[loner]-0.5*rhx,lat_obs_in[later]-rhy*0.5)\n",
    "      xfac = 365 \n",
    "    elif sitery == 2:\n",
    "      lat_box=uu.cen_to_box(lat_obs_in_t)\n",
    "      lon_box=uu.cen_to_box(lon_obs_in_t)\n",
    "      mp_spacing=10\n",
    "      map_bounds=[65,37.5,100,7.5]\n",
    "      shape_bound='/home/vikram/BCSD_Shapefiles/ind'\n",
    "      later=15\n",
    "      loner=12\n",
    "      lat_obs_in[later]\n",
    "      lon_obs_in[loner]\n",
    "      rhx=lat_obs_in_t[loner+1]-lon_obs_in_t[loner]\n",
    "      rhy=lat_obs_in_t[later+1]-lon_obs_in_t[later]\n",
    "      ll=(lon_obs_in_t[loner]-0.5*rhx,lat_obs_in_t[later]-rhy*0.5)\n",
    "      xfac = 365 \n",
    "    else:\n",
    "      pass\n",
    "\n",
    "\n",
    "    ax=plt.subplot(4,4,siterx*4+sitery+1)\n",
    "    siter=sitery*4+siterx\n",
    "    # print(siter)\n",
    "    if sitery == 0:\n",
    "        data_temp = data_plot[sitery][siterx]-273.15\n",
    "        data_temp2 =np.mean(data_temp.reshape([xfac,-1,data_temp.shape[1],data_temp.shape[2]],order ='F'),axis= 0)\n",
    "    elif sitery == 1:\n",
    "        data_temp = data_plot[sitery][siterx]\n",
    "        data_temp2 =np.mean(data_temp.reshape([xfac,-1,data_temp.shape[1],data_temp.shape[2]],order ='F'),axis= 0)\n",
    "    elif sitery == 2:\n",
    "        data_temp = data_plot[sitery][siterx]-273.15\n",
    "        data_temp2 =np.mean(data_temp.reshape([xfac,-1,data_temp.shape[1],data_temp.shape[2]],order ='F'),axis= 0)\n",
    "    elif sitery == 3:\n",
    "        data_temp = data_plot[sitery][siterx]\n",
    "        data_temp2 =np.mean(data_temp.reshape([xfac,-1,data_temp.shape[1],data_temp.shape[2]],order ='F'),axis= 0)\n",
    "    else:\n",
    "        print(\"Error\")\n",
    "        pass\n",
    "\n",
    "    data_x=ma.MaskedArray(np.nanstd(data_temp,axis=0),mask=masks[sitery])\n",
    "\n",
    "    map = Basemap(projection='cyl',resolution='l',\n",
    "                  llcrnrlon=map_bounds[0], \n",
    "                  urcrnrlat=map_bounds[1],\n",
    "                  urcrnrlon=map_bounds[2], \n",
    "                  llcrnrlat=map_bounds[3])\n",
    "\n",
    "    xx, yy = meshgrid(lon_box,lat_box )\n",
    "    map.pcolor(xx, yy, data_x,cmap='RdBu_r')\n",
    "    map.drawmeridians(np.arange(-180,180,mp_spacing),labels=[0,1,0,0], linewidth=1.0) #longitudes\n",
    "    map.drawparallels(np.arange(-90,90,mp_spacing),labels=[1,0,0,0], linewidth=1.0) #latitudes\n",
    "    cbar = map.colorbar(extend=ext[sitery],location='bottom')\n",
    "    cbar.set_label(clab_plot[sitery], rotation=0)\n",
    "    plt.clim(clims[sitery])\n",
    "    if siter<8:\n",
    "      map.drawcountries(linewidth=1)\n",
    "      map.drawcoastlines(linewidth=1)\n",
    "    else:\n",
    "      map.readshapefile(shape_bound,'DD',drawbounds=True)\n",
    "\n",
    "    rect1 = Rectangle(ll, rhx, rhy, facecolor='none',edgecolor='black' )\n",
    "    # pt1=ax.add_patch(rect1) \n",
    "    pt1.zorder=1\n",
    "    pt1.set_lw(2)\n",
    "    lxx=0.0\n",
    "    lyy=1.0\n",
    "    plt.text(lxx, lyy, chr(siterx*4+sitery+96+1), horizontalalignment='right',verticalalignment='bottom', transform=ax.transAxes,fontweight=800,\n",
    "            fontsize=24,color='k')\n",
    "    \n",
    "fig.text(0.0, 0.875, 'Observation', va='center', ha='center', rotation='vertical', fontsize=12)\n",
    "fig.text(0.0, 0.625, 'ESM', va='center', ha='center', rotation='vertical', fontsize=12)\n",
    "fig.text(0.0, 0.375, 'BCSD-ESM', va='center', ha='center', rotation='vertical', fontsize=12)\n",
    "fig.text(0.0, 0.125, 'BCSD-Rnd', va='center', ha='center', rotation='vertical', fontsize=12)\n",
    "\n",
    "\n",
    "fig.text( 0.875,1, 'India Daily Precipitation', va='center', ha='center', fontsize=12)\n",
    "fig.text( 0.625,1, 'India Daily Temperature', va='center', ha='center',  fontsize=12)\n",
    "fig.text( 0.375,1, 'US Monthly Precipitation', va='center', ha='center',  fontsize=12)\n",
    "fig.text( 0.125,1, 'US Monthly Temperature', va='center', ha='center',  fontsize=12)\n",
    "\n",
    "    #map.drawcoastlines(linewidth=1)\n",
    "    #plt.title(titles_plot[siter],fontsize=20)\n",
    "fig.suptitle(gcm_name)\n",
    "plt.tight_layout()\n",
    "# plt.savefig('./Figures/Figure2/std_maps_'+gcm_name+'_'+'gamma'+fig_name_suffix+'.svg')\n",
    "plt.savefig('/home/vikram/Dropbox/BCSD Work/03_Figures/Figure_new_auroop/Supp/S1/std_maps_'+gcm_name+'_'+'gamma'+fig_name_suffix+'.svg')\n"
   ]
  },
  {
   "cell_type": "code",
   "execution_count": null,
   "metadata": {},
   "outputs": [],
   "source": [
    "mask_tt = 1.0 - mask_inf_temp \n",
    "mask_tt[mask_tt==0] = np.nan\n",
    "\n",
    "# plt.pcolor(np.std(data_in_tas[2],axis=0)*mask_tt)\n",
    "# plt.colorbar()\n",
    "# mask_tt\n",
    "# plt.pcolor(np.std(np.mean(data_in_tas[2].reshape([365,-1,31,31],order ='F'),axis= 0),axis=0)*mask_tt)\n",
    "plt.figure(figsize = (50,50))\n",
    "for i in range(0,30,5):\n",
    "    for j in range(0,60,5):\n",
    "        if masks[0][i,j] == 0:\n",
    "            plt.subplot(52,112,i*112+j+1)\n",
    "            plt.plot(np.nanvar(data_us_pre[3][:,i,j],axis= 0))\n",
    "            plt.title([i,j])\n",
    "            # plt.plot(np.mean(data_in_tas[2].reshape([365,-1,31,31],order ='F'),axis= 0)[25:28,i,j])\n",
    "#         data_in_tas[2].shape"
   ]
  },
  {
   "cell_type": "code",
   "execution_count": null,
   "metadata": {},
   "outputs": [],
   "source": [
    "masks[0].shape,data_us_pre[3].shape"
   ]
  },
  {
   "cell_type": "markdown",
   "metadata": {
    "tags": []
   },
   "source": [
    "## S Score\n"
   ]
  },
  {
   "cell_type": "code",
   "execution_count": null,
   "metadata": {},
   "outputs": [],
   "source": [
    "D=4\n",
    "N_index= 4\n",
    "S_score_matrix = np.zeros((N_index,D))\n",
    "\n",
    "\n",
    "data_plot=[data_us_tas,data_us_pre,data_in_tas,data_in_pre]\n",
    "masks=[mask_usf,mask_usf,mask_inf_temp,mask_inf]\n",
    "\n",
    "for itr in range(4):\n",
    "    for d in range(D):\n",
    "        S_score_matrix[itr,d] = (S_score_2D(np.std(data_plot[itr],axis=1)[0,:,:],np.std(data_plot[itr],axis=1)[d,:,:],masks[itr]))\n",
    "        \n",
    "        \n"
   ]
  },
  {
   "cell_type": "code",
   "execution_count": null,
   "metadata": {},
   "outputs": [],
   "source": [
    "import seaborn as sns\n",
    "\n",
    "h=sns.heatmap(S_score_matrix , linewidth = 2 , cmap = 'Reds', \n",
    "          annot=True,\n",
    "          fmt=\".2f\", square=True,\n",
    "          xticklabels=['O','G','B','R'],\n",
    "          yticklabels=['US - T','US - P','In - T','In - P'],vmin=0,vmax=1,\n",
    "             \n",
    "          cbar_kws={'label': 'S score','extend':None},cbar = True)\n",
    "# plt.savefig('./Figures/Figure2/std_maps_score_'+gcm_name+'_'+'gamma'+fig_name_suffix+'.svg')\n"
   ]
  },
  {
   "cell_type": "markdown",
   "metadata": {
    "tags": []
   },
   "source": [
    "# Plot time series"
   ]
  },
  {
   "cell_type": "code",
   "execution_count": null,
   "metadata": {
    "id": "s_uoRRIW7rdz"
   },
   "outputs": [],
   "source": [
    "def moving_average(x, w):\n",
    "    return np.convolve(x, np.ones(w), 'valid') / w"
   ]
  },
  {
   "cell_type": "code",
   "execution_count": null,
   "metadata": {
    "colab": {
     "base_uri": "https://localhost:8080/"
    },
    "executionInfo": {
     "elapsed": 1506,
     "status": "ok",
     "timestamp": 1642515970485,
     "user": {
      "displayName": "Vikram Singh Chandel",
      "photoUrl": "https://lh3.googleusercontent.com/a/default-user=s64",
      "userId": "07964427013125611178"
     },
     "user_tz": -330
    },
    "id": "5lNBG5PY22n9",
    "outputId": "f040550d-85fd-47c2-c730-de0d14e0a0a1"
   },
   "outputs": [],
   "source": [
    "fig=plt.figure(figsize=(14,2.5))\n",
    "\n",
    "x=data_us_tas2\n",
    "ax=plt.subplot(141)\n",
    "plt.plot(x[0])\n",
    "plt.plot(x[1])\n",
    "plt.plot(x[2]+1)\n",
    "plt.plot(x[3])\n",
    "plt.ylabel(\"$\\degree$C\")\n",
    "plt.xlabel(\"Months\")\n",
    "plt.xticks(range(12),labels=['J','F','M','A','M','J','J','A','S','O','N','D'])\n",
    "#plt.legend(['Obs','GCM','BCSD','BCSD-rnd'])\n",
    "lxx=0.0\n",
    "lyy=1.0\n",
    "plt.text(lxx, lyy, chr(16+96+1), horizontalalignment='right',verticalalignment='bottom', transform=ax.transAxes,fontweight=800,\n",
    "        fontsize=24,color='k')\n",
    "\n",
    "x=data_us_pre2\n",
    "ax=plt.subplot(142)\n",
    "plt.plot(x[0])\n",
    "plt.plot(x[1])\n",
    "plt.plot(x[2]+1)\n",
    "plt.plot(x[3])\n",
    "plt.ylabel(\"mm/month\")\n",
    "plt.xlabel(\"Months\")\n",
    "#plt.legend(['Obs','GCM','BCSD','BCSD-rnd'])\n",
    "plt.xticks(range(12),labels=['J','F','M','A','M','J','J','A','S','O','N','D'])\n",
    "lxx=0.0\n",
    "lyy=1.0\n",
    "plt.text(lxx, lyy, chr(17+96+1), horizontalalignment='right',verticalalignment='bottom', transform=ax.transAxes,fontweight=800,\n",
    "        fontsize=24,color='k')\n",
    "\n",
    "\n",
    "x=data_in_tas2\n",
    "ax=plt.subplot(143)\n",
    "ww=10\n",
    "plt.plot(moving_average(x[0]-273.15,ww))\n",
    "plt.plot(moving_average(x[1]-273.15,ww))\n",
    "plt.plot(moving_average(x[2]-273.15,ww))\n",
    "plt.plot(moving_average(x[3]-273.15,ww))\n",
    "plt.ylabel(\"$\\degree$C\")\n",
    "plt.xlabel(\"Day of year\")\n",
    "lxx=0.0\n",
    "lyy=1.0\n",
    "plt.text(lxx, lyy, chr(18+96+1), horizontalalignment='right',verticalalignment='bottom', \n",
    "         transform=ax.transAxes,fontweight=800,\n",
    "        fontsize=24,color='k')\n",
    "\n",
    "\n",
    "\n",
    "x=data_in_pre2\n",
    "ax=plt.subplot(144)\n",
    "ww=10\n",
    "plt.plot(moving_average(x[0],ww))\n",
    "plt.plot(moving_average(x[1],ww))\n",
    "plt.plot(moving_average(x[2],ww))\n",
    "plt.plot(moving_average(x[3],ww))\n",
    "plt.ylabel(\"mm/day\")\n",
    "plt.xlabel(\"Day of year\")\n",
    "plt.legend(['Obs','ESM','BCSD-ESM','BCSD-rnd'])\n",
    "lxx=0.0\n",
    "lyy=1.0\n",
    "plt.text(lxx, lyy, chr(18+96+2), horizontalalignment='right',verticalalignment='bottom', transform=ax.transAxes,fontweight=800,\n",
    "        fontsize=24,color='k')\n",
    "fig.suptitle(gcm_name)\n",
    "\n",
    "plt.savefig('/home/vikram/Dropbox/BCSD Work/03_Figures/Figure_new_auroop/Supp/S1/mean_ts_'+gcm_name+'_gamma'+fig_name_suffix+'.svg')\n",
    "\n",
    "# plt.savefig('./Figures/Figure2/mean_ts_'+gcm_name+'_gamma'+fig_name_suffix+'.svg')\n",
    "plt.show()"
   ]
  },
  {
   "cell_type": "markdown",
   "metadata": {
    "id": "Xg4zONeqnmO9",
    "tags": []
   },
   "source": [
    "# QQplot\n"
   ]
  },
  {
   "cell_type": "code",
   "execution_count": null,
   "metadata": {
    "id": "xT3xOvLss1QK"
   },
   "outputs": [],
   "source": [
    "import numbers\n",
    "\n",
    "import numpy as np\n",
    "import matplotlib.pyplot as plt\n",
    "\n",
    "\n",
    "def qqplot(x, y, quantiles=None, interpolation='nearest', ax=None, rug=False,\n",
    "           rug_length=0.05, rug_kwargs=None, **kwargs):\n",
    "    \"\"\"Draw a quantile-quantile plot for `x` versus `y`.\n",
    "\n",
    "    Parameters\n",
    "    ----------\n",
    "    x, y : array-like\n",
    "        One-dimensional numeric arrays.\n",
    "\n",
    "    ax : matplotlib.axes.Axes, optional\n",
    "        Axes on which to plot. If not provided, the current axes will be used.\n",
    "\n",
    "    quantiles : int or array-like, optional\n",
    "        Quantiles to include in the plot. This can be an array of quantiles, in\n",
    "        which case only the specified quantiles of `x` and `y` will be plotted.\n",
    "        If this is an int `n`, then the quantiles will be `n` evenly spaced\n",
    "        points between 0 and 1. If this is None, then `min(len(x), len(y))`\n",
    "        evenly spaced quantiles between 0 and 1 will be computed.\n",
    "\n",
    "    interpolation : {‘linear’, ‘lower’, ‘higher’, ‘midpoint’, ‘nearest’}\n",
    "        Specify the interpolation method used to find quantiles when `quantiles`\n",
    "        is an int or None. See the documentation for numpy.quantile().\n",
    "\n",
    "    rug : bool, optional\n",
    "        If True, draw a rug plot representing both samples on the horizontal and\n",
    "        vertical axes. If False, no rug plot is drawn.\n",
    "\n",
    "    rug_length : float in [0, 1], optional\n",
    "        Specifies the length of the rug plot lines as a fraction of the total\n",
    "        vertical or horizontal length.\n",
    "\n",
    "    rug_kwargs : dict of keyword arguments\n",
    "        Keyword arguments to pass to matplotlib.axes.Axes.axvline() and\n",
    "        matplotlib.axes.Axes.axhline() when drawing rug plots.\n",
    "\n",
    "    kwargs : dict of keyword arguments\n",
    "        Keyword arguments to pass to matplotlib.axes.Axes.scatter() when drawing\n",
    "        the q-q plot.\n",
    "    \"\"\"\n",
    "    # Get current axes if none are provided\n",
    "    if ax is None:\n",
    "        ax = plt.gca()\n",
    "\n",
    "    if quantiles is None:\n",
    "        quantiles = min(len(x), len(y))\n",
    "\n",
    "    # Compute quantiles of the two samples\n",
    "    if isinstance(quantiles, numbers.Integral):\n",
    "        quantiles = np.linspace(start=0, stop=1, num=int(quantiles))\n",
    "    else:\n",
    "        quantiles = np.atleast_1d(np.sort(quantiles))\n",
    "    x_quantiles = np.quantile(x, quantiles, interpolation=interpolation)\n",
    "    y_quantiles = np.quantile(y, quantiles, interpolation=interpolation)\n",
    "\n",
    "    # Draw the rug plots if requested\n",
    "    if rug:\n",
    "        # Default rug plot settings\n",
    "        rug_x_params = dict(ymin=0, ymax=rug_length, c='gray', alpha=0.5)\n",
    "        rug_y_params = dict(xmin=0, xmax=rug_length, c='gray', alpha=0.5)\n",
    "\n",
    "        # Override default setting by any user-specified settings\n",
    "        if rug_kwargs is not None:\n",
    "            rug_x_params.update(rug_kwargs)\n",
    "            rug_y_params.update(rug_kwargs)\n",
    "\n",
    "        # Draw the rug plots\n",
    "        for point in x:\n",
    "            ax.axvline(point, **rug_x_params)\n",
    "        for point in y:\n",
    "            ax.axhline(point, **rug_y_params)\n",
    "\n",
    "    # Draw the q-q plot\n",
    "    ax.scatter(x_quantiles, y_quantiles, **kwargs)\n"
   ]
  },
  {
   "cell_type": "code",
   "execution_count": null,
   "metadata": {
    "colab": {
     "base_uri": "https://localhost:8080/"
    },
    "executionInfo": {
     "elapsed": 23,
     "status": "ok",
     "timestamp": 1642515970487,
     "user": {
      "displayName": "Vikram Singh Chandel",
      "photoUrl": "https://lh3.googleusercontent.com/a/default-user=s64",
      "userId": "07964427013125611178"
     },
     "user_tz": -330
    },
    "id": "mwAZCRwazdYc",
    "outputId": "47bf4c70-89f9-455b-f8c6-35705de5e00d"
   },
   "outputs": [],
   "source": [
    "plt.figure()\n",
    "ax= plt.subplot(111)\n",
    "x=data_qq_ip\n",
    "qqplot(x[1],x[0], c='r', alpha=0.5, edgecolor='k',ax=ax)\n",
    "qqplot(x[2],x[0],  c='g', alpha=0.5, edgecolor='k',ax=ax)\n",
    "qqplot( x[3],x[0], c='b', alpha=0.5, edgecolor='k',ax=ax)\n",
    "plt.ylim([0,80])\n",
    "plt.xlim([0,80])\n",
    "plt.xlabel('mm/day')\n",
    "plt.ylabel('Observed data')\n",
    "plt.legend(['GCM','BCSD-GCM','BCSD-Rnd'])\n",
    "plt.plot([0,60],[0,60])\n",
    "plt.axes().set_aspect('equal')\n",
    "plt.savefig('./Figures/Figure2/qq_plot_ip'+gcm_name+'.svg')\n",
    "\n",
    "\n",
    "plt.figure()\n",
    "x=data_qq_ut\n",
    "qqplot(x[1],x[0], c='r', alpha=0.5, edgecolor='k')\n",
    "qqplot(x[2],x[0],  c='g', alpha=0.5, edgecolor='k')\n",
    "qqplot( x[3],x[0], c='b', alpha=0.5, edgecolor='k')\n",
    "ll=6\n",
    "plt.ylim([-ll,ll+2])\n",
    "plt.xlim([-ll,ll+2])\n",
    "\n",
    "plt.xlabel('°C')\n",
    "plt.ylabel('Observed data')\n",
    "plt.legend(['GCM','BCSD-GCM','BCSD-Rnd'])\n",
    "plt.axes().set_aspect('equal')\n",
    "plt.plot([-ll,ll+2],[-ll,ll+2])\n",
    "plt.savefig('./Figures/Figure2/qq_plot_ut'+gcm_name+'.svg')\n",
    "\n",
    "\n",
    "plt.figure()\n",
    "x=data_qq_up\n",
    "qqplot(x[1],x[0], c='r', alpha=0.5, edgecolor='k')\n",
    "qqplot(x[2],x[0],  c='g', alpha=0.5, edgecolor='k')\n",
    "qqplot( x[3],x[0], c='b', alpha=0.5, edgecolor='k')\n",
    "plt.legend(['GCM','BCSD-GCM','BCSD-Rnd'])\n",
    "plt.ylim([0,80])\n",
    "plt.xlim([0,80])\n",
    "plt.plot([0,80],[0,80])\n",
    "\n",
    "plt.xlabel('mm/month')\n",
    "plt.ylabel('Observed data')\n",
    "plt.axes().set_aspect('equal')\n",
    "plt.savefig('./Figures/Figure2/qq_plot_up'+gcm_name+'.svg')\n"
   ]
  },
  {
   "cell_type": "markdown",
   "metadata": {
    "id": "d0VsKMDYFrxL",
    "jp-MarkdownHeadingCollapsed": true,
    "tags": []
   },
   "source": [
    "# othe"
   ]
  },
  {
   "cell_type": "code",
   "execution_count": null,
   "metadata": {
    "colab": {
     "base_uri": "https://localhost:8080/",
     "height": 617
    },
    "executionInfo": {
     "elapsed": 23,
     "status": "ok",
     "timestamp": 1642491381080,
     "user": {
      "displayName": "Vikram Singh Chandel",
      "photoUrl": "https://lh3.googleusercontent.com/a/default-user=s64",
      "userId": "07964427013125611178"
     },
     "user_tz": -330
    },
    "id": "7rG3t7gpnn47",
    "outputId": "0becc640-0df0-43b1-b0c3-2ca17312aef2"
   },
   "outputs": [],
   "source": [
    "import statsmodels.api as sm\n",
    "x=data_qq_ip\n",
    "pp_x = sm.ProbPlot(x[0])\n",
    "pp_y = sm.ProbPlot(x[1])\n",
    "ax=plt.subplot(111)\n",
    "fig1 = pp_x.qqplot(other=pp_y, line='45',ax=ax,color='r',alpha=0.5)\n",
    "pp_y = sm.ProbPlot(x[2])\n",
    "fig2 = pp_x.qqplot(other=pp_y, line='45',ax=ax,color='g',alpha=0.5)\n",
    "pp_y = sm.ProbPlot(x[3])\n",
    "fig3 = pp_x.qqplot(other=pp_y, line='45',ax=ax,color='b',alpha=0.5)\n",
    "plt.axes().set_aspect('equal')\n",
    "plt.figure()\n",
    "\n",
    "qqplot(x[1],x[0], c='r', alpha=0.5, edgecolor='k')\n",
    "qqplot(x[2],x[0],  c='g', alpha=0.5, edgecolor='k')\n",
    "qqplot(x[3],x[0], c='b', alpha=0.5, edgecolor='k')\n",
    "plt.ylim([0,80])\n",
    "plt.xlim([0,80])\n",
    "plt.plot([0,80],[0,80])\n",
    "plt.xlabel('X')\n",
    "plt.ylabel('Y')\n",
    "plt.axes().set_aspect('equal')\n"
   ]
  },
  {
   "cell_type": "code",
   "execution_count": null,
   "metadata": {
    "colab": {
     "base_uri": "https://localhost:8080/",
     "height": 269
    },
    "executionInfo": {
     "elapsed": 723,
     "status": "ok",
     "timestamp": 1642491381785,
     "user": {
      "displayName": "Vikram Singh Chandel",
      "photoUrl": "https://lh3.googleusercontent.com/a/default-user=s64",
      "userId": "07964427013125611178"
     },
     "user_tz": -330
    },
    "id": "y8TSBTtcx6Cu",
    "outputId": "53bd42f6-c96a-4e54-a7b9-dbbc2bda15c5"
   },
   "outputs": [],
   "source": [
    "import statsmodels.api as sm\n",
    "x=data_qq_up\n",
    "pp_x = sm.ProbPlot(x[0])\n",
    "pp_y = sm.ProbPlot(x[1])\n",
    "ax1=plt.subplot(1,3,1)\n",
    "fig1 = pp_x.qqplot(other=pp_y, line='45',ax=ax1,color='r',alpha=0.5)\n",
    "pp_y = sm.ProbPlot(x[2])\n",
    "fig2 = pp_x.qqplot(other=pp_y, line='45',ax=ax1,color='g',alpha=0.5)\n",
    "pp_y = sm.ProbPlot(x[3])\n",
    "fig3 = pp_x.qqplot(other=pp_y, line='45',ax=ax1,color='b',alpha=0.5)\n",
    "plt.axes().set_aspect('equal')\n",
    "\n",
    "x=data_qq_ut\n",
    "pp_x = sm.ProbPlot(x[0])\n",
    "pp_y = sm.ProbPlot(x[1])\n",
    "ax2=plt.subplot(132)\n",
    "fig1 = pp_x.qqplot(other=pp_y, line='45',ax=ax2,color='r',alpha=0.5)\n",
    "pp_y = sm.ProbPlot(x[2])\n",
    "fig2 = pp_x.qqplot(other=pp_y, line='45',ax=ax2,color='g',alpha=0.5)\n",
    "pp_y = sm.ProbPlot(x[3])\n",
    "fig3 = pp_x.qqplot(other=pp_y, line='45',ax=ax2,color='b',alpha=0.5)\n",
    "plt.axes().set_aspect('equal')\n",
    "\n",
    "\n",
    "x=data_qq_up\n",
    "pp_x = sm.ProbPlot(x[0])\n",
    "pp_y = sm.ProbPlot(x[1])\n",
    "ax3=plt.subplot(133)\n",
    "fig1 = pp_x.qqplot(other=pp_y, line='45',ax=ax3,color='r',alpha=0.5)\n",
    "pp_y = sm.ProbPlot(x[2])\n",
    "fig2 = pp_x.qqplot(other=pp_y, line='45',ax=ax3,color='g',alpha=0.5)\n",
    "pp_y = sm.ProbPlot(x[3])\n",
    "fig3 = pp_x.qqplot(other=pp_y, line='45',ax=ax3,color='b',alpha=0.5)\n",
    "plt.axes().set_aspect('equal')\n",
    "\n"
   ]
  },
  {
   "cell_type": "code",
   "execution_count": null,
   "metadata": {
    "id": "GTFfX1C1nWWK"
   },
   "outputs": [],
   "source": [
    "titles=['Obs',\n",
    "        'GCM-M',\n",
    "        'GCM-C',\n",
    "        'GCM-H',\n",
    "        'GCM-G',\n",
    "        'BC-M',\n",
    "        'BC-C',\n",
    "        'BC-H',\n",
    "        'BC-G',\n",
    "        'BC-R0',\n",
    "        'BC-R1',\n",
    "        'BC-R2',\n",
    "        'BC-R3']"
   ]
  },
  {
   "cell_type": "code",
   "execution_count": null,
   "metadata": {
    "id": "N4UOOYPwGyKm"
   },
   "outputs": [],
   "source": [
    "titlesy=['GCM','BC-G','BC-R']\n",
    "titlesx=[['N','S','W','MW'],['N','S','W','MW'],['NW','C','NC','NE','NM','P']]\n",
    "plot_hmap_fig2s([ind1h,ind2h,ind3h],[region_shapes_us,region_shapes_us,region_shapes_in],['NAME','NAME','State_Name'],[4,4,6],[[0,5],[0,25],[0,5]],titlesx,titlesy,\".1f\",'Reds')"
   ]
  },
  {
   "cell_type": "markdown",
   "metadata": {
    "id": "RBwAthvXB59D"
   },
   "source": [
    "### R10mm"
   ]
  },
  {
   "cell_type": "code",
   "execution_count": null,
   "metadata": {
    "colab": {
     "base_uri": "https://localhost:8080/"
    },
    "executionInfo": {
     "elapsed": 27319,
     "status": "ok",
     "timestamp": 1636550797421,
     "user": {
      "displayName": "Vikram Singh Chandel",
      "photoUrl": "https://lh3.googleusercontent.com/a/default-user=s64",
      "userId": "07964427013125611178"
     },
     "user_tz": -330
    },
    "id": "LHEqtTRHAaIS",
    "outputId": "0f296271-b0f5-4159-c385-15e0a2964492"
   },
   "outputs": [],
   "source": [
    "R10mmindic=spatial_ind(R10mm_annualy,data)\n",
    "plot_indices(R10mmindic,titles,'R10mm','# of days',[0,100],[-15,15],ex='max')"
   ]
  },
  {
   "cell_type": "code",
   "execution_count": null,
   "metadata": {
    "colab": {
     "base_uri": "https://localhost:8080/"
    },
    "executionInfo": {
     "elapsed": 13,
     "status": "error",
     "timestamp": 1636550797425,
     "user": {
      "displayName": "Vikram Singh Chandel",
      "photoUrl": "https://lh3.googleusercontent.com/a/default-user=s64",
      "userId": "07964427013125611178"
     },
     "user_tz": -330
    },
    "id": "IrmGWimakicK",
    "outputId": "2419d95e-9189-4f24-8bd1-91152f041028"
   },
   "outputs": [],
   "source": [
    "#R10mma,R10mmb=get_corr_n_rmse(R10mmindic)\n",
    "plot_heatmap(R10mma,[-1,1],titles,\".1f\",'RdBu_r')\n",
    "plot_heatmap(R10mmb,[0,100],titles,\".0f\",'Reds')"
   ]
  },
  {
   "cell_type": "markdown",
   "metadata": {
    "id": "ulTdSqhqB0Id"
   },
   "source": [
    "### CWD"
   ]
  },
  {
   "cell_type": "code",
   "execution_count": null,
   "metadata": {
    "id": "hFTmI0vmB2Qt"
   },
   "outputs": [],
   "source": [
    "spatial_ind(CDD_annualy,'CWD','# of days',[0,100],[-10,10])"
   ]
  },
  {
   "cell_type": "code",
   "execution_count": null,
   "metadata": {
    "id": "4Mp1-w6K90qu"
   },
   "outputs": [],
   "source": []
  },
  {
   "cell_type": "markdown",
   "metadata": {
    "id": "xs5OdI6ZDbAf"
   },
   "source": [
    "### Rx5day"
   ]
  },
  {
   "cell_type": "code",
   "execution_count": null,
   "metadata": {
    "id": "BN_gUH-hDbAh"
   },
   "outputs": [],
   "source": [
    "spatial_ind(Rx5day_annualy,'Rx5day','mm',[0,200],[-15,15])"
   ]
  },
  {
   "cell_type": "markdown",
   "metadata": {
    "id": "wwRyCEZSDc8u"
   },
   "source": [
    "### SDII"
   ]
  },
  {
   "cell_type": "code",
   "execution_count": null,
   "metadata": {
    "id": "JibWWVagDc8v"
   },
   "outputs": [],
   "source": [
    "spatial_ind(SDII_annualy,'SDII','mm',[0,100],[-2,2])"
   ]
  },
  {
   "cell_type": "markdown",
   "metadata": {
    "id": "nMxBrGf6ESZ0"
   },
   "source": [
    "### R95pTOT"
   ]
  },
  {
   "cell_type": "code",
   "execution_count": null,
   "metadata": {
    "id": "Q0ERx3KbESaK"
   },
   "outputs": [],
   "source": [
    "spatial_ind(R95pTOT_annualy,'R95pTOT','%age',[0,30],[-5,5])"
   ]
  }
 ],
 "metadata": {
  "colab": {
   "authorship_tag": "ABX9TyPawuAkg8Z02o09yH2IQNlU",
   "collapsed_sections": [
    "dU2nvEm8MCa5",
    "2NG2USEmDeTg",
    "KjsqWLFr1upl",
    "D_Y5XbZnmhZC",
    "Xg4zONeqnmO9",
    "d0VsKMDYFrxL"
   ],
   "mount_file_id": "1VlyiGYmEpVqrnjayEPjJp7X8EHjpPLMR",
   "name": "Figure 2 AND Figure 3.ipynb",
   "provenance": [
    {
     "file_id": "1R87Z8gZrwK8rXFmacCSUg_UYk7GAmdp3",
     "timestamp": 1625652572820
    }
   ]
  },
  "kernelspec": {
   "display_name": "Python 3 (ipykernel)",
   "language": "python",
   "name": "python3"
  },
  "language_info": {
   "codemirror_mode": {
    "name": "ipython",
    "version": 3
   },
   "file_extension": ".py",
   "mimetype": "text/x-python",
   "name": "python",
   "nbconvert_exporter": "python",
   "pygments_lexer": "ipython3",
   "version": "3.9.12"
  }
 },
 "nbformat": 4,
 "nbformat_minor": 4
}
