{
 "cells": [
  {
   "cell_type": "code",
   "execution_count": null,
   "metadata": {
    "executionInfo": {
     "elapsed": 416,
     "status": "ok",
     "timestamp": 1655100642669,
     "user": {
      "displayName": "Vikram Singh Chandel",
      "userId": "07964427013125611178"
     },
     "user_tz": -330
    },
    "id": "fKd-tcXtK_Tj"
   },
   "outputs": [],
   "source": [
    "import utility_module_2_v_3 as uu\n",
    "import numpy as np\n",
    "import matplotlib.pyplot as plt\n",
    "import numpy.ma as ma\n",
    "from numpy import meshgrid\n",
    "from mpl_toolkits.basemap import Basemap\n",
    "\n",
    "import geopandas as gpd\n",
    "from shapely.geometry  import Point\n",
    "from shapely.geometry import shape\n",
    "import seaborn as sns\n",
    "import pandas as pd \n",
    "\n",
    "import indices_no_leap as ii"
   ]
  },
  {
   "cell_type": "markdown",
   "metadata": {
    "id": "amLp3GdOnFz2",
    "tags": []
   },
   "source": [
    "## Import data"
   ]
  },
  {
   "cell_type": "code",
   "execution_count": null,
   "metadata": {},
   "outputs": [],
   "source": [
    "gcm_name ='CanESM2'\n",
    "output_figname = ''#_eqm'\n",
    "path_out_IMD = '/home/vikram/BCSD_data/India_P_BCSDd/'"
   ]
  },
  {
   "cell_type": "code",
   "execution_count": null,
   "metadata": {
    "id": "JA5_KsB6KZDV"
   },
   "outputs": [],
   "source": [
    "gcm_meta=np.load(path_out_IMD + '/bcsd_imd_metadata_'+gcm_name+'.npy',allow_pickle=True)\n",
    "Nyears_train = gcm_meta.item()['Nyears_train']\n",
    "\n",
    "\n",
    "st=gcm_meta.item()['st']\n",
    "en=gcm_meta.item()['en']\n",
    "\n",
    "lat_obs=gcm_meta.item()['lat_obs']\n",
    "lat_gcm_01=gcm_meta.item()['lat_gcm']\n",
    "lon_obs=gcm_meta.item()['lon_obs']\n",
    "lon_gcm_01=gcm_meta.item()['lon_gcm']\n",
    "mask=gcm_meta.item()['mask']\n",
    "\n",
    "imd_test=uu.correct_nan_inf_neg(np.load(path_out_IMD + '/data_obs_imd_pred.npy'))[365*Nyears_train:]\n",
    "\n",
    "N1=imd_test.shape[1]\n",
    "N2=imd_test.shape[2]\n",
    "\n",
    "\n",
    "\n"
   ]
  },
  {
   "cell_type": "code",
   "execution_count": null,
   "metadata": {},
   "outputs": [],
   "source": [
    "from tqdm import tqdm\n",
    "def check_for_nans_infs_zeros(data_sts):\n",
    "    print('Nans:',np.sum(np.isnan(data_sts)))\n",
    "    print('Infs:' ,np.sum(np.isinf(data_sts)))\n",
    "    print('Zeros:',np.sum((data_sts==0)))\n",
    "    \n",
    "    \n",
    "def spatial_ind(func,data_all,mask):\n",
    "  N=data_all[0].shape[0]\n",
    "  N1=data_all[0].shape[1]\n",
    "  N2=data_all[0].shape[2]\n",
    "  Nyears  =  int(N/365 )\n",
    "  D=len(data_all)\n",
    "  calc_index=np.zeros((D,N1,N2))\n",
    "  for d in tqdm(range(D)):\n",
    "        for i in range(N1):\n",
    "          for j in range(N2):\n",
    "            if mask[i,j] == 0:\n",
    "                calc_index[d,i,j]=np.nanmean(func(data_all[d][:,i,j],Nyears))\n",
    "  return calc_index\n",
    "\n",
    "\n",
    "def spatial_ind_single(func,data_all,mask):\n",
    "  N=data_all.shape[0]\n",
    "  N1=data_all.shape[1]\n",
    "  N2=data_all.shape[2]\n",
    "\n",
    "  Nyears  =  int(N/365 )\n",
    "    \n",
    "  calc_index=np.zeros((N1,N2))\n",
    "  for i in range(N1):\n",
    "      for j in range(N2):\n",
    "        if mask[i,j] == 0:\n",
    "            calc_index[i,j]=np.nanmean(func(data_all[:,i,j],Nyears))\n",
    "  return calc_index\n"
   ]
  },
  {
   "cell_type": "code",
   "execution_count": null,
   "metadata": {},
   "outputs": [],
   "source": [
    "def S_score_2D(data_ref, data_model,mask_inf):\n",
    "    # mask is true for exterior values\n",
    "    data_1 = data_ref\n",
    "    data_2 = data_model \n",
    "    ind_1 = np.isnan(data_1)\n",
    "    ind_2 = np.isnan(data_2)\n",
    "    data_1[ind_2] = np.nan\n",
    "    data_2[ind_1] = np.nan\n",
    "    data_1[mask_inf == True] = np.nan\n",
    "    data_2[mask_inf == True] = np.nan\n",
    "\n",
    "    data_1 = data_1.flatten()\n",
    "    data_2 = data_2.flatten()\n",
    "    \n",
    "    data_1 =  np.delete(data_1,np.isnan(data_1))\n",
    "    data_2 =  np.delete(data_2,np.isnan(data_2))\n",
    "    R = np.corrcoef(data_1,data_2)[0,1]\n",
    "\n",
    "    SDR = np.std(data_2)/np.std(data_1)\n",
    "\n",
    "    S_score = (1+R)**4  / ( 4 * (SDR + 1 / SDR)**2 )\n",
    "    \n",
    "    \n",
    "    return S_score\n",
    "\n",
    "def RMSE_2D(data_ref, data_model,mask_inf):\n",
    "    # mask is true for exterior values\n",
    "    data_1 = data_ref\n",
    "    data_2 = data_model \n",
    "    ind_1 = np.isnan(data_1)\n",
    "    ind_2 = np.isnan(data_2)\n",
    "    data_1[ind_2] = np.nan\n",
    "    data_2[ind_1] = np.nan\n",
    "    data_1[mask_inf == True] = np.nan\n",
    "    data_2[mask_inf == True] = np.nan\n",
    "\n",
    "    data_1 = data_1.flatten()\n",
    "    data_2 = data_2.flatten()\n",
    "    \n",
    "    data_1 =  np.delete(data_1,np.isnan(data_1))\n",
    "    data_2 =  np.delete(data_2,np.isnan(data_2))\n",
    "    R = np.corrcoef(data_1,data_2)[0,1]\n",
    "    return np.mean((data_2-data_1)**2)\n"
   ]
  },
  {
   "cell_type": "code",
   "execution_count": null,
   "metadata": {},
   "outputs": [],
   "source": [
    "gcm_list = ['GFDL_CM3','CanESM2','MIROC_ESM','MRI_ESM1','ACCESS1_0','NorESM1_M','CM5A_LR','CNRM_CM5','MPI_ESM_MR']\n",
    "index_list = ['Mean','CDD','Rx1day','R20mm','R99p']"
   ]
  },
  {
   "cell_type": "code",
   "execution_count": null,
   "metadata": {},
   "outputs": [],
   "source": [
    "RMSE_bcsd = {}\n",
    "RMSE_random = {}\n",
    "\n",
    "S_score_bcsd = {}\n",
    "S_score_random = {}\n",
    "for iitr,iindex in enumerate([ii.mean_annualy,ii.CDD_annualy,ii.Rx1day_annualy,ii.R20mm_annualy,ii.R99p_annualy,]):\n",
    "    print(iitr)\n",
    "    obs_ind = spatial_ind_single(iindex,imd_test,mask)\n",
    "    \n",
    "    S_score_random[iitr] = []\n",
    "    RMSE_random[iitr] = []\n",
    "    for j in tqdm(range(100)):\n",
    "        out_id='pre_rnd_new_'+str(j)  \n",
    "        # print(out_id)\n",
    "        bcsd_rnd_test=uu.correct_nan_inf_neg((np.load(path_out_IMD + '/BCSD_outputs_'+out_id+'.npy')))[365*Nyears_train:]\n",
    "        rnd_ind = spatial_ind_single(iindex,bcsd_rnd_test,mask)\n",
    "        S_score_random[iitr].append(S_score_2D(obs_ind,rnd_ind,mask))\n",
    "        RMSE_random[iitr].append(RMSE_2D(obs_ind,rnd_ind,mask))\n",
    "        \n",
    "    S_score_bcsd[iitr] = []\n",
    "    RMSE_bcsd[iitr] = []\n",
    "    \n",
    "    for gcm_name in gcm_list:\n",
    "        out_id='pre_'+gcm_name \n",
    "        bcsd_gcm_test=uu.correct_nan_inf_neg(np.load(path_out_IMD + '/BCSD_outputs_'+out_id+'.npy'))[365*Nyears_train:]\n",
    "        bcsd_ind = spatial_ind_single(iindex,bcsd_gcm_test,mask)\n",
    "        S_score_bcsd[iitr].append(S_score_2D(obs_ind,bcsd_ind,mask))\n",
    "        RMSE_bcsd[iitr].append(RMSE_2D(obs_ind,bcsd_ind,mask))\n"
   ]
  },
  {
   "cell_type": "code",
   "execution_count": null,
   "metadata": {},
   "outputs": [],
   "source": [
    "plt.figure(figsize = (8,4))\n",
    "ax =plt.gca()\n",
    "\n",
    "delmx =0.25\n",
    "N_indices = 5\n",
    "N_esm = 9\n",
    "plt.boxplot(list(S_score_random[x] for x in range(N_indices)),widths = 0.1)\n",
    "markers=['o','^','s','p','P','*','h','+','x','X','D']\n",
    "\n",
    "\n",
    "plt.plot( 0,0, 'D',markersize = 10,color ='w',linestyle = 'None',mfc='none',label ='Random Fields')\n",
    "\n",
    "# colors=['r','g','b','y']\n",
    "for gi in range(N_esm):\n",
    "    plt.plot( np.arange(1+delmx,N_indices + 1+delmx,1), list(S_score_bcsd[x][gi] for x in range(N_indices)),\n",
    "             markers[gi],markersize = 10,linestyle = 'None',mfc='none',label = gcm_list[gi])\n",
    "    plt.xticks(np.arange(1+delmx*0.5,N_indices + 1+delmx*0.5,1),index_list)\n",
    "\n",
    "    \n",
    "\n",
    "        \n",
    "        \n",
    "plt.ylim([0.25,0.951]);\n",
    "plt.ylabel(\"Score\")\n",
    "plt.xlabel(\"Indices\")\n",
    "ax =plt.gca()\n",
    "pos = ax.get_position()\n",
    "ax.set_position([pos.x0, pos.y0, pos.width * 0.9, pos.height])\n",
    "ax.legend(loc='center right', bbox_to_anchor=(1.25, 0.5))\n",
    "plt.xlim([1.7,N_indices+1-0.3])\n",
    "# plt.figure(figsize = (6,4))\n",
    "# delmx =0\n",
    "# N_indices = 5\n",
    "# N_esm = 9\n",
    "# plt.boxplot(list(np.sqrt(RMSE_random[x]) for x in range(1,N_indices)))\n",
    "# markers=['o','^','s','p','P','*','h','+','x','X','D']\n",
    "\n",
    "# # colors=['r','g','b','y']\n",
    "# for gi in range(N_esm):\n",
    "#     plt.plot( np.arange(1+delmx,N_indices + delmx,1), list(np.sqrt(RMSE_bcsd[x][gi]) for x in range(1,N_indices)),\n",
    "#              markers[gi],markersize = 10,linestyle = 'None',mfc='none',label = gcm_list[gi])\n",
    "#     plt.xticks(np.arange(1+delmx,N_indices + delmx,1),index_list[1:])\n",
    "# # plt.ylim([0,500]);\n",
    "plt.tight_layout()\n",
    "plt.savefig('./Figures/NFigure4/ex_all_gcm_random.jpg',dpi = 300)\n",
    "plt.savefig('./Figures/NFigure4/ex_all_gcm_random.svg')\n",
    "plt.savefig(\"/home/vikram/Dropbox/BCSD Work/03_Figures/Figure_new_auroop/Figure2/part_2.svg\")\n",
    "\n"
   ]
  },
  {
   "cell_type": "code",
   "execution_count": null,
   "metadata": {},
   "outputs": [],
   "source": [
    "def prints(*args):\n",
    "    for arg in args:\n",
    "        print(arg.shape)"
   ]
  },
  {
   "cell_type": "code",
   "execution_count": null,
   "metadata": {},
   "outputs": [],
   "source": [
    "np.random.randn(100,5).shape"
   ]
  },
  {
   "cell_type": "code",
   "execution_count": null,
   "metadata": {},
   "outputs": [],
   "source": [
    "\n",
    "def box_plot_new(x_input,y_input,ax):\n",
    "    for x_data,y_data in zip(x_input,y_input):\n",
    "    #     x_data = 1\n",
    "    # y_data = 10 +np.random.randn(100)\n",
    "\n",
    "        box_width = 0.5\n",
    "\n",
    "\n",
    "        p0   = np.percentile(y_data,0)\n",
    "        p25  = np.percentile(y_data,25)\n",
    "        p50  = np.percentile(y_data,50)\n",
    "        p75  = np.percentile(y_data,75)\n",
    "        p100 = np.percentile(y_data,100)\n",
    "\n",
    "\n",
    "        box1 = [ (x_data - box_width/2 , p0),\n",
    "                (x_data + box_width/2 , p0),\n",
    "                (x_data + box_width/2 , p100),\n",
    "                (x_data - box_width/2 , p100),\n",
    "                (x_data - box_width/2 , p0) ]\n",
    "\n",
    "\n",
    "        box2 = [ (x_data - box_width/2 , p25),\n",
    "                (x_data + box_width/2 , p25),\n",
    "                (x_data + box_width/2 , p75),\n",
    "                (x_data - box_width/2 , p75),\n",
    "                (x_data - box_width/2 , p25) ]\n",
    "\n",
    "\n",
    "\n",
    "        poly = Polygon(box1,alpha=0.5)\n",
    "        ax.add_patch(poly)\n",
    "        poly = Polygon(box2,alpha =1)\n",
    "        ax.add_patch(poly)\n",
    "\n",
    "\n",
    "    plt.ylim([np.min(y_input)-1,np.max(y_input)+1])\n",
    "    plt.xlim([np.min(x_input)-1,np.max(x_input)+1])\n",
    "\n",
    "\n",
    "\n"
   ]
  },
  {
   "cell_type": "code",
   "execution_count": null,
   "metadata": {},
   "outputs": [],
   "source": [
    "plt.figure()\n",
    "ax =plt.gca()\n",
    "\n",
    "x_input = range(5)\n",
    "y_input = np.random.randn(5,100)\n",
    "\n",
    "box_plot_new(x_input,y_input,ax)"
   ]
  },
  {
   "cell_type": "code",
   "execution_count": null,
   "metadata": {},
   "outputs": [],
   "source": []
  },
  {
   "cell_type": "code",
   "execution_count": null,
   "metadata": {},
   "outputs": [],
   "source": []
  },
  {
   "cell_type": "code",
   "execution_count": null,
   "metadata": {},
   "outputs": [],
   "source": [
    "\n",
    "RMSE_bcsd = {}\n",
    "RMSE_random = {}\n",
    "for iitr,iindex in enumerate([ii.mean_annualy,ii.CDD_annualy,ii.Rx1day_annualy,ii.R20mm_annualy,ii.R99p_annualy,]):\n",
    "    print(iitr)\n",
    "    obs_ind = spatial_ind_single(iindex,imd_test,mask)\n",
    "    RMSE_random[iitr] = []\n",
    "    for j in tqdm(range(10)):\n",
    "        out_id='pre_rnd_new_'+str(j)  \n",
    "        # print(out_id)\n",
    "        bcsd_rnd_test=uu.correct_nan_inf_neg((np.load(path_out_IMD + '/BCSD_outputs_'+out_id+'.npy')))[365*Nyears_train:]\n",
    "        rnd_ind = spatial_ind_single(iindex,bcsd_rnd_test,mask)\n",
    "        RMSE_random[iitr].append(RMSE_2D(obs_ind,rnd_ind,mask))\n",
    "    RMSE_bcsd[iitr] = []\n",
    "    for gcm_name in gcm_list:\n",
    "        out_id='pre_'+gcm_name \n",
    "        bcsd_gcm_test=uu.correct_nan_inf_neg(np.load(path_out_IMD + '/BCSD_outputs_'+out_id+'.npy'))[365*Nyears_train:]\n",
    "        bcsd_ind = spatial_ind_single(iindex,bcsd_gcm_test,mask)\n",
    "        RMSE_bcsd[iitr].append(RMSE_2D(obs_ind,bcsd_ind,mask))\n",
    "        "
   ]
  },
  {
   "cell_type": "code",
   "execution_count": null,
   "metadata": {},
   "outputs": [],
   "source": [
    "plt.figure(figsize = (6,4))\n",
    "delmx =0\n",
    "N_indices = 5\n",
    "N_esm = 9\n",
    "plt.boxplot(list(RMSE_random[x] for x in range(N_indices)))\n",
    "markers=['o','^','s','p','P','*','h','+','x','X','D']\n",
    "\n",
    "# colors=['r','g','b','y']\n",
    "for gi in range(N_esm):\n",
    "    plt.plot( np.arange(1+delmx,N_indices + 1+delmx,1), list(RMSE_bcsd[x][gi] for x in range(N_indices)),\n",
    "             markers[gi],markersize = 10,linestyle = 'None',mfc='none',label = gcm_list[gi])\n",
    "    plt.xticks(np.arange(1+delmx,N_indices + 1+delmx,1),index_list)\n",
    "# plt.ylim([0,1]);\n",
    "# plt.legend()\n",
    "\n",
    "\n",
    "\n"
   ]
  },
  {
   "cell_type": "code",
   "execution_count": null,
   "metadata": {},
   "outputs": [],
   "source": []
  },
  {
   "cell_type": "code",
   "execution_count": null,
   "metadata": {},
   "outputs": [],
   "source": [
    "prints(imd_train,imd_test,data_gf_train,data_gf_test,bcsd_gcm_train,bcsd_gcm_test,bcsd_rnd_train,bcsd_rnd_test)"
   ]
  },
  {
   "cell_type": "markdown",
   "metadata": {
    "jp-MarkdownHeadingCollapsed": true,
    "tags": []
   },
   "source": [
    "## Checking imported data"
   ]
  },
  {
   "cell_type": "code",
   "execution_count": null,
   "metadata": {},
   "outputs": [],
   "source": []
  },
  {
   "cell_type": "code",
   "execution_count": null,
   "metadata": {
    "colab": {
     "base_uri": "https://localhost:8080/",
     "height": 1000
    },
    "executionInfo": {
     "elapsed": 6779,
     "status": "ok",
     "timestamp": 1640361911817,
     "user": {
      "displayName": "Vikram Singh Chandel",
      "photoUrl": "https://lh3.googleusercontent.com/a/default-user=s64",
      "userId": "07964427013125611178"
     },
     "user_tz": -330
    },
    "id": "5h7M2tONt5kD",
    "outputId": "bf63b38c-28a6-4b2b-90c6-94d83612f545"
   },
   "outputs": [],
   "source": [
    "\n",
    "data_train = [imd_train,data_gf_train,bcsd_gcm_train,bcsd_rnd_train]\n",
    "data_test = [imd_test,data_gf_test,bcsd_gcm_test,bcsd_rnd_test]\n",
    "\n",
    "\n",
    "plt.figure(figsize=(10,10))\n",
    "for i in range(4):\n",
    "  plt.subplot(4,4,i+1)\n",
    "  plt.pcolor(data_train[i][250,:,:])\n",
    "  plt.colorbar()\n",
    "\n",
    "plt.figure(figsize=(20,10))\n",
    "for i in range(4):\n",
    "  plt.subplot(4,4,i+1)\n",
    "  plt.plot(data_train[i][:,7,7])\n",
    "    \n",
    "plt.figure(figsize=(10,10))\n",
    "for i in range(4):\n",
    "  plt.subplot(4,4,i+1)\n",
    "  plt.pcolor(data_test[i][250,:,:])\n",
    "  plt.colorbar()\n",
    "\n",
    "plt.figure(figsize=(20,10))\n",
    "for i in range(4):\n",
    "  plt.subplot(4,4,i+1)\n",
    "  plt.plot(data_test[i][:,7,7])\n",
    "\n"
   ]
  },
  {
   "cell_type": "markdown",
   "metadata": {
    "id": "lhg5IiygwncX",
    "tags": []
   },
   "source": [
    "## Compute indices"
   ]
  },
  {
   "cell_type": "code",
   "execution_count": null,
   "metadata": {},
   "outputs": [],
   "source": [
    "from matplotlib.patches import Polygon\n"
   ]
  },
  {
   "cell_type": "code",
   "execution_count": null,
   "metadata": {},
   "outputs": [],
   "source": [
    "def draw_screen_poly( x, y,c):\n",
    "    \n",
    "    "
   ]
  },
  {
   "cell_type": "code",
   "execution_count": null,
   "metadata": {},
   "outputs": [],
   "source": [
    "points_x = [0,0,1,1,0]\n",
    "points_y = [0,1,1,0,0]\n",
    "c='r'\n",
    "\n",
    "fig, ax = plt.subplots(1,1)\n",
    "\n",
    "xy = zip(points_x,points_y)\n",
    "\n",
    "poly = Polygon( list(xy),facecolor = c, alpha = 0.5)\n",
    "\n",
    "plt.gca().add_patch(poly)\n",
    "list(xy)"
   ]
  },
  {
   "cell_type": "code",
   "execution_count": null,
   "metadata": {},
   "outputs": [],
   "source": []
  },
  {
   "cell_type": "code",
   "execution_count": null,
   "metadata": {},
   "outputs": [],
   "source": [
    "from matplotlib.patches import Polygon\n",
    "import matplotlib.pyplot as plt\n",
    "\n",
    "polygon1 = Polygon([(0,5), (1,1), (3,0),])\n",
    "\n",
    "fig, ax = plt.subplots(1,1)\n",
    "\n",
    "ax.add_patch(polygon1)\n",
    "\n",
    "plt.ylim(0,6)\n",
    "plt.xlim(0,6)"
   ]
  },
  {
   "cell_type": "code",
   "execution_count": null,
   "metadata": {},
   "outputs": [],
   "source": []
  }
 ],
 "metadata": {
  "colab": {
   "authorship_tag": "ABX9TyPawuAkg8Z02o09yH2IQNlU",
   "collapsed_sections": [
    "dU2nvEm8MCa5",
    "2NG2USEmDeTg",
    "KjsqWLFr1upl",
    "D_Y5XbZnmhZC",
    "Xg4zONeqnmO9",
    "d0VsKMDYFrxL"
   ],
   "mount_file_id": "1VlyiGYmEpVqrnjayEPjJp7X8EHjpPLMR",
   "name": "Figure 2 AND Figure 3.ipynb",
   "provenance": [
    {
     "file_id": "1R87Z8gZrwK8rXFmacCSUg_UYk7GAmdp3",
     "timestamp": 1625652572820
    }
   ]
  },
  "kernelspec": {
   "display_name": "Python 3 (ipykernel)",
   "language": "python",
   "name": "python3"
  },
  "language_info": {
   "codemirror_mode": {
    "name": "ipython",
    "version": 3
   },
   "file_extension": ".py",
   "mimetype": "text/x-python",
   "name": "python",
   "nbconvert_exporter": "python",
   "pygments_lexer": "ipython3",
   "version": "3.9.12"
  }
 },
 "nbformat": 4,
 "nbformat_minor": 4
}
