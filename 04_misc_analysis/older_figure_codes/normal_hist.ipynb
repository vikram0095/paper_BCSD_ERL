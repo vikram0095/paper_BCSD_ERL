{
 "cells": [
  {
   "cell_type": "code",
   "execution_count": null,
   "metadata": {
    "executionInfo": {
     "elapsed": 416,
     "status": "ok",
     "timestamp": 1655100642669,
     "user": {
      "displayName": "Vikram Singh Chandel",
      "userId": "07964427013125611178"
     },
     "user_tz": -330
    },
    "id": "fKd-tcXtK_Tj"
   },
   "outputs": [],
   "source": [
    "import utility_module_2_v_3 as uu\n",
    "import numpy as np\n",
    "import matplotlib.pyplot as plt\n",
    "import numpy.ma as ma\n",
    "from numpy import meshgrid\n",
    "from mpl_toolkits.basemap import Basemap\n",
    "\n",
    "import geopandas as gpd\n",
    "from shapely.geometry  import Point\n",
    "from shapely.geometry import shape\n",
    "import seaborn as sns\n",
    "import pandas as pd \n",
    "\n",
    "import indices_no_leap as ii"
   ]
  },
  {
   "cell_type": "markdown",
   "metadata": {
    "id": "UENTQsfuNKEn"
   },
   "source": [
    "# Figure 3"
   ]
  },
  {
   "cell_type": "code",
   "execution_count": null,
   "metadata": {},
   "outputs": [],
   "source": [
    "gcm_names=['MIROC_ESM','CanESM2','HadGEM_AO','GFDL_CM3']\n",
    "i = 1\n",
    "gcm_name=gcm_names[i]\n",
    "map_bounds=[65, 40, 100, 5]\n",
    "\n",
    "print('preparing plots for ' + gcm_name)\n"
   ]
  },
  {
   "cell_type": "markdown",
   "metadata": {
    "id": "amLp3GdOnFz2",
    "tags": []
   },
   "source": [
    "## Import data"
   ]
  },
  {
   "cell_type": "code",
   "execution_count": null,
   "metadata": {},
   "outputs": [],
   "source": [
    "output_figname = ''\n",
    "path_out_IMD = '/home/vikram/BCSD_data/India_P_BCSDd'+output_figname"
   ]
  },
  {
   "cell_type": "code",
   "execution_count": null,
   "metadata": {
    "id": "JA5_KsB6KZDV"
   },
   "outputs": [],
   "source": [
    "gcm_meta=np.load(path_out_IMD + '/bcsd_imd_metadata_'+gcm_name+'.npy',allow_pickle=True)\n",
    "Nyears_train = gcm_meta.item()['Nyears_train']\n",
    "\n",
    "\n",
    "imd_train=uu.correct_nan_inf_neg(np.load(path_out_IMD + '/data_obs_imd_train.npy'))\n",
    "imd_test=uu.correct_nan_inf_neg(np.load(path_out_IMD + '/data_obs_imd_pred.npy'))[365*Nyears_train:]\n",
    "\n",
    "\n",
    "gcm_train=uu.correct_nan_inf_neg(np.load(path_out_IMD + '/data_gcm_'+gcm_name+'_imd_train.npy'))\n",
    "gcm_test=uu.correct_nan_inf_neg(np.load(path_out_IMD + '/data_gcm_'+gcm_name+'_imd_pred.npy'))[365*Nyears_train:]\n",
    "\n",
    "out_id='pre_'+gcm_name \n",
    "\n",
    "bcsd_gcm_train=uu.correct_nan_inf_neg(np.load(path_out_IMD + '/BCSD_outputs_'+out_id+'.npy'))[:365*Nyears_train]\n",
    "bcsd_gcm_test=uu.correct_nan_inf_neg(np.load(path_out_IMD + '/BCSD_outputs_'+out_id+'.npy'))[365*Nyears_train:]\n",
    "\n",
    "st=gcm_meta.item()['st']\n",
    "en=gcm_meta.item()['en']\n",
    "\n",
    "lat_obs=gcm_meta.item()['lat_obs']\n",
    "lat_gcm_01=gcm_meta.item()['lat_gcm']\n",
    "lon_obs=gcm_meta.item()['lon_obs']\n",
    "lon_gcm_01=gcm_meta.item()['lon_gcm']\n",
    "mask=gcm_meta.item()['mask']\n",
    "\n",
    "\n",
    "N1=imd_test.shape[1]\n",
    "N2=imd_test.shape[2]\n",
    "\n",
    "\n",
    "j=0\n",
    "if output_figname == '_eqm':\n",
    "    out_id='pre_rnd_'+str(0)   \n",
    "else:\n",
    "    out_id='pre_rnd_new_'+str(10)   \n",
    "bcsd_rnd_train=uu.correct_nan_inf_neg((np.load(path_out_IMD + '/BCSD_outputs_'+out_id+'.npy')))[:365*Nyears_train]\n",
    "bcsd_rnd_test=uu.correct_nan_inf_neg((np.load(path_out_IMD + '/BCSD_outputs_'+out_id+'.npy')))[365*Nyears_train:]\n",
    "\n",
    "data_gf_train=np.zeros(imd_train.shape)\n",
    "data_gf_test=np.zeros(imd_test.shape)\n",
    "\n",
    "for i in range(gcm_train.shape[0]):\n",
    "  data_gf_train[i,:,:]=uu.regrid(gcm_train[i,:,:],lat_gcm_01,lon_gcm_01,lat_obs,lon_obs)\n",
    "  data_gf_test[i,:,:]=uu.regrid(gcm_test[i,:,:],lat_gcm_01,lon_gcm_01,lat_obs,lon_obs)\n",
    "  \n",
    "\n",
    "\n"
   ]
  },
  {
   "cell_type": "code",
   "execution_count": null,
   "metadata": {},
   "outputs": [],
   "source": [
    "def prints(*args):\n",
    "    for arg in args:\n",
    "        print(arg.shape)"
   ]
  },
  {
   "cell_type": "code",
   "execution_count": null,
   "metadata": {},
   "outputs": [],
   "source": [
    "prints(imd_train,imd_test,data_gf_train,data_gf_test,bcsd_gcm_train,bcsd_gcm_test,bcsd_rnd_train,bcsd_rnd_test)"
   ]
  },
  {
   "cell_type": "markdown",
   "metadata": {
    "tags": []
   },
   "source": [
    "## Checking imported data"
   ]
  },
  {
   "cell_type": "code",
   "execution_count": null,
   "metadata": {
    "colab": {
     "base_uri": "https://localhost:8080/",
     "height": 1000
    },
    "executionInfo": {
     "elapsed": 6779,
     "status": "ok",
     "timestamp": 1640361911817,
     "user": {
      "displayName": "Vikram Singh Chandel",
      "photoUrl": "https://lh3.googleusercontent.com/a/default-user=s64",
      "userId": "07964427013125611178"
     },
     "user_tz": -330
    },
    "id": "5h7M2tONt5kD",
    "outputId": "bf63b38c-28a6-4b2b-90c6-94d83612f545"
   },
   "outputs": [],
   "source": [
    "\n",
    "data_train = [imd_train,data_gf_train,bcsd_gcm_train,bcsd_rnd_train]\n",
    "data_test = [imd_test,data_gf_test,bcsd_gcm_test,bcsd_rnd_test]\n",
    "\n",
    "\n",
    "plt.figure(figsize=(10,10))\n",
    "for i in range(4):\n",
    "  plt.subplot(4,4,i+1)\n",
    "  plt.pcolor(data_train[i][250,:,:])\n",
    "  plt.colorbar()\n",
    "\n",
    "plt.figure(figsize=(20,10))\n",
    "for i in range(4):\n",
    "  plt.subplot(4,4,i+1)\n",
    "  plt.plot(data_train[i][:,7,7])\n",
    "    \n",
    "plt.figure(figsize=(10,10))\n",
    "for i in range(4):\n",
    "  plt.subplot(4,4,i+1)\n",
    "  plt.pcolor(data_test[i][250,:,:])\n",
    "  plt.colorbar()\n",
    "\n",
    "plt.figure(figsize=(20,10))\n",
    "for i in range(4):\n",
    "  plt.subplot(4,4,i+1)\n",
    "  plt.plot(data_test[i][:,7,7])\n",
    "\n"
   ]
  },
  {
   "cell_type": "markdown",
   "metadata": {
    "id": "lhg5IiygwncX",
    "tags": []
   },
   "source": [
    "## Compute indices"
   ]
  },
  {
   "cell_type": "code",
   "execution_count": null,
   "metadata": {},
   "outputs": [],
   "source": [
    "from tqdm import tqdm\n",
    "def check_for_nans_infs_zeros(data_sts):\n",
    "    print('Nans:',np.sum(np.isnan(data_sts)))\n",
    "    print('Infs:' ,np.sum(np.isinf(data_sts)))\n",
    "    print('Zeros:',np.sum((data_sts==0)))\n",
    "    \n",
    "    \n",
    "def spatial_ind(func,data_all,mask):\n",
    "  N=data_all[0].shape[0]\n",
    "  N1=data_all[0].shape[1]\n",
    "  N2=data_all[0].shape[2]\n",
    "  Nyears  =  int(N/365 )\n",
    "  D=len(data_all)\n",
    "  calc_index=np.zeros((D,N1,N2))\n",
    "  for d in tqdm(range(D)):\n",
    "        for i in range(N1):\n",
    "          for j in range(N2):\n",
    "            if mask[i,j] == 0:\n",
    "                calc_index[d,i,j]=np.nanmean(func(data_all[d][:,i,j],Nyears))\n",
    "  return calc_index\n",
    "\n",
    "def spatial_ind_var(func,data_all,mask):\n",
    "  N=data_all[0].shape[0]\n",
    "  N1=data_all[0].shape[1]\n",
    "  N2=data_all[0].shape[2]\n",
    "  Nyears  =  int(N/365 )\n",
    "  D=len(data_all)\n",
    "  calc_index=np.zeros((D,N1,N2))\n",
    "  for d in tqdm(range(D)):\n",
    "        for i in range(N1):\n",
    "          for j in range(N2):\n",
    "            if mask[i,j] == 0:\n",
    "                calc_index[d,i,j]=np.nanvar(func(data_all[d][:,i,j],Nyears))\n",
    "  return calc_index\n",
    "\n"
   ]
  },
  {
   "cell_type": "code",
   "execution_count": null,
   "metadata": {
    "colab": {
     "base_uri": "https://localhost:8080/",
     "height": 1000
    },
    "executionInfo": {
     "elapsed": 39130,
     "status": "ok",
     "timestamp": 1640361962905,
     "user": {
      "displayName": "Vikram Singh Chandel",
      "photoUrl": "https://lh3.googleusercontent.com/a/default-user=s64",
      "userId": "07964427013125611178"
     },
     "user_tz": -330
    },
    "id": "pTT9l-IPCbUb",
    "outputId": "39484fe3-818b-46b3-babe-5daa295a725b",
    "tags": []
   },
   "outputs": [],
   "source": [
    "## R50mm\n",
    "P_ann_train=spatial_ind(ii.sum_annualy,data_train,mask)\n",
    "P_ann_test=spatial_ind(ii.sum_annualy,data_test,mask)\n",
    "\n",
    "IAV_train=spatial_ind_var(ii.sum_annualy,data_train,mask)\n",
    "IAV_test=spatial_ind_var(ii.sum_annualy,data_test,mask)\n",
    "\n",
    "R50mmindic_train=spatial_ind(ii.R20mm_annualy,data_train,mask)\n",
    "R50mmindic_test=spatial_ind(ii.R20mm_annualy,data_test,mask)\n",
    "\n",
    "### Rx1day\n",
    "Rx1dayindic_train=spatial_ind(ii.Rx1day_annualy,data_train,mask)\n",
    "Rx1dayindic_test=spatial_ind(ii.Rx1day_annualy,data_test,mask)\n",
    "\n",
    "### CDD\n",
    "CDDindic_train=spatial_ind(ii.CDD_annualy,data_train,mask)\n",
    "CDDindic_test=spatial_ind(ii.CDD_annualy,data_test,mask)\n",
    "\n",
    "## R99p\n",
    "R99pindic_train=spatial_ind(ii.R99p_annualy,data_train,mask)\n",
    "R99pindic_test=spatial_ind(ii.R99p_annualy,data_test,mask)\n"
   ]
  },
  {
   "cell_type": "markdown",
   "metadata": {
    "id": "3WZKWymZDCrS"
   },
   "source": [
    "## Figure 3"
   ]
  },
  {
   "cell_type": "code",
   "execution_count": null,
   "metadata": {
    "id": "6QgtF24qDFO6"
   },
   "outputs": [],
   "source": [
    "def map_plot_cyl_final(data_lat_x_lon,lat_cen,lon_cen,map_bounds,clab,cmap,y_limit,ax,mp_spacing=10,subplot_iter=1,loff=1,coff=1,ex='both'):\n",
    "\n",
    "  lat_box=uu.cen_to_box(lat_cen)\n",
    "  lon_box=uu.cen_to_box(lon_cen)\n",
    "\n",
    "  map = Basemap(projection='cyl',resolution='l',\n",
    "                llcrnrlon=map_bounds[0], \n",
    "                urcrnrlat=map_bounds[1],\n",
    "                urcrnrlon=map_bounds[2],  llcrnrlat=map_bounds[3])\n",
    "\n",
    "\n",
    "  xx, yy = meshgrid(lon_box,lat_box )\n",
    "  #return  dimenion of lat * lon\n",
    "  map.pcolor(xx, yy, data_lat_x_lon,cmap=cmap)\n",
    "  map.drawmeridians(np.arange(-180,180,mp_spacing),labels=[0,0,0,1], linewidth=1.0) #longitudes\n",
    "  if loff==0:\n",
    "    map.drawparallels(np.arange(-90,90,mp_spacing),labels=[1,0,0,0], linewidth=1.0) #latitudes\n",
    "  else:\n",
    "    map.drawparallels(np.arange(-90,90,mp_spacing),labels=[0,0,0,0], linewidth=1.0) #latitudes\n",
    "  cbar = map.colorbar(extend=ex)\n",
    "  #cbar.ax.set_yticklabels(['0','1','2','>3'])\n",
    "  cbar.set_label(clab, rotation=90)\n",
    "  plt.clim(y_limit)\n",
    "\n",
    "  if coff==1:\n",
    "    cbar.remove()\n",
    "\n",
    "  #map.drawcountries(linewidth=1)\n",
    "  map.readshapefile('/home/vikram/BCSD_Shapefiles/ind', 'IND', linewidth=1.0)\n",
    "\n",
    "  map.drawcoastlines(linewidth=1)\n",
    "  lxx=0.02\n",
    "  lyy=0.98\n",
    "  lcol='k'\n",
    "  lsize=24\n",
    "  lfamily='Tahoma'\n",
    "  lweight=800\n",
    "  plt.text(lxx, lyy, chr(subplot_iter+96), horizontalalignment='left',verticalalignment='top', transform=ax.transAxes,fontweight=lweight,\n",
    "           fontfamily=lfamily,fontsize=lsize,color=lcol)"
   ]
  },
  {
   "cell_type": "markdown",
   "metadata": {
    "tags": []
   },
   "source": [
    "## Training data"
   ]
  },
  {
   "cell_type": "code",
   "execution_count": null,
   "metadata": {},
   "outputs": [],
   "source": [
    "dapa=[\n",
    "  P_ann_train[0,:,:],\n",
    "  P_ann_train[1,:,:],\n",
    "  P_ann_train[2,:,:],\n",
    "  P_ann_train[3,:,:],\n",
    "  IAV_train[0,:,:]/10000,\n",
    "  IAV_train[1,:,:]/10000,\n",
    "  IAV_train[2,:,:]/10000,\n",
    "  IAV_train[3,:,:]/10000,\n",
    " ]\n",
    "\n",
    "y_limits=[[0,2000],\n",
    "          [0,20],]\n",
    "\n",
    "labels=['mm','x 10000 mm2']\n",
    "lofff=[0,1,1,1,0,1,1,1,0,1,1,1,0,1,1,1,0,1,1,1]\n",
    "cofff=[1,1,1,0,1,1,1,0,1,1,1,0,1,1,1,0,1,1,1,0]\n",
    "\n",
    "titlesx=['Observation','Raw '+gcm_name,'BCSD '+gcm_name,'BCSD Random']\n",
    "titlesy=['P_ann','IAV']\n",
    "\n",
    "cmaps=['BrBG','BrBG',]\n",
    "# cmaps=['YlGnBu','YlGnBu','YlGnBu','YlGnBu','YlGnBu']\n",
    "# cmaps=['jet','jet','YlOrRd','jet','YlOrRd']\n",
    "#cmaps=['autumn','spring','summer','winter','jet']\n",
    "\n",
    "ex='max'\n",
    "\n",
    "fig=plt.figure(figsize=(16,8))\n",
    "for rr in range(2):\n",
    "  for cc in range(4):\n",
    "    iter=rr*4+cc\n",
    "    ax=plt.subplot(2,4,iter+1)\n",
    "    \n",
    "    if rr<=3:\n",
    "      map_plot_cyl_final(ma.masked_array(dapa[iter], mask=mask),lat_obs,lon_obs,map_bounds,labels[rr],cmaps[rr],y_limits[rr],ax,mp_spacing=10,subplot_iter=iter+1,loff=lofff[iter],coff=cofff[iter],ex=ex)\n",
    "    else:\n",
    "      map_plot_cyl_final(ma.masked_array(dapa[iter], mask=mask2),lat_obs_ncar,lon_obs_ncar,map_bounds,labels[rr],cmaps[rr],y_limits[rr],ax,mp_spacing=10,subplot_iter=iter+1,loff=lofff[iter],coff=cofff[iter],ex=ex)\n",
    "    \n",
    "    plt.title(titlesx[cc])\n",
    "\n",
    "\n",
    "fig.text(0.08, 0.82, titlesy[0], va='center', ha='center', rotation='vertical', fontsize=16)\n",
    "fig.text(0.08, 0.65, titlesy[1], va='center', ha='center', rotation='vertical', fontsize=16)\n",
    "\n",
    "\n",
    "\n",
    "\n",
    "plt.savefig('./normal_hist/MEAN_IAV_'+gcm_name+output_figname+'_train.svg')\n",
    "plt.savefig('./normal_hist/MEAN_IAV_'+gcm_name+output_figname+'_train.png',facecolor = 'w')\n"
   ]
  },
  {
   "cell_type": "code",
   "execution_count": null,
   "metadata": {
    "colab": {
     "base_uri": "https://localhost:8080/",
     "height": 1000
    },
    "executionInfo": {
     "elapsed": 20356,
     "status": "ok",
     "timestamp": 1640364574440,
     "user": {
      "displayName": "Vikram Singh Chandel",
      "photoUrl": "https://lh3.googleusercontent.com/a/default-user=s64",
      "userId": "07964427013125611178"
     },
     "user_tz": -330
    },
    "id": "WCRpDk7qDFO7",
    "outputId": "54f829b4-29be-445b-8a1b-a67cbb2dcce5"
   },
   "outputs": [],
   "source": [
    "dapa=[\n",
    "  CDDindic_train[0,:,:],\n",
    "  CDDindic_train[1,:,:],\n",
    "  CDDindic_train[2,:,:],\n",
    "  CDDindic_train[3,:,:],\n",
    "  Rx1dayindic_train[0,:,:],\n",
    "  Rx1dayindic_train[1,:,:],\n",
    "  Rx1dayindic_train[2,:,:],\n",
    "  Rx1dayindic_train[3,:,:],\n",
    "  R50mmindic_train[0,:,:],\n",
    "  R50mmindic_train[1,:,:],\n",
    "  R50mmindic_train[2,:,:],\n",
    "  R50mmindic_train[3,:,:],\n",
    "  R99pindic_train[0,:,:],\n",
    "  R99pindic_train[1,:,:],\n",
    "  R99pindic_train[2,:,:],\n",
    "  R99pindic_train[3,:,:],\n",
    " ]\n",
    "\n",
    "y_limits=[[0,200],\n",
    "          [0,200],\n",
    "          [0,50],\n",
    "          [0,200],\n",
    "          [0,200]]\n",
    "\n",
    "labels=['# of days','mm','# of days','mm','# of days']\n",
    "lofff=[0,1,1,1,0,1,1,1,0,1,1,1,0,1,1,1,0,1,1,1]\n",
    "cofff=[1,1,1,0,1,1,1,0,1,1,1,0,1,1,1,0,1,1,1,0]\n",
    "\n",
    "titlesx=['Observation','Raw '+gcm_name,'BCSD '+gcm_name,'BCSD Random']\n",
    "titlesy=['CDD','Rx1day','R20mm','R99p','HI32']\n",
    "cmaps=['YlOrRd','YlOrRd','YlOrRd','YlOrRd','YlOrRd']\n",
    "# cmaps=['YlGnBu','YlGnBu','YlGnBu','YlGnBu','YlGnBu']\n",
    "# cmaps=['jet','jet','YlOrRd','jet','YlOrRd']\n",
    "#cmaps=['autumn','spring','summer','winter','jet']\n",
    "\n",
    "ex='max'\n",
    "\n",
    "fig=plt.figure(figsize=(16,20))\n",
    "for rr in range(4):\n",
    "  for cc in range(4):\n",
    "    iter=rr*4+cc\n",
    "    ax=plt.subplot(5,4,iter+1)\n",
    "    \n",
    "    if rr<=3:\n",
    "      map_plot_cyl_final(ma.masked_array(dapa[iter], mask=mask),lat_obs,lon_obs,map_bounds,labels[rr],cmaps[rr],y_limits[rr],ax,mp_spacing=10,subplot_iter=iter+1,loff=lofff[iter],coff=cofff[iter],ex=ex)\n",
    "    else:\n",
    "      map_plot_cyl_final(ma.masked_array(dapa[iter], mask=mask2),lat_obs_ncar,lon_obs_ncar,map_bounds,labels[rr],cmaps[rr],y_limits[rr],ax,mp_spacing=10,subplot_iter=iter+1,loff=lofff[iter],coff=cofff[iter],ex=ex)\n",
    "    \n",
    "    plt.title(titlesx[cc])\n",
    "\n",
    "\n",
    "fig.text(0.08, 0.82, titlesy[0], va='center', ha='center', rotation='vertical', fontsize=16)\n",
    "fig.text(0.08, 0.65, titlesy[1], va='center', ha='center', rotation='vertical', fontsize=16)\n",
    "fig.text(0.08, 0.5, titlesy[2], va='center', ha='center', rotation='vertical', fontsize=16)\n",
    "fig.text(0.08, 0.35, titlesy[3], va='center', ha='center', rotation='vertical', fontsize=16)\n",
    "# fig.text(0.08, 0.2, titlesy[4], va='center', ha='center', rotation='vertical', fontsize=16)\n",
    "\n",
    "# plt.savefig('./Figures/Figure3/temps/extended_'+gcm_name+output_figname+'_train.svg')\n",
    "# plt.savefig('./Figures/Figure3/temps/extended_'+gcm_name+output_figname+'_train.jpg',dpi=150)\n",
    "            \n",
    "            \n",
    "# plt.savefig('/home/vikram/Dropbox/BCSD Work/03_Figures/Figure_new_auroop/Figure2/extended_'+gcm_name+output_figname+'_train.svg')\n",
    "\n",
    "plt.savefig('./normal_hist/Extremes_'+gcm_name+output_figname+'_train.svg')\n",
    "plt.savefig('./normal_hist/Extremes_'+gcm_name+output_figname+'_train.png',facecolor = 'w')\n",
    "\n",
    "\n"
   ]
  },
  {
   "cell_type": "markdown",
   "metadata": {},
   "source": [
    "## Testing Data"
   ]
  },
  {
   "cell_type": "code",
   "execution_count": null,
   "metadata": {},
   "outputs": [],
   "source": [
    "dapa=[\n",
    "  P_ann_test[0,:,:],\n",
    "  P_ann_test[1,:,:],\n",
    "  P_ann_test[2,:,:],\n",
    "  P_ann_test[3,:,:],\n",
    "  IAV_test[0,:,:]/10000,\n",
    "  IAV_test[1,:,:]/10000,\n",
    "  IAV_test[2,:,:]/10000,\n",
    "  IAV_test[3,:,:]/10000,\n",
    " ]\n",
    "\n",
    "y_limits=[[0,2000],\n",
    "          [0,20],]\n",
    "\n",
    "labels=['mm','x 10000 mm2']\n",
    "lofff=[0,1,1,1,0,1,1,1,0,1,1,1,0,1,1,1,0,1,1,1]\n",
    "cofff=[1,1,1,0,1,1,1,0,1,1,1,0,1,1,1,0,1,1,1,0]\n",
    "\n",
    "titlesx=['Observation','Raw '+gcm_name,'BCSD '+gcm_name,'BCSD Random']\n",
    "titlesy=['P_ann','IAV']\n",
    "\n",
    "cmaps=['BrBG','BrBG',]\n",
    "cmaps=['YlGnBu','YlGnBu']#,'YlGnBu','YlGnBu','YlGnBu']\n",
    "# cmaps=['jet','jet','YlOrRd','jet','YlOrRd']\n",
    "#cmaps=['autumn','spring','summer','winter','jet']\n",
    "\n",
    "ex='max'\n",
    "\n",
    "fig=plt.figure(figsize=(16,8))\n",
    "for rr in range(2):\n",
    "  for cc in range(4):\n",
    "    iter=rr*4+cc\n",
    "    ax=plt.subplot(2,4,iter+1)\n",
    "    \n",
    "    if rr<=3:\n",
    "      map_plot_cyl_final(ma.masked_array(dapa[iter], mask=mask),lat_obs,lon_obs,map_bounds,labels[rr],cmaps[rr],y_limits[rr],ax,mp_spacing=10,subplot_iter=iter+1,loff=lofff[iter],coff=cofff[iter],ex=ex)\n",
    "    else:\n",
    "      map_plot_cyl_final(ma.masked_array(dapa[iter], mask=mask2),lat_obs_ncar,lon_obs_ncar,map_bounds,labels[rr],cmaps[rr],y_limits[rr],ax,mp_spacing=10,subplot_iter=iter+1,loff=lofff[iter],coff=cofff[iter],ex=ex)\n",
    "    \n",
    "    plt.title(titlesx[cc])\n",
    "\n",
    "\n",
    "fig.text(0.08, 0.82, titlesy[0], va='center', ha='center', rotation='vertical', fontsize=16)\n",
    "fig.text(0.08, 0.65, titlesy[1], va='center', ha='center', rotation='vertical', fontsize=16)\n",
    "\n",
    "\n",
    "plt.savefig('./normal_hist/MEAN_IAV_'+gcm_name+output_figname+'_test.svg')\n",
    "plt.savefig('./normal_hist/MEAN_IAV_'+gcm_name+output_figname+'_test.png',facecolor = 'w')\n",
    "\n"
   ]
  },
  {
   "cell_type": "code",
   "execution_count": null,
   "metadata": {
    "colab": {
     "base_uri": "https://localhost:8080/",
     "height": 1000
    },
    "executionInfo": {
     "elapsed": 20356,
     "status": "ok",
     "timestamp": 1640364574440,
     "user": {
      "displayName": "Vikram Singh Chandel",
      "photoUrl": "https://lh3.googleusercontent.com/a/default-user=s64",
      "userId": "07964427013125611178"
     },
     "user_tz": -330
    },
    "id": "WCRpDk7qDFO7",
    "outputId": "54f829b4-29be-445b-8a1b-a67cbb2dcce5"
   },
   "outputs": [],
   "source": [
    "dapa=[\n",
    "  CDDindic_test[0,:,:],\n",
    "  CDDindic_test[1,:,:],\n",
    "  CDDindic_test[2,:,:],\n",
    "  CDDindic_test[3,:,:],\n",
    "  Rx1dayindic_test[0,:,:],\n",
    "  Rx1dayindic_test[1,:,:],\n",
    "  Rx1dayindic_test[2,:,:],\n",
    "  Rx1dayindic_test[3,:,:],\n",
    "  R50mmindic_test[0,:,:],\n",
    "  R50mmindic_test[1,:,:],\n",
    "  R50mmindic_test[2,:,:],\n",
    "  R50mmindic_test[3,:,:],\n",
    "  R99pindic_test[0,:,:],\n",
    "  R99pindic_test[1,:,:],\n",
    "  R99pindic_test[2,:,:],\n",
    "  R99pindic_test[3,:,:],\n",
    " ]\n",
    "\n",
    "\n",
    "y_limits=[[0,200],\n",
    "          [0,200],\n",
    "          [0,50],\n",
    "          [0,200],\n",
    "          [0,200]]\n",
    "\n",
    "labels=['# of days','mm','# of days','mm','# of days']\n",
    "lofff=[0,1,1,1,0,1,1,1,0,1,1,1,0,1,1,1,0,1,1,1]\n",
    "cofff=[1,1,1,0,1,1,1,0,1,1,1,0,1,1,1,0,1,1,1,0]\n",
    "\n",
    "titlesx=['Observation','Raw '+gcm_name,'BCSD '+gcm_name,'BCSD Random']\n",
    "titlesy=['CDD','Rx1day','R20mm','R99p','HI32']\n",
    "cmaps=['YlOrRd','YlOrRd','YlOrRd','YlOrRd','YlOrRd']\n",
    "# cmaps=['YlGnBu','YlGnBu','YlGnBu','YlGnBu','YlGnBu']\n",
    "# cmaps=['jet','jet','YlOrRd','jet','YlOrRd']\n",
    "#cmaps=['autumn','spring','summer','winter','jet']\n",
    "ex='max'\n",
    "\n",
    "fig=plt.figure(figsize=(16,20))\n",
    "for rr in range(4):\n",
    "  for cc in range(4):\n",
    "    iter=rr*4+cc\n",
    "    ax=plt.subplot(5,4,iter+1)\n",
    "    \n",
    "    if rr<=3:\n",
    "      map_plot_cyl_final(ma.masked_array(dapa[iter], mask=mask),lat_obs,lon_obs,map_bounds,labels[rr],cmaps[rr],y_limits[rr],ax,mp_spacing=10,subplot_iter=iter+1,loff=lofff[iter],coff=cofff[iter],ex=ex)\n",
    "    else:\n",
    "      map_plot_cyl_final(ma.masked_array(dapa[iter], mask=mask2),lat_obs_ncar,lon_obs_ncar,map_bounds,labels[rr],cmaps[rr],y_limits[rr],ax,mp_spacing=10,subplot_iter=iter+1,loff=lofff[iter],coff=cofff[iter],ex=ex)\n",
    "    \n",
    "    plt.title(titlesx[cc])\n",
    "\n",
    "\n",
    "fig.text(0.08, 0.82, titlesy[0], va='center', ha='center', rotation='vertical', fontsize=16)\n",
    "fig.text(0.08, 0.65, titlesy[1], va='center', ha='center', rotation='vertical', fontsize=16)\n",
    "fig.text(0.08, 0.5, titlesy[2], va='center', ha='center', rotation='vertical', fontsize=16)\n",
    "fig.text(0.08, 0.35, titlesy[3], va='center', ha='center', rotation='vertical', fontsize=16)\n",
    "# fig.text(0.08, 0.2, titlesy[4], va='center', ha='center', rotation='vertical', fontsize=16)\n",
    "\n",
    "# plt.savefig('./Figures/Figure3/temps/extended_'+gcm_name+output_figname+'_test.svg',facecolor='w')\n",
    "# plt.savefig('./Figures/Figure3/temps/extended_'+gcm_name+output_figname+'_test.jpg',dpi=150)\n",
    "\n",
    "\n",
    "# plt.savefig('/home/vikram/Dropbox/BCSD Work/03_Figures/Figure_new_auroop/Figure2/extended_'+gcm_name+output_figname+'_test.svg')\n",
    "\n",
    "\n",
    "plt.savefig('./normal_hist/Extremes_'+gcm_name+output_figname+'_test.svg')\n",
    "plt.savefig('./normal_hist/Extremes_'+gcm_name+output_figname+'_test.png',facecolor = 'w')\n",
    "\n",
    "\n",
    "\n",
    "\n"
   ]
  },
  {
   "cell_type": "markdown",
   "metadata": {
    "tags": []
   },
   "source": [
    "# S scores"
   ]
  },
  {
   "cell_type": "markdown",
   "metadata": {},
   "source": [
    "def S_score_2D(data_ref, data_model,mask_inf):\n",
    "    # mask is true for exterior values\n",
    "    data_1 = data_ref\n",
    "    data_2 = data_model \n",
    "    ind_1 = np.isnan(data_1)\n",
    "    ind_2 = np.isnan(data_2)\n",
    "    data_1[ind_2] = np.nan\n",
    "    data_2[ind_1] = np.nan\n",
    "    data_1[mask_inf == True] = np.nan\n",
    "    data_2[mask_inf == True] = np.nan\n",
    "\n",
    "    data_1 = data_1.flatten()\n",
    "    data_2 = data_2.flatten()\n",
    "    \n",
    "    data_1 =  np.delete(data_1,np.isnan(data_1))\n",
    "    data_2 =  np.delete(data_2,np.isnan(data_2))\n",
    "    R = np.corrcoef(data_1,data_2)[0,1]\n",
    "\n",
    "    SDR = np.std(data_2)/np.std(data_1)\n",
    "\n",
    "    S_score = (1+R)**4  / ( 4 * (SDR + 1 / SDR)**2 )\n",
    "    \n",
    "    \n",
    "    return S_score"
   ]
  },
  {
   "cell_type": "markdown",
   "metadata": {},
   "source": [
    "D=4\n",
    "N_index= 4\n",
    "S_score_matrix = np.zeros((N_index,D))\n",
    "for itr,index in enumerate([CDDindic_train,Rx1dayindic_train,R50mmindic_train,R99pindic_train]):\n",
    "    for d in range(D):\n",
    "        S_score_matrix[itr,d] = (S_score_2D(index[0,:,:],index[d,:,:],mask))\n",
    "        \n",
    "        \n",
    "        \n",
    "h=sns.heatmap(S_score_matrix , linewidth = 2 , cmap = 'Reds', \n",
    "          annot=True,\n",
    "          fmt=\".2f\", square=True,\n",
    "          xticklabels=['O','G','B','R'],\n",
    "          yticklabels=['CDD','Rx1day','R50mm','R99p'],vmin=0,vmax=1,\n",
    "             \n",
    "          cbar_kws={'label': 'S score','extend':None},cbar = True)\n",
    "plt.savefig('./Figures/Figure3/temps/Score_extended_'+gcm_name+output_figname+'_train.svg')\n",
    "plt.savefig('./Figures/Figure3/temps/Score_extended_'+gcm_name+output_figname+'_train.jpg',dpi=150)\n",
    "\n",
    "plt.savefig('/home/vikram/Dropbox/BCSD Work/03_Figures/Figure_new_auroop/Figure2/Score_extended_'+gcm_name+output_figname+'_train.svg')\n",
    "\n",
    "plt.figure()\n",
    "D=4\n",
    "N_index= 4\n",
    "S_score_matrix = np.zeros((N_index,D))\n",
    "for itr,index in enumerate([CDDindic_test,Rx1dayindic_test,R50mmindic_test,R99pindic_test]):\n",
    "    for d in range(D):\n",
    "        S_score_matrix[itr,d] = (S_score_2D(index[0,:,:],index[d,:,:],mask))\n",
    "        \n",
    "        \n",
    "        \n",
    "h=sns.heatmap(S_score_matrix , linewidth = 2 , cmap = 'Reds', \n",
    "          annot=True,\n",
    "          fmt=\".2f\", square=True,\n",
    "          xticklabels=['O','G','B','R'],\n",
    "          yticklabels=['CDD','Rx1day','R50mm','R99p'],vmin=0,vmax=1,\n",
    "             \n",
    "          cbar_kws={'label': 'S score','extend':None},cbar = True)\n",
    "plt.savefig('./Figures/Figure3/temps/Score_extended_'+gcm_name+output_figname+'_test.svg')\n",
    "plt.savefig('./Figures/Figure3/temps/Score_extended_'+gcm_name+output_figname+'_test.jpg',dpi=150)\n",
    "plt.savefig('/home/vikram/Dropbox/BCSD Work/03_Figures/Figure_new_auroop/Figure2/Score_extended_'+gcm_name+output_figname+'_test.svg')\n",
    "\n"
   ]
  },
  {
   "cell_type": "code",
   "execution_count": null,
   "metadata": {},
   "outputs": [],
   "source": []
  },
  {
   "cell_type": "code",
   "execution_count": null,
   "metadata": {},
   "outputs": [],
   "source": []
  }
 ],
 "metadata": {
  "colab": {
   "authorship_tag": "ABX9TyPawuAkg8Z02o09yH2IQNlU",
   "collapsed_sections": [
    "dU2nvEm8MCa5",
    "2NG2USEmDeTg",
    "KjsqWLFr1upl",
    "D_Y5XbZnmhZC",
    "Xg4zONeqnmO9",
    "d0VsKMDYFrxL"
   ],
   "mount_file_id": "1VlyiGYmEpVqrnjayEPjJp7X8EHjpPLMR",
   "name": "Figure 2 AND Figure 3.ipynb",
   "provenance": [
    {
     "file_id": "1R87Z8gZrwK8rXFmacCSUg_UYk7GAmdp3",
     "timestamp": 1625652572820
    }
   ]
  },
  "kernelspec": {
   "display_name": "Python 3 (ipykernel)",
   "language": "python",
   "name": "python3"
  },
  "language_info": {
   "codemirror_mode": {
    "name": "ipython",
    "version": 3
   },
   "file_extension": ".py",
   "mimetype": "text/x-python",
   "name": "python",
   "nbconvert_exporter": "python",
   "pygments_lexer": "ipython3",
   "version": "3.9.12"
  }
 },
 "nbformat": 4,
 "nbformat_minor": 4
}
