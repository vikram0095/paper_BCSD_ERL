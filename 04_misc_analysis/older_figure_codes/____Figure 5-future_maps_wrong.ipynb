{
 "cells": [
  {
   "cell_type": "code",
   "execution_count": null,
   "metadata": {
    "executionInfo": {
     "elapsed": 13,
     "status": "ok",
     "timestamp": 1640712864400,
     "user": {
      "displayName": "Vikram Singh Chandel",
      "photoUrl": "https://lh3.googleusercontent.com/a/default-user=s64",
      "userId": "07964427013125611178"
     },
     "user_tz": -330
    },
    "id": "fKd-tcXtK_Tj"
   },
   "outputs": [],
   "source": [
    "import utility_module_2_v_3 as uu\n",
    "import numpy as np\n",
    "import matplotlib.pyplot as plt\n",
    "import pandas as pd\n",
    "import numpy.ma as ma\n",
    "from numpy import meshgrid\n",
    "from mpl_toolkits.basemap import Basemap\n",
    "from tqdm import tqdm\n",
    "\n",
    "import geopandas as gpd\n",
    "from shapely.geometry  import Point\n",
    "from shapely.geometry import shape\n",
    "import seaborn as sns\n"
   ]
  },
  {
   "cell_type": "code",
   "execution_count": null,
   "metadata": {},
   "outputs": [],
   "source": [
    "\n",
    "output_figname = ''\n",
    "\n",
    "path_out_P = '/home/vikram/BCSD_data/' + 'US_P_BCSD'+output_figname+'/'\n",
    "path_out_T = '/home/vikram/BCSD_data/' + 'US_T_BCSD'+output_figname+'/'\n"
   ]
  },
  {
   "cell_type": "markdown",
   "metadata": {
    "id": "pWMY5hi98Ief",
    "tags": []
   },
   "source": [
    "# init"
   ]
  },
  {
   "cell_type": "code",
   "execution_count": null,
   "metadata": {},
   "outputs": [],
   "source": [
    "gcm_names=['MIROC_ESM','CanESM2','HadGEM_AO','GFDL_CM3']\n",
    "gcm_name  =  gcm_names[1]"
   ]
  },
  {
   "cell_type": "markdown",
   "metadata": {
    "id": "amLp3GdOnFz2",
    "tags": []
   },
   "source": [
    "# Import data"
   ]
  },
  {
   "cell_type": "code",
   "execution_count": null,
   "metadata": {
    "id": "QYtB5Im03wFO"
   },
   "outputs": [],
   "source": [
    "\n",
    "\n",
    "metadata=np.load(path_out_P+ '/pre_metadata'+gcm_name+'.npy', allow_pickle=True)\n",
    "st=metadata.item()['st']\n",
    "en=metadata.item()['en']\n",
    "mask_fine_obs=metadata.item()['mask']\n",
    "\n",
    "lat_obs=metadata.item()['lat_obs']\n",
    "lon_obs=metadata.item()['lon_obs']\n",
    "lat_gcm_0=metadata.item()['lat_gcm']\n",
    "lon_gcm_0=metadata.item()['lon_gcm']\n",
    "\n",
    "tas_obs=np.load(path_out_T+ '/tas_obs.npy')\n",
    "\n",
    "tas_data_all=np.empty([4,tas_obs.shape[0],tas_obs.shape[1],tas_obs.shape[2]])\n",
    "\n",
    "tas_data_all[0]=tas_obs\n",
    "\n",
    "\n",
    "tas_gcm=np.load(path_out_T+ '/tas_gcm_future_'+gcm_name+'.npy')\n",
    "\n",
    "metadata=np.load(path_out_P+ '/pre_metadata'+gcm_name+'.npy', allow_pickle=True)\n",
    "lat_gcm=metadata.item()['lat_gcm']\n",
    "lon_gcm=metadata.item()['lon_gcm']\n",
    "\n",
    "tas_gcm_fine=np.zeros((tas_gcm.shape[0],tas_obs.shape[1],tas_obs.shape[2]))\n",
    "for i in range(tas_gcm.shape[0]):\n",
    "    tas_gcm_fine[i,:,:]=uu.regrid(tas_gcm[i,:,:],lat_gcm,lon_gcm,lat_obs,lon_obs)\n",
    "\n",
    "tas_data_all[1]        = np.concatenate((tas_gcm_fine  , np.nan * np.zeros((120 ,tas_obs.shape[1],tas_obs.shape[2]))),axis = 0)\n",
    "tas_data_all[2] = np.concatenate((np.load(path_out_T+ '/future_BCSD_outputs_tas_'+gcm_name+'_cru.npy')  ,\n",
    "                                               np.nan * np.zeros((120 ,tas_obs.shape[1],tas_obs.shape[2]))),axis = 0)\n",
    "\n",
    "\n",
    "        \n",
    "        \n",
    "\n",
    "pre_obs=np.load(path_out_P+ '/pre_obs.npy')\n",
    "pre_data_all=np.empty([4,pre_obs.shape[0],pre_obs.shape[1],pre_obs.shape[2]])\n",
    "\n",
    "pre_data_all[0]=pre_obs\n",
    "\n",
    "\n",
    "pre_gcm=np.load(path_out_P+ '/pre_gcm_future_'+gcm_name+'.npy')\n",
    "\n",
    "metadata=np.load(path_out_P+ '/pre_metadata'+gcm_name+'.npy', allow_pickle=True)\n",
    "\n",
    "lat_gcm=metadata.item()['lat_gcm']\n",
    "lon_gcm=metadata.item()['lon_gcm']\n",
    "\n",
    "pre_gcm_fine=np.zeros((pre_gcm.shape[0],pre_obs.shape[1],pre_obs.shape[2]))\n",
    "\n",
    "for i in range(pre_gcm.shape[0]):\n",
    "    pre_gcm_fine[i,:,:]=uu.regrid(pre_gcm[i,:,:],lat_gcm,lon_gcm,lat_obs,lon_obs)\n",
    "\n",
    "pre_data_all[1]= np.concatenate((pre_gcm_fine  , np.nan * np.zeros((120 ,pre_obs.shape[1],pre_obs.shape[2]))),axis = 0)\n",
    "pre_data_all[2]= np.concatenate((np.load(path_out_P+ '/future_BCSD_outputs_pre_'+gcm_name+'_cru.npy')  ,\n",
    "                                                np.nan * np.zeros((120 ,pre_obs.shape[1],pre_obs.shape[2]))),axis = 0)\n",
    "\n",
    "\n",
    "        \n",
    "\n"
   ]
  },
  {
   "cell_type": "code",
   "execution_count": null,
   "metadata": {},
   "outputs": [],
   "source": [
    "obs_data = np.reshape(tas_data_all[0],(12,-1,52,112), order = 'F')\n",
    "esm_data = np.reshape(tas_data_all[1],(12,-1,52,112), order = 'F')\n",
    "var_obs =np.std(obs_data,axis=1)[:,np.newaxis,:,:]\n",
    "mean_obs = np.mean(obs_data,axis=1)[:,np.newaxis,:,:]\n",
    "var_esm =np.std(esm_data,axis=1)[:,np.newaxis,:,:]\n",
    "mean_esm =  np.mean(esm_data,axis=1)[:,np.newaxis,:,:]\n",
    "tas_data_all[3]   =  ((esm_data  -mean_esm)/var_esm  * var_obs  +  mean_obs).reshape((-1,52,112), order = 'F')\n",
    "\n",
    "\n",
    "obs_data = np.reshape(pre_data_all[0],(12,-1,52,112), order = 'F')\n",
    "esm_data = np.reshape(pre_data_all[1],(12,-1,52,112), order = 'F')\n",
    "\n",
    "var_obs =np.std(obs_data,axis=1)[:,np.newaxis,:,:]\n",
    "mean_obs = np.mean(obs_data,axis=1)[:,np.newaxis,:,:]\n",
    "var_esm =np.std(esm_data,axis=1)[:,np.newaxis,:,:]\n",
    "mean_esm =  np.mean(esm_data,axis=1)[:,np.newaxis,:,:]\n",
    "\n",
    "pre_data_all[3]   =  ((esm_data  -mean_esm)/var_esm  * var_obs  +  mean_obs).reshape((-1,52,112), order = 'F')\n",
    "\n",
    "\n",
    "\n"
   ]
  },
  {
   "cell_type": "code",
   "execution_count": null,
   "metadata": {},
   "outputs": [],
   "source": []
  },
  {
   "cell_type": "code",
   "execution_count": null,
   "metadata": {
    "id": "SpQooYFTZTiw"
   },
   "outputs": [],
   "source": [
    "pre_6_monthly=np.empty([pre_data_all.shape[0],pre_data_all.shape[1]-5,pre_data_all.shape[2],pre_data_all.shape[3]])\n",
    "\n",
    "for i in range(pre_data_all.shape[0]):\n",
    "  pre_6_monthly[i,:,:,:]=(pre_data_all[i,0:-5,:,:]+\n",
    "                          pre_data_all[i,1:-4,:,:]+\n",
    "                          pre_data_all[i,2:-3,:,:]+\n",
    "                          pre_data_all[i,3:-2,:,:]+\n",
    "                          pre_data_all[i,4:-1,:,:]+\n",
    "                          pre_data_all[i,5:,:,:])/6\n"
   ]
  },
  {
   "cell_type": "markdown",
   "metadata": {
    "id": "dNtLllLa6FKH"
   },
   "source": [
    "# SPI"
   ]
  },
  {
   "cell_type": "code",
   "execution_count": null,
   "metadata": {
    "id": "9Z0ixD4843wd"
   },
   "outputs": [],
   "source": [
    "import scipy.stats\n",
    "\n",
    "def calc_spi_nonparam(data):\n",
    "  N=data.shape[0]\n",
    "  index_ts=np.arange(N)  \n",
    "\n",
    "  data_non_zeros=(data[data>0])\n",
    "  index_non_zeros=index_ts[data>0]\n",
    "  N_non_zeros=len(data_non_zeros)\n",
    "  index_sorted=  np.argsort(data_non_zeros)\n",
    "  ranks = np.empty_like(index_sorted)\n",
    "  ranks[index_sorted] = np.arange(N_non_zeros)\n",
    "\n",
    "  p_gringorten=(ranks-0.44)/(N_non_zeros+0.12)\n",
    "  p_g_all=np.zeros_like(data)\n",
    "  p_g_all[data>0]=p_gringorten\n",
    "\n",
    "\n",
    "  count_zeros=(data[data==0].shape[0])\n",
    "  count_total=(data.shape[0])\n",
    "  p_zeros=count_zeros/count_total\n",
    "\n",
    "  cdf2 = p_zeros + (1 - p_zeros) * p_g_all\n",
    "  SPI= scipy.stats.norm.ppf(cdf2)\n",
    "  return SPI\n",
    "\n"
   ]
  },
  {
   "cell_type": "code",
   "execution_count": null,
   "metadata": {
    "colab": {
     "base_uri": "https://localhost:8080/"
    },
    "executionInfo": {
     "elapsed": 40074,
     "status": "ok",
     "timestamp": 1640352947267,
     "user": {
      "displayName": "Vikram Singh Chandel",
      "photoUrl": "https://lh3.googleusercontent.com/a/default-user=s64",
      "userId": "07964427013125611178"
     },
     "user_tz": -330
    },
    "id": "h0gVbC6Sr6xQ",
    "outputId": "d16db0f4-7d33-4c51-d8d8-b0e192540efb"
   },
   "outputs": [],
   "source": [
    "N1=pre_obs.shape[1]\n",
    "N2=pre_obs.shape[2]\n",
    "\n",
    "SPI_monthly_np=np.empty(pre_6_monthly.shape)\n",
    "\n",
    "for i in tqdm(range(4)):\n",
    "  for n1 in range(N1):\n",
    "    for n2 in range(N2):\n",
    "      SPI_monthly_np[i,:,n1,n2]=calc_spi_nonparam(pre_6_monthly[i,:,n1,n2].flatten())\n"
   ]
  },
  {
   "cell_type": "markdown",
   "metadata": {
    "tags": []
   },
   "source": [
    "# Check imported data sn SPI calclulation"
   ]
  },
  {
   "cell_type": "code",
   "execution_count": null,
   "metadata": {
    "colab": {
     "base_uri": "https://localhost:8080/"
    },
    "executionInfo": {
     "elapsed": 43,
     "status": "ok",
     "timestamp": 1640352947270,
     "user": {
      "displayName": "Vikram Singh Chandel",
      "photoUrl": "https://lh3.googleusercontent.com/a/default-user=s64",
      "userId": "07964427013125611178"
     },
     "user_tz": -330
    },
    "id": "L1nwZ8EuEbtE",
    "outputId": "43d70d94-0f2e-4e33-e779-210d39906512"
   },
   "outputs": [],
   "source": [
    "print(SPI_monthly_np.shape,\n",
    "     tas_data_all.shape)"
   ]
  },
  {
   "cell_type": "code",
   "execution_count": null,
   "metadata": {
    "colab": {
     "base_uri": "https://localhost:8080/",
     "height": 282
    },
    "executionInfo": {
     "elapsed": 36,
     "status": "ok",
     "timestamp": 1640352947271,
     "user": {
      "displayName": "Vikram Singh Chandel",
      "photoUrl": "https://lh3.googleusercontent.com/a/default-user=s64",
      "userId": "07964427013125611178"
     },
     "user_tz": -330
    },
    "id": "mD7vGTgGMg_j",
    "outputId": "90db22ab-d155-4fc1-dbdb-27c86bc3ad7c"
   },
   "outputs": [],
   "source": [
    "plt.pcolor(pre_data_all[2,0,:,:])\n",
    "plt.colorbar()"
   ]
  },
  {
   "cell_type": "markdown",
   "metadata": {},
   "source": [
    "# Calculate delta "
   ]
  },
  {
   "cell_type": "code",
   "execution_count": null,
   "metadata": {
    "id": "EMDA0mB4EKCS"
   },
   "outputs": [],
   "source": [
    "\n",
    "period_0=[1902,1951] # ind1=(period_0[0]-st)*12 ++ ind2=(period_0[1]-st+1)*12\n",
    "period_1=[1956,2005] # ind1=(period_1[0]-st)*12 ++ ind2=(period_1[1]-st+1)*12\n",
    "N1=tas_data_all.shape[2]\n",
    "N2=tas_data_all.shape[3]\n",
    "## OBS  ##\n",
    "tas_period_0=np.zeros([tas_data_all.shape[0],50*12,N1,N2])\n",
    "tas_period_1=np.zeros([tas_data_all.shape[0],50*12,N1,N2])\n",
    "delta_tas=np.zeros([tas_data_all.shape[0],N1,N2])\n",
    "spi_period_0=np.zeros([SPI_monthly_np.shape[0],50*12,N1,N2])\n",
    "spi_period_1=np.zeros([SPI_monthly_np.shape[0],50*12,N1,N2])\n",
    "\n",
    "for i in range(4):\n",
    "  tas_period_0[i,:,:,:]=tas_data_all[i,(period_0[0]-st)*12:(period_0[1]-st+1)*12,:,:]\n",
    "  tas_period_1[i,:,:,:]=tas_data_all[i,(period_1[0]-st)*12:(period_1[1]-st+1)*12,:,:]\n",
    "  t0=tas_period_0[i,:,:,:]\n",
    "  t1=tas_period_1[i,:,:,:]\n",
    "  \n",
    "  #print(t0.shape,t1.shape)\n",
    "\n",
    "  mean_tas_period_0=np.mean(t0,axis=0)\n",
    "  mean_tas_period_1=np.mean(t1,axis=0)\n",
    "  #print(mean_tas_period_0.shape,mean_tas_period_1.shape)\n",
    "\n",
    "  delta_tas[i,:,:]=mean_tas_period_1-mean_tas_period_0\n",
    "  #print(delta_tas.shape)\n",
    "\n",
    "  spi_period_0[i,:,:,:]=SPI_monthly_np[i,(period_0[0]-st)*12-5:(period_0[1]-st+1)*12-5,:,:]\n",
    "  spi_period_1[i,:,:,:]=SPI_monthly_np[i,(period_1[0]-st)*12-5:(period_1[1]-st+1)*12-5,:,:]\n",
    "\n",
    "  #print(spi_period_0.shape)\n",
    "  #print(spi_period_1.shape)\n",
    "\n"
   ]
  },
  {
   "cell_type": "code",
   "execution_count": null,
   "metadata": {
    "id": "pKjanX3mUqii"
   },
   "outputs": [],
   "source": [
    "delta_tas_d0=np.zeros((13,N1,N2))\n",
    "delta_tas_d1=np.zeros((13,N1,N2))\n",
    "\n",
    "delta_spi_freq_sp1=np.zeros((13,N1,N2))\n",
    "delta_spi_freq_sp2=np.zeros((13,N1,N2))\n",
    "delta_spi_freq_sp3=np.zeros((13,N1,N2))\n",
    "\n",
    "for i in tqdm(range(4)):\n",
    "  for n1 in range(N1):\n",
    "    for n2 in range(N2):\n",
    "\n",
    "      spi0=spi_period_0[i,:,n1,n2]\n",
    "      spi1=spi_period_1[i,:,n1,n2]\n",
    "\n",
    "      tp0=tas_period_0[i,:,n1,n2]\n",
    "      tp1=tas_period_1[i,:,n1,n2]\n",
    "\n",
    "      tas_d0_p0=np.nanmean(tp0[np.all(np.array([spi0<=-0.5]),axis=0)])\n",
    "      tas_d1_p0=np.nanmean(tp0[np.all(np.array([spi0<=-0.8]),axis=0)])\n",
    "\n",
    "      tas_d0_p1=np.nanmean(tp1[np.all(np.array([spi1<=-0.5]),axis=0)])\n",
    "      tas_d1_p1=np.nanmean(tp1[np.all(np.array([spi1<=-0.8]),axis=0)])\n",
    "      \n",
    "      d__01=np.all(np.array([spi0<=-0.5]),axis=0).sum()\n",
    "      d__02=np.all(np.array([spi0<=-0.8]),axis=0).sum()\n",
    "      d__03=np.all(np.array([spi0<=-1.3]),axis=0).sum()\n",
    "      \n",
    "      d__11=np.all(np.array([spi1<=-0.5]),axis=0).sum()\n",
    "      d__12=np.all(np.array([spi1<=-0.8]),axis=0).sum()\n",
    "      d__13=np.all(np.array([spi1<=-1.3]),axis=0).sum()\n",
    "\n",
    "      del_spi_1=(d__11-d__01)/50\n",
    "      del_spi_2=(d__12-d__02)/50\n",
    "      del_spi_3=(d__13-d__03)/50\n",
    "      \n",
    "      delta_spi_freq_sp1[i,n1,n2]=del_spi_1\n",
    "      delta_spi_freq_sp2[i,n1,n2]=del_spi_2\n",
    "      delta_spi_freq_sp3[i,n1,n2]=del_spi_3\n",
    "\n",
    "      delta_tas_d0[i,n1,n2]=tas_d0_p1-tas_d0_p0\n",
    "      delta_tas_d1[i,n1,n2]=tas_d1_p1-tas_d1_p0\n"
   ]
  },
  {
   "cell_type": "code",
   "execution_count": null,
   "metadata": {},
   "outputs": [],
   "source": []
  },
  {
   "cell_type": "markdown",
   "metadata": {
    "id": "AR-tzKkfoirQ",
    "tags": []
   },
   "source": [
    "# Plotting change"
   ]
  },
  {
   "cell_type": "markdown",
   "metadata": {
    "tags": []
   },
   "source": [
    "## Creating mask"
   ]
  },
  {
   "cell_type": "code",
   "execution_count": null,
   "metadata": {
    "colab": {
     "base_uri": "https://localhost:8080/",
     "height": 227
    },
    "executionInfo": {
     "elapsed": 6265,
     "status": "ok",
     "timestamp": 1640352987461,
     "user": {
      "displayName": "Vikram Singh Chandel",
      "photoUrl": "https://lh3.googleusercontent.com/a/default-user=s64",
      "userId": "07964427013125611178"
     },
     "user_tz": -330
    },
    "id": "BuEYZFH1HIi4",
    "outputId": "0a34c875-2aa6-469c-c555-79671d991702"
   },
   "outputs": [],
   "source": [
    "\n",
    "fo=gpd.read_file('/home/vikram/BCSD_Shapefiles/Us_boundary.shp')\n",
    "fo.plot()\n",
    "shp_geom = shape(fo.geometry[0])\n",
    "\n",
    "xxc, yyc = np.meshgrid(lon_obs.data-360,lat_obs.data)\n",
    "mask_shape=np.empty_like(xxc)\n",
    "\n",
    "N1=xxc.shape[0]\n",
    "N2=xxc.shape[1]\n",
    "for lat_i in range(N1):\n",
    "  for lon_i in range(N2):\n",
    "    xi=xxc[lat_i,lon_i]\n",
    "    yi=yyc[lat_i,lon_i]\n",
    "    m1= (shp_geom.contains(Point(xi, yi)) or shp_geom.touches(Point(xi, yi)))\n",
    "    mask_shape[lat_i,lon_i]=not m1\n"
   ]
  },
  {
   "cell_type": "markdown",
   "metadata": {
    "id": "pRK32wbVCinr",
    "tags": []
   },
   "source": [
    "## Figure 5"
   ]
  },
  {
   "cell_type": "code",
   "execution_count": null,
   "metadata": {
    "id": "bXodl9vxdnOr"
   },
   "outputs": [],
   "source": [
    "def map_plot_cyl_final(data_lat_x_lon,lat_cen,lon_cen,map_bounds,clab,y_limit,ax,mp_spacing=10,subplot_iter=1,loff=1,coff=1,ex='both'):\n",
    "\n",
    "  lat_box=uu.cen_to_box(lat_cen)\n",
    "  lon_box=uu.cen_to_box(lon_cen)\n",
    "\n",
    "  map = Basemap(projection='cyl',resolution='l',\n",
    "                llcrnrlon=map_bounds[0], \n",
    "                urcrnrlat=map_bounds[1],\n",
    "                urcrnrlon=map_bounds[2], \n",
    "                llcrnrlat=map_bounds[3])\n",
    "\n",
    "\n",
    "  xx, yy = meshgrid(lon_box,lat_box )\n",
    "  #return  dimenion of lat * lon\n",
    "  map.pcolor(xx, yy, data_lat_x_lon,cmap='RdBu_r')\n",
    "  map.drawmeridians(np.arange(-180,180,mp_spacing),labels=[0,0,0,1], linewidth=1.0) #longitudes\n",
    "  if loff==0:\n",
    "    map.drawparallels(np.arange(-90,90,mp_spacing),labels=[1,0,0,0], linewidth=1.0) #latitudes\n",
    "  else:\n",
    "    map.drawparallels(np.arange(-90,90,mp_spacing),labels=[0,0,0,0], linewidth=1.0) #latitudes\n",
    "  cbar = map.colorbar(extend=ex)\n",
    "  #cbar.ax.set_yticklabels(['0','1','2','>3'])\n",
    "  cbar.set_label(clab, rotation=90)\n",
    "  plt.clim(y_limit)\n",
    "\n",
    "  if coff==1:\n",
    "    cbar.remove()\n",
    "\n",
    "  #map.drawcountries(linewidth=1)\n",
    "  map.readshapefile('/home/vikram/BCSD_Shapefiles/Us_boundary','UU',linewidth=2.0)\n",
    "\n",
    "  map.drawcoastlines(linewidth=1)\n",
    "  lxx=0.02\n",
    "  lyy=1.02\n",
    "  lcol='k'\n",
    "  lsize=24\n",
    "  lfamily='Arial'\n",
    "  lweight=800\n",
    " # y_limit=[0,30]\n",
    "  #clab='days'\n",
    "  \n",
    "  plt.text(lxx, lyy, chr(subplot_iter+96), horizontalalignment='left',verticalalignment='bottom', transform=ax.transAxes,fontweight=lweight,\n",
    "           fontfamily=lfamily,fontsize=lsize,color=lcol)"
   ]
  },
  {
   "cell_type": "code",
   "execution_count": null,
   "metadata": {
    "colab": {
     "base_uri": "https://localhost:8080/",
     "height": 431
    },
    "executionInfo": {
     "elapsed": 23774,
     "status": "ok",
     "timestamp": 1640362930171,
     "user": {
      "displayName": "Vikram Singh Chandel",
      "photoUrl": "https://lh3.googleusercontent.com/a/default-user=s64",
      "userId": "07964427013125611178"
     },
     "user_tz": -330
    },
    "id": "kz-SnTyXCiWm",
    "outputId": "04165471-752e-4314-f375-1b340f289ba9"
   },
   "outputs": [],
   "source": [
    "data_bounds=[ -125, 50, -70, 25]\n",
    "gcm_iter=1\n",
    "Dl=[0,1,2,3]\n",
    "gcm_name=gcm_names[gcm_iter]\n",
    "dapa=[delta_tas[0,:,:],\n",
    "  delta_tas[1,:,:],\n",
    "  delta_tas[3,:,:],\n",
    "  delta_tas[2,:,:],\n",
    "  delta_spi_freq_sp2[0,:,:],\n",
    "  delta_spi_freq_sp2[1,:,:],\n",
    "  delta_spi_freq_sp2[3,:,:],\n",
    "  delta_spi_freq_sp2[2,:,:],\n",
    "  delta_tas_d1[0,:,:],\n",
    "  delta_tas_d1[1,:,:],\n",
    "  delta_tas_d1[3,:,:],\n",
    "  delta_tas_d1[2,:,:]]\n",
    "y_limits=[[-1.5,1.5],\n",
    "         [-1.5,1.5],\n",
    "         [-1.5,1.5]]\n",
    "\n",
    "y_limits=[[-3,3],\n",
    "         [-3,3],\n",
    "         [-3,3]]\n",
    "\n",
    "\n",
    "lofff=[0,1,1,1,0,1,1,1,0,1,1,1]\n",
    "cofff=[1,1,1,0,1,1,1,0,1,1,1,0]\n",
    "titlesx=['Observation','Raw '+gcm_name,'Standardisation '+gcm_name,'BCSD '+gcm_name]\n",
    "titlesy=['$\\Delta$T','$\\Delta_{freq}$D1','$\\Delta$T|D1']\n",
    "labels=['$\\degree$C','drought months/year','$\\degree$C']\n",
    "\n",
    "ex='both'\n",
    "fig=plt.figure(figsize=(20,8))\n",
    "\n",
    "for rr in range(3):\n",
    "  for cc in range(4):\n",
    "    iter1=rr*4+cc\n",
    "    iter2=rr*3+cc\n",
    "    ax=plt.subplot(3,4,iter1+1)\n",
    "    #plt.pcolor(ma.masked_array(dapa[rr*4+cc], mask=mask))\n",
    "    map_plot_cyl_final(ma.masked_array(dapa[iter1], mask=mask_shape),\n",
    "                       lat_obs,lon_obs-360,data_bounds,labels[rr],y_limits[rr],\n",
    "                       ax,mp_spacing=10,subplot_iter=iter1+1,loff=lofff[iter1],\n",
    "                       coff=cofff[iter1],ex=ex)\n",
    "    plt.title(titlesx[cc])\n",
    "\n",
    "\n",
    "fig.text(0.08, 0.78, titlesy[0], va='center', ha='center', rotation='vertical', fontsize=16)\n",
    "fig.text(0.08, 0.5, titlesy[1], va='center', ha='center', rotation='vertical', fontsize=16)\n",
    "fig.text(0.08, 0.25, titlesy[2], va='center', ha='center', rotation='vertical', fontsize=16)\n",
    "# plt.savefig('/home/vikram/Dropbox/BCSD Work/03_Figures/Figures/Figure5/with_std_extended_'+gcm_name+output_figname+'.svg',\n",
    "#            facecolor = 'w')\n",
    "\n",
    "plt.savefig('/home/vikram/Dropbox/BCSD Work/03_Figures/Figure_new_auroop/Figure3/future_part_1_with_std_extended_'+gcm_name+output_figname+'.svg',\n",
    "           facecolor = 'w')\n",
    "\n"
   ]
  },
  {
   "cell_type": "markdown",
   "metadata": {
    "tags": []
   },
   "source": [
    "# S score"
   ]
  },
  {
   "cell_type": "code",
   "execution_count": null,
   "metadata": {},
   "outputs": [],
   "source": [
    "def S_score_2D(data_ref, data_model,mask_inf):\n",
    "    # mask is true for exterior values\n",
    "    data_1 = data_ref\n",
    "    data_2 = data_model \n",
    "    ind_1 = np.isnan(data_1)\n",
    "    ind_2 = np.isnan(data_2)\n",
    "    data_1[ind_2] = np.nan\n",
    "    data_2[ind_1] = np.nan\n",
    "    data_1[mask_inf == True] = np.nan\n",
    "    data_2[mask_inf == True] = np.nan\n",
    "\n",
    "    data_1 = data_1.flatten()\n",
    "    data_2 = data_2.flatten()\n",
    "    \n",
    "    data_1 =  np.delete(data_1,np.isnan(data_1))\n",
    "    data_2 =  np.delete(data_2,np.isnan(data_2))\n",
    "    R = np.corrcoef(data_1,data_2)[0,1]\n",
    "\n",
    "    SDR = np.std(data_2)/np.std(data_1)\n",
    "\n",
    "    S_score = (1+R)**4  / ( 4 * (SDR + 1 / SDR)**2 )\n",
    "\n",
    "    \n",
    "    return S_score"
   ]
  },
  {
   "cell_type": "code",
   "execution_count": null,
   "metadata": {},
   "outputs": [],
   "source": [
    "\n"
   ]
  },
  {
   "cell_type": "code",
   "execution_count": null,
   "metadata": {},
   "outputs": [],
   "source": [
    "plt.pcolor(mask_shape)\n",
    "plt.colorbar()"
   ]
  },
  {
   "cell_type": "code",
   "execution_count": null,
   "metadata": {},
   "outputs": [],
   "source": [
    "plt.pcolor(delta_tas_d1[1,:,:])"
   ]
  },
  {
   "cell_type": "code",
   "execution_count": null,
   "metadata": {},
   "outputs": [],
   "source": [
    "D=4\n",
    "N_index= 3\n",
    "S_score_matrix = np.zeros((N_index,D))\n",
    "for itr,index in enumerate([delta_tas,delta_spi_freq_sp2,delta_tas_d1]):\n",
    "    for di,d in enumerate([0,1,3,2]):\n",
    "        S_score_matrix[itr,di] = (S_score_2D(index[1,:,:],index[d,:,:],mask_shape))\n",
    "        \n",
    "titlesy=['$\\Delta$T','$\\Delta_{freq}$D1','$\\Delta$T|D1']\n",
    "        \n",
    "h=sns.heatmap(S_score_matrix , linewidth = 2 , cmap = 'Reds', \n",
    "          annot=True,\n",
    "          fmt=\".2f\", square=True,\n",
    "          xticklabels=['O','G','S','B'],\n",
    "          yticklabels=titlesy,vmin=0,vmax=1,\n",
    "             \n",
    "          cbar_kws={'label': 'S score','extend':None},cbar = True)\n",
    "\n",
    "\n",
    "plt.savefig('/home/vikram/Dropbox/BCSD Work/03_Figures/Figures/Figure5/with_std_Score_extended_wrt_gcm_'+gcm_name+output_figname+'.svg')\n",
    "\n",
    "plt.savefig('/home/vikram/Dropbox/BCSD Work/03_Figures/Figure_new_auroop/Figure3/with_std_Score_extended_wrt_gcm_'+gcm_name+output_figname+'.svg',\n",
    "           facecolor = 'w')\n",
    "\n",
    "\n",
    "plt.figure()\n",
    "D=4\n",
    "N_index= 3\n",
    "S_score_matrix = np.zeros((N_index,D))\n",
    "for itr,index in enumerate([delta_tas,delta_spi_freq_sp2,delta_tas_d1]):\n",
    "    for d in [0,1,3,2]:\n",
    "        S_score_matrix[itr,d] = (S_score_2D(index[0,:,:],index[d,:,:],mask_shape))\n",
    "        \n",
    "titlesy=['$\\Delta$T','$\\Delta_{freq}$D1','$\\Delta$T|D1']\n",
    "        \n",
    "h=sns.heatmap(S_score_matrix , linewidth = 2 , cmap = 'Reds', \n",
    "          annot=True,\n",
    "          fmt=\".2f\", square=True,\n",
    "          xticklabels=['O','G','S','B'],\n",
    "          yticklabels=titlesy,vmin=0,vmax=1,\n",
    "             \n",
    "          cbar_kws={'label': 'S score','extend':None},cbar = True)\n",
    "\n",
    "plt.savefig('/home/vikram/Dropbox/BCSD Work/03_Figures/Figure_new_auroop/Figure3/Score_extended_wrt_obs_'+gcm_name+output_figname+'.svg',\n",
    "           facecolor = 'w')\n",
    "\n",
    "# plt.savefig('/home/vikram/Dropbox/BCSD Work/03_Figures/Figures/Figure5/Score_extended_wrt_obs_'+gcm_name+output_figname+'.svg')\n",
    "\n",
    "# cbar_kws={'label': '°C','extend':'max'},cbar"
   ]
  },
  {
   "cell_type": "code",
   "execution_count": null,
   "metadata": {},
   "outputs": [],
   "source": [
    "path_out_P"
   ]
  },
  {
   "cell_type": "markdown",
   "metadata": {
    "tags": []
   },
   "source": [
    "# Other"
   ]
  },
  {
   "cell_type": "markdown",
   "metadata": {
    "id": "fOKxzAVTxwkf",
    "tags": []
   },
   "source": [
    "## Other\n"
   ]
  },
  {
   "cell_type": "code",
   "execution_count": null,
   "metadata": {
    "id": "FKxrtdxipahr"
   },
   "outputs": [],
   "source": [
    "\n",
    "\n",
    "def plot_hmap(data_corr,ylim,titles,fmt,cmap):\n",
    "  fig=plt.figure(figsize=(14,8))\n",
    "  S=data_corr[0].shape[0]\n",
    "  for iii in range(3):\n",
    "    for subs in range(S):\n",
    "      ax=plt.subplot(3,4,iii*4+subs+1)\n",
    "      \n",
    "      data_set = data_corr[iii][subs,:,:]\n",
    "      \n",
    "      if (subs<S-1):\n",
    "        cbarI=False\n",
    "      else:\n",
    "        cbarI=True\n",
    "\n",
    "      h=sns.heatmap(data_set , linewidth = 2 , cmap = cmap, \n",
    "                  annot=True,\n",
    "                  fmt=fmt ,square=True,\n",
    "                  xticklabels=titles,\n",
    "                  yticklabels=titles,vmin=ylim[iii][0],vmax=ylim[iii][1],\n",
    "                    cbar_kws={'label': '°C','extend':'max'},cbar=cbarI)\n",
    "      if iii==0:\n",
    "        plt.title(region_shapes['NAME'][subs])\n",
    "        \n",
    "      lxx=-0.20\n",
    "      lyy=0.8\n",
    "      lcol='k'\n",
    "      lsize=24\n",
    "      lfamily='Tahoma'\n",
    "      lweight=800\n",
    "      \n",
    "      plt.text(lxx, lyy,  chr(iii*4+subs+1+96), horizontalalignment='right',verticalalignment='bottom', transform=ax.transAxes,fontweight=lweight,\n",
    "              fontsize=lsize,color=lcol)    \n",
    "\n",
    "  fig.text(0.08, 0.78, titlesy[0], va='center', ha='center', rotation='vertical', fontsize=16)\n",
    "  fig.text(0.08, 0.5, titlesy[1], va='center', ha='center', rotation='vertical', fontsize=16)\n",
    "  fig.text(0.08, 0.25, titlesy[2], va='center', ha='center', rotation='vertical', fontsize=16)\n",
    "  fig.suptitle(gcm_name)\n",
    "  plt.savefig('/home/vikram/Dropbox/BCSD Work/03_Figures/Figures/Figure5/extended_rmse_'+gcm_name+'.svg')\n",
    "  plt.show()"
   ]
  },
  {
   "cell_type": "code",
   "execution_count": null,
   "metadata": {
    "id": "Q9EEPIogsGmH"
   },
   "outputs": [],
   "source": [
    "titles=['Obs','GCM','BC-G','BC-R']\n"
   ]
  },
  {
   "cell_type": "code",
   "execution_count": null,
   "metadata": {
    "colab": {
     "base_uri": "https://localhost:8080/",
     "height": 540
    },
    "executionInfo": {
     "elapsed": 4070,
     "status": "ok",
     "timestamp": 1640363008163,
     "user": {
      "displayName": "Vikram Singh Chandel",
      "photoUrl": "https://lh3.googleusercontent.com/a/default-user=s64",
      "userId": "07964427013125611178"
     },
     "user_tz": -330
    },
    "id": "o1gWaYmar_By",
    "outputId": "53524b11-3611-4b11-d79d-223a83975bed"
   },
   "outputs": [],
   "source": [
    "plot_hmap([ind1h,ind2h,ind3h],[[0,1.5],[0,1.5],[0,1.5]],titles,\".1f\",'Reds')"
   ]
  },
  {
   "cell_type": "markdown",
   "metadata": {
    "id": "pMfhZUYtZgVI"
   },
   "source": [
    "### RMSE SHort"
   ]
  },
  {
   "cell_type": "code",
   "execution_count": null,
   "metadata": {
    "id": "5J8OK8TyZjMf"
   },
   "outputs": [],
   "source": [
    "\n",
    "\n",
    "def plot_hmap_short(data_corr,ylim,titles,fmt,cmap):\n",
    "  titlesy=['$\\Delta$T','$\\Delta_{freq}$D1','$\\Delta$T|D1']\n",
    "  fig=plt.figure(figsize=(12,2))\n",
    "  S=data_corr[0].shape[0]\n",
    "  for iii in range(3):\n",
    "      ax=plt.subplot(1,3,iii+1)\n",
    "      \n",
    "      data_set=np.zeros((4,3))\n",
    "      for subs in range(S):\n",
    "        data_set[subs,:]= data_corr[iii][subs,1:,0]\n",
    "\n",
    "      h=sns.heatmap(data_set.T , linewidth = 2 , cmap = cmap, \n",
    "                  annot=True,\n",
    "                  fmt=fmt ,square=True,\n",
    "                  xticklabels=titles[0],\n",
    "                  yticklabels=titles[1],vmin=ylim[iii][0],vmax=ylim[iii][1],\n",
    "                  cbar_kws={'label': labels[iii],'extend':'max'})\n",
    "        \n",
    "      lxx=0\n",
    "      lyy=1\n",
    "      lcol='k'\n",
    "      lsize=24\n",
    "      lfamily='Tahoma'\n",
    "      lweight=800\n",
    "      \n",
    "      plt.text(lxx, lyy,  chr(iii+1+96), horizontalalignment='right',verticalalignment='bottom', transform=ax.transAxes,fontweight=lweight,\n",
    "              fontsize=lsize,color=lcol)    \n",
    "      plt.title(titlesy[iii])\n",
    "\n",
    "  fig.text(0.5, -0.1, gcm_name, va='center', ha='center', fontsize=16)\n",
    "  plt.savefig('/home/vikram/Dropbox/BCSD Work/03_Figures/Figures/Figure5/extended_rmse_ss'+gcm_name+'.svg')\n",
    "  plt.show()"
   ]
  },
  {
   "cell_type": "code",
   "execution_count": null,
   "metadata": {
    "id": "yuQqPcccZjMh"
   },
   "outputs": [],
   "source": [
    "titlesy=['GCM','BC-G','BC-R']\n",
    "titlesx=['N','S','W','MW']\n",
    "labels=['$\\degree$C','drought months/year','$\\degree$C']\n",
    "titles=[titlesx,titlesy]"
   ]
  },
  {
   "cell_type": "code",
   "execution_count": null,
   "metadata": {
    "colab": {
     "base_uri": "https://localhost:8080/",
     "height": 204
    },
    "executionInfo": {
     "elapsed": 1373,
     "status": "ok",
     "timestamp": 1640363478881,
     "user": {
      "displayName": "Vikram Singh Chandel",
      "photoUrl": "https://lh3.googleusercontent.com/a/default-user=s64",
      "userId": "07964427013125611178"
     },
     "user_tz": -330
    },
    "id": "wa1QeLHUZjMh",
    "outputId": "5e27fff4-0e0a-4eb9-a86f-93c4191f8495"
   },
   "outputs": [],
   "source": [
    "plot_hmap_short([ind1h,ind2h,ind3h],[[0,1.5],[0,1.5],[0,1.5]],titles,\".1f\",'Reds')"
   ]
  },
  {
   "cell_type": "markdown",
   "metadata": {
    "id": "Vg0efVtQ6uW_",
    "jp-MarkdownHeadingCollapsed": true,
    "tags": []
   },
   "source": [
    "## Final short"
   ]
  },
  {
   "cell_type": "code",
   "execution_count": null,
   "metadata": {
    "colab": {
     "base_uri": "https://localhost:8080/",
     "height": 525
    },
    "executionInfo": {
     "elapsed": 6714,
     "status": "ok",
     "timestamp": 1640230957895,
     "user": {
      "displayName": "Vikram Singh Chandel",
      "photoUrl": "https://lh3.googleusercontent.com/a/default-user=s64",
      "userId": "07964427013125611178"
     },
     "user_tz": -330
    },
    "id": "e6Bgpglu6ueG",
    "outputId": "f495a1c9-0021-4f2d-8d92-1d8c39003d53"
   },
   "outputs": [],
   "source": [
    "gcm_iter=3\n",
    "Dl=[0,1+gcm_iter,5+gcm_iter,9+gcm_iter]\n",
    "gcm_name=gcm_names[gcm_iter]\n",
    "dapa=[delta_tas_d1[Dl[0],:,:],\n",
    "  delta_tas_d1[Dl[1],:,:],\n",
    "  delta_tas_d1[Dl[2],:,:],\n",
    "  delta_tas_d1[Dl[3],:,:]]\n",
    "\n",
    "y_limit=[-1.5,1.5]\n",
    "labels=['$\\degree$C']\n",
    "lofff=[0,1,0,1]\n",
    "cofff=[0,0,0,0]\n",
    "titlesx=['Observation','Raw '+gcm_name,'BCSD '+gcm_name,'BCSD Random']\n",
    "titlesy=['$\\Delta$T|D1']\n",
    "ex='both'\n",
    "fig=plt.figure(figsize=(16,8))\n",
    "\n",
    "for rr in range(2):\n",
    "  for cc in range(2):\n",
    "    iter=rr*2+cc\n",
    "    ax=plt.subplot(2,2,iter+1)\n",
    "    #plt.pcolor(ma.masked_array(dapa[rr*4+cc], mask=mask))\n",
    "    map_plot_cyl_final(ma.masked_array(dapa[iter], mask=mask_shape),lat_obs,lon_obs-360,data_bounds,labels[0],y_limits[0],ax,mp_spacing=10,subplot_iter=iter+1,loff=lofff[iter],coff=cofff[iter],ex=ex)\n",
    "    plt.title(titlesx[iter])\n",
    "\n",
    "\n",
    "fig.text(0.08, 0.5, titlesy[0], va='center', ha='center', rotation='vertical', fontsize=16)\n",
    "fig.suptitle(gcm_name)\n",
    "plt.savefig('/content/drive/MyDrive/Figures/Figure5/brief_'+gcm_name+'.svg')"
   ]
  },
  {
   "cell_type": "code",
   "execution_count": null,
   "metadata": {
    "id": "zbaPqgwUUppJ"
   },
   "outputs": [],
   "source": [
    "data_bounds=[ 360-125, 50, 360-70, 25]\n",
    "\n",
    "lab_list=['Obs','GCM0*','GCM1*','GCM2*','GCM3*','BCSD-GCM0','BCSD-GCM1','BCSD-GCM2','BCSD-GCM3','BCSD-RND0','BCSD-RND1','BCSD-RND2','BCSD-RND3']\n",
    "lweight=500\n",
    "lsize=20\n",
    "lcol='k'\n",
    "sx=1\n",
    "sy=3\n",
    "fig=plt.figure(figsize=(25,60))\n",
    "ylim=[250,330]\n",
    "for ii in range(sx):\n",
    "  ind=ii*3\n",
    "  ax=plt.subplot(sx,sy,ii*3+1)\n",
    "  map_plot_cyl_change(delta_tas[ii],lat_obs,lon_obs,data_bounds,'',ylim,ax,mp_spacing=10,subplot_iter=ii+1,loff=(ind+1)%3,coff=(ind+1)%3)\n",
    "  plt.title(lab_list[ii]+': $\\Delta$T',fontweight=lweight,fontsize=lsize,color=lcol)\n",
    "\n",
    "  ind=ii*3+1\n",
    "  ax=plt.subplot(sx,sy,ii*3+1+1) \n",
    "  tt0=tas_period_0[ii,:,:,:]\n",
    "\n",
    "  map_plot_cyl_change(tt0[0,:,:],lat_obs,lon_obs,data_bounds,'',ylim,ax,mp_spacing=10,subplot_iter=ii+1,loff=(ind+1)%3,coff=(ind+1)%3)\n",
    "  plt.title(lab_list[ii]+': $\\Delta$T|D0',fontweight=lweight,fontsize=lsize,color=lcol)\n",
    "  ind=ii*3+1\n",
    "  tt1=tas_period_1[ii,:,:,:]\n",
    "  ax=plt.subplot(sx,sy,ii*3+2+1)\n",
    "  map_plot_cyl_change(np.nanmean(tt1,axis=0),lat_obs,lon_obs,data_bounds,'',ylim,ax,mp_spacing=10,subplot_iter=ii+1,loff=(ind+1)%3,coff=(ind+1)%3)\n",
    "  plt.title(lab_list[ii]+': $\\Delta$T|D1',fontweight=lweight,fontsize=lsize,color=lcol)\n",
    "\n",
    "plt.suptitle(\"Change in Annual Mean: (1902-1951) to (1955-2005)\",fontsize=24,color='k')\n",
    "\n"
   ]
  },
  {
   "cell_type": "code",
   "execution_count": null,
   "metadata": {
    "id": "F6A21QiCWBnw"
   },
   "outputs": [],
   "source": [
    "data_bounds=[ 360-125, 50, 360-70, 25]\n",
    "\n",
    "lab_list=['Obs','GCM0*','GCM1*','GCM2*','GCM3*','BCSD-GCM0','BCSD-GCM1','BCSD-GCM2','BCSD-GCM3','BCSD-RND0','BCSD-RND1','BCSD-RND2','BCSD-RND3']\n",
    "lweight=500\n",
    "lsize=20\n",
    "lcol='k'\n",
    "sx=13\n",
    "sy=3\n",
    "fig=plt.figure(figsize=(25,60))\n",
    "ylim=[250,330]\n",
    "for ii in range(sx):\n",
    "  ind=ii*3\n",
    "  ax=plt.subplot(sx,sy,ii*3+1)\n",
    "  map_plot_cyl_change(delta_tas[ii],lat_obs,lon_obs,data_bounds,'',ylim,ax,mp_spacing=10,subplot_iter=ind+1,loff=(ind+1)%3,coff=(ind+1)%3)\n",
    "  plt.title(lab_list[ii]+': $\\Delta$T',fontweight=lweight,fontsize=lsize,color=lcol)\n",
    "\n",
    "  ind=ii*3+1\n",
    "  ax=plt.subplot(sx,sy,ii*3+1+1) \n",
    "  tt0=spi_period_0[ii,:,:,:]\n",
    "\n",
    "  map_plot_cyl_change(tt0[0,:,:],lat_obs,lon_obs,data_bounds,'',ylim,ax,mp_spacing=10,subplot_iter=ind+1,loff=(ind+1)%3,coff=(ind+1)%3)\n",
    "  plt.title(lab_list[ii]+': $\\Delta$T|D0',fontweight=lweight,fontsize=lsize,color=lcol)\n",
    "  ind=ii*3+2\n",
    "  tt1=spi_period_1[ii,:,:,:]\n",
    "  ax=plt.subplot(sx,sy,ii*3+2+1)\n",
    "  map_plot_cyl_change(np.nanmean(tt1,axis=0),lat_obs,lon_obs,data_bounds,'',ylim,ax,mp_spacing=10,subplot_iter=ind+1,loff=(ind+1)%3,coff=(ind+1)%3)\n",
    "  plt.title(lab_list[ii]+': $\\Delta$T|D1',fontweight=lweight,fontsize=lsize,color=lcol)\n",
    "\n",
    "plt.suptitle(\"Change in Annual Mean: (1902-1951) to (1955-2005)\",fontsize=24,color='k')\n",
    "\n"
   ]
  }
 ],
 "metadata": {
  "colab": {
   "authorship_tag": "ABX9TyNb7pWGij0vh3peVDqVqqu/",
   "collapsed_sections": [
    "YCuW1uxzkvhj",
    "rW-O5gHB_ozZ",
    "9MGiFJ8WtzQY",
    "pWMY5hi98Ief",
    "amLp3GdOnFz2",
    "dNtLllLa6FKH",
    "AR-tzKkfoirQ",
    "fOKxzAVTxwkf"
   ],
   "mount_file_id": "1Hc_hX_fu8cx8C7RIv07t6vt_6jaMV0c6",
   "name": "Figure 5.ipynb",
   "provenance": [
    {
     "file_id": "1R87Z8gZrwK8rXFmacCSUg_UYk7GAmdp3",
     "timestamp": 1628259240200
    }
   ]
  },
  "kernelspec": {
   "display_name": "Python 3 (ipykernel)",
   "language": "python",
   "name": "python3"
  },
  "language_info": {
   "codemirror_mode": {
    "name": "ipython",
    "version": 3
   },
   "file_extension": ".py",
   "mimetype": "text/x-python",
   "name": "python",
   "nbconvert_exporter": "python",
   "pygments_lexer": "ipython3",
   "version": "3.9.12"
  }
 },
 "nbformat": 4,
 "nbformat_minor": 4
}
