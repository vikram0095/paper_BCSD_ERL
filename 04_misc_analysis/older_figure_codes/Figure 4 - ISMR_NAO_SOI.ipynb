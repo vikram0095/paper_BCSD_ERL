{
 "cells": [
  {
   "cell_type": "markdown",
   "metadata": {
    "id": "DtOxx-ryLN_b",
    "tags": []
   },
   "source": [
    "# INIT"
   ]
  },
  {
   "cell_type": "code",
   "execution_count": null,
   "metadata": {
    "id": "Xx95K49gF_1U"
   },
   "outputs": [],
   "source": [
    "import utility_module_2_v_3 as uu\n",
    "import numpy as np\n",
    "import matplotlib.pyplot as plt\n",
    "import pandas as pd\n",
    "\n",
    "def anom_mon(data):\n",
    "  print(data.shape)\n",
    "  data=np.reshape(data,(12,-1),order='F')\n",
    "  data_clim=np.nanmean(data,axis=1)\n",
    "  print(data_clim)\n",
    "  data_anom=data-data_clim[:,np.newaxis]\n",
    "  return data_anom.flatten(order='F')"
   ]
  },
  {
   "cell_type": "markdown",
   "metadata": {
    "id": "nqsgbYLyFaz6",
    "tags": []
   },
   "source": [
    "# Read Ncar data"
   ]
  },
  {
   "cell_type": "code",
   "execution_count": null,
   "metadata": {},
   "outputs": [],
   "source": [
    "path_NCAR  ='/media/vikram/subimal/Raw_Data/NCAR_DATA/'"
   ]
  },
  {
   "cell_type": "code",
   "execution_count": null,
   "metadata": {
    "colab": {
     "background_save": true,
     "base_uri": "https://localhost:8080/"
    },
    "id": "n7cwQW2FVc2O",
    "outputId": "e3fc322f-8130-4ac1-8b2b-df0462891d22"
   },
   "outputs": [],
   "source": [
    "# 'omega.sig995'  ,'omega' ,'Omega'  , 'uwnd', 'uwnd', 'Wind/Levels', 'dswrf.sfc.gauss', 'dswrf', 'Solar radiation'\n",
    "var_names=['prate.sfc.gauss','omega','skt.sfc.gauss','shtfl.sfc.gauss','shum.2m.gauss','air.sig995','lhtfl.sfc.gauss','pres.sfc']\n",
    "var_nc_names=['prate','omega','skt','shtfl','shum','air','lhtfl','pres']\n",
    "Folder_names=['Precipitation','Omega','Temperature/Skin','Sensible Heat Flux','Humidity','Temperature/Surface','Latent Heat Flux','Pressure']\n",
    "\n",
    "st=1948\n",
    "en=2005\n",
    "\n",
    "#WPAC\n",
    "delo=1\n",
    "data_bounds_atl=[360-55+delo, 25, 360-35-delo, 5]\n",
    "data_bounds_wpac=[130+delo, 5, 150-delo, -5]\n",
    "data_bounds_cpac=[360-150+delo, 5, 360-120-delo, -5]\n",
    "data_bounds_epac=[360-100+delo, 5, 360-80-delo, -5]\n",
    "\n",
    "data_bounds=data_bounds_wpac\n",
    "\n",
    "var_iters=[0,5,7]\n",
    "\n",
    "iter=2\n",
    "var_iter=var_iters[iter]\n",
    "var_name=(var_names[var_iter])\n",
    "Folder_name=(Folder_names[var_iter])\n",
    "var_nc_name=(var_nc_names[var_iter])\n",
    "print(var_name,Folder_name,var_nc_name)\n",
    "path =path_NCAR + Folder_name+'/'+var_name+'.'\n",
    "psl_ncar_WPAC,lat_obs_WPAC,lon_obs_WPAC=uu.extract_ncar(st,en,var_nc_name,path,data_bounds)\n",
    "psl_ncar_WPAC=psl_ncar_WPAC[:,::-1,:]\n",
    "lat_obs_WPAC=lat_obs_WPAC[::-1]\n",
    "\n",
    "map_bounds=[0 ,60,360,-60]#[50 , 50, 110, 0] #ltrb\n",
    "mp_spacing=10\n",
    "uu.map_plot_cyl(psl_ncar_WPAC[200,:,:],lat_obs_WPAC,lon_obs_WPAC,map_bounds,mp_spacing=30)\n",
    "\n",
    "# CPAC\n",
    "data_bounds=data_bounds_cpac\n",
    "\n",
    "data_out=np.zeros((4,pd.date_range(start='01/01/'+str(st), end='12/31/'+str(en)).shape[0]))\n",
    "iter=1\n",
    "var_iter=var_iters[iter]\n",
    "var_name=(var_names[var_iter])\n",
    "Folder_name=(Folder_names[var_iter])\n",
    "var_nc_name=(var_nc_names[var_iter])\n",
    "print(var_name,Folder_name,var_nc_name)\n",
    "path = path_NCAR + Folder_name+'/'+var_name+'.'\n",
    "tas_ncar_CPAC,lat_obs_CPAC,lon_obs_CPAC=uu.extract_ncar(st,en,var_nc_name,path,data_bounds)\n",
    "tas_ncar_CPAC=tas_ncar_CPAC[:,::-1,:]\n",
    "lat_obs_CPAC=lat_obs_CPAC[::-1]\n",
    "\n",
    "map_bounds=[0 ,60,360,-60]\n",
    "mp_spacing=30\n",
    "uu.map_plot_cyl(tas_ncar_CPAC[200,:,:],lat_obs_CPAC,lon_obs_CPAC,map_bounds,mp_spacing=mp_spacing)\n",
    "\n",
    "# EPAC\n",
    "data_bounds=data_bounds_epac\n",
    "data_out=np.zeros((4,pd.date_range(start='01/01/'+str(st), end='12/31/'+str(en)).shape[0]))\n",
    "var_iters=[0,5,7]\n",
    "iter=1\n",
    "var_iter=var_iters[iter]\n",
    "var_name=(var_names[var_iter])\n",
    "Folder_name=(Folder_names[var_iter])\n",
    "var_nc_name=(var_nc_names[var_iter])\n",
    "print(var_name,Folder_name,var_nc_name)\n",
    "path = path_NCAR+ Folder_name+'/'+var_name+'.'\n",
    "tas_ncar_EPAC,lat_obs_EPAC,lon_obs_EPAC=uu.extract_ncar(st,en,var_nc_name,path,data_bounds)\n",
    "tas_ncar_EPAC=tas_ncar_EPAC[:,::-1,:]\n",
    "lat_obs_EPAC=lat_obs_EPAC[::-1]\n",
    "map_bounds=[0 ,60,360,-60]\n",
    "mp_spacing=30\n",
    "uu.map_plot_cyl(tas_ncar_EPAC[200,:,:],lat_obs_EPAC,lon_obs_EPAC,map_bounds,mp_spacing=mp_spacing)\n",
    "\n",
    "\n",
    "# _ATL\n",
    "data_bounds=data_bounds_atl\n",
    "data_out=np.zeros((4,pd.date_range(start='01/01/'+str(st), end='12/31/'+str(en)).shape[0]))\n",
    "var_iters=[0,5,7]\n",
    "iter=1\n",
    "\n",
    "var_iter=var_iters[iter]\n",
    "var_name=(var_names[var_iter])\n",
    "Folder_name=(Folder_names[var_iter])\n",
    "var_nc_name=(var_nc_names[var_iter])\n",
    "print(var_name,Folder_name,var_nc_name)\n",
    "path = path_NCAR+ Folder_name+'/'+var_name+'.'\n",
    "tas_ncar_ATL,lat_obs_ATL,lon_obs_ATL=uu.extract_ncar(st,en,var_nc_name,path,data_bounds)\n",
    "tas_ncar_ATL=tas_ncar_ATL[:,::-1,:]\n",
    "lat_obs_ATL=lat_obs_ATL[::-1]\n",
    "map_bounds=[0 ,60,360,-60]\n",
    "mp_spacing=30\n",
    "uu.map_plot_cyl(tas_ncar_ATL[200,:,:],lat_obs_ATL,lon_obs_ATL,map_bounds,mp_spacing=mp_spacing)\n",
    "\n"
   ]
  },
  {
   "cell_type": "code",
   "execution_count": null,
   "metadata": {
    "colab": {
     "background_save": true
    },
    "id": "FYuwef0PaQyg",
    "outputId": "a90a4cca-8aa7-4609-de02-532c61cf057a"
   },
   "outputs": [],
   "source": [
    "\n",
    "psl_ncar_WPAC=uu.daily_to_monthly_sts(np.nanmean(psl_ncar_WPAC,axis=(1,2))[:,np.newaxis,np.newaxis],st,en,method='MEAN').flatten()\n",
    "tas_ncar_CPAC=uu.daily_to_monthly_sts(np.nanmean(tas_ncar_CPAC,axis=(1,2))[:,np.newaxis,np.newaxis],st,en,method='MEAN').flatten()\n",
    "tas_ncar_EPAC=uu.daily_to_monthly_sts(np.nanmean(tas_ncar_EPAC,axis=(1,2))[:,np.newaxis,np.newaxis],st,en,method='MEAN').flatten()\n",
    "tas_ncar_ATL=uu.daily_to_monthly_sts(np.nanmean(tas_ncar_ATL,axis=(1,2))[:,np.newaxis,np.newaxis],st,en,method='MEAN').flatten()\n"
   ]
  },
  {
   "cell_type": "code",
   "execution_count": null,
   "metadata": {
    "colab": {
     "background_save": true
    },
    "id": "UiihZc5wZQDD",
    "outputId": "02fc893c-3fe8-4f2e-9048-455e207304a0"
   },
   "outputs": [],
   "source": [
    "plt.plot(psl_ncar_WPAC/1000+200)\n",
    "plt.plot(tas_ncar_CPAC)\n",
    "plt.plot(tas_ncar_EPAC)\n",
    "plt.plot(tas_ncar_ATL)"
   ]
  },
  {
   "cell_type": "code",
   "execution_count": null,
   "metadata": {
    "colab": {
     "background_save": true
    },
    "id": "8w3QWxjipHSo",
    "outputId": "f85bbc92-0bdb-43fa-9bdf-36d90945de75"
   },
   "outputs": [],
   "source": [
    "apsl_ncar_WPAC=anom_mon(psl_ncar_WPAC)\n",
    "adata_ncar_CPAC=anom_mon(tas_ncar_CPAC)\n",
    "adata_ncar_EPAC=anom_mon(tas_ncar_EPAC)\n",
    "adata_ncar_ATL=anom_mon(tas_ncar_ATL)"
   ]
  },
  {
   "cell_type": "code",
   "execution_count": null,
   "metadata": {
    "colab": {
     "background_save": true
    },
    "id": "zIk9P1impsVa",
    "outputId": "e8b2d66f-41de-4280-883b-8745b80e7753"
   },
   "outputs": [],
   "source": [
    "plt.plot(apsl_ncar_WPAC/100)\n",
    "plt.plot(adata_ncar_CPAC)\n",
    "plt.plot(adata_ncar_EPAC)\n",
    "plt.plot(adata_ncar_ATL)\n"
   ]
  },
  {
   "cell_type": "markdown",
   "metadata": {
    "id": "lyz7VtSLEZSV",
    "jp-MarkdownHeadingCollapsed": true,
    "tags": []
   },
   "source": [
    "# Gcm init"
   ]
  },
  {
   "cell_type": "code",
   "execution_count": null,
   "metadata": {
    "colab": {
     "background_save": true
    },
    "id": "axtaC5RrEdJR",
    "outputId": "4500b030-4bd8-419f-d9fa-564350ea6ec6"
   },
   "outputs": [],
   "source": [
    "from netCDF4 import Dataset\n",
    "\n",
    "date_ts=pd.date_range(start=str(st)+'-01-01',end=str(en)+'-12-31')\n",
    "print(date_ts[0],date_ts[-1])\n",
    "N=date_ts.shape[0]\n",
    "print(\"N:1948-2005::\",st,en,N,105*(365.25))"
   ]
  },
  {
   "cell_type": "markdown",
   "metadata": {
    "id": "0_Bln1Nbocdh",
    "jp-MarkdownHeadingCollapsed": true,
    "tags": []
   },
   "source": [
    "# read GCM MIROC_ESM\n"
   ]
  },
  {
   "cell_type": "code",
   "execution_count": null,
   "metadata": {
    "colab": {
     "background_save": true
    },
    "id": "ekAXtL3wcG5u",
    "outputId": "b5ee5056-b711-47b3-a388-1b30b3c41df1"
   },
   "outputs": [],
   "source": [
    "# reading file(s)\n",
    "path_gcm = '/media/vikram/subimal/Raw_Data/GCM_BCSD_DATA/'\n",
    "filename = path_gcm +'/MIROC_ESM/psl_day_MIROC-ESM_historical_r1i1p1_18500101-20051231.nc'\n",
    "fh = Dataset(filename, mode='r')\n",
    "lons = fh.variables['lon'][:]\n",
    "lats = fh.variables['lat'][:]\n",
    "\n",
    "# cropping years before 1948\n",
    "st_gcm=1850\n",
    "dt_data_st=np.datetime64(str(st_gcm)+'-01-01')\n",
    "dt_st=np.datetime64(str(st)+'-01-01')\n",
    "index_of_st=((dt_st- dt_data_st) / np.timedelta64(1, 'D')).astype(int)\n",
    "\n",
    "psl_gcm_daily = fh.variables['psl'][index_of_st:,:,:].data\n",
    "psl_gcm_monthly=uu.daily_to_monthly_sts(psl_gcm_daily,st,en,method='MEAN')\n",
    "\n"
   ]
  },
  {
   "cell_type": "code",
   "execution_count": null,
   "metadata": {
    "colab": {
     "background_save": true
    },
    "id": "VInJ4vbXpfCH",
    "outputId": "f539934d-b0a8-49e7-9640-b3f18ba2047f"
   },
   "outputs": [],
   "source": [
    "# cropping the study area out WPAC\n",
    "data_bounds=data_bounds_wpac\n",
    "\n",
    "l_lat,u_lat,lat_gcm_WPAC=uu.find_bounds(lats,data_bounds[3],data_bounds[1])\n",
    "l_lon,u_lon,lon_gcm_WPAC=uu.find_bounds(lons,data_bounds[0],data_bounds[2])\n",
    "psl_gcm_WPAC=psl_gcm_monthly[:,l_lat:u_lat+1,l_lon:u_lon+1]\n",
    "\n",
    "map_bounds=[0 ,60,360,-60]#[50 , 50, 110, 0] #ltrb\n",
    "mp_spacing=10\n",
    "uu.map_plot_cyl(psl_gcm_WPAC[200,:,:],lat_gcm_WPAC,lon_gcm_WPAC,map_bounds,mp_spacing=30)\n"
   ]
  },
  {
   "cell_type": "code",
   "execution_count": null,
   "metadata": {
    "colab": {
     "background_save": true
    },
    "id": "8tlOsVypBxhc",
    "outputId": "32a6fa77-3a67-4c70-e689-754b27229ea8"
   },
   "outputs": [],
   "source": [
    "# reading file(s)\n",
    "path_gcm = '/media/vikram/subimal/Raw_Data/GCM_BCSD_DATA/'\n",
    "gcm_name='MIROC_ESM'\n",
    "filename = path_gcm+ gcm_name+'/tas_day_MIROC-ESM_historical_r1i1p1_18500101-20051231.nc'\n",
    "fh = Dataset(filename, mode='r')\n",
    "lons = fh.variables['lon'][:]\n",
    "lats = fh.variables['lat'][:]\n",
    "\n",
    "# cropping years before 1948\n",
    "st_gcm=1850\n",
    "dt_data_st=np.datetime64(str(st_gcm)+'-01-01')\n",
    "dt_st=np.datetime64(str(st)+'-01-01')\n",
    "index_of_st=((dt_st- dt_data_st) / np.timedelta64(1, 'D')).astype(int)\n",
    "\n",
    "tas_gcm_daily = fh.variables['tas'][index_of_st:,:,:].data\n",
    "tas_gcm_monthly=uu.daily_to_monthly_sts(tas_gcm_daily,st,en,method='MEAN')\n",
    "\n"
   ]
  },
  {
   "cell_type": "code",
   "execution_count": null,
   "metadata": {
    "colab": {
     "background_save": true
    },
    "id": "xD9aHg9cqk1m",
    "outputId": "89438434-4e97-46a4-bb9e-10be5d7b9931"
   },
   "outputs": [],
   "source": [
    "data_bounds=data_bounds_cpac\n",
    "l_lat,u_lat,lat_gcm_CPAC=uu.find_bounds(lats,data_bounds[3],data_bounds[1])\n",
    "l_lon,u_lon,lon_gcm_CPAC=uu.find_bounds(lons,data_bounds[0],data_bounds[2])\n",
    "tas_gcm_CPAC=tas_gcm_monthly[:,l_lat:u_lat+1,l_lon:u_lon+1]\n",
    "\n",
    "map_bounds=[0 ,60,360,-60]#[50 , 50, 110, 0] #ltrb\n",
    "mp_spacing=10\n",
    "uu.map_plot_cyl(tas_gcm_CPAC[200,:,:],lat_gcm_CPAC,lon_gcm_CPAC,map_bounds,mp_spacing=30)\n"
   ]
  },
  {
   "cell_type": "code",
   "execution_count": null,
   "metadata": {
    "colab": {
     "background_save": true
    },
    "id": "XsyG3ILpqoAb",
    "outputId": "5ac6512d-413c-40a9-d1a5-b86241e231df"
   },
   "outputs": [],
   "source": [
    "data_bounds=data_bounds_epac\n",
    "l_lat,u_lat,lat_gcm_EPAC=uu.find_bounds(lats,data_bounds[3],data_bounds[1])\n",
    "l_lon,u_lon,lon_gcm_EPAC=uu.find_bounds(lons,data_bounds[0],data_bounds[2])\n",
    "tas_gcm_EPAC=tas_gcm_monthly[:,l_lat:u_lat+1,l_lon:u_lon+1]\n",
    "\n",
    "map_bounds=[0 ,60,360,-60]#[50 , 50, 110, 0] #ltrb\n",
    "mp_spacing=10\n",
    "uu.map_plot_cyl(tas_gcm_EPAC[200,:,:],lat_gcm_EPAC,lon_gcm_EPAC,map_bounds,mp_spacing=30)\n"
   ]
  },
  {
   "cell_type": "code",
   "execution_count": null,
   "metadata": {
    "colab": {
     "background_save": true
    },
    "id": "ejn1zpS9qoGv",
    "outputId": "7ad08956-880c-40b0-ebbc-3c987a0032b6"
   },
   "outputs": [],
   "source": [
    "data_bounds=data_bounds_atl\n",
    "l_lat,u_lat,lat_gcm_ATL=uu.find_bounds(lats,data_bounds[3],data_bounds[1])\n",
    "l_lon,u_lon,lon_gcm_ATL=uu.find_bounds(lons,data_bounds[0],data_bounds[2])\n",
    "tas_gcm_ATL=tas_gcm_monthly[:,l_lat:u_lat+1,l_lon:u_lon+1]\n",
    "\n",
    "map_bounds=[0 ,60,360,-60]#[50 , 50, 110, 0] #ltrb\n",
    "mp_spacing=10\n",
    "uu.map_plot_cyl(tas_gcm_ATL[200,:,:],lat_gcm_ATL,lon_gcm_ATL,map_bounds,mp_spacing=30)\n"
   ]
  },
  {
   "cell_type": "code",
   "execution_count": null,
   "metadata": {
    "colab": {
     "background_save": true
    },
    "id": "MjQeVzkCsmOc"
   },
   "outputs": [],
   "source": [
    "\n",
    "psl_gcm_01_WPAC=np.mean(psl_gcm_WPAC,axis=(1,2))\n",
    "tas_gcm_01_CPAC=np.mean(tas_gcm_CPAC,axis=(1,2))\n",
    "tas_gcm_01_EPAC=np.mean(tas_gcm_EPAC,axis=(1,2))\n",
    "tas_gcm_01_ATL=np.mean(tas_gcm_ATL,axis=(1,2))\n",
    "\n",
    "#"
   ]
  },
  {
   "cell_type": "code",
   "execution_count": null,
   "metadata": {
    "colab": {
     "background_save": true
    },
    "id": "Jdyq4NK3uj0D",
    "outputId": "f0492e76-be0a-4ccc-81f4-a02274504f8f"
   },
   "outputs": [],
   "source": [
    "apsl_gcm_01_WPAC=anom_mon(psl_gcm_01_WPAC)\n",
    "atas_gcm_01_CPAC=anom_mon(tas_gcm_01_CPAC)\n",
    "atas_gcm_01_EPAC=anom_mon(tas_gcm_01_EPAC)\n",
    "atas_gcm_01_ATL=anom_mon(tas_gcm_01_ATL)"
   ]
  },
  {
   "cell_type": "code",
   "execution_count": null,
   "metadata": {
    "colab": {
     "background_save": true
    },
    "id": "Ww2pF8X4u3hp",
    "outputId": "f01a12fc-6c6e-42bd-d580-1036f101c1f2"
   },
   "outputs": [],
   "source": [
    "plt.plot(apsl_gcm_01_WPAC/100+2)\n",
    "plt.plot(atas_gcm_01_CPAC+4)\n",
    "plt.plot(atas_gcm_01_EPAC+6)\n",
    "plt.plot(atas_gcm_01_ATL+8)"
   ]
  },
  {
   "cell_type": "markdown",
   "metadata": {
    "id": "yBXh4xqlxnRB",
    "jp-MarkdownHeadingCollapsed": true,
    "tags": []
   },
   "source": [
    "# read GCM CanESM2\n"
   ]
  },
  {
   "cell_type": "code",
   "execution_count": null,
   "metadata": {
    "colab": {
     "background_save": true
    },
    "id": "3HPEozeBxnRH",
    "outputId": "6d93e3e4-9a6c-4faa-b66b-6ab41cccf96c"
   },
   "outputs": [],
   "source": [
    "path_gcm = '/media/vikram/subimal/Raw_Data/GCM_BCSD_DATA/CanESM2/'\n",
    "filename =path_gcm +'psl_day_CanESM2_historical_r1i1p1_18500101-20051231.nc'\n",
    "fh = Dataset(filename, mode='r')\n",
    "lons = fh.variables['lon'][:]\n",
    "lats = fh.variables['lat'][:]\n",
    "\n",
    "# cropping years before 1948\n",
    "st_gcm=1850\n",
    "dt_data_st=np.datetime64(str(st_gcm)+'-01-01')\n",
    "dt_st=np.datetime64(str(st)+'-01-01')\n",
    "index_of_st=((dt_st- dt_data_st) / np.timedelta64(1, 'D')).astype(int)\n",
    "\n",
    "psl_gcm_daily = fh.variables['psl'][index_of_st:,:,:].data\n",
    "psl_gcm_monthly=uu.daily_to_monthly_sts(psl_gcm_daily,st,en,method='MEAN')\n"
   ]
  },
  {
   "cell_type": "code",
   "execution_count": null,
   "metadata": {
    "colab": {
     "background_save": true
    },
    "id": "pXVHJNG9xnRI",
    "outputId": "b59e87af-d9ef-4477-f83b-f82f7afb40e0"
   },
   "outputs": [],
   "source": [
    "# cropping the study 50area out WPAC\n",
    "data_bounds=data_bounds_wpac\n",
    "\n",
    "l_lat,u_lat,lat_gcm_WPAC=uu.find_bounds(lats,data_bounds[3],data_bounds[1])\n",
    "l_lon,u_lon,lon_gcm_WPAC=uu.find_bounds(lons,data_bounds[0],data_bounds[2])\n",
    "psl_gcm_WPAC=psl_gcm_monthly[:,l_lat:u_lat+1,l_lon:u_lon+1]\n",
    "\n",
    "map_bounds=[0 ,60,360,-60]#[50 , 50, 110, 0] #ltrb\n",
    "mp_spacing=10\n",
    "uu.map_plot_cyl(psl_gcm_WPAC[200,:,:],lat_gcm_WPAC,lon_gcm_WPAC,map_bounds,mp_spacing=30)\n"
   ]
  },
  {
   "cell_type": "code",
   "execution_count": null,
   "metadata": {
    "colab": {
     "background_save": true
    },
    "id": "sHBhYqCqxnRJ",
    "outputId": "7683f009-43aa-4597-9231-a04163464890"
   },
   "outputs": [],
   "source": [
    "\n",
    "path_gcm = '/media/vikram/subimal/Raw_Data/GCM_BCSD_DATA/CanESM2/'\n",
    "filename =path_gcm +'tas_day_CanESM2_historical_r1i1p1_18500101-20051231.nc'\n",
    "fh = Dataset(filename, mode='r')\n",
    "lons = fh.variables['lon'][:]\n",
    "lats = fh.variables['lat'][:]\n",
    "\n",
    "# cropping years before 1948\n",
    "st_gcm=1850\n",
    "dt_data_st=np.datetime64(str(st_gcm)+'-01-01')\n",
    "dt_st=np.datetime64(str(st)+'-01-01')\n",
    "index_of_st=((dt_st- dt_data_st) / np.timedelta64(1, 'D')).astype(int)\n",
    "\n",
    "tas_gcm_daily = fh.variables['tas'][index_of_st:,:,:].data\n",
    "tas_gcm_monthly=uu.daily_to_monthly_sts(tas_gcm_daily,st,en,method='MEAN')\n",
    "\n"
   ]
  },
  {
   "cell_type": "code",
   "execution_count": null,
   "metadata": {
    "colab": {
     "background_save": true
    },
    "id": "YDb-sy4ixnRJ",
    "outputId": "7aa5474b-89cb-4014-e0db-86db5d7514ec"
   },
   "outputs": [],
   "source": [
    "data_bounds=data_bounds_cpac\n",
    "l_lat,u_lat,lat_gcm_CPAC=uu.find_bounds(lats,data_bounds[3],data_bounds[1])\n",
    "l_lon,u_lon,lon_gcm_CPAC=uu.find_bounds(lons,data_bounds[0],data_bounds[2])\n",
    "tas_gcm_CPAC=tas_gcm_monthly[:,l_lat:u_lat+1,l_lon:u_lon+1]\n",
    "\n",
    "map_bounds=[0 ,60,360,-60]#[50 , 50, 110, 0] #ltrb\n",
    "mp_spacing=10\n",
    "uu.map_plot_cyl(tas_gcm_CPAC[200,:,:],lat_gcm_CPAC,lon_gcm_CPAC,map_bounds,mp_spacing=30)\n"
   ]
  },
  {
   "cell_type": "code",
   "execution_count": null,
   "metadata": {
    "colab": {
     "background_save": true
    },
    "id": "4ePOKBiQbOQP"
   },
   "outputs": [],
   "source": []
  },
  {
   "cell_type": "code",
   "execution_count": null,
   "metadata": {
    "colab": {
     "background_save": true
    },
    "id": "7KN0MKo6xnRK",
    "outputId": "3ec019fb-6bd0-4971-fca2-10e31305a502"
   },
   "outputs": [],
   "source": [
    "data_bounds=data_bounds_epac\n",
    "l_lat,u_lat,lat_gcm_EPAC=uu.find_bounds(lats,data_bounds[3],data_bounds[1])\n",
    "l_lon,u_lon,lon_gcm_EPAC=uu.find_bounds(lons,data_bounds[0],data_bounds[2])\n",
    "tas_gcm_EPAC=tas_gcm_monthly[:,l_lat:u_lat+1,l_lon:u_lon+1]\n",
    "\n",
    "map_bounds=[0 ,60,360,-60]#[50 , 50, 110, 0] #ltrb\n",
    "mp_spacing=10\n",
    "uu.map_plot_cyl(tas_gcm_EPAC[200,:,:],lat_gcm_EPAC,lon_gcm_EPAC,map_bounds,mp_spacing=30)\n"
   ]
  },
  {
   "cell_type": "code",
   "execution_count": null,
   "metadata": {
    "colab": {
     "background_save": true
    },
    "id": "I3jHXMjbxnRK",
    "outputId": "96f08d6f-3304-4c53-cfa1-09b4200d8791"
   },
   "outputs": [],
   "source": [
    "data_bounds=data_bounds_atl\n",
    "l_lat,u_lat,lat_gcm_ATL=uu.find_bounds(lats,data_bounds[3],data_bounds[1])\n",
    "l_lon,u_lon,lon_gcm_ATL=uu.find_bounds(lons,data_bounds[0],data_bounds[2])\n",
    "tas_gcm_ATL=tas_gcm_monthly[:,l_lat:u_lat+1,l_lon:u_lon+1]\n",
    "\n",
    "map_bounds=[0 ,60,360,-60]#[50 , 50, 110, 0] #ltrb\n",
    "mp_spacing=10\n",
    "uu.map_plot_cyl(tas_gcm_ATL[200,:,:],lat_gcm_ATL,lon_gcm_ATL,map_bounds,mp_spacing=30)\n"
   ]
  },
  {
   "cell_type": "code",
   "execution_count": null,
   "metadata": {
    "colab": {
     "background_save": true
    },
    "id": "h5r8lZmw7CX_"
   },
   "outputs": [],
   "source": [
    "\n",
    "psl_gcm_02_WPAC=np.mean(psl_gcm_WPAC,axis=(1,2))\n",
    "tas_gcm_02_CPAC=np.mean(tas_gcm_CPAC,axis=(1,2))\n",
    "tas_gcm_02_EPAC=np.mean(tas_gcm_EPAC,axis=(1,2))\n",
    "tas_gcm_02_ATL=np.mean(tas_gcm_ATL,axis=(1,2))\n",
    "\n",
    "#"
   ]
  },
  {
   "cell_type": "code",
   "execution_count": null,
   "metadata": {
    "colab": {
     "background_save": true
    },
    "id": "QA2qa6Tu7CYZ",
    "outputId": "27c343f0-6667-4485-b86e-603cc64cef69"
   },
   "outputs": [],
   "source": [
    "apsl_gcm_02_WPAC=anom_mon(psl_gcm_02_WPAC)\n",
    "atas_gcm_02_CPAC=anom_mon(tas_gcm_02_CPAC)\n",
    "atas_gcm_02_EPAC=anom_mon(tas_gcm_02_EPAC)\n",
    "atas_gcm_02_ATL=anom_mon(tas_gcm_02_ATL)"
   ]
  },
  {
   "cell_type": "code",
   "execution_count": null,
   "metadata": {
    "colab": {
     "background_save": true
    },
    "id": "abp9KU-m7CYa",
    "outputId": "40e4311f-058f-4215-8c93-8f4f4ee5f878"
   },
   "outputs": [],
   "source": [
    "plt.plot(apsl_gcm_02_WPAC/100+2)\n",
    "plt.plot(atas_gcm_02_CPAC+4)\n",
    "plt.plot(atas_gcm_02_EPAC+6)\n",
    "plt.plot(atas_gcm_02_ATL+8)"
   ]
  },
  {
   "cell_type": "markdown",
   "metadata": {
    "id": "gt5LBCQJxpyU",
    "jp-MarkdownHeadingCollapsed": true,
    "tags": []
   },
   "source": [
    "# read GCM HadGEM_AO\n"
   ]
  },
  {
   "cell_type": "code",
   "execution_count": null,
   "metadata": {
    "colab": {
     "background_save": true
    },
    "id": "b06_b3PbvXnO",
    "outputId": "36e2680e-2721-46e8-f9a8-7bb4a54483f4"
   },
   "outputs": [],
   "source": [
    "gcm_name='HadGEM_AO'\n",
    "path_gcm = '/media/vikram/subimal/Raw_Data/GCM_BCSD_DATA/HadGEM2_AO/'\n",
    "            # /media/vikram/subimal/Raw_Data/GCM_BCSD_DATA/HadGEM2_AO/\n",
    "            #              psl_day_HadGEM2-AO_historical_r1i1p1_18600101-20051230-012.nc\n",
    "filename = path_gcm  + '/psl_day_HadGEM2-AO_historical_r1i1p1_18600101-20051230-012.nc'\n",
    "#splitting into training and testing section\n",
    "\n",
    "fh = Dataset(filename, mode='r')\n",
    "lons = fh.variables['lon'][:]\n",
    "lats = fh.variables['lat'][:]\n",
    "\n",
    "# cropping years before 1901\n",
    "st_gcm=1860\n",
    "dt_st=1948\n",
    "index_of_st=(dt_st- st_gcm) *360\n",
    "\n",
    "psl_gcm_daily=fh.variables['psl'][index_of_st:,:,:].data\n",
    "print(psl_gcm_daily.shape[0],\"==\",360*58)\n",
    "\n",
    "N1,N2=psl_gcm_daily.shape[1],psl_gcm_daily.shape[2]\n",
    "\n",
    "psl_gcm_daily=psl_gcm_daily.reshape([30,12,58,N1,N2],order='F')\n",
    "print(psl_gcm_daily.shape)\n",
    "\n",
    "psl_gcm_daily=np.mean(psl_gcm_daily,axis=0)\n",
    "print(psl_gcm_daily.shape)\n",
    "\n",
    "psl_gcm_monthly=psl_gcm_daily.reshape([12*58,N1,N2],order='F')\n",
    "print(psl_gcm_monthly.shape)\n",
    "\n"
   ]
  },
  {
   "cell_type": "code",
   "execution_count": null,
   "metadata": {
    "colab": {
     "background_save": true
    },
    "id": "vOdRNeIPxpyV",
    "outputId": "14619d74-20bd-444f-ddb0-3eb17aa82fb3"
   },
   "outputs": [],
   "source": [
    "# cropping the study area out WPAC\n",
    "data_bounds=data_bounds_wpac\n",
    "\n",
    "l_lat,u_lat,lat_gcm_WPAC=uu.find_bounds(lats,data_bounds[3],data_bounds[1])\n",
    "l_lon,u_lon,lon_gcm_WPAC=uu.find_bounds(lons,data_bounds[0],data_bounds[2])\n",
    "psl_gcm_WPAC=psl_gcm_monthly[:,l_lat:u_lat+1,l_lon:u_lon+1]\n",
    "\n",
    "map_bounds=[0 ,60,360,-60]#[50 , 50, 110, 0] #ltrb\n",
    "mp_spacing=10\n",
    "uu.map_plot_cyl(psl_gcm_WPAC[200,:,:],lat_gcm_WPAC,lon_gcm_WPAC,map_bounds,mp_spacing=30)\n"
   ]
  },
  {
   "cell_type": "code",
   "execution_count": null,
   "metadata": {
    "colab": {
     "base_uri": "https://localhost:8080/"
    },
    "executionInfo": {
     "elapsed": 1941,
     "status": "ok",
     "timestamp": 1640328545731,
     "user": {
      "displayName": "Vikram Singh Chandel",
      "photoUrl": "https://lh3.googleusercontent.com/a/default-user=s64",
      "userId": "07964427013125611178"
     },
     "user_tz": -330
    },
    "id": "z2-YoIEh-0Wg",
    "outputId": "42b94dd1-88e9-40c3-e5f7-1eeb061254bf"
   },
   "outputs": [],
   "source": [
    "gcm_name='HadGEM_AO'\n",
    "path_gcm = '/media/vikram/subimal/Raw_Data/GCM_BCSD_DATA/HadGEM2_AO/'\n",
    "\n",
    "filename = path_gcm + '/tas_day_HadGEM2-AO_historical_r1i1p1_18600101-20051230.nc'\n",
    "#splitting into training and testing section\n",
    "\n",
    "fh = Dataset(filename, mode='r')\n",
    "lons = fh.variables['lon'][:]\n",
    "lats = fh.variables['lat'][:]\n",
    "\n",
    "# cropping years before 1901\n",
    "st_gcm=1860\n",
    "dt_st=1948\n",
    "index_of_st=(dt_st- st_gcm) *360\n",
    "\n",
    "tas_gcm_daily=fh.variables['tas'][index_of_st:,:,:].data\n",
    "print(tas_gcm_daily.shape[0],\"==\",360*58)\n",
    "\n",
    "N1,N2=tas_gcm_daily.shape[1],tas_gcm_daily.shape[2]\n",
    "\n",
    "tas_gcm_daily=tas_gcm_daily.reshape([30,12,58,N1,N2],order='F')\n",
    "print(tas_gcm_daily.shape)\n",
    "\n",
    "tas_gcm_daily=np.mean(tas_gcm_daily,axis=0)\n",
    "print(tas_gcm_daily.shape)\n",
    "\n",
    "tas_gcm_monthly=tas_gcm_daily.reshape([12*58,N1,N2],order='F')\n",
    "print(tas_gcm_monthly.shape)\n",
    "\n"
   ]
  },
  {
   "cell_type": "code",
   "execution_count": null,
   "metadata": {
    "colab": {
     "base_uri": "https://localhost:8080/",
     "height": 222
    },
    "executionInfo": {
     "elapsed": 0,
     "status": "ok",
     "timestamp": 1640328545953,
     "user": {
      "displayName": "Vikram Singh Chandel",
      "photoUrl": "https://lh3.googleusercontent.com/a/default-user=s64",
      "userId": "07964427013125611178"
     },
     "user_tz": -330
    },
    "id": "LSfUYos9_tuU",
    "outputId": "00b272cc-6d02-4e37-9ed9-81a46d117200"
   },
   "outputs": [],
   "source": [
    "data_bounds=data_bounds_cpac\n",
    "l_lat,u_lat,lat_gcm_CPAC=uu.find_bounds(lats,data_bounds[3],data_bounds[1])\n",
    "l_lon,u_lon,lon_gcm_CPAC=uu.find_bounds(lons,data_bounds[0],data_bounds[2])\n",
    "tas_gcm_CPAC=tas_gcm_monthly[:,l_lat:u_lat+1,l_lon:u_lon+1]\n",
    "\n",
    "map_bounds=[0 ,60,360,-60]#[50 , 50, 110, 0] #ltrb\n",
    "mp_spacing=10\n",
    "uu.map_plot_cyl(tas_gcm_CPAC[200,:,:],lat_gcm_CPAC,lon_gcm_CPAC,map_bounds,mp_spacing=30)\n"
   ]
  },
  {
   "cell_type": "code",
   "execution_count": null,
   "metadata": {
    "colab": {
     "base_uri": "https://localhost:8080/",
     "height": 222
    },
    "executionInfo": {
     "elapsed": 0,
     "status": "ok",
     "timestamp": 1640328545966,
     "user": {
      "displayName": "Vikram Singh Chandel",
      "photoUrl": "https://lh3.googleusercontent.com/a/default-user=s64",
      "userId": "07964427013125611178"
     },
     "user_tz": -330
    },
    "id": "8noXFa1L_tuv",
    "outputId": "815155b7-4b73-4b7f-a03e-0549e7a9a1b6"
   },
   "outputs": [],
   "source": [
    "data_bounds=data_bounds_epac\n",
    "l_lat,u_lat,lat_gcm_EPAC=uu.find_bounds(lats,data_bounds[3],data_bounds[1])\n",
    "l_lon,u_lon,lon_gcm_EPAC=uu.find_bounds(lons,data_bounds[0],data_bounds[2])\n",
    "tas_gcm_EPAC=tas_gcm_monthly[:,l_lat:u_lat+1,l_lon:u_lon+1]\n",
    "\n",
    "map_bounds=[0 ,60,360,-60]#[50 , 50, 110, 0] #ltrb\n",
    "mp_spacing=10\n",
    "uu.map_plot_cyl(tas_gcm_EPAC[200,:,:],lat_gcm_EPAC,lon_gcm_EPAC,map_bounds,mp_spacing=30)\n"
   ]
  },
  {
   "cell_type": "code",
   "execution_count": null,
   "metadata": {
    "colab": {
     "base_uri": "https://localhost:8080/",
     "height": 220
    },
    "executionInfo": {
     "elapsed": 0,
     "status": "ok",
     "timestamp": 1640328545979,
     "user": {
      "displayName": "Vikram Singh Chandel",
      "photoUrl": "https://lh3.googleusercontent.com/a/default-user=s64",
      "userId": "07964427013125611178"
     },
     "user_tz": -330
    },
    "id": "MVXnVN5e_tuw",
    "outputId": "4daacc86-d073-4461-eb39-8b350e7e475e"
   },
   "outputs": [],
   "source": [
    "data_bounds=data_bounds_atl\n",
    "l_lat,u_lat,lat_gcm_ATL=uu.find_bounds(lats,data_bounds[3],data_bounds[1])\n",
    "l_lon,u_lon,lon_gcm_ATL=uu.find_bounds(lons,data_bounds[0],data_bounds[2])\n",
    "tas_gcm_ATL=tas_gcm_monthly[:,l_lat:u_lat+1,l_lon:u_lon+1]\n",
    "\n",
    "map_bounds=[0 ,60,360,-60]#[50 , 50, 110, 0] #ltrb\n",
    "mp_spacing=10\n",
    "uu.map_plot_cyl(tas_gcm_ATL[200,:,:],lat_gcm_ATL,lon_gcm_ATL,map_bounds,mp_spacing=30)\n"
   ]
  },
  {
   "cell_type": "code",
   "execution_count": null,
   "metadata": {
    "id": "UBN1jog-_tuw"
   },
   "outputs": [],
   "source": [
    "\n",
    "psl_gcm_03_WPAC=np.mean(psl_gcm_WPAC,axis=(1,2))\n",
    "tas_gcm_03_CPAC=np.mean(tas_gcm_CPAC,axis=(1,2))\n",
    "tas_gcm_03_EPAC=np.mean(tas_gcm_EPAC,axis=(1,2))\n",
    "tas_gcm_03_ATL=np.mean(tas_gcm_ATL,axis=(1,2))\n",
    "\n",
    "#"
   ]
  },
  {
   "cell_type": "code",
   "execution_count": null,
   "metadata": {
    "colab": {
     "base_uri": "https://localhost:8080/"
    },
    "executionInfo": {
     "elapsed": 0,
     "status": "ok",
     "timestamp": 1640328545781,
     "user": {
      "displayName": "Vikram Singh Chandel",
      "photoUrl": "https://lh3.googleusercontent.com/a/default-user=s64",
      "userId": "07964427013125611178"
     },
     "user_tz": -330
    },
    "id": "E8g2K09n_tux",
    "outputId": "101a3701-2c06-45cb-dc5a-a6d407dadfaa"
   },
   "outputs": [],
   "source": [
    "apsl_gcm_03_WPAC=anom_mon(psl_gcm_03_WPAC)\n",
    "atas_gcm_03_CPAC=anom_mon(tas_gcm_03_CPAC)\n",
    "atas_gcm_03_EPAC=anom_mon(tas_gcm_03_EPAC)\n",
    "atas_gcm_03_ATL=anom_mon(tas_gcm_03_ATL)"
   ]
  },
  {
   "cell_type": "code",
   "execution_count": null,
   "metadata": {
    "colab": {
     "base_uri": "https://localhost:8080/",
     "height": 282
    },
    "executionInfo": {
     "elapsed": 0,
     "status": "ok",
     "timestamp": 1640328545999,
     "user": {
      "displayName": "Vikram Singh Chandel",
      "photoUrl": "https://lh3.googleusercontent.com/a/default-user=s64",
      "userId": "07964427013125611178"
     },
     "user_tz": -330
    },
    "id": "G9KRPpsJ_tux",
    "outputId": "ca38f614-427f-4922-a519-258c0fefe24f"
   },
   "outputs": [],
   "source": [
    "plt.plot(apsl_gcm_03_WPAC/100+2)\n",
    "plt.plot(atas_gcm_03_CPAC+4)\n",
    "plt.plot(atas_gcm_03_EPAC+6)\n",
    "plt.plot(atas_gcm_03_ATL+8)"
   ]
  },
  {
   "cell_type": "markdown",
   "metadata": {
    "id": "jATLaavjxr0m",
    "jp-MarkdownHeadingCollapsed": true,
    "tags": []
   },
   "source": [
    "# read GFDL_CM3\n"
   ]
  },
  {
   "cell_type": "code",
   "execution_count": null,
   "metadata": {
    "colab": {
     "base_uri": "https://localhost:8080/"
    },
    "executionInfo": {
     "elapsed": 0,
     "status": "ok",
     "timestamp": 1640328545783,
     "user": {
      "displayName": "Vikram Singh Chandel",
      "photoUrl": "https://lh3.googleusercontent.com/a/default-user=s64",
      "userId": "07964427013125611178"
     },
     "user_tz": -330
    },
    "id": "zKQ4rydgdp_o",
    "outputId": "d07e8c68-8383-416a-e688-1332b5439ca8"
   },
   "outputs": [],
   "source": [
    "gcm_name='GFDL_CM3'\n",
    "st_gcm=1945\n",
    "print((st-st_gcm)*365)\n",
    "def get_fname(var,str1,str2):\n",
    "  url='/media/vikram/subimal/Raw_Data/GCM_BCSD_DATA/GFDL_CM3/'+var+'_day_GFDL-CM3_historical_r1i1p1_'+str1+'-'+str2+'.nc'\n",
    "  return url\n",
    "\n",
    "delta=5\n",
    "def get_urls(var):\n",
    "  fname_list=[]\n",
    "  for yeaR in range(st_gcm,2004,delta):\n",
    "    str1=str(yeaR)+'0101'\n",
    "    str2=str(yeaR+delta-1)+'1231'\n",
    "    \n",
    "    fname_list.append(get_fname(var,str1,str2))\n",
    "\n",
    "  str1=str(2005)+'0101'\n",
    "  str2=str(2005)+'1231'\n",
    "  \n",
    "  fname_list.append(get_fname(var,str1,str2))\n",
    "  return fname_list\n",
    "\n",
    "\n",
    "fnames_tas=get_urls('tas')\n",
    "fnames_psl=get_urls('psl')"
   ]
  },
  {
   "cell_type": "code",
   "execution_count": null,
   "metadata": {
    "colab": {
     "base_uri": "https://localhost:8080/"
    },
    "executionInfo": {
     "elapsed": 0,
     "status": "ok",
     "timestamp": 1640328545784,
     "user": {
      "displayName": "Vikram Singh Chandel",
      "photoUrl": "https://lh3.googleusercontent.com/a/default-user=s64",
      "userId": "07964427013125611178"
     },
     "user_tz": -330
    },
    "id": "cT_atyTBB34z",
    "outputId": "9e7a40df-aefe-4b79-f6d5-7128541076e9"
   },
   "outputs": [],
   "source": [
    "fnames_psl"
   ]
  },
  {
   "cell_type": "code",
   "execution_count": null,
   "metadata": {
    "colab": {
     "base_uri": "https://localhost:8080/",
     "height": 282
    },
    "executionInfo": {
     "elapsed": 176578,
     "status": "ok",
     "timestamp": 1640328722306,
     "user": {
      "displayName": "Vikram Singh Chandel",
      "photoUrl": "https://lh3.googleusercontent.com/a/default-user=s64",
      "userId": "07964427013125611178"
     },
     "user_tz": -330
    },
    "id": "GOi3aWCvcJx-",
    "outputId": "ab1a3bf1-2a99-4b94-d2b4-7a2a27877f2b"
   },
   "outputs": [],
   "source": [
    "# reading file(s)\n",
    "filename = fnames_psl[0]\n",
    "fh = Dataset(filename, mode='r')\n",
    "lons = fh.variables['lon'][:]\n",
    "lats = fh.variables['lat'][:]\n",
    "plt.plot(lats)\n",
    "plt.plot(lons)\n",
    "\n",
    "for i in range(len(fnames_psl)):\n",
    "  filename = fnames_psl[i]\n",
    "  fh = Dataset(filename, mode='r')\n",
    "  lons = fh.variables['lon'][:]\n",
    "  lats = fh.variables['lat'][:]\n",
    "  #print(fh)\n",
    "  data = fh.variables['psl'][:].data \n",
    "\n",
    "  if i==0:\n",
    "    # starts at 1948\n",
    "    data_gcm_daily=data[(st-st_gcm)*365:,:,:]\n",
    "  else:\n",
    "    data_gcm_daily=np.concatenate((data_gcm_daily,data),axis=0)\n",
    "\n",
    "data_gcm_daily=uu.add_leap_years_sts(data_gcm_daily,st,en)[0]\n",
    "psl_gcm_monthly=uu.daily_to_monthly_sts(data_gcm_daily,st,en,method='MEAN')\n"
   ]
  },
  {
   "cell_type": "code",
   "execution_count": null,
   "metadata": {
    "id": "JIoLqDJexr0n"
   },
   "outputs": [],
   "source": [
    "# cropping the study area out WPAC\n",
    "data_bounds=data_bounds_wpac\n",
    "l_lat,u_lat,lat_gcm_WPAC=uu.find_bounds(lats,data_bounds[3],data_bounds[1])\n",
    "l_lon,u_lon,lon_gcm_WPAC=uu.find_bounds(lons,data_bounds[0],data_bounds[2])\n",
    "psl_gcm_WPAC=psl_gcm_monthly[:,l_lat:u_lat+1,l_lon:u_lon+1]\n",
    "\n",
    "map_bounds=[0 ,60,360,-60]#[50 , 50, 110, 0] #ltrb\n",
    "mp_spacing=10\n",
    "uu.map_plot_cyl(psl_gcm_WPAC[200,:,:],lat_gcm_WPAC,lon_gcm_WPAC,map_bounds,mp_spacing=30)\n"
   ]
  },
  {
   "cell_type": "code",
   "execution_count": null,
   "metadata": {
    "id": "cOxveH6aCr0Q"
   },
   "outputs": [],
   "source": [
    "# reading file(s)\n",
    "filename = fnames_tas[0]\n",
    "fh = Dataset(filename, mode='r')\n",
    "lons = fh.variables['lon'][:]\n",
    "lats = fh.variables['lat'][:]\n",
    "plt.plot(lats)\n",
    "plt.plot(lons)\n",
    "\n",
    "for i in range(len(fnames_tas)):\n",
    "  filename = fnames_tas[i]\n",
    "  fh = Dataset(filename, mode='r')\n",
    "  lons = fh.variables['lon'][:]\n",
    "  lats = fh.variables['lat'][:]\n",
    "  #print(fh)\n",
    "  data = fh.variables['tas'][:].data \n",
    "\n",
    "  if i==0:\n",
    "    # starts at 1948\n",
    "    data_gcm_daily=data[(st-st_gcm)*365:,:,:]\n",
    "  else:\n",
    "    data_gcm_daily=np.concatenate((data_gcm_daily,data),axis=0)\n",
    "\n",
    "data_gcm_daily=uu.add_leap_years_sts(data_gcm_daily,st,en)[0]\n",
    "tas_gcm_monthly=uu.daily_to_monthly_sts(data_gcm_daily,st,en,method='MEAN')\n"
   ]
  },
  {
   "cell_type": "code",
   "execution_count": null,
   "metadata": {
    "id": "ruefQ7tZDEhf"
   },
   "outputs": [],
   "source": [
    "data_bounds=data_bounds_cpac\n",
    "l_lat,u_lat,lat_gcm_CPAC=uu.find_bounds(lats,data_bounds[3],data_bounds[1])\n",
    "l_lon,u_lon,lon_gcm_CPAC=uu.find_bounds(lons,data_bounds[0],data_bounds[2])\n",
    "tas_gcm_CPAC=tas_gcm_monthly[:,l_lat:u_lat+1,l_lon:u_lon+1]\n",
    "\n",
    "map_bounds=[0 ,60,360,-60]#[50 , 50, 110, 0] #ltrb\n",
    "mp_spacing=10\n",
    "uu.map_plot_cyl(tas_gcm_CPAC[200,:,:],lat_gcm_CPAC,lon_gcm_CPAC,map_bounds,mp_spacing=30)\n"
   ]
  },
  {
   "cell_type": "code",
   "execution_count": null,
   "metadata": {
    "id": "BFO_wadWDEh5"
   },
   "outputs": [],
   "source": [
    "data_bounds=data_bounds_epac\n",
    "l_lat,u_lat,lat_gcm_EPAC=uu.find_bounds(lats,data_bounds[3],data_bounds[1])\n",
    "l_lon,u_lon,lon_gcm_EPAC=uu.find_bounds(lons,data_bounds[0],data_bounds[2])\n",
    "tas_gcm_EPAC=tas_gcm_monthly[:,l_lat:u_lat+1,l_lon:u_lon+1]\n",
    "\n",
    "map_bounds=[0 ,60,360,-60]#[50 , 50, 110, 0] #ltrb\n",
    "mp_spacing=10\n",
    "uu.map_plot_cyl(tas_gcm_EPAC[200,:,:],lat_gcm_EPAC,lon_gcm_EPAC,map_bounds,mp_spacing=30)\n"
   ]
  },
  {
   "cell_type": "code",
   "execution_count": null,
   "metadata": {
    "id": "c1S0Jw4_DEh5"
   },
   "outputs": [],
   "source": [
    "data_bounds=data_bounds_atl\n",
    "l_lat,u_lat,lat_gcm_ATL=uu.find_bounds(lats,data_bounds[3],data_bounds[1])\n",
    "l_lon,u_lon,lon_gcm_ATL=uu.find_bounds(lons,data_bounds[0],data_bounds[2])\n",
    "tas_gcm_ATL=tas_gcm_monthly[:,l_lat:u_lat+1,l_lon:u_lon+1]\n",
    "\n",
    "map_bounds=[0 ,60,360,-60]#[50 , 50, 110, 0] #ltrb\n",
    "mp_spacing=10\n",
    "uu.map_plot_cyl(tas_gcm_ATL[200,:,:],lat_gcm_ATL,lon_gcm_ATL,map_bounds,mp_spacing=30)\n"
   ]
  },
  {
   "cell_type": "code",
   "execution_count": null,
   "metadata": {
    "id": "TwfGtFlvDEh6"
   },
   "outputs": [],
   "source": [
    "\n",
    "psl_gcm_04_WPAC=np.mean(psl_gcm_WPAC,axis=(1,2))\n",
    "tas_gcm_04_CPAC=np.mean(tas_gcm_CPAC,axis=(1,2))\n",
    "tas_gcm_04_EPAC=np.mean(tas_gcm_EPAC,axis=(1,2))\n",
    "tas_gcm_04_ATL=np.mean(tas_gcm_ATL,axis=(1,2))\n",
    "\n",
    "#"
   ]
  },
  {
   "cell_type": "code",
   "execution_count": null,
   "metadata": {
    "id": "F0wyqSPkDEh7"
   },
   "outputs": [],
   "source": [
    "apsl_gcm_04_WPAC=anom_mon(psl_gcm_04_WPAC)\n",
    "atas_gcm_04_CPAC=anom_mon(tas_gcm_04_CPAC)\n",
    "atas_gcm_04_EPAC=anom_mon(tas_gcm_04_EPAC)\n",
    "atas_gcm_04_ATL=anom_mon(tas_gcm_04_ATL)"
   ]
  },
  {
   "cell_type": "code",
   "execution_count": null,
   "metadata": {
    "id": "mLEQ6cSJDEh7"
   },
   "outputs": [],
   "source": [
    "plt.plot(apsl_gcm_04_WPAC/100+2)\n",
    "plt.plot(atas_gcm_04_CPAC+4)\n",
    "plt.plot(atas_gcm_04_EPAC+6)\n",
    "plt.plot(atas_gcm_04_ATL+8)"
   ]
  },
  {
   "cell_type": "markdown",
   "metadata": {
    "id": "CAo6GMvvwcoc",
    "tags": []
   },
   "source": [
    "# BC"
   ]
  },
  {
   "cell_type": "code",
   "execution_count": null,
   "metadata": {
    "executionInfo": {
     "elapsed": 534,
     "status": "ok",
     "timestamp": 1640328977306,
     "user": {
      "displayName": "Vikram Singh Chandel",
      "photoUrl": "https://lh3.googleusercontent.com/a/default-user=s64",
      "userId": "07964427013125611178"
     },
     "user_tz": -330
    },
    "id": "Kt3TfAOhXNzw"
   },
   "outputs": [],
   "source": [
    "import scipy\n",
    "from scipy.stats import gamma\n",
    "\n",
    "\n",
    "def bias_corr_historical_normal(data_grid_obs,data_grid_hist):\n",
    "  var_data_obs = data_grid_obs\n",
    "  var_data_hist = data_grid_hist\n",
    " \n",
    "  var_data_obs[np.isnan(var_data_obs)]=np.nanmean(var_data_obs)\n",
    "  var_data_hist[np.isnan(var_data_hist)]=np.nanmean(var_data_hist)\n",
    "\n",
    "  bias_corr=np.zeros(var_data_hist.shape[0]);\n",
    "\n",
    "  mu,sig = scipy.stats.norm.fit(var_data_hist)\n",
    "  \n",
    "  cdf = scipy.stats.norm.cdf(data_grid_hist,loc=mu,scale=sig)\n",
    "\n",
    "  omu,osig = scipy.stats.norm.fit(var_data_obs)\n",
    "\n",
    "  bias_corr=scipy.stats.norm.ppf(cdf,loc=omu,scale=osig)\n",
    "\n",
    "  return bias_corr\n",
    "\n",
    "\n",
    "def bias_corr_historical_with_non_param(data_grid_obs,data_grid_hist_train):\n",
    "\n",
    "    var_data_obs = data_grid_obs\n",
    "    var_data_hist_train = data_grid_hist_train\n",
    "    var_data_hist_pred = data_grid_hist_train\n",
    "\n",
    "    # var_data_obs[var_data_obs<0]=0\n",
    "    # var_data_hist_train[var_data_hist_train<0]=0\n",
    "    # var_data_hist_pred[var_data_hist_pred<0]=0\n",
    "\n",
    "    var_data_obs[np.isnan(var_data_obs)]=0\n",
    "    var_data_hist_train[np.isnan(var_data_hist_train)]=0\n",
    "    var_data_hist_pred[np.isnan(var_data_hist_pred)]=0\n",
    "\n",
    "    var_data_obs[np.isinf(var_data_obs)]=0\n",
    "    var_data_hist_train[np.isinf(var_data_hist_train)]=0\n",
    "    var_data_hist_pred[np.isinf(var_data_hist_pred)]=0\n",
    "\n",
    "\n",
    "    hist = np.histogram(var_data_hist_train, bins=20)\n",
    "    hist_dist = scipy.stats.rv_histogram(hist)\n",
    "\n",
    "    cdf = hist_dist.cdf(var_data_hist_pred)\n",
    "    \n",
    "    histo = np.histogram(var_data_obs, bins=20)\n",
    "    hist_disto = scipy.stats.rv_histogram(histo)\n",
    "\n",
    "    bias_corr=hist_disto.ppf(cdf)\n",
    "\n",
    "    return bias_corr\n",
    "\n"
   ]
  },
  {
   "cell_type": "code",
   "execution_count": null,
   "metadata": {
    "executionInfo": {
     "elapsed": 3,
     "status": "ok",
     "timestamp": 1640328978674,
     "user": {
      "displayName": "Vikram Singh Chandel",
      "photoUrl": "https://lh3.googleusercontent.com/a/default-user=s64",
      "userId": "07964427013125611178"
     },
     "user_tz": -330
    },
    "id": "pbyRy3TFwq8_"
   },
   "outputs": [],
   "source": [
    "bc_gcm_01_WPAC=bias_corr_historical_normal(psl_ncar_WPAC,psl_gcm_01_WPAC)\n",
    "bc_gcm_01_CPAC=bias_corr_historical_normal(tas_ncar_CPAC,tas_gcm_01_CPAC)\n",
    "bc_gcm_01_EPAC=bias_corr_historical_normal(tas_ncar_EPAC,tas_gcm_01_EPAC)\n",
    "bc_gcm_01_ATL=bias_corr_historical_normal(tas_ncar_ATL,tas_gcm_01_ATL)\n",
    "\n",
    "bc_gcm_02_WPAC=bias_corr_historical_normal(psl_ncar_WPAC,psl_gcm_02_WPAC)\n",
    "bc_gcm_02_CPAC=bias_corr_historical_normal(tas_ncar_CPAC,tas_gcm_02_CPAC)\n",
    "bc_gcm_02_EPAC=bias_corr_historical_normal(tas_ncar_EPAC,tas_gcm_02_EPAC)\n",
    "bc_gcm_02_ATL=bias_corr_historical_normal(tas_ncar_ATL,tas_gcm_02_ATL)\n",
    "\n",
    "bc_gcm_03_WPAC=bias_corr_historical_normal(psl_ncar_WPAC,psl_gcm_03_WPAC)\n",
    "bc_gcm_03_CPAC=bias_corr_historical_normal(tas_ncar_CPAC,tas_gcm_03_CPAC)\n",
    "bc_gcm_03_EPAC=bias_corr_historical_normal(tas_ncar_EPAC,tas_gcm_03_EPAC)\n",
    "bc_gcm_03_ATL=bias_corr_historical_normal(tas_ncar_ATL,tas_gcm_03_ATL)\n",
    "\n",
    "bc_gcm_04_WPAC=bias_corr_historical_normal(psl_ncar_WPAC,psl_gcm_04_WPAC)\n",
    "bc_gcm_04_CPAC=bias_corr_historical_normal(tas_ncar_CPAC,tas_gcm_04_CPAC)\n",
    "bc_gcm_04_EPAC=bias_corr_historical_normal(tas_ncar_EPAC,tas_gcm_04_EPAC)\n",
    "bc_gcm_04_ATL=bias_corr_historical_normal(tas_ncar_ATL,tas_gcm_04_ATL)\n",
    "\n"
   ]
  },
  {
   "cell_type": "code",
   "execution_count": null,
   "metadata": {},
   "outputs": [],
   "source": [
    "bc_eqm__gcm_01_WPAC=bias_corr_historical_with_non_param(psl_ncar_WPAC,psl_gcm_01_WPAC)\n",
    "bc_eqm__gcm_01_CPAC=bias_corr_historical_with_non_param(tas_ncar_CPAC,tas_gcm_01_CPAC)\n",
    "bc_eqm__gcm_01_EPAC=bias_corr_historical_with_non_param(tas_ncar_EPAC,tas_gcm_01_EPAC)\n",
    "bc_eqm__gcm_01_ATL=bias_corr_historical_with_non_param(tas_ncar_ATL,tas_gcm_01_ATL)\n",
    "\n",
    "bc_eqm__gcm_02_WPAC=bias_corr_historical_with_non_param(psl_ncar_WPAC,psl_gcm_02_WPAC)\n",
    "bc_eqm__gcm_02_CPAC=bias_corr_historical_with_non_param(tas_ncar_CPAC,tas_gcm_02_CPAC)\n",
    "bc_eqm__gcm_02_EPAC=bias_corr_historical_with_non_param(tas_ncar_EPAC,tas_gcm_02_EPAC)\n",
    "bc_eqm__gcm_02_ATL=bias_corr_historical_with_non_param(tas_ncar_ATL,tas_gcm_02_ATL)\n",
    "\n",
    "bc_eqm__gcm_03_WPAC=bias_corr_historical_with_non_param(psl_ncar_WPAC,psl_gcm_03_WPAC)\n",
    "bc_eqm__gcm_03_CPAC=bias_corr_historical_with_non_param(tas_ncar_CPAC,tas_gcm_03_CPAC)\n",
    "bc_eqm__gcm_03_EPAC=bias_corr_historical_with_non_param(tas_ncar_EPAC,tas_gcm_03_EPAC)\n",
    "bc_eqm__gcm_03_ATL=bias_corr_historical_with_non_param(tas_ncar_ATL,tas_gcm_03_ATL)\n",
    "\n",
    "bc_eqm__gcm_04_WPAC=bias_corr_historical_with_non_param(psl_ncar_WPAC,psl_gcm_04_WPAC)\n",
    "bc_eqm__gcm_04_CPAC=bias_corr_historical_with_non_param(tas_ncar_CPAC,tas_gcm_04_CPAC)\n",
    "bc_eqm__gcm_04_EPAC=bias_corr_historical_with_non_param(tas_ncar_EPAC,tas_gcm_04_EPAC)\n",
    "bc_eqm__gcm_04_ATL=bias_corr_historical_with_non_param(tas_ncar_ATL,tas_gcm_04_ATL)\n"
   ]
  },
  {
   "cell_type": "code",
   "execution_count": null,
   "metadata": {
    "executionInfo": {
     "elapsed": 2,
     "status": "ok",
     "timestamp": 1640330884435,
     "user": {
      "displayName": "Vikram Singh Chandel",
      "photoUrl": "https://lh3.googleusercontent.com/a/default-user=s64",
      "userId": "07964427013125611178"
     },
     "user_tz": -330
    },
    "id": "fPKkvI_iVisK"
   },
   "outputs": [],
   "source": [
    "data_obcgcm_02=np.concatenate((bc_gcm_02_WPAC[:,np.newaxis]/1000,bc_gcm_02_CPAC[:,np.newaxis],bc_gcm_02_EPAC[:,np.newaxis],bc_gcm_02_ATL[:,np.newaxis]),axis=1)\n"
   ]
  },
  {
   "cell_type": "code",
   "execution_count": null,
   "metadata": {
    "executionInfo": {
     "elapsed": 734,
     "status": "ok",
     "timestamp": 1640330879825,
     "user": {
      "displayName": "Vikram Singh Chandel",
      "photoUrl": "https://lh3.googleusercontent.com/a/default-user=s64",
      "userId": "07964427013125611178"
     },
     "user_tz": -330
    },
    "id": "CxE8ABwUOgct"
   },
   "outputs": [],
   "source": [
    "data_oncar=np.concatenate((psl_ncar_WPAC[:,np.newaxis]/1000,tas_ncar_CPAC[:,np.newaxis],tas_ncar_EPAC[:,np.newaxis],tas_ncar_ATL[:,np.newaxis]),axis=1)\n",
    "data_ogcm_01=np.concatenate((psl_gcm_01_WPAC[:,np.newaxis]/1000,tas_gcm_01_CPAC[:,np.newaxis],tas_gcm_01_EPAC[:,np.newaxis],tas_gcm_01_ATL[:,np.newaxis]),axis=1)\n",
    "data_ogcm_02=np.concatenate((psl_gcm_02_WPAC[:,np.newaxis]/1000,tas_gcm_02_CPAC[:,np.newaxis],tas_gcm_02_EPAC[:,np.newaxis],tas_gcm_02_ATL[:,np.newaxis]),axis=1)\n",
    "data_ogcm_03=np.concatenate((psl_gcm_03_WPAC[:,np.newaxis]/1000,tas_gcm_03_CPAC[:,np.newaxis],tas_gcm_03_EPAC[:,np.newaxis],tas_gcm_03_ATL[:,np.newaxis]),axis=1)\n",
    "data_ogcm_04=np.concatenate((psl_gcm_04_WPAC[:,np.newaxis]/1000,tas_gcm_04_CPAC[:,np.newaxis],tas_gcm_04_EPAC[:,np.newaxis],tas_gcm_04_ATL[:,np.newaxis]),axis=1)\n"
   ]
  },
  {
   "cell_type": "code",
   "execution_count": null,
   "metadata": {
    "executionInfo": {
     "elapsed": 438,
     "status": "ok",
     "timestamp": 1640329786614,
     "user": {
      "displayName": "Vikram Singh Chandel",
      "photoUrl": "https://lh3.googleusercontent.com/a/default-user=s64",
      "userId": "07964427013125611178"
     },
     "user_tz": -330
    },
    "id": "5LaInXO8RKBM"
   },
   "outputs": [],
   "source": [
    "path_out = '/home/vikram/BCSD_data/PCMCI_Walker/'\n",
    "np.savetxt(path_out + '/data_oncar.csv',data_oncar, delimiter  = ',')\n",
    "np.savetxt(path_out + '/data_ogcm_01.csv',data_ogcm_01, delimiter  = ',')\n",
    "np.savetxt(path_out + '/data_ogcm_02.csv',data_ogcm_02, delimiter  = ',')\n",
    "np.savetxt(path_out + '/data_ogcm_03.csv',data_ogcm_03, delimiter  = ',')\n",
    "np.savetxt(path_out + '/data_ogcm_04.csv',data_ogcm_04, delimiter  = ',')\n"
   ]
  },
  {
   "cell_type": "code",
   "execution_count": null,
   "metadata": {
    "executionInfo": {
     "elapsed": 3689,
     "status": "ok",
     "timestamp": 1640330601546,
     "user": {
      "displayName": "Vikram Singh Chandel",
      "photoUrl": "https://lh3.googleusercontent.com/a/default-user=s64",
      "userId": "07964427013125611178"
     },
     "user_tz": -330
    },
    "id": "bYGxLFpaUHVT"
   },
   "outputs": [],
   "source": [
    "import pandas as pd\n",
    "data_mbc_gcm_01=pd.read_csv('/home/vikram/Dropbox/BCSD Work/MBC/data_walker' + '/data_MBCn_01.csv', sep=',',header=None).values\n",
    "data_mbc_gcm_02=pd.read_csv('/home/vikram/Dropbox/BCSD Work/MBC/data_walker' + '/data_MBCn_02.csv', sep=',',header=None).values\n",
    "data_mbc_gcm_03=pd.read_csv('/home/vikram/Dropbox/BCSD Work/MBC/data_walker' + '/data_MBCn_03.csv', sep=',',header=None).values\n",
    "data_mbc_gcm_04=pd.read_csv('/home/vikram/Dropbox/BCSD Work/MBC/data_walker' + '/data_MBCn_04.csv', sep=',',header=None).values\n",
    "\n",
    "data_mbcp_gcm_01=pd.read_csv('/home/vikram/Dropbox/BCSD Work/MBC/data_walker' + '/data_MBCp_01.csv', sep=',',header=None).values\n",
    "data_mbcp_gcm_02=pd.read_csv('/home/vikram/Dropbox/BCSD Work/MBC/data_walker' + '/data_MBCp_02.csv', sep=',',header=None).values\n",
    "data_mbcp_gcm_03=pd.read_csv('/home/vikram/Dropbox/BCSD Work/MBC/data_walker' + '/data_MBCp_03.csv', sep=',',header=None).values\n",
    "data_mbcp_gcm_04=pd.read_csv('/home/vikram/Dropbox/BCSD Work/MBC/data_walker' + '/data_MBCp_04.csv', sep=',',header=None).values\n"
   ]
  },
  {
   "cell_type": "code",
   "execution_count": null,
   "metadata": {
    "colab": {
     "base_uri": "https://localhost:8080/"
    },
    "executionInfo": {
     "elapsed": 473,
     "status": "ok",
     "timestamp": 1640332295212,
     "user": {
      "displayName": "Vikram Singh Chandel",
      "photoUrl": "https://lh3.googleusercontent.com/a/default-user=s64",
      "userId": "07964427013125611178"
     },
     "user_tz": -330
    },
    "id": "lRW7nlL2Z4LX",
    "outputId": "3dda0237-bc5c-41be-910c-b9945e653d38"
   },
   "outputs": [],
   "source": [
    "adata_mbc_gcm_01=np.concatenate((anom_mon(data_mbc_gcm_01[:,0])[:,np.newaxis],anom_mon(data_mbc_gcm_01[:,1])[:,np.newaxis],anom_mon(data_mbc_gcm_01[:,2])[:,np.newaxis],anom_mon(data_mbc_gcm_01[:,3])[:,np.newaxis]),axis=1)\n",
    "adata_mbc_gcm_02=np.concatenate((anom_mon(data_mbc_gcm_02[:,0])[:,np.newaxis],anom_mon(data_mbc_gcm_02[:,1])[:,np.newaxis],anom_mon(data_mbc_gcm_02[:,2])[:,np.newaxis],anom_mon(data_mbc_gcm_02[:,3])[:,np.newaxis]),axis=1)\n",
    "adata_mbc_gcm_03=np.concatenate((anom_mon(data_mbc_gcm_03[:,0])[:,np.newaxis],anom_mon(data_mbc_gcm_03[:,1])[:,np.newaxis],anom_mon(data_mbc_gcm_03[:,2])[:,np.newaxis],anom_mon(data_mbc_gcm_03[:,3])[:,np.newaxis]),axis=1)\n",
    "adata_mbc_gcm_04=np.concatenate((anom_mon(data_mbc_gcm_04[:,0])[:,np.newaxis],anom_mon(data_mbc_gcm_04[:,1])[:,np.newaxis],anom_mon(data_mbc_gcm_04[:,2])[:,np.newaxis],anom_mon(data_mbc_gcm_04[:,3])[:,np.newaxis]),axis=1)\n",
    "\n",
    "adata_mbcp_gcm_01=np.concatenate((anom_mon(data_mbcp_gcm_01[:,0])[:,np.newaxis],anom_mon(data_mbcp_gcm_01[:,1])[:,np.newaxis],anom_mon(data_mbcp_gcm_01[:,2])[:,np.newaxis],anom_mon(data_mbcp_gcm_01[:,3])[:,np.newaxis]),axis=1)\n",
    "adata_mbcp_gcm_02=np.concatenate((anom_mon(data_mbcp_gcm_02[:,0])[:,np.newaxis],anom_mon(data_mbcp_gcm_02[:,1])[:,np.newaxis],anom_mon(data_mbcp_gcm_02[:,2])[:,np.newaxis],anom_mon(data_mbcp_gcm_02[:,3])[:,np.newaxis]),axis=1)\n",
    "adata_mbcp_gcm_03=np.concatenate((anom_mon(data_mbcp_gcm_03[:,0])[:,np.newaxis],anom_mon(data_mbcp_gcm_03[:,1])[:,np.newaxis],anom_mon(data_mbcp_gcm_03[:,2])[:,np.newaxis],anom_mon(data_mbcp_gcm_03[:,3])[:,np.newaxis]),axis=1)\n",
    "adata_mbcp_gcm_04=np.concatenate((anom_mon(data_mbcp_gcm_04[:,0])[:,np.newaxis],anom_mon(data_mbcp_gcm_04[:,1])[:,np.newaxis],anom_mon(data_mbcp_gcm_04[:,2])[:,np.newaxis],anom_mon(data_mbcp_gcm_04[:,3])[:,np.newaxis]),axis=1)\n",
    "\n"
   ]
  },
  {
   "cell_type": "code",
   "execution_count": null,
   "metadata": {
    "colab": {
     "base_uri": "https://localhost:8080/"
    },
    "executionInfo": {
     "elapsed": 477,
     "status": "ok",
     "timestamp": 1640332189196,
     "user": {
      "displayName": "Vikram Singh Chandel",
      "photoUrl": "https://lh3.googleusercontent.com/a/default-user=s64",
      "userId": "07964427013125611178"
     },
     "user_tz": -330
    },
    "id": "siekLGvJaphe",
    "outputId": "b35c181c-3ea7-46bc-dcbb-3f9dc9d0bc03"
   },
   "outputs": [],
   "source": [
    "abc_gcm_01_WPAC=anom_mon(bc_gcm_01_WPAC)\n",
    "abc_gcm_01_CPAC=anom_mon(bc_gcm_01_CPAC)\n",
    "abc_gcm_01_EPAC=anom_mon(bc_gcm_01_EPAC)\n",
    "abc_gcm_01_ATL=anom_mon(bc_gcm_01_ATL)\n",
    "\n",
    "abc_gcm_02_WPAC=anom_mon(bc_gcm_02_WPAC)\n",
    "abc_gcm_02_CPAC=anom_mon(bc_gcm_02_CPAC)\n",
    "abc_gcm_02_EPAC=anom_mon(bc_gcm_02_EPAC)\n",
    "abc_gcm_02_ATL=anom_mon(bc_gcm_02_ATL)\n",
    "\n",
    "abc_gcm_03_WPAC=anom_mon(bc_gcm_03_WPAC)\n",
    "abc_gcm_03_CPAC=anom_mon(bc_gcm_03_CPAC)\n",
    "abc_gcm_03_EPAC=anom_mon(bc_gcm_03_EPAC)\n",
    "abc_gcm_03_ATL=anom_mon(bc_gcm_03_ATL)\n",
    "\n",
    "abc_gcm_04_WPAC=anom_mon(bc_gcm_04_WPAC)\n",
    "abc_gcm_04_CPAC=anom_mon(bc_gcm_04_CPAC)\n",
    "abc_gcm_04_EPAC=anom_mon(bc_gcm_04_EPAC)\n",
    "abc_gcm_04_ATL=anom_mon(bc_gcm_04_ATL)"
   ]
  },
  {
   "cell_type": "code",
   "execution_count": null,
   "metadata": {
    "id": "g8RZ_Vw-wlsb"
   },
   "outputs": [],
   "source": [
    "abc_eqm__gcm_01_WPAC=anom_mon(bc_eqm__gcm_01_WPAC)\n",
    "abc_eqm__gcm_01_CPAC=anom_mon(bc_eqm__gcm_01_CPAC)\n",
    "abc_eqm__gcm_01_EPAC=anom_mon(bc_eqm__gcm_01_EPAC)\n",
    "abc_eqm__gcm_01_ATL=anom_mon(bc_eqm__gcm_01_ATL)\n",
    "\n",
    "abc_eqm__gcm_02_WPAC=anom_mon(bc_eqm__gcm_02_WPAC)\n",
    "abc_eqm__gcm_02_CPAC=anom_mon(bc_eqm__gcm_02_CPAC)\n",
    "abc_eqm__gcm_02_EPAC=anom_mon(bc_eqm__gcm_02_EPAC)\n",
    "abc_eqm__gcm_02_ATL=anom_mon(bc_eqm__gcm_02_ATL)\n",
    "\n",
    "abc_eqm__gcm_03_WPAC=anom_mon(bc_eqm__gcm_03_WPAC)\n",
    "abc_eqm__gcm_03_CPAC=anom_mon(bc_eqm__gcm_03_CPAC)\n",
    "abc_eqm__gcm_03_EPAC=anom_mon(bc_eqm__gcm_03_EPAC)\n",
    "abc_eqm__gcm_03_ATL=anom_mon(bc_eqm__gcm_03_ATL)\n",
    "\n",
    "abc_eqm__gcm_04_WPAC=anom_mon(bc_eqm__gcm_04_WPAC)\n",
    "abc_eqm__gcm_04_CPAC=anom_mon(bc_eqm__gcm_04_CPAC)\n",
    "abc_eqm__gcm_04_EPAC=anom_mon(bc_eqm__gcm_04_EPAC)\n",
    "abc_eqm__gcm_04_ATL=anom_mon(bc_eqm__gcm_04_ATL)\n",
    "\n"
   ]
  },
  {
   "cell_type": "code",
   "execution_count": null,
   "metadata": {
    "id": "DhDTYyivS9LB"
   },
   "outputs": [],
   "source": [
    "psl_rnd_01_WPAC=np.random.random((psl_gcm_01_WPAC.shape))\n",
    "tas_rnd_01_CPAC=np.random.random((psl_gcm_01_WPAC.shape))\n",
    "tas_rnd_01_EPAC=np.random.random((psl_gcm_01_WPAC.shape))\n",
    "tas_rnd_01_ATL=np.random.random((psl_gcm_01_WPAC.shape))\n",
    "\n",
    "bc_rnd_01_WPAC=bias_corr_historical_normal(psl_ncar_WPAC,psl_rnd_01_WPAC)\n",
    "bc_rnd_01_CPAC=bias_corr_historical_normal(tas_ncar_CPAC,tas_rnd_01_CPAC)\n",
    "bc_rnd_01_EPAC=bias_corr_historical_normal(tas_ncar_EPAC,tas_rnd_01_EPAC)\n",
    "bc_rnd_01_ATL=bias_corr_historical_normal(tas_ncar_ATL,tas_rnd_01_ATL)\n",
    "\n",
    "abc_rnd_01_WPAC=anom_mon(bc_rnd_01_WPAC)\n",
    "abc_rnd_01_CPAC=anom_mon(bc_rnd_01_CPAC)\n",
    "abc_rnd_01_EPAC=anom_mon(bc_rnd_01_EPAC)\n",
    "abc_rnd_01_ATL=anom_mon(bc_rnd_01_ATL)\n",
    "\n",
    "psl_rnd_02_WPAC=np.random.random((psl_gcm_02_WPAC.shape))\n",
    "tas_rnd_02_CPAC=np.random.random((psl_gcm_02_WPAC.shape))\n",
    "tas_rnd_02_EPAC=np.random.random((psl_gcm_02_WPAC.shape))\n",
    "tas_rnd_02_ATL=np.random.random((psl_gcm_02_WPAC.shape))\n",
    "\n",
    "bc_rnd_02_WPAC=bias_corr_historical_normal(psl_ncar_WPAC,psl_rnd_02_WPAC)\n",
    "bc_rnd_02_CPAC=bias_corr_historical_normal(tas_ncar_CPAC,tas_rnd_02_CPAC)\n",
    "bc_rnd_02_EPAC=bias_corr_historical_normal(tas_ncar_EPAC,tas_rnd_02_EPAC)\n",
    "bc_rnd_02_ATL=bias_corr_historical_normal(tas_ncar_ATL,tas_rnd_02_ATL)\n",
    "\n",
    "abc_rnd_02_WPAC=anom_mon(bc_rnd_02_WPAC)\n",
    "abc_rnd_02_CPAC=anom_mon(bc_rnd_02_CPAC)\n",
    "abc_rnd_02_EPAC=anom_mon(bc_rnd_02_EPAC)\n",
    "abc_rnd_02_ATL=anom_mon(bc_rnd_02_ATL)\n",
    "\n",
    "\n",
    "psl_rnd_03_WPAC=np.random.random((psl_gcm_03_WPAC.shape))\n",
    "tas_rnd_03_CPAC=np.random.random((psl_gcm_03_WPAC.shape))\n",
    "tas_rnd_03_EPAC=np.random.random((psl_gcm_03_WPAC.shape))\n",
    "tas_rnd_03_ATL=np.random.random((psl_gcm_03_WPAC.shape))\n",
    "\n",
    "bc_rnd_03_WPAC=bias_corr_historical_normal(psl_ncar_WPAC,psl_rnd_03_WPAC)\n",
    "bc_rnd_03_CPAC=bias_corr_historical_normal(tas_ncar_CPAC,tas_rnd_03_CPAC)\n",
    "bc_rnd_03_EPAC=bias_corr_historical_normal(tas_ncar_EPAC,tas_rnd_03_EPAC)\n",
    "bc_rnd_03_ATL=bias_corr_historical_normal(tas_ncar_ATL,tas_rnd_03_ATL)\n",
    "\n",
    "abc_rnd_03_WPAC=anom_mon(bc_rnd_03_WPAC)\n",
    "abc_rnd_03_CPAC=anom_mon(bc_rnd_03_CPAC)\n",
    "abc_rnd_03_EPAC=anom_mon(bc_rnd_03_EPAC)\n",
    "abc_rnd_03_ATL=anom_mon(bc_rnd_03_ATL)\n",
    "\n",
    "\n",
    "psl_rnd_04_WPAC=np.random.random((psl_gcm_04_WPAC.shape))\n",
    "tas_rnd_04_CPAC=np.random.random((psl_gcm_04_WPAC.shape))\n",
    "tas_rnd_04_EPAC=np.random.random((psl_gcm_04_WPAC.shape))\n",
    "tas_rnd_04_ATL=np.random.random((psl_gcm_04_WPAC.shape))\n",
    "\n",
    "bc_rnd_04_WPAC=bias_corr_historical_normal(psl_ncar_WPAC,psl_rnd_04_WPAC)\n",
    "bc_rnd_04_CPAC=bias_corr_historical_normal(tas_ncar_CPAC,tas_rnd_04_CPAC)\n",
    "bc_rnd_04_EPAC=bias_corr_historical_normal(tas_ncar_EPAC,tas_rnd_04_EPAC)\n",
    "bc_rnd_04_ATL=bias_corr_historical_normal(tas_ncar_ATL,tas_rnd_04_ATL)\n",
    "\n",
    "abc_rnd_04_WPAC=anom_mon(bc_rnd_04_WPAC)\n",
    "abc_rnd_04_CPAC=anom_mon(bc_rnd_04_CPAC)\n",
    "abc_rnd_04_EPAC=anom_mon(bc_rnd_04_EPAC)\n",
    "abc_rnd_04_ATL=anom_mon(bc_rnd_04_ATL)"
   ]
  },
  {
   "cell_type": "code",
   "execution_count": null,
   "metadata": {
    "colab": {
     "base_uri": "https://localhost:8080/",
     "height": 282
    },
    "executionInfo": {
     "elapsed": 12,
     "status": "ok",
     "timestamp": 1640328768262,
     "user": {
      "displayName": "Vikram Singh Chandel",
      "photoUrl": "https://lh3.googleusercontent.com/a/default-user=s64",
      "userId": "07964427013125611178"
     },
     "user_tz": -330
    },
    "id": "DsIZ5Y3dULnw",
    "outputId": "c97cdbcf-3bfc-4345-a131-642abf22ac4a"
   },
   "outputs": [],
   "source": [
    "plt.plot(abc_gcm_01_WPAC)\n",
    "plt.plot(abc_gcm_02_WPAC)\n",
    "plt.plot(abc_gcm_03_WPAC)\n"
   ]
  },
  {
   "cell_type": "code",
   "execution_count": null,
   "metadata": {
    "colab": {
     "base_uri": "https://localhost:8080/",
     "height": 282
    },
    "executionInfo": {
     "elapsed": 8,
     "status": "ok",
     "timestamp": 1640328768263,
     "user": {
      "displayName": "Vikram Singh Chandel",
      "photoUrl": "https://lh3.googleusercontent.com/a/default-user=s64",
      "userId": "07964427013125611178"
     },
     "user_tz": -330
    },
    "id": "sZfRs-cOG3sp",
    "outputId": "f15c81c8-9a4f-4d8c-c82e-5f10e8709772"
   },
   "outputs": [],
   "source": [
    "plt.plot(bc_gcm_02_WPAC[:12*3])\n",
    "plt.plot(psl_gcm_02_WPAC[:12*3])\n",
    "plt.plot(psl_ncar_WPAC[:12*3])\n",
    "plt.legend([1,2,3])"
   ]
  },
  {
   "cell_type": "code",
   "execution_count": null,
   "metadata": {
    "colab": {
     "base_uri": "https://localhost:8080/",
     "height": 282
    },
    "executionInfo": {
     "elapsed": 1126,
     "status": "ok",
     "timestamp": 1640328769384,
     "user": {
      "displayName": "Vikram Singh Chandel",
      "photoUrl": "https://lh3.googleusercontent.com/a/default-user=s64",
      "userId": "07964427013125611178"
     },
     "user_tz": -330
    },
    "id": "clnpgbxvJL9E",
    "outputId": "82c36eb7-0633-4877-93b5-89d9f5ae3547"
   },
   "outputs": [],
   "source": [
    "plt.plot(abc_gcm_02_WPAC[:12*3])\n",
    "plt.plot(apsl_gcm_02_WPAC[:12*3])\n",
    "plt.plot(apsl_ncar_WPAC[:12*3])\n",
    "plt.legend([1,2,3])"
   ]
  },
  {
   "cell_type": "code",
   "execution_count": null,
   "metadata": {
    "colab": {
     "base_uri": "https://localhost:8080/",
     "height": 548
    },
    "executionInfo": {
     "elapsed": 18,
     "status": "ok",
     "timestamp": 1640328769791,
     "user": {
      "displayName": "Vikram Singh Chandel",
      "photoUrl": "https://lh3.googleusercontent.com/a/default-user=s64",
      "userId": "07964427013125611178"
     },
     "user_tz": -330
    },
    "id": "jGEvJu6GHvdp",
    "outputId": "28ac779e-f060-40c3-927d-bc3be72fa851"
   },
   "outputs": [],
   "source": [
    "plt.hist(bc_gcm_01_WPAC)\n",
    "plt.hist(psl_gcm_01_WPAC)\n",
    "plt.hist(psl_ncar_WPAC)\n",
    "\n",
    "plt.legend([1,2,3])"
   ]
  },
  {
   "cell_type": "markdown",
   "metadata": {
    "id": "5XZ_yQDKQGya",
    "tags": []
   },
   "source": [
    "# Tigramite"
   ]
  },
  {
   "cell_type": "code",
   "execution_count": null,
   "metadata": {
    "colab": {
     "base_uri": "https://localhost:8080/"
    },
    "executionInfo": {
     "elapsed": 18070,
     "status": "ok",
     "timestamp": 1640322058072,
     "user": {
      "displayName": "Vikram Singh Chandel",
      "photoUrl": "https://lh3.googleusercontent.com/a/default-user=s64",
      "userId": "07964427013125611178"
     },
     "user_tz": -330
    },
    "id": "YLWTfwFTQGhJ",
    "outputId": "4c084234-87c6-4c3f-e9f8-a2122e755bfc"
   },
   "outputs": [],
   "source": [
    "# !pip install tigramite==4.2.1.3"
   ]
  },
  {
   "cell_type": "code",
   "execution_count": null,
   "metadata": {
    "id": "8lWWRxHlQRco"
   },
   "outputs": [],
   "source": [
    "\n",
    "import numpy as np\n",
    "import matplotlib\n",
    "from matplotlib import pyplot as plt\n",
    "%matplotlib inline     \n",
    "## use `%matplotlib notebook` for interactive figures\n",
    "# plt.style.use('ggplot')\n",
    "import sklearn\n",
    "\n",
    "import tigramite\n",
    "from tigramite import data_processing as pp\n",
    "from tigramite import plotting as tp\n",
    "from tigramite.pcmci import PCMCI\n",
    "from tigramite.independence_tests import ParCorr, GPDC, CMIknn, CMIsymb"
   ]
  },
  {
   "cell_type": "code",
   "execution_count": null,
   "metadata": {
    "executionInfo": {
     "elapsed": 479,
     "status": "ok",
     "timestamp": 1640332340317,
     "user": {
      "displayName": "Vikram Singh Chandel",
      "photoUrl": "https://lh3.googleusercontent.com/a/default-user=s64",
      "userId": "07964427013125611178"
     },
     "user_tz": -330
    },
    "id": "vBk8seMRHAb-"
   },
   "outputs": [],
   "source": [
    "# data_ncar=np.concatenate((apsl_ncar_WPAC[:,np.newaxis]/100,adata_ncar_CPAC[:,np.newaxis],adata_ncar_EPAC[:,np.newaxis],adata_ncar_ATL[:,np.newaxis]),axis=1)\n",
    "# data_gcm_01=np.concatenate((apsl_gcm_01_WPAC[:,np.newaxis],atas_gcm_01_CPAC[:,np.newaxis],atas_gcm_01_EPAC[:,np.newaxis],atas_gcm_01_ATL[:,np.newaxis]),axis=1)\n",
    "# data_gcm_02=np.concatenate((apsl_gcm_02_WPAC[:,np.newaxis],atas_gcm_02_CPAC[:,np.newaxis],atas_gcm_02_EPAC[:,np.newaxis],atas_gcm_02_ATL[:,np.newaxis]),axis=1)\n",
    "# data_gcm_03=np.concatenate((apsl_gcm_03_WPAC[:,np.newaxis],atas_gcm_03_CPAC[:,np.newaxis],atas_gcm_03_EPAC[:,np.newaxis],atas_gcm_03_ATL[:,np.newaxis]),axis=1)\n",
    "# data_gcm_04=np.concatenate((apsl_gcm_04_WPAC[:,np.newaxis],atas_gcm_04_CPAC[:,np.newaxis],atas_gcm_04_EPAC[:,np.newaxis],atas_gcm_04_ATL[:,np.newaxis]),axis=1)\n",
    "# data_bc_01=np.concatenate((abc_gcm_01_WPAC[:,np.newaxis],abc_gcm_01_CPAC[:,np.newaxis],abc_gcm_01_EPAC[:,np.newaxis],abc_gcm_01_ATL[:,np.newaxis]),axis=1)\n",
    "# data_bc_02=np.concatenate((abc_gcm_02_WPAC[:,np.newaxis],abc_gcm_02_CPAC[:,np.newaxis],abc_gcm_02_EPAC[:,np.newaxis],abc_gcm_02_ATL[:,np.newaxis]),axis=1)\n",
    "# data_bc_03=np.concatenate((abc_gcm_03_WPAC[:,np.newaxis],abc_gcm_03_CPAC[:,np.newaxis],abc_gcm_03_EPAC[:,np.newaxis],abc_gcm_03_ATL[:,np.newaxis]),axis=1)\n",
    "# data_bc_04=np.concatenate((abc_gcm_04_WPAC[:,np.newaxis],abc_gcm_04_CPAC[:,np.newaxis],abc_gcm_04_EPAC[:,np.newaxis],abc_gcm_04_ATL[:,np.newaxis]),axis=1)\n",
    "\n",
    "\n",
    "\n",
    "\n",
    "\n",
    "# data_eqm__bc_01=np.concatenate((abc_eqm__gcm_01_WPAC[:,np.newaxis],abc_eqm__gcm_01_CPAC[:,np.newaxis],abc_eqm__gcm_01_EPAC[:,np.newaxis],abc_eqm__gcm_01_ATL[:,np.newaxis]),axis=1)\n",
    "# data_eqm__bc_02=np.concatenate((abc_eqm__gcm_02_WPAC[:,np.newaxis],abc_eqm__gcm_02_CPAC[:,np.newaxis],abc_eqm__gcm_02_EPAC[:,np.newaxis],abc_eqm__gcm_02_ATL[:,np.newaxis]),axis=1)\n",
    "# data_eqm__bc_03=np.concatenate((abc_eqm__gcm_03_WPAC[:,np.newaxis],abc_eqm__gcm_03_CPAC[:,np.newaxis],abc_eqm__gcm_03_EPAC[:,np.newaxis],abc_eqm__gcm_03_ATL[:,np.newaxis]),axis=1)\n",
    "# data_eqm__bc_04=np.concatenate((abc_eqm__gcm_04_WPAC[:,np.newaxis],abc_eqm__gcm_04_CPAC[:,np.newaxis],abc_eqm__gcm_04_EPAC[:,np.newaxis],abc_eqm__gcm_04_ATL[:,np.newaxis]),axis=1)\n",
    "\n",
    "\n",
    "\n",
    "# data_bc_rnd_01=np.concatenate((abc_rnd_01_WPAC[:,np.newaxis],abc_rnd_01_CPAC[:,np.newaxis],abc_rnd_01_EPAC[:,np.newaxis],abc_rnd_01_ATL[:,np.newaxis]),axis=1)\n",
    "# data_bc_rnd_02=np.concatenate((abc_rnd_02_WPAC[:,np.newaxis],abc_rnd_02_CPAC[:,np.newaxis],abc_rnd_02_EPAC[:,np.newaxis],abc_rnd_02_ATL[:,np.newaxis]),axis=1)\n",
    "# data_bc_rnd_03=np.concatenate((abc_rnd_03_WPAC[:,np.newaxis],abc_rnd_03_CPAC[:,np.newaxis],abc_rnd_03_EPAC[:,np.newaxis],abc_rnd_03_ATL[:,np.newaxis]),axis=1)\n",
    "# data_bc_rnd_04=np.concatenate((abc_rnd_04_WPAC[:,np.newaxis],abc_rnd_04_CPAC[:,np.newaxis],abc_rnd_04_EPAC[:,np.newaxis],abc_rnd_04_ATL[:,np.newaxis]),axis=1)\n"
   ]
  },
  {
   "cell_type": "code",
   "execution_count": null,
   "metadata": {
    "id": "qdEXCjQ4HBzJ"
   },
   "outputs": [],
   "source": [
    "path_out = '/home/vikram/BCSD_data/PCMCI_Walker/'\n",
    "\n",
    "\n",
    "data_ncar=np.load(path_out + '/data_ncar_pacific_1948_2005.npy')\n",
    "data_gcm_01=np.load(path_out + '/data_gcm_01_pacific_1948_2005.npy')\n",
    "data_gcm_02=np.load(path_out + '/data_gcm_02_pacific_1948_2005.npy')\n",
    "data_gcm_03=np.load(path_out + '/data_gcm_03_pacific_1948_2005.npy')\n",
    "data_gcm_04=np.load(path_out + '/data_gcm_04_pacific_1948_2005.npy')\n",
    "data_bc_01=np.load(path_out + '/data_bc_01_pacific_1948_2005.npy')\n",
    "data_bc_02=np.load(path_out + '/data_bc_02_pacific_1948_2005.npy')\n",
    "data_bc_03=np.load(path_out + '/data_bc_03_pacific_1948_2005.npy')\n",
    "data_bc_04=np.load(path_out + '/data_bc_04_pacific_1948_2005.npy')\n",
    "\n",
    "data_eqm__bc_01=np.load(path_out + '/data_eqm_bc_01_pacific_1948_2005.npy')\n",
    "data_eqm__bc_02=np.load(path_out + '/data_eqm_bc_02_pacific_1948_2005.npy')\n",
    "data_eqm__bc_03=np.load(path_out + '/data_eqm_bc_03_pacific_1948_2005.npy')\n",
    "data_eqm__bc_04=np.load(path_out + '/data_eqm_bc_04_pacific_1948_2005.npy')\n",
    "\n",
    "#data_bc_rnd_01=np.load(path_out + '/data_bc_rnd_01_pacific_1948_2005.npy')\n",
    "#data_bc_rnd_02=np.load(path_out + '/data_bc_rnd_02_pacific_1948_2005.npy')\n",
    "#data_bc_rnd_03=np.load(path_out + '/data_bc_rnd_03_pacific_1948_2005.npy')\n",
    "#data_bc_rnd_04=np.load(path_out + '/data_bc_rnd_04_pacific_1948_2005.npy')"
   ]
  },
  {
   "cell_type": "code",
   "execution_count": null,
   "metadata": {
    "id": "7dgf9lJe0cjA"
   },
   "outputs": [],
   "source": [
    "# np.savetxt(path_out + '/data_ncar_pacific_1948_2005.csv',data_ncar, delimiter  = ',')\n",
    "# np.savetxt(path_out + '/data_gcm_01_pacific_1948_2005.csv',data_gcm_01, delimiter  = ',')\n"
   ]
  },
  {
   "cell_type": "code",
   "execution_count": null,
   "metadata": {
    "id": "RY7MNOVe4Nua"
   },
   "outputs": [],
   "source": [
    "# import pandas as pd\n",
    "# df=pd.read_csv(path_out + '/bc_test.csv', sep=',',header=None)\n",
    "# data_mbc_gcm_01=df.values"
   ]
  },
  {
   "cell_type": "code",
   "execution_count": null,
   "metadata": {
    "id": "8mmq4DQb66Yz"
   },
   "outputs": [],
   "source": [
    "# df2=pd.read_csv(path_out + '/bc_test_MBCn.csv', sep=',',header=None)\n",
    "# data_mqm_gcm_01=df2.values\n"
   ]
  },
  {
   "cell_type": "code",
   "execution_count": null,
   "metadata": {
    "executionInfo": {
     "elapsed": 2237,
     "status": "ok",
     "timestamp": 1640332360076,
     "user": {
      "displayName": "Vikram Singh Chandel",
      "photoUrl": "https://lh3.googleusercontent.com/a/default-user=s64",
      "userId": "07964427013125611178"
     },
     "user_tz": -330
    },
    "id": "URgRbQIuVElR"
   },
   "outputs": [],
   "source": [
    "# np.save(path_out + '/data_ncar_pacific_1948_2005.npy',data_ncar)\n",
    "# np.save(path_out + '/data_gcm_01_pacific_1948_2005.npy',data_gcm_01)\n",
    "# np.save(path_out + '/data_gcm_02_pacific_1948_2005.npy',data_gcm_02)\n",
    "# np.save(path_out + '/data_gcm_03_pacific_1948_2005.npy',data_gcm_03)\n",
    "# np.save(path_out + '/data_gcm_04_pacific_1948_2005.npy',data_gcm_04)\n",
    "# np.save(path_out + '/data_bc_01_pacific_1948_2005.npy',data_bc_01)\n",
    "# np.save(path_out + '/data_bc_02_pacific_1948_2005.npy',data_bc_02)\n",
    "# np.save(path_out + '/data_bc_03_pacific_1948_2005.npy',data_bc_03)\n",
    "# np.save(path_out + '/data_bc_04_pacific_1948_2005.npy',data_bc_04)\n",
    "\n",
    "# np.save(path_out + '/data_eqm_bc_01_pacific_1948_2005.npy',data_eqm__bc_01)\n",
    "# np.save(path_out + '/data_eqm_bc_02_pacific_1948_2005.npy',data_eqm__bc_02)\n",
    "# np.save(path_out + '/data_eqm_bc_03_pacific_1948_2005.npy',data_eqm__bc_03)\n",
    "# np.save(path_out + '/data_eqm_bc_04_pacific_1948_2005.npy',data_eqm__bc_04)\n",
    "\n",
    "\n",
    "# np.save(path_out + '/data_bc_rnd_01_pacific_1948_2005.npy',data_bc_rnd_01)\n",
    "# np.save(path_out + '/data_bc_rnd_02_pacific_1948_2005.npy',data_bc_rnd_02)\n",
    "# np.save(path_out + '/data_bc_rnd_03_pacific_1948_2005.npy',data_bc_rnd_03)\n",
    "# np.save(path_out + '/data_bc_rnd_04_pacific_1948_2005.npy',data_bc_rnd_04)"
   ]
  },
  {
   "cell_type": "markdown",
   "metadata": {
    "id": "kJW_68V44Q_o"
   },
   "source": [
    "# Parcorr"
   ]
  },
  {
   "cell_type": "code",
   "execution_count": null,
   "metadata": {
    "id": "pkYlh1M94Sgb"
   },
   "outputs": [],
   "source": [
    "import os\n",
    "\n",
    "\n",
    "def pcmci_parcorr(data,var_names,alpha_sig,taumax,fname):\n",
    "  #data=np.concatenate((ismr[:,np.newaxis],soi[:,np.newaxis]),axis=1)\n",
    "  T, N = data.shape\n",
    "\n",
    "  # Initialize dataframe object, specify time axis and variable names\n",
    "  #var_names = [r'IM', r'SOI']\n",
    "\n",
    "  dataframe = pp.DataFrame(data, \n",
    "                          datatime = np.arange(len(data)), \n",
    "                          var_names=var_names)\n",
    "  tp.plot_timeseries(dataframe); \n",
    "  plt.show()\n",
    "\n",
    "  parcorr = ParCorr(significance='analytic')\n",
    "  pcmci = PCMCI(\n",
    "      dataframe=dataframe, \n",
    "      cond_ind_test=parcorr,\n",
    "      verbosity=0)\n",
    "\n",
    "  '''\n",
    "    correlations = pcmci.get_lagged_dependencies(tau_max=taumax, val_only=True)['val_matrix']\n",
    "    lag_func_matrix = tp.plot_lagfuncs(val_matrix=correlations, setup_args={'var_names':var_names, \n",
    "                                        'x_base':5, 'y_base':.5}); plt.show()\n",
    "  '''\n",
    "    \n",
    "  pcmci.verbosity = 0\n",
    "  results = pcmci.run_pcmci(tau_max=taumax, pc_alpha=None)\n",
    "\n",
    "  '''\n",
    "  print(\"p-values\")\n",
    "  print (results['p_matrix'].round(3))\n",
    "  print(\"MCI partial correlations\")\n",
    "  print (results['val_matrix'].round(2))\n",
    "  '''\n",
    "  q_matrix = pcmci.get_corrected_pvalues(p_matrix=results['p_matrix'], fdr_method='fdr_bh', exclude_contemporaneous=True)\n",
    "  pcmci.print_significant_links(\n",
    "          p_matrix = results['p_matrix'], \n",
    "          q_matrix = q_matrix,\n",
    "          val_matrix = results['val_matrix'],\n",
    "          alpha_level = alpha_sig)\n",
    "\n",
    "\n",
    "  link_matrix = pcmci.return_significant_links(pq_matrix=q_matrix,\n",
    "                          val_matrix=results['val_matrix'], alpha_level=alpha_sig)['link_matrix']\n",
    "\n",
    "  y=[.5,0,0.5,1]\n",
    "  x=[0.0 ,0.5,1.0,0.5]\n",
    "  nod_pos={'x':x,'y':y}\n",
    "\n",
    "  link_matrix2=link_matrix\n",
    "  link_matrix2[:,:,0]=False\n",
    "  plt.figure()\n",
    "  tp.plot_graph(\n",
    "      val_matrix=results['val_matrix'],\n",
    "      link_matrix=link_matrix,\n",
    "      var_names=var_names,\n",
    "      link_colorbar_label='Links: Cross-correlation',\n",
    "      node_colorbar_label='Nodes: Auto-correlation',\n",
    "      node_pos=nod_pos,\n",
    "      node_aspect =1,\n",
    "      vmin_edges=-0.4,\n",
    "      vmax_edges = 0.4,\n",
    "      vmin_nodes=0,\n",
    "      vmax_nodes = 1.0,\n",
    "      figsize=(3,3),\n",
    "      show_colorbar =False,\n",
    "      node_label_size =12,\n",
    "      link_label_fontsize =None,\n",
    "      # save_name =fname+'.svg'\n",
    "      );\n",
    "  plt.savefig(fname+'.svg');\n",
    "  np.save(fname+'_val_mat',results['val_matrix'],);\n",
    "  np.save(fname+'_link_mat',link_matrix);\n",
    "    \n",
    "  plt.show()\n",
    "  \n",
    "    \n",
    "  return parcorr,pcmci,results,link_matrix\n",
    "\n"
   ]
  },
  {
   "cell_type": "markdown",
   "metadata": {
    "id": "wR_PKWGGF0v4"
   },
   "source": [
    "# PCMCI OBS"
   ]
  },
  {
   "cell_type": "code",
   "execution_count": null,
   "metadata": {},
   "outputs": [],
   "source": [
    "plt.figure(figsize =(3,3))\n",
    "plt.pcolor(np.array(5)[np.newaxis,np.newaxis], vmax = 0.4,vmin = -0.4 ,cmap= \"RdBu_r\")\n",
    "plt.colorbar(extend = \"both\",location=\"bottom\")\n",
    "plt.savefig(\"/home/vikram/BCSD_data/PCMCI_Walker/pcmci_plots/data_ncar/CB1.svg\")\n"
   ]
  },
  {
   "cell_type": "code",
   "execution_count": null,
   "metadata": {},
   "outputs": [],
   "source": [
    "plt.figure(figsize =(3,3))\n",
    "plt.pcolor(np.array(5)[np.newaxis,np.newaxis], vmax = 1,vmin = 0 ,cmap= \"Reds\")\n",
    "plt.colorbar(extend = \"max\",location=\"bottom\")\n",
    "plt.savefig(\"/home/vikram/BCSD_data/PCMCI_Walker/pcmci_plots/data_ncar/CB2.svg\")\n"
   ]
  },
  {
   "cell_type": "code",
   "execution_count": null,
   "metadata": {},
   "outputs": [],
   "source": [
    "path_out + '/pcmci_plots/data_ncar'"
   ]
  },
  {
   "cell_type": "code",
   "execution_count": null,
   "metadata": {},
   "outputs": [],
   "source": [
    "# mkdir -p /home/vikram/BCSD_data/PCMCI_Walker/pcmci_plots/data_ncar"
   ]
  },
  {
   "cell_type": "code",
   "execution_count": null,
   "metadata": {
    "colab": {
     "base_uri": "https://localhost:8080/",
     "height": 909
    },
    "executionInfo": {
     "elapsed": 3533,
     "status": "ok",
     "timestamp": 1640332734569,
     "user": {
      "displayName": "Vikram Singh Chandel",
      "photoUrl": "https://lh3.googleusercontent.com/a/default-user=s64",
      "userId": "07964427013125611178"
     },
     "user_tz": -330
    },
    "id": "cj2DFfTGFRoW",
    "outputId": "4163726b-3782-4292-b4ca-0b33c498e34d"
   },
   "outputs": [],
   "source": [
    "data=data_ncar\n",
    "alpha_sig=0.05\n",
    "var_names = [r'WPAC', r'CPAC', r'EPAC', r'ATL']\n",
    "taumax=6\n",
    "a,b,c,link_obs=pcmci_parcorr(data,var_names,alpha_sig,taumax,path_out + '/pcmci_plots/data_ncar')\n",
    "print(link_obs)\n"
   ]
  },
  {
   "cell_type": "code",
   "execution_count": null,
   "metadata": {},
   "outputs": [],
   "source": [
    "(val_mat*link_obs)<=0 "
   ]
  },
  {
   "cell_type": "code",
   "execution_count": null,
   "metadata": {},
   "outputs": [],
   "source": [
    "print(link_obs)"
   ]
  },
  {
   "cell_type": "markdown",
   "metadata": {
    "id": "zog3626DF4YM"
   },
   "source": [
    "# PCMCI GCM"
   ]
  },
  {
   "cell_type": "code",
   "execution_count": null,
   "metadata": {
    "colab": {
     "base_uri": "https://localhost:8080/",
     "height": 788
    },
    "executionInfo": {
     "elapsed": 2628,
     "status": "ok",
     "timestamp": 1640332737190,
     "user": {
      "displayName": "Vikram Singh Chandel",
      "photoUrl": "https://lh3.googleusercontent.com/a/default-user=s64",
      "userId": "07964427013125611178"
     },
     "user_tz": -330
    },
    "id": "d2WN9vNuFsuJ",
    "outputId": "6f83f6ea-3f64-477d-8973-35697b8aefed"
   },
   "outputs": [],
   "source": [
    "data=data_gcm_01\n",
    "data[np.isnan(data)]=0\n",
    "var_names = [r'WPAC', r'CPAC', r'EPAC', r'ATL']\n",
    "a,b,c,link_gcm=pcmci_parcorr(data,var_names,alpha_sig,taumax,path_out + '/pcmci_plots/data_gcm_01')\n"
   ]
  },
  {
   "cell_type": "code",
   "execution_count": null,
   "metadata": {
    "colab": {
     "base_uri": "https://localhost:8080/",
     "height": 945
    },
    "executionInfo": {
     "elapsed": 2647,
     "status": "ok",
     "timestamp": 1640332739831,
     "user": {
      "displayName": "Vikram Singh Chandel",
      "photoUrl": "https://lh3.googleusercontent.com/a/default-user=s64",
      "userId": "07964427013125611178"
     },
     "user_tz": -330
    },
    "id": "bO1R0ZHWq38z",
    "outputId": "a4fe96f7-c289-4223-8df7-6e9f3b1e067c"
   },
   "outputs": [],
   "source": [
    "data=data_gcm_02\n",
    "data[np.isnan(data)]=0\n",
    "var_names = [r'WPAC', r'CPAC', r'EPAC', r'ATL']\n",
    "a,b,c,d=pcmci_parcorr(data,var_names,alpha_sig,taumax,path_out + '/pcmci_plots/data_gcm_02')\n"
   ]
  },
  {
   "cell_type": "code",
   "execution_count": null,
   "metadata": {
    "colab": {
     "base_uri": "https://localhost:8080/",
     "height": 805
    },
    "executionInfo": {
     "elapsed": 2365,
     "status": "ok",
     "timestamp": 1640332742188,
     "user": {
      "displayName": "Vikram Singh Chandel",
      "photoUrl": "https://lh3.googleusercontent.com/a/default-user=s64",
      "userId": "07964427013125611178"
     },
     "user_tz": -330
    },
    "id": "3St31ISbq8UL",
    "outputId": "43dd5b0d-bdea-4f05-ee84-da8f571a0438"
   },
   "outputs": [],
   "source": [
    "data=data_gcm_03\n",
    "data[np.isnan(data)]=0\n",
    "var_names = [r'WPAC', r'CPAC', r'EPAC', r'ATL']\n",
    "\n",
    "a,b,c,d=pcmci_parcorr(data,var_names,alpha_sig,taumax,path_out + '/pcmci_plots/data_gcm_03')\n"
   ]
  },
  {
   "cell_type": "code",
   "execution_count": null,
   "metadata": {
    "colab": {
     "base_uri": "https://localhost:8080/",
     "height": 1000
    },
    "executionInfo": {
     "elapsed": 3500,
     "status": "ok",
     "timestamp": 1640332745685,
     "user": {
      "displayName": "Vikram Singh Chandel",
      "photoUrl": "https://lh3.googleusercontent.com/a/default-user=s64",
      "userId": "07964427013125611178"
     },
     "user_tz": -330
    },
    "id": "76_Lo7V7q91i",
    "outputId": "4856dba3-5360-47cd-c21d-2217fdf458d9"
   },
   "outputs": [],
   "source": [
    "data=data_gcm_04\n",
    "data[np.isnan(data)]=0\n",
    "var_names = [r'WPAC', r'CPAC', r'EPAC', r'ATL']\n",
    "\n",
    "a,b,c,d=pcmci_parcorr(data,var_names,alpha_sig,taumax,path_out + '/pcmci_plots/data_gcm_04')\n"
   ]
  },
  {
   "cell_type": "markdown",
   "metadata": {
    "id": "Zakc6CF0F60I",
    "tags": []
   },
   "source": [
    "# PCMCI BC"
   ]
  },
  {
   "cell_type": "code",
   "execution_count": null,
   "metadata": {
    "colab": {
     "base_uri": "https://localhost:8080/",
     "height": 1000
    },
    "executionInfo": {
     "elapsed": 9353,
     "status": "ok",
     "timestamp": 1640332755034,
     "user": {
      "displayName": "Vikram Singh Chandel",
      "photoUrl": "https://lh3.googleusercontent.com/a/default-user=s64",
      "userId": "07964427013125611178"
     },
     "user_tz": -330
    },
    "id": "H4ty6hdXrOJJ",
    "outputId": "5284c237-c5c0-41cc-a7ed-234885f3f9ed"
   },
   "outputs": [],
   "source": [
    "data=data_bc_01\n",
    "data[np.isnan(data)]=0\n",
    "var_names = [r'WPAC', r'CPAC', r'EPAC', r'ATL']\n",
    "a,b,c,link_ubc=pcmci_parcorr(data,var_names,alpha_sig,taumax,path_out + '/pcmci_plots/data_bc_01')\n",
    "\n",
    "data=data_eqm__bc_01\n",
    "data[np.isnan(data)]=0\n",
    "var_names = [r'WPAC', r'CPAC', r'EPAC', r'ATL']\n",
    "a,b,c,link_ubc=pcmci_parcorr(data,var_names,alpha_sig,taumax,path_out + '/pcmci_plots/data_eqm_bc_01')\n",
    "\n",
    "\n",
    "data=adata_mbc_gcm_01\n",
    "data[np.isnan(data)]=0\n",
    "var_names = [r'WPAC', r'CPAC', r'EPAC', r'ATL']\n",
    "a,b,c,d=pcmci_parcorr(data,var_names,alpha_sig,taumax,path_out + '/pcmci_plots/data_mbc_01')\n",
    "\n",
    "data=adata_mbcp_gcm_01\n",
    "data[np.isnan(data)]=0\n",
    "var_names = [r'WPAC', r'CPAC', r'EPAC', r'ATL']\n",
    "a,b,c,d=pcmci_parcorr(data,var_names,alpha_sig,taumax,path_out + '/pcmci_plots/data_mbcp_01')\n",
    "\n"
   ]
  },
  {
   "cell_type": "code",
   "execution_count": null,
   "metadata": {},
   "outputs": [],
   "source": [
    "\n",
    "    \n",
    "# np.savez('./walker',link_obs =link_obs,link_gcm =link_gcm, link_ubc = link_ubc)"
   ]
  },
  {
   "cell_type": "code",
   "execution_count": null,
   "metadata": {
    "colab": {
     "base_uri": "https://localhost:8080/",
     "height": 1000
    },
    "executionInfo": {
     "elapsed": 8848,
     "status": "ok",
     "timestamp": 1640332763872,
     "user": {
      "displayName": "Vikram Singh Chandel",
      "photoUrl": "https://lh3.googleusercontent.com/a/default-user=s64",
      "userId": "07964427013125611178"
     },
     "user_tz": -330
    },
    "id": "AJfiavaErW5Z",
    "outputId": "bdbc072f-0fdd-405a-a0a7-cba9679ecff2"
   },
   "outputs": [],
   "source": [
    "data=data_bc_02\n",
    "data[np.isnan(data)]=0\n",
    "var_names = [r'WPAC', r'CPAC', r'EPAC', r'ATL']\n",
    "a,b,c,d=pcmci_parcorr(data,var_names,alpha_sig,taumax,path_out + '/pcmci_plots/data_bc_02')\n",
    "\n",
    "data=data_eqm__bc_02\n",
    "data[np.isnan(data)]=0\n",
    "var_names = [r'WPAC', r'CPAC', r'EPAC', r'ATL']\n",
    "a,b,c,link_ubc=pcmci_parcorr(data,var_names,alpha_sig,taumax,path_out + '/pcmci_plots/data_eqm_bc_02')\n",
    "\n",
    "\n",
    "\n",
    "data=adata_mbc_gcm_02\n",
    "data[np.isnan(data)]=0\n",
    "var_names = [r'WPAC', r'CPAC', r'EPAC', r'ATL']\n",
    "a,b,c,d=pcmci_parcorr(data,var_names,alpha_sig,taumax,path_out + '/pcmci_plots/data_mbc_02')\n",
    "data=adata_mbcp_gcm_02\n",
    "data[np.isnan(data)]=0\n",
    "var_names = [r'WPAC', r'CPAC', r'EPAC', r'ATL']\n",
    "a,b,c,d=pcmci_parcorr(data,var_names,alpha_sig,taumax,path_out + '/pcmci_plots/data_mbcp_02')\n"
   ]
  },
  {
   "cell_type": "code",
   "execution_count": null,
   "metadata": {
    "colab": {
     "base_uri": "https://localhost:8080/",
     "height": 1000
    },
    "executionInfo": {
     "elapsed": 9416,
     "status": "ok",
     "timestamp": 1640332773282,
     "user": {
      "displayName": "Vikram Singh Chandel",
      "photoUrl": "https://lh3.googleusercontent.com/a/default-user=s64",
      "userId": "07964427013125611178"
     },
     "user_tz": -330
    },
    "id": "8sVB37kxrYap",
    "outputId": "8f6c51cf-dd91-4f01-fd14-3c69599a631c"
   },
   "outputs": [],
   "source": [
    "data=data_bc_03\n",
    "data[np.isnan(data)]=0\n",
    "var_names = [r'WPAC', r'CPAC', r'EPAC', r'ATL']\n",
    "a,b,c,d=pcmci_parcorr(data,var_names,alpha_sig,taumax,path_out + '/pcmci_plots/data_bc_03')\n",
    "\n",
    "data=data_eqm__bc_03\n",
    "data[np.isnan(data)]=0\n",
    "var_names = [r'WPAC', r'CPAC', r'EPAC', r'ATL']\n",
    "a,b,c,link_ubc=pcmci_parcorr(data,var_names,alpha_sig,taumax,path_out + '/pcmci_plots/data_eqm_bc_03')\n",
    "\n",
    "\n",
    "\n",
    "data=adata_mbc_gcm_03\n",
    "data[np.isnan(data)]=0\n",
    "var_names = [r'WPAC', r'CPAC', r'EPAC', r'ATL']\n",
    "a,b,c,d=pcmci_parcorr(data,var_names,alpha_sig,taumax,path_out + '/pcmci_plots/data_mbc_03')\n",
    "data=adata_mbcp_gcm_03\n",
    "data[np.isnan(data)]=0\n",
    "var_names = [r'WPAC', r'CPAC', r'EPAC', r'ATL']\n",
    "a,b,c,d=pcmci_parcorr(data,var_names,alpha_sig,taumax,path_out + '/pcmci_plots/data_mbcp_03')\n"
   ]
  },
  {
   "cell_type": "code",
   "execution_count": null,
   "metadata": {
    "colab": {
     "base_uri": "https://localhost:8080/",
     "height": 1000
    },
    "executionInfo": {
     "elapsed": 10482,
     "status": "ok",
     "timestamp": 1640332783756,
     "user": {
      "displayName": "Vikram Singh Chandel",
      "photoUrl": "https://lh3.googleusercontent.com/a/default-user=s64",
      "userId": "07964427013125611178"
     },
     "user_tz": -330
    },
    "id": "BE9OhgIqrZpj",
    "outputId": "abaa0e5b-040c-43d1-c506-56b9841cfe03"
   },
   "outputs": [],
   "source": [
    "data=data_bc_04\n",
    "data[np.isnan(data)]=0\n",
    "var_names = [r'WPAC', r'CPAC', r'EPAC', r'ATL']\n",
    "a,b,c,d=pcmci_parcorr(data,var_names,alpha_sig,taumax,path_out + '/pcmci_plots/data_bc_04')\n",
    "\n",
    "data=data_eqm__bc_04\n",
    "data[np.isnan(data)]=0\n",
    "var_names = [r'WPAC', r'CPAC', r'EPAC', r'ATL']\n",
    "a,b,c,link_ubc=pcmci_parcorr(data,var_names,alpha_sig,taumax,path_out + '/pcmci_plots/data_eqm_bc_04')\n",
    "\n",
    "\n",
    "data=adata_mbc_gcm_04\n",
    "\n",
    "data[np.isnan(data)]=0\n",
    "var_names = [r'WPAC', r'CPAC', r'EPAC', r'ATL']\n",
    "a,b,c,d=pcmci_parcorr(data,var_names,alpha_sig,taumax,path_out + '/pcmci_plots/data_mbc_04')\n",
    "data=adata_mbcp_gcm_04\n",
    "data[np.isnan(data)]=0\n",
    "var_names = [r'WPAC', r'CPAC', r'EPAC', r'ATL']\n",
    "a,b,c,d=pcmci_parcorr(data,var_names,alpha_sig,taumax,path_out + '/pcmci_plots/data_mbcp_04')\n"
   ]
  },
  {
   "cell_type": "markdown",
   "metadata": {},
   "source": [
    "# F1 score"
   ]
  },
  {
   "cell_type": "code",
   "execution_count": null,
   "metadata": {},
   "outputs": [],
   "source": [
    "fname =path_out + '/pcmci_plots/data_mbcp_04'\n",
    "np.load(fname+'_val_mat.npy');\n"
   ]
  },
  {
   "cell_type": "code",
   "execution_count": null,
   "metadata": {},
   "outputs": [],
   "source": [
    "link_mat_ref = np.any(np.load(path_link + 'data_ncar.npy'),axis= 2).flatten()\n"
   ]
  },
  {
   "cell_type": "code",
   "execution_count": null,
   "metadata": {},
   "outputs": [],
   "source": []
  },
  {
   "cell_type": "code",
   "execution_count": null,
   "metadata": {},
   "outputs": [],
   "source": [
    "from sklearn.metrics import f1_score\n",
    "from sklearn.metrics import precision_score\n",
    "from sklearn.metrics import recall_score\n",
    "\n",
    "\n",
    "plt.figure(figsize =(3,3))\n",
    "\n",
    "path_link ='/home/vikram/BCSD_data/PCMCI_Walker/pcmci_plots/'\n",
    "# link_mat_ref = np.any(np.load(path_link + 'data_ncar.npy'),axis= 2).flatten()\n",
    "link_mat_ref = np.load(path_link + 'data_ncar_link_mat.npy')\n",
    "val_mat_ref = np.load(path_link + 'data_ncar_val_mat.npy')\n",
    "\n",
    "mat_f1 = np.zeros((5,4))  ## mthods  x gcms\n",
    "for miter,method in enumerate(['gcm','bc','eqm_bc','mbc','mbcp']):\n",
    "    for gcm_no in range(4):\n",
    "        \n",
    "        link_mat  = np.load(path_link+ 'data_' + method +'_0' + str(gcm_no+1) +'_link_mat.npy')\n",
    "        val_mat  = np.load(path_link+ 'data_' + method +'_0' + str(gcm_no+1) +'_val_mat.npy')\n",
    "        \n",
    "        link_all= link_mat.flatten()\n",
    "        model = np.sign(link_mat * val_mat).flatten() == 1\n",
    "        ref = np.sign(link_mat_ref * val_mat_ref).flatten() == 1\n",
    "        \n",
    "        mat_f1[miter , gcm_no] =   f1_score(ref,model)\n",
    "\n",
    "\n",
    "import seaborn as sns\n",
    "h=sns.heatmap(mat_f1[:,(0,1,3)].T, linewidth = 2 , cmap = 'jet_r', \n",
    "          annot=True,\n",
    "          fmt=\".2f\", square=True,\n",
    "          yticklabels=['MIROC-ESM','CanESM2','GFDL-CM3'],\n",
    "          xticklabels=['GCM','QM','EQM','MBC','MBCp'],vmin=0.4,vmax=0.8,\n",
    "          cbar_kws={'label': 'F1 score','extend':None,'shrink':1,'extend':'both','location':'bottom','pad':0.03},cbar = True)\n",
    "plt.gca().xaxis.tick_top() # x axis on top\n",
    "# plt.ylabel('GCMs')\n",
    "plt.title('')\n",
    "plt.savefig('f1_scores.svg')"
   ]
  },
  {
   "cell_type": "code",
   "execution_count": null,
   "metadata": {},
   "outputs": [],
   "source": [
    "from sklearn.metrics import confusion_matrix\n",
    "\n",
    "model = np.sign(link_mat * val_mat).flatten() == 1\n",
    "ref = np.sign(link_mat_ref * val_mat_ref) == 1\n",
    "\n",
    "cmat = confusion_matrix(ref,model)\n",
    "print(cmat) # how many 2s were predicted as 1s\n",
    "\n",
    "\n",
    "# TP = cmat[2,2]\n",
    "# FP = cmat[0,2] + cmat[1,2]\n",
    "# FN = cmat[2,0] + cmat[2,1]\n",
    "\n",
    "# Precision = TP/(TP +FP)\n",
    "# Recall =TP/(TP+FN)\n",
    "\n",
    "# f1_sc = 2* Precision * Recall /(Precision +Recall)\n",
    "f1_sc,f1_score(c,d)"
   ]
  },
  {
   "cell_type": "code",
   "execution_count": null,
   "metadata": {},
   "outputs": [],
   "source": [
    "b"
   ]
  },
  {
   "cell_type": "code",
   "execution_count": null,
   "metadata": {},
   "outputs": [],
   "source": [
    "from sklearn.metrics import f1_score\n",
    "\n",
    "\n",
    "plt.figure(figsize =(4,4))\n",
    "\n",
    "path_link ='/home/vikram/BCSD_data/PCMCI_Walker/pcmci_plots/'\n",
    "link_mat_ref = np.any(np.load(path_link + 'data_ncar.npy'),axis= 2).flatten()\n",
    "link_mat_ref = np.load(path_link + 'data_ncar.npy').flatten()\n",
    "\n",
    "mat_f1 = np.zeros((5,4))  ## mthods  x gcms\n",
    "for miter,method in enumerate(['gcm','bc','eqm_bc','mbc','mbcp']):\n",
    "    for gcm_no in range(4):\n",
    "        \n",
    "        link_mat  = np.load(path_link+ 'data_' + method +'_0' + strcm_no+1) +'.npy')\n",
    "        print(link_mat.shape)\n",
    "        link_all= np.any(link_mat,axis= 2).flatten()\n",
    "        link_all= link_mat.flatten()\n",
    "        \n",
    "        mat_f1[miter , gcm_no] =   f1_score(link_mat_ref,link_all)\n",
    "\n",
    "\n",
    "import seaborn as sns\n",
    "h=sns.heatmap(mat_f1[:,(0,1,3)].T, linewidth = 2 , cmap = 'Greens', \n",
    "          annot=True,\n",
    "          fmt=\".2f\", square=True,\n",
    "          yticklabels=['M','C','G'],\n",
    "          xticklabels=['GCM','QM','EQM','MBC','MBCp'],vmin=0,vmax=1,\n",
    "             \n",
    "          cbar_kws={'label': 'f1 score','extend':None},cbar = True)\n",
    "plt.ylabel('GCMs')\n",
    "plt.title('F1 score')\n",
    "plt.savefig('f1_scores.svg')"
   ]
  },
  {
   "cell_type": "code",
   "execution_count": null,
   "metadata": {},
   "outputs": [],
   "source": [
    "np.save(fname+'_val_mat',link_matrix);\n"
   ]
  },
  {
   "cell_type": "markdown",
   "metadata": {
    "id": "kW_yt5QBVm_7",
    "tags": []
   },
   "source": [
    "# PCMCI RND BC"
   ]
  },
  {
   "cell_type": "code",
   "execution_count": null,
   "metadata": {},
   "outputs": [],
   "source": []
  },
  {
   "cell_type": "code",
   "execution_count": null,
   "metadata": {
    "id": "ZB0eCAGYVm_8"
   },
   "outputs": [],
   "source": [
    "data=data_bc_rnd_01\n",
    "data[np.isnan(data)]=0\n",
    "var_names = [r'WPAC', r'CPAC', r'EPAC', r'ATL']\n",
    "a,b,c,d=pcmci_parcorr(data,var_names,alpha_sig,taumax,path_out + '/pcmci_plots/data_bc_rnd_01')\n",
    "\n"
   ]
  },
  {
   "cell_type": "code",
   "execution_count": null,
   "metadata": {
    "colab": {
     "base_uri": "https://localhost:8080/",
     "height": 631
    },
    "executionInfo": {
     "elapsed": 2936,
     "status": "ok",
     "timestamp": 1640179920357,
     "user": {
      "displayName": "Vikram Singh Chandel",
      "photoUrl": "https://lh3.googleusercontent.com/a/default-user=s64",
      "userId": "07964427013125611178"
     },
     "user_tz": -330
    },
    "id": "26GS585vVm_8",
    "outputId": "9f539a51-5515-49b1-9ce6-3a676fa95b6f"
   },
   "outputs": [],
   "source": [
    "data=data_bc_rnd_02\n",
    "data[np.isnan(data)]=0\n",
    "var_names = [r'WPAC', r'CPAC', r'EPAC', r'ATL']\n",
    "a,b,c,d=pcmci_parcorr(data,var_names,alpha_sig,taumax,path_out + '/pcmci_plots/data_bc_rnd_02')\n"
   ]
  },
  {
   "cell_type": "code",
   "execution_count": null,
   "metadata": {
    "colab": {
     "base_uri": "https://localhost:8080/",
     "height": 666
    },
    "executionInfo": {
     "elapsed": 2851,
     "status": "ok",
     "timestamp": 1640179943366,
     "user": {
      "displayName": "Vikram Singh Chandel",
      "photoUrl": "https://lh3.googleusercontent.com/a/default-user=s64",
      "userId": "07964427013125611178"
     },
     "user_tz": -330
    },
    "id": "fyN3FZ4CVm_8",
    "outputId": "331e772b-1955-46b1-a055-60af3060849f"
   },
   "outputs": [],
   "source": [
    "data=data_bc_rnd_03\n",
    "data[np.isnan(data)]=0\n",
    "var_names = [r'WPAC', r'CPAC', r'EPAC', r'ATL']\n",
    "a,b,c,d=pcmci_parcorr(data,var_names,alpha_sig,taumax,path_out + '/pcmci_plots/data_bc_rnd_03')\n"
   ]
  },
  {
   "cell_type": "code",
   "execution_count": null,
   "metadata": {
    "colab": {
     "base_uri": "https://localhost:8080/",
     "height": 649
    },
    "executionInfo": {
     "elapsed": 2962,
     "status": "ok",
     "timestamp": 1640179956239,
     "user": {
      "displayName": "Vikram Singh Chandel",
      "photoUrl": "https://lh3.googleusercontent.com/a/default-user=s64",
      "userId": "07964427013125611178"
     },
     "user_tz": -330
    },
    "id": "q9SnQD0DVm_9",
    "outputId": "af539026-801c-44d8-acff-fad2a5443e15"
   },
   "outputs": [],
   "source": [
    "data=data_bc_rnd_04\n",
    "data[np.isnan(data)]=0\n",
    "var_names = [r'WPAC', r'CPAC', r'EPAC', r'ATL']\n",
    "\n",
    "a,b,c,d=pcmci_parcorr(data,var_names,alpha_sig,taumax,path_out + '/pcmci_plots/data_bc_rnd_04')\n"
   ]
  },
  {
   "cell_type": "markdown",
   "metadata": {
    "id": "-q7bhNi74Po_"
   },
   "source": [
    "# CMI"
   ]
  },
  {
   "cell_type": "code",
   "execution_count": null,
   "metadata": {
    "colab": {
     "base_uri": "https://localhost:8080/"
    },
    "executionInfo": {
     "elapsed": 4728801,
     "status": "ok",
     "timestamp": 1629462657795,
     "user": {
      "displayName": "Vikram Singh Chandel",
      "photoUrl": "",
      "userId": "07964427013125611178"
     },
     "user_tz": -330
    },
    "id": "QyA5PLhDTG_5",
    "outputId": "ad5489e0-3fad-42c1-ad21-c9cb0377827c"
   },
   "outputs": [],
   "source": [
    "cmi_knn = CMIknn(significance='shuffle_test', knn=0.1, shuffle_neighbors=5, transform='ranks')\n",
    "pcmci_cmi_knn = PCMCI(\n",
    "    dataframe=dataframe, \n",
    "    cond_ind_test=cmi_knn)\n",
    "results = pcmci_cmi_knn.run_pcmci(tau_max=6, pc_alpha=0.05)\n",
    "pcmci_cmi_knn.print_significant_links(\n",
    "        p_matrix = results['p_matrix'], \n",
    "        val_matrix = results['val_matrix'],\n",
    "        alpha_level = 0.01)"
   ]
  },
  {
   "cell_type": "code",
   "execution_count": null,
   "metadata": {
    "id": "QooZeCSqIGSK"
   },
   "outputs": [],
   "source": [
    "link_matrix = pcmci_cmi_knn.return_significant_links(pq_matrix=results['p_matrix'],\n",
    "                        val_matrix=results['val_matrix'], alpha_level=0.05)['link_matrix']"
   ]
  },
  {
   "cell_type": "code",
   "execution_count": null,
   "metadata": {
    "id": "HDcLEuTJH1mi"
   },
   "outputs": [],
   "source": [
    "np.save(path_out + '/results_matrix',results)\n",
    "np.save(path_out + '/link_matrix',link_matrix)"
   ]
  },
  {
   "cell_type": "code",
   "execution_count": null,
   "metadata": {
    "colab": {
     "background_save": true
    },
    "id": "pcWG1_GqTWzE",
    "outputId": "850a2bf6-e5e8-4512-fa4b-b6790a06c313"
   },
   "outputs": [],
   "source": [
    "link_matrix = pcmci_cmi_knn.return_significant_links(pq_matrix=results['p_matrix'],\n",
    "                        val_matrix=results['val_matrix'], alpha_level=0.05)['link_matrix']\n",
    "tp.plot_graph(\n",
    "    val_matrix=results['val_matrix'],\n",
    "    link_matrix=link_matrix,\n",
    "    var_names=var_names,\n",
    "    link_colorbar_label='cross-MCI',\n",
    "    node_colorbar_label='auto-MCI',\n",
    "    vmin_edges=0.,\n",
    "    vmax_edges = 0.3,\n",
    "    edge_ticks=0.05,\n",
    "    cmap_edges='OrRd',\n",
    "    vmin_nodes=0,\n",
    "    vmax_nodes=.5,\n",
    "    node_ticks=.1,\n",
    "    cmap_nodes='OrRd',\n",
    "    ); plt.show()"
   ]
  },
  {
   "cell_type": "code",
   "execution_count": null,
   "metadata": {
    "id": "bzDNnv6cHvk5"
   },
   "outputs": [],
   "source": []
  },
  {
   "cell_type": "code",
   "execution_count": null,
   "metadata": {
    "colab": {
     "base_uri": "https://localhost:8080/",
     "height": 271
    },
    "executionInfo": {
     "elapsed": 1552,
     "status": "ok",
     "timestamp": 1629462981881,
     "user": {
      "displayName": "Vikram Singh Chandel",
      "photoUrl": "",
      "userId": "07964427013125611178"
     },
     "user_tz": -330
    },
    "id": "uf7d3drePKkv",
    "outputId": "bf90b9af-a586-4701-8599-afdcc7468ce1"
   },
   "outputs": [],
   "source": [
    "tp.plot_graph(\n",
    "    val_matrix=results['val_matrix'],\n",
    "    link_matrix=link_matrix,\n",
    "    var_names=var_names,\n",
    "    link_colorbar_label='cross-MCI',\n",
    "    node_colorbar_label='auto-MCI'\n",
    "    ); plt.show()"
   ]
  },
  {
   "cell_type": "code",
   "execution_count": null,
   "metadata": {
    "id": "1KiLB08JqETh"
   },
   "outputs": [],
   "source": []
  },
  {
   "cell_type": "code",
   "execution_count": null,
   "metadata": {
    "id": "nbhq1T-kp0vG"
   },
   "outputs": [],
   "source": []
  }
 ],
 "metadata": {
  "colab": {
   "authorship_tag": "ABX9TyP0su/GfabBwsrF4U5DhxHD",
   "collapsed_sections": [
    "nqsgbYLyFaz6",
    "lyz7VtSLEZSV",
    "0_Bln1Nbocdh",
    "yBXh4xqlxnRB",
    "gt5LBCQJxpyU",
    "jATLaavjxr0m",
    "CAo6GMvvwcoc",
    "Kzh6EfhHq38u",
    "KjV5oAezq8UL",
    "2vJsj9mGq91h",
    "kW_yt5QBVm_7",
    "-q7bhNi74Po_"
   ],
   "mount_file_id": "1SQfcxBrF-nQQmWrT-z2jSqaGMasVXutD",
   "name": "Figure 4 - ISMR_NAO_SOI",
   "provenance": []
  },
  "kernelspec": {
   "display_name": "Python 3 (ipykernel)",
   "language": "python",
   "name": "python3"
  },
  "language_info": {
   "codemirror_mode": {
    "name": "ipython",
    "version": 3
   },
   "file_extension": ".py",
   "mimetype": "text/x-python",
   "name": "python",
   "nbconvert_exporter": "python",
   "pygments_lexer": "ipython3",
   "version": "3.9.12"
  }
 },
 "nbformat": 4,
 "nbformat_minor": 4
}
