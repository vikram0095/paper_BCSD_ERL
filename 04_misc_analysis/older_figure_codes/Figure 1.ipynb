{
 "cells": [
  {
   "cell_type": "code",
   "execution_count": null,
   "metadata": {
    "executionInfo": {
     "elapsed": 416,
     "status": "ok",
     "timestamp": 1655100642669,
     "user": {
      "displayName": "Vikram Singh Chandel",
      "userId": "07964427013125611178"
     },
     "user_tz": -330
    },
    "id": "fKd-tcXtK_Tj"
   },
   "outputs": [],
   "source": [
    "import utility_module_2_v_3 as uu\n",
    "import numpy as np\n",
    "import matplotlib.pyplot as plt\n",
    "import numpy.ma as ma\n",
    "from numpy import meshgrid\n",
    "from mpl_toolkits.basemap import Basemap\n",
    "\n",
    "# import geopandas as gpd\n",
    "# from shapely.geometry  import Point\n",
    "# from shapely.geometry import shape\n",
    "# import seaborn as sns\n",
    "from matplotlib.patches import Rectangle\n",
    "import geopandas as gpd\n",
    "from shapely.geometry  import Point\n",
    "from shapely.geometry import shape\n",
    "\n",
    "\n",
    "import pandas as pd \n"
   ]
  },
  {
   "cell_type": "markdown",
   "metadata": {
    "id": "9MGiFJ8WtzQY"
   },
   "source": [
    "# defs"
   ]
  },
  {
   "cell_type": "markdown",
   "metadata": {
    "id": "6rCGZi_YOy2P"
   },
   "source": [
    "## other functions"
   ]
  },
  {
   "cell_type": "code",
   "execution_count": null,
   "metadata": {
    "executionInfo": {
     "elapsed": 5,
     "status": "ok",
     "timestamp": 1655100652140,
     "user": {
      "displayName": "Vikram Singh Chandel",
      "userId": "07964427013125611178"
     },
     "user_tz": -330
    },
    "id": "00UPUuJqY1Gf"
   },
   "outputs": [],
   "source": [
    "def create_mask(fo,lat_obs_cru,lon_obs_cru,buffer=0,plot=0):\n",
    "  filename=gpd.read_file(fo)\n",
    "  shp_geom = shape(filename.geometry[0])\n",
    "\n",
    "  xxc, yyc = meshgrid(lon_obs_cru,lat_obs_cru)\n",
    "  mask_shape=np.zeros(xxc.shape,dtype=bool)\n",
    "  if plot==1:\n",
    "    x,y = shp_geom.exterior.xy\n",
    "    plt.plot(x,y)\n",
    "  N1=xxc.shape[0]\n",
    "  N2=xxc.shape[1]\n",
    "\n",
    "  for lat_i in range(0,N1):\n",
    "    for lon_i in range(0,N2):\n",
    "      xi=xxc[lat_i,lon_i]\n",
    "      yi=yyc[lat_i,lon_i]\n",
    "      m1= (shp_geom.contains(Point(xi, yi)) or shp_geom.touches(Point(xi, yi)))\n",
    "      mask_shape[lat_i,lon_i]=not m1\n",
    "\n",
    "  return mask_shape"
   ]
  },
  {
   "cell_type": "markdown",
   "metadata": {
    "id": "KQ7_Xd8CfKyR"
   },
   "source": [
    "# init"
   ]
  },
  {
   "cell_type": "code",
   "execution_count": null,
   "metadata": {
    "colab": {
     "base_uri": "https://localhost:8080/",
     "height": 35
    },
    "executionInfo": {
     "elapsed": 11,
     "status": "ok",
     "timestamp": 1655100421198,
     "user": {
      "displayName": "Vikram Singh Chandel",
      "userId": "07964427013125611178"
     },
     "user_tz": -330
    },
    "id": "YLwaVMxlq0Sz",
    "outputId": "5e2d9f53-b583-499d-cd1d-4300f195278e"
   },
   "outputs": [],
   "source": [
    "gcm_names=['MIROC_ESM','CanESM2','HadGEM2_AO','GFDL_CM3']\n",
    "gcm_iter=1\n",
    "gcm_name=gcm_names[gcm_iter]\n",
    "gcm_name\n",
    "data_plot_all = []"
   ]
  },
  {
   "cell_type": "markdown",
   "metadata": {
    "id": "2NG2USEmDeTg",
    "tags": []
   },
   "source": [
    "##  Bias "
   ]
  },
  {
   "cell_type": "code",
   "execution_count": null,
   "metadata": {
    "id": "ZHQrc2EPmhZC"
   },
   "outputs": [],
   "source": [
    "path_US_T='/home/vikram/BCSD_data/US_T_BCSD/'\n",
    "path_US_P='/home/vikram/BCSD_data/US_P_BCSD/'\n",
    "\n",
    "metadata=np.load(path_US_T + '/tas_metadata'+gcm_names[gcm_iter]+'.npy', allow_pickle=True)\n",
    "lat_obs_us=metadata.item()['lat_obs']\n",
    "lon_obs_us=metadata.item()['lon_obs']\n",
    "lat_gcm_1=metadata.item()['lat_gcm']\n",
    "lon_gcm_1=metadata.item()['lon_gcm']\n",
    "\n",
    "mask_fine_us=create_mask('/home/vikram/BCSD_Shapefiles/us_rough.shp',lat_obs_us.data,lon_obs_us.data-360,buffer=0,plot=0)\n",
    "\n",
    "tas_obs=np.load(path_US_T + '/tas_obs.npy')\n",
    "tas_gcmf=np.load(path_US_T + '/tas_gcm_fine_'+gcm_names[gcm_iter]+'.npy')\n",
    "tas_bcsd=np.load(path_US_T + '/BCSD_outputs_tas_'+gcm_names[gcm_iter]+'_cru.npy')\n",
    "\n",
    "\n",
    "bias= tas_obs - tas_gcmf\n",
    "correction =tas_bcsd  -tas_obs\n",
    "\n",
    "data_plot_all.append(bias)\n",
    "data_plot_all.append(correction)\n"
   ]
  },
  {
   "cell_type": "code",
   "execution_count": null,
   "metadata": {
    "id": "EgGXzpRE1upm"
   },
   "outputs": [],
   "source": [
    "metadata=np.load(path_US_P+'/pre_metadata'+gcm_names[gcm_iter]+'.npy', allow_pickle=True)\n",
    "lat_obs_us=metadata.item()['lat_obs']\n",
    "lon_obs_us=metadata.item()['lon_obs']\n",
    "lat_gcm_1=metadata.item()['lat_gcm']\n",
    "lon_gcm_1=metadata.item()['lon_gcm']\n",
    "\n",
    "pre_obs=np.load(path_US_P+'/pre_obs.npy')\n",
    "pre_gcmf=np.load(path_US_P+'/pre_gcm_fine'+gcm_names[gcm_iter]+'.npy')\n",
    "pre_bcsd=np.load(path_US_P+'/BCSD_outputs_pre_'+gcm_names[gcm_iter]+'_cru.npy')\n",
    "\n",
    "bias= pre_obs - pre_gcmf\n",
    "correction = pre_bcsd -pre_obs\n",
    "\n",
    "data_plot_all.append(bias)\n",
    "data_plot_all.append(correction)\n",
    "\n"
   ]
  },
  {
   "cell_type": "code",
   "execution_count": null,
   "metadata": {},
   "outputs": [],
   "source": [
    "path_out ='/home/vikram/BCSD_data/India_T_BCSDd/'\n",
    "gcm_meta_01=(np.load(path_out + '/bcsd_imd_metadata_'+gcm_name+'.npy',\n",
    "                     allow_pickle=True)).item()\n",
    "start_index = gcm_meta_01['Nyears_train']*365\n",
    "imd=uu.correct_nan_inf_neg(np.load(path_out + '/data_obs_imd_pred.npy'))[start_index:]\n",
    "gcm_01=uu.correct_nan_inf_neg(np.load(path_out + '/data_gcm_'+gcm_name+'_imd_pred.npy'))[start_index:]\n",
    "out_id='tas_'+gcm_name\n",
    "bcsd_gcm_01=uu.correct_nan_inf_neg(np.load(path_out + '/BCSD_outputs_'+out_id+'.npy'))[start_index:]\n",
    "\n",
    "lat_obs_in_t=gcm_meta_01['lat_obs']\n",
    "lon_obs_in_t=gcm_meta_01['lon_obs']\n",
    "lat_gcm_01_t=gcm_meta_01['lat_gcm']\n",
    "lon_gcm_01_t=gcm_meta_01['lon_gcm']\n",
    "\n",
    "data_gf=np.zeros(imd.shape)\n",
    "for i in range(gcm_01.shape[0]):\n",
    "  data_gf[i,:,:]=uu.regrid(gcm_01[i,:,:],lat_gcm_01_t,lon_gcm_01_t,lat_obs_in_t,lon_obs_in_t)\n",
    "\n",
    "bias= imd - data_gf\n",
    "correction = bcsd_gcm_01 -imd\n",
    "\n",
    "data_plot_all.append(bias)\n",
    "data_plot_all.append(correction)\n",
    "mask_fine_india_t = gcm_meta_01['mask']"
   ]
  },
  {
   "cell_type": "code",
   "execution_count": null,
   "metadata": {},
   "outputs": [],
   "source": [
    "bias.shape,start_index\n",
    "gcm_meta_01['Nyears_train']*365"
   ]
  },
  {
   "cell_type": "code",
   "execution_count": null,
   "metadata": {},
   "outputs": [],
   "source": [
    "path_out ='/home/vikram/BCSD_data/India_P_BCSDd/'\n",
    "gcm_meta_01=(np.load(path_out + '/bcsd_imd_metadata_'+gcm_name+'.npy',\n",
    "                     allow_pickle=True)).item()\n",
    "start_index = gcm_meta_01['Nyears_train']*365\n",
    "\n",
    "imd_pre=uu.correct_nan_inf_neg(np.load(path_out + '/data_obs_imd_pred.npy'))[start_index:]\n",
    "\n",
    "gcm_01=uu.correct_nan_inf_neg(np.load(path_out + '/data_gcm_'+gcm_name+'_imd_pred.npy'))[start_index:]\n",
    "out_id='pre_'+gcm_name\n",
    "bcsd_gcm_01=uu.correct_nan_inf_neg(np.load(path_out + '/BCSD_outputs_'+out_id+'.npy'))[start_index:]\n",
    "\n",
    "lat_obs_in=gcm_meta_01['lat_obs']\n",
    "lon_obs_in=gcm_meta_01['lon_obs']\n",
    "lat_gcm_01=gcm_meta_01['lat_gcm']\n",
    "lon_gcm_01=gcm_meta_01['lon_gcm']\n",
    "data_gf=np.zeros(imd_pre.shape)\n",
    "for i in range(gcm_01.shape[0]):\n",
    "  data_gf[i,:,:]=uu.regrid(gcm_01[i,:,:],lat_gcm_01,lon_gcm_01,lat_obs_in,lon_obs_in)\n",
    "\n",
    "bias= imd_pre - data_gf\n",
    "correction = bcsd_gcm_01 -imd_pre\n",
    "\n",
    "data_plot_all.append(bias)\n",
    "data_plot_all.append(correction)\n",
    "mask_fine_india = gcm_meta_01['mask']\n"
   ]
  },
  {
   "cell_type": "code",
   "execution_count": null,
   "metadata": {},
   "outputs": [],
   "source": [
    "data_plot_all[7].shape\n",
    "bias.shape"
   ]
  },
  {
   "cell_type": "markdown",
   "metadata": {},
   "source": [
    "# Plot"
   ]
  },
  {
   "cell_type": "code",
   "execution_count": null,
   "metadata": {
    "id": "UgeTB1gwk85z"
   },
   "outputs": [],
   "source": [
    "from matplotlib.patches import Rectangle\n",
    "data_plot_all[0].shape"
   ]
  },
  {
   "cell_type": "code",
   "execution_count": null,
   "metadata": {
    "colab": {
     "base_uri": "https://localhost:8080/",
     "height": 536
    },
    "executionInfo": {
     "elapsed": 8057,
     "status": "ok",
     "timestamp": 1637995474647,
     "user": {
      "displayName": "Vikram Singh Chandel",
      "photoUrl": "https://lh3.googleusercontent.com/a/default-user=s64",
      "userId": "07964427013125611178"
     },
     "user_tz": -330
    },
    "id": "QoGyHNB4W9m6",
    "outputId": "780ff973-70c2-4a95-e11e-6197daf39183"
   },
   "outputs": [],
   "source": [
    "grid_us_lat_iter,grid_us_lon_iter  = 25 , 52\n",
    "grid_india_lat_iter,grid_india_lon_iter = 14,16\n",
    "\n",
    "data_plot=data_plot_all\n",
    "\n",
    "cmaps = ['RdBu_r','RdBu_r','BrBG','BrBG','RdBu_r','RdBu_r','BrBG','BrBG',]\n",
    "titles_plot=[\n",
    "             '$\\mu_{gcm}$ - $\\mu_{obs}$','$\\mu_{bcsd}$ - $\\mu_{obs}$',\n",
    "             '$\\mu_{gcm}$ - $\\mu_{obs}$','$\\mu_{bcsd}$ - $\\mu_{obs}$',\n",
    "             '$\\mu_{gcm}$ - $\\mu_{obs}$','$\\mu_{bcsd}$ - $\\mu_{obs}$',\n",
    "             '$\\mu_{gcm}$ - $\\mu_{obs}$','$\\mu_{bcsd}$ - $\\mu_{obs}$',\n",
    "             ]\n",
    "\n",
    "clab_plot=['$\\degree$C','$\\degree$C','mm/month','mm/month','$\\degree$C','$\\degree$C','mm/day','mm/day']\n",
    "\n",
    "masks=[mask_fine_us,mask_fine_us,mask_fine_us,mask_fine_us,mask_fine_india_t,mask_fine_india_t,mask_fine_india,mask_fine_india]\n",
    "\n",
    "clims=[[-6,6],[-6,6],[-60,60],[-60,60],[-5,5],[-5,5],[-5,5],[-5,5]]\n",
    "\n",
    "fig=plt.figure(figsize=(12,10))\n",
    "\n",
    "for siter in range(8):\n",
    "  if siter<4:\n",
    "    lat_box=uu.cen_to_box(lat_obs_us)\n",
    "    lon_box=uu.cen_to_box(lon_obs_us)\n",
    "    rhx=lon_obs_us[grid_us_lon_iter+2]-lon_obs_us[grid_us_lon_iter]\n",
    "    rhy=lat_obs_us[grid_us_lat_iter+2]-lat_obs_us[grid_us_lat_iter]    \n",
    "    ll=(lon_obs_us[grid_us_lon_iter]-0.5*rhx,lat_obs_us[grid_us_lat_iter]-0.5*rhy)\n",
    "    print(ll)\n",
    "    mp_spacing=10\n",
    "    map_bounds=[360-125,52.5,360-70,22.5]\n",
    "    shape_bound='/home/vikram/BCSD_Shapefiles/us_rough'\n",
    "  elif siter<6:\n",
    "\n",
    "    \n",
    "    lat_box=uu.cen_to_box(lat_obs_in_t)\n",
    "    lon_box=uu.cen_to_box(lon_obs_in_t)\n",
    "    \n",
    "    rhx=lon_obs_in_t[grid_india_lon_iter+1]-lon_obs_in_t[grid_india_lon_iter]\n",
    "    rhy=lat_obs_in_t[grid_india_lat_iter+1]-lat_obs_in_t[grid_india_lat_iter]\n",
    "    ll=(lon_obs_in_t[grid_india_lon_iter]-0.5*rhx,lat_obs_in_t[grid_india_lat_iter]-0.5*rhy)\n",
    "\n",
    "    mp_spacing=10\n",
    "    map_bounds=[55,37.5,110,7.5]\n",
    "    shape_bound='/home/vikram/BCSD_Shapefiles/ind'\n",
    "  else:\n",
    "\n",
    "    \n",
    "    lat_box=uu.cen_to_box(lat_obs_in)\n",
    "    lon_box=uu.cen_to_box(lon_obs_in)\n",
    "    \n",
    "    rhx=lon_obs_in[grid_india_lon_iter+1]-lon_obs_in[grid_india_lon_iter]\n",
    "    rhy=lat_obs_in[grid_india_lat_iter+1]-lat_obs_in[grid_india_lat_iter]\n",
    "    ll=(lon_obs_in[grid_india_lon_iter]-0.5*rhx,lat_obs_in[grid_india_lat_iter]-0.5*rhy)\n",
    "\n",
    "    mp_spacing=10\n",
    "    map_bounds=[55,37.5,110,7.5]\n",
    "    shape_bound='/home/vikram/BCSD_Shapefiles/ind'\n",
    "\n",
    "  axx=plt.subplot(4,2,siter+1)\n",
    "\n",
    "  data_x=ma.MaskedArray(np.nanmean(data_plot[siter],axis=0),mask=masks[siter])\n",
    "\n",
    "  map = Basemap(projection='cyl',resolution='l',\n",
    "                llcrnrlon=map_bounds[0], \n",
    "                urcrnrlat=map_bounds[1],\n",
    "                urcrnrlon=map_bounds[2], \n",
    "                llcrnrlat=map_bounds[3])\n",
    "\n",
    "  xx, yy = meshgrid(lon_box,lat_box )\n",
    "  map.pcolor(xx, yy, -data_x,cmap=cmaps[siter])\n",
    "  map.drawmeridians(np.arange(-180,180,mp_spacing),labels=[0,0,0,1], linewidth=1.0) #longitudes\n",
    "  map.drawparallels(np.arange(-90,90,mp_spacing),labels=[(1+siter)%2,0,0,0], linewidth=1.0) #latitudes\n",
    "  cbar = map.colorbar(extend='both')\n",
    "  cbar.set_label(clab_plot[siter], rotation=90)\n",
    "  plt.clim(clims[siter])\n",
    "\n",
    "  rect1 = Rectangle(ll, rhx, rhy, facecolor='none',edgecolor='black' )\n",
    "  pt1=axx.add_patch(rect1) \n",
    "  pt1.zorder=1\n",
    "  pt1.set_lw(2)\n",
    "  if siter<4:\n",
    "    map.drawcountries(linewidth=1)\n",
    "    map.drawcoastlines(linewidth=1)\n",
    "  else:\n",
    "    map.readshapefile(shape_bound,'DD',drawbounds=True)\n",
    "    # pass\n",
    "\n",
    "  #map.drawcoastlines(linewidth=1)\n",
    "  if siter<2:\n",
    "    plt.title(titles_plot[siter],fontsize=16)\n",
    "  plt.text(0, 1, chr((siter // 2 ) *4+ (siter % 2 )+96+1), horizontalalignment='right',verticalalignment='bottom', transform=axx.transAxes,fontweight=800,\n",
    "            fontsize=20,color='k')\n",
    "\n",
    "\n",
    "fig.text(0.0, 0.875, 'US Temperature', ha='center',va='center', rotation='vertical', fontsize=12)\n",
    "fig.text(0.0, 0.625, 'US Precipitation', ha='center', va='center', rotation='vertical', fontsize=12)\n",
    "fig.text(0.0, 0.375, 'Indian Temperature', ha='center', va='center', rotation='vertical', fontsize=12)\n",
    "fig.text(0.0, 0.125, 'Indian Precipitation', ha='center', va='center', rotation='vertical', fontsize=12)\n",
    "\n",
    "fig.suptitle(gcm_name)\n",
    "plt.tight_layout()\n",
    "plt.savefig('./Figures/Figure1/bias_and_change_'+gcm_name+'.svg')"
   ]
  },
  {
   "cell_type": "markdown",
   "metadata": {
    "id": "FYYqBOgCiGXh"
   },
   "source": [
    "# Correction Characteristics"
   ]
  },
  {
   "cell_type": "markdown",
   "metadata": {
    "id": "zWxuYj5fRrqm"
   },
   "source": [
    "## ACF and distribution"
   ]
  },
  {
   "cell_type": "code",
   "execution_count": null,
   "metadata": {
    "colab": {
     "base_uri": "https://localhost:8080/",
     "height": 554
    },
    "executionInfo": {
     "elapsed": 2018,
     "status": "ok",
     "timestamp": 1637995488860,
     "user": {
      "displayName": "Vikram Singh Chandel",
      "photoUrl": "https://lh3.googleusercontent.com/a/default-user=s64",
      "userId": "07964427013125611178"
     },
     "user_tz": -330
    },
    "id": "61ns1zJQSpmY",
    "outputId": "7a99ae1f-2e10-423f-b73b-23f917034cb1"
   },
   "outputs": [],
   "source": [
    "import matplotlib.pyplot as plt\n",
    "import statsmodels.api as sm\n",
    "fig = plt.figure(figsize=(12,10))\n",
    "lxx =-0.04\n",
    "lyy=1\n",
    "i,j=grid_us_lat_iter,grid_us_lon_iter\n",
    "x=data_plot_all[1][::12,i,j]\n",
    "\n",
    "ax = plt.subplot(4,3,1)\n",
    "plt.plot(x)\n",
    "plt.ylabel(\"Correction\\nfor January ($\\degree$C)\")\n",
    "plt.xticks(range(0,105,30),range(1901,2005,30))\n",
    "#plt.xlabel('Years')\n",
    "plt.text(lxx, lyy, 'b', horizontalalignment='right',verticalalignment='bottom', transform=ax.transAxes,fontweight=800,\n",
    "        fontsize=20,color='k')\n",
    "\n",
    "ax = plt.subplot(4,3,2)\n",
    "plt.hist(x, orientation='horizontal')\n",
    "#plt.xlabel('Frequency')\n",
    "plt.text(lxx, lyy, 'c', horizontalalignment='right',verticalalignment='bottom', transform=ax.transAxes,fontweight=800,\n",
    "        fontsize=20,color='k')\n",
    "\n",
    "ax=plt.subplot(4,3,3)\n",
    "sm.graphics.tsa.plot_acf(x, lags=10,alpha=0.01,ax=ax,title=\"\")\n",
    "#plt.xlabel('Lags')\n",
    "plt.ylabel('ACF')\n",
    "plt.text(lxx, lyy, 'd', horizontalalignment='right',verticalalignment='bottom', transform=ax.transAxes,fontweight=800,\n",
    "        fontsize=20,color='k')\n",
    "\n",
    "\n",
    "\n",
    "i,j=grid_us_lat_iter,grid_us_lon_iter\n",
    "x=data_plot_all[3][::12,i,j]\n",
    "\n",
    "ax = plt.subplot(4,3,4)\n",
    "plt.plot(x)\n",
    "plt.ylabel(\"Correction\\nfor January (mm)\")\n",
    "plt.xticks(range(0,105,30),range(1901,2005,30))\n",
    "#plt.xlabel('Years')\n",
    "plt.text(lxx, lyy, 'f', horizontalalignment='right',verticalalignment='bottom', transform=ax.transAxes,fontweight=800,\n",
    "        fontsize=20,color='k')\n",
    "\n",
    "ax = plt.subplot(4,3,5)\n",
    "plt.hist(x, orientation='horizontal')\n",
    "#plt.xlabel('Frequency')\n",
    "plt.text(lxx, lyy, 'g', horizontalalignment='right',verticalalignment='bottom', transform=ax.transAxes,fontweight=800,\n",
    "        fontsize=20,color='k')\n",
    "\n",
    "ax=plt.subplot(4,3,6)\n",
    "sm.graphics.tsa.plot_acf(x, lags=10,alpha=0.01,ax=ax,title=\"\")\n",
    "#plt.xlabel('Lags')\n",
    "plt.ylabel('ACF')\n",
    "plt.text(lxx, lyy, 'h', horizontalalignment='right',verticalalignment='bottom', transform=ax.transAxes,fontweight=800,\n",
    "        fontsize=20,color='k')\n",
    "\n",
    "\n",
    "i,j=grid_india_lat_iter,grid_india_lon_iter\n",
    "x=data_plot_all[5][213::365,i,j]\n",
    "ax = plt.subplot(4,3,7)\n",
    "plt.plot(x)\n",
    "plt.ylabel(\"Correction\\nfor $1^{st}$ August ($\\degree$C)\")\n",
    "plt.xticks(range(0,30,7),range(1976,2005,7))\n",
    "plt.text(lxx, lyy, 'j', horizontalalignment='right',verticalalignment='bottom', transform=ax.transAxes,fontweight=800,\n",
    "        fontsize=20,color='k')\n",
    "\n",
    "ax = plt.subplot(4,3,8)\n",
    "plt.hist(x, orientation='horizontal')\n",
    "plt.text(lxx, lyy, 'k', horizontalalignment='right',verticalalignment='bottom', transform=ax.transAxes,fontweight=800,\n",
    "        fontsize=20,color='k')\n",
    "\n",
    "ax=plt.subplot(4,3,9)\n",
    "sm.graphics.tsa.plot_acf(x, lags=10,alpha=0.01,ax=ax,title=\"\")\n",
    "plt.ylabel('ACF')\n",
    "plt.text(lxx, lyy, 'l', horizontalalignment='right',verticalalignment='bottom', transform=ax.transAxes,fontweight=800,\n",
    "        fontsize=20,color='k')\n",
    "\n",
    "\n",
    "\n",
    "i,j=grid_india_lat_iter,grid_india_lon_iter\n",
    "x=data_plot_all[7][213::365,i,j]\n",
    "\n",
    "ax = plt.subplot(4,3,10)\n",
    "plt.plot(x)\n",
    "plt.ylabel(\"Correction\\nfor $1^{st}$ August (mm)\")\n",
    "plt.xticks(range(0,55,15),range(1951,2005,15))\n",
    "plt.xlabel('Years')\n",
    "plt.text(lxx, lyy, 'n', horizontalalignment='right',verticalalignment='bottom', transform=ax.transAxes,fontweight=800,\n",
    "        fontsize=20,color='k')\n",
    "\n",
    "\n",
    "ax = plt.subplot(4,3,11)\n",
    "plt.hist(x, orientation='horizontal')\n",
    "plt.xlabel('Frequency')\n",
    "plt.text(lxx, lyy, 'o', horizontalalignment='right',verticalalignment='bottom', transform=ax.transAxes,fontweight=800,\n",
    "        fontsize=20,color='k')\n",
    "\n",
    "ax=plt.subplot(4,3,12)\n",
    "sm.graphics.tsa.plot_acf(x, lags=10,alpha=0.01,ax=ax,title=\"\")\n",
    "plt.xlabel('Lags')\n",
    "plt.ylabel('ACF')\n",
    "plt.text(lxx, lyy, 'p', horizontalalignment='right',verticalalignment='bottom', transform=ax.transAxes,fontweight=800,\n",
    "        fontsize=20,color='k')\n",
    "\n",
    "\n",
    "\n",
    "# \n",
    "plt.tight_layout()\n",
    "\n",
    "plt.suptitle(gcm_name)\n",
    "\n",
    "plt.savefig('./Figures/Figure1/ts_dist_acf_'+gcm_name+'.svg')\n"
   ]
  },
  {
   "cell_type": "code",
   "execution_count": null,
   "metadata": {},
   "outputs": [],
   "source": []
  },
  {
   "cell_type": "code",
   "execution_count": null,
   "metadata": {},
   "outputs": [],
   "source": []
  }
 ],
 "metadata": {
  "colab": {
   "authorship_tag": "ABX9TyPawuAkg8Z02o09yH2IQNlU",
   "collapsed_sections": [
    "dU2nvEm8MCa5",
    "2NG2USEmDeTg",
    "KjsqWLFr1upl",
    "D_Y5XbZnmhZC",
    "Xg4zONeqnmO9",
    "d0VsKMDYFrxL"
   ],
   "mount_file_id": "1VlyiGYmEpVqrnjayEPjJp7X8EHjpPLMR",
   "name": "Figure 2 AND Figure 3.ipynb",
   "provenance": [
    {
     "file_id": "1R87Z8gZrwK8rXFmacCSUg_UYk7GAmdp3",
     "timestamp": 1625652572820
    }
   ]
  },
  "kernelspec": {
   "display_name": "Python 3 (ipykernel)",
   "language": "python",
   "name": "python3"
  },
  "language_info": {
   "codemirror_mode": {
    "name": "ipython",
    "version": 3
   },
   "file_extension": ".py",
   "mimetype": "text/x-python",
   "name": "python",
   "nbconvert_exporter": "python",
   "pygments_lexer": "ipython3",
   "version": "3.9.12"
  }
 },
 "nbformat": 4,
 "nbformat_minor": 4
}
