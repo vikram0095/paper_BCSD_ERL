{
 "cells": [
  {
   "cell_type": "code",
   "execution_count": 1,
   "id": "c44e9279-c5f1-4f61-9e05-6a5683f40b62",
   "metadata": {},
   "outputs": [],
   "source": [
    "import svgutils.transform as sg\n",
    "import sys \n"
   ]
  },
  {
   "cell_type": "code",
   "execution_count": 2,
   "id": "4d6cbe19-567f-415e-82cf-11dab7ea7b58",
   "metadata": {},
   "outputs": [],
   "source": [
    "grid_x =200\n",
    "grid_y =220\n",
    "left_pad = 10\n",
    "top_pad = 20\n",
    "     \n",
    "        \n",
    "data_iters = ['data_gcm','data_bc','data_eqm_bc','data_mbc','data_mbcp']\n",
    "bct = ['Raw ESM',\"  QM   \",'  EQM ','  MBC  ','  MBCp  ']\n",
    "gcm_no = [0,1,3]\n",
    "\n",
    "\n",
    "gcm_names=['MIROC_ESM','CanESM2','GFDL_CM3']\n",
    "\n",
    "fig = sg.SVGFigure(\"100cm\", \"100cm\")\n",
    "for xx in range(1,6):\n",
    "    for yy in range(3):\n",
    "        siter = xx  + yy * 5\n",
    "        fig1 = sg.fromfile('/home/vikram/BCSD_data/PCMCI_Walker/pcmci_plots/'+data_iters[xx-1]+'_0'+str(gcm_no[yy]+1)+'.svg')\n",
    "        plot1 = fig1.getroot()\n",
    "        plot1.moveto(left_pad + grid_x * xx, top_pad +grid_y * yy, scale_x=1)\n",
    "\n",
    "        txt1 = sg.TextElement(left_pad + 35 + grid_x * xx, top_pad + 40+ grid_y * yy, chr(97+siter), size=20, weight=\"bold\")\n",
    "        if(yy==0):\n",
    "            txt2 = sg.TextElement(left_pad -20 + grid_x/2 + grid_x * xx, top_pad + grid_y * yy, bct[xx-1], size=20,weight ='bold')\n",
    "        if xx == 1:\n",
    "            txt3 = sg.TextElement(left_pad -20 + grid_x/2 + grid_x * xx, top_pad + grid_y * yy, gcm_names[yy], size=20,weight ='bold')\n",
    "            pass\n",
    "        fig.append(plot1)\n",
    "        fig.append(txt1)\n",
    "        fig.append(txt2)\n",
    "        fig.append(txt3)\n",
    "        \n",
    "        \n",
    "xx=0\n",
    "yy=0\n",
    "fig1 = sg.fromfile('/home/vikram/BCSD_data/PCMCI_Walker/pcmci_plots/data_ncar.svg')\n",
    "plot1 = fig1.getroot()\n",
    "plot1.moveto(left_pad + grid_x * xx, top_pad +grid_y * yy, scale_x=1)\n",
    "\n",
    "txt1 = sg.TextElement(left_pad + 35 + grid_x * xx, top_pad + 40+ grid_y * yy, 'a', size=20, weight=\"bold\")\n",
    "if(yy==0):\n",
    "    txt2 = sg.TextElement(left_pad -20 + grid_x/2 + grid_x * xx, top_pad + grid_y * yy, bct[xx-1], size=20,weight ='bold')\n",
    "\n",
    "fig.append(plot1)\n",
    "fig.append(txt1)\n",
    "\n",
    "txt3 = sg.TextElement(left_pad -20 + grid_x/2 + grid_x * xx, top_pad + grid_y * yy, 'Reanalysis', size=20,weight ='bold')\n",
    "fig.append(txt3)\n",
    "fig.save(\"figure4new.svg\")\n"
   ]
  },
  {
   "cell_type": "code",
   "execution_count": 44,
   "id": "31bc9996-8f91-4245-8d5c-05401888dd87",
   "metadata": {},
   "outputs": [],
   "source": [
    "# import matplotlib.pyplot as plt\n",
    "# import matplotlib.patches as patches\n",
    "# plt.figure(figsize = (10,10))\n",
    "# rect = patches.Rectangle((0, 0), 40, 30, linewidth=1, edgecolor='w', facecolor='r')\n",
    "# plt.gca().add_patch(rect)\n",
    "# plt.axis('off')\n",
    "# plt.savefig('filler.svg')\n",
    "# plt.tight_layout()"
   ]
  },
  {
   "cell_type": "code",
   "execution_count": null,
   "id": "46439256-dc54-4c15-822c-b6138e9e1e4c",
   "metadata": {},
   "outputs": [],
   "source": []
  }
 ],
 "metadata": {
  "kernelspec": {
   "display_name": "Python 3 (ipykernel)",
   "language": "python",
   "name": "python3"
  },
  "language_info": {
   "codemirror_mode": {
    "name": "ipython",
    "version": 3
   },
   "file_extension": ".py",
   "mimetype": "text/x-python",
   "name": "python",
   "nbconvert_exporter": "python",
   "pygments_lexer": "ipython3",
   "version": "3.9.12"
  }
 },
 "nbformat": 4,
 "nbformat_minor": 5
}
