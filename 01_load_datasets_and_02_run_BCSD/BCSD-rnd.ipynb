{
 "cells": [
  {
   "cell_type": "markdown",
   "id": "733832da-1c15-4a31-b09d-1296602399e9",
   "metadata": {
    "tags": []
   },
   "source": [
    "# imports and defs"
   ]
  },
  {
   "cell_type": "code",
   "execution_count": 1,
   "id": "b15bc069-da39-4c8e-87f4-0a9fbd5aa57d",
   "metadata": {},
   "outputs": [],
   "source": [
    "import numpy as np\n",
    "import pandas as pd\n",
    "import bcsd_module as bb\n",
    "import matplotlib.pyplot as plt\n",
    "import utility_module_2_v_3 as uu\n",
    "from datetime import datetime\n"
   ]
  },
  {
   "cell_type": "code",
   "execution_count": 2,
   "id": "a0edc81f-879e-4cac-bef7-cbf9b88fe217",
   "metadata": {},
   "outputs": [],
   "source": [
    "def check_for_nans_infs_zeros(data_sts):\n",
    "    print('Nans:',np.sum(np.isnan(data_sts)))\n",
    "    print('Infs:' ,np.sum(np.isinf(data_sts)))\n",
    "    print('Zeros:',np.sum((data_sts==0)))\n",
    "    "
   ]
  },
  {
   "cell_type": "code",
   "execution_count": 3,
   "id": "d0fd2b20-3e41-43ae-8e76-40443b6006fa",
   "metadata": {},
   "outputs": [],
   "source": [
    "## check dimensions and plot ts\n",
    "def data_check(data_sts,lat,lon,Np= 12):\n",
    "    check_for_nans_infs_zeros(data_sts)\n",
    "    map_bounds=metadata['data_bounds'] #[50 , 50, 110, 0] #ltrb\n",
    "    mp_spacing=10\n",
    "\n",
    "    plt.figure(figsize = (12,2))\n",
    "\n",
    "    plt.subplot(121)\n",
    "    uu.map_plot_cyl(np.nanmean(data_sts[:,:,:],axis=0),lat,lon,map_bounds,mp_spacing=10)\n",
    "    plt.title('Mean')\n",
    "\n",
    "    plt.subplot(122)\n",
    "    plt.plot(data_sts[:Np*5,int(lat.shape[0]/2),int(lon.shape[0]/2)])\n",
    "    plt.plot(data_sts[-Np*5:,int(lat.shape[0]/2),int(lon.shape[0]/2)])\n"
   ]
  },
  {
   "cell_type": "markdown",
   "id": "4508dd4b-ac6d-40f3-af15-18ce4e3f976b",
   "metadata": {},
   "source": [
    "# Exp details"
   ]
  },
  {
   "cell_type": "code",
   "execution_count": 6,
   "id": "e6af716f-552d-4d6d-a888-fa52a3a6e21d",
   "metadata": {},
   "outputs": [
    {
     "data": {
      "text/plain": [
       "0    US_P_BCSD\n",
       "1    US_T_BCSD\n",
       "Name: exp_names, dtype: object"
      ]
     },
     "execution_count": 6,
     "metadata": {},
     "output_type": "execute_result"
    }
   ],
   "source": [
    "exp_names = ['US_P_BCSD',\n",
    "# 'US_P_BCSD_eqm',\n",
    "'US_T_BCSD',\n",
    "# 'US_T_BCSD_eqm',\n",
    "            ]\n",
    "\n",
    "SD_types = ['PREC',\n",
    "            # 'PREC',\n",
    "            # 'TEMP',\n",
    "            'TEMP']\n",
    "bc_methods = [bb.gamma_quantile_mapping,\n",
    "              # bb.empirical_quantile_mapping,\n",
    "              bb.normal_quantile_mapping,\n",
    "              # bb.empirical_quantile_mapping\n",
    "             ]\n",
    "var_types = ['pre',\n",
    "             # 'pre',\n",
    "             'tas',\n",
    "             # 'tas'\n",
    "            ]\n",
    "\n",
    "df = pd.DataFrame(list(zip(exp_names, SD_types,bc_methods,var_types)),\n",
    "               columns =['exp_names', 'SD_types','bc_methods', 'var_types'])\n",
    "df['exp_names']"
   ]
  },
  {
   "cell_type": "markdown",
   "id": "16986edf-b66d-490c-8499-7903d52c9938",
   "metadata": {
    "tags": []
   },
   "source": [
    "# Runs"
   ]
  },
  {
   "cell_type": "code",
   "execution_count": 10,
   "id": "b3cd5fb8-afe9-4787-8044-755c7a25de06",
   "metadata": {},
   "outputs": [
    {
     "name": "stdout",
     "output_type": "stream",
     "text": [
      "Experiment Name: US_P_BCSD\n",
      "\n",
      "\n",
      "Started BCSD at: 12/09/2023 19:45:08\n",
      "GCM name :  CanESM2\n",
      "Output path :  /home/vikram/BCSD_data/US_P_BCSD/\n"
     ]
    },
    {
     "name": "stderr",
     "output_type": "stream",
     "text": [
      "  0%|                                             | 0/100 [00:00<?, ?it/s]"
     ]
    },
    {
     "name": "stdout",
     "output_type": "stream",
     "text": [
      "PREC\n",
      "Bias Correction Spatially - monthly:\n",
      "Training years : 105.0 == 105.0\n",
      "Testing years : 105.0\n",
      "Bias correction fucntion : <function gamma_quantile_mapping at 0x7f0d2fb2fe50>\n",
      "BC Input shape (1260, 11, 22) (1260, 11, 22) (1260, 11, 22)\n",
      "11 22\n"
     ]
    },
    {
     "name": "stderr",
     "output_type": "stream",
     "text": [
      "\n",
      "  0%|                                              | 0/11 [00:00<?, ?it/s]\u001b[A\n",
      "  9%|███▍                                  | 1/11 [00:00<00:09,  1.01it/s]\u001b[A\n",
      " 18%|██████▉                               | 2/11 [00:01<00:08,  1.01it/s]\u001b[A\n",
      " 27%|██████████▎                           | 3/11 [00:02<00:07,  1.01it/s]\u001b[A\n",
      " 36%|█████████████▊                        | 4/11 [00:04<00:07,  1.01s/it]\u001b[A\n",
      " 45%|█████████████████▎                    | 5/11 [00:04<00:06,  1.00s/it]\u001b[A\n",
      " 55%|████████████████████▋                 | 6/11 [00:05<00:04,  1.00it/s]\u001b[A\n",
      " 64%|████████████████████████▏             | 7/11 [00:06<00:03,  1.01it/s]\u001b[A\n",
      " 73%|███████████████████████████▋          | 8/11 [00:07<00:02,  1.02it/s]\u001b[A\n",
      " 82%|███████████████████████████████       | 9/11 [00:08<00:01,  1.03it/s]\u001b[A\n",
      " 91%|█████████████████████████████████▋   | 10/11 [00:09<00:01,  1.01s/it]\u001b[A\n",
      "100%|█████████████████████████████████████| 11/11 [00:11<00:00,  1.01s/it]\u001b[A\n"
     ]
    },
    {
     "name": "stdout",
     "output_type": "stream",
     "text": [
      "BC Output shape (1260, 11, 22)\n",
      "Spatial Disaggregation - Monthly (NCLIM ==  12 )\n",
      "SD Type - PREC\n",
      "No of timesteps  1260\n",
      "SD Input shape (1260, 52, 112) (1260, 11, 22)\n"
     ]
    },
    {
     "name": "stderr",
     "output_type": "stream",
     "text": [
      "\n",
      "  0%|                                            | 0/1260 [00:00<?, ?it/s]\u001b[A\n",
      " 16%|█████▏                          | 205/1260 [00:00<00:00, 2045.41it/s]\u001b[A\n",
      " 33%|██████████▍                     | 413/1260 [00:00<00:00, 2061.43it/s]\u001b[A\n",
      " 49%|███████████████▋                | 620/1260 [00:00<00:00, 1979.72it/s]\u001b[A\n",
      " 65%|████████████████████▊           | 819/1260 [00:00<00:00, 1941.85it/s]\u001b[A\n",
      " 80%|████████████████████████▉      | 1014/1260 [00:00<00:00, 1936.30it/s]\u001b[A\n",
      "100%|███████████████████████████████| 1260/1260 [00:00<00:00, 1948.68it/s]\u001b[A\n",
      "  1%|▎                                    | 1/100 [00:12<20:41, 12.54s/it]"
     ]
    },
    {
     "name": "stdout",
     "output_type": "stream",
     "text": [
      "SD Output shape (1260, 52, 112)\n",
      "PREC\n",
      "Bias Correction Spatially - monthly:\n",
      "Training years : 105.0 == 105.0\n",
      "Testing years : 105.0\n",
      "Bias correction fucntion : <function gamma_quantile_mapping at 0x7f0d2fb2fe50>\n",
      "BC Input shape (1260, 11, 22) (1260, 11, 22) (1260, 11, 22)\n",
      "11 22\n"
     ]
    },
    {
     "name": "stderr",
     "output_type": "stream",
     "text": [
      "\n",
      "  0%|                                              | 0/11 [00:00<?, ?it/s]\u001b[A\n",
      "  9%|███▍                                  | 1/11 [00:00<00:09,  1.01it/s]\u001b[A\n",
      " 18%|██████▉                               | 2/11 [00:01<00:08,  1.02it/s]\u001b[A\n",
      " 27%|██████████▎                           | 3/11 [00:02<00:07,  1.04it/s]\u001b[A\n",
      " 36%|█████████████▊                        | 4/11 [00:03<00:06,  1.02it/s]\u001b[A\n",
      " 45%|█████████████████▎                    | 5/11 [00:04<00:05,  1.03it/s]\u001b[A\n",
      " 55%|████████████████████▋                 | 6/11 [00:05<00:04,  1.03it/s]\u001b[A\n",
      " 64%|████████████████████████▏             | 7/11 [00:06<00:03,  1.02it/s]\u001b[A\n",
      " 73%|███████████████████████████▋          | 8/11 [00:07<00:02,  1.03it/s]\u001b[A\n",
      " 82%|███████████████████████████████       | 9/11 [00:08<00:01,  1.03it/s]\u001b[A\n",
      " 91%|█████████████████████████████████▋   | 10/11 [00:09<00:00,  1.02it/s]\u001b[A\n",
      "100%|█████████████████████████████████████| 11/11 [00:10<00:00,  1.02it/s]\u001b[A\n"
     ]
    },
    {
     "name": "stdout",
     "output_type": "stream",
     "text": [
      "BC Output shape (1260, 11, 22)\n",
      "Spatial Disaggregation - Monthly (NCLIM ==  12 )\n",
      "SD Type - PREC\n",
      "No of timesteps  1260\n",
      "SD Input shape (1260, 52, 112) (1260, 11, 22)\n"
     ]
    },
    {
     "name": "stderr",
     "output_type": "stream",
     "text": [
      "\n",
      "  0%|                                            | 0/1260 [00:00<?, ?it/s]\u001b[A\n",
      " 17%|█████▍                          | 216/1260 [00:00<00:00, 2155.47it/s]\u001b[A\n",
      " 34%|██████████▉                     | 432/1260 [00:00<00:00, 2082.70it/s]\u001b[A\n",
      " 52%|████████████████▍               | 649/1260 [00:00<00:00, 2120.17it/s]\u001b[A\n",
      " 69%|█████████████████████▉          | 866/1260 [00:00<00:00, 2137.77it/s]\u001b[A\n",
      "100%|███████████████████████████████| 1260/1260 [00:00<00:00, 2050.40it/s]\u001b[A\n",
      "  2%|▋                                    | 2/100 [00:24<20:07, 12.32s/it]"
     ]
    },
    {
     "name": "stdout",
     "output_type": "stream",
     "text": [
      "SD Output shape (1260, 52, 112)\n",
      "PREC\n",
      "Bias Correction Spatially - monthly:\n",
      "Training years : 105.0 == 105.0\n",
      "Testing years : 105.0\n",
      "Bias correction fucntion : <function gamma_quantile_mapping at 0x7f0d2fb2fe50>\n",
      "BC Input shape (1260, 11, 22) (1260, 11, 22) (1260, 11, 22)\n",
      "11 22\n"
     ]
    },
    {
     "name": "stderr",
     "output_type": "stream",
     "text": [
      "\n",
      "  0%|                                              | 0/11 [00:00<?, ?it/s]\u001b[A\n",
      "  9%|███▍                                  | 1/11 [00:01<00:09,  1.00it/s]\u001b[A\n",
      " 18%|██████▉                               | 2/11 [00:01<00:08,  1.03it/s]\u001b[A\n",
      " 27%|██████████▎                           | 3/11 [00:02<00:07,  1.05it/s]\u001b[A\n",
      " 36%|█████████████▊                        | 4/11 [00:03<00:06,  1.06it/s]\u001b[A\n",
      " 45%|█████████████████▎                    | 5/11 [00:04<00:05,  1.06it/s]\u001b[A\n",
      " 55%|████████████████████▋                 | 6/11 [00:05<00:04,  1.07it/s]\u001b[A\n",
      " 64%|████████████████████████▏             | 7/11 [00:06<00:03,  1.06it/s]\u001b[A\n",
      " 73%|███████████████████████████▋          | 8/11 [00:07<00:02,  1.07it/s]\u001b[A\n",
      " 82%|███████████████████████████████       | 9/11 [00:08<00:01,  1.08it/s]\u001b[A\n",
      " 91%|█████████████████████████████████▋   | 10/11 [00:09<00:00,  1.07it/s]\u001b[A\n",
      "100%|█████████████████████████████████████| 11/11 [00:10<00:00,  1.06it/s]\u001b[A\n"
     ]
    },
    {
     "name": "stdout",
     "output_type": "stream",
     "text": [
      "BC Output shape (1260, 11, 22)\n",
      "Spatial Disaggregation - Monthly (NCLIM ==  12 )\n",
      "SD Type - PREC\n",
      "No of timesteps  1260\n",
      "SD Input shape (1260, 52, 112) (1260, 11, 22)\n"
     ]
    },
    {
     "name": "stderr",
     "output_type": "stream",
     "text": [
      "\n",
      "  0%|                                            | 0/1260 [00:00<?, ?it/s]\u001b[A\n",
      " 14%|████▌                           | 180/1260 [00:00<00:00, 1793.13it/s]\u001b[A\n",
      " 29%|█████████▏                      | 362/1260 [00:00<00:00, 1801.72it/s]\u001b[A\n",
      " 45%|██████████████▎                 | 564/1260 [00:00<00:00, 1898.20it/s]\u001b[A\n",
      " 60%|███████████████████▏            | 754/1260 [00:00<00:00, 1655.26it/s]\u001b[A\n",
      " 77%|████████████████████████▌       | 968/1260 [00:00<00:00, 1813.14it/s]\u001b[A\n",
      "100%|███████████████████████████████| 1260/1260 [00:00<00:00, 1845.48it/s]\u001b[A\n",
      "  3%|█                                    | 3/100 [00:36<19:33, 12.10s/it]"
     ]
    },
    {
     "name": "stdout",
     "output_type": "stream",
     "text": [
      "SD Output shape (1260, 52, 112)\n",
      "PREC\n",
      "Bias Correction Spatially - monthly:\n",
      "Training years : 105.0 == 105.0\n",
      "Testing years : 105.0\n",
      "Bias correction fucntion : <function gamma_quantile_mapping at 0x7f0d2fb2fe50>\n",
      "BC Input shape (1260, 11, 22) (1260, 11, 22) (1260, 11, 22)\n",
      "11 22\n"
     ]
    },
    {
     "name": "stderr",
     "output_type": "stream",
     "text": [
      "\n",
      "  0%|                                              | 0/11 [00:00<?, ?it/s]\u001b[A\n",
      "  9%|███▍                                  | 1/11 [00:00<00:09,  1.06it/s]\u001b[A\n",
      " 18%|██████▉                               | 2/11 [00:01<00:08,  1.05it/s]\u001b[A\n",
      " 27%|██████████▎                           | 3/11 [00:02<00:07,  1.05it/s]\u001b[A\n",
      " 36%|█████████████▊                        | 4/11 [00:03<00:06,  1.06it/s]\u001b[A\n",
      " 45%|█████████████████▎                    | 5/11 [00:04<00:05,  1.06it/s]\u001b[A\n",
      " 55%|████████████████████▋                 | 6/11 [00:05<00:04,  1.06it/s]\u001b[A\n",
      " 64%|████████████████████████▏             | 7/11 [00:06<00:03,  1.05it/s]\u001b[A\n",
      " 73%|███████████████████████████▋          | 8/11 [00:07<00:02,  1.05it/s]\u001b[A\n",
      " 82%|███████████████████████████████       | 9/11 [00:08<00:01,  1.03it/s]\u001b[A\n",
      " 91%|█████████████████████████████████▋   | 10/11 [00:09<00:00,  1.03it/s]\u001b[A\n",
      "100%|█████████████████████████████████████| 11/11 [00:10<00:00,  1.05it/s]\u001b[A\n"
     ]
    },
    {
     "name": "stdout",
     "output_type": "stream",
     "text": [
      "BC Output shape (1260, 11, 22)\n",
      "Spatial Disaggregation - Monthly (NCLIM ==  12 )\n",
      "SD Type - PREC\n",
      "No of timesteps  1260\n",
      "SD Input shape (1260, 52, 112) (1260, 11, 22)\n"
     ]
    },
    {
     "name": "stderr",
     "output_type": "stream",
     "text": [
      "\n",
      "  0%|                                            | 0/1260 [00:00<?, ?it/s]\u001b[A\n",
      " 16%|█████▏                          | 203/1260 [00:00<00:00, 2019.80it/s]\u001b[A\n",
      " 33%|██████████▍                     | 413/1260 [00:00<00:00, 2065.04it/s]\u001b[A\n",
      " 50%|███████████████▊                | 624/1260 [00:00<00:00, 2085.22it/s]\u001b[A\n",
      " 66%|█████████████████████▏          | 835/1260 [00:00<00:00, 2093.96it/s]\u001b[A\n",
      " 83%|█████████████████████████▋     | 1046/1260 [00:00<00:00, 2098.79it/s]\u001b[A\n",
      "100%|███████████████████████████████| 1260/1260 [00:00<00:00, 2082.34it/s]\u001b[A\n",
      "  4%|█▍                                   | 4/100 [00:48<19:12, 12.00s/it]"
     ]
    },
    {
     "name": "stdout",
     "output_type": "stream",
     "text": [
      "SD Output shape (1260, 52, 112)\n",
      "PREC\n",
      "Bias Correction Spatially - monthly:\n",
      "Training years : 105.0 == 105.0\n",
      "Testing years : 105.0\n",
      "Bias correction fucntion : <function gamma_quantile_mapping at 0x7f0d2fb2fe50>\n",
      "BC Input shape (1260, 11, 22) (1260, 11, 22) (1260, 11, 22)\n",
      "11 22\n"
     ]
    },
    {
     "name": "stderr",
     "output_type": "stream",
     "text": [
      "\n",
      "  0%|                                              | 0/11 [00:00<?, ?it/s]\u001b[A\n",
      "  9%|███▍                                  | 1/11 [00:00<00:09,  1.09it/s]\u001b[A\n",
      " 18%|██████▉                               | 2/11 [00:01<00:08,  1.08it/s]\u001b[A\n",
      " 27%|██████████▎                           | 3/11 [00:02<00:07,  1.08it/s]\u001b[A\n",
      " 36%|█████████████▊                        | 4/11 [00:03<00:06,  1.08it/s]\u001b[A\n",
      " 45%|█████████████████▎                    | 5/11 [00:04<00:05,  1.06it/s]\u001b[A\n",
      " 55%|████████████████████▋                 | 6/11 [00:05<00:04,  1.07it/s]\u001b[A\n",
      " 64%|████████████████████████▏             | 7/11 [00:06<00:03,  1.07it/s]\u001b[A\n",
      " 73%|███████████████████████████▋          | 8/11 [00:07<00:02,  1.07it/s]\u001b[A\n",
      " 82%|███████████████████████████████       | 9/11 [00:08<00:01,  1.08it/s]\u001b[A\n",
      " 91%|█████████████████████████████████▋   | 10/11 [00:09<00:00,  1.07it/s]\u001b[A\n",
      "100%|█████████████████████████████████████| 11/11 [00:10<00:00,  1.07it/s]\u001b[A\n"
     ]
    },
    {
     "name": "stdout",
     "output_type": "stream",
     "text": [
      "BC Output shape (1260, 11, 22)\n",
      "Spatial Disaggregation - Monthly (NCLIM ==  12 )\n",
      "SD Type - PREC\n",
      "No of timesteps  1260\n",
      "SD Input shape (1260, 52, 112) (1260, 11, 22)\n"
     ]
    },
    {
     "name": "stderr",
     "output_type": "stream",
     "text": [
      "\n",
      "  0%|                                            | 0/1260 [00:00<?, ?it/s]\u001b[A\n",
      " 17%|█████▌                          | 220/1260 [00:00<00:00, 2191.86it/s]\u001b[A\n",
      " 35%|███████████▏                    | 440/1260 [00:00<00:00, 2189.23it/s]\u001b[A\n",
      " 52%|████████████████▊               | 660/1260 [00:00<00:00, 2191.98it/s]\u001b[A\n",
      " 70%|██████████████████████▎         | 880/1260 [00:00<00:00, 2152.69it/s]\u001b[A\n",
      "100%|███████████████████████████████| 1260/1260 [00:00<00:00, 2130.05it/s]\u001b[A\n",
      "  5%|█▊                                   | 5/100 [01:00<18:47, 11.87s/it]"
     ]
    },
    {
     "name": "stdout",
     "output_type": "stream",
     "text": [
      "SD Output shape (1260, 52, 112)\n",
      "PREC\n",
      "Bias Correction Spatially - monthly:\n",
      "Training years : 105.0 == 105.0\n",
      "Testing years : 105.0\n",
      "Bias correction fucntion : <function gamma_quantile_mapping at 0x7f0d2fb2fe50>\n",
      "BC Input shape (1260, 11, 22) (1260, 11, 22) (1260, 11, 22)\n",
      "11 22\n"
     ]
    },
    {
     "name": "stderr",
     "output_type": "stream",
     "text": [
      "\n",
      "  0%|                                              | 0/11 [00:00<?, ?it/s]\u001b[A\n",
      "  9%|███▍                                  | 1/11 [00:00<00:09,  1.07it/s]\u001b[A\n",
      " 18%|██████▉                               | 2/11 [00:01<00:08,  1.06it/s]\u001b[A\n",
      " 27%|██████████▎                           | 3/11 [00:02<00:07,  1.06it/s]\u001b[A\n",
      " 36%|█████████████▊                        | 4/11 [00:03<00:06,  1.03it/s]\u001b[A\n",
      " 45%|█████████████████▎                    | 5/11 [00:04<00:05,  1.05it/s]\u001b[A\n",
      " 55%|████████████████████▋                 | 6/11 [00:05<00:04,  1.06it/s]\u001b[A\n",
      " 64%|████████████████████████▏             | 7/11 [00:06<00:03,  1.06it/s]\u001b[A\n",
      " 73%|███████████████████████████▋          | 8/11 [00:07<00:02,  1.05it/s]\u001b[A\n",
      " 82%|███████████████████████████████       | 9/11 [00:08<00:01,  1.06it/s]\u001b[A\n",
      " 91%|█████████████████████████████████▋   | 10/11 [00:09<00:00,  1.06it/s]\u001b[A\n",
      "100%|█████████████████████████████████████| 11/11 [00:10<00:00,  1.06it/s]\u001b[A\n"
     ]
    },
    {
     "name": "stdout",
     "output_type": "stream",
     "text": [
      "BC Output shape (1260, 11, 22)\n",
      "Spatial Disaggregation - Monthly (NCLIM ==  12 )\n",
      "SD Type - PREC\n",
      "No of timesteps  1260\n",
      "SD Input shape (1260, 52, 112) (1260, 11, 22)\n"
     ]
    },
    {
     "name": "stderr",
     "output_type": "stream",
     "text": [
      "\n",
      "  0%|                                            | 0/1260 [00:00<?, ?it/s]\u001b[A\n",
      " 17%|█████▌                          | 217/1260 [00:00<00:00, 2169.06it/s]\u001b[A\n",
      " 34%|███████████                     | 434/1260 [00:00<00:00, 2110.74it/s]\u001b[A\n",
      " 52%|████████████████▌               | 650/1260 [00:00<00:00, 2130.08it/s]\u001b[A\n",
      " 69%|█████████████████████▉          | 864/1260 [00:00<00:00, 2109.57it/s]\u001b[A\n",
      "100%|███████████████████████████████| 1260/1260 [00:00<00:00, 2129.96it/s]\u001b[A\n",
      "  6%|██▏                                  | 6/100 [01:11<18:31, 11.82s/it]"
     ]
    },
    {
     "name": "stdout",
     "output_type": "stream",
     "text": [
      "SD Output shape (1260, 52, 112)\n",
      "PREC\n",
      "Bias Correction Spatially - monthly:\n",
      "Training years : 105.0 == 105.0\n",
      "Testing years : 105.0\n",
      "Bias correction fucntion : <function gamma_quantile_mapping at 0x7f0d2fb2fe50>\n",
      "BC Input shape (1260, 11, 22) (1260, 11, 22) (1260, 11, 22)\n",
      "11 22\n"
     ]
    },
    {
     "name": "stderr",
     "output_type": "stream",
     "text": [
      "\n",
      "  0%|                                              | 0/11 [00:00<?, ?it/s]\u001b[A\n",
      "  9%|███▍                                  | 1/11 [00:00<00:09,  1.03it/s]\u001b[A\n",
      " 18%|██████▉                               | 2/11 [00:01<00:08,  1.05it/s]\u001b[A\n",
      " 27%|██████████▎                           | 3/11 [00:02<00:07,  1.04it/s]\u001b[A\n",
      " 36%|█████████████▊                        | 4/11 [00:03<00:06,  1.04it/s]\u001b[A\n",
      " 45%|█████████████████▎                    | 5/11 [00:04<00:05,  1.04it/s]\u001b[A\n",
      " 55%|████████████████████▋                 | 6/11 [00:05<00:04,  1.05it/s]\u001b[A\n",
      " 64%|████████████████████████▏             | 7/11 [00:06<00:03,  1.06it/s]\u001b[A\n",
      " 73%|███████████████████████████▋          | 8/11 [00:07<00:02,  1.06it/s]\u001b[A\n",
      " 82%|███████████████████████████████       | 9/11 [00:08<00:01,  1.06it/s]\u001b[A\n",
      " 91%|█████████████████████████████████▋   | 10/11 [00:09<00:00,  1.06it/s]\u001b[A\n",
      "100%|█████████████████████████████████████| 11/11 [00:10<00:00,  1.05it/s]\u001b[A\n"
     ]
    },
    {
     "name": "stdout",
     "output_type": "stream",
     "text": [
      "BC Output shape (1260, 11, 22)\n",
      "Spatial Disaggregation - Monthly (NCLIM ==  12 )\n",
      "SD Type - PREC\n",
      "No of timesteps  1260\n",
      "SD Input shape (1260, 52, 112) (1260, 11, 22)\n"
     ]
    },
    {
     "name": "stderr",
     "output_type": "stream",
     "text": [
      "\n",
      "  0%|                                            | 0/1260 [00:00<?, ?it/s]\u001b[A\n",
      " 14%|████▌                           | 180/1260 [00:00<00:00, 1797.84it/s]\u001b[A\n",
      " 30%|█████████▊                      | 384/1260 [00:00<00:00, 1938.31it/s]\u001b[A\n",
      " 48%|███████████████▏                | 600/1260 [00:00<00:00, 2038.57it/s]\u001b[A\n",
      " 65%|████████████████████▊           | 819/1260 [00:00<00:00, 2094.98it/s]\u001b[A\n",
      " 82%|█████████████████████████▎     | 1029/1260 [00:00<00:00, 2093.72it/s]\u001b[A\n",
      "100%|███████████████████████████████| 1260/1260 [00:00<00:00, 2066.81it/s]\u001b[A\n",
      "  7%|██▌                                  | 7/100 [01:23<18:18, 11.82s/it]"
     ]
    },
    {
     "name": "stdout",
     "output_type": "stream",
     "text": [
      "SD Output shape (1260, 52, 112)\n",
      "PREC\n",
      "Bias Correction Spatially - monthly:\n",
      "Training years : 105.0 == 105.0\n",
      "Testing years : 105.0\n",
      "Bias correction fucntion : <function gamma_quantile_mapping at 0x7f0d2fb2fe50>\n",
      "BC Input shape (1260, 11, 22) (1260, 11, 22) (1260, 11, 22)\n",
      "11 22\n"
     ]
    },
    {
     "name": "stderr",
     "output_type": "stream",
     "text": [
      "\n",
      "  0%|                                              | 0/11 [00:00<?, ?it/s]\u001b[A\n",
      "  9%|███▍                                  | 1/11 [00:00<00:09,  1.07it/s]\u001b[A\n",
      " 18%|██████▉                               | 2/11 [00:01<00:08,  1.05it/s]\u001b[A\n",
      " 27%|██████████▎                           | 3/11 [00:02<00:07,  1.06it/s]\u001b[A\n",
      " 36%|█████████████▊                        | 4/11 [00:03<00:06,  1.06it/s]\u001b[A\n",
      " 45%|█████████████████▎                    | 5/11 [00:04<00:05,  1.07it/s]\u001b[A\n",
      " 55%|████████████████████▋                 | 6/11 [00:05<00:04,  1.06it/s]\u001b[A\n",
      " 64%|████████████████████████▏             | 7/11 [00:06<00:03,  1.06it/s]\u001b[A\n",
      " 73%|███████████████████████████▋          | 8/11 [00:07<00:02,  1.06it/s]\u001b[A\n",
      " 82%|███████████████████████████████       | 9/11 [00:08<00:01,  1.07it/s]\u001b[A\n",
      " 91%|█████████████████████████████████▋   | 10/11 [00:09<00:00,  1.07it/s]\u001b[A\n",
      "100%|█████████████████████████████████████| 11/11 [00:10<00:00,  1.06it/s]\u001b[A\n"
     ]
    },
    {
     "name": "stdout",
     "output_type": "stream",
     "text": [
      "BC Output shape (1260, 11, 22)\n",
      "Spatial Disaggregation - Monthly (NCLIM ==  12 )\n",
      "SD Type - PREC\n",
      "No of timesteps  1260\n",
      "SD Input shape (1260, 52, 112) (1260, 11, 22)\n"
     ]
    },
    {
     "name": "stderr",
     "output_type": "stream",
     "text": [
      "\n",
      "  0%|                                            | 0/1260 [00:00<?, ?it/s]\u001b[A\n",
      " 18%|█████▋                          | 224/1260 [00:00<00:00, 2233.46it/s]\u001b[A\n",
      " 36%|███████████▍                    | 448/1260 [00:00<00:00, 2217.91it/s]\u001b[A\n",
      " 53%|█████████████████               | 670/1260 [00:00<00:00, 2196.04it/s]\u001b[A\n",
      " 71%|██████████████████████▌         | 890/1260 [00:00<00:00, 2167.29it/s]\u001b[A\n",
      "100%|███████████████████████████████| 1260/1260 [00:00<00:00, 2179.36it/s]\u001b[A\n",
      "  8%|██▉                                  | 8/100 [01:35<18:01, 11.76s/it]"
     ]
    },
    {
     "name": "stdout",
     "output_type": "stream",
     "text": [
      "SD Output shape (1260, 52, 112)\n",
      "PREC\n",
      "Bias Correction Spatially - monthly:\n",
      "Training years : 105.0 == 105.0\n",
      "Testing years : 105.0\n",
      "Bias correction fucntion : <function gamma_quantile_mapping at 0x7f0d2fb2fe50>\n",
      "BC Input shape (1260, 11, 22) (1260, 11, 22) (1260, 11, 22)\n",
      "11 22\n"
     ]
    },
    {
     "name": "stderr",
     "output_type": "stream",
     "text": [
      "\n",
      "  0%|                                              | 0/11 [00:00<?, ?it/s]\u001b[A\n",
      "  9%|███▍                                  | 1/11 [00:00<00:09,  1.06it/s]\u001b[A\n",
      " 18%|██████▉                               | 2/11 [00:01<00:08,  1.07it/s]\u001b[A\n",
      " 27%|██████████▎                           | 3/11 [00:02<00:07,  1.07it/s]\u001b[A\n",
      " 36%|█████████████▊                        | 4/11 [00:03<00:06,  1.08it/s]\u001b[A\n",
      " 45%|█████████████████▎                    | 5/11 [00:04<00:05,  1.08it/s]\u001b[A\n",
      " 55%|████████████████████▋                 | 6/11 [00:05<00:04,  1.08it/s]\u001b[A\n",
      " 64%|████████████████████████▏             | 7/11 [00:06<00:03,  1.07it/s]\u001b[A\n",
      " 73%|███████████████████████████▋          | 8/11 [00:07<00:02,  1.08it/s]\u001b[A\n",
      " 82%|███████████████████████████████       | 9/11 [00:08<00:01,  1.08it/s]\u001b[A\n",
      " 91%|█████████████████████████████████▋   | 10/11 [00:09<00:00,  1.08it/s]\u001b[A\n",
      "100%|█████████████████████████████████████| 11/11 [00:10<00:00,  1.08it/s]\u001b[A\n"
     ]
    },
    {
     "name": "stdout",
     "output_type": "stream",
     "text": [
      "BC Output shape (1260, 11, 22)\n",
      "Spatial Disaggregation - Monthly (NCLIM ==  12 )\n",
      "SD Type - PREC\n",
      "No of timesteps  1260\n",
      "SD Input shape (1260, 52, 112) (1260, 11, 22)\n"
     ]
    },
    {
     "name": "stderr",
     "output_type": "stream",
     "text": [
      "\n",
      "  0%|                                            | 0/1260 [00:00<?, ?it/s]\u001b[A\n",
      " 17%|█████▌                          | 219/1260 [00:00<00:00, 2185.90it/s]\u001b[A\n",
      " 35%|███████████                     | 438/1260 [00:00<00:00, 2181.79it/s]\u001b[A\n",
      " 52%|████████████████▋               | 657/1260 [00:00<00:00, 2183.66it/s]\u001b[A\n",
      " 70%|██████████████████████▏         | 876/1260 [00:00<00:00, 2183.42it/s]\u001b[A\n",
      "100%|███████████████████████████████| 1260/1260 [00:00<00:00, 2184.42it/s]\u001b[A\n",
      "  9%|███▎                                 | 9/100 [01:46<17:42, 11.68s/it]"
     ]
    },
    {
     "name": "stdout",
     "output_type": "stream",
     "text": [
      "SD Output shape (1260, 52, 112)\n",
      "PREC\n",
      "Bias Correction Spatially - monthly:\n",
      "Training years : 105.0 == 105.0\n",
      "Testing years : 105.0\n",
      "Bias correction fucntion : <function gamma_quantile_mapping at 0x7f0d2fb2fe50>\n",
      "BC Input shape (1260, 11, 22) (1260, 11, 22) (1260, 11, 22)\n",
      "11 22\n"
     ]
    },
    {
     "name": "stderr",
     "output_type": "stream",
     "text": [
      "\n",
      "  0%|                                              | 0/11 [00:00<?, ?it/s]\u001b[A\n",
      "  9%|███▍                                  | 1/11 [00:00<00:09,  1.08it/s]\u001b[A\n",
      " 18%|██████▉                               | 2/11 [00:01<00:08,  1.07it/s]\u001b[A\n",
      " 27%|██████████▎                           | 3/11 [00:02<00:07,  1.07it/s]\u001b[A\n",
      " 36%|█████████████▊                        | 4/11 [00:03<00:06,  1.07it/s]\u001b[A\n",
      " 45%|█████████████████▎                    | 5/11 [00:04<00:05,  1.07it/s]\u001b[A\n",
      " 55%|████████████████████▋                 | 6/11 [00:05<00:04,  1.08it/s]\u001b[A\n",
      " 64%|████████████████████████▏             | 7/11 [00:06<00:03,  1.06it/s]\u001b[A\n",
      " 73%|███████████████████████████▋          | 8/11 [00:07<00:02,  1.07it/s]\u001b[A\n",
      " 82%|███████████████████████████████       | 9/11 [00:08<00:01,  1.07it/s]\u001b[A\n",
      " 91%|█████████████████████████████████▋   | 10/11 [00:09<00:00,  1.07it/s]\u001b[A\n",
      "100%|█████████████████████████████████████| 11/11 [00:10<00:00,  1.07it/s]\u001b[A\n"
     ]
    },
    {
     "name": "stdout",
     "output_type": "stream",
     "text": [
      "BC Output shape (1260, 11, 22)\n",
      "Spatial Disaggregation - Monthly (NCLIM ==  12 )\n",
      "SD Type - PREC\n",
      "No of timesteps  1260\n",
      "SD Input shape (1260, 52, 112) (1260, 11, 22)\n"
     ]
    },
    {
     "name": "stderr",
     "output_type": "stream",
     "text": [
      "\n",
      "  0%|                                            | 0/1260 [00:00<?, ?it/s]\u001b[A\n",
      " 17%|█████▎                          | 209/1260 [00:00<00:00, 2080.27it/s]\u001b[A\n",
      " 33%|██████████▋                     | 419/1260 [00:00<00:00, 2090.50it/s]\u001b[A\n",
      " 50%|███████████████▉                | 629/1260 [00:00<00:00, 2071.16it/s]\u001b[A\n",
      " 67%|█████████████████████▍          | 845/1260 [00:00<00:00, 2103.08it/s]\u001b[A\n",
      "100%|███████████████████████████████| 1260/1260 [00:00<00:00, 2106.44it/s]\u001b[A\n",
      " 10%|███▌                                | 10/100 [01:58<17:28, 11.65s/it]"
     ]
    },
    {
     "name": "stdout",
     "output_type": "stream",
     "text": [
      "SD Output shape (1260, 52, 112)\n",
      "PREC\n",
      "Bias Correction Spatially - monthly:\n",
      "Training years : 105.0 == 105.0\n",
      "Testing years : 105.0\n",
      "Bias correction fucntion : <function gamma_quantile_mapping at 0x7f0d2fb2fe50>\n",
      "BC Input shape (1260, 11, 22) (1260, 11, 22) (1260, 11, 22)\n",
      "11 22\n"
     ]
    },
    {
     "name": "stderr",
     "output_type": "stream",
     "text": [
      "\n",
      "  0%|                                              | 0/11 [00:00<?, ?it/s]\u001b[A\n",
      "  9%|███▍                                  | 1/11 [00:00<00:09,  1.04it/s]\u001b[A\n",
      " 18%|██████▉                               | 2/11 [00:01<00:08,  1.03it/s]\u001b[A\n",
      " 27%|██████████▎                           | 3/11 [00:02<00:07,  1.05it/s]\u001b[A\n",
      " 36%|█████████████▊                        | 4/11 [00:03<00:06,  1.06it/s]\u001b[A\n",
      " 45%|█████████████████▎                    | 5/11 [00:04<00:05,  1.07it/s]\u001b[A\n",
      " 55%|████████████████████▋                 | 6/11 [00:05<00:04,  1.06it/s]\u001b[A\n",
      " 64%|████████████████████████▏             | 7/11 [00:06<00:03,  1.07it/s]\u001b[A\n",
      " 73%|███████████████████████████▋          | 8/11 [00:07<00:02,  1.07it/s]\u001b[A\n",
      " 82%|███████████████████████████████       | 9/11 [00:08<00:01,  1.07it/s]\u001b[A\n",
      " 91%|█████████████████████████████████▋   | 10/11 [00:09<00:00,  1.07it/s]\u001b[A\n",
      "100%|█████████████████████████████████████| 11/11 [00:10<00:00,  1.06it/s]\u001b[A\n"
     ]
    },
    {
     "name": "stdout",
     "output_type": "stream",
     "text": [
      "BC Output shape (1260, 11, 22)\n",
      "Spatial Disaggregation - Monthly (NCLIM ==  12 )\n",
      "SD Type - PREC\n",
      "No of timesteps  1260\n",
      "SD Input shape (1260, 52, 112) (1260, 11, 22)\n"
     ]
    },
    {
     "name": "stderr",
     "output_type": "stream",
     "text": [
      "\n",
      "  0%|                                            | 0/1260 [00:00<?, ?it/s]\u001b[A\n",
      " 17%|█████▌                          | 217/1260 [00:00<00:00, 2169.28it/s]\u001b[A\n",
      " 34%|███████████                     | 434/1260 [00:00<00:00, 2155.94it/s]\u001b[A\n",
      " 52%|████████████████▌               | 653/1260 [00:00<00:00, 2169.44it/s]\u001b[A\n",
      " 69%|██████████████████████▏         | 872/1260 [00:00<00:00, 2177.21it/s]\u001b[A\n",
      "100%|███████████████████████████████| 1260/1260 [00:00<00:00, 2171.57it/s]\u001b[A\n",
      " 11%|███▉                                | 11/100 [02:09<17:18, 11.66s/it]"
     ]
    },
    {
     "name": "stdout",
     "output_type": "stream",
     "text": [
      "SD Output shape (1260, 52, 112)\n",
      "PREC\n",
      "Bias Correction Spatially - monthly:\n",
      "Training years : 105.0 == 105.0\n",
      "Testing years : 105.0\n",
      "Bias correction fucntion : <function gamma_quantile_mapping at 0x7f0d2fb2fe50>\n",
      "BC Input shape (1260, 11, 22) (1260, 11, 22) (1260, 11, 22)\n",
      "11 22\n"
     ]
    },
    {
     "name": "stderr",
     "output_type": "stream",
     "text": [
      "\n",
      "  0%|                                              | 0/11 [00:00<?, ?it/s]\u001b[A\n",
      "  9%|███▍                                  | 1/11 [00:00<00:09,  1.02it/s]\u001b[A\n",
      " 18%|██████▉                               | 2/11 [00:01<00:08,  1.03it/s]\u001b[A\n",
      " 27%|██████████▎                           | 3/11 [00:02<00:07,  1.04it/s]\u001b[A\n",
      " 36%|█████████████▊                        | 4/11 [00:03<00:06,  1.05it/s]\u001b[A\n",
      " 45%|█████████████████▎                    | 5/11 [00:04<00:05,  1.05it/s]\u001b[A\n",
      " 55%|████████████████████▋                 | 6/11 [00:05<00:04,  1.06it/s]\u001b[A\n",
      " 64%|████████████████████████▏             | 7/11 [00:06<00:03,  1.06it/s]\u001b[A\n",
      " 73%|███████████████████████████▋          | 8/11 [00:07<00:02,  1.07it/s]\u001b[A\n",
      " 82%|███████████████████████████████       | 9/11 [00:08<00:01,  1.07it/s]\u001b[A\n",
      " 91%|█████████████████████████████████▋   | 10/11 [00:09<00:00,  1.06it/s]\u001b[A\n",
      "100%|█████████████████████████████████████| 11/11 [00:10<00:00,  1.06it/s]\u001b[A\n"
     ]
    },
    {
     "name": "stdout",
     "output_type": "stream",
     "text": [
      "BC Output shape (1260, 11, 22)\n",
      "Spatial Disaggregation - Monthly (NCLIM ==  12 )\n",
      "SD Type - PREC\n",
      "No of timesteps  1260\n",
      "SD Input shape (1260, 52, 112) (1260, 11, 22)\n"
     ]
    },
    {
     "name": "stderr",
     "output_type": "stream",
     "text": [
      "\n",
      "  0%|                                            | 0/1260 [00:00<?, ?it/s]\u001b[A\n",
      " 18%|█████▋                          | 224/1260 [00:00<00:00, 2232.19it/s]\u001b[A\n",
      " 36%|███████████▍                    | 448/1260 [00:00<00:00, 2211.02it/s]\u001b[A\n",
      " 53%|█████████████████               | 670/1260 [00:00<00:00, 2189.46it/s]\u001b[A\n",
      " 71%|██████████████████████▌         | 889/1260 [00:00<00:00, 2141.69it/s]\u001b[A\n",
      "100%|███████████████████████████████| 1260/1260 [00:00<00:00, 2152.30it/s]\u001b[A\n",
      " 12%|████▎                               | 12/100 [02:21<17:08, 11.68s/it]"
     ]
    },
    {
     "name": "stdout",
     "output_type": "stream",
     "text": [
      "SD Output shape (1260, 52, 112)\n",
      "PREC\n",
      "Bias Correction Spatially - monthly:\n",
      "Training years : 105.0 == 105.0\n",
      "Testing years : 105.0\n",
      "Bias correction fucntion : <function gamma_quantile_mapping at 0x7f0d2fb2fe50>\n",
      "BC Input shape (1260, 11, 22) (1260, 11, 22) (1260, 11, 22)\n",
      "11 22\n"
     ]
    },
    {
     "name": "stderr",
     "output_type": "stream",
     "text": [
      "\n",
      "  0%|                                              | 0/11 [00:00<?, ?it/s]\u001b[A\n",
      "  9%|███▍                                  | 1/11 [00:00<00:09,  1.07it/s]\u001b[A\n",
      " 18%|██████▉                               | 2/11 [00:01<00:08,  1.08it/s]\u001b[A\n",
      " 27%|██████████▎                           | 3/11 [00:02<00:07,  1.07it/s]\u001b[A\n",
      " 36%|█████████████▊                        | 4/11 [00:03<00:06,  1.07it/s]\u001b[A\n",
      " 45%|█████████████████▎                    | 5/11 [00:04<00:05,  1.06it/s]\u001b[A\n",
      " 55%|████████████████████▋                 | 6/11 [00:05<00:04,  1.05it/s]\u001b[A\n",
      " 64%|████████████████████████▏             | 7/11 [00:06<00:03,  1.05it/s]\u001b[A\n",
      " 73%|███████████████████████████▋          | 8/11 [00:07<00:02,  1.06it/s]\u001b[A\n",
      " 82%|███████████████████████████████       | 9/11 [00:08<00:01,  1.07it/s]\u001b[A\n",
      " 91%|█████████████████████████████████▋   | 10/11 [00:09<00:00,  1.07it/s]\u001b[A\n",
      "100%|█████████████████████████████████████| 11/11 [00:10<00:00,  1.06it/s]\u001b[A\n"
     ]
    },
    {
     "name": "stdout",
     "output_type": "stream",
     "text": [
      "BC Output shape (1260, 11, 22)\n",
      "Spatial Disaggregation - Monthly (NCLIM ==  12 )\n",
      "SD Type - PREC\n",
      "No of timesteps  1260\n",
      "SD Input shape (1260, 52, 112) (1260, 11, 22)\n"
     ]
    },
    {
     "name": "stderr",
     "output_type": "stream",
     "text": [
      "\n",
      "  0%|                                            | 0/1260 [00:00<?, ?it/s]\u001b[A\n",
      " 18%|█████▌                          | 221/1260 [00:00<00:00, 2207.60it/s]\u001b[A\n",
      " 35%|███████████▏                    | 442/1260 [00:00<00:00, 2175.59it/s]\u001b[A\n",
      " 52%|████████████████▊               | 660/1260 [00:00<00:00, 2176.25it/s]\u001b[A\n",
      " 70%|██████████████████████▎         | 878/1260 [00:00<00:00, 2092.13it/s]\u001b[A\n",
      "100%|███████████████████████████████| 1260/1260 [00:00<00:00, 2059.23it/s]\u001b[A\n",
      " 13%|████▋                               | 13/100 [02:33<16:57, 11.69s/it]"
     ]
    },
    {
     "name": "stdout",
     "output_type": "stream",
     "text": [
      "SD Output shape (1260, 52, 112)\n",
      "PREC\n",
      "Bias Correction Spatially - monthly:\n",
      "Training years : 105.0 == 105.0\n",
      "Testing years : 105.0\n",
      "Bias correction fucntion : <function gamma_quantile_mapping at 0x7f0d2fb2fe50>\n",
      "BC Input shape (1260, 11, 22) (1260, 11, 22) (1260, 11, 22)\n",
      "11 22\n"
     ]
    },
    {
     "name": "stderr",
     "output_type": "stream",
     "text": [
      "\n",
      "  0%|                                              | 0/11 [00:00<?, ?it/s]\u001b[A\n",
      "  9%|███▍                                  | 1/11 [00:00<00:09,  1.07it/s]\u001b[A\n",
      " 18%|██████▉                               | 2/11 [00:01<00:08,  1.08it/s]\u001b[A\n",
      " 27%|██████████▎                           | 3/11 [00:02<00:07,  1.07it/s]\u001b[A\n",
      " 36%|█████████████▊                        | 4/11 [00:03<00:06,  1.06it/s]\u001b[A\n",
      " 45%|█████████████████▎                    | 5/11 [00:04<00:05,  1.04it/s]\u001b[A\n",
      " 55%|████████████████████▋                 | 6/11 [00:05<00:04,  1.04it/s]\u001b[A\n",
      " 64%|████████████████████████▏             | 7/11 [00:06<00:03,  1.05it/s]\u001b[A\n",
      " 73%|███████████████████████████▋          | 8/11 [00:07<00:02,  1.05it/s]\u001b[A\n",
      " 82%|███████████████████████████████       | 9/11 [00:08<00:01,  1.05it/s]\u001b[A\n",
      " 91%|█████████████████████████████████▋   | 10/11 [00:09<00:00,  1.05it/s]\u001b[A\n",
      "100%|█████████████████████████████████████| 11/11 [00:10<00:00,  1.05it/s]\u001b[A\n"
     ]
    },
    {
     "name": "stdout",
     "output_type": "stream",
     "text": [
      "BC Output shape (1260, 11, 22)\n",
      "Spatial Disaggregation - Monthly (NCLIM ==  12 )\n",
      "SD Type - PREC\n",
      "No of timesteps  1260\n",
      "SD Input shape (1260, 52, 112) (1260, 11, 22)\n"
     ]
    },
    {
     "name": "stderr",
     "output_type": "stream",
     "text": [
      "\n",
      "  0%|                                            | 0/1260 [00:00<?, ?it/s]\u001b[A\n",
      " 17%|█████▍                          | 213/1260 [00:00<00:00, 2128.57it/s]\u001b[A\n",
      " 34%|██████████▊                     | 426/1260 [00:00<00:00, 2077.61it/s]\u001b[A\n",
      " 51%|████████████████▎               | 641/1260 [00:00<00:00, 2107.93it/s]\u001b[A\n",
      " 68%|█████████████████████▋          | 853/1260 [00:00<00:00, 2110.34it/s]\u001b[A\n",
      "100%|███████████████████████████████| 1260/1260 [00:00<00:00, 2094.19it/s]\u001b[A\n",
      " 14%|█████                               | 14/100 [02:45<16:47, 11.72s/it]"
     ]
    },
    {
     "name": "stdout",
     "output_type": "stream",
     "text": [
      "SD Output shape (1260, 52, 112)\n",
      "PREC\n",
      "Bias Correction Spatially - monthly:\n",
      "Training years : 105.0 == 105.0\n",
      "Testing years : 105.0\n",
      "Bias correction fucntion : <function gamma_quantile_mapping at 0x7f0d2fb2fe50>\n",
      "BC Input shape (1260, 11, 22) (1260, 11, 22) (1260, 11, 22)\n",
      "11 22\n"
     ]
    },
    {
     "name": "stderr",
     "output_type": "stream",
     "text": [
      "\n",
      "  0%|                                              | 0/11 [00:00<?, ?it/s]\u001b[A\n",
      "  9%|███▍                                  | 1/11 [00:00<00:09,  1.05it/s]\u001b[A\n",
      " 18%|██████▉                               | 2/11 [00:01<00:08,  1.06it/s]\u001b[A\n",
      " 27%|██████████▎                           | 3/11 [00:02<00:07,  1.07it/s]\u001b[A\n",
      " 36%|█████████████▊                        | 4/11 [00:03<00:06,  1.05it/s]\u001b[A\n",
      " 45%|█████████████████▎                    | 5/11 [00:04<00:05,  1.06it/s]\u001b[A\n",
      " 55%|████████████████████▋                 | 6/11 [00:05<00:04,  1.05it/s]\u001b[A\n",
      " 64%|████████████████████████▏             | 7/11 [00:06<00:03,  1.06it/s]\u001b[A\n",
      " 73%|███████████████████████████▋          | 8/11 [00:07<00:02,  1.07it/s]\u001b[A\n",
      " 82%|███████████████████████████████       | 9/11 [00:08<00:01,  1.07it/s]\u001b[A\n",
      " 91%|█████████████████████████████████▋   | 10/11 [00:09<00:00,  1.08it/s]\u001b[A\n",
      "100%|█████████████████████████████████████| 11/11 [00:10<00:00,  1.06it/s]\u001b[A\n"
     ]
    },
    {
     "name": "stdout",
     "output_type": "stream",
     "text": [
      "BC Output shape (1260, 11, 22)\n",
      "Spatial Disaggregation - Monthly (NCLIM ==  12 )\n",
      "SD Type - PREC\n",
      "No of timesteps  1260\n",
      "SD Input shape (1260, 52, 112) (1260, 11, 22)\n"
     ]
    },
    {
     "name": "stderr",
     "output_type": "stream",
     "text": [
      "\n",
      "  0%|                                            | 0/1260 [00:00<?, ?it/s]\u001b[A\n",
      " 17%|█████▍                          | 212/1260 [00:00<00:00, 2116.14it/s]\u001b[A\n",
      " 34%|██████████▊                     | 424/1260 [00:00<00:00, 1961.66it/s]\u001b[A\n",
      " 51%|████████████████▎               | 642/1260 [00:00<00:00, 2055.95it/s]\u001b[A\n",
      " 68%|█████████████████████▊          | 861/1260 [00:00<00:00, 2106.87it/s]\u001b[A\n",
      "100%|███████████████████████████████| 1260/1260 [00:00<00:00, 2106.05it/s]\u001b[A\n",
      " 15%|█████▍                              | 15/100 [02:56<16:35, 11.71s/it]"
     ]
    },
    {
     "name": "stdout",
     "output_type": "stream",
     "text": [
      "SD Output shape (1260, 52, 112)\n",
      "PREC\n",
      "Bias Correction Spatially - monthly:\n",
      "Training years : 105.0 == 105.0\n",
      "Testing years : 105.0\n",
      "Bias correction fucntion : <function gamma_quantile_mapping at 0x7f0d2fb2fe50>\n",
      "BC Input shape (1260, 11, 22) (1260, 11, 22) (1260, 11, 22)\n",
      "11 22\n"
     ]
    },
    {
     "name": "stderr",
     "output_type": "stream",
     "text": [
      "\n",
      "  0%|                                              | 0/11 [00:00<?, ?it/s]\u001b[A\n",
      "  9%|███▍                                  | 1/11 [00:00<00:09,  1.07it/s]\u001b[A\n",
      " 18%|██████▉                               | 2/11 [00:01<00:08,  1.06it/s]\u001b[A\n",
      " 27%|██████████▎                           | 3/11 [00:02<00:07,  1.05it/s]\u001b[A\n",
      " 36%|█████████████▊                        | 4/11 [00:03<00:06,  1.06it/s]\u001b[A\n",
      " 45%|█████████████████▎                    | 5/11 [00:04<00:05,  1.04it/s]\u001b[A\n",
      " 55%|████████████████████▋                 | 6/11 [00:05<00:04,  1.03it/s]\u001b[A\n",
      " 64%|████████████████████████▏             | 7/11 [00:06<00:03,  1.03it/s]\u001b[A\n",
      " 73%|███████████████████████████▋          | 8/11 [00:07<00:02,  1.05it/s]\u001b[A\n",
      " 82%|███████████████████████████████       | 9/11 [00:08<00:01,  1.06it/s]\u001b[A\n",
      " 91%|█████████████████████████████████▋   | 10/11 [00:09<00:00,  1.06it/s]\u001b[A\n",
      "100%|█████████████████████████████████████| 11/11 [00:10<00:00,  1.05it/s]\u001b[A\n"
     ]
    },
    {
     "name": "stdout",
     "output_type": "stream",
     "text": [
      "BC Output shape (1260, 11, 22)\n",
      "Spatial Disaggregation - Monthly (NCLIM ==  12 )\n",
      "SD Type - PREC\n",
      "No of timesteps  1260\n",
      "SD Input shape (1260, 52, 112) (1260, 11, 22)\n"
     ]
    },
    {
     "name": "stderr",
     "output_type": "stream",
     "text": [
      "\n",
      "  0%|                                            | 0/1260 [00:00<?, ?it/s]\u001b[A\n",
      " 17%|█████▌                          | 220/1260 [00:00<00:00, 2190.86it/s]\u001b[A\n",
      " 35%|███████████▏                    | 440/1260 [00:00<00:00, 2183.75it/s]\u001b[A\n",
      " 52%|████████████████▋               | 659/1260 [00:00<00:00, 2177.77it/s]\u001b[A\n",
      " 70%|██████████████████████▎         | 877/1260 [00:00<00:00, 2173.42it/s]\u001b[A\n",
      "100%|███████████████████████████████| 1260/1260 [00:00<00:00, 2104.99it/s]\u001b[A\n",
      " 16%|█████▊                              | 16/100 [03:08<16:26, 11.74s/it]"
     ]
    },
    {
     "name": "stdout",
     "output_type": "stream",
     "text": [
      "SD Output shape (1260, 52, 112)\n",
      "PREC\n",
      "Bias Correction Spatially - monthly:\n",
      "Training years : 105.0 == 105.0\n",
      "Testing years : 105.0\n",
      "Bias correction fucntion : <function gamma_quantile_mapping at 0x7f0d2fb2fe50>\n",
      "BC Input shape (1260, 11, 22) (1260, 11, 22) (1260, 11, 22)\n",
      "11 22\n"
     ]
    },
    {
     "name": "stderr",
     "output_type": "stream",
     "text": [
      "\n",
      "  0%|                                              | 0/11 [00:00<?, ?it/s]\u001b[A\n",
      "  9%|███▍                                  | 1/11 [00:00<00:09,  1.06it/s]\u001b[A\n",
      " 18%|██████▉                               | 2/11 [00:01<00:08,  1.06it/s]\u001b[A\n",
      " 27%|██████████▎                           | 3/11 [00:02<00:07,  1.05it/s]\u001b[A\n",
      " 36%|█████████████▊                        | 4/11 [00:03<00:06,  1.05it/s]\u001b[A\n",
      " 45%|█████████████████▎                    | 5/11 [00:04<00:05,  1.05it/s]\u001b[A\n",
      " 55%|████████████████████▋                 | 6/11 [00:05<00:04,  1.05it/s]\u001b[A\n",
      " 64%|████████████████████████▏             | 7/11 [00:06<00:03,  1.03it/s]\u001b[A\n",
      " 73%|███████████████████████████▋          | 8/11 [00:07<00:02,  1.04it/s]\u001b[A\n",
      " 82%|███████████████████████████████       | 9/11 [00:08<00:01,  1.04it/s]\u001b[A\n",
      " 91%|█████████████████████████████████▋   | 10/11 [00:09<00:00,  1.05it/s]\u001b[A\n",
      "100%|█████████████████████████████████████| 11/11 [00:10<00:00,  1.05it/s]\u001b[A\n"
     ]
    },
    {
     "name": "stdout",
     "output_type": "stream",
     "text": [
      "BC Output shape (1260, 11, 22)\n",
      "Spatial Disaggregation - Monthly (NCLIM ==  12 )\n",
      "SD Type - PREC\n",
      "No of timesteps  1260\n",
      "SD Input shape (1260, 52, 112) (1260, 11, 22)\n"
     ]
    },
    {
     "name": "stderr",
     "output_type": "stream",
     "text": [
      "\n",
      "  0%|                                            | 0/1260 [00:00<?, ?it/s]\u001b[A\n",
      " 17%|█████▌                          | 218/1260 [00:00<00:00, 2174.11it/s]\u001b[A\n",
      " 35%|███████████                     | 436/1260 [00:00<00:00, 2153.43it/s]\u001b[A\n",
      " 52%|████████████████▌               | 652/1260 [00:00<00:00, 2109.38it/s]\u001b[A\n",
      " 69%|█████████████████████▉          | 864/1260 [00:00<00:00, 2056.17it/s]\u001b[A\n",
      "100%|███████████████████████████████| 1260/1260 [00:00<00:00, 2111.11it/s]\u001b[A\n",
      " 17%|██████                              | 17/100 [03:20<16:16, 11.76s/it]"
     ]
    },
    {
     "name": "stdout",
     "output_type": "stream",
     "text": [
      "SD Output shape (1260, 52, 112)\n",
      "PREC\n",
      "Bias Correction Spatially - monthly:\n",
      "Training years : 105.0 == 105.0\n",
      "Testing years : 105.0\n",
      "Bias correction fucntion : <function gamma_quantile_mapping at 0x7f0d2fb2fe50>\n",
      "BC Input shape (1260, 11, 22) (1260, 11, 22) (1260, 11, 22)\n",
      "11 22\n"
     ]
    },
    {
     "name": "stderr",
     "output_type": "stream",
     "text": [
      "\n",
      "  0%|                                              | 0/11 [00:00<?, ?it/s]\u001b[A\n",
      "  9%|███▍                                  | 1/11 [00:00<00:09,  1.06it/s]\u001b[A\n",
      " 18%|██████▉                               | 2/11 [00:01<00:08,  1.06it/s]\u001b[A\n",
      " 27%|██████████▎                           | 3/11 [00:02<00:07,  1.06it/s]\u001b[A\n",
      " 36%|█████████████▊                        | 4/11 [00:03<00:06,  1.07it/s]\u001b[A\n",
      " 45%|█████████████████▎                    | 5/11 [00:04<00:05,  1.06it/s]\u001b[A\n",
      " 55%|████████████████████▋                 | 6/11 [00:05<00:04,  1.06it/s]\u001b[A\n",
      " 64%|████████████████████████▏             | 7/11 [00:06<00:03,  1.06it/s]\u001b[A\n",
      " 73%|███████████████████████████▋          | 8/11 [00:07<00:02,  1.06it/s]\u001b[A\n",
      " 82%|███████████████████████████████       | 9/11 [00:08<00:01,  1.07it/s]\u001b[A\n",
      " 91%|█████████████████████████████████▋   | 10/11 [00:09<00:00,  1.07it/s]\u001b[A\n",
      "100%|█████████████████████████████████████| 11/11 [00:10<00:00,  1.06it/s]\u001b[A\n"
     ]
    },
    {
     "name": "stdout",
     "output_type": "stream",
     "text": [
      "BC Output shape (1260, 11, 22)\n",
      "Spatial Disaggregation - Monthly (NCLIM ==  12 )\n",
      "SD Type - PREC\n",
      "No of timesteps  1260\n",
      "SD Input shape (1260, 52, 112) (1260, 11, 22)\n"
     ]
    },
    {
     "name": "stderr",
     "output_type": "stream",
     "text": [
      "\n",
      "  0%|                                            | 0/1260 [00:00<?, ?it/s]\u001b[A\n",
      " 17%|█████▌                          | 219/1260 [00:00<00:00, 2181.49it/s]\u001b[A\n",
      " 35%|███████████                     | 438/1260 [00:00<00:00, 2174.93it/s]\u001b[A\n",
      " 52%|████████████████▋               | 657/1260 [00:00<00:00, 2180.45it/s]\u001b[A\n",
      " 70%|██████████████████████▏         | 876/1260 [00:00<00:00, 2155.08it/s]\u001b[A\n",
      "100%|███████████████████████████████| 1260/1260 [00:00<00:00, 2158.60it/s]\u001b[A\n",
      " 18%|██████▍                             | 18/100 [03:32<16:02, 11.74s/it]"
     ]
    },
    {
     "name": "stdout",
     "output_type": "stream",
     "text": [
      "SD Output shape (1260, 52, 112)\n",
      "PREC\n",
      "Bias Correction Spatially - monthly:\n",
      "Training years : 105.0 == 105.0\n",
      "Testing years : 105.0\n",
      "Bias correction fucntion : <function gamma_quantile_mapping at 0x7f0d2fb2fe50>\n",
      "BC Input shape (1260, 11, 22) (1260, 11, 22) (1260, 11, 22)\n",
      "11 22\n"
     ]
    },
    {
     "name": "stderr",
     "output_type": "stream",
     "text": [
      "\n",
      "  0%|                                              | 0/11 [00:00<?, ?it/s]\u001b[A\n",
      "  9%|███▍                                  | 1/11 [00:00<00:09,  1.05it/s]\u001b[A\n",
      " 18%|██████▉                               | 2/11 [00:01<00:08,  1.04it/s]\u001b[A\n",
      " 27%|██████████▎                           | 3/11 [00:02<00:07,  1.04it/s]\u001b[A\n",
      " 36%|█████████████▊                        | 4/11 [00:03<00:06,  1.03it/s]\u001b[A\n",
      " 45%|█████████████████▎                    | 5/11 [00:04<00:05,  1.04it/s]\u001b[A\n",
      " 55%|████████████████████▋                 | 6/11 [00:05<00:04,  1.02it/s]\u001b[A\n",
      " 64%|████████████████████████▏             | 7/11 [00:06<00:03,  1.04it/s]\u001b[A\n",
      " 73%|███████████████████████████▋          | 8/11 [00:07<00:02,  1.05it/s]\u001b[A\n",
      " 82%|███████████████████████████████       | 9/11 [00:08<00:01,  1.06it/s]\u001b[A\n",
      " 91%|█████████████████████████████████▋   | 10/11 [00:09<00:00,  1.07it/s]\u001b[A\n",
      "100%|█████████████████████████████████████| 11/11 [00:10<00:00,  1.05it/s]\u001b[A\n"
     ]
    },
    {
     "name": "stdout",
     "output_type": "stream",
     "text": [
      "BC Output shape (1260, 11, 22)\n",
      "Spatial Disaggregation - Monthly (NCLIM ==  12 )\n",
      "SD Type - PREC\n",
      "No of timesteps  1260\n",
      "SD Input shape (1260, 52, 112) (1260, 11, 22)\n"
     ]
    },
    {
     "name": "stderr",
     "output_type": "stream",
     "text": [
      "\n",
      "  0%|                                            | 0/1260 [00:00<?, ?it/s]\u001b[A\n",
      " 16%|█████▏                          | 204/1260 [00:00<00:00, 2029.33it/s]\u001b[A\n",
      " 33%|██████████▌                     | 418/1260 [00:00<00:00, 2092.05it/s]\u001b[A\n",
      " 50%|████████████████▏               | 635/1260 [00:00<00:00, 2127.21it/s]\u001b[A\n",
      " 68%|█████████████████████▋          | 852/1260 [00:00<00:00, 2140.66it/s]\u001b[A\n",
      "100%|███████████████████████████████| 1260/1260 [00:00<00:00, 2122.28it/s]\u001b[A\n",
      " 19%|██████▊                             | 19/100 [03:44<15:52, 11.76s/it]"
     ]
    },
    {
     "name": "stdout",
     "output_type": "stream",
     "text": [
      "SD Output shape (1260, 52, 112)\n",
      "PREC\n",
      "Bias Correction Spatially - monthly:\n",
      "Training years : 105.0 == 105.0\n",
      "Testing years : 105.0\n",
      "Bias correction fucntion : <function gamma_quantile_mapping at 0x7f0d2fb2fe50>\n",
      "BC Input shape (1260, 11, 22) (1260, 11, 22) (1260, 11, 22)\n",
      "11 22\n"
     ]
    },
    {
     "name": "stderr",
     "output_type": "stream",
     "text": [
      "\n",
      "  0%|                                              | 0/11 [00:00<?, ?it/s]\u001b[A\n",
      "  9%|███▍                                  | 1/11 [00:00<00:09,  1.05it/s]\u001b[A\n",
      " 18%|██████▉                               | 2/11 [00:01<00:08,  1.06it/s]\u001b[A\n",
      " 27%|██████████▎                           | 3/11 [00:02<00:07,  1.06it/s]\u001b[A\n",
      " 36%|█████████████▊                        | 4/11 [00:03<00:06,  1.06it/s]\u001b[A\n",
      " 45%|█████████████████▎                    | 5/11 [00:04<00:05,  1.06it/s]\u001b[A\n",
      " 55%|████████████████████▋                 | 6/11 [00:05<00:04,  1.06it/s]\u001b[A\n",
      " 64%|████████████████████████▏             | 7/11 [00:06<00:03,  1.06it/s]\u001b[A\n",
      " 73%|███████████████████████████▋          | 8/11 [00:07<00:02,  1.07it/s]\u001b[A\n",
      " 82%|███████████████████████████████       | 9/11 [00:08<00:01,  1.05it/s]\u001b[A\n",
      " 91%|█████████████████████████████████▋   | 10/11 [00:09<00:00,  1.05it/s]\u001b[A\n",
      "100%|█████████████████████████████████████| 11/11 [00:10<00:00,  1.06it/s]\u001b[A\n"
     ]
    },
    {
     "name": "stdout",
     "output_type": "stream",
     "text": [
      "BC Output shape (1260, 11, 22)\n",
      "Spatial Disaggregation - Monthly (NCLIM ==  12 )\n",
      "SD Type - PREC\n",
      "No of timesteps  1260\n",
      "SD Input shape (1260, 52, 112) (1260, 11, 22)\n"
     ]
    },
    {
     "name": "stderr",
     "output_type": "stream",
     "text": [
      "\n",
      "  0%|                                            | 0/1260 [00:00<?, ?it/s]\u001b[A\n",
      " 17%|█████▎                          | 208/1260 [00:00<00:00, 2076.02it/s]\u001b[A\n",
      " 34%|██████████▊                     | 427/1260 [00:00<00:00, 2140.24it/s]\u001b[A\n",
      " 51%|████████████████▍               | 647/1260 [00:00<00:00, 2165.04it/s]\u001b[A\n",
      " 69%|█████████████████████▉          | 864/1260 [00:00<00:00, 2162.16it/s]\u001b[A\n",
      "100%|███████████████████████████████| 1260/1260 [00:00<00:00, 2162.14it/s]\u001b[A\n",
      " 20%|███████▏                            | 20/100 [03:55<15:40, 11.75s/it]"
     ]
    },
    {
     "name": "stdout",
     "output_type": "stream",
     "text": [
      "SD Output shape (1260, 52, 112)\n",
      "PREC\n",
      "Bias Correction Spatially - monthly:\n",
      "Training years : 105.0 == 105.0\n",
      "Testing years : 105.0\n",
      "Bias correction fucntion : <function gamma_quantile_mapping at 0x7f0d2fb2fe50>\n",
      "BC Input shape (1260, 11, 22) (1260, 11, 22) (1260, 11, 22)\n",
      "11 22\n"
     ]
    },
    {
     "name": "stderr",
     "output_type": "stream",
     "text": [
      "\n",
      "  0%|                                              | 0/11 [00:00<?, ?it/s]\u001b[A\n",
      "  9%|███▍                                  | 1/11 [00:00<00:09,  1.07it/s]\u001b[A\n",
      " 18%|██████▉                               | 2/11 [00:01<00:08,  1.04it/s]\u001b[A\n",
      " 27%|██████████▎                           | 3/11 [00:02<00:07,  1.05it/s]\u001b[A\n",
      " 36%|█████████████▊                        | 4/11 [00:03<00:06,  1.04it/s]\u001b[A\n",
      " 45%|█████████████████▎                    | 5/11 [00:04<00:05,  1.05it/s]\u001b[A\n",
      " 55%|████████████████████▋                 | 6/11 [00:05<00:04,  1.05it/s]\u001b[A\n",
      " 64%|████████████████████████▏             | 7/11 [00:06<00:03,  1.04it/s]\u001b[A\n",
      " 73%|███████████████████████████▋          | 8/11 [00:07<00:02,  1.05it/s]\u001b[A\n",
      " 82%|███████████████████████████████       | 9/11 [00:08<00:01,  1.05it/s]\u001b[A\n",
      " 91%|█████████████████████████████████▋   | 10/11 [00:09<00:00,  1.06it/s]\u001b[A\n",
      "100%|█████████████████████████████████████| 11/11 [00:10<00:00,  1.05it/s]\u001b[A\n"
     ]
    },
    {
     "name": "stdout",
     "output_type": "stream",
     "text": [
      "BC Output shape (1260, 11, 22)\n",
      "Spatial Disaggregation - Monthly (NCLIM ==  12 )\n",
      "SD Type - PREC\n",
      "No of timesteps  1260\n",
      "SD Input shape (1260, 52, 112) (1260, 11, 22)\n"
     ]
    },
    {
     "name": "stderr",
     "output_type": "stream",
     "text": [
      "\n",
      "  0%|                                            | 0/1260 [00:00<?, ?it/s]\u001b[A\n",
      " 17%|█████▌                          | 218/1260 [00:00<00:00, 2177.49it/s]\u001b[A\n",
      " 35%|███████████                     | 436/1260 [00:00<00:00, 2172.87it/s]\u001b[A\n",
      " 52%|████████████████▋               | 655/1260 [00:00<00:00, 2178.14it/s]\u001b[A\n",
      " 69%|██████████████████████▏         | 875/1260 [00:00<00:00, 2182.18it/s]\u001b[A\n",
      "100%|███████████████████████████████| 1260/1260 [00:00<00:00, 2173.85it/s]\u001b[A\n",
      " 21%|███████▌                            | 21/100 [04:07<15:29, 11.76s/it]"
     ]
    },
    {
     "name": "stdout",
     "output_type": "stream",
     "text": [
      "SD Output shape (1260, 52, 112)\n",
      "PREC\n",
      "Bias Correction Spatially - monthly:\n",
      "Training years : 105.0 == 105.0\n",
      "Testing years : 105.0\n",
      "Bias correction fucntion : <function gamma_quantile_mapping at 0x7f0d2fb2fe50>\n",
      "BC Input shape (1260, 11, 22) (1260, 11, 22) (1260, 11, 22)\n",
      "11 22\n"
     ]
    },
    {
     "name": "stderr",
     "output_type": "stream",
     "text": [
      "\n",
      "  0%|                                              | 0/11 [00:00<?, ?it/s]\u001b[A\n",
      "  9%|███▍                                  | 1/11 [00:00<00:09,  1.07it/s]\u001b[A\n",
      " 18%|██████▉                               | 2/11 [00:01<00:08,  1.06it/s]\u001b[A\n",
      " 27%|██████████▎                           | 3/11 [00:02<00:07,  1.04it/s]\u001b[A\n",
      " 36%|█████████████▊                        | 4/11 [00:03<00:06,  1.04it/s]\u001b[A\n",
      " 45%|█████████████████▎                    | 5/11 [00:04<00:05,  1.02it/s]\u001b[A\n",
      " 55%|████████████████████▋                 | 6/11 [00:05<00:04,  1.02it/s]\u001b[A\n",
      " 64%|████████████████████████▏             | 7/11 [00:06<00:03,  1.03it/s]\u001b[A\n",
      " 73%|███████████████████████████▋          | 8/11 [00:07<00:02,  1.04it/s]\u001b[A\n",
      " 82%|███████████████████████████████       | 9/11 [00:08<00:01,  1.05it/s]\u001b[A\n",
      " 91%|█████████████████████████████████▋   | 10/11 [00:09<00:00,  1.06it/s]\u001b[A\n",
      "100%|█████████████████████████████████████| 11/11 [00:10<00:00,  1.04it/s]\u001b[A\n"
     ]
    },
    {
     "name": "stdout",
     "output_type": "stream",
     "text": [
      "BC Output shape (1260, 11, 22)\n",
      "Spatial Disaggregation - Monthly (NCLIM ==  12 )\n",
      "SD Type - PREC\n",
      "No of timesteps  1260\n",
      "SD Input shape (1260, 52, 112) (1260, 11, 22)\n"
     ]
    },
    {
     "name": "stderr",
     "output_type": "stream",
     "text": [
      "\n",
      "  0%|                                            | 0/1260 [00:00<?, ?it/s]\u001b[A\n",
      " 17%|█████▌                          | 220/1260 [00:00<00:00, 2194.82it/s]\u001b[A\n",
      " 35%|███████████▏                    | 440/1260 [00:00<00:00, 2179.34it/s]\u001b[A\n",
      " 52%|████████████████▋               | 658/1260 [00:00<00:00, 2157.56it/s]\u001b[A\n",
      " 69%|██████████████████████▏         | 875/1260 [00:00<00:00, 2161.82it/s]\u001b[A\n",
      "100%|███████████████████████████████| 1260/1260 [00:00<00:00, 2102.99it/s]\u001b[A\n",
      " 22%|███████▉                            | 22/100 [04:19<15:19, 11.79s/it]"
     ]
    },
    {
     "name": "stdout",
     "output_type": "stream",
     "text": [
      "SD Output shape (1260, 52, 112)\n",
      "PREC\n",
      "Bias Correction Spatially - monthly:\n",
      "Training years : 105.0 == 105.0\n",
      "Testing years : 105.0\n",
      "Bias correction fucntion : <function gamma_quantile_mapping at 0x7f0d2fb2fe50>\n",
      "BC Input shape (1260, 11, 22) (1260, 11, 22) (1260, 11, 22)\n",
      "11 22\n"
     ]
    },
    {
     "name": "stderr",
     "output_type": "stream",
     "text": [
      "\n",
      "  0%|                                              | 0/11 [00:00<?, ?it/s]\u001b[A\n",
      "  9%|███▍                                  | 1/11 [00:00<00:09,  1.07it/s]\u001b[A\n",
      " 18%|██████▉                               | 2/11 [00:01<00:08,  1.05it/s]\u001b[A\n",
      " 27%|██████████▎                           | 3/11 [00:02<00:07,  1.06it/s]\u001b[A\n",
      " 36%|█████████████▊                        | 4/11 [00:03<00:06,  1.06it/s]\u001b[A\n",
      " 45%|█████████████████▎                    | 5/11 [00:04<00:05,  1.06it/s]\u001b[A\n",
      " 55%|████████████████████▋                 | 6/11 [00:05<00:04,  1.07it/s]\u001b[A\n",
      " 64%|████████████████████████▏             | 7/11 [00:06<00:03,  1.07it/s]\u001b[A\n",
      " 73%|███████████████████████████▋          | 8/11 [00:07<00:02,  1.07it/s]\u001b[A\n",
      " 82%|███████████████████████████████       | 9/11 [00:08<00:01,  1.07it/s]\u001b[A\n",
      " 91%|█████████████████████████████████▋   | 10/11 [00:09<00:00,  1.07it/s]\u001b[A\n",
      "100%|█████████████████████████████████████| 11/11 [00:10<00:00,  1.07it/s]\u001b[A\n"
     ]
    },
    {
     "name": "stdout",
     "output_type": "stream",
     "text": [
      "BC Output shape (1260, 11, 22)\n",
      "Spatial Disaggregation - Monthly (NCLIM ==  12 )\n",
      "SD Type - PREC\n",
      "No of timesteps  1260\n",
      "SD Input shape (1260, 52, 112) (1260, 11, 22)\n"
     ]
    },
    {
     "name": "stderr",
     "output_type": "stream",
     "text": [
      "\n",
      "  0%|                                            | 0/1260 [00:00<?, ?it/s]\u001b[A\n",
      " 17%|█████▍                          | 213/1260 [00:00<00:00, 2126.75it/s]\u001b[A\n",
      " 34%|██████████▉                     | 433/1260 [00:00<00:00, 2166.20it/s]\u001b[A\n",
      " 52%|████████████████▌               | 650/1260 [00:00<00:00, 2116.62it/s]\u001b[A\n",
      " 68%|█████████████████████▉          | 862/1260 [00:00<00:00, 2113.26it/s]\u001b[A\n",
      "100%|███████████████████████████████| 1260/1260 [00:00<00:00, 2089.63it/s]\u001b[A\n",
      " 23%|████████▎                           | 23/100 [04:31<15:04, 11.75s/it]"
     ]
    },
    {
     "name": "stdout",
     "output_type": "stream",
     "text": [
      "SD Output shape (1260, 52, 112)\n",
      "PREC\n",
      "Bias Correction Spatially - monthly:\n",
      "Training years : 105.0 == 105.0\n",
      "Testing years : 105.0\n",
      "Bias correction fucntion : <function gamma_quantile_mapping at 0x7f0d2fb2fe50>\n",
      "BC Input shape (1260, 11, 22) (1260, 11, 22) (1260, 11, 22)\n",
      "11 22\n"
     ]
    },
    {
     "name": "stderr",
     "output_type": "stream",
     "text": [
      "\n",
      "  0%|                                              | 0/11 [00:00<?, ?it/s]\u001b[A\n",
      "  9%|███▍                                  | 1/11 [00:00<00:09,  1.09it/s]\u001b[A\n",
      " 18%|██████▉                               | 2/11 [00:01<00:08,  1.09it/s]\u001b[A\n",
      " 27%|██████████▎                           | 3/11 [00:02<00:07,  1.09it/s]\u001b[A\n",
      " 36%|█████████████▊                        | 4/11 [00:03<00:06,  1.07it/s]\u001b[A\n",
      " 45%|█████████████████▎                    | 5/11 [00:04<00:05,  1.06it/s]\u001b[A\n",
      " 55%|████████████████████▋                 | 6/11 [00:05<00:04,  1.07it/s]\u001b[A\n",
      " 64%|████████████████████████▏             | 7/11 [00:06<00:03,  1.07it/s]\u001b[A\n",
      " 73%|███████████████████████████▋          | 8/11 [00:07<00:02,  1.07it/s]\u001b[A\n",
      " 82%|███████████████████████████████       | 9/11 [00:08<00:01,  1.07it/s]\u001b[A\n",
      " 91%|█████████████████████████████████▋   | 10/11 [00:09<00:00,  1.07it/s]\u001b[A\n",
      "100%|█████████████████████████████████████| 11/11 [00:10<00:00,  1.07it/s]\u001b[A\n"
     ]
    },
    {
     "name": "stdout",
     "output_type": "stream",
     "text": [
      "BC Output shape (1260, 11, 22)\n",
      "Spatial Disaggregation - Monthly (NCLIM ==  12 )\n",
      "SD Type - PREC\n",
      "No of timesteps  1260\n",
      "SD Input shape (1260, 52, 112) (1260, 11, 22)\n"
     ]
    },
    {
     "name": "stderr",
     "output_type": "stream",
     "text": [
      "\n",
      "  0%|                                            | 0/1260 [00:00<?, ?it/s]\u001b[A\n",
      " 17%|█████▌                          | 218/1260 [00:00<00:00, 2178.58it/s]\u001b[A\n",
      " 35%|███████████                     | 436/1260 [00:00<00:00, 2170.16it/s]\u001b[A\n",
      " 52%|████████████████▌               | 654/1260 [00:00<00:00, 2173.19it/s]\u001b[A\n",
      " 69%|██████████████████████▏         | 874/1260 [00:00<00:00, 2182.59it/s]\u001b[A\n",
      "100%|███████████████████████████████| 1260/1260 [00:00<00:00, 2178.09it/s]\u001b[A\n",
      " 24%|████████▋                           | 24/100 [04:42<14:49, 11.70s/it]"
     ]
    },
    {
     "name": "stdout",
     "output_type": "stream",
     "text": [
      "SD Output shape (1260, 52, 112)\n",
      "PREC\n",
      "Bias Correction Spatially - monthly:\n",
      "Training years : 105.0 == 105.0\n",
      "Testing years : 105.0\n",
      "Bias correction fucntion : <function gamma_quantile_mapping at 0x7f0d2fb2fe50>\n",
      "BC Input shape (1260, 11, 22) (1260, 11, 22) (1260, 11, 22)\n",
      "11 22\n"
     ]
    },
    {
     "name": "stderr",
     "output_type": "stream",
     "text": [
      "\n",
      "  0%|                                              | 0/11 [00:00<?, ?it/s]\u001b[A\n",
      "  9%|███▍                                  | 1/11 [00:00<00:09,  1.06it/s]\u001b[A\n",
      " 18%|██████▉                               | 2/11 [00:01<00:08,  1.05it/s]\u001b[A\n",
      " 27%|██████████▎                           | 3/11 [00:02<00:07,  1.06it/s]\u001b[A\n",
      " 36%|█████████████▊                        | 4/11 [00:03<00:06,  1.06it/s]\u001b[A\n",
      " 45%|█████████████████▎                    | 5/11 [00:04<00:05,  1.07it/s]\u001b[A\n",
      " 55%|████████████████████▋                 | 6/11 [00:05<00:04,  1.06it/s]\u001b[A\n",
      " 64%|████████████████████████▏             | 7/11 [00:06<00:03,  1.02it/s]\u001b[A\n",
      " 73%|███████████████████████████▋          | 8/11 [00:07<00:02,  1.01it/s]\u001b[A\n",
      " 82%|███████████████████████████████       | 9/11 [00:08<00:01,  1.01it/s]\u001b[A\n",
      " 91%|█████████████████████████████████▋   | 10/11 [00:09<00:00,  1.01it/s]\u001b[A\n",
      "100%|█████████████████████████████████████| 11/11 [00:10<00:00,  1.03it/s]\u001b[A\n"
     ]
    },
    {
     "name": "stdout",
     "output_type": "stream",
     "text": [
      "BC Output shape (1260, 11, 22)\n",
      "Spatial Disaggregation - Monthly (NCLIM ==  12 )\n",
      "SD Type - PREC\n",
      "No of timesteps  1260\n",
      "SD Input shape (1260, 52, 112) (1260, 11, 22)\n"
     ]
    },
    {
     "name": "stderr",
     "output_type": "stream",
     "text": [
      "\n",
      "  0%|                                            | 0/1260 [00:00<?, ?it/s]\u001b[A\n",
      " 17%|█████▍                          | 212/1260 [00:00<00:00, 2114.72it/s]\u001b[A\n",
      " 34%|██████████▊                     | 424/1260 [00:00<00:00, 2062.73it/s]\u001b[A\n",
      " 50%|████████████████▏               | 635/1260 [00:00<00:00, 2082.42it/s]\u001b[A\n",
      " 67%|█████████████████████▍          | 844/1260 [00:00<00:00, 2074.78it/s]\u001b[A\n",
      " 83%|█████████████████████████▉     | 1052/1260 [00:00<00:00, 2054.03it/s]\u001b[A\n",
      "100%|███████████████████████████████| 1260/1260 [00:00<00:00, 2054.19it/s]\u001b[A\n",
      " 25%|█████████                           | 25/100 [04:54<14:45, 11.81s/it]"
     ]
    },
    {
     "name": "stdout",
     "output_type": "stream",
     "text": [
      "SD Output shape (1260, 52, 112)\n",
      "PREC\n",
      "Bias Correction Spatially - monthly:\n",
      "Training years : 105.0 == 105.0\n",
      "Testing years : 105.0\n",
      "Bias correction fucntion : <function gamma_quantile_mapping at 0x7f0d2fb2fe50>\n",
      "BC Input shape (1260, 11, 22) (1260, 11, 22) (1260, 11, 22)\n",
      "11 22\n"
     ]
    },
    {
     "name": "stderr",
     "output_type": "stream",
     "text": [
      "\n",
      "  0%|                                              | 0/11 [00:00<?, ?it/s]\u001b[A\n",
      "  9%|███▍                                  | 1/11 [00:01<00:10,  1.00s/it]\u001b[A\n",
      " 18%|██████▉                               | 2/11 [00:01<00:08,  1.02it/s]\u001b[A\n",
      " 27%|██████████▎                           | 3/11 [00:02<00:07,  1.01it/s]\u001b[A\n",
      " 36%|█████████████▊                        | 4/11 [00:03<00:06,  1.02it/s]\u001b[A\n",
      " 45%|█████████████████▎                    | 5/11 [00:04<00:06,  1.01s/it]\u001b[A\n",
      " 55%|████████████████████▋                 | 6/11 [00:06<00:05,  1.02s/it]\u001b[A\n",
      " 64%|████████████████████████▏             | 7/11 [00:07<00:04,  1.03s/it]\u001b[A\n",
      " 73%|███████████████████████████▋          | 8/11 [00:08<00:03,  1.02s/it]\u001b[A\n",
      " 82%|███████████████████████████████       | 9/11 [00:09<00:02,  1.01s/it]\u001b[A\n",
      " 91%|█████████████████████████████████▋   | 10/11 [00:10<00:01,  1.01s/it]\u001b[A\n",
      "100%|█████████████████████████████████████| 11/11 [00:11<00:00,  1.01s/it]\u001b[A\n"
     ]
    },
    {
     "name": "stdout",
     "output_type": "stream",
     "text": [
      "BC Output shape (1260, 11, 22)\n",
      "Spatial Disaggregation - Monthly (NCLIM ==  12 )\n",
      "SD Type - PREC\n",
      "No of timesteps  1260\n",
      "SD Input shape (1260, 52, 112) (1260, 11, 22)\n"
     ]
    },
    {
     "name": "stderr",
     "output_type": "stream",
     "text": [
      "\n",
      "  0%|                                            | 0/1260 [00:00<?, ?it/s]\u001b[A\n",
      " 17%|█████▍                          | 212/1260 [00:00<00:00, 2114.21it/s]\u001b[A\n",
      " 34%|██████████▊                     | 424/1260 [00:00<00:00, 1867.32it/s]\u001b[A\n",
      " 49%|███████████████▌                | 613/1260 [00:00<00:00, 1835.60it/s]\u001b[A\n",
      " 65%|████████████████████▉           | 825/1260 [00:00<00:00, 1939.65it/s]\u001b[A\n",
      " 83%|█████████████████████████▋     | 1043/1260 [00:00<00:00, 2020.03it/s]\u001b[A\n",
      "100%|███████████████████████████████| 1260/1260 [00:00<00:00, 1981.20it/s]\u001b[A\n",
      " 26%|█████████▎                          | 26/100 [05:07<14:49, 12.02s/it]"
     ]
    },
    {
     "name": "stdout",
     "output_type": "stream",
     "text": [
      "SD Output shape (1260, 52, 112)\n",
      "PREC\n",
      "Bias Correction Spatially - monthly:\n",
      "Training years : 105.0 == 105.0\n",
      "Testing years : 105.0\n",
      "Bias correction fucntion : <function gamma_quantile_mapping at 0x7f0d2fb2fe50>\n",
      "BC Input shape (1260, 11, 22) (1260, 11, 22) (1260, 11, 22)\n",
      "11 22\n"
     ]
    },
    {
     "name": "stderr",
     "output_type": "stream",
     "text": [
      "\n",
      "  0%|                                              | 0/11 [00:00<?, ?it/s]\u001b[A\n",
      "  9%|███▍                                  | 1/11 [00:00<00:09,  1.06it/s]\u001b[A\n",
      " 18%|██████▉                               | 2/11 [00:01<00:08,  1.07it/s]\u001b[A\n",
      " 27%|██████████▎                           | 3/11 [00:02<00:07,  1.07it/s]\u001b[A\n",
      " 36%|█████████████▊                        | 4/11 [00:03<00:06,  1.06it/s]\u001b[A\n",
      " 45%|█████████████████▎                    | 5/11 [00:04<00:05,  1.06it/s]\u001b[A\n",
      " 55%|████████████████████▋                 | 6/11 [00:05<00:04,  1.05it/s]\u001b[A\n",
      " 64%|████████████████████████▏             | 7/11 [00:06<00:03,  1.04it/s]\u001b[A\n",
      " 73%|███████████████████████████▋          | 8/11 [00:07<00:02,  1.04it/s]\u001b[A\n",
      " 82%|███████████████████████████████       | 9/11 [00:08<00:01,  1.04it/s]\u001b[A\n",
      " 91%|█████████████████████████████████▋   | 10/11 [00:09<00:00,  1.04it/s]\u001b[A\n",
      "100%|█████████████████████████████████████| 11/11 [00:10<00:00,  1.05it/s]\u001b[A\n"
     ]
    },
    {
     "name": "stdout",
     "output_type": "stream",
     "text": [
      "BC Output shape (1260, 11, 22)\n",
      "Spatial Disaggregation - Monthly (NCLIM ==  12 )\n",
      "SD Type - PREC\n",
      "No of timesteps  1260\n",
      "SD Input shape (1260, 52, 112) (1260, 11, 22)\n"
     ]
    },
    {
     "name": "stderr",
     "output_type": "stream",
     "text": [
      "\n",
      "  0%|                                            | 0/1260 [00:00<?, ?it/s]\u001b[A\n",
      " 17%|█████▍                          | 216/1260 [00:00<00:00, 2153.99it/s]\u001b[A\n",
      " 34%|███████████                     | 434/1260 [00:00<00:00, 2165.74it/s]\u001b[A\n",
      " 52%|████████████████▌               | 651/1260 [00:00<00:00, 2166.67it/s]\u001b[A\n",
      " 69%|██████████████████████          | 868/1260 [00:00<00:00, 2160.28it/s]\u001b[A\n",
      "100%|███████████████████████████████| 1260/1260 [00:00<00:00, 2154.49it/s]\u001b[A\n",
      " 27%|█████████▋                          | 27/100 [05:19<14:33, 11.97s/it]"
     ]
    },
    {
     "name": "stdout",
     "output_type": "stream",
     "text": [
      "SD Output shape (1260, 52, 112)\n",
      "PREC\n",
      "Bias Correction Spatially - monthly:\n",
      "Training years : 105.0 == 105.0\n",
      "Testing years : 105.0\n",
      "Bias correction fucntion : <function gamma_quantile_mapping at 0x7f0d2fb2fe50>\n",
      "BC Input shape (1260, 11, 22) (1260, 11, 22) (1260, 11, 22)\n",
      "11 22\n"
     ]
    },
    {
     "name": "stderr",
     "output_type": "stream",
     "text": [
      "\n",
      "  0%|                                              | 0/11 [00:00<?, ?it/s]\u001b[A\n",
      "  9%|███▍                                  | 1/11 [00:00<00:09,  1.07it/s]\u001b[A\n",
      " 18%|██████▉                               | 2/11 [00:01<00:08,  1.07it/s]\u001b[A\n",
      " 27%|██████████▎                           | 3/11 [00:02<00:07,  1.06it/s]\u001b[A\n",
      " 36%|█████████████▊                        | 4/11 [00:03<00:06,  1.06it/s]\u001b[A\n",
      " 45%|█████████████████▎                    | 5/11 [00:04<00:05,  1.05it/s]\u001b[A\n",
      " 55%|████████████████████▋                 | 6/11 [00:05<00:04,  1.05it/s]\u001b[A\n",
      " 64%|████████████████████████▏             | 7/11 [00:06<00:03,  1.03it/s]\u001b[A\n",
      " 73%|███████████████████████████▋          | 8/11 [00:07<00:02,  1.04it/s]\u001b[A\n",
      " 82%|███████████████████████████████       | 9/11 [00:08<00:01,  1.05it/s]\u001b[A\n",
      " 91%|█████████████████████████████████▋   | 10/11 [00:09<00:00,  1.05it/s]\u001b[A\n",
      "100%|█████████████████████████████████████| 11/11 [00:10<00:00,  1.05it/s]\u001b[A\n"
     ]
    },
    {
     "name": "stdout",
     "output_type": "stream",
     "text": [
      "BC Output shape (1260, 11, 22)\n",
      "Spatial Disaggregation - Monthly (NCLIM ==  12 )\n",
      "SD Type - PREC\n",
      "No of timesteps  1260\n",
      "SD Input shape (1260, 52, 112) (1260, 11, 22)\n"
     ]
    },
    {
     "name": "stderr",
     "output_type": "stream",
     "text": [
      "\n",
      "  0%|                                            | 0/1260 [00:00<?, ?it/s]\u001b[A\n",
      " 17%|█████▍                          | 216/1260 [00:00<00:00, 2151.41it/s]\u001b[A\n",
      " 34%|██████████▉                     | 432/1260 [00:00<00:00, 2109.94it/s]\u001b[A\n",
      " 51%|████████████████▎               | 644/1260 [00:00<00:00, 2088.65it/s]\u001b[A\n",
      " 68%|█████████████████████▋          | 854/1260 [00:00<00:00, 2092.77it/s]\u001b[A\n",
      "100%|███████████████████████████████| 1260/1260 [00:00<00:00, 2056.70it/s]\u001b[A\n",
      " 28%|██████████                          | 28/100 [05:30<14:18, 11.93s/it]"
     ]
    },
    {
     "name": "stdout",
     "output_type": "stream",
     "text": [
      "SD Output shape (1260, 52, 112)\n",
      "PREC\n",
      "Bias Correction Spatially - monthly:\n",
      "Training years : 105.0 == 105.0\n",
      "Testing years : 105.0\n",
      "Bias correction fucntion : <function gamma_quantile_mapping at 0x7f0d2fb2fe50>\n",
      "BC Input shape (1260, 11, 22) (1260, 11, 22) (1260, 11, 22)\n",
      "11 22\n"
     ]
    },
    {
     "name": "stderr",
     "output_type": "stream",
     "text": [
      "\n",
      "  0%|                                              | 0/11 [00:00<?, ?it/s]\u001b[A\n",
      "  9%|███▍                                  | 1/11 [00:01<00:10,  1.08s/it]\u001b[A\n",
      " 18%|██████▉                               | 2/11 [00:02<00:09,  1.00s/it]\u001b[A\n",
      " 27%|██████████▎                           | 3/11 [00:03<00:07,  1.00it/s]\u001b[A\n",
      " 36%|█████████████▊                        | 4/11 [00:04<00:06,  1.00it/s]\u001b[A\n",
      " 45%|█████████████████▎                    | 5/11 [00:05<00:05,  1.00it/s]\u001b[A\n",
      " 55%|████████████████████▋                 | 6/11 [00:06<00:05,  1.01s/it]\u001b[A\n",
      " 64%|████████████████████████▏             | 7/11 [00:07<00:03,  1.01it/s]\u001b[A\n",
      " 73%|███████████████████████████▋          | 8/11 [00:08<00:02,  1.00it/s]\u001b[A\n",
      " 82%|███████████████████████████████       | 9/11 [00:08<00:01,  1.02it/s]\u001b[A\n",
      " 91%|█████████████████████████████████▋   | 10/11 [00:09<00:00,  1.04it/s]\u001b[A\n",
      "100%|█████████████████████████████████████| 11/11 [00:10<00:00,  1.01it/s]\u001b[A\n"
     ]
    },
    {
     "name": "stdout",
     "output_type": "stream",
     "text": [
      "BC Output shape (1260, 11, 22)\n",
      "Spatial Disaggregation - Monthly (NCLIM ==  12 )\n",
      "SD Type - PREC\n",
      "No of timesteps  1260\n",
      "SD Input shape (1260, 52, 112) (1260, 11, 22)\n"
     ]
    },
    {
     "name": "stderr",
     "output_type": "stream",
     "text": [
      "\n",
      "  0%|                                            | 0/1260 [00:00<?, ?it/s]\u001b[A\n",
      " 17%|█████▎                          | 211/1260 [00:00<00:00, 2105.19it/s]\u001b[A\n",
      " 34%|██████████▉                     | 429/1260 [00:00<00:00, 2143.82it/s]\u001b[A\n",
      " 51%|████████████████▍               | 648/1260 [00:00<00:00, 2163.66it/s]\u001b[A\n",
      " 69%|█████████████████████▉          | 866/1260 [00:00<00:00, 2166.70it/s]\u001b[A\n",
      "100%|███████████████████████████████| 1260/1260 [00:00<00:00, 2129.36it/s]\u001b[A\n",
      " 29%|██████████▍                         | 29/100 [05:43<14:12, 12.00s/it]"
     ]
    },
    {
     "name": "stdout",
     "output_type": "stream",
     "text": [
      "SD Output shape (1260, 52, 112)\n",
      "PREC\n",
      "Bias Correction Spatially - monthly:\n",
      "Training years : 105.0 == 105.0\n",
      "Testing years : 105.0\n",
      "Bias correction fucntion : <function gamma_quantile_mapping at 0x7f0d2fb2fe50>\n",
      "BC Input shape (1260, 11, 22) (1260, 11, 22) (1260, 11, 22)\n",
      "11 22\n"
     ]
    },
    {
     "name": "stderr",
     "output_type": "stream",
     "text": [
      "\n",
      "  0%|                                              | 0/11 [00:00<?, ?it/s]\u001b[A\n",
      "  9%|███▍                                  | 1/11 [00:01<00:10,  1.00s/it]\u001b[A\n",
      " 18%|██████▉                               | 2/11 [00:01<00:08,  1.02it/s]\u001b[A\n",
      " 27%|██████████▎                           | 3/11 [00:02<00:07,  1.04it/s]\u001b[A\n",
      " 36%|█████████████▊                        | 4/11 [00:03<00:06,  1.04it/s]\u001b[A\n",
      " 45%|█████████████████▎                    | 5/11 [00:04<00:05,  1.05it/s]\u001b[A\n",
      " 55%|████████████████████▋                 | 6/11 [00:05<00:04,  1.05it/s]\u001b[A\n",
      " 64%|████████████████████████▏             | 7/11 [00:06<00:03,  1.06it/s]\u001b[A\n",
      " 73%|███████████████████████████▋          | 8/11 [00:07<00:02,  1.06it/s]\u001b[A\n",
      " 82%|███████████████████████████████       | 9/11 [00:08<00:01,  1.06it/s]\u001b[A\n",
      " 91%|█████████████████████████████████▋   | 10/11 [00:09<00:00,  1.05it/s]\u001b[A\n",
      "100%|█████████████████████████████████████| 11/11 [00:10<00:00,  1.05it/s]\u001b[A\n"
     ]
    },
    {
     "name": "stdout",
     "output_type": "stream",
     "text": [
      "BC Output shape (1260, 11, 22)\n",
      "Spatial Disaggregation - Monthly (NCLIM ==  12 )\n",
      "SD Type - PREC\n",
      "No of timesteps  1260\n",
      "SD Input shape (1260, 52, 112) (1260, 11, 22)\n"
     ]
    },
    {
     "name": "stderr",
     "output_type": "stream",
     "text": [
      "\n",
      "  0%|                                            | 0/1260 [00:00<?, ?it/s]\u001b[A\n",
      " 17%|█████▎                          | 209/1260 [00:00<00:00, 2076.47it/s]\u001b[A\n",
      " 34%|██████████▊                     | 428/1260 [00:00<00:00, 2137.95it/s]\u001b[A\n",
      " 52%|████████████████▍               | 649/1260 [00:00<00:00, 2165.97it/s]\u001b[A\n",
      " 69%|█████████████████████▉          | 866/1260 [00:00<00:00, 2119.59it/s]\u001b[A\n",
      "100%|███████████████████████████████| 1260/1260 [00:00<00:00, 2114.33it/s]\u001b[A\n",
      " 30%|██████████▊                         | 30/100 [05:54<13:57, 11.96s/it]"
     ]
    },
    {
     "name": "stdout",
     "output_type": "stream",
     "text": [
      "SD Output shape (1260, 52, 112)\n",
      "PREC\n",
      "Bias Correction Spatially - monthly:\n",
      "Training years : 105.0 == 105.0\n",
      "Testing years : 105.0\n",
      "Bias correction fucntion : <function gamma_quantile_mapping at 0x7f0d2fb2fe50>\n",
      "BC Input shape (1260, 11, 22) (1260, 11, 22) (1260, 11, 22)\n",
      "11 22\n"
     ]
    },
    {
     "name": "stderr",
     "output_type": "stream",
     "text": [
      "\n",
      "  0%|                                              | 0/11 [00:00<?, ?it/s]\u001b[A\n",
      "  9%|███▍                                  | 1/11 [00:00<00:09,  1.05it/s]\u001b[A\n",
      " 18%|██████▉                               | 2/11 [00:01<00:08,  1.09it/s]\u001b[A\n",
      " 27%|██████████▎                           | 3/11 [00:02<00:07,  1.09it/s]\u001b[A\n",
      " 36%|█████████████▊                        | 4/11 [00:03<00:06,  1.10it/s]\u001b[A\n",
      " 45%|█████████████████▎                    | 5/11 [00:04<00:05,  1.08it/s]\u001b[A\n",
      " 55%|████████████████████▋                 | 6/11 [00:05<00:04,  1.08it/s]\u001b[A\n",
      " 64%|████████████████████████▏             | 7/11 [00:06<00:03,  1.07it/s]\u001b[A\n",
      " 73%|███████████████████████████▋          | 8/11 [00:07<00:02,  1.07it/s]\u001b[A\n",
      " 82%|███████████████████████████████       | 9/11 [00:08<00:01,  1.07it/s]\u001b[A\n",
      " 91%|█████████████████████████████████▋   | 10/11 [00:09<00:00,  1.08it/s]\u001b[A\n",
      "100%|█████████████████████████████████████| 11/11 [00:10<00:00,  1.08it/s]\u001b[A\n"
     ]
    },
    {
     "name": "stdout",
     "output_type": "stream",
     "text": [
      "BC Output shape (1260, 11, 22)\n",
      "Spatial Disaggregation - Monthly (NCLIM ==  12 )\n",
      "SD Type - PREC\n",
      "No of timesteps  1260\n",
      "SD Input shape (1260, 52, 112) (1260, 11, 22)\n"
     ]
    },
    {
     "name": "stderr",
     "output_type": "stream",
     "text": [
      "\n",
      "  0%|                                            | 0/1260 [00:00<?, ?it/s]\u001b[A\n",
      " 18%|█████▋                          | 222/1260 [00:00<00:00, 2211.53it/s]\u001b[A\n",
      " 35%|███████████▎                    | 444/1260 [00:00<00:00, 2148.59it/s]\u001b[A\n",
      " 52%|████████████████▊               | 660/1260 [00:00<00:00, 2151.96it/s]\u001b[A\n",
      " 70%|██████████████████████▎         | 879/1260 [00:00<00:00, 2164.71it/s]\u001b[A\n",
      "100%|███████████████████████████████| 1260/1260 [00:00<00:00, 2175.08it/s]\u001b[A\n",
      " 31%|███████████▏                        | 31/100 [06:06<13:36, 11.83s/it]"
     ]
    },
    {
     "name": "stdout",
     "output_type": "stream",
     "text": [
      "SD Output shape (1260, 52, 112)\n",
      "PREC\n",
      "Bias Correction Spatially - monthly:\n",
      "Training years : 105.0 == 105.0\n",
      "Testing years : 105.0\n",
      "Bias correction fucntion : <function gamma_quantile_mapping at 0x7f0d2fb2fe50>\n",
      "BC Input shape (1260, 11, 22) (1260, 11, 22) (1260, 11, 22)\n",
      "11 22\n"
     ]
    },
    {
     "name": "stderr",
     "output_type": "stream",
     "text": [
      "\n",
      "  0%|                                              | 0/11 [00:00<?, ?it/s]\u001b[A\n",
      "  9%|███▍                                  | 1/11 [00:00<00:09,  1.09it/s]\u001b[A\n",
      " 18%|██████▉                               | 2/11 [00:01<00:08,  1.07it/s]\u001b[A\n",
      " 27%|██████████▎                           | 3/11 [00:02<00:07,  1.06it/s]\u001b[A\n",
      " 36%|█████████████▊                        | 4/11 [00:03<00:06,  1.06it/s]\u001b[A\n",
      " 45%|█████████████████▎                    | 5/11 [00:04<00:05,  1.04it/s]\u001b[A\n",
      " 55%|████████████████████▋                 | 6/11 [00:05<00:04,  1.05it/s]\u001b[A\n",
      " 64%|████████████████████████▏             | 7/11 [00:06<00:03,  1.05it/s]\u001b[A\n",
      " 73%|███████████████████████████▋          | 8/11 [00:07<00:02,  1.05it/s]\u001b[A\n",
      " 82%|███████████████████████████████       | 9/11 [00:08<00:01,  1.05it/s]\u001b[A\n",
      " 91%|█████████████████████████████████▋   | 10/11 [00:09<00:00,  1.06it/s]\u001b[A\n",
      "100%|█████████████████████████████████████| 11/11 [00:10<00:00,  1.06it/s]\u001b[A\n"
     ]
    },
    {
     "name": "stdout",
     "output_type": "stream",
     "text": [
      "BC Output shape (1260, 11, 22)\n",
      "Spatial Disaggregation - Monthly (NCLIM ==  12 )\n",
      "SD Type - PREC\n",
      "No of timesteps  1260\n",
      "SD Input shape (1260, 52, 112) (1260, 11, 22)\n"
     ]
    },
    {
     "name": "stderr",
     "output_type": "stream",
     "text": [
      "\n",
      "  0%|                                            | 0/1260 [00:00<?, ?it/s]\u001b[A\n",
      " 18%|█████▋                          | 222/1260 [00:00<00:00, 2215.60it/s]\u001b[A\n",
      " 35%|███████████▎                    | 444/1260 [00:00<00:00, 2200.13it/s]\u001b[A\n",
      " 53%|████████████████▉               | 665/1260 [00:00<00:00, 2200.97it/s]\u001b[A\n",
      " 70%|██████████████████████▌         | 886/1260 [00:00<00:00, 2198.64it/s]\u001b[A\n",
      "100%|███████████████████████████████| 1260/1260 [00:00<00:00, 2161.68it/s]\u001b[A\n",
      " 32%|███████████▌                        | 32/100 [06:18<13:21, 11.79s/it]"
     ]
    },
    {
     "name": "stdout",
     "output_type": "stream",
     "text": [
      "SD Output shape (1260, 52, 112)\n",
      "PREC\n",
      "Bias Correction Spatially - monthly:\n",
      "Training years : 105.0 == 105.0\n",
      "Testing years : 105.0\n",
      "Bias correction fucntion : <function gamma_quantile_mapping at 0x7f0d2fb2fe50>\n",
      "BC Input shape (1260, 11, 22) (1260, 11, 22) (1260, 11, 22)\n",
      "11 22\n"
     ]
    },
    {
     "name": "stderr",
     "output_type": "stream",
     "text": [
      "\n",
      "  0%|                                              | 0/11 [00:00<?, ?it/s]\u001b[A\n",
      "  9%|███▍                                  | 1/11 [00:00<00:09,  1.08it/s]\u001b[A\n",
      " 18%|██████▉                               | 2/11 [00:01<00:08,  1.08it/s]\u001b[A\n",
      " 27%|██████████▎                           | 3/11 [00:02<00:07,  1.07it/s]\u001b[A\n",
      " 36%|█████████████▊                        | 4/11 [00:03<00:06,  1.07it/s]\u001b[A\n",
      " 45%|█████████████████▎                    | 5/11 [00:04<00:05,  1.06it/s]\u001b[A\n",
      " 55%|████████████████████▋                 | 6/11 [00:05<00:04,  1.06it/s]\u001b[A\n",
      " 64%|████████████████████████▏             | 7/11 [00:06<00:03,  1.07it/s]\u001b[A\n",
      " 73%|███████████████████████████▋          | 8/11 [00:07<00:02,  1.07it/s]\u001b[A\n",
      " 82%|███████████████████████████████       | 9/11 [00:08<00:01,  1.05it/s]\u001b[A\n",
      " 91%|█████████████████████████████████▋   | 10/11 [00:09<00:00,  1.04it/s]\u001b[A\n",
      "100%|█████████████████████████████████████| 11/11 [00:10<00:00,  1.06it/s]\u001b[A\n"
     ]
    },
    {
     "name": "stdout",
     "output_type": "stream",
     "text": [
      "BC Output shape (1260, 11, 22)\n",
      "Spatial Disaggregation - Monthly (NCLIM ==  12 )\n",
      "SD Type - PREC\n",
      "No of timesteps  1260\n",
      "SD Input shape (1260, 52, 112) (1260, 11, 22)\n"
     ]
    },
    {
     "name": "stderr",
     "output_type": "stream",
     "text": [
      "\n",
      "  0%|                                            | 0/1260 [00:00<?, ?it/s]\u001b[A\n",
      " 17%|█████▎                          | 211/1260 [00:00<00:00, 2106.88it/s]\u001b[A\n",
      " 34%|██████████▉                     | 430/1260 [00:00<00:00, 2151.45it/s]\u001b[A\n",
      " 52%|████████████████▌               | 650/1260 [00:00<00:00, 2172.45it/s]\u001b[A\n",
      " 69%|██████████████████████          | 870/1260 [00:00<00:00, 2182.77it/s]\u001b[A\n",
      "100%|███████████████████████████████| 1260/1260 [00:00<00:00, 2159.66it/s]\u001b[A\n",
      " 33%|███████████▉                        | 33/100 [06:29<13:09, 11.78s/it]"
     ]
    },
    {
     "name": "stdout",
     "output_type": "stream",
     "text": [
      "SD Output shape (1260, 52, 112)\n",
      "PREC\n",
      "Bias Correction Spatially - monthly:\n",
      "Training years : 105.0 == 105.0\n",
      "Testing years : 105.0\n",
      "Bias correction fucntion : <function gamma_quantile_mapping at 0x7f0d2fb2fe50>\n",
      "BC Input shape (1260, 11, 22) (1260, 11, 22) (1260, 11, 22)\n",
      "11 22\n"
     ]
    },
    {
     "name": "stderr",
     "output_type": "stream",
     "text": [
      "\n",
      "  0%|                                              | 0/11 [00:00<?, ?it/s]\u001b[A\n",
      "  9%|███▍                                  | 1/11 [00:00<00:09,  1.05it/s]\u001b[A\n",
      " 18%|██████▉                               | 2/11 [00:01<00:08,  1.07it/s]\u001b[A\n",
      " 27%|██████████▎                           | 3/11 [00:02<00:07,  1.06it/s]\u001b[A\n",
      " 36%|█████████████▊                        | 4/11 [00:03<00:06,  1.06it/s]\u001b[A\n",
      " 45%|█████████████████▎                    | 5/11 [00:04<00:05,  1.07it/s]\u001b[A\n",
      " 55%|████████████████████▋                 | 6/11 [00:05<00:04,  1.07it/s]\u001b[A\n",
      " 64%|████████████████████████▏             | 7/11 [00:06<00:03,  1.07it/s]\u001b[A\n",
      " 73%|███████████████████████████▋          | 8/11 [00:07<00:02,  1.06it/s]\u001b[A\n",
      " 82%|███████████████████████████████       | 9/11 [00:08<00:01,  1.06it/s]\u001b[A\n",
      " 91%|█████████████████████████████████▋   | 10/11 [00:09<00:00,  1.06it/s]\u001b[A\n",
      "100%|█████████████████████████████████████| 11/11 [00:10<00:00,  1.06it/s]\u001b[A\n"
     ]
    },
    {
     "name": "stdout",
     "output_type": "stream",
     "text": [
      "BC Output shape (1260, 11, 22)\n",
      "Spatial Disaggregation - Monthly (NCLIM ==  12 )\n",
      "SD Type - PREC\n",
      "No of timesteps  1260\n",
      "SD Input shape (1260, 52, 112) (1260, 11, 22)\n"
     ]
    },
    {
     "name": "stderr",
     "output_type": "stream",
     "text": [
      "\n",
      "  0%|                                            | 0/1260 [00:00<?, ?it/s]\u001b[A\n",
      " 17%|█████▌                          | 218/1260 [00:00<00:00, 2178.26it/s]\u001b[A\n",
      " 35%|███████████                     | 436/1260 [00:00<00:00, 2165.79it/s]\u001b[A\n",
      " 52%|████████████████▌               | 653/1260 [00:00<00:00, 2112.64it/s]\u001b[A\n",
      " 69%|█████████████████████▉          | 865/1260 [00:00<00:00, 2036.03it/s]\u001b[A\n",
      "100%|███████████████████████████████| 1260/1260 [00:00<00:00, 2084.62it/s]\u001b[A\n",
      " 34%|████████████▏                       | 34/100 [06:41<12:56, 11.76s/it]"
     ]
    },
    {
     "name": "stdout",
     "output_type": "stream",
     "text": [
      "SD Output shape (1260, 52, 112)\n",
      "PREC\n",
      "Bias Correction Spatially - monthly:\n",
      "Training years : 105.0 == 105.0\n",
      "Testing years : 105.0\n",
      "Bias correction fucntion : <function gamma_quantile_mapping at 0x7f0d2fb2fe50>\n",
      "BC Input shape (1260, 11, 22) (1260, 11, 22) (1260, 11, 22)\n",
      "11 22\n"
     ]
    },
    {
     "name": "stderr",
     "output_type": "stream",
     "text": [
      "\n",
      "  0%|                                              | 0/11 [00:00<?, ?it/s]\u001b[A\n",
      "  9%|███▍                                  | 1/11 [00:00<00:09,  1.07it/s]\u001b[A\n",
      " 18%|██████▉                               | 2/11 [00:01<00:08,  1.07it/s]\u001b[A\n",
      " 27%|██████████▎                           | 3/11 [00:02<00:07,  1.06it/s]\u001b[A\n",
      " 36%|█████████████▊                        | 4/11 [00:03<00:06,  1.06it/s]\u001b[A\n",
      " 45%|█████████████████▎                    | 5/11 [00:04<00:05,  1.06it/s]\u001b[A\n",
      " 55%|████████████████████▋                 | 6/11 [00:05<00:04,  1.06it/s]\u001b[A\n",
      " 64%|████████████████████████▏             | 7/11 [00:06<00:03,  1.06it/s]\u001b[A\n",
      " 73%|███████████████████████████▋          | 8/11 [00:07<00:02,  1.06it/s]\u001b[A\n",
      " 82%|███████████████████████████████       | 9/11 [00:08<00:01,  1.07it/s]\u001b[A\n",
      " 91%|█████████████████████████████████▋   | 10/11 [00:09<00:00,  1.06it/s]\u001b[A\n",
      "100%|█████████████████████████████████████| 11/11 [00:10<00:00,  1.06it/s]\u001b[A\n"
     ]
    },
    {
     "name": "stdout",
     "output_type": "stream",
     "text": [
      "BC Output shape (1260, 11, 22)\n",
      "Spatial Disaggregation - Monthly (NCLIM ==  12 )\n",
      "SD Type - PREC\n",
      "No of timesteps  1260\n",
      "SD Input shape (1260, 52, 112) (1260, 11, 22)\n"
     ]
    },
    {
     "name": "stderr",
     "output_type": "stream",
     "text": [
      "\n",
      "  0%|                                            | 0/1260 [00:00<?, ?it/s]\u001b[A\n",
      " 17%|█████▌                          | 219/1260 [00:00<00:00, 2189.41it/s]\u001b[A\n",
      " 35%|███████████▏                    | 439/1260 [00:00<00:00, 2191.56it/s]\u001b[A\n",
      " 52%|████████████████▋               | 659/1260 [00:00<00:00, 2178.45it/s]\u001b[A\n",
      " 70%|██████████████████████▎         | 877/1260 [00:00<00:00, 2165.66it/s]\u001b[A\n",
      "100%|███████████████████████████████| 1260/1260 [00:00<00:00, 2157.74it/s]\u001b[A\n",
      " 35%|████████████▌                       | 35/100 [06:53<12:42, 11.73s/it]"
     ]
    },
    {
     "name": "stdout",
     "output_type": "stream",
     "text": [
      "SD Output shape (1260, 52, 112)\n",
      "PREC\n",
      "Bias Correction Spatially - monthly:\n",
      "Training years : 105.0 == 105.0\n",
      "Testing years : 105.0\n",
      "Bias correction fucntion : <function gamma_quantile_mapping at 0x7f0d2fb2fe50>\n",
      "BC Input shape (1260, 11, 22) (1260, 11, 22) (1260, 11, 22)\n",
      "11 22\n"
     ]
    },
    {
     "name": "stderr",
     "output_type": "stream",
     "text": [
      "\n",
      "  0%|                                              | 0/11 [00:00<?, ?it/s]\u001b[A\n",
      "  9%|███▍                                  | 1/11 [00:00<00:09,  1.06it/s]\u001b[A\n",
      " 18%|██████▉                               | 2/11 [00:01<00:08,  1.05it/s]\u001b[A\n",
      " 27%|██████████▎                           | 3/11 [00:02<00:07,  1.04it/s]\u001b[A\n",
      " 36%|█████████████▊                        | 4/11 [00:03<00:06,  1.05it/s]\u001b[A\n",
      " 45%|█████████████████▎                    | 5/11 [00:04<00:05,  1.05it/s]\u001b[A\n",
      " 55%|████████████████████▋                 | 6/11 [00:05<00:04,  1.05it/s]\u001b[A\n",
      " 64%|████████████████████████▏             | 7/11 [00:06<00:03,  1.06it/s]\u001b[A\n",
      " 73%|███████████████████████████▋          | 8/11 [00:07<00:02,  1.06it/s]\u001b[A\n",
      " 82%|███████████████████████████████       | 9/11 [00:08<00:01,  1.06it/s]\u001b[A\n",
      " 91%|█████████████████████████████████▋   | 10/11 [00:09<00:00,  1.06it/s]\u001b[A\n",
      "100%|█████████████████████████████████████| 11/11 [00:10<00:00,  1.06it/s]\u001b[A\n"
     ]
    },
    {
     "name": "stdout",
     "output_type": "stream",
     "text": [
      "BC Output shape (1260, 11, 22)\n",
      "Spatial Disaggregation - Monthly (NCLIM ==  12 )\n",
      "SD Type - PREC\n",
      "No of timesteps  1260\n",
      "SD Input shape (1260, 52, 112) (1260, 11, 22)\n"
     ]
    },
    {
     "name": "stderr",
     "output_type": "stream",
     "text": [
      "\n",
      "  0%|                                            | 0/1260 [00:00<?, ?it/s]\u001b[A\n",
      " 17%|█████▍                          | 214/1260 [00:00<00:00, 2136.03it/s]\u001b[A\n",
      " 34%|██████████▊                     | 428/1260 [00:00<00:00, 2134.77it/s]\u001b[A\n",
      " 51%|████████████████▎               | 644/1260 [00:00<00:00, 2145.08it/s]\u001b[A\n",
      " 68%|█████████████████████▊          | 860/1260 [00:00<00:00, 2147.57it/s]\u001b[A\n",
      "100%|███████████████████████████████| 1260/1260 [00:00<00:00, 2114.16it/s]\u001b[A\n",
      " 36%|████████████▉                       | 36/100 [07:05<12:30, 11.73s/it]"
     ]
    },
    {
     "name": "stdout",
     "output_type": "stream",
     "text": [
      "SD Output shape (1260, 52, 112)\n",
      "PREC\n",
      "Bias Correction Spatially - monthly:\n",
      "Training years : 105.0 == 105.0\n",
      "Testing years : 105.0\n",
      "Bias correction fucntion : <function gamma_quantile_mapping at 0x7f0d2fb2fe50>\n",
      "BC Input shape (1260, 11, 22) (1260, 11, 22) (1260, 11, 22)\n",
      "11 22\n"
     ]
    },
    {
     "name": "stderr",
     "output_type": "stream",
     "text": [
      "\n",
      "  0%|                                              | 0/11 [00:00<?, ?it/s]\u001b[A\n",
      "  9%|███▍                                  | 1/11 [00:00<00:09,  1.02it/s]\u001b[A\n",
      " 18%|██████▉                               | 2/11 [00:01<00:08,  1.05it/s]\u001b[A\n",
      " 27%|██████████▎                           | 3/11 [00:02<00:07,  1.04it/s]\u001b[A\n",
      " 36%|█████████████▊                        | 4/11 [00:03<00:06,  1.06it/s]\u001b[A\n",
      " 45%|█████████████████▎                    | 5/11 [00:04<00:05,  1.06it/s]\u001b[A\n",
      " 55%|████████████████████▋                 | 6/11 [00:05<00:04,  1.06it/s]\u001b[A\n",
      " 64%|████████████████████████▏             | 7/11 [00:06<00:03,  1.06it/s]\u001b[A\n",
      " 73%|███████████████████████████▋          | 8/11 [00:07<00:02,  1.06it/s]\u001b[A\n",
      " 82%|███████████████████████████████       | 9/11 [00:08<00:01,  1.05it/s]\u001b[A\n",
      " 91%|█████████████████████████████████▋   | 10/11 [00:09<00:00,  1.05it/s]\u001b[A\n",
      "100%|█████████████████████████████████████| 11/11 [00:10<00:00,  1.05it/s]\u001b[A\n"
     ]
    },
    {
     "name": "stdout",
     "output_type": "stream",
     "text": [
      "BC Output shape (1260, 11, 22)\n",
      "Spatial Disaggregation - Monthly (NCLIM ==  12 )\n",
      "SD Type - PREC\n",
      "No of timesteps  1260\n",
      "SD Input shape (1260, 52, 112) (1260, 11, 22)\n"
     ]
    },
    {
     "name": "stderr",
     "output_type": "stream",
     "text": [
      "\n",
      "  0%|                                            | 0/1260 [00:00<?, ?it/s]\u001b[A\n",
      " 17%|█████▌                          | 220/1260 [00:00<00:00, 2193.39it/s]\u001b[A\n",
      " 35%|███████████▏                    | 440/1260 [00:00<00:00, 2100.18it/s]\u001b[A\n",
      " 52%|████████████████▋               | 655/1260 [00:00<00:00, 2118.17it/s]\u001b[A\n",
      " 69%|██████████████████████          | 870/1260 [00:00<00:00, 2129.94it/s]\u001b[A\n",
      "100%|███████████████████████████████| 1260/1260 [00:00<00:00, 2136.96it/s]\u001b[A\n",
      " 37%|█████████████▎                      | 37/100 [07:16<12:20, 11.75s/it]"
     ]
    },
    {
     "name": "stdout",
     "output_type": "stream",
     "text": [
      "SD Output shape (1260, 52, 112)\n",
      "PREC\n",
      "Bias Correction Spatially - monthly:\n",
      "Training years : 105.0 == 105.0\n",
      "Testing years : 105.0\n",
      "Bias correction fucntion : <function gamma_quantile_mapping at 0x7f0d2fb2fe50>\n",
      "BC Input shape (1260, 11, 22) (1260, 11, 22) (1260, 11, 22)\n",
      "11 22\n"
     ]
    },
    {
     "name": "stderr",
     "output_type": "stream",
     "text": [
      "\n",
      "  0%|                                              | 0/11 [00:00<?, ?it/s]\u001b[A\n",
      "  9%|███▍                                  | 1/11 [00:00<00:09,  1.05it/s]\u001b[A\n",
      " 18%|██████▉                               | 2/11 [00:01<00:08,  1.06it/s]\u001b[A\n",
      " 27%|██████████▎                           | 3/11 [00:02<00:07,  1.07it/s]\u001b[A\n",
      " 36%|█████████████▊                        | 4/11 [00:03<00:06,  1.06it/s]\u001b[A\n",
      " 45%|█████████████████▎                    | 5/11 [00:04<00:05,  1.06it/s]\u001b[A\n",
      " 55%|████████████████████▋                 | 6/11 [00:05<00:04,  1.06it/s]\u001b[A\n",
      " 64%|████████████████████████▏             | 7/11 [00:06<00:03,  1.07it/s]\u001b[A\n",
      " 73%|███████████████████████████▋          | 8/11 [00:07<00:02,  1.08it/s]\u001b[A\n",
      " 82%|███████████████████████████████       | 9/11 [00:08<00:01,  1.07it/s]\u001b[A\n",
      " 91%|█████████████████████████████████▋   | 10/11 [00:09<00:00,  1.06it/s]\u001b[A\n",
      "100%|█████████████████████████████████████| 11/11 [00:10<00:00,  1.06it/s]\u001b[A\n"
     ]
    },
    {
     "name": "stdout",
     "output_type": "stream",
     "text": [
      "BC Output shape (1260, 11, 22)\n",
      "Spatial Disaggregation - Monthly (NCLIM ==  12 )\n",
      "SD Type - PREC\n",
      "No of timesteps  1260\n",
      "SD Input shape (1260, 52, 112) (1260, 11, 22)\n"
     ]
    },
    {
     "name": "stderr",
     "output_type": "stream",
     "text": [
      "\n",
      "  0%|                                            | 0/1260 [00:00<?, ?it/s]\u001b[A\n",
      " 17%|█████▌                          | 218/1260 [00:00<00:00, 2176.79it/s]\u001b[A\n",
      " 35%|███████████                     | 438/1260 [00:00<00:00, 2185.79it/s]\u001b[A\n",
      " 52%|████████████████▋               | 657/1260 [00:00<00:00, 2153.92it/s]\u001b[A\n",
      " 69%|██████████████████████▏         | 873/1260 [00:00<00:00, 2126.37it/s]\u001b[A\n",
      "100%|███████████████████████████████| 1260/1260 [00:00<00:00, 2139.71it/s]\u001b[A\n",
      " 38%|█████████████▋                      | 38/100 [07:28<12:06, 11.72s/it]"
     ]
    },
    {
     "name": "stdout",
     "output_type": "stream",
     "text": [
      "SD Output shape (1260, 52, 112)\n",
      "PREC\n",
      "Bias Correction Spatially - monthly:\n",
      "Training years : 105.0 == 105.0\n",
      "Testing years : 105.0\n",
      "Bias correction fucntion : <function gamma_quantile_mapping at 0x7f0d2fb2fe50>\n",
      "BC Input shape (1260, 11, 22) (1260, 11, 22) (1260, 11, 22)\n",
      "11 22\n"
     ]
    },
    {
     "name": "stderr",
     "output_type": "stream",
     "text": [
      "\n",
      "  0%|                                              | 0/11 [00:00<?, ?it/s]\u001b[A\n",
      "  9%|███▍                                  | 1/11 [00:00<00:09,  1.05it/s]\u001b[A\n",
      " 18%|██████▉                               | 2/11 [00:01<00:08,  1.05it/s]\u001b[A\n",
      " 27%|██████████▎                           | 3/11 [00:02<00:07,  1.05it/s]\u001b[A\n",
      " 36%|█████████████▊                        | 4/11 [00:03<00:06,  1.06it/s]\u001b[A\n",
      " 45%|█████████████████▎                    | 5/11 [00:04<00:05,  1.06it/s]\u001b[A\n",
      " 55%|████████████████████▋                 | 6/11 [00:05<00:04,  1.07it/s]\u001b[A\n",
      " 64%|████████████████████████▏             | 7/11 [00:06<00:03,  1.07it/s]\u001b[A\n",
      " 73%|███████████████████████████▋          | 8/11 [00:07<00:02,  1.08it/s]\u001b[A\n",
      " 82%|███████████████████████████████       | 9/11 [00:08<00:01,  1.08it/s]\u001b[A\n",
      " 91%|█████████████████████████████████▋   | 10/11 [00:09<00:00,  1.08it/s]\u001b[A\n",
      "100%|█████████████████████████████████████| 11/11 [00:10<00:00,  1.07it/s]\u001b[A\n"
     ]
    },
    {
     "name": "stdout",
     "output_type": "stream",
     "text": [
      "BC Output shape (1260, 11, 22)\n",
      "Spatial Disaggregation - Monthly (NCLIM ==  12 )\n",
      "SD Type - PREC\n",
      "No of timesteps  1260\n",
      "SD Input shape (1260, 52, 112) (1260, 11, 22)\n"
     ]
    },
    {
     "name": "stderr",
     "output_type": "stream",
     "text": [
      "\n",
      "  0%|                                            | 0/1260 [00:00<?, ?it/s]\u001b[A\n",
      " 17%|█████▌                          | 219/1260 [00:00<00:00, 2186.64it/s]\u001b[A\n",
      " 35%|███████████▏                    | 439/1260 [00:00<00:00, 2193.57it/s]\u001b[A\n",
      " 52%|████████████████▊               | 661/1260 [00:00<00:00, 2202.94it/s]\u001b[A\n",
      " 70%|██████████████████████▍         | 882/1260 [00:00<00:00, 2202.58it/s]\u001b[A\n",
      "100%|███████████████████████████████| 1260/1260 [00:00<00:00, 2196.14it/s]\u001b[A\n",
      " 39%|██████████████                      | 39/100 [07:40<11:52, 11.68s/it]"
     ]
    },
    {
     "name": "stdout",
     "output_type": "stream",
     "text": [
      "SD Output shape (1260, 52, 112)\n",
      "PREC\n",
      "Bias Correction Spatially - monthly:\n",
      "Training years : 105.0 == 105.0\n",
      "Testing years : 105.0\n",
      "Bias correction fucntion : <function gamma_quantile_mapping at 0x7f0d2fb2fe50>\n",
      "BC Input shape (1260, 11, 22) (1260, 11, 22) (1260, 11, 22)\n",
      "11 22\n"
     ]
    },
    {
     "name": "stderr",
     "output_type": "stream",
     "text": [
      "\n",
      "  0%|                                              | 0/11 [00:00<?, ?it/s]\u001b[A\n",
      "  9%|███▍                                  | 1/11 [00:00<00:09,  1.07it/s]\u001b[A\n",
      " 18%|██████▉                               | 2/11 [00:01<00:08,  1.09it/s]\u001b[A\n",
      " 27%|██████████▎                           | 3/11 [00:02<00:07,  1.08it/s]\u001b[A\n",
      " 36%|█████████████▊                        | 4/11 [00:03<00:06,  1.06it/s]\u001b[A\n",
      " 45%|█████████████████▎                    | 5/11 [00:04<00:05,  1.05it/s]\u001b[A\n",
      " 55%|████████████████████▋                 | 6/11 [00:05<00:04,  1.07it/s]\u001b[A\n",
      " 64%|████████████████████████▏             | 7/11 [00:06<00:03,  1.07it/s]\u001b[A\n",
      " 73%|███████████████████████████▋          | 8/11 [00:07<00:02,  1.08it/s]\u001b[A\n",
      " 82%|███████████████████████████████       | 9/11 [00:08<00:01,  1.08it/s]\u001b[A\n",
      " 91%|█████████████████████████████████▋   | 10/11 [00:09<00:00,  1.08it/s]\u001b[A\n",
      "100%|█████████████████████████████████████| 11/11 [00:10<00:00,  1.08it/s]\u001b[A\n"
     ]
    },
    {
     "name": "stdout",
     "output_type": "stream",
     "text": [
      "BC Output shape (1260, 11, 22)\n",
      "Spatial Disaggregation - Monthly (NCLIM ==  12 )\n",
      "SD Type - PREC\n",
      "No of timesteps  1260\n",
      "SD Input shape (1260, 52, 112) (1260, 11, 22)\n"
     ]
    },
    {
     "name": "stderr",
     "output_type": "stream",
     "text": [
      "\n",
      "  0%|                                            | 0/1260 [00:00<?, ?it/s]\u001b[A\n",
      " 17%|█████▌                          | 219/1260 [00:00<00:00, 2183.99it/s]\u001b[A\n",
      " 35%|███████████                     | 438/1260 [00:00<00:00, 2184.44it/s]\u001b[A\n",
      " 52%|████████████████▋               | 659/1260 [00:00<00:00, 2193.38it/s]\u001b[A\n",
      " 70%|██████████████████████▎         | 879/1260 [00:00<00:00, 2175.23it/s]\u001b[A\n",
      "100%|███████████████████████████████| 1260/1260 [00:00<00:00, 2156.87it/s]\u001b[A\n",
      " 40%|██████████████▍                     | 40/100 [07:51<11:37, 11.63s/it]"
     ]
    },
    {
     "name": "stdout",
     "output_type": "stream",
     "text": [
      "SD Output shape (1260, 52, 112)\n",
      "PREC\n",
      "Bias Correction Spatially - monthly:\n",
      "Training years : 105.0 == 105.0\n",
      "Testing years : 105.0\n",
      "Bias correction fucntion : <function gamma_quantile_mapping at 0x7f0d2fb2fe50>\n",
      "BC Input shape (1260, 11, 22) (1260, 11, 22) (1260, 11, 22)\n",
      "11 22\n"
     ]
    },
    {
     "name": "stderr",
     "output_type": "stream",
     "text": [
      "\n",
      "  0%|                                              | 0/11 [00:00<?, ?it/s]\u001b[A\n",
      "  9%|███▍                                  | 1/11 [00:00<00:09,  1.05it/s]\u001b[A\n",
      " 18%|██████▉                               | 2/11 [00:01<00:08,  1.05it/s]\u001b[A\n",
      " 27%|██████████▎                           | 3/11 [00:02<00:07,  1.06it/s]\u001b[A\n",
      " 36%|█████████████▊                        | 4/11 [00:03<00:06,  1.05it/s]\u001b[A\n",
      " 45%|█████████████████▎                    | 5/11 [00:04<00:05,  1.05it/s]\u001b[A\n",
      " 55%|████████████████████▋                 | 6/11 [00:05<00:04,  1.06it/s]\u001b[A\n",
      " 64%|████████████████████████▏             | 7/11 [00:06<00:03,  1.07it/s]\u001b[A\n",
      " 73%|███████████████████████████▋          | 8/11 [00:07<00:02,  1.07it/s]\u001b[A\n",
      " 82%|███████████████████████████████       | 9/11 [00:08<00:01,  1.07it/s]\u001b[A\n",
      " 91%|█████████████████████████████████▋   | 10/11 [00:09<00:00,  1.07it/s]\u001b[A\n",
      "100%|█████████████████████████████████████| 11/11 [00:10<00:00,  1.06it/s]\u001b[A\n"
     ]
    },
    {
     "name": "stdout",
     "output_type": "stream",
     "text": [
      "BC Output shape (1260, 11, 22)\n",
      "Spatial Disaggregation - Monthly (NCLIM ==  12 )\n",
      "SD Type - PREC\n",
      "No of timesteps  1260\n",
      "SD Input shape (1260, 52, 112) (1260, 11, 22)\n"
     ]
    },
    {
     "name": "stderr",
     "output_type": "stream",
     "text": [
      "\n",
      "  0%|                                            | 0/1260 [00:00<?, ?it/s]\u001b[A\n",
      " 17%|█████▎                          | 211/1260 [00:00<00:00, 2107.33it/s]\u001b[A\n",
      " 34%|██████████▊                     | 424/1260 [00:00<00:00, 2120.59it/s]\u001b[A\n",
      " 51%|████████████████▏               | 637/1260 [00:00<00:00, 2123.18it/s]\u001b[A\n",
      " 68%|█████████████████████▊          | 859/1260 [00:00<00:00, 2158.07it/s]\u001b[A\n",
      "100%|███████████████████████████████| 1260/1260 [00:00<00:00, 2159.19it/s]\u001b[A\n",
      " 41%|██████████████▊                     | 41/100 [08:03<11:27, 11.65s/it]"
     ]
    },
    {
     "name": "stdout",
     "output_type": "stream",
     "text": [
      "SD Output shape (1260, 52, 112)\n",
      "PREC\n",
      "Bias Correction Spatially - monthly:\n",
      "Training years : 105.0 == 105.0\n",
      "Testing years : 105.0\n",
      "Bias correction fucntion : <function gamma_quantile_mapping at 0x7f0d2fb2fe50>\n",
      "BC Input shape (1260, 11, 22) (1260, 11, 22) (1260, 11, 22)\n",
      "11 22\n"
     ]
    },
    {
     "name": "stderr",
     "output_type": "stream",
     "text": [
      "\n",
      "  0%|                                              | 0/11 [00:00<?, ?it/s]\u001b[A\n",
      "  9%|███▍                                  | 1/11 [00:00<00:09,  1.08it/s]\u001b[A\n",
      " 18%|██████▉                               | 2/11 [00:01<00:08,  1.06it/s]\u001b[A\n",
      " 27%|██████████▎                           | 3/11 [00:02<00:07,  1.07it/s]\u001b[A\n",
      " 36%|█████████████▊                        | 4/11 [00:03<00:06,  1.08it/s]\u001b[A\n",
      " 45%|█████████████████▎                    | 5/11 [00:04<00:05,  1.08it/s]\u001b[A\n",
      " 55%|████████████████████▋                 | 6/11 [00:05<00:04,  1.08it/s]\u001b[A\n",
      " 64%|████████████████████████▏             | 7/11 [00:06<00:03,  1.08it/s]\u001b[A\n",
      " 73%|███████████████████████████▋          | 8/11 [00:07<00:02,  1.08it/s]\u001b[A\n",
      " 82%|███████████████████████████████       | 9/11 [00:08<00:01,  1.08it/s]\u001b[A\n",
      " 91%|█████████████████████████████████▋   | 10/11 [00:09<00:00,  1.08it/s]\u001b[A\n",
      "100%|█████████████████████████████████████| 11/11 [00:10<00:00,  1.08it/s]\u001b[A\n"
     ]
    },
    {
     "name": "stdout",
     "output_type": "stream",
     "text": [
      "BC Output shape (1260, 11, 22)\n",
      "Spatial Disaggregation - Monthly (NCLIM ==  12 )\n",
      "SD Type - PREC\n",
      "No of timesteps  1260\n",
      "SD Input shape (1260, 52, 112) (1260, 11, 22)\n"
     ]
    },
    {
     "name": "stderr",
     "output_type": "stream",
     "text": [
      "\n",
      "  0%|                                            | 0/1260 [00:00<?, ?it/s]\u001b[A\n",
      " 17%|█████▌                          | 217/1260 [00:00<00:00, 2164.07it/s]\u001b[A\n",
      " 35%|███████████                     | 435/1260 [00:00<00:00, 2167.84it/s]\u001b[A\n",
      " 52%|████████████████▌               | 654/1260 [00:00<00:00, 2175.59it/s]\u001b[A\n",
      " 69%|██████████████████████▏         | 872/1260 [00:00<00:00, 2165.75it/s]\u001b[A\n",
      "100%|███████████████████████████████| 1260/1260 [00:00<00:00, 2164.87it/s]\u001b[A\n",
      " 42%|███████████████                     | 42/100 [08:14<11:13, 11.62s/it]"
     ]
    },
    {
     "name": "stdout",
     "output_type": "stream",
     "text": [
      "SD Output shape (1260, 52, 112)\n",
      "PREC\n",
      "Bias Correction Spatially - monthly:\n",
      "Training years : 105.0 == 105.0\n",
      "Testing years : 105.0\n",
      "Bias correction fucntion : <function gamma_quantile_mapping at 0x7f0d2fb2fe50>\n",
      "BC Input shape (1260, 11, 22) (1260, 11, 22) (1260, 11, 22)\n",
      "11 22\n"
     ]
    },
    {
     "name": "stderr",
     "output_type": "stream",
     "text": [
      "\n",
      "  0%|                                              | 0/11 [00:00<?, ?it/s]\u001b[A\n",
      "  9%|███▍                                  | 1/11 [00:00<00:09,  1.06it/s]\u001b[A\n",
      " 18%|██████▉                               | 2/11 [00:01<00:08,  1.06it/s]\u001b[A\n",
      " 27%|██████████▎                           | 3/11 [00:02<00:07,  1.07it/s]\u001b[A\n",
      " 36%|█████████████▊                        | 4/11 [00:03<00:06,  1.06it/s]\u001b[A\n",
      " 45%|█████████████████▎                    | 5/11 [00:04<00:05,  1.07it/s]\u001b[A\n",
      " 55%|████████████████████▋                 | 6/11 [00:05<00:04,  1.06it/s]\u001b[A\n",
      " 64%|████████████████████████▏             | 7/11 [00:06<00:03,  1.03it/s]\u001b[A\n",
      " 73%|███████████████████████████▋          | 8/11 [00:07<00:02,  1.03it/s]\u001b[A\n",
      " 82%|███████████████████████████████       | 9/11 [00:08<00:01,  1.05it/s]\u001b[A\n",
      " 91%|█████████████████████████████████▋   | 10/11 [00:09<00:00,  1.04it/s]\u001b[A\n",
      "100%|█████████████████████████████████████| 11/11 [00:10<00:00,  1.05it/s]\u001b[A\n"
     ]
    },
    {
     "name": "stdout",
     "output_type": "stream",
     "text": [
      "BC Output shape (1260, 11, 22)\n",
      "Spatial Disaggregation - Monthly (NCLIM ==  12 )\n",
      "SD Type - PREC\n",
      "No of timesteps  1260\n",
      "SD Input shape (1260, 52, 112) (1260, 11, 22)\n"
     ]
    },
    {
     "name": "stderr",
     "output_type": "stream",
     "text": [
      "\n",
      "  0%|                                            | 0/1260 [00:00<?, ?it/s]\u001b[A\n",
      " 18%|█████▌                          | 221/1260 [00:00<00:00, 2201.44it/s]\u001b[A\n",
      " 35%|███████████▏                    | 442/1260 [00:00<00:00, 2130.51it/s]\u001b[A\n",
      " 52%|████████████████▋               | 656/1260 [00:00<00:00, 2114.44it/s]\u001b[A\n",
      " 70%|██████████████████████▎         | 877/1260 [00:00<00:00, 2150.79it/s]\u001b[A\n",
      "100%|███████████████████████████████| 1260/1260 [00:00<00:00, 2109.81it/s]\u001b[A\n",
      " 43%|███████████████▍                    | 43/100 [08:26<11:06, 11.69s/it]"
     ]
    },
    {
     "name": "stdout",
     "output_type": "stream",
     "text": [
      "SD Output shape (1260, 52, 112)\n",
      "PREC\n",
      "Bias Correction Spatially - monthly:\n",
      "Training years : 105.0 == 105.0\n",
      "Testing years : 105.0\n",
      "Bias correction fucntion : <function gamma_quantile_mapping at 0x7f0d2fb2fe50>\n",
      "BC Input shape (1260, 11, 22) (1260, 11, 22) (1260, 11, 22)\n",
      "11 22\n"
     ]
    },
    {
     "name": "stderr",
     "output_type": "stream",
     "text": [
      "\n",
      "  0%|                                              | 0/11 [00:00<?, ?it/s]\u001b[A\n",
      "  9%|███▍                                  | 1/11 [00:00<00:09,  1.04it/s]\u001b[A\n",
      " 18%|██████▉                               | 2/11 [00:01<00:08,  1.06it/s]\u001b[A\n",
      " 27%|██████████▎                           | 3/11 [00:02<00:07,  1.07it/s]\u001b[A\n",
      " 36%|█████████████▊                        | 4/11 [00:03<00:06,  1.08it/s]\u001b[A\n",
      " 45%|█████████████████▎                    | 5/11 [00:04<00:05,  1.08it/s]\u001b[A\n",
      " 55%|████████████████████▋                 | 6/11 [00:05<00:04,  1.08it/s]\u001b[A\n",
      " 64%|████████████████████████▏             | 7/11 [00:06<00:03,  1.08it/s]\u001b[A\n",
      " 73%|███████████████████████████▋          | 8/11 [00:07<00:02,  1.07it/s]\u001b[A\n",
      " 82%|███████████████████████████████       | 9/11 [00:08<00:01,  1.06it/s]\u001b[A\n",
      " 91%|█████████████████████████████████▋   | 10/11 [00:09<00:00,  1.05it/s]\u001b[A\n",
      "100%|█████████████████████████████████████| 11/11 [00:10<00:00,  1.06it/s]\u001b[A\n"
     ]
    },
    {
     "name": "stdout",
     "output_type": "stream",
     "text": [
      "BC Output shape (1260, 11, 22)\n",
      "Spatial Disaggregation - Monthly (NCLIM ==  12 )\n",
      "SD Type - PREC\n",
      "No of timesteps  1260\n",
      "SD Input shape (1260, 52, 112) (1260, 11, 22)\n"
     ]
    },
    {
     "name": "stderr",
     "output_type": "stream",
     "text": [
      "\n",
      "  0%|                                            | 0/1260 [00:00<?, ?it/s]\u001b[A\n",
      " 17%|█████▎                          | 211/1260 [00:00<00:00, 2108.69it/s]\u001b[A\n",
      " 34%|██████████▊                     | 426/1260 [00:00<00:00, 2128.98it/s]\u001b[A\n",
      " 51%|████████████████▎               | 641/1260 [00:00<00:00, 2137.17it/s]\u001b[A\n",
      " 68%|█████████████████████▋          | 856/1260 [00:00<00:00, 2139.44it/s]\u001b[A\n",
      "100%|███████████████████████████████| 1260/1260 [00:00<00:00, 2131.68it/s]\u001b[A\n",
      " 44%|███████████████▊                    | 44/100 [08:38<10:54, 11.69s/it]"
     ]
    },
    {
     "name": "stdout",
     "output_type": "stream",
     "text": [
      "SD Output shape (1260, 52, 112)\n",
      "PREC\n",
      "Bias Correction Spatially - monthly:\n",
      "Training years : 105.0 == 105.0\n",
      "Testing years : 105.0\n",
      "Bias correction fucntion : <function gamma_quantile_mapping at 0x7f0d2fb2fe50>\n",
      "BC Input shape (1260, 11, 22) (1260, 11, 22) (1260, 11, 22)\n",
      "11 22\n"
     ]
    },
    {
     "name": "stderr",
     "output_type": "stream",
     "text": [
      "\n",
      "  0%|                                              | 0/11 [00:00<?, ?it/s]\u001b[A\n",
      "  9%|███▍                                  | 1/11 [00:00<00:09,  1.01it/s]\u001b[A\n",
      " 18%|██████▉                               | 2/11 [00:01<00:08,  1.01it/s]\u001b[A\n",
      " 27%|██████████▎                           | 3/11 [00:02<00:07,  1.04it/s]\u001b[A\n",
      " 36%|█████████████▊                        | 4/11 [00:03<00:06,  1.05it/s]\u001b[A\n",
      " 45%|█████████████████▎                    | 5/11 [00:04<00:05,  1.06it/s]\u001b[A\n",
      " 55%|████████████████████▋                 | 6/11 [00:05<00:04,  1.06it/s]\u001b[A\n",
      " 64%|████████████████████████▏             | 7/11 [00:06<00:03,  1.07it/s]\u001b[A\n",
      " 73%|███████████████████████████▋          | 8/11 [00:07<00:02,  1.07it/s]\u001b[A\n",
      " 82%|███████████████████████████████       | 9/11 [00:08<00:01,  1.05it/s]\u001b[A\n",
      " 91%|█████████████████████████████████▋   | 10/11 [00:09<00:00,  1.06it/s]\u001b[A\n",
      "100%|█████████████████████████████████████| 11/11 [00:10<00:00,  1.05it/s]\u001b[A\n"
     ]
    },
    {
     "name": "stdout",
     "output_type": "stream",
     "text": [
      "BC Output shape (1260, 11, 22)\n",
      "Spatial Disaggregation - Monthly (NCLIM ==  12 )\n",
      "SD Type - PREC\n",
      "No of timesteps  1260\n",
      "SD Input shape (1260, 52, 112) (1260, 11, 22)\n"
     ]
    },
    {
     "name": "stderr",
     "output_type": "stream",
     "text": [
      "\n",
      "  0%|                                            | 0/1260 [00:00<?, ?it/s]\u001b[A\n",
      " 18%|█████▌                          | 221/1260 [00:00<00:00, 2207.40it/s]\u001b[A\n",
      " 35%|███████████▏                    | 442/1260 [00:00<00:00, 2144.99it/s]\u001b[A\n",
      " 52%|████████████████▋               | 658/1260 [00:00<00:00, 2151.54it/s]\u001b[A\n",
      " 70%|██████████████████████▏         | 876/1260 [00:00<00:00, 2159.17it/s]\u001b[A\n",
      "100%|███████████████████████████████| 1260/1260 [00:00<00:00, 2132.43it/s]\u001b[A\n",
      " 45%|████████████████▏                   | 45/100 [08:50<10:44, 11.72s/it]"
     ]
    },
    {
     "name": "stdout",
     "output_type": "stream",
     "text": [
      "SD Output shape (1260, 52, 112)\n",
      "PREC\n",
      "Bias Correction Spatially - monthly:\n",
      "Training years : 105.0 == 105.0\n",
      "Testing years : 105.0\n",
      "Bias correction fucntion : <function gamma_quantile_mapping at 0x7f0d2fb2fe50>\n",
      "BC Input shape (1260, 11, 22) (1260, 11, 22) (1260, 11, 22)\n",
      "11 22\n"
     ]
    },
    {
     "name": "stderr",
     "output_type": "stream",
     "text": [
      "\n",
      "  0%|                                              | 0/11 [00:00<?, ?it/s]\u001b[A\n",
      "  9%|███▍                                  | 1/11 [00:00<00:09,  1.07it/s]\u001b[A\n",
      " 18%|██████▉                               | 2/11 [00:01<00:08,  1.08it/s]\u001b[A\n",
      " 27%|██████████▎                           | 3/11 [00:02<00:07,  1.06it/s]\u001b[A\n",
      " 36%|█████████████▊                        | 4/11 [00:03<00:06,  1.05it/s]\u001b[A\n",
      " 45%|█████████████████▎                    | 5/11 [00:04<00:05,  1.06it/s]\u001b[A\n",
      " 55%|████████████████████▋                 | 6/11 [00:05<00:04,  1.06it/s]\u001b[A\n",
      " 64%|████████████████████████▏             | 7/11 [00:06<00:03,  1.06it/s]\u001b[A\n",
      " 73%|███████████████████████████▋          | 8/11 [00:07<00:02,  1.05it/s]\u001b[A\n",
      " 82%|███████████████████████████████       | 9/11 [00:08<00:01,  1.05it/s]\u001b[A\n",
      " 91%|█████████████████████████████████▋   | 10/11 [00:09<00:00,  1.04it/s]\u001b[A\n",
      "100%|█████████████████████████████████████| 11/11 [00:10<00:00,  1.05it/s]\u001b[A\n"
     ]
    },
    {
     "name": "stdout",
     "output_type": "stream",
     "text": [
      "BC Output shape (1260, 11, 22)\n",
      "Spatial Disaggregation - Monthly (NCLIM ==  12 )\n",
      "SD Type - PREC\n",
      "No of timesteps  1260\n",
      "SD Input shape (1260, 52, 112) (1260, 11, 22)\n"
     ]
    },
    {
     "name": "stderr",
     "output_type": "stream",
     "text": [
      "\n",
      "  0%|                                            | 0/1260 [00:00<?, ?it/s]\u001b[A\n",
      " 18%|█████▋                          | 222/1260 [00:00<00:00, 2212.98it/s]\u001b[A\n",
      " 35%|███████████▎                    | 444/1260 [00:00<00:00, 2183.96it/s]\u001b[A\n",
      " 53%|████████████████▉               | 665/1260 [00:00<00:00, 2191.73it/s]\u001b[A\n",
      " 70%|██████████████████████▍         | 885/1260 [00:00<00:00, 2189.11it/s]\u001b[A\n",
      "100%|███████████████████████████████| 1260/1260 [00:00<00:00, 2180.91it/s]\u001b[A\n",
      " 46%|████████████████▌                   | 46/100 [09:01<10:33, 11.74s/it]"
     ]
    },
    {
     "name": "stdout",
     "output_type": "stream",
     "text": [
      "SD Output shape (1260, 52, 112)\n",
      "PREC\n",
      "Bias Correction Spatially - monthly:\n",
      "Training years : 105.0 == 105.0\n",
      "Testing years : 105.0\n",
      "Bias correction fucntion : <function gamma_quantile_mapping at 0x7f0d2fb2fe50>\n",
      "BC Input shape (1260, 11, 22) (1260, 11, 22) (1260, 11, 22)\n",
      "11 22\n"
     ]
    },
    {
     "name": "stderr",
     "output_type": "stream",
     "text": [
      "\n",
      "  0%|                                              | 0/11 [00:00<?, ?it/s]\u001b[A\n",
      "  9%|███▍                                  | 1/11 [00:00<00:09,  1.09it/s]\u001b[A\n",
      " 18%|██████▉                               | 2/11 [00:01<00:08,  1.08it/s]\u001b[A\n",
      " 27%|██████████▎                           | 3/11 [00:02<00:07,  1.06it/s]\u001b[A\n",
      " 36%|█████████████▊                        | 4/11 [00:03<00:06,  1.06it/s]\u001b[A\n",
      " 45%|█████████████████▎                    | 5/11 [00:04<00:05,  1.05it/s]\u001b[A\n",
      " 55%|████████████████████▋                 | 6/11 [00:05<00:04,  1.05it/s]\u001b[A\n",
      " 64%|████████████████████████▏             | 7/11 [00:06<00:03,  1.05it/s]\u001b[A\n",
      " 73%|███████████████████████████▋          | 8/11 [00:07<00:02,  1.06it/s]\u001b[A\n",
      " 82%|███████████████████████████████       | 9/11 [00:08<00:01,  1.06it/s]\u001b[A\n",
      " 91%|█████████████████████████████████▋   | 10/11 [00:09<00:00,  1.06it/s]\u001b[A\n",
      "100%|█████████████████████████████████████| 11/11 [00:10<00:00,  1.06it/s]\u001b[A\n"
     ]
    },
    {
     "name": "stdout",
     "output_type": "stream",
     "text": [
      "BC Output shape (1260, 11, 22)\n",
      "Spatial Disaggregation - Monthly (NCLIM ==  12 )\n",
      "SD Type - PREC\n",
      "No of timesteps  1260\n",
      "SD Input shape (1260, 52, 112) (1260, 11, 22)\n"
     ]
    },
    {
     "name": "stderr",
     "output_type": "stream",
     "text": [
      "\n",
      "  0%|                                            | 0/1260 [00:00<?, ?it/s]\u001b[A\n",
      " 17%|█████▍                          | 212/1260 [00:00<00:00, 2115.74it/s]\u001b[A\n",
      " 34%|██████████▊                     | 424/1260 [00:00<00:00, 2110.67it/s]\u001b[A\n",
      " 50%|████████████████▏               | 636/1260 [00:00<00:00, 2113.43it/s]\u001b[A\n",
      " 67%|█████████████████████▌          | 848/1260 [00:00<00:00, 2115.78it/s]\u001b[A\n",
      "100%|███████████████████████████████| 1260/1260 [00:00<00:00, 2113.70it/s]\u001b[A\n",
      " 47%|████████████████▉                   | 47/100 [09:13<10:22, 11.75s/it]"
     ]
    },
    {
     "name": "stdout",
     "output_type": "stream",
     "text": [
      "SD Output shape (1260, 52, 112)\n",
      "PREC\n",
      "Bias Correction Spatially - monthly:\n",
      "Training years : 105.0 == 105.0\n",
      "Testing years : 105.0\n",
      "Bias correction fucntion : <function gamma_quantile_mapping at 0x7f0d2fb2fe50>\n",
      "BC Input shape (1260, 11, 22) (1260, 11, 22) (1260, 11, 22)\n",
      "11 22\n"
     ]
    },
    {
     "name": "stderr",
     "output_type": "stream",
     "text": [
      "\n",
      "  0%|                                              | 0/11 [00:00<?, ?it/s]\u001b[A\n",
      "  9%|███▍                                  | 1/11 [00:00<00:09,  1.01it/s]\u001b[A\n",
      " 18%|██████▉                               | 2/11 [00:01<00:08,  1.01it/s]\u001b[A\n",
      " 27%|██████████▎                           | 3/11 [00:02<00:07,  1.01it/s]\u001b[A\n",
      " 36%|█████████████▊                        | 4/11 [00:03<00:06,  1.01it/s]\u001b[A\n",
      " 45%|█████████████████▎                    | 5/11 [00:04<00:05,  1.03it/s]\u001b[A\n",
      " 55%|████████████████████▋                 | 6/11 [00:05<00:04,  1.04it/s]\u001b[A\n",
      " 64%|████████████████████████▏             | 7/11 [00:06<00:03,  1.05it/s]\u001b[A\n",
      " 73%|███████████████████████████▋          | 8/11 [00:07<00:02,  1.05it/s]\u001b[A\n",
      " 82%|███████████████████████████████       | 9/11 [00:08<00:01,  1.06it/s]\u001b[A\n",
      " 91%|█████████████████████████████████▋   | 10/11 [00:09<00:00,  1.06it/s]\u001b[A\n",
      "100%|█████████████████████████████████████| 11/11 [00:10<00:00,  1.05it/s]\u001b[A\n"
     ]
    },
    {
     "name": "stdout",
     "output_type": "stream",
     "text": [
      "BC Output shape (1260, 11, 22)\n",
      "Spatial Disaggregation - Monthly (NCLIM ==  12 )\n",
      "SD Type - PREC\n",
      "No of timesteps  1260\n",
      "SD Input shape (1260, 52, 112) (1260, 11, 22)\n"
     ]
    },
    {
     "name": "stderr",
     "output_type": "stream",
     "text": [
      "\n",
      "  0%|                                            | 0/1260 [00:00<?, ?it/s]\u001b[A\n",
      " 17%|█████▌                          | 220/1260 [00:00<00:00, 2190.49it/s]\u001b[A\n",
      " 35%|███████████▏                    | 440/1260 [00:00<00:00, 2184.29it/s]\u001b[A\n",
      " 52%|████████████████▋               | 659/1260 [00:00<00:00, 2182.61it/s]\u001b[A\n",
      " 70%|██████████████████████▎         | 878/1260 [00:00<00:00, 2183.44it/s]\u001b[A\n",
      "100%|███████████████████████████████| 1260/1260 [00:00<00:00, 2184.82it/s]\u001b[A\n",
      " 48%|█████████████████▎                  | 48/100 [09:25<10:12, 11.78s/it]"
     ]
    },
    {
     "name": "stdout",
     "output_type": "stream",
     "text": [
      "SD Output shape (1260, 52, 112)\n",
      "PREC\n",
      "Bias Correction Spatially - monthly:\n",
      "Training years : 105.0 == 105.0\n",
      "Testing years : 105.0\n",
      "Bias correction fucntion : <function gamma_quantile_mapping at 0x7f0d2fb2fe50>\n",
      "BC Input shape (1260, 11, 22) (1260, 11, 22) (1260, 11, 22)\n",
      "11 22\n"
     ]
    },
    {
     "name": "stderr",
     "output_type": "stream",
     "text": [
      "\n",
      "  0%|                                              | 0/11 [00:00<?, ?it/s]\u001b[A\n",
      "  9%|███▍                                  | 1/11 [00:00<00:09,  1.08it/s]\u001b[A\n",
      " 18%|██████▉                               | 2/11 [00:01<00:08,  1.08it/s]\u001b[A\n",
      " 27%|██████████▎                           | 3/11 [00:02<00:07,  1.08it/s]\u001b[A\n",
      " 36%|█████████████▊                        | 4/11 [00:03<00:06,  1.08it/s]\u001b[A\n",
      " 45%|█████████████████▎                    | 5/11 [00:04<00:05,  1.08it/s]\u001b[A\n",
      " 55%|████████████████████▋                 | 6/11 [00:05<00:04,  1.07it/s]\u001b[A\n",
      " 64%|████████████████████████▏             | 7/11 [00:06<00:03,  1.07it/s]\u001b[A\n",
      " 73%|███████████████████████████▋          | 8/11 [00:07<00:02,  1.07it/s]\u001b[A\n",
      " 82%|███████████████████████████████       | 9/11 [00:08<00:01,  1.07it/s]\u001b[A\n",
      " 91%|█████████████████████████████████▋   | 10/11 [00:09<00:00,  1.06it/s]\u001b[A\n",
      "100%|█████████████████████████████████████| 11/11 [00:10<00:00,  1.06it/s]\u001b[A\n"
     ]
    },
    {
     "name": "stdout",
     "output_type": "stream",
     "text": [
      "BC Output shape (1260, 11, 22)\n",
      "Spatial Disaggregation - Monthly (NCLIM ==  12 )\n",
      "SD Type - PREC\n",
      "No of timesteps  1260\n",
      "SD Input shape (1260, 52, 112) (1260, 11, 22)\n"
     ]
    },
    {
     "name": "stderr",
     "output_type": "stream",
     "text": [
      "\n",
      "  0%|                                            | 0/1260 [00:00<?, ?it/s]\u001b[A\n",
      " 15%|████▉                           | 195/1260 [00:00<00:00, 1943.09it/s]\u001b[A\n",
      " 31%|██████████                      | 395/1260 [00:00<00:00, 1974.62it/s]\u001b[A\n",
      " 47%|███████████████                 | 594/1260 [00:00<00:00, 1980.10it/s]\u001b[A\n",
      " 63%|████████████████████▏           | 793/1260 [00:00<00:00, 1975.67it/s]\u001b[A\n",
      " 80%|████████████████████████▊      | 1009/1260 [00:00<00:00, 2039.62it/s]\u001b[A\n",
      "100%|███████████████████████████████| 1260/1260 [00:00<00:00, 2012.99it/s]\u001b[A\n",
      " 49%|█████████████████▋                  | 49/100 [09:37<10:00, 11.77s/it]"
     ]
    },
    {
     "name": "stdout",
     "output_type": "stream",
     "text": [
      "SD Output shape (1260, 52, 112)\n",
      "PREC\n",
      "Bias Correction Spatially - monthly:\n",
      "Training years : 105.0 == 105.0\n",
      "Testing years : 105.0\n",
      "Bias correction fucntion : <function gamma_quantile_mapping at 0x7f0d2fb2fe50>\n",
      "BC Input shape (1260, 11, 22) (1260, 11, 22) (1260, 11, 22)\n",
      "11 22\n"
     ]
    },
    {
     "name": "stderr",
     "output_type": "stream",
     "text": [
      "\n",
      "  0%|                                              | 0/11 [00:00<?, ?it/s]\u001b[A\n",
      "  9%|███▍                                  | 1/11 [00:00<00:09,  1.01it/s]\u001b[A\n",
      " 18%|██████▉                               | 2/11 [00:01<00:08,  1.02it/s]\u001b[A\n",
      " 27%|██████████▎                           | 3/11 [00:02<00:07,  1.02it/s]\u001b[A\n",
      " 36%|█████████████▊                        | 4/11 [00:03<00:06,  1.02it/s]\u001b[A\n",
      " 45%|█████████████████▎                    | 5/11 [00:04<00:05,  1.02it/s]\u001b[A\n",
      " 55%|████████████████████▋                 | 6/11 [00:05<00:04,  1.01it/s]\u001b[A\n",
      " 64%|████████████████████████▏             | 7/11 [00:06<00:03,  1.01it/s]\u001b[A\n",
      " 73%|███████████████████████████▋          | 8/11 [00:07<00:03,  1.00s/it]\u001b[A\n",
      " 82%|███████████████████████████████       | 9/11 [00:08<00:02,  1.01s/it]\u001b[A\n",
      " 91%|█████████████████████████████████▋   | 10/11 [00:09<00:01,  1.01s/it]\u001b[A\n",
      "100%|█████████████████████████████████████| 11/11 [00:10<00:00,  1.00it/s]\u001b[A\n"
     ]
    },
    {
     "name": "stdout",
     "output_type": "stream",
     "text": [
      "BC Output shape (1260, 11, 22)\n",
      "Spatial Disaggregation - Monthly (NCLIM ==  12 )\n",
      "SD Type - PREC\n",
      "No of timesteps  1260\n",
      "SD Input shape (1260, 52, 112) (1260, 11, 22)\n"
     ]
    },
    {
     "name": "stderr",
     "output_type": "stream",
     "text": [
      "\n",
      "  0%|                                            | 0/1260 [00:00<?, ?it/s]\u001b[A\n",
      " 15%|████▉                           | 192/1260 [00:00<00:00, 1911.67it/s]\u001b[A\n",
      " 30%|█████████▊                      | 384/1260 [00:00<00:00, 1726.09it/s]\u001b[A\n",
      " 47%|██████████████▉                 | 586/1260 [00:00<00:00, 1852.53it/s]\u001b[A\n",
      " 63%|████████████████████▏           | 793/1260 [00:00<00:00, 1932.78it/s]\u001b[A\n",
      " 78%|█████████████████████████       | 988/1260 [00:00<00:00, 1897.76it/s]\u001b[A\n",
      "100%|███████████████████████████████| 1260/1260 [00:00<00:00, 1905.46it/s]\u001b[A\n",
      " 50%|██████████████████                  | 50/100 [09:49<09:58, 11.96s/it]"
     ]
    },
    {
     "name": "stdout",
     "output_type": "stream",
     "text": [
      "SD Output shape (1260, 52, 112)\n",
      "PREC\n",
      "Bias Correction Spatially - monthly:\n",
      "Training years : 105.0 == 105.0\n",
      "Testing years : 105.0\n",
      "Bias correction fucntion : <function gamma_quantile_mapping at 0x7f0d2fb2fe50>\n",
      "BC Input shape (1260, 11, 22) (1260, 11, 22) (1260, 11, 22)\n",
      "11 22\n"
     ]
    },
    {
     "name": "stderr",
     "output_type": "stream",
     "text": [
      "\n",
      "  0%|                                              | 0/11 [00:00<?, ?it/s]\u001b[A\n",
      "  9%|███▍                                  | 1/11 [00:01<00:10,  1.01s/it]\u001b[A\n",
      " 18%|██████▉                               | 2/11 [00:02<00:09,  1.02s/it]\u001b[A\n",
      " 27%|██████████▎                           | 3/11 [00:02<00:07,  1.01it/s]\u001b[A\n",
      " 36%|█████████████▊                        | 4/11 [00:03<00:06,  1.03it/s]\u001b[A\n",
      " 45%|█████████████████▎                    | 5/11 [00:04<00:05,  1.04it/s]\u001b[A\n",
      " 55%|████████████████████▋                 | 6/11 [00:05<00:04,  1.05it/s]\u001b[A\n",
      " 64%|████████████████████████▏             | 7/11 [00:06<00:03,  1.05it/s]\u001b[A\n",
      " 73%|███████████████████████████▋          | 8/11 [00:07<00:02,  1.06it/s]\u001b[A\n",
      " 82%|███████████████████████████████       | 9/11 [00:08<00:01,  1.06it/s]\u001b[A\n",
      " 91%|█████████████████████████████████▋   | 10/11 [00:09<00:00,  1.07it/s]\u001b[A\n",
      "100%|█████████████████████████████████████| 11/11 [00:10<00:00,  1.05it/s]\u001b[A\n"
     ]
    },
    {
     "name": "stdout",
     "output_type": "stream",
     "text": [
      "BC Output shape (1260, 11, 22)\n",
      "Spatial Disaggregation - Monthly (NCLIM ==  12 )\n",
      "SD Type - PREC\n",
      "No of timesteps  1260\n",
      "SD Input shape (1260, 52, 112) (1260, 11, 22)\n"
     ]
    },
    {
     "name": "stderr",
     "output_type": "stream",
     "text": [
      "\n",
      "  0%|                                            | 0/1260 [00:00<?, ?it/s]\u001b[A\n",
      " 17%|█████▌                          | 218/1260 [00:00<00:00, 2171.45it/s]\u001b[A\n",
      " 35%|███████████                     | 436/1260 [00:00<00:00, 2176.11it/s]\u001b[A\n",
      " 52%|████████████████▌               | 654/1260 [00:00<00:00, 2173.13it/s]\u001b[A\n",
      " 69%|██████████████████████▏         | 872/1260 [00:00<00:00, 2170.41it/s]\u001b[A\n",
      "100%|███████████████████████████████| 1260/1260 [00:00<00:00, 2170.61it/s]\u001b[A\n",
      " 51%|██████████████████▎                 | 51/100 [10:01<09:44, 11.93s/it]"
     ]
    },
    {
     "name": "stdout",
     "output_type": "stream",
     "text": [
      "SD Output shape (1260, 52, 112)\n",
      "PREC\n",
      "Bias Correction Spatially - monthly:\n",
      "Training years : 105.0 == 105.0\n",
      "Testing years : 105.0\n",
      "Bias correction fucntion : <function gamma_quantile_mapping at 0x7f0d2fb2fe50>\n",
      "BC Input shape (1260, 11, 22) (1260, 11, 22) (1260, 11, 22)\n",
      "11 22\n"
     ]
    },
    {
     "name": "stderr",
     "output_type": "stream",
     "text": [
      "\n",
      "  0%|                                              | 0/11 [00:00<?, ?it/s]\u001b[A\n",
      "  9%|███▍                                  | 1/11 [00:00<00:09,  1.06it/s]\u001b[A\n",
      " 18%|██████▉                               | 2/11 [00:01<00:08,  1.07it/s]\u001b[A\n",
      " 27%|██████████▎                           | 3/11 [00:02<00:07,  1.07it/s]\u001b[A\n",
      " 36%|█████████████▊                        | 4/11 [00:03<00:06,  1.07it/s]\u001b[A\n",
      " 45%|█████████████████▎                    | 5/11 [00:04<00:05,  1.07it/s]\u001b[A\n",
      " 55%|████████████████████▋                 | 6/11 [00:05<00:04,  1.07it/s]\u001b[A\n",
      " 64%|████████████████████████▏             | 7/11 [00:06<00:03,  1.07it/s]\u001b[A\n",
      " 73%|███████████████████████████▋          | 8/11 [00:07<00:02,  1.08it/s]\u001b[A\n",
      " 82%|███████████████████████████████       | 9/11 [00:08<00:01,  1.08it/s]\u001b[A\n",
      " 91%|█████████████████████████████████▋   | 10/11 [00:09<00:00,  1.08it/s]\u001b[A\n",
      "100%|█████████████████████████████████████| 11/11 [00:10<00:00,  1.07it/s]\u001b[A\n"
     ]
    },
    {
     "name": "stdout",
     "output_type": "stream",
     "text": [
      "BC Output shape (1260, 11, 22)\n",
      "Spatial Disaggregation - Monthly (NCLIM ==  12 )\n",
      "SD Type - PREC\n",
      "No of timesteps  1260\n",
      "SD Input shape (1260, 52, 112) (1260, 11, 22)\n"
     ]
    },
    {
     "name": "stderr",
     "output_type": "stream",
     "text": [
      "\n",
      "  0%|                                            | 0/1260 [00:00<?, ?it/s]\u001b[A\n",
      " 17%|█████▌                          | 220/1260 [00:00<00:00, 2199.55it/s]\u001b[A\n",
      " 35%|███████████▏                    | 440/1260 [00:00<00:00, 2186.69it/s]\u001b[A\n",
      " 52%|████████████████▋               | 659/1260 [00:00<00:00, 2184.88it/s]\u001b[A\n",
      " 70%|██████████████████████▎         | 879/1260 [00:00<00:00, 2189.54it/s]\u001b[A\n",
      "100%|███████████████████████████████| 1260/1260 [00:00<00:00, 2150.75it/s]\u001b[A\n",
      " 52%|██████████████████▋                 | 52/100 [10:13<09:27, 11.83s/it]"
     ]
    },
    {
     "name": "stdout",
     "output_type": "stream",
     "text": [
      "SD Output shape (1260, 52, 112)\n",
      "PREC\n",
      "Bias Correction Spatially - monthly:\n",
      "Training years : 105.0 == 105.0\n",
      "Testing years : 105.0\n",
      "Bias correction fucntion : <function gamma_quantile_mapping at 0x7f0d2fb2fe50>\n",
      "BC Input shape (1260, 11, 22) (1260, 11, 22) (1260, 11, 22)\n",
      "11 22\n"
     ]
    },
    {
     "name": "stderr",
     "output_type": "stream",
     "text": [
      "\n",
      "  0%|                                              | 0/11 [00:00<?, ?it/s]\u001b[A\n",
      "  9%|███▍                                  | 1/11 [00:00<00:09,  1.07it/s]\u001b[A\n",
      " 18%|██████▉                               | 2/11 [00:01<00:08,  1.05it/s]\u001b[A\n",
      " 27%|██████████▎                           | 3/11 [00:02<00:07,  1.06it/s]\u001b[A\n",
      " 36%|█████████████▊                        | 4/11 [00:03<00:06,  1.07it/s]\u001b[A\n",
      " 45%|█████████████████▎                    | 5/11 [00:04<00:05,  1.07it/s]\u001b[A\n",
      " 55%|████████████████████▋                 | 6/11 [00:05<00:04,  1.07it/s]\u001b[A\n",
      " 64%|████████████████████████▏             | 7/11 [00:06<00:03,  1.07it/s]\u001b[A\n",
      " 73%|███████████████████████████▋          | 8/11 [00:07<00:02,  1.06it/s]\u001b[A\n",
      " 82%|███████████████████████████████       | 9/11 [00:08<00:01,  1.06it/s]\u001b[A\n",
      " 91%|█████████████████████████████████▋   | 10/11 [00:09<00:00,  1.06it/s]\u001b[A\n",
      "100%|█████████████████████████████████████| 11/11 [00:10<00:00,  1.06it/s]\u001b[A\n"
     ]
    },
    {
     "name": "stdout",
     "output_type": "stream",
     "text": [
      "BC Output shape (1260, 11, 22)\n",
      "Spatial Disaggregation - Monthly (NCLIM ==  12 )\n",
      "SD Type - PREC\n",
      "No of timesteps  1260\n",
      "SD Input shape (1260, 52, 112) (1260, 11, 22)\n"
     ]
    },
    {
     "name": "stderr",
     "output_type": "stream",
     "text": [
      "\n",
      "  0%|                                            | 0/1260 [00:00<?, ?it/s]\u001b[A\n",
      " 17%|█████▍                          | 213/1260 [00:00<00:00, 2124.72it/s]\u001b[A\n",
      " 34%|██████████▉                     | 429/1260 [00:00<00:00, 2140.89it/s]\u001b[A\n",
      " 51%|████████████████▍               | 648/1260 [00:00<00:00, 2161.87it/s]\u001b[A\n",
      " 69%|██████████████████████          | 867/1260 [00:00<00:00, 2169.31it/s]\u001b[A\n",
      "100%|███████████████████████████████| 1260/1260 [00:00<00:00, 2128.13it/s]\u001b[A\n",
      " 53%|███████████████████                 | 53/100 [10:24<09:13, 11.78s/it]"
     ]
    },
    {
     "name": "stdout",
     "output_type": "stream",
     "text": [
      "SD Output shape (1260, 52, 112)\n",
      "PREC\n",
      "Bias Correction Spatially - monthly:\n",
      "Training years : 105.0 == 105.0\n",
      "Testing years : 105.0\n",
      "Bias correction fucntion : <function gamma_quantile_mapping at 0x7f0d2fb2fe50>\n",
      "BC Input shape (1260, 11, 22) (1260, 11, 22) (1260, 11, 22)\n",
      "11 22\n"
     ]
    },
    {
     "name": "stderr",
     "output_type": "stream",
     "text": [
      "\n",
      "  0%|                                              | 0/11 [00:00<?, ?it/s]\u001b[A\n",
      "  9%|███▍                                  | 1/11 [00:00<00:09,  1.05it/s]\u001b[A\n",
      " 18%|██████▉                               | 2/11 [00:01<00:08,  1.04it/s]\u001b[A\n",
      " 27%|██████████▎                           | 3/11 [00:02<00:07,  1.05it/s]\u001b[A\n",
      " 36%|█████████████▊                        | 4/11 [00:03<00:06,  1.05it/s]\u001b[A\n",
      " 45%|█████████████████▎                    | 5/11 [00:04<00:05,  1.07it/s]\u001b[A\n",
      " 55%|████████████████████▋                 | 6/11 [00:05<00:04,  1.07it/s]\u001b[A\n",
      " 64%|████████████████████████▏             | 7/11 [00:06<00:03,  1.07it/s]\u001b[A\n",
      " 73%|███████████████████████████▋          | 8/11 [00:07<00:02,  1.07it/s]\u001b[A\n",
      " 82%|███████████████████████████████       | 9/11 [00:08<00:01,  1.08it/s]\u001b[A\n",
      " 91%|█████████████████████████████████▋   | 10/11 [00:09<00:00,  1.07it/s]\u001b[A\n",
      "100%|█████████████████████████████████████| 11/11 [00:10<00:00,  1.07it/s]\u001b[A\n"
     ]
    },
    {
     "name": "stdout",
     "output_type": "stream",
     "text": [
      "BC Output shape (1260, 11, 22)\n",
      "Spatial Disaggregation - Monthly (NCLIM ==  12 )\n",
      "SD Type - PREC\n",
      "No of timesteps  1260\n",
      "SD Input shape (1260, 52, 112) (1260, 11, 22)\n"
     ]
    },
    {
     "name": "stderr",
     "output_type": "stream",
     "text": [
      "\n",
      "  0%|                                            | 0/1260 [00:00<?, ?it/s]\u001b[A\n",
      " 18%|█████▌                          | 221/1260 [00:00<00:00, 2209.25it/s]\u001b[A\n",
      " 35%|███████████▏                    | 442/1260 [00:00<00:00, 2186.72it/s]\u001b[A\n",
      " 53%|████████████████▊               | 662/1260 [00:00<00:00, 2190.48it/s]\u001b[A\n",
      " 70%|██████████████████████▍         | 882/1260 [00:00<00:00, 2165.90it/s]\u001b[A\n",
      "100%|███████████████████████████████| 1260/1260 [00:00<00:00, 2171.99it/s]\u001b[A\n",
      " 54%|███████████████████▍                | 54/100 [10:36<09:00, 11.74s/it]"
     ]
    },
    {
     "name": "stdout",
     "output_type": "stream",
     "text": [
      "SD Output shape (1260, 52, 112)\n",
      "PREC\n",
      "Bias Correction Spatially - monthly:\n",
      "Training years : 105.0 == 105.0\n",
      "Testing years : 105.0\n",
      "Bias correction fucntion : <function gamma_quantile_mapping at 0x7f0d2fb2fe50>\n",
      "BC Input shape (1260, 11, 22) (1260, 11, 22) (1260, 11, 22)\n",
      "11 22\n"
     ]
    },
    {
     "name": "stderr",
     "output_type": "stream",
     "text": [
      "\n",
      "  0%|                                              | 0/11 [00:00<?, ?it/s]\u001b[A\n",
      "  9%|███▍                                  | 1/11 [00:00<00:09,  1.05it/s]\u001b[A\n",
      " 18%|██████▉                               | 2/11 [00:01<00:08,  1.05it/s]\u001b[A\n",
      " 27%|██████████▎                           | 3/11 [00:02<00:07,  1.03it/s]\u001b[A\n",
      " 36%|█████████████▊                        | 4/11 [00:03<00:06,  1.04it/s]\u001b[A\n",
      " 45%|█████████████████▎                    | 5/11 [00:04<00:05,  1.04it/s]\u001b[A\n",
      " 55%|████████████████████▋                 | 6/11 [00:05<00:04,  1.04it/s]\u001b[A\n",
      " 64%|████████████████████████▏             | 7/11 [00:06<00:03,  1.03it/s]\u001b[A\n",
      " 73%|███████████████████████████▋          | 8/11 [00:07<00:02,  1.03it/s]\u001b[A\n",
      " 82%|███████████████████████████████       | 9/11 [00:08<00:01,  1.03it/s]\u001b[A\n",
      " 91%|█████████████████████████████████▋   | 10/11 [00:09<00:00,  1.02it/s]\u001b[A\n",
      "100%|█████████████████████████████████████| 11/11 [00:10<00:00,  1.03it/s]\u001b[A\n"
     ]
    },
    {
     "name": "stdout",
     "output_type": "stream",
     "text": [
      "BC Output shape (1260, 11, 22)\n",
      "Spatial Disaggregation - Monthly (NCLIM ==  12 )\n",
      "SD Type - PREC\n",
      "No of timesteps  1260\n",
      "SD Input shape (1260, 52, 112) (1260, 11, 22)\n"
     ]
    },
    {
     "name": "stderr",
     "output_type": "stream",
     "text": [
      "\n",
      "  0%|                                            | 0/1260 [00:00<?, ?it/s]\u001b[A\n",
      " 17%|█████▌                          | 218/1260 [00:00<00:00, 2179.23it/s]\u001b[A\n",
      " 35%|███████████                     | 436/1260 [00:00<00:00, 2172.13it/s]\u001b[A\n",
      " 52%|████████████████▋               | 655/1260 [00:00<00:00, 2176.25it/s]\u001b[A\n",
      " 69%|██████████████████████▏         | 874/1260 [00:00<00:00, 2177.59it/s]\u001b[A\n",
      "100%|███████████████████████████████| 1260/1260 [00:00<00:00, 2166.24it/s]\u001b[A\n",
      " 55%|███████████████████▊                | 55/100 [10:48<08:51, 11.81s/it]"
     ]
    },
    {
     "name": "stdout",
     "output_type": "stream",
     "text": [
      "SD Output shape (1260, 52, 112)\n",
      "PREC\n",
      "Bias Correction Spatially - monthly:\n",
      "Training years : 105.0 == 105.0\n",
      "Testing years : 105.0\n",
      "Bias correction fucntion : <function gamma_quantile_mapping at 0x7f0d2fb2fe50>\n",
      "BC Input shape (1260, 11, 22) (1260, 11, 22) (1260, 11, 22)\n",
      "11 22\n"
     ]
    },
    {
     "name": "stderr",
     "output_type": "stream",
     "text": [
      "\n",
      "  0%|                                              | 0/11 [00:00<?, ?it/s]\u001b[A\n",
      "  9%|███▍                                  | 1/11 [00:00<00:09,  1.06it/s]\u001b[A\n",
      " 18%|██████▉                               | 2/11 [00:01<00:08,  1.06it/s]\u001b[A\n",
      " 27%|██████████▎                           | 3/11 [00:02<00:07,  1.05it/s]\u001b[A\n",
      " 36%|█████████████▊                        | 4/11 [00:03<00:06,  1.05it/s]\u001b[A\n",
      " 45%|█████████████████▎                    | 5/11 [00:04<00:05,  1.07it/s]\u001b[A\n",
      " 55%|████████████████████▋                 | 6/11 [00:05<00:04,  1.07it/s]\u001b[A\n",
      " 64%|████████████████████████▏             | 7/11 [00:06<00:03,  1.08it/s]\u001b[A\n",
      " 73%|███████████████████████████▋          | 8/11 [00:07<00:02,  1.08it/s]\u001b[A\n",
      " 82%|███████████████████████████████       | 9/11 [00:08<00:01,  1.07it/s]\u001b[A\n",
      " 91%|█████████████████████████████████▋   | 10/11 [00:09<00:00,  1.06it/s]\u001b[A\n",
      "100%|█████████████████████████████████████| 11/11 [00:10<00:00,  1.07it/s]\u001b[A\n"
     ]
    },
    {
     "name": "stdout",
     "output_type": "stream",
     "text": [
      "BC Output shape (1260, 11, 22)\n",
      "Spatial Disaggregation - Monthly (NCLIM ==  12 )\n",
      "SD Type - PREC\n",
      "No of timesteps  1260\n",
      "SD Input shape (1260, 52, 112) (1260, 11, 22)\n"
     ]
    },
    {
     "name": "stderr",
     "output_type": "stream",
     "text": [
      "\n",
      "  0%|                                            | 0/1260 [00:00<?, ?it/s]\u001b[A\n",
      " 18%|█████▋                          | 224/1260 [00:00<00:00, 2238.37it/s]\u001b[A\n",
      " 36%|███████████▍                    | 448/1260 [00:00<00:00, 2213.53it/s]\u001b[A\n",
      " 53%|█████████████████               | 670/1260 [00:00<00:00, 2213.24it/s]\u001b[A\n",
      " 71%|██████████████████████▋         | 892/1260 [00:00<00:00, 2157.37it/s]\u001b[A\n",
      "100%|███████████████████████████████| 1260/1260 [00:00<00:00, 2179.67it/s]\u001b[A\n",
      " 56%|████████████████████▏               | 56/100 [11:00<08:37, 11.76s/it]"
     ]
    },
    {
     "name": "stdout",
     "output_type": "stream",
     "text": [
      "SD Output shape (1260, 52, 112)\n",
      "PREC\n",
      "Bias Correction Spatially - monthly:\n",
      "Training years : 105.0 == 105.0\n",
      "Testing years : 105.0\n",
      "Bias correction fucntion : <function gamma_quantile_mapping at 0x7f0d2fb2fe50>\n",
      "BC Input shape (1260, 11, 22) (1260, 11, 22) (1260, 11, 22)\n",
      "11 22\n"
     ]
    },
    {
     "name": "stderr",
     "output_type": "stream",
     "text": [
      "\n",
      "  0%|                                              | 0/11 [00:00<?, ?it/s]\u001b[A\n",
      "  9%|███▍                                  | 1/11 [00:00<00:09,  1.08it/s]\u001b[A\n",
      " 18%|██████▉                               | 2/11 [00:01<00:08,  1.08it/s]\u001b[A\n",
      " 27%|██████████▎                           | 3/11 [00:02<00:07,  1.06it/s]\u001b[A\n",
      " 36%|█████████████▊                        | 4/11 [00:03<00:06,  1.07it/s]\u001b[A\n",
      " 45%|█████████████████▎                    | 5/11 [00:04<00:05,  1.08it/s]\u001b[A\n",
      " 55%|████████████████████▋                 | 6/11 [00:05<00:04,  1.07it/s]\u001b[A\n",
      " 64%|████████████████████████▏             | 7/11 [00:06<00:03,  1.06it/s]\u001b[A\n",
      " 73%|███████████████████████████▋          | 8/11 [00:07<00:02,  1.05it/s]\u001b[A\n",
      " 82%|███████████████████████████████       | 9/11 [00:08<00:01,  1.05it/s]\u001b[A\n",
      " 91%|█████████████████████████████████▋   | 10/11 [00:09<00:00,  1.05it/s]\u001b[A\n",
      "100%|█████████████████████████████████████| 11/11 [00:10<00:00,  1.06it/s]\u001b[A\n"
     ]
    },
    {
     "name": "stdout",
     "output_type": "stream",
     "text": [
      "BC Output shape (1260, 11, 22)\n",
      "Spatial Disaggregation - Monthly (NCLIM ==  12 )\n",
      "SD Type - PREC\n",
      "No of timesteps  1260\n",
      "SD Input shape (1260, 52, 112) (1260, 11, 22)\n"
     ]
    },
    {
     "name": "stderr",
     "output_type": "stream",
     "text": [
      "\n",
      "  0%|                                            | 0/1260 [00:00<?, ?it/s]\u001b[A\n",
      " 17%|█████▍                          | 213/1260 [00:00<00:00, 2126.27it/s]\u001b[A\n",
      " 34%|██████████▊                     | 426/1260 [00:00<00:00, 2125.45it/s]\u001b[A\n",
      " 51%|████████████████▎               | 640/1260 [00:00<00:00, 2130.10it/s]\u001b[A\n",
      " 68%|█████████████████████▋          | 854/1260 [00:00<00:00, 2116.51it/s]\u001b[A\n",
      "100%|███████████████████████████████| 1260/1260 [00:00<00:00, 2119.59it/s]\u001b[A\n",
      " 57%|████████████████████▌               | 57/100 [11:11<08:25, 11.75s/it]"
     ]
    },
    {
     "name": "stdout",
     "output_type": "stream",
     "text": [
      "SD Output shape (1260, 52, 112)\n",
      "PREC\n",
      "Bias Correction Spatially - monthly:\n",
      "Training years : 105.0 == 105.0\n",
      "Testing years : 105.0\n",
      "Bias correction fucntion : <function gamma_quantile_mapping at 0x7f0d2fb2fe50>\n",
      "BC Input shape (1260, 11, 22) (1260, 11, 22) (1260, 11, 22)\n",
      "11 22\n"
     ]
    },
    {
     "name": "stderr",
     "output_type": "stream",
     "text": [
      "\n",
      "  0%|                                              | 0/11 [00:00<?, ?it/s]\u001b[A\n",
      "  9%|███▍                                  | 1/11 [00:00<00:09,  1.05it/s]\u001b[A\n",
      " 18%|██████▉                               | 2/11 [00:01<00:08,  1.05it/s]\u001b[A\n",
      " 27%|██████████▎                           | 3/11 [00:02<00:07,  1.05it/s]\u001b[A\n",
      " 36%|█████████████▊                        | 4/11 [00:03<00:06,  1.05it/s]\u001b[A\n",
      " 45%|█████████████████▎                    | 5/11 [00:04<00:05,  1.04it/s]\u001b[A\n",
      " 55%|████████████████████▋                 | 6/11 [00:05<00:04,  1.05it/s]\u001b[A\n",
      " 64%|████████████████████████▏             | 7/11 [00:06<00:03,  1.05it/s]\u001b[A\n",
      " 73%|███████████████████████████▋          | 8/11 [00:07<00:02,  1.05it/s]\u001b[A\n",
      " 82%|███████████████████████████████       | 9/11 [00:08<00:01,  1.05it/s]\u001b[A\n",
      " 91%|█████████████████████████████████▋   | 10/11 [00:09<00:00,  1.05it/s]\u001b[A\n",
      "100%|█████████████████████████████████████| 11/11 [00:10<00:00,  1.05it/s]\u001b[A\n"
     ]
    },
    {
     "name": "stdout",
     "output_type": "stream",
     "text": [
      "BC Output shape (1260, 11, 22)\n",
      "Spatial Disaggregation - Monthly (NCLIM ==  12 )\n",
      "SD Type - PREC\n",
      "No of timesteps  1260\n",
      "SD Input shape (1260, 52, 112) (1260, 11, 22)\n"
     ]
    },
    {
     "name": "stderr",
     "output_type": "stream",
     "text": [
      "\n",
      "  0%|                                            | 0/1260 [00:00<?, ?it/s]\u001b[A\n",
      " 17%|█████▌                          | 220/1260 [00:00<00:00, 2195.11it/s]\u001b[A\n",
      " 35%|███████████▏                    | 440/1260 [00:00<00:00, 2190.47it/s]\u001b[A\n",
      " 52%|████████████████▊               | 660/1260 [00:00<00:00, 2186.45it/s]\u001b[A\n",
      " 70%|██████████████████████▎         | 879/1260 [00:00<00:00, 2181.62it/s]\u001b[A\n",
      "100%|███████████████████████████████| 1260/1260 [00:00<00:00, 2182.13it/s]\u001b[A\n",
      " 58%|████████████████████▉               | 58/100 [11:23<08:13, 11.76s/it]"
     ]
    },
    {
     "name": "stdout",
     "output_type": "stream",
     "text": [
      "SD Output shape (1260, 52, 112)\n",
      "PREC\n",
      "Bias Correction Spatially - monthly:\n",
      "Training years : 105.0 == 105.0\n",
      "Testing years : 105.0\n",
      "Bias correction fucntion : <function gamma_quantile_mapping at 0x7f0d2fb2fe50>\n",
      "BC Input shape (1260, 11, 22) (1260, 11, 22) (1260, 11, 22)\n",
      "11 22\n"
     ]
    },
    {
     "name": "stderr",
     "output_type": "stream",
     "text": [
      "\n",
      "  0%|                                              | 0/11 [00:00<?, ?it/s]\u001b[A\n",
      "  9%|███▍                                  | 1/11 [00:00<00:09,  1.10it/s]\u001b[A\n",
      " 18%|██████▉                               | 2/11 [00:01<00:08,  1.04it/s]\u001b[A\n",
      " 27%|██████████▎                           | 3/11 [00:02<00:07,  1.05it/s]\u001b[A\n",
      " 36%|█████████████▊                        | 4/11 [00:03<00:06,  1.05it/s]\u001b[A\n",
      " 45%|█████████████████▎                    | 5/11 [00:04<00:05,  1.06it/s]\u001b[A\n",
      " 55%|████████████████████▋                 | 6/11 [00:05<00:04,  1.07it/s]\u001b[A\n",
      " 64%|████████████████████████▏             | 7/11 [00:06<00:03,  1.08it/s]\u001b[A\n",
      " 73%|███████████████████████████▋          | 8/11 [00:07<00:02,  1.09it/s]\u001b[A\n",
      " 82%|███████████████████████████████       | 9/11 [00:08<00:01,  1.09it/s]\u001b[A\n",
      " 91%|█████████████████████████████████▋   | 10/11 [00:09<00:00,  1.09it/s]\u001b[A\n",
      "100%|█████████████████████████████████████| 11/11 [00:10<00:00,  1.07it/s]\u001b[A\n"
     ]
    },
    {
     "name": "stdout",
     "output_type": "stream",
     "text": [
      "BC Output shape (1260, 11, 22)\n",
      "Spatial Disaggregation - Monthly (NCLIM ==  12 )\n",
      "SD Type - PREC\n",
      "No of timesteps  1260\n",
      "SD Input shape (1260, 52, 112) (1260, 11, 22)\n"
     ]
    },
    {
     "name": "stderr",
     "output_type": "stream",
     "text": [
      "\n",
      "  0%|                                            | 0/1260 [00:00<?, ?it/s]\u001b[A\n",
      " 18%|█████▋                          | 223/1260 [00:00<00:00, 2225.79it/s]\u001b[A\n",
      " 35%|███████████▎                    | 446/1260 [00:00<00:00, 2212.55it/s]\u001b[A\n",
      " 53%|████████████████▉               | 668/1260 [00:00<00:00, 2198.44it/s]\u001b[A\n",
      " 70%|██████████████████████▌         | 888/1260 [00:00<00:00, 2194.04it/s]\u001b[A\n",
      "100%|███████████████████████████████| 1260/1260 [00:00<00:00, 2196.74it/s]\u001b[A\n",
      " 59%|█████████████████████▏              | 59/100 [11:35<07:59, 11.70s/it]"
     ]
    },
    {
     "name": "stdout",
     "output_type": "stream",
     "text": [
      "SD Output shape (1260, 52, 112)\n",
      "PREC\n",
      "Bias Correction Spatially - monthly:\n",
      "Training years : 105.0 == 105.0\n",
      "Testing years : 105.0\n",
      "Bias correction fucntion : <function gamma_quantile_mapping at 0x7f0d2fb2fe50>\n",
      "BC Input shape (1260, 11, 22) (1260, 11, 22) (1260, 11, 22)\n",
      "11 22\n"
     ]
    },
    {
     "name": "stderr",
     "output_type": "stream",
     "text": [
      "\n",
      "  0%|                                              | 0/11 [00:00<?, ?it/s]\u001b[A\n",
      "  9%|███▍                                  | 1/11 [00:00<00:09,  1.07it/s]\u001b[A\n",
      " 18%|██████▉                               | 2/11 [00:01<00:08,  1.04it/s]\u001b[A\n",
      " 27%|██████████▎                           | 3/11 [00:02<00:07,  1.03it/s]\u001b[A\n",
      " 36%|█████████████▊                        | 4/11 [00:03<00:06,  1.03it/s]\u001b[A\n",
      " 45%|█████████████████▎                    | 5/11 [00:04<00:05,  1.03it/s]\u001b[A\n",
      " 55%|████████████████████▋                 | 6/11 [00:05<00:04,  1.03it/s]\u001b[A\n",
      " 64%|████████████████████████▏             | 7/11 [00:06<00:03,  1.02it/s]\u001b[A\n",
      " 73%|███████████████████████████▋          | 8/11 [00:07<00:02,  1.02it/s]\u001b[A\n",
      " 82%|███████████████████████████████       | 9/11 [00:08<00:01,  1.02it/s]\u001b[A\n",
      " 91%|█████████████████████████████████▋   | 10/11 [00:09<00:00,  1.02it/s]\u001b[A\n",
      "100%|█████████████████████████████████████| 11/11 [00:10<00:00,  1.02it/s]\u001b[A\n"
     ]
    },
    {
     "name": "stdout",
     "output_type": "stream",
     "text": [
      "BC Output shape (1260, 11, 22)\n",
      "Spatial Disaggregation - Monthly (NCLIM ==  12 )\n",
      "SD Type - PREC\n",
      "No of timesteps  1260\n",
      "SD Input shape (1260, 52, 112) (1260, 11, 22)\n"
     ]
    },
    {
     "name": "stderr",
     "output_type": "stream",
     "text": [
      "\n",
      "  0%|                                            | 0/1260 [00:00<?, ?it/s]\u001b[A\n",
      " 17%|█████▌                          | 219/1260 [00:00<00:00, 2186.00it/s]\u001b[A\n",
      " 35%|███████████                     | 438/1260 [00:00<00:00, 2108.36it/s]\u001b[A\n",
      " 52%|████████████████▋               | 655/1260 [00:00<00:00, 2133.73it/s]\u001b[A\n",
      " 69%|██████████████████████▏         | 874/1260 [00:00<00:00, 2153.82it/s]\u001b[A\n",
      "100%|███████████████████████████████| 1260/1260 [00:00<00:00, 2154.03it/s]\u001b[A\n",
      " 60%|█████████████████████▌              | 60/100 [11:47<07:52, 11.81s/it]"
     ]
    },
    {
     "name": "stdout",
     "output_type": "stream",
     "text": [
      "SD Output shape (1260, 52, 112)\n",
      "PREC\n",
      "Bias Correction Spatially - monthly:\n",
      "Training years : 105.0 == 105.0\n",
      "Testing years : 105.0\n",
      "Bias correction fucntion : <function gamma_quantile_mapping at 0x7f0d2fb2fe50>\n",
      "BC Input shape (1260, 11, 22) (1260, 11, 22) (1260, 11, 22)\n",
      "11 22\n"
     ]
    },
    {
     "name": "stderr",
     "output_type": "stream",
     "text": [
      "\n",
      "  0%|                                              | 0/11 [00:00<?, ?it/s]\u001b[A\n",
      "  9%|███▍                                  | 1/11 [00:00<00:09,  1.04it/s]\u001b[A\n",
      " 18%|██████▉                               | 2/11 [00:01<00:08,  1.04it/s]\u001b[A\n",
      " 27%|██████████▎                           | 3/11 [00:02<00:07,  1.05it/s]\u001b[A\n",
      " 36%|█████████████▊                        | 4/11 [00:03<00:06,  1.05it/s]\u001b[A\n",
      " 45%|█████████████████▎                    | 5/11 [00:04<00:05,  1.05it/s]\u001b[A\n",
      " 55%|████████████████████▋                 | 6/11 [00:05<00:04,  1.03it/s]\u001b[A\n",
      " 64%|████████████████████████▏             | 7/11 [00:06<00:03,  1.04it/s]\u001b[A\n",
      " 73%|███████████████████████████▋          | 8/11 [00:07<00:02,  1.05it/s]\u001b[A\n",
      " 82%|███████████████████████████████       | 9/11 [00:08<00:01,  1.06it/s]\u001b[A\n",
      " 91%|█████████████████████████████████▋   | 10/11 [00:09<00:00,  1.05it/s]\u001b[A\n",
      "100%|█████████████████████████████████████| 11/11 [00:10<00:00,  1.05it/s]\u001b[A\n"
     ]
    },
    {
     "name": "stdout",
     "output_type": "stream",
     "text": [
      "BC Output shape (1260, 11, 22)\n",
      "Spatial Disaggregation - Monthly (NCLIM ==  12 )\n",
      "SD Type - PREC\n",
      "No of timesteps  1260\n",
      "SD Input shape (1260, 52, 112) (1260, 11, 22)\n"
     ]
    },
    {
     "name": "stderr",
     "output_type": "stream",
     "text": [
      "\n",
      "  0%|                                            | 0/1260 [00:00<?, ?it/s]\u001b[A\n",
      " 18%|█████▋                          | 224/1260 [00:00<00:00, 2236.87it/s]\u001b[A\n",
      " 36%|███████████▍                    | 448/1260 [00:00<00:00, 2190.17it/s]\u001b[A\n",
      " 53%|████████████████▉               | 668/1260 [00:00<00:00, 2167.13it/s]\u001b[A\n",
      " 70%|██████████████████████▌         | 886/1260 [00:00<00:00, 2169.26it/s]\u001b[A\n",
      "100%|███████████████████████████████| 1260/1260 [00:00<00:00, 2148.50it/s]\u001b[A\n",
      " 61%|█████████████████████▉              | 61/100 [11:59<07:40, 11.82s/it]"
     ]
    },
    {
     "name": "stdout",
     "output_type": "stream",
     "text": [
      "SD Output shape (1260, 52, 112)\n",
      "PREC\n",
      "Bias Correction Spatially - monthly:\n",
      "Training years : 105.0 == 105.0\n",
      "Testing years : 105.0\n",
      "Bias correction fucntion : <function gamma_quantile_mapping at 0x7f0d2fb2fe50>\n",
      "BC Input shape (1260, 11, 22) (1260, 11, 22) (1260, 11, 22)\n",
      "11 22\n"
     ]
    },
    {
     "name": "stderr",
     "output_type": "stream",
     "text": [
      "\n",
      "  0%|                                              | 0/11 [00:00<?, ?it/s]\u001b[A\n",
      "  9%|███▍                                  | 1/11 [00:00<00:09,  1.08it/s]\u001b[A\n",
      " 18%|██████▉                               | 2/11 [00:01<00:08,  1.06it/s]\u001b[A\n",
      " 27%|██████████▎                           | 3/11 [00:02<00:07,  1.05it/s]\u001b[A\n",
      " 36%|█████████████▊                        | 4/11 [00:03<00:06,  1.04it/s]\u001b[A\n",
      " 45%|█████████████████▎                    | 5/11 [00:04<00:05,  1.05it/s]\u001b[A\n",
      " 55%|████████████████████▋                 | 6/11 [00:05<00:04,  1.05it/s]\u001b[A\n",
      " 64%|████████████████████████▏             | 7/11 [00:06<00:03,  1.06it/s]\u001b[A\n",
      " 73%|███████████████████████████▋          | 8/11 [00:07<00:02,  1.07it/s]\u001b[A\n",
      " 82%|███████████████████████████████       | 9/11 [00:08<00:01,  1.07it/s]\u001b[A\n",
      " 91%|█████████████████████████████████▋   | 10/11 [00:09<00:00,  1.07it/s]\u001b[A\n",
      "100%|█████████████████████████████████████| 11/11 [00:10<00:00,  1.06it/s]\u001b[A\n"
     ]
    },
    {
     "name": "stdout",
     "output_type": "stream",
     "text": [
      "BC Output shape (1260, 11, 22)\n",
      "Spatial Disaggregation - Monthly (NCLIM ==  12 )\n",
      "SD Type - PREC\n",
      "No of timesteps  1260\n",
      "SD Input shape (1260, 52, 112) (1260, 11, 22)\n"
     ]
    },
    {
     "name": "stderr",
     "output_type": "stream",
     "text": [
      "\n",
      "  0%|                                            | 0/1260 [00:00<?, ?it/s]\u001b[A\n",
      " 18%|█████▋                          | 222/1260 [00:00<00:00, 2214.89it/s]\u001b[A\n",
      " 35%|███████████▎                    | 444/1260 [00:00<00:00, 2190.44it/s]\u001b[A\n",
      " 53%|████████████████▊               | 664/1260 [00:00<00:00, 2192.23it/s]\u001b[A\n",
      " 70%|██████████████████████▍         | 884/1260 [00:00<00:00, 2109.14it/s]\u001b[A\n",
      "100%|███████████████████████████████| 1260/1260 [00:00<00:00, 2139.95it/s]\u001b[A\n",
      " 62%|██████████████████████▎             | 62/100 [12:10<07:27, 11.77s/it]"
     ]
    },
    {
     "name": "stdout",
     "output_type": "stream",
     "text": [
      "SD Output shape (1260, 52, 112)\n",
      "PREC\n",
      "Bias Correction Spatially - monthly:\n",
      "Training years : 105.0 == 105.0\n",
      "Testing years : 105.0\n",
      "Bias correction fucntion : <function gamma_quantile_mapping at 0x7f0d2fb2fe50>\n",
      "BC Input shape (1260, 11, 22) (1260, 11, 22) (1260, 11, 22)\n",
      "11 22\n"
     ]
    },
    {
     "name": "stderr",
     "output_type": "stream",
     "text": [
      "\n",
      "  0%|                                              | 0/11 [00:00<?, ?it/s]\u001b[A\n",
      "  9%|███▍                                  | 1/11 [00:00<00:09,  1.06it/s]\u001b[A\n",
      " 18%|██████▉                               | 2/11 [00:01<00:08,  1.04it/s]\u001b[A\n",
      " 27%|██████████▎                           | 3/11 [00:02<00:07,  1.07it/s]\u001b[A\n",
      " 36%|█████████████▊                        | 4/11 [00:03<00:06,  1.06it/s]\u001b[A\n",
      " 45%|█████████████████▎                    | 5/11 [00:04<00:05,  1.07it/s]\u001b[A\n",
      " 55%|████████████████████▋                 | 6/11 [00:05<00:04,  1.07it/s]\u001b[A\n",
      " 64%|████████████████████████▏             | 7/11 [00:06<00:03,  1.06it/s]\u001b[A\n",
      " 73%|███████████████████████████▋          | 8/11 [00:07<00:02,  1.06it/s]\u001b[A\n",
      " 82%|███████████████████████████████       | 9/11 [00:08<00:01,  1.07it/s]\u001b[A\n",
      " 91%|█████████████████████████████████▋   | 10/11 [00:09<00:00,  1.06it/s]\u001b[A\n",
      "100%|█████████████████████████████████████| 11/11 [00:10<00:00,  1.06it/s]\u001b[A\n"
     ]
    },
    {
     "name": "stdout",
     "output_type": "stream",
     "text": [
      "BC Output shape (1260, 11, 22)\n",
      "Spatial Disaggregation - Monthly (NCLIM ==  12 )\n",
      "SD Type - PREC\n",
      "No of timesteps  1260\n",
      "SD Input shape (1260, 52, 112) (1260, 11, 22)\n"
     ]
    },
    {
     "name": "stderr",
     "output_type": "stream",
     "text": [
      "\n",
      "  0%|                                            | 0/1260 [00:00<?, ?it/s]\u001b[A\n",
      " 17%|█████▍                          | 214/1260 [00:00<00:00, 2133.30it/s]\u001b[A\n",
      " 34%|██████████▊                     | 428/1260 [00:00<00:00, 2103.64it/s]\u001b[A\n",
      " 51%|████████████████▎               | 641/1260 [00:00<00:00, 2109.00it/s]\u001b[A\n",
      " 68%|█████████████████████▋          | 852/1260 [00:00<00:00, 2076.58it/s]\u001b[A\n",
      "100%|███████████████████████████████| 1260/1260 [00:00<00:00, 2110.36it/s]\u001b[A\n",
      " 63%|██████████████████████▋             | 63/100 [12:22<07:15, 11.76s/it]"
     ]
    },
    {
     "name": "stdout",
     "output_type": "stream",
     "text": [
      "SD Output shape (1260, 52, 112)\n",
      "PREC\n",
      "Bias Correction Spatially - monthly:\n",
      "Training years : 105.0 == 105.0\n",
      "Testing years : 105.0\n",
      "Bias correction fucntion : <function gamma_quantile_mapping at 0x7f0d2fb2fe50>\n",
      "BC Input shape (1260, 11, 22) (1260, 11, 22) (1260, 11, 22)\n",
      "11 22\n"
     ]
    },
    {
     "name": "stderr",
     "output_type": "stream",
     "text": [
      "\n",
      "  0%|                                              | 0/11 [00:00<?, ?it/s]\u001b[A\n",
      "  9%|███▍                                  | 1/11 [00:00<00:09,  1.03it/s]\u001b[A\n",
      " 18%|██████▉                               | 2/11 [00:01<00:08,  1.03it/s]\u001b[A\n",
      " 27%|██████████▎                           | 3/11 [00:02<00:07,  1.03it/s]\u001b[A\n",
      " 36%|█████████████▊                        | 4/11 [00:03<00:06,  1.04it/s]\u001b[A\n",
      " 45%|█████████████████▎                    | 5/11 [00:04<00:05,  1.04it/s]\u001b[A\n",
      " 55%|████████████████████▋                 | 6/11 [00:05<00:04,  1.04it/s]\u001b[A\n",
      " 64%|████████████████████████▏             | 7/11 [00:06<00:03,  1.06it/s]\u001b[A\n",
      " 73%|███████████████████████████▋          | 8/11 [00:07<00:02,  1.04it/s]\u001b[A\n",
      " 82%|███████████████████████████████       | 9/11 [00:08<00:01,  1.04it/s]\u001b[A\n",
      " 91%|█████████████████████████████████▋   | 10/11 [00:09<00:00,  1.04it/s]\u001b[A\n",
      "100%|█████████████████████████████████████| 11/11 [00:10<00:00,  1.04it/s]\u001b[A\n"
     ]
    },
    {
     "name": "stdout",
     "output_type": "stream",
     "text": [
      "BC Output shape (1260, 11, 22)\n",
      "Spatial Disaggregation - Monthly (NCLIM ==  12 )\n",
      "SD Type - PREC\n",
      "No of timesteps  1260\n",
      "SD Input shape (1260, 52, 112) (1260, 11, 22)\n"
     ]
    },
    {
     "name": "stderr",
     "output_type": "stream",
     "text": [
      "\n",
      "  0%|                                            | 0/1260 [00:00<?, ?it/s]\u001b[A\n",
      " 18%|█████▌                          | 221/1260 [00:00<00:00, 2206.48it/s]\u001b[A\n",
      " 35%|███████████▏                    | 442/1260 [00:00<00:00, 2186.51it/s]\u001b[A\n",
      " 52%|████████████████▊               | 661/1260 [00:00<00:00, 2171.30it/s]\u001b[A\n",
      " 70%|██████████████████████▎         | 879/1260 [00:00<00:00, 2168.35it/s]\u001b[A\n",
      "100%|███████████████████████████████| 1260/1260 [00:00<00:00, 2170.64it/s]\u001b[A\n",
      " 64%|███████████████████████             | 64/100 [12:34<07:04, 11.80s/it]"
     ]
    },
    {
     "name": "stdout",
     "output_type": "stream",
     "text": [
      "SD Output shape (1260, 52, 112)\n",
      "PREC\n",
      "Bias Correction Spatially - monthly:\n",
      "Training years : 105.0 == 105.0\n",
      "Testing years : 105.0\n",
      "Bias correction fucntion : <function gamma_quantile_mapping at 0x7f0d2fb2fe50>\n",
      "BC Input shape (1260, 11, 22) (1260, 11, 22) (1260, 11, 22)\n",
      "11 22\n"
     ]
    },
    {
     "name": "stderr",
     "output_type": "stream",
     "text": [
      "\n",
      "  0%|                                              | 0/11 [00:00<?, ?it/s]\u001b[A\n",
      "  9%|███▍                                  | 1/11 [00:00<00:09,  1.07it/s]\u001b[A\n",
      " 18%|██████▉                               | 2/11 [00:01<00:08,  1.06it/s]\u001b[A\n",
      " 27%|██████████▎                           | 3/11 [00:02<00:07,  1.04it/s]\u001b[A\n",
      " 36%|█████████████▊                        | 4/11 [00:03<00:06,  1.05it/s]\u001b[A\n",
      " 45%|█████████████████▎                    | 5/11 [00:04<00:05,  1.06it/s]\u001b[A\n",
      " 55%|████████████████████▋                 | 6/11 [00:05<00:04,  1.07it/s]\u001b[A\n",
      " 64%|████████████████████████▏             | 7/11 [00:06<00:03,  1.05it/s]\u001b[A\n",
      " 73%|███████████████████████████▋          | 8/11 [00:07<00:02,  1.06it/s]\u001b[A\n",
      " 82%|███████████████████████████████       | 9/11 [00:08<00:01,  1.06it/s]\u001b[A\n",
      " 91%|█████████████████████████████████▋   | 10/11 [00:09<00:00,  1.07it/s]\u001b[A\n",
      "100%|█████████████████████████████████████| 11/11 [00:10<00:00,  1.06it/s]\u001b[A\n"
     ]
    },
    {
     "name": "stdout",
     "output_type": "stream",
     "text": [
      "BC Output shape (1260, 11, 22)\n",
      "Spatial Disaggregation - Monthly (NCLIM ==  12 )\n",
      "SD Type - PREC\n",
      "No of timesteps  1260\n",
      "SD Input shape (1260, 52, 112) (1260, 11, 22)\n"
     ]
    },
    {
     "name": "stderr",
     "output_type": "stream",
     "text": [
      "\n",
      "  0%|                                            | 0/1260 [00:00<?, ?it/s]\u001b[A\n",
      " 17%|█████▌                          | 217/1260 [00:00<00:00, 2168.28it/s]\u001b[A\n",
      " 34%|███████████                     | 434/1260 [00:00<00:00, 2155.42it/s]\u001b[A\n",
      " 52%|████████████████▌               | 650/1260 [00:00<00:00, 2150.40it/s]\u001b[A\n",
      " 69%|█████████████████████▉          | 866/1260 [00:00<00:00, 2151.99it/s]\u001b[A\n",
      "100%|███████████████████████████████| 1260/1260 [00:00<00:00, 2154.06it/s]\u001b[A\n",
      " 65%|███████████████████████▍            | 65/100 [12:46<06:51, 11.76s/it]"
     ]
    },
    {
     "name": "stdout",
     "output_type": "stream",
     "text": [
      "SD Output shape (1260, 52, 112)\n",
      "PREC\n",
      "Bias Correction Spatially - monthly:\n",
      "Training years : 105.0 == 105.0\n",
      "Testing years : 105.0\n",
      "Bias correction fucntion : <function gamma_quantile_mapping at 0x7f0d2fb2fe50>\n",
      "BC Input shape (1260, 11, 22) (1260, 11, 22) (1260, 11, 22)\n",
      "11 22\n"
     ]
    },
    {
     "name": "stderr",
     "output_type": "stream",
     "text": [
      "\n",
      "  0%|                                              | 0/11 [00:00<?, ?it/s]\u001b[A\n",
      "  9%|███▍                                  | 1/11 [00:00<00:09,  1.07it/s]\u001b[A\n",
      " 18%|██████▉                               | 2/11 [00:01<00:08,  1.07it/s]\u001b[A\n",
      " 27%|██████████▎                           | 3/11 [00:02<00:07,  1.07it/s]\u001b[A\n",
      " 36%|█████████████▊                        | 4/11 [00:03<00:06,  1.06it/s]\u001b[A\n",
      " 45%|█████████████████▎                    | 5/11 [00:04<00:05,  1.05it/s]\u001b[A\n",
      " 55%|████████████████████▋                 | 6/11 [00:05<00:04,  1.04it/s]\u001b[A\n",
      " 64%|████████████████████████▏             | 7/11 [00:06<00:03,  1.05it/s]\u001b[A\n",
      " 73%|███████████████████████████▋          | 8/11 [00:07<00:02,  1.06it/s]\u001b[A\n",
      " 82%|███████████████████████████████       | 9/11 [00:08<00:01,  1.06it/s]\u001b[A\n",
      " 91%|█████████████████████████████████▋   | 10/11 [00:09<00:00,  1.07it/s]\u001b[A\n",
      "100%|█████████████████████████████████████| 11/11 [00:10<00:00,  1.07it/s]\u001b[A\n"
     ]
    },
    {
     "name": "stdout",
     "output_type": "stream",
     "text": [
      "BC Output shape (1260, 11, 22)\n",
      "Spatial Disaggregation - Monthly (NCLIM ==  12 )\n",
      "SD Type - PREC\n",
      "No of timesteps  1260\n",
      "SD Input shape (1260, 52, 112) (1260, 11, 22)\n"
     ]
    },
    {
     "name": "stderr",
     "output_type": "stream",
     "text": [
      "\n",
      "  0%|                                            | 0/1260 [00:00<?, ?it/s]\u001b[A\n",
      " 17%|█████▍                          | 215/1260 [00:00<00:00, 2142.61it/s]\u001b[A\n",
      " 35%|███████████                     | 435/1260 [00:00<00:00, 2175.00it/s]\u001b[A\n",
      " 52%|████████████████▋               | 656/1260 [00:00<00:00, 2187.91it/s]\u001b[A\n",
      " 69%|██████████████████████▏         | 875/1260 [00:00<00:00, 2148.71it/s]\u001b[A\n",
      "100%|███████████████████████████████| 1260/1260 [00:00<00:00, 2165.82it/s]\u001b[A\n",
      " 66%|███████████████████████▊            | 66/100 [12:57<06:38, 11.73s/it]"
     ]
    },
    {
     "name": "stdout",
     "output_type": "stream",
     "text": [
      "SD Output shape (1260, 52, 112)\n",
      "PREC\n",
      "Bias Correction Spatially - monthly:\n",
      "Training years : 105.0 == 105.0\n",
      "Testing years : 105.0\n",
      "Bias correction fucntion : <function gamma_quantile_mapping at 0x7f0d2fb2fe50>\n",
      "BC Input shape (1260, 11, 22) (1260, 11, 22) (1260, 11, 22)\n",
      "11 22\n"
     ]
    },
    {
     "name": "stderr",
     "output_type": "stream",
     "text": [
      "\n",
      "  0%|                                              | 0/11 [00:00<?, ?it/s]\u001b[A\n",
      "  9%|███▍                                  | 1/11 [00:00<00:09,  1.04it/s]\u001b[A\n",
      " 18%|██████▉                               | 2/11 [00:01<00:08,  1.04it/s]\u001b[A\n",
      " 27%|██████████▎                           | 3/11 [00:02<00:07,  1.03it/s]\u001b[A\n",
      " 36%|█████████████▊                        | 4/11 [00:03<00:06,  1.03it/s]\u001b[A\n",
      " 45%|█████████████████▎                    | 5/11 [00:04<00:05,  1.03it/s]\u001b[A\n",
      " 55%|████████████████████▋                 | 6/11 [00:05<00:04,  1.05it/s]\u001b[A\n",
      " 64%|████████████████████████▏             | 7/11 [00:06<00:03,  1.04it/s]\u001b[A\n",
      " 73%|███████████████████████████▋          | 8/11 [00:07<00:02,  1.04it/s]\u001b[A\n",
      " 82%|███████████████████████████████       | 9/11 [00:08<00:01,  1.05it/s]\u001b[A\n",
      " 91%|█████████████████████████████████▋   | 10/11 [00:09<00:00,  1.05it/s]\u001b[A\n",
      "100%|█████████████████████████████████████| 11/11 [00:10<00:00,  1.04it/s]\u001b[A\n"
     ]
    },
    {
     "name": "stdout",
     "output_type": "stream",
     "text": [
      "BC Output shape (1260, 11, 22)\n",
      "Spatial Disaggregation - Monthly (NCLIM ==  12 )\n",
      "SD Type - PREC\n",
      "No of timesteps  1260\n",
      "SD Input shape (1260, 52, 112) (1260, 11, 22)\n"
     ]
    },
    {
     "name": "stderr",
     "output_type": "stream",
     "text": [
      "\n",
      "  0%|                                            | 0/1260 [00:00<?, ?it/s]\u001b[A\n",
      " 17%|█████▎                          | 209/1260 [00:00<00:00, 2084.18it/s]\u001b[A\n",
      " 34%|██████████▊                     | 426/1260 [00:00<00:00, 2130.64it/s]\u001b[A\n",
      " 51%|████████████████▎               | 640/1260 [00:00<00:00, 2104.23it/s]\u001b[A\n",
      " 68%|█████████████████████▌          | 851/1260 [00:00<00:00, 2096.02it/s]\u001b[A\n",
      "100%|███████████████████████████████| 1260/1260 [00:00<00:00, 2089.99it/s]\u001b[A\n",
      " 67%|████████████████████████            | 67/100 [13:09<06:28, 11.78s/it]"
     ]
    },
    {
     "name": "stdout",
     "output_type": "stream",
     "text": [
      "SD Output shape (1260, 52, 112)\n",
      "PREC\n",
      "Bias Correction Spatially - monthly:\n",
      "Training years : 105.0 == 105.0\n",
      "Testing years : 105.0\n",
      "Bias correction fucntion : <function gamma_quantile_mapping at 0x7f0d2fb2fe50>\n",
      "BC Input shape (1260, 11, 22) (1260, 11, 22) (1260, 11, 22)\n",
      "11 22\n"
     ]
    },
    {
     "name": "stderr",
     "output_type": "stream",
     "text": [
      "\n",
      "  0%|                                              | 0/11 [00:00<?, ?it/s]\u001b[A\n",
      "  9%|███▍                                  | 1/11 [00:00<00:09,  1.07it/s]\u001b[A\n",
      " 18%|██████▉                               | 2/11 [00:01<00:08,  1.06it/s]\u001b[A\n",
      " 27%|██████████▎                           | 3/11 [00:02<00:07,  1.05it/s]\u001b[A\n",
      " 36%|█████████████▊                        | 4/11 [00:03<00:06,  1.06it/s]\u001b[A\n",
      " 45%|█████████████████▎                    | 5/11 [00:04<00:05,  1.07it/s]\u001b[A\n",
      " 55%|████████████████████▋                 | 6/11 [00:05<00:04,  1.07it/s]\u001b[A\n",
      " 64%|████████████████████████▏             | 7/11 [00:06<00:03,  1.06it/s]\u001b[A\n",
      " 73%|███████████████████████████▋          | 8/11 [00:07<00:02,  1.06it/s]\u001b[A\n",
      " 82%|███████████████████████████████       | 9/11 [00:08<00:01,  1.06it/s]\u001b[A\n",
      " 91%|█████████████████████████████████▋   | 10/11 [00:09<00:00,  1.06it/s]\u001b[A\n",
      "100%|█████████████████████████████████████| 11/11 [00:10<00:00,  1.06it/s]\u001b[A\n"
     ]
    },
    {
     "name": "stdout",
     "output_type": "stream",
     "text": [
      "BC Output shape (1260, 11, 22)\n",
      "Spatial Disaggregation - Monthly (NCLIM ==  12 )\n",
      "SD Type - PREC\n",
      "No of timesteps  1260\n",
      "SD Input shape (1260, 52, 112) (1260, 11, 22)\n"
     ]
    },
    {
     "name": "stderr",
     "output_type": "stream",
     "text": [
      "\n",
      "  0%|                                            | 0/1260 [00:00<?, ?it/s]\u001b[A\n",
      " 17%|█████▍                          | 214/1260 [00:00<00:00, 2138.94it/s]\u001b[A\n",
      " 34%|██████████▊                     | 428/1260 [00:00<00:00, 2100.70it/s]\u001b[A\n",
      " 51%|████████████████▍               | 646/1260 [00:00<00:00, 2135.22it/s]\u001b[A\n",
      " 68%|█████████████████████▊          | 861/1260 [00:00<00:00, 2140.42it/s]\u001b[A\n",
      "100%|███████████████████████████████| 1260/1260 [00:00<00:00, 2148.59it/s]\u001b[A\n",
      " 68%|████████████████████████▍           | 68/100 [13:21<06:15, 11.74s/it]"
     ]
    },
    {
     "name": "stdout",
     "output_type": "stream",
     "text": [
      "SD Output shape (1260, 52, 112)\n",
      "PREC\n",
      "Bias Correction Spatially - monthly:\n",
      "Training years : 105.0 == 105.0\n",
      "Testing years : 105.0\n",
      "Bias correction fucntion : <function gamma_quantile_mapping at 0x7f0d2fb2fe50>\n",
      "BC Input shape (1260, 11, 22) (1260, 11, 22) (1260, 11, 22)\n",
      "11 22\n"
     ]
    },
    {
     "name": "stderr",
     "output_type": "stream",
     "text": [
      "\n",
      "  0%|                                              | 0/11 [00:00<?, ?it/s]\u001b[A\n",
      "  9%|███▍                                  | 1/11 [00:00<00:09,  1.01it/s]\u001b[A\n",
      " 18%|██████▉                               | 2/11 [00:01<00:08,  1.04it/s]\u001b[A\n",
      " 27%|██████████▎                           | 3/11 [00:02<00:07,  1.05it/s]\u001b[A\n",
      " 36%|█████████████▊                        | 4/11 [00:03<00:06,  1.06it/s]\u001b[A\n",
      " 45%|█████████████████▎                    | 5/11 [00:04<00:05,  1.04it/s]\u001b[A\n",
      " 55%|████████████████████▋                 | 6/11 [00:05<00:04,  1.04it/s]\u001b[A\n",
      " 64%|████████████████████████▏             | 7/11 [00:06<00:03,  1.04it/s]\u001b[A\n",
      " 73%|███████████████████████████▋          | 8/11 [00:07<00:02,  1.05it/s]\u001b[A\n",
      " 82%|███████████████████████████████       | 9/11 [00:08<00:01,  1.05it/s]\u001b[A\n",
      " 91%|█████████████████████████████████▋   | 10/11 [00:09<00:00,  1.05it/s]\u001b[A\n",
      "100%|█████████████████████████████████████| 11/11 [00:10<00:00,  1.05it/s]\u001b[A\n"
     ]
    },
    {
     "name": "stdout",
     "output_type": "stream",
     "text": [
      "BC Output shape (1260, 11, 22)\n",
      "Spatial Disaggregation - Monthly (NCLIM ==  12 )\n",
      "SD Type - PREC\n",
      "No of timesteps  1260\n",
      "SD Input shape (1260, 52, 112) (1260, 11, 22)\n"
     ]
    },
    {
     "name": "stderr",
     "output_type": "stream",
     "text": [
      "\n",
      "  0%|                                            | 0/1260 [00:00<?, ?it/s]\u001b[A\n",
      " 18%|█████▌                          | 221/1260 [00:00<00:00, 2208.55it/s]\u001b[A\n",
      " 35%|███████████▏                    | 442/1260 [00:00<00:00, 1773.78it/s]\u001b[A\n",
      " 52%|████████████████▋               | 657/1260 [00:00<00:00, 1924.21it/s]\u001b[A\n",
      " 69%|██████████████████████▏         | 874/1260 [00:00<00:00, 2006.04it/s]\u001b[A\n",
      "100%|███████████████████████████████| 1260/1260 [00:00<00:00, 2024.41it/s]\u001b[A\n",
      " 69%|████████████████████████▊           | 69/100 [13:33<06:05, 11.78s/it]"
     ]
    },
    {
     "name": "stdout",
     "output_type": "stream",
     "text": [
      "SD Output shape (1260, 52, 112)\n",
      "PREC\n",
      "Bias Correction Spatially - monthly:\n",
      "Training years : 105.0 == 105.0\n",
      "Testing years : 105.0\n",
      "Bias correction fucntion : <function gamma_quantile_mapping at 0x7f0d2fb2fe50>\n",
      "BC Input shape (1260, 11, 22) (1260, 11, 22) (1260, 11, 22)\n",
      "11 22\n"
     ]
    },
    {
     "name": "stderr",
     "output_type": "stream",
     "text": [
      "\n",
      "  0%|                                              | 0/11 [00:00<?, ?it/s]\u001b[A\n",
      "  9%|███▍                                  | 1/11 [00:00<00:09,  1.07it/s]\u001b[A\n",
      " 18%|██████▉                               | 2/11 [00:01<00:08,  1.02it/s]\u001b[A\n",
      " 27%|██████████▎                           | 3/11 [00:02<00:07,  1.04it/s]\u001b[A\n",
      " 36%|█████████████▊                        | 4/11 [00:03<00:06,  1.05it/s]\u001b[A\n",
      " 45%|█████████████████▎                    | 5/11 [00:04<00:05,  1.05it/s]\u001b[A\n",
      " 55%|████████████████████▋                 | 6/11 [00:05<00:04,  1.05it/s]\u001b[A\n",
      " 64%|████████████████████████▏             | 7/11 [00:06<00:03,  1.05it/s]\u001b[A\n",
      " 73%|███████████████████████████▋          | 8/11 [00:07<00:02,  1.05it/s]\u001b[A\n",
      " 82%|███████████████████████████████       | 9/11 [00:08<00:01,  1.05it/s]\u001b[A\n",
      " 91%|█████████████████████████████████▋   | 10/11 [00:09<00:00,  1.05it/s]\u001b[A\n",
      "100%|█████████████████████████████████████| 11/11 [00:10<00:00,  1.05it/s]\u001b[A\n"
     ]
    },
    {
     "name": "stdout",
     "output_type": "stream",
     "text": [
      "BC Output shape (1260, 11, 22)\n",
      "Spatial Disaggregation - Monthly (NCLIM ==  12 )\n",
      "SD Type - PREC\n",
      "No of timesteps  1260\n",
      "SD Input shape (1260, 52, 112) (1260, 11, 22)\n"
     ]
    },
    {
     "name": "stderr",
     "output_type": "stream",
     "text": [
      "\n",
      "  0%|                                            | 0/1260 [00:00<?, ?it/s]\u001b[A\n",
      " 17%|█████▌                          | 220/1260 [00:00<00:00, 2194.79it/s]\u001b[A\n",
      " 35%|███████████▏                    | 440/1260 [00:00<00:00, 2179.53it/s]\u001b[A\n",
      " 52%|████████████████▋               | 659/1260 [00:00<00:00, 2182.41it/s]\u001b[A\n",
      " 70%|██████████████████████▎         | 878/1260 [00:00<00:00, 2180.24it/s]\u001b[A\n",
      "100%|███████████████████████████████| 1260/1260 [00:00<00:00, 2176.02it/s]\u001b[A\n",
      " 70%|█████████████████████████▏          | 70/100 [13:44<05:53, 11.77s/it]"
     ]
    },
    {
     "name": "stdout",
     "output_type": "stream",
     "text": [
      "SD Output shape (1260, 52, 112)\n",
      "PREC\n",
      "Bias Correction Spatially - monthly:\n",
      "Training years : 105.0 == 105.0\n",
      "Testing years : 105.0\n",
      "Bias correction fucntion : <function gamma_quantile_mapping at 0x7f0d2fb2fe50>\n",
      "BC Input shape (1260, 11, 22) (1260, 11, 22) (1260, 11, 22)\n",
      "11 22\n"
     ]
    },
    {
     "name": "stderr",
     "output_type": "stream",
     "text": [
      "\n",
      "  0%|                                              | 0/11 [00:00<?, ?it/s]\u001b[A\n",
      "  9%|███▍                                  | 1/11 [00:00<00:09,  1.01it/s]\u001b[A\n",
      " 18%|██████▉                               | 2/11 [00:01<00:08,  1.04it/s]\u001b[A\n",
      " 27%|██████████▎                           | 3/11 [00:02<00:07,  1.04it/s]\u001b[A\n",
      " 36%|█████████████▊                        | 4/11 [00:03<00:06,  1.05it/s]\u001b[A\n",
      " 45%|█████████████████▎                    | 5/11 [00:04<00:05,  1.06it/s]\u001b[A\n",
      " 55%|████████████████████▋                 | 6/11 [00:05<00:04,  1.06it/s]\u001b[A\n",
      " 64%|████████████████████████▏             | 7/11 [00:06<00:03,  1.05it/s]\u001b[A\n",
      " 73%|███████████████████████████▋          | 8/11 [00:07<00:02,  1.06it/s]\u001b[A\n",
      " 82%|███████████████████████████████       | 9/11 [00:08<00:01,  1.07it/s]\u001b[A\n",
      " 91%|█████████████████████████████████▋   | 10/11 [00:09<00:00,  1.07it/s]\u001b[A\n",
      "100%|█████████████████████████████████████| 11/11 [00:10<00:00,  1.06it/s]\u001b[A\n"
     ]
    },
    {
     "name": "stdout",
     "output_type": "stream",
     "text": [
      "BC Output shape (1260, 11, 22)\n",
      "Spatial Disaggregation - Monthly (NCLIM ==  12 )\n",
      "SD Type - PREC\n",
      "No of timesteps  1260\n",
      "SD Input shape (1260, 52, 112) (1260, 11, 22)\n"
     ]
    },
    {
     "name": "stderr",
     "output_type": "stream",
     "text": [
      "\n",
      "  0%|                                            | 0/1260 [00:00<?, ?it/s]\u001b[A\n",
      " 17%|█████▌                          | 218/1260 [00:00<00:00, 2177.03it/s]\u001b[A\n",
      " 35%|███████████                     | 438/1260 [00:00<00:00, 2187.02it/s]\u001b[A\n",
      " 52%|████████████████▋               | 657/1260 [00:00<00:00, 2185.80it/s]\u001b[A\n",
      " 70%|██████████████████████▏         | 876/1260 [00:00<00:00, 2172.55it/s]\u001b[A\n",
      "100%|███████████████████████████████| 1260/1260 [00:00<00:00, 2109.49it/s]\u001b[A\n",
      " 71%|█████████████████████████▌          | 71/100 [13:56<05:40, 11.75s/it]"
     ]
    },
    {
     "name": "stdout",
     "output_type": "stream",
     "text": [
      "SD Output shape (1260, 52, 112)\n",
      "PREC\n",
      "Bias Correction Spatially - monthly:\n",
      "Training years : 105.0 == 105.0\n",
      "Testing years : 105.0\n",
      "Bias correction fucntion : <function gamma_quantile_mapping at 0x7f0d2fb2fe50>\n",
      "BC Input shape (1260, 11, 22) (1260, 11, 22) (1260, 11, 22)\n",
      "11 22\n"
     ]
    },
    {
     "name": "stderr",
     "output_type": "stream",
     "text": [
      "\n",
      "  0%|                                              | 0/11 [00:00<?, ?it/s]\u001b[A\n",
      "  9%|███▍                                  | 1/11 [00:00<00:09,  1.09it/s]\u001b[A\n",
      " 18%|██████▉                               | 2/11 [00:01<00:08,  1.08it/s]\u001b[A\n",
      " 27%|██████████▎                           | 3/11 [00:02<00:07,  1.08it/s]\u001b[A\n",
      " 36%|█████████████▊                        | 4/11 [00:03<00:06,  1.08it/s]\u001b[A\n",
      " 45%|█████████████████▎                    | 5/11 [00:04<00:05,  1.07it/s]\u001b[A\n",
      " 55%|████████████████████▋                 | 6/11 [00:05<00:04,  1.07it/s]\u001b[A\n",
      " 64%|████████████████████████▏             | 7/11 [00:06<00:03,  1.07it/s]\u001b[A\n",
      " 73%|███████████████████████████▋          | 8/11 [00:07<00:02,  1.06it/s]\u001b[A\n",
      " 82%|███████████████████████████████       | 9/11 [00:08<00:01,  1.05it/s]\u001b[A\n",
      " 91%|█████████████████████████████████▋   | 10/11 [00:09<00:00,  1.06it/s]\u001b[A\n",
      "100%|█████████████████████████████████████| 11/11 [00:10<00:00,  1.07it/s]\u001b[A\n"
     ]
    },
    {
     "name": "stdout",
     "output_type": "stream",
     "text": [
      "BC Output shape (1260, 11, 22)\n",
      "Spatial Disaggregation - Monthly (NCLIM ==  12 )\n",
      "SD Type - PREC\n",
      "No of timesteps  1260\n",
      "SD Input shape (1260, 52, 112) (1260, 11, 22)\n"
     ]
    },
    {
     "name": "stderr",
     "output_type": "stream",
     "text": [
      "\n",
      "  0%|                                            | 0/1260 [00:00<?, ?it/s]\u001b[A\n",
      " 17%|█████▌                          | 219/1260 [00:00<00:00, 2186.19it/s]\u001b[A\n",
      " 35%|███████████                     | 438/1260 [00:00<00:00, 2182.10it/s]\u001b[A\n",
      " 52%|████████████████▋               | 658/1260 [00:00<00:00, 2187.36it/s]\u001b[A\n",
      " 70%|██████████████████████▎         | 877/1260 [00:00<00:00, 2138.92it/s]\u001b[A\n",
      "100%|███████████████████████████████| 1260/1260 [00:00<00:00, 2147.55it/s]\u001b[A\n",
      " 72%|█████████████████████████▉          | 72/100 [14:08<05:27, 11.71s/it]"
     ]
    },
    {
     "name": "stdout",
     "output_type": "stream",
     "text": [
      "SD Output shape (1260, 52, 112)\n",
      "PREC\n",
      "Bias Correction Spatially - monthly:\n",
      "Training years : 105.0 == 105.0\n",
      "Testing years : 105.0\n",
      "Bias correction fucntion : <function gamma_quantile_mapping at 0x7f0d2fb2fe50>\n",
      "BC Input shape (1260, 11, 22) (1260, 11, 22) (1260, 11, 22)\n",
      "11 22\n"
     ]
    },
    {
     "name": "stderr",
     "output_type": "stream",
     "text": [
      "\n",
      "  0%|                                              | 0/11 [00:00<?, ?it/s]\u001b[A\n",
      "  9%|███▍                                  | 1/11 [00:00<00:09,  1.04it/s]\u001b[A\n",
      " 18%|██████▉                               | 2/11 [00:01<00:08,  1.06it/s]\u001b[A\n",
      " 27%|██████████▎                           | 3/11 [00:02<00:07,  1.06it/s]\u001b[A\n",
      " 36%|█████████████▊                        | 4/11 [00:03<00:06,  1.06it/s]\u001b[A\n",
      " 45%|█████████████████▎                    | 5/11 [00:04<00:05,  1.05it/s]\u001b[A\n",
      " 55%|████████████████████▋                 | 6/11 [00:05<00:04,  1.04it/s]\u001b[A\n",
      " 64%|████████████████████████▏             | 7/11 [00:06<00:03,  1.04it/s]\u001b[A\n",
      " 73%|███████████████████████████▋          | 8/11 [00:07<00:02,  1.04it/s]\u001b[A\n",
      " 82%|███████████████████████████████       | 9/11 [00:08<00:01,  1.04it/s]\u001b[A\n",
      " 91%|█████████████████████████████████▋   | 10/11 [00:09<00:00,  1.05it/s]\u001b[A\n",
      "100%|█████████████████████████████████████| 11/11 [00:10<00:00,  1.05it/s]\u001b[A\n"
     ]
    },
    {
     "name": "stdout",
     "output_type": "stream",
     "text": [
      "BC Output shape (1260, 11, 22)\n",
      "Spatial Disaggregation - Monthly (NCLIM ==  12 )\n",
      "SD Type - PREC\n",
      "No of timesteps  1260\n",
      "SD Input shape (1260, 52, 112) (1260, 11, 22)\n"
     ]
    },
    {
     "name": "stderr",
     "output_type": "stream",
     "text": [
      "\n",
      "  0%|                                            | 0/1260 [00:00<?, ?it/s]\u001b[A\n",
      " 16%|█████▏                          | 205/1260 [00:00<00:00, 2041.65it/s]\u001b[A\n",
      " 33%|██████████▋                     | 419/1260 [00:00<00:00, 2099.34it/s]\u001b[A\n",
      " 50%|████████████████                | 634/1260 [00:00<00:00, 2120.97it/s]\u001b[A\n",
      " 67%|█████████████████████▌          | 849/1260 [00:00<00:00, 2130.58it/s]\u001b[A\n",
      "100%|███████████████████████████████| 1260/1260 [00:00<00:00, 2120.80it/s]\u001b[A\n",
      " 73%|██████████████████████████▎         | 73/100 [14:20<05:17, 11.76s/it]"
     ]
    },
    {
     "name": "stdout",
     "output_type": "stream",
     "text": [
      "SD Output shape (1260, 52, 112)\n",
      "PREC\n",
      "Bias Correction Spatially - monthly:\n",
      "Training years : 105.0 == 105.0\n",
      "Testing years : 105.0\n",
      "Bias correction fucntion : <function gamma_quantile_mapping at 0x7f0d2fb2fe50>\n",
      "BC Input shape (1260, 11, 22) (1260, 11, 22) (1260, 11, 22)\n",
      "11 22\n"
     ]
    },
    {
     "name": "stderr",
     "output_type": "stream",
     "text": [
      "\n",
      "  0%|                                              | 0/11 [00:00<?, ?it/s]\u001b[A\n",
      "  9%|███▍                                  | 1/11 [00:00<00:09,  1.06it/s]\u001b[A\n",
      " 18%|██████▉                               | 2/11 [00:01<00:08,  1.05it/s]\u001b[A\n",
      " 27%|██████████▎                           | 3/11 [00:02<00:07,  1.02it/s]\u001b[A\n",
      " 36%|█████████████▊                        | 4/11 [00:03<00:06,  1.02it/s]\u001b[A\n",
      " 45%|█████████████████▎                    | 5/11 [00:04<00:06,  1.00s/it]\u001b[A\n",
      " 55%|████████████████████▋                 | 6/11 [00:05<00:05,  1.00s/it]\u001b[A\n",
      " 64%|████████████████████████▏             | 7/11 [00:06<00:04,  1.00s/it]\u001b[A\n",
      " 73%|███████████████████████████▋          | 8/11 [00:07<00:03,  1.02s/it]\u001b[A\n",
      " 82%|███████████████████████████████       | 9/11 [00:08<00:02,  1.01s/it]\u001b[A\n",
      " 91%|█████████████████████████████████▋   | 10/11 [00:10<00:01,  1.01s/it]\u001b[A\n",
      "100%|█████████████████████████████████████| 11/11 [00:11<00:00,  1.00s/it]\u001b[A\n"
     ]
    },
    {
     "name": "stdout",
     "output_type": "stream",
     "text": [
      "BC Output shape (1260, 11, 22)\n",
      "Spatial Disaggregation - Monthly (NCLIM ==  12 )\n",
      "SD Type - PREC\n",
      "No of timesteps  1260\n",
      "SD Input shape (1260, 52, 112) (1260, 11, 22)\n"
     ]
    },
    {
     "name": "stderr",
     "output_type": "stream",
     "text": [
      "\n",
      "  0%|                                            | 0/1260 [00:00<?, ?it/s]\u001b[A\n",
      " 17%|█████▎                          | 209/1260 [00:00<00:00, 2083.77it/s]\u001b[A\n",
      " 33%|██████████▌                     | 418/1260 [00:00<00:00, 2058.34it/s]\u001b[A\n",
      " 50%|███████████████▊                | 624/1260 [00:00<00:00, 1995.22it/s]\u001b[A\n",
      " 65%|████████████████████▉           | 824/1260 [00:00<00:00, 1949.78it/s]\u001b[A\n",
      " 81%|█████████████████████████▏     | 1024/1260 [00:00<00:00, 1966.40it/s]\u001b[A\n",
      "100%|███████████████████████████████| 1260/1260 [00:00<00:00, 1982.29it/s]\u001b[A\n",
      " 74%|██████████████████████████▋         | 74/100 [14:32<05:10, 11.96s/it]"
     ]
    },
    {
     "name": "stdout",
     "output_type": "stream",
     "text": [
      "SD Output shape (1260, 52, 112)\n",
      "PREC\n",
      "Bias Correction Spatially - monthly:\n",
      "Training years : 105.0 == 105.0\n",
      "Testing years : 105.0\n",
      "Bias correction fucntion : <function gamma_quantile_mapping at 0x7f0d2fb2fe50>\n",
      "BC Input shape (1260, 11, 22) (1260, 11, 22) (1260, 11, 22)\n",
      "11 22\n"
     ]
    },
    {
     "name": "stderr",
     "output_type": "stream",
     "text": [
      "\n",
      "  0%|                                              | 0/11 [00:00<?, ?it/s]\u001b[A\n",
      "  9%|███▍                                  | 1/11 [00:00<00:09,  1.02it/s]\u001b[A\n",
      " 18%|██████▉                               | 2/11 [00:01<00:08,  1.01it/s]\u001b[A\n",
      " 27%|██████████▎                           | 3/11 [00:02<00:07,  1.01it/s]\u001b[A\n",
      " 36%|█████████████▊                        | 4/11 [00:04<00:07,  1.01s/it]\u001b[A\n",
      " 45%|█████████████████▎                    | 5/11 [00:05<00:06,  1.01s/it]\u001b[A\n",
      " 55%|████████████████████▋                 | 6/11 [00:06<00:05,  1.01s/it]\u001b[A\n",
      " 64%|████████████████████████▏             | 7/11 [00:07<00:04,  1.00s/it]\u001b[A\n",
      " 73%|███████████████████████████▋          | 8/11 [00:07<00:02,  1.02it/s]\u001b[A\n",
      " 82%|███████████████████████████████       | 9/11 [00:08<00:01,  1.01it/s]\u001b[A\n",
      " 91%|█████████████████████████████████▋   | 10/11 [00:09<00:00,  1.03it/s]\u001b[A\n",
      "100%|█████████████████████████████████████| 11/11 [00:10<00:00,  1.02it/s]\u001b[A\n"
     ]
    },
    {
     "name": "stdout",
     "output_type": "stream",
     "text": [
      "BC Output shape (1260, 11, 22)\n",
      "Spatial Disaggregation - Monthly (NCLIM ==  12 )\n",
      "SD Type - PREC\n",
      "No of timesteps  1260\n",
      "SD Input shape (1260, 52, 112) (1260, 11, 22)\n"
     ]
    },
    {
     "name": "stderr",
     "output_type": "stream",
     "text": [
      "\n",
      "  0%|                                            | 0/1260 [00:00<?, ?it/s]\u001b[A\n",
      " 15%|████▉                           | 192/1260 [00:00<00:00, 1918.86it/s]\u001b[A\n",
      " 32%|██████████▎                     | 408/1260 [00:00<00:00, 2060.40it/s]\u001b[A\n",
      " 49%|███████████████▊                | 622/1260 [00:00<00:00, 2092.88it/s]\u001b[A\n",
      " 66%|█████████████████████▎          | 837/1260 [00:00<00:00, 2113.00it/s]\u001b[A\n",
      "100%|███████████████████████████████| 1260/1260 [00:00<00:00, 2107.86it/s]\u001b[A\n",
      " 75%|███████████████████████████         | 75/100 [14:44<05:00, 12.03s/it]"
     ]
    },
    {
     "name": "stdout",
     "output_type": "stream",
     "text": [
      "SD Output shape (1260, 52, 112)\n",
      "PREC\n",
      "Bias Correction Spatially - monthly:\n",
      "Training years : 105.0 == 105.0\n",
      "Testing years : 105.0\n",
      "Bias correction fucntion : <function gamma_quantile_mapping at 0x7f0d2fb2fe50>\n",
      "BC Input shape (1260, 11, 22) (1260, 11, 22) (1260, 11, 22)\n",
      "11 22\n"
     ]
    },
    {
     "name": "stderr",
     "output_type": "stream",
     "text": [
      "\n",
      "  0%|                                              | 0/11 [00:00<?, ?it/s]\u001b[A\n",
      "  9%|███▍                                  | 1/11 [00:00<00:09,  1.07it/s]\u001b[A\n",
      " 18%|██████▉                               | 2/11 [00:01<00:08,  1.07it/s]\u001b[A\n",
      " 27%|██████████▎                           | 3/11 [00:02<00:07,  1.06it/s]\u001b[A\n",
      " 36%|█████████████▊                        | 4/11 [00:03<00:06,  1.04it/s]\u001b[A\n",
      " 45%|█████████████████▎                    | 5/11 [00:04<00:05,  1.05it/s]\u001b[A\n",
      " 55%|████████████████████▋                 | 6/11 [00:05<00:04,  1.05it/s]\u001b[A\n",
      " 64%|████████████████████████▏             | 7/11 [00:06<00:03,  1.06it/s]\u001b[A\n",
      " 73%|███████████████████████████▋          | 8/11 [00:07<00:02,  1.05it/s]\u001b[A\n",
      " 82%|███████████████████████████████       | 9/11 [00:08<00:01,  1.04it/s]\u001b[A\n",
      " 91%|█████████████████████████████████▋   | 10/11 [00:09<00:00,  1.05it/s]\u001b[A\n",
      "100%|█████████████████████████████████████| 11/11 [00:10<00:00,  1.05it/s]\u001b[A\n"
     ]
    },
    {
     "name": "stdout",
     "output_type": "stream",
     "text": [
      "BC Output shape (1260, 11, 22)\n",
      "Spatial Disaggregation - Monthly (NCLIM ==  12 )\n",
      "SD Type - PREC\n",
      "No of timesteps  1260\n",
      "SD Input shape (1260, 52, 112) (1260, 11, 22)\n"
     ]
    },
    {
     "name": "stderr",
     "output_type": "stream",
     "text": [
      "\n",
      "  0%|                                            | 0/1260 [00:00<?, ?it/s]\u001b[A\n",
      " 18%|█████▋                          | 223/1260 [00:00<00:00, 2229.43it/s]\u001b[A\n",
      " 35%|███████████▎                    | 446/1260 [00:00<00:00, 2221.31it/s]\u001b[A\n",
      " 53%|████████████████▉               | 669/1260 [00:00<00:00, 2217.92it/s]\u001b[A\n",
      " 71%|██████████████████████▋         | 892/1260 [00:00<00:00, 2218.64it/s]\u001b[A\n",
      "100%|███████████████████████████████| 1260/1260 [00:00<00:00, 2212.51it/s]\u001b[A\n",
      " 76%|███████████████████████████▎        | 76/100 [14:56<04:46, 11.94s/it]"
     ]
    },
    {
     "name": "stdout",
     "output_type": "stream",
     "text": [
      "SD Output shape (1260, 52, 112)\n",
      "PREC\n",
      "Bias Correction Spatially - monthly:\n",
      "Training years : 105.0 == 105.0\n",
      "Testing years : 105.0\n",
      "Bias correction fucntion : <function gamma_quantile_mapping at 0x7f0d2fb2fe50>\n",
      "BC Input shape (1260, 11, 22) (1260, 11, 22) (1260, 11, 22)\n",
      "11 22\n"
     ]
    },
    {
     "name": "stderr",
     "output_type": "stream",
     "text": [
      "\n",
      "  0%|                                              | 0/11 [00:00<?, ?it/s]\u001b[A\n",
      "  9%|███▍                                  | 1/11 [00:00<00:09,  1.06it/s]\u001b[A\n",
      " 18%|██████▉                               | 2/11 [00:01<00:08,  1.07it/s]\u001b[A\n",
      " 27%|██████████▎                           | 3/11 [00:02<00:07,  1.07it/s]\u001b[A\n",
      " 36%|█████████████▊                        | 4/11 [00:03<00:06,  1.06it/s]\u001b[A\n",
      " 45%|█████████████████▎                    | 5/11 [00:04<00:05,  1.07it/s]\u001b[A\n",
      " 55%|████████████████████▋                 | 6/11 [00:05<00:04,  1.07it/s]\u001b[A\n",
      " 64%|████████████████████████▏             | 7/11 [00:06<00:03,  1.07it/s]\u001b[A\n",
      " 73%|███████████████████████████▋          | 8/11 [00:07<00:02,  1.07it/s]\u001b[A\n",
      " 82%|███████████████████████████████       | 9/11 [00:08<00:01,  1.07it/s]\u001b[A\n",
      " 91%|█████████████████████████████████▋   | 10/11 [00:09<00:00,  1.07it/s]\u001b[A\n",
      "100%|█████████████████████████████████████| 11/11 [00:10<00:00,  1.07it/s]\u001b[A\n"
     ]
    },
    {
     "name": "stdout",
     "output_type": "stream",
     "text": [
      "BC Output shape (1260, 11, 22)\n",
      "Spatial Disaggregation - Monthly (NCLIM ==  12 )\n",
      "SD Type - PREC\n",
      "No of timesteps  1260\n",
      "SD Input shape (1260, 52, 112) (1260, 11, 22)\n"
     ]
    },
    {
     "name": "stderr",
     "output_type": "stream",
     "text": [
      "\n",
      "  0%|                                            | 0/1260 [00:00<?, ?it/s]\u001b[A\n",
      " 17%|█████▎                          | 211/1260 [00:00<00:00, 2102.02it/s]\u001b[A\n",
      " 33%|██████████▋                     | 422/1260 [00:00<00:00, 2026.16it/s]\u001b[A\n",
      " 50%|███████████████▉                | 629/1260 [00:00<00:00, 2044.61it/s]\u001b[A\n",
      " 67%|█████████████████████▎          | 841/1260 [00:00<00:00, 2071.22it/s]\u001b[A\n",
      "100%|███████████████████████████████| 1260/1260 [00:00<00:00, 2034.24it/s]\u001b[A\n",
      " 77%|███████████████████████████▋        | 77/100 [15:08<04:32, 11.85s/it]"
     ]
    },
    {
     "name": "stdout",
     "output_type": "stream",
     "text": [
      "SD Output shape (1260, 52, 112)\n",
      "PREC\n",
      "Bias Correction Spatially - monthly:\n",
      "Training years : 105.0 == 105.0\n",
      "Testing years : 105.0\n",
      "Bias correction fucntion : <function gamma_quantile_mapping at 0x7f0d2fb2fe50>\n",
      "BC Input shape (1260, 11, 22) (1260, 11, 22) (1260, 11, 22)\n",
      "11 22\n"
     ]
    },
    {
     "name": "stderr",
     "output_type": "stream",
     "text": [
      "\n",
      "  0%|                                              | 0/11 [00:00<?, ?it/s]\u001b[A\n",
      "  9%|███▍                                  | 1/11 [00:00<00:09,  1.04it/s]\u001b[A\n",
      " 18%|██████▉                               | 2/11 [00:01<00:08,  1.02it/s]\u001b[A\n",
      " 27%|██████████▎                           | 3/11 [00:02<00:07,  1.01it/s]\u001b[A\n",
      " 36%|█████████████▊                        | 4/11 [00:03<00:06,  1.01it/s]\u001b[A\n",
      " 45%|█████████████████▎                    | 5/11 [00:04<00:05,  1.03it/s]\u001b[A\n",
      " 55%|████████████████████▋                 | 6/11 [00:05<00:04,  1.03it/s]\u001b[A\n",
      " 64%|████████████████████████▏             | 7/11 [00:06<00:03,  1.03it/s]\u001b[A\n",
      " 73%|███████████████████████████▋          | 8/11 [00:07<00:02,  1.03it/s]\u001b[A\n",
      " 82%|███████████████████████████████       | 9/11 [00:08<00:01,  1.03it/s]\u001b[A\n",
      " 91%|█████████████████████████████████▋   | 10/11 [00:09<00:00,  1.04it/s]\u001b[A\n",
      "100%|█████████████████████████████████████| 11/11 [00:10<00:00,  1.03it/s]\u001b[A\n"
     ]
    },
    {
     "name": "stdout",
     "output_type": "stream",
     "text": [
      "BC Output shape (1260, 11, 22)\n",
      "Spatial Disaggregation - Monthly (NCLIM ==  12 )\n",
      "SD Type - PREC\n",
      "No of timesteps  1260\n",
      "SD Input shape (1260, 52, 112) (1260, 11, 22)\n"
     ]
    },
    {
     "name": "stderr",
     "output_type": "stream",
     "text": [
      "\n",
      "  0%|                                            | 0/1260 [00:00<?, ?it/s]\u001b[A\n",
      " 17%|█████▍                          | 216/1260 [00:00<00:00, 2152.42it/s]\u001b[A\n",
      " 34%|██████████▉                     | 432/1260 [00:00<00:00, 2101.57it/s]\u001b[A\n",
      " 51%|████████████████▍               | 647/1260 [00:00<00:00, 2119.64it/s]\u001b[A\n",
      " 68%|█████████████████████▉          | 862/1260 [00:00<00:00, 2131.23it/s]\u001b[A\n",
      "100%|███████████████████████████████| 1260/1260 [00:00<00:00, 2135.31it/s]\u001b[A\n",
      " 78%|████████████████████████████        | 78/100 [15:20<04:22, 11.91s/it]"
     ]
    },
    {
     "name": "stdout",
     "output_type": "stream",
     "text": [
      "SD Output shape (1260, 52, 112)\n",
      "PREC\n",
      "Bias Correction Spatially - monthly:\n",
      "Training years : 105.0 == 105.0\n",
      "Testing years : 105.0\n",
      "Bias correction fucntion : <function gamma_quantile_mapping at 0x7f0d2fb2fe50>\n",
      "BC Input shape (1260, 11, 22) (1260, 11, 22) (1260, 11, 22)\n",
      "11 22\n"
     ]
    },
    {
     "name": "stderr",
     "output_type": "stream",
     "text": [
      "\n",
      "  0%|                                              | 0/11 [00:00<?, ?it/s]\u001b[A\n",
      "  9%|███▍                                  | 1/11 [00:00<00:09,  1.04it/s]\u001b[A\n",
      " 18%|██████▉                               | 2/11 [00:01<00:08,  1.05it/s]\u001b[A\n",
      " 27%|██████████▎                           | 3/11 [00:02<00:07,  1.04it/s]\u001b[A\n",
      " 36%|█████████████▊                        | 4/11 [00:03<00:06,  1.04it/s]\u001b[A\n",
      " 45%|█████████████████▎                    | 5/11 [00:04<00:05,  1.04it/s]\u001b[A\n",
      " 55%|████████████████████▋                 | 6/11 [00:05<00:04,  1.03it/s]\u001b[A\n",
      " 64%|████████████████████████▏             | 7/11 [00:06<00:03,  1.03it/s]\u001b[A\n",
      " 73%|███████████████████████████▋          | 8/11 [00:07<00:02,  1.03it/s]\u001b[A\n",
      " 82%|███████████████████████████████       | 9/11 [00:08<00:01,  1.01it/s]\u001b[A\n",
      " 91%|█████████████████████████████████▋   | 10/11 [00:09<00:00,  1.03it/s]\u001b[A\n",
      "100%|█████████████████████████████████████| 11/11 [00:10<00:00,  1.03it/s]\u001b[A\n"
     ]
    },
    {
     "name": "stdout",
     "output_type": "stream",
     "text": [
      "BC Output shape (1260, 11, 22)\n",
      "Spatial Disaggregation - Monthly (NCLIM ==  12 )\n",
      "SD Type - PREC\n",
      "No of timesteps  1260\n",
      "SD Input shape (1260, 52, 112) (1260, 11, 22)\n"
     ]
    },
    {
     "name": "stderr",
     "output_type": "stream",
     "text": [
      "\n",
      "  0%|                                            | 0/1260 [00:00<?, ?it/s]\u001b[A\n",
      " 17%|█████▌                          | 217/1260 [00:00<00:00, 2161.18it/s]\u001b[A\n",
      " 34%|███████████                     | 434/1260 [00:00<00:00, 2154.32it/s]\u001b[A\n",
      " 52%|████████████████▌               | 650/1260 [00:00<00:00, 2109.37it/s]\u001b[A\n",
      " 68%|█████████████████████▉          | 863/1260 [00:00<00:00, 2116.05it/s]\u001b[A\n",
      "100%|███████████████████████████████| 1260/1260 [00:00<00:00, 2128.35it/s]\u001b[A\n",
      " 79%|████████████████████████████▍       | 79/100 [15:32<04:10, 11.93s/it]"
     ]
    },
    {
     "name": "stdout",
     "output_type": "stream",
     "text": [
      "SD Output shape (1260, 52, 112)\n",
      "PREC\n",
      "Bias Correction Spatially - monthly:\n",
      "Training years : 105.0 == 105.0\n",
      "Testing years : 105.0\n",
      "Bias correction fucntion : <function gamma_quantile_mapping at 0x7f0d2fb2fe50>\n",
      "BC Input shape (1260, 11, 22) (1260, 11, 22) (1260, 11, 22)\n",
      "11 22\n"
     ]
    },
    {
     "name": "stderr",
     "output_type": "stream",
     "text": [
      "\n",
      "  0%|                                              | 0/11 [00:00<?, ?it/s]\u001b[A\n",
      "  9%|███▍                                  | 1/11 [00:00<00:09,  1.02it/s]\u001b[A\n",
      " 18%|██████▉                               | 2/11 [00:01<00:08,  1.03it/s]\u001b[A\n",
      " 27%|██████████▎                           | 3/11 [00:02<00:07,  1.02it/s]\u001b[A\n",
      " 36%|█████████████▊                        | 4/11 [00:03<00:06,  1.03it/s]\u001b[A\n",
      " 45%|█████████████████▎                    | 5/11 [00:04<00:05,  1.05it/s]\u001b[A\n",
      " 55%|████████████████████▋                 | 6/11 [00:05<00:04,  1.05it/s]\u001b[A\n",
      " 64%|████████████████████████▏             | 7/11 [00:06<00:03,  1.04it/s]\u001b[A\n",
      " 73%|███████████████████████████▋          | 8/11 [00:07<00:02,  1.04it/s]\u001b[A\n",
      " 82%|███████████████████████████████       | 9/11 [00:08<00:01,  1.04it/s]\u001b[A\n",
      " 91%|█████████████████████████████████▋   | 10/11 [00:09<00:00,  1.04it/s]\u001b[A\n",
      "100%|█████████████████████████████████████| 11/11 [00:10<00:00,  1.04it/s]\u001b[A\n"
     ]
    },
    {
     "name": "stdout",
     "output_type": "stream",
     "text": [
      "BC Output shape (1260, 11, 22)\n",
      "Spatial Disaggregation - Monthly (NCLIM ==  12 )\n",
      "SD Type - PREC\n",
      "No of timesteps  1260\n",
      "SD Input shape (1260, 52, 112) (1260, 11, 22)\n"
     ]
    },
    {
     "name": "stderr",
     "output_type": "stream",
     "text": [
      "\n",
      "  0%|                                            | 0/1260 [00:00<?, ?it/s]\u001b[A\n",
      " 17%|█████▍                          | 215/1260 [00:00<00:00, 2148.30it/s]\u001b[A\n",
      " 34%|██████████▉                     | 430/1260 [00:00<00:00, 2147.04it/s]\u001b[A\n",
      " 51%|████████████████▍               | 645/1260 [00:00<00:00, 2141.00it/s]\u001b[A\n",
      " 68%|█████████████████████▊          | 860/1260 [00:00<00:00, 2130.45it/s]\u001b[A\n",
      "100%|███████████████████████████████| 1260/1260 [00:00<00:00, 2131.52it/s]\u001b[A\n",
      " 80%|████████████████████████████▊       | 80/100 [15:43<03:58, 11.93s/it]"
     ]
    },
    {
     "name": "stdout",
     "output_type": "stream",
     "text": [
      "SD Output shape (1260, 52, 112)\n",
      "PREC\n",
      "Bias Correction Spatially - monthly:\n",
      "Training years : 105.0 == 105.0\n",
      "Testing years : 105.0\n",
      "Bias correction fucntion : <function gamma_quantile_mapping at 0x7f0d2fb2fe50>\n",
      "BC Input shape (1260, 11, 22) (1260, 11, 22) (1260, 11, 22)\n",
      "11 22\n"
     ]
    },
    {
     "name": "stderr",
     "output_type": "stream",
     "text": [
      "\n",
      "  0%|                                              | 0/11 [00:00<?, ?it/s]\u001b[A\n",
      "  9%|███▍                                  | 1/11 [00:00<00:09,  1.04it/s]\u001b[A\n",
      " 18%|██████▉                               | 2/11 [00:01<00:08,  1.01it/s]\u001b[A\n",
      " 27%|██████████▎                           | 3/11 [00:02<00:07,  1.02it/s]\u001b[A\n",
      " 36%|█████████████▊                        | 4/11 [00:03<00:06,  1.03it/s]\u001b[A\n",
      " 45%|█████████████████▎                    | 5/11 [00:04<00:05,  1.04it/s]\u001b[A\n",
      " 55%|████████████████████▋                 | 6/11 [00:05<00:04,  1.04it/s]\u001b[A\n",
      " 64%|████████████████████████▏             | 7/11 [00:06<00:03,  1.05it/s]\u001b[A\n",
      " 73%|███████████████████████████▋          | 8/11 [00:07<00:02,  1.03it/s]\u001b[A\n",
      " 82%|███████████████████████████████       | 9/11 [00:08<00:01,  1.03it/s]\u001b[A\n",
      " 91%|█████████████████████████████████▋   | 10/11 [00:09<00:00,  1.03it/s]\u001b[A\n",
      "100%|█████████████████████████████████████| 11/11 [00:10<00:00,  1.03it/s]\u001b[A\n"
     ]
    },
    {
     "name": "stdout",
     "output_type": "stream",
     "text": [
      "BC Output shape (1260, 11, 22)\n",
      "Spatial Disaggregation - Monthly (NCLIM ==  12 )\n",
      "SD Type - PREC\n",
      "No of timesteps  1260\n",
      "SD Input shape (1260, 52, 112) (1260, 11, 22)\n"
     ]
    },
    {
     "name": "stderr",
     "output_type": "stream",
     "text": [
      "\n",
      "  0%|                                            | 0/1260 [00:00<?, ?it/s]\u001b[A\n",
      " 16%|█████▎                          | 207/1260 [00:00<00:00, 2062.17it/s]\u001b[A\n",
      " 33%|██████████▌                     | 414/1260 [00:00<00:00, 2008.94it/s]\u001b[A\n",
      " 50%|███████████████▉                | 628/1260 [00:00<00:00, 2064.61it/s]\u001b[A\n",
      " 67%|█████████████████████▎          | 841/1260 [00:00<00:00, 2089.75it/s]\u001b[A\n",
      "100%|███████████████████████████████| 1260/1260 [00:00<00:00, 2085.80it/s]\u001b[A\n",
      " 81%|█████████████████████████████▏      | 81/100 [15:55<03:47, 11.96s/it]"
     ]
    },
    {
     "name": "stdout",
     "output_type": "stream",
     "text": [
      "SD Output shape (1260, 52, 112)\n",
      "PREC\n",
      "Bias Correction Spatially - monthly:\n",
      "Training years : 105.0 == 105.0\n",
      "Testing years : 105.0\n",
      "Bias correction fucntion : <function gamma_quantile_mapping at 0x7f0d2fb2fe50>\n",
      "BC Input shape (1260, 11, 22) (1260, 11, 22) (1260, 11, 22)\n",
      "11 22\n"
     ]
    },
    {
     "name": "stderr",
     "output_type": "stream",
     "text": [
      "\n",
      "  0%|                                              | 0/11 [00:00<?, ?it/s]\u001b[A\n",
      "  9%|███▍                                  | 1/11 [00:00<00:09,  1.01it/s]\u001b[A\n",
      " 18%|██████▉                               | 2/11 [00:01<00:08,  1.01it/s]\u001b[A\n",
      " 27%|██████████▎                           | 3/11 [00:02<00:07,  1.03it/s]\u001b[A\n",
      " 36%|█████████████▊                        | 4/11 [00:03<00:06,  1.03it/s]\u001b[A\n",
      " 45%|█████████████████▎                    | 5/11 [00:04<00:05,  1.03it/s]\u001b[A\n",
      " 55%|████████████████████▋                 | 6/11 [00:05<00:04,  1.03it/s]\u001b[A\n",
      " 64%|████████████████████████▏             | 7/11 [00:06<00:03,  1.04it/s]\u001b[A\n",
      " 73%|███████████████████████████▋          | 8/11 [00:07<00:02,  1.04it/s]\u001b[A\n",
      " 82%|███████████████████████████████       | 9/11 [00:08<00:01,  1.04it/s]\u001b[A\n",
      " 91%|█████████████████████████████████▋   | 10/11 [00:09<00:00,  1.04it/s]\u001b[A\n",
      "100%|█████████████████████████████████████| 11/11 [00:10<00:00,  1.04it/s]\u001b[A\n"
     ]
    },
    {
     "name": "stdout",
     "output_type": "stream",
     "text": [
      "BC Output shape (1260, 11, 22)\n",
      "Spatial Disaggregation - Monthly (NCLIM ==  12 )\n",
      "SD Type - PREC\n",
      "No of timesteps  1260\n",
      "SD Input shape (1260, 52, 112) (1260, 11, 22)\n"
     ]
    },
    {
     "name": "stderr",
     "output_type": "stream",
     "text": [
      "\n",
      "  0%|                                            | 0/1260 [00:00<?, ?it/s]\u001b[A\n",
      " 17%|█████▍                          | 212/1260 [00:00<00:00, 2111.13it/s]\u001b[A\n",
      " 34%|██████████▊                     | 424/1260 [00:00<00:00, 2088.27it/s]\u001b[A\n",
      " 50%|████████████████▏               | 636/1260 [00:00<00:00, 2099.43it/s]\u001b[A\n",
      " 67%|█████████████████████▌          | 850/1260 [00:00<00:00, 2115.03it/s]\u001b[A\n",
      "100%|███████████████████████████████| 1260/1260 [00:00<00:00, 2111.68it/s]\u001b[A\n",
      " 82%|█████████████████████████████▌      | 82/100 [16:07<03:35, 11.96s/it]"
     ]
    },
    {
     "name": "stdout",
     "output_type": "stream",
     "text": [
      "SD Output shape (1260, 52, 112)\n",
      "PREC\n",
      "Bias Correction Spatially - monthly:\n",
      "Training years : 105.0 == 105.0\n",
      "Testing years : 105.0\n",
      "Bias correction fucntion : <function gamma_quantile_mapping at 0x7f0d2fb2fe50>\n",
      "BC Input shape (1260, 11, 22) (1260, 11, 22) (1260, 11, 22)\n",
      "11 22\n"
     ]
    },
    {
     "name": "stderr",
     "output_type": "stream",
     "text": [
      "\n",
      "  0%|                                              | 0/11 [00:00<?, ?it/s]\u001b[A\n",
      "  9%|███▍                                  | 1/11 [00:00<00:09,  1.03it/s]\u001b[A\n",
      " 18%|██████▉                               | 2/11 [00:01<00:08,  1.04it/s]\u001b[A\n",
      " 27%|██████████▎                           | 3/11 [00:02<00:07,  1.02it/s]\u001b[A\n",
      " 36%|█████████████▊                        | 4/11 [00:03<00:06,  1.02it/s]\u001b[A\n",
      " 45%|█████████████████▎                    | 5/11 [00:04<00:05,  1.02it/s]\u001b[A\n",
      " 55%|████████████████████▋                 | 6/11 [00:05<00:04,  1.02it/s]\u001b[A\n",
      " 64%|████████████████████████▏             | 7/11 [00:06<00:03,  1.01it/s]\u001b[A\n",
      " 73%|███████████████████████████▋          | 8/11 [00:07<00:02,  1.01it/s]\u001b[A\n",
      " 82%|███████████████████████████████       | 9/11 [00:08<00:01,  1.02it/s]\u001b[A\n",
      " 91%|█████████████████████████████████▋   | 10/11 [00:09<00:00,  1.02it/s]\u001b[A\n",
      "100%|█████████████████████████████████████| 11/11 [00:10<00:00,  1.02it/s]\u001b[A\n"
     ]
    },
    {
     "name": "stdout",
     "output_type": "stream",
     "text": [
      "BC Output shape (1260, 11, 22)\n",
      "Spatial Disaggregation - Monthly (NCLIM ==  12 )\n",
      "SD Type - PREC\n",
      "No of timesteps  1260\n",
      "SD Input shape (1260, 52, 112) (1260, 11, 22)\n"
     ]
    },
    {
     "name": "stderr",
     "output_type": "stream",
     "text": [
      "\n",
      "  0%|                                            | 0/1260 [00:00<?, ?it/s]\u001b[A\n",
      " 13%|████▏                           | 165/1260 [00:00<00:00, 1649.15it/s]\u001b[A\n",
      " 27%|████████▋                       | 343/1260 [00:00<00:00, 1724.08it/s]\u001b[A\n",
      " 44%|██████████████▏                 | 559/1260 [00:00<00:00, 1921.48it/s]\u001b[A\n",
      " 61%|███████████████████▌            | 771/1260 [00:00<00:00, 1998.73it/s]\u001b[A\n",
      " 78%|████████████████████████▊       | 978/1260 [00:00<00:00, 2022.04it/s]\u001b[A\n",
      "100%|███████████████████████████████| 1260/1260 [00:00<00:00, 1980.42it/s]\u001b[A\n",
      " 83%|█████████████████████████████▉      | 83/100 [16:20<03:24, 12.02s/it]"
     ]
    },
    {
     "name": "stdout",
     "output_type": "stream",
     "text": [
      "SD Output shape (1260, 52, 112)\n",
      "PREC\n",
      "Bias Correction Spatially - monthly:\n",
      "Training years : 105.0 == 105.0\n",
      "Testing years : 105.0\n",
      "Bias correction fucntion : <function gamma_quantile_mapping at 0x7f0d2fb2fe50>\n",
      "BC Input shape (1260, 11, 22) (1260, 11, 22) (1260, 11, 22)\n",
      "11 22\n"
     ]
    },
    {
     "name": "stderr",
     "output_type": "stream",
     "text": [
      "\n",
      "  0%|                                              | 0/11 [00:00<?, ?it/s]\u001b[A\n",
      "  9%|███▍                                  | 1/11 [00:00<00:09,  1.02it/s]\u001b[A\n",
      " 18%|██████▉                               | 2/11 [00:01<00:08,  1.03it/s]\u001b[A\n",
      " 27%|██████████▎                           | 3/11 [00:02<00:07,  1.04it/s]\u001b[A\n",
      " 36%|█████████████▊                        | 4/11 [00:03<00:06,  1.01it/s]\u001b[A\n",
      " 45%|█████████████████▎                    | 5/11 [00:04<00:05,  1.03it/s]\u001b[A\n",
      " 55%|████████████████████▋                 | 6/11 [00:05<00:04,  1.04it/s]\u001b[A\n",
      " 64%|████████████████████████▏             | 7/11 [00:06<00:03,  1.04it/s]\u001b[A\n",
      " 73%|███████████████████████████▋          | 8/11 [00:07<00:02,  1.05it/s]\u001b[A\n",
      " 82%|███████████████████████████████       | 9/11 [00:08<00:01,  1.05it/s]\u001b[A\n",
      " 91%|█████████████████████████████████▋   | 10/11 [00:09<00:00,  1.05it/s]\u001b[A\n",
      "100%|█████████████████████████████████████| 11/11 [00:10<00:00,  1.04it/s]\u001b[A\n"
     ]
    },
    {
     "name": "stdout",
     "output_type": "stream",
     "text": [
      "BC Output shape (1260, 11, 22)\n",
      "Spatial Disaggregation - Monthly (NCLIM ==  12 )\n",
      "SD Type - PREC\n",
      "No of timesteps  1260\n",
      "SD Input shape (1260, 52, 112) (1260, 11, 22)\n"
     ]
    },
    {
     "name": "stderr",
     "output_type": "stream",
     "text": [
      "\n",
      "  0%|                                            | 0/1260 [00:00<?, ?it/s]\u001b[A\n",
      " 17%|█████▎                          | 208/1260 [00:00<00:00, 2072.56it/s]\u001b[A\n",
      " 33%|██████████▋                     | 421/1260 [00:00<00:00, 2101.66it/s]\u001b[A\n",
      " 50%|████████████████▏               | 636/1260 [00:00<00:00, 2119.79it/s]\u001b[A\n",
      " 67%|█████████████████████▌          | 848/1260 [00:00<00:00, 2108.38it/s]\u001b[A\n",
      "100%|███████████████████████████████| 1260/1260 [00:00<00:00, 2104.46it/s]\u001b[A\n",
      " 84%|██████████████████████████████▏     | 84/100 [16:32<03:11, 11.99s/it]"
     ]
    },
    {
     "name": "stdout",
     "output_type": "stream",
     "text": [
      "SD Output shape (1260, 52, 112)\n",
      "PREC\n",
      "Bias Correction Spatially - monthly:\n",
      "Training years : 105.0 == 105.0\n",
      "Testing years : 105.0\n",
      "Bias correction fucntion : <function gamma_quantile_mapping at 0x7f0d2fb2fe50>\n",
      "BC Input shape (1260, 11, 22) (1260, 11, 22) (1260, 11, 22)\n",
      "11 22\n"
     ]
    },
    {
     "name": "stderr",
     "output_type": "stream",
     "text": [
      "\n",
      "  0%|                                              | 0/11 [00:00<?, ?it/s]\u001b[A\n",
      "  9%|███▍                                  | 1/11 [00:00<00:09,  1.04it/s]\u001b[A\n",
      " 18%|██████▉                               | 2/11 [00:01<00:08,  1.04it/s]\u001b[A\n",
      " 27%|██████████▎                           | 3/11 [00:02<00:07,  1.05it/s]\u001b[A\n",
      " 36%|█████████████▊                        | 4/11 [00:03<00:06,  1.06it/s]\u001b[A\n",
      " 45%|█████████████████▎                    | 5/11 [00:04<00:05,  1.04it/s]\u001b[A\n",
      " 55%|████████████████████▋                 | 6/11 [00:05<00:04,  1.04it/s]\u001b[A\n",
      " 64%|████████████████████████▏             | 7/11 [00:06<00:03,  1.04it/s]\u001b[A\n",
      " 73%|███████████████████████████▋          | 8/11 [00:07<00:02,  1.05it/s]\u001b[A\n",
      " 82%|███████████████████████████████       | 9/11 [00:08<00:01,  1.05it/s]\u001b[A\n",
      " 91%|█████████████████████████████████▋   | 10/11 [00:09<00:00,  1.04it/s]\u001b[A\n",
      "100%|█████████████████████████████████████| 11/11 [00:10<00:00,  1.04it/s]\u001b[A\n"
     ]
    },
    {
     "name": "stdout",
     "output_type": "stream",
     "text": [
      "BC Output shape (1260, 11, 22)\n",
      "Spatial Disaggregation - Monthly (NCLIM ==  12 )\n",
      "SD Type - PREC\n",
      "No of timesteps  1260\n",
      "SD Input shape (1260, 52, 112) (1260, 11, 22)\n"
     ]
    },
    {
     "name": "stderr",
     "output_type": "stream",
     "text": [
      "\n",
      "  0%|                                            | 0/1260 [00:00<?, ?it/s]\u001b[A\n",
      " 16%|█████▏                          | 202/1260 [00:00<00:00, 2015.89it/s]\u001b[A\n",
      " 32%|██████████▎                     | 407/1260 [00:00<00:00, 2031.35it/s]\u001b[A\n",
      " 48%|███████████████▌                | 611/1260 [00:00<00:00, 2000.96it/s]\u001b[A\n",
      " 65%|████████████████████▉           | 823/1260 [00:00<00:00, 2044.45it/s]\u001b[A\n",
      " 82%|█████████████████████████▍     | 1033/1260 [00:00<00:00, 2063.48it/s]\u001b[A\n",
      "100%|███████████████████████████████| 1260/1260 [00:00<00:00, 2048.25it/s]\u001b[A\n",
      " 85%|██████████████████████████████▌     | 85/100 [16:43<02:59, 11.98s/it]"
     ]
    },
    {
     "name": "stdout",
     "output_type": "stream",
     "text": [
      "SD Output shape (1260, 52, 112)\n",
      "PREC\n",
      "Bias Correction Spatially - monthly:\n",
      "Training years : 105.0 == 105.0\n",
      "Testing years : 105.0\n",
      "Bias correction fucntion : <function gamma_quantile_mapping at 0x7f0d2fb2fe50>\n",
      "BC Input shape (1260, 11, 22) (1260, 11, 22) (1260, 11, 22)\n",
      "11 22\n"
     ]
    },
    {
     "name": "stderr",
     "output_type": "stream",
     "text": [
      "\n",
      "  0%|                                              | 0/11 [00:00<?, ?it/s]\u001b[A\n",
      "  9%|███▍                                  | 1/11 [00:00<00:09,  1.05it/s]\u001b[A\n",
      " 18%|██████▉                               | 2/11 [00:01<00:08,  1.04it/s]\u001b[A\n",
      " 27%|██████████▎                           | 3/11 [00:02<00:07,  1.04it/s]\u001b[A\n",
      " 36%|█████████████▊                        | 4/11 [00:03<00:06,  1.04it/s]\u001b[A\n",
      " 45%|█████████████████▎                    | 5/11 [00:04<00:05,  1.04it/s]\u001b[A\n",
      " 55%|████████████████████▋                 | 6/11 [00:05<00:04,  1.05it/s]\u001b[A\n",
      " 64%|████████████████████████▏             | 7/11 [00:06<00:03,  1.05it/s]\u001b[A\n",
      " 73%|███████████████████████████▋          | 8/11 [00:07<00:02,  1.05it/s]\u001b[A\n",
      " 82%|███████████████████████████████       | 9/11 [00:08<00:01,  1.05it/s]\u001b[A\n",
      " 91%|█████████████████████████████████▋   | 10/11 [00:09<00:00,  1.05it/s]\u001b[A\n",
      "100%|█████████████████████████████████████| 11/11 [00:10<00:00,  1.05it/s]\u001b[A\n"
     ]
    },
    {
     "name": "stdout",
     "output_type": "stream",
     "text": [
      "BC Output shape (1260, 11, 22)\n",
      "Spatial Disaggregation - Monthly (NCLIM ==  12 )\n",
      "SD Type - PREC\n",
      "No of timesteps  1260\n",
      "SD Input shape (1260, 52, 112) (1260, 11, 22)\n"
     ]
    },
    {
     "name": "stderr",
     "output_type": "stream",
     "text": [
      "\n",
      "  0%|                                            | 0/1260 [00:00<?, ?it/s]\u001b[A\n",
      " 17%|█████▌                          | 217/1260 [00:00<00:00, 2164.06it/s]\u001b[A\n",
      " 34%|███████████                     | 434/1260 [00:00<00:00, 2147.73it/s]\u001b[A\n",
      " 52%|████████████████▌               | 650/1260 [00:00<00:00, 2151.70it/s]\u001b[A\n",
      " 69%|█████████████████████▉          | 866/1260 [00:00<00:00, 2149.00it/s]\u001b[A\n",
      "100%|███████████████████████████████| 1260/1260 [00:00<00:00, 2153.27it/s]\u001b[A\n",
      " 86%|██████████████████████████████▉     | 86/100 [16:55<02:46, 11.93s/it]"
     ]
    },
    {
     "name": "stdout",
     "output_type": "stream",
     "text": [
      "SD Output shape (1260, 52, 112)\n",
      "PREC\n",
      "Bias Correction Spatially - monthly:\n",
      "Training years : 105.0 == 105.0\n",
      "Testing years : 105.0\n",
      "Bias correction fucntion : <function gamma_quantile_mapping at 0x7f0d2fb2fe50>\n",
      "BC Input shape (1260, 11, 22) (1260, 11, 22) (1260, 11, 22)\n",
      "11 22\n"
     ]
    },
    {
     "name": "stderr",
     "output_type": "stream",
     "text": [
      "\n",
      "  0%|                                              | 0/11 [00:00<?, ?it/s]\u001b[A\n",
      "  9%|███▍                                  | 1/11 [00:00<00:09,  1.07it/s]\u001b[A\n",
      " 18%|██████▉                               | 2/11 [00:01<00:08,  1.06it/s]\u001b[A\n",
      " 27%|██████████▎                           | 3/11 [00:02<00:07,  1.06it/s]\u001b[A\n",
      " 36%|█████████████▊                        | 4/11 [00:03<00:06,  1.07it/s]\u001b[A\n",
      " 45%|█████████████████▎                    | 5/11 [00:04<00:05,  1.06it/s]\u001b[A\n",
      " 55%|████████████████████▋                 | 6/11 [00:05<00:04,  1.05it/s]\u001b[A\n",
      " 64%|████████████████████████▏             | 7/11 [00:06<00:03,  1.05it/s]\u001b[A\n",
      " 73%|███████████████████████████▋          | 8/11 [00:07<00:02,  1.05it/s]\u001b[A\n",
      " 82%|███████████████████████████████       | 9/11 [00:08<00:01,  1.06it/s]\u001b[A\n",
      " 91%|█████████████████████████████████▋   | 10/11 [00:09<00:00,  1.05it/s]\u001b[A\n",
      "100%|█████████████████████████████████████| 11/11 [00:10<00:00,  1.05it/s]\u001b[A\n"
     ]
    },
    {
     "name": "stdout",
     "output_type": "stream",
     "text": [
      "BC Output shape (1260, 11, 22)\n",
      "Spatial Disaggregation - Monthly (NCLIM ==  12 )\n",
      "SD Type - PREC\n",
      "No of timesteps  1260\n",
      "SD Input shape (1260, 52, 112) (1260, 11, 22)\n"
     ]
    },
    {
     "name": "stderr",
     "output_type": "stream",
     "text": [
      "\n",
      "  0%|                                            | 0/1260 [00:00<?, ?it/s]\u001b[A\n",
      " 17%|█████▍                          | 212/1260 [00:00<00:00, 2118.03it/s]\u001b[A\n",
      " 34%|██████████▊                     | 424/1260 [00:00<00:00, 2030.38it/s]\u001b[A\n",
      " 50%|████████████████▏               | 636/1260 [00:00<00:00, 2069.57it/s]\u001b[A\n",
      " 67%|█████████████████████▌          | 850/1260 [00:00<00:00, 2093.04it/s]\u001b[A\n",
      "100%|███████████████████████████████| 1260/1260 [00:00<00:00, 2090.03it/s]\u001b[A\n",
      " 87%|███████████████████████████████▎    | 87/100 [17:07<02:34, 11.88s/it]"
     ]
    },
    {
     "name": "stdout",
     "output_type": "stream",
     "text": [
      "SD Output shape (1260, 52, 112)\n",
      "PREC\n",
      "Bias Correction Spatially - monthly:\n",
      "Training years : 105.0 == 105.0\n",
      "Testing years : 105.0\n",
      "Bias correction fucntion : <function gamma_quantile_mapping at 0x7f0d2fb2fe50>\n",
      "BC Input shape (1260, 11, 22) (1260, 11, 22) (1260, 11, 22)\n",
      "11 22\n"
     ]
    },
    {
     "name": "stderr",
     "output_type": "stream",
     "text": [
      "\n",
      "  0%|                                              | 0/11 [00:00<?, ?it/s]\u001b[A\n",
      "  9%|███▍                                  | 1/11 [00:00<00:09,  1.04it/s]\u001b[A\n",
      " 18%|██████▉                               | 2/11 [00:01<00:08,  1.03it/s]\u001b[A\n",
      " 27%|██████████▎                           | 3/11 [00:02<00:07,  1.03it/s]\u001b[A\n",
      " 36%|█████████████▊                        | 4/11 [00:03<00:06,  1.04it/s]\u001b[A\n",
      " 45%|█████████████████▎                    | 5/11 [00:04<00:05,  1.03it/s]\u001b[A\n",
      " 55%|████████████████████▋                 | 6/11 [00:05<00:04,  1.04it/s]\u001b[A\n",
      " 64%|████████████████████████▏             | 7/11 [00:06<00:03,  1.03it/s]\u001b[A\n",
      " 73%|███████████████████████████▋          | 8/11 [00:07<00:02,  1.04it/s]\u001b[A\n",
      " 82%|███████████████████████████████       | 9/11 [00:08<00:01,  1.04it/s]\u001b[A\n",
      " 91%|█████████████████████████████████▋   | 10/11 [00:09<00:00,  1.04it/s]\u001b[A\n",
      "100%|█████████████████████████████████████| 11/11 [00:10<00:00,  1.04it/s]\u001b[A\n"
     ]
    },
    {
     "name": "stdout",
     "output_type": "stream",
     "text": [
      "BC Output shape (1260, 11, 22)\n",
      "Spatial Disaggregation - Monthly (NCLIM ==  12 )\n",
      "SD Type - PREC\n",
      "No of timesteps  1260\n",
      "SD Input shape (1260, 52, 112) (1260, 11, 22)\n"
     ]
    },
    {
     "name": "stderr",
     "output_type": "stream",
     "text": [
      "\n",
      "  0%|                                            | 0/1260 [00:00<?, ?it/s]\u001b[A\n",
      " 16%|█████▎                          | 207/1260 [00:00<00:00, 2065.27it/s]\u001b[A\n",
      " 33%|██████████▋                     | 419/1260 [00:00<00:00, 2094.62it/s]\u001b[A\n",
      " 50%|████████████████                | 631/1260 [00:00<00:00, 2105.18it/s]\u001b[A\n",
      " 67%|█████████████████████▍          | 844/1260 [00:00<00:00, 2112.62it/s]\u001b[A\n",
      "100%|███████████████████████████████| 1260/1260 [00:00<00:00, 2111.11it/s]\u001b[A\n",
      " 88%|███████████████████████████████▋    | 88/100 [17:19<02:22, 11.91s/it]"
     ]
    },
    {
     "name": "stdout",
     "output_type": "stream",
     "text": [
      "SD Output shape (1260, 52, 112)\n",
      "PREC\n",
      "Bias Correction Spatially - monthly:\n",
      "Training years : 105.0 == 105.0\n",
      "Testing years : 105.0\n",
      "Bias correction fucntion : <function gamma_quantile_mapping at 0x7f0d2fb2fe50>\n",
      "BC Input shape (1260, 11, 22) (1260, 11, 22) (1260, 11, 22)\n",
      "11 22\n"
     ]
    },
    {
     "name": "stderr",
     "output_type": "stream",
     "text": [
      "\n",
      "  0%|                                              | 0/11 [00:00<?, ?it/s]\u001b[A\n",
      "  9%|███▍                                  | 1/11 [00:00<00:09,  1.03it/s]\u001b[A\n",
      " 18%|██████▉                               | 2/11 [00:01<00:08,  1.01it/s]\u001b[A\n",
      " 27%|██████████▎                           | 3/11 [00:02<00:07,  1.03it/s]\u001b[A\n",
      " 36%|█████████████▊                        | 4/11 [00:03<00:06,  1.03it/s]\u001b[A\n",
      " 45%|█████████████████▎                    | 5/11 [00:04<00:05,  1.04it/s]\u001b[A\n",
      " 55%|████████████████████▋                 | 6/11 [00:05<00:04,  1.05it/s]\u001b[A\n",
      " 64%|████████████████████████▏             | 7/11 [00:06<00:03,  1.03it/s]\u001b[A\n",
      " 73%|███████████████████████████▋          | 8/11 [00:07<00:02,  1.03it/s]\u001b[A\n",
      " 82%|███████████████████████████████       | 9/11 [00:08<00:01,  1.03it/s]\u001b[A\n",
      " 91%|█████████████████████████████████▋   | 10/11 [00:09<00:00,  1.03it/s]\u001b[A\n",
      "100%|█████████████████████████████████████| 11/11 [00:10<00:00,  1.03it/s]\u001b[A\n"
     ]
    },
    {
     "name": "stdout",
     "output_type": "stream",
     "text": [
      "BC Output shape (1260, 11, 22)\n",
      "Spatial Disaggregation - Monthly (NCLIM ==  12 )\n",
      "SD Type - PREC\n",
      "No of timesteps  1260\n",
      "SD Input shape (1260, 52, 112) (1260, 11, 22)\n"
     ]
    },
    {
     "name": "stderr",
     "output_type": "stream",
     "text": [
      "\n",
      "  0%|                                            | 0/1260 [00:00<?, ?it/s]\u001b[A\n",
      " 17%|█████▍                          | 215/1260 [00:00<00:00, 2148.46it/s]\u001b[A\n",
      " 34%|██████████▉                     | 430/1260 [00:00<00:00, 2140.60it/s]\u001b[A\n",
      " 51%|████████████████▍               | 645/1260 [00:00<00:00, 2135.46it/s]\u001b[A\n",
      " 68%|█████████████████████▊          | 859/1260 [00:00<00:00, 2134.63it/s]\u001b[A\n",
      "100%|███████████████████████████████| 1260/1260 [00:00<00:00, 2120.47it/s]\u001b[A\n",
      " 89%|████████████████████████████████    | 89/100 [17:31<02:11, 11.94s/it]"
     ]
    },
    {
     "name": "stdout",
     "output_type": "stream",
     "text": [
      "SD Output shape (1260, 52, 112)\n",
      "PREC\n",
      "Bias Correction Spatially - monthly:\n",
      "Training years : 105.0 == 105.0\n",
      "Testing years : 105.0\n",
      "Bias correction fucntion : <function gamma_quantile_mapping at 0x7f0d2fb2fe50>\n",
      "BC Input shape (1260, 11, 22) (1260, 11, 22) (1260, 11, 22)\n",
      "11 22\n"
     ]
    },
    {
     "name": "stderr",
     "output_type": "stream",
     "text": [
      "\n",
      "  0%|                                              | 0/11 [00:00<?, ?it/s]\u001b[A\n",
      "  9%|███▍                                  | 1/11 [00:00<00:09,  1.03it/s]\u001b[A\n",
      " 18%|██████▉                               | 2/11 [00:01<00:08,  1.03it/s]\u001b[A\n",
      " 27%|██████████▎                           | 3/11 [00:02<00:07,  1.04it/s]\u001b[A\n",
      " 36%|█████████████▊                        | 4/11 [00:03<00:06,  1.04it/s]\u001b[A\n",
      " 45%|█████████████████▎                    | 5/11 [00:04<00:05,  1.05it/s]\u001b[A\n",
      " 55%|████████████████████▋                 | 6/11 [00:05<00:04,  1.05it/s]\u001b[A\n",
      " 64%|████████████████████████▏             | 7/11 [00:06<00:03,  1.05it/s]\u001b[A\n",
      " 73%|███████████████████████████▋          | 8/11 [00:07<00:02,  1.05it/s]\u001b[A\n",
      " 82%|███████████████████████████████       | 9/11 [00:08<00:01,  1.04it/s]\u001b[A\n",
      " 91%|█████████████████████████████████▋   | 10/11 [00:09<00:00,  1.06it/s]\u001b[A\n",
      "100%|█████████████████████████████████████| 11/11 [00:10<00:00,  1.05it/s]\u001b[A\n"
     ]
    },
    {
     "name": "stdout",
     "output_type": "stream",
     "text": [
      "BC Output shape (1260, 11, 22)\n",
      "Spatial Disaggregation - Monthly (NCLIM ==  12 )\n",
      "SD Type - PREC\n",
      "No of timesteps  1260\n",
      "SD Input shape (1260, 52, 112) (1260, 11, 22)\n"
     ]
    },
    {
     "name": "stderr",
     "output_type": "stream",
     "text": [
      "\n",
      "  0%|                                            | 0/1260 [00:00<?, ?it/s]\u001b[A\n",
      " 17%|█████▍                          | 214/1260 [00:00<00:00, 2135.06it/s]\u001b[A\n",
      " 34%|██████████▊                     | 428/1260 [00:00<00:00, 2119.02it/s]\u001b[A\n",
      " 51%|████████████████▍               | 648/1260 [00:00<00:00, 2152.11it/s]\u001b[A\n",
      " 69%|██████████████████████          | 868/1260 [00:00<00:00, 2168.89it/s]\u001b[A\n",
      "100%|███████████████████████████████| 1260/1260 [00:00<00:00, 2107.90it/s]\u001b[A\n",
      " 90%|████████████████████████████████▍   | 90/100 [17:43<01:58, 11.89s/it]"
     ]
    },
    {
     "name": "stdout",
     "output_type": "stream",
     "text": [
      "SD Output shape (1260, 52, 112)\n",
      "PREC\n",
      "Bias Correction Spatially - monthly:\n",
      "Training years : 105.0 == 105.0\n",
      "Testing years : 105.0\n",
      "Bias correction fucntion : <function gamma_quantile_mapping at 0x7f0d2fb2fe50>\n",
      "BC Input shape (1260, 11, 22) (1260, 11, 22) (1260, 11, 22)\n",
      "11 22\n"
     ]
    },
    {
     "name": "stderr",
     "output_type": "stream",
     "text": [
      "\n",
      "  0%|                                              | 0/11 [00:00<?, ?it/s]\u001b[A\n",
      "  9%|███▍                                  | 1/11 [00:00<00:09,  1.05it/s]\u001b[A\n",
      " 18%|██████▉                               | 2/11 [00:01<00:08,  1.05it/s]\u001b[A\n",
      " 27%|██████████▎                           | 3/11 [00:02<00:07,  1.06it/s]\u001b[A\n",
      " 36%|█████████████▊                        | 4/11 [00:03<00:06,  1.06it/s]\u001b[A\n",
      " 45%|█████████████████▎                    | 5/11 [00:04<00:05,  1.06it/s]\u001b[A\n",
      " 55%|████████████████████▋                 | 6/11 [00:05<00:04,  1.07it/s]\u001b[A\n",
      " 64%|████████████████████████▏             | 7/11 [00:06<00:03,  1.07it/s]\u001b[A\n",
      " 73%|███████████████████████████▋          | 8/11 [00:07<00:02,  1.07it/s]\u001b[A\n",
      " 82%|███████████████████████████████       | 9/11 [00:08<00:01,  1.07it/s]\u001b[A\n",
      " 91%|█████████████████████████████████▋   | 10/11 [00:09<00:00,  1.07it/s]\u001b[A\n",
      "100%|█████████████████████████████████████| 11/11 [00:10<00:00,  1.07it/s]\u001b[A\n"
     ]
    },
    {
     "name": "stdout",
     "output_type": "stream",
     "text": [
      "BC Output shape (1260, 11, 22)\n",
      "Spatial Disaggregation - Monthly (NCLIM ==  12 )\n",
      "SD Type - PREC\n",
      "No of timesteps  1260\n",
      "SD Input shape (1260, 52, 112) (1260, 11, 22)\n"
     ]
    },
    {
     "name": "stderr",
     "output_type": "stream",
     "text": [
      "\n",
      "  0%|                                            | 0/1260 [00:00<?, ?it/s]\u001b[A\n",
      " 15%|████▋                           | 184/1260 [00:00<00:00, 1833.55it/s]\u001b[A\n",
      " 32%|██████████▎                     | 406/1260 [00:00<00:00, 2057.12it/s]\u001b[A\n",
      " 50%|███████████████▉                | 628/1260 [00:00<00:00, 2129.52it/s]\u001b[A\n",
      " 67%|█████████████████████▌          | 850/1260 [00:00<00:00, 2165.12it/s]\u001b[A\n",
      "100%|███████████████████████████████| 1260/1260 [00:00<00:00, 2111.04it/s]\u001b[A\n",
      " 91%|████████████████████████████████▊   | 91/100 [17:54<01:46, 11.82s/it]"
     ]
    },
    {
     "name": "stdout",
     "output_type": "stream",
     "text": [
      "SD Output shape (1260, 52, 112)\n",
      "PREC\n",
      "Bias Correction Spatially - monthly:\n",
      "Training years : 105.0 == 105.0\n",
      "Testing years : 105.0\n",
      "Bias correction fucntion : <function gamma_quantile_mapping at 0x7f0d2fb2fe50>\n",
      "BC Input shape (1260, 11, 22) (1260, 11, 22) (1260, 11, 22)\n",
      "11 22\n"
     ]
    },
    {
     "name": "stderr",
     "output_type": "stream",
     "text": [
      "\n",
      "  0%|                                              | 0/11 [00:00<?, ?it/s]\u001b[A\n",
      "  9%|███▍                                  | 1/11 [00:00<00:09,  1.09it/s]\u001b[A\n",
      " 18%|██████▉                               | 2/11 [00:01<00:08,  1.06it/s]\u001b[A\n",
      " 27%|██████████▎                           | 3/11 [00:02<00:07,  1.04it/s]\u001b[A\n",
      " 36%|█████████████▊                        | 4/11 [00:03<00:06,  1.04it/s]\u001b[A\n",
      " 45%|█████████████████▎                    | 5/11 [00:04<00:05,  1.03it/s]\u001b[A\n",
      " 55%|████████████████████▋                 | 6/11 [00:05<00:04,  1.04it/s]\u001b[A\n",
      " 64%|████████████████████████▏             | 7/11 [00:06<00:03,  1.05it/s]\u001b[A\n",
      " 73%|███████████████████████████▋          | 8/11 [00:07<00:02,  1.05it/s]\u001b[A\n",
      " 82%|███████████████████████████████       | 9/11 [00:08<00:01,  1.05it/s]\u001b[A\n",
      " 91%|█████████████████████████████████▋   | 10/11 [00:09<00:00,  1.05it/s]\u001b[A\n",
      "100%|█████████████████████████████████████| 11/11 [00:10<00:00,  1.05it/s]\u001b[A\n"
     ]
    },
    {
     "name": "stdout",
     "output_type": "stream",
     "text": [
      "BC Output shape (1260, 11, 22)\n",
      "Spatial Disaggregation - Monthly (NCLIM ==  12 )\n",
      "SD Type - PREC\n",
      "No of timesteps  1260\n",
      "SD Input shape (1260, 52, 112) (1260, 11, 22)\n"
     ]
    },
    {
     "name": "stderr",
     "output_type": "stream",
     "text": [
      "\n",
      "  0%|                                            | 0/1260 [00:00<?, ?it/s]\u001b[A\n",
      " 17%|█████▎                          | 211/1260 [00:00<00:00, 2102.61it/s]\u001b[A\n",
      " 34%|██████████▊                     | 424/1260 [00:00<00:00, 2114.74it/s]\u001b[A\n",
      " 51%|████████████████▍               | 645/1260 [00:00<00:00, 2157.40it/s]\u001b[A\n",
      " 68%|█████████████████████▉          | 862/1260 [00:00<00:00, 2158.92it/s]\u001b[A\n",
      "100%|███████████████████████████████| 1260/1260 [00:00<00:00, 2157.52it/s]\u001b[A\n",
      " 92%|█████████████████████████████████   | 92/100 [18:06<01:34, 11.82s/it]"
     ]
    },
    {
     "name": "stdout",
     "output_type": "stream",
     "text": [
      "SD Output shape (1260, 52, 112)\n",
      "PREC\n",
      "Bias Correction Spatially - monthly:\n",
      "Training years : 105.0 == 105.0\n",
      "Testing years : 105.0\n",
      "Bias correction fucntion : <function gamma_quantile_mapping at 0x7f0d2fb2fe50>\n",
      "BC Input shape (1260, 11, 22) (1260, 11, 22) (1260, 11, 22)\n",
      "11 22\n"
     ]
    },
    {
     "name": "stderr",
     "output_type": "stream",
     "text": [
      "\n",
      "  0%|                                              | 0/11 [00:00<?, ?it/s]\u001b[A\n",
      "  9%|███▍                                  | 1/11 [00:00<00:09,  1.05it/s]\u001b[A\n",
      " 18%|██████▉                               | 2/11 [00:01<00:08,  1.07it/s]\u001b[A\n",
      " 27%|██████████▎                           | 3/11 [00:02<00:07,  1.07it/s]\u001b[A\n",
      " 36%|█████████████▊                        | 4/11 [00:03<00:06,  1.08it/s]\u001b[A\n",
      " 45%|█████████████████▎                    | 5/11 [00:04<00:05,  1.07it/s]\u001b[A\n",
      " 55%|████████████████████▋                 | 6/11 [00:05<00:04,  1.07it/s]\u001b[A\n",
      " 64%|████████████████████████▏             | 7/11 [00:06<00:03,  1.05it/s]\u001b[A\n",
      " 73%|███████████████████████████▋          | 8/11 [00:07<00:02,  1.06it/s]\u001b[A\n",
      " 82%|███████████████████████████████       | 9/11 [00:08<00:01,  1.06it/s]\u001b[A\n",
      " 91%|█████████████████████████████████▋   | 10/11 [00:09<00:00,  1.07it/s]\u001b[A\n",
      "100%|█████████████████████████████████████| 11/11 [00:10<00:00,  1.07it/s]\u001b[A\n"
     ]
    },
    {
     "name": "stdout",
     "output_type": "stream",
     "text": [
      "BC Output shape (1260, 11, 22)\n",
      "Spatial Disaggregation - Monthly (NCLIM ==  12 )\n",
      "SD Type - PREC\n",
      "No of timesteps  1260\n",
      "SD Input shape (1260, 52, 112) (1260, 11, 22)\n"
     ]
    },
    {
     "name": "stderr",
     "output_type": "stream",
     "text": [
      "\n",
      "  0%|                                            | 0/1260 [00:00<?, ?it/s]\u001b[A\n",
      " 16%|█████                           | 199/1260 [00:00<00:00, 1989.28it/s]\u001b[A\n",
      " 32%|██████████▎                     | 407/1260 [00:00<00:00, 2042.38it/s]\u001b[A\n",
      " 49%|███████████████▌                | 613/1260 [00:00<00:00, 2049.80it/s]\u001b[A\n",
      " 65%|████████████████████▊           | 818/1260 [00:00<00:00, 2031.28it/s]\u001b[A\n",
      " 81%|█████████████████████████▏     | 1022/1260 [00:00<00:00, 2025.41it/s]\u001b[A\n",
      "100%|███████████████████████████████| 1260/1260 [00:00<00:00, 2053.14it/s]\u001b[A\n",
      " 93%|█████████████████████████████████▍  | 93/100 [18:18<01:22, 11.77s/it]"
     ]
    },
    {
     "name": "stdout",
     "output_type": "stream",
     "text": [
      "SD Output shape (1260, 52, 112)\n",
      "PREC\n",
      "Bias Correction Spatially - monthly:\n",
      "Training years : 105.0 == 105.0\n",
      "Testing years : 105.0\n",
      "Bias correction fucntion : <function gamma_quantile_mapping at 0x7f0d2fb2fe50>\n",
      "BC Input shape (1260, 11, 22) (1260, 11, 22) (1260, 11, 22)\n",
      "11 22\n"
     ]
    },
    {
     "name": "stderr",
     "output_type": "stream",
     "text": [
      "\n",
      "  0%|                                              | 0/11 [00:00<?, ?it/s]\u001b[A\n",
      "  9%|███▍                                  | 1/11 [00:00<00:09,  1.06it/s]\u001b[A\n",
      " 18%|██████▉                               | 2/11 [00:01<00:08,  1.06it/s]\u001b[A\n",
      " 27%|██████████▎                           | 3/11 [00:02<00:07,  1.06it/s]\u001b[A\n",
      " 36%|█████████████▊                        | 4/11 [00:03<00:06,  1.07it/s]\u001b[A\n",
      " 45%|█████████████████▎                    | 5/11 [00:04<00:05,  1.08it/s]\u001b[A\n",
      " 55%|████████████████████▋                 | 6/11 [00:05<00:04,  1.08it/s]\u001b[A\n",
      " 64%|████████████████████████▏             | 7/11 [00:06<00:03,  1.08it/s]\u001b[A\n",
      " 73%|███████████████████████████▋          | 8/11 [00:07<00:02,  1.07it/s]\u001b[A\n",
      " 82%|███████████████████████████████       | 9/11 [00:08<00:01,  1.08it/s]\u001b[A\n",
      " 91%|█████████████████████████████████▋   | 10/11 [00:09<00:00,  1.07it/s]\u001b[A\n",
      "100%|█████████████████████████████████████| 11/11 [00:10<00:00,  1.07it/s]\u001b[A\n"
     ]
    },
    {
     "name": "stdout",
     "output_type": "stream",
     "text": [
      "BC Output shape (1260, 11, 22)\n",
      "Spatial Disaggregation - Monthly (NCLIM ==  12 )\n",
      "SD Type - PREC\n",
      "No of timesteps  1260\n",
      "SD Input shape (1260, 52, 112) (1260, 11, 22)\n"
     ]
    },
    {
     "name": "stderr",
     "output_type": "stream",
     "text": [
      "\n",
      "  0%|                                            | 0/1260 [00:00<?, ?it/s]\u001b[A\n",
      " 17%|█████▌                          | 217/1260 [00:00<00:00, 2160.63it/s]\u001b[A\n",
      " 34%|███████████                     | 434/1260 [00:00<00:00, 2123.04it/s]\u001b[A\n",
      " 51%|████████████████▍               | 647/1260 [00:00<00:00, 2113.85it/s]\u001b[A\n",
      " 68%|█████████████████████▊          | 859/1260 [00:00<00:00, 2113.33it/s]\u001b[A\n",
      "100%|███████████████████████████████| 1260/1260 [00:00<00:00, 2119.34it/s]\u001b[A\n",
      " 94%|█████████████████████████████████▊  | 94/100 [18:30<01:10, 11.73s/it]"
     ]
    },
    {
     "name": "stdout",
     "output_type": "stream",
     "text": [
      "SD Output shape (1260, 52, 112)\n",
      "PREC\n",
      "Bias Correction Spatially - monthly:\n",
      "Training years : 105.0 == 105.0\n",
      "Testing years : 105.0\n",
      "Bias correction fucntion : <function gamma_quantile_mapping at 0x7f0d2fb2fe50>\n",
      "BC Input shape (1260, 11, 22) (1260, 11, 22) (1260, 11, 22)\n",
      "11 22\n"
     ]
    },
    {
     "name": "stderr",
     "output_type": "stream",
     "text": [
      "\n",
      "  0%|                                              | 0/11 [00:00<?, ?it/s]\u001b[A\n",
      "  9%|███▍                                  | 1/11 [00:00<00:09,  1.08it/s]\u001b[A\n",
      " 18%|██████▉                               | 2/11 [00:01<00:08,  1.07it/s]\u001b[A\n",
      " 27%|██████████▎                           | 3/11 [00:02<00:07,  1.07it/s]\u001b[A\n",
      " 36%|█████████████▊                        | 4/11 [00:03<00:06,  1.05it/s]\u001b[A\n",
      " 45%|█████████████████▎                    | 5/11 [00:04<00:05,  1.05it/s]\u001b[A\n",
      " 55%|████████████████████▋                 | 6/11 [00:05<00:04,  1.04it/s]\u001b[A\n",
      " 64%|████████████████████████▏             | 7/11 [00:06<00:03,  1.05it/s]\u001b[A\n",
      " 73%|███████████████████████████▋          | 8/11 [00:07<00:02,  1.05it/s]\u001b[A\n",
      " 82%|███████████████████████████████       | 9/11 [00:08<00:01,  1.05it/s]\u001b[A\n",
      " 91%|█████████████████████████████████▋   | 10/11 [00:09<00:00,  1.05it/s]\u001b[A\n",
      "100%|█████████████████████████████████████| 11/11 [00:10<00:00,  1.05it/s]\u001b[A\n"
     ]
    },
    {
     "name": "stdout",
     "output_type": "stream",
     "text": [
      "BC Output shape (1260, 11, 22)\n",
      "Spatial Disaggregation - Monthly (NCLIM ==  12 )\n",
      "SD Type - PREC\n",
      "No of timesteps  1260\n",
      "SD Input shape (1260, 52, 112) (1260, 11, 22)\n"
     ]
    },
    {
     "name": "stderr",
     "output_type": "stream",
     "text": [
      "\n",
      "  0%|                                            | 0/1260 [00:00<?, ?it/s]\u001b[A\n",
      " 17%|█████▍                          | 212/1260 [00:00<00:00, 2116.87it/s]\u001b[A\n",
      " 34%|██████████▊                     | 424/1260 [00:00<00:00, 2104.69it/s]\u001b[A\n",
      " 50%|████████████████▏               | 635/1260 [00:00<00:00, 2098.56it/s]\u001b[A\n",
      " 67%|█████████████████████▍          | 846/1260 [00:00<00:00, 2102.65it/s]\u001b[A\n",
      "100%|███████████████████████████████| 1260/1260 [00:00<00:00, 2105.26it/s]\u001b[A\n",
      " 95%|██████████████████████████████████▏ | 95/100 [18:41<00:58, 11.74s/it]"
     ]
    },
    {
     "name": "stdout",
     "output_type": "stream",
     "text": [
      "SD Output shape (1260, 52, 112)\n",
      "PREC\n",
      "Bias Correction Spatially - monthly:\n",
      "Training years : 105.0 == 105.0\n",
      "Testing years : 105.0\n",
      "Bias correction fucntion : <function gamma_quantile_mapping at 0x7f0d2fb2fe50>\n",
      "BC Input shape (1260, 11, 22) (1260, 11, 22) (1260, 11, 22)\n",
      "11 22\n"
     ]
    },
    {
     "name": "stderr",
     "output_type": "stream",
     "text": [
      "\n",
      "  0%|                                              | 0/11 [00:00<?, ?it/s]\u001b[A\n",
      "  9%|███▍                                  | 1/11 [00:00<00:09,  1.01it/s]\u001b[A\n",
      " 18%|██████▉                               | 2/11 [00:01<00:08,  1.01it/s]\u001b[A\n",
      " 27%|██████████▎                           | 3/11 [00:02<00:07,  1.01it/s]\u001b[A\n",
      " 36%|█████████████▊                        | 4/11 [00:03<00:06,  1.02it/s]\u001b[A\n",
      " 45%|█████████████████▎                    | 5/11 [00:04<00:05,  1.04it/s]\u001b[A\n",
      " 55%|████████████████████▋                 | 6/11 [00:05<00:04,  1.06it/s]\u001b[A\n",
      " 64%|████████████████████████▏             | 7/11 [00:06<00:03,  1.05it/s]\u001b[A\n",
      " 73%|███████████████████████████▋          | 8/11 [00:07<00:02,  1.05it/s]\u001b[A\n",
      " 82%|███████████████████████████████       | 9/11 [00:08<00:01,  1.06it/s]\u001b[A\n",
      " 91%|█████████████████████████████████▋   | 10/11 [00:09<00:00,  1.06it/s]\u001b[A\n",
      "100%|█████████████████████████████████████| 11/11 [00:10<00:00,  1.05it/s]\u001b[A\n"
     ]
    },
    {
     "name": "stdout",
     "output_type": "stream",
     "text": [
      "BC Output shape (1260, 11, 22)\n",
      "Spatial Disaggregation - Monthly (NCLIM ==  12 )\n",
      "SD Type - PREC\n",
      "No of timesteps  1260\n",
      "SD Input shape (1260, 52, 112) (1260, 11, 22)\n"
     ]
    },
    {
     "name": "stderr",
     "output_type": "stream",
     "text": [
      "\n",
      "  0%|                                            | 0/1260 [00:00<?, ?it/s]\u001b[A\n",
      " 17%|█████▌                          | 218/1260 [00:00<00:00, 2177.05it/s]\u001b[A\n",
      " 35%|███████████                     | 436/1260 [00:00<00:00, 2170.44it/s]\u001b[A\n",
      " 52%|████████████████▋               | 656/1260 [00:00<00:00, 2181.39it/s]\u001b[A\n",
      " 69%|██████████████████████▏         | 875/1260 [00:00<00:00, 2141.08it/s]\u001b[A\n",
      "100%|███████████████████████████████| 1260/1260 [00:00<00:00, 2144.60it/s]\u001b[A\n",
      " 96%|██████████████████████████████████▌ | 96/100 [18:53<00:47, 11.77s/it]"
     ]
    },
    {
     "name": "stdout",
     "output_type": "stream",
     "text": [
      "SD Output shape (1260, 52, 112)\n",
      "PREC\n",
      "Bias Correction Spatially - monthly:\n",
      "Training years : 105.0 == 105.0\n",
      "Testing years : 105.0\n",
      "Bias correction fucntion : <function gamma_quantile_mapping at 0x7f0d2fb2fe50>\n",
      "BC Input shape (1260, 11, 22) (1260, 11, 22) (1260, 11, 22)\n",
      "11 22\n"
     ]
    },
    {
     "name": "stderr",
     "output_type": "stream",
     "text": [
      "\n",
      "  0%|                                              | 0/11 [00:00<?, ?it/s]\u001b[A\n",
      "  9%|███▍                                  | 1/11 [00:00<00:09,  1.04it/s]\u001b[A\n",
      " 18%|██████▉                               | 2/11 [00:01<00:08,  1.02it/s]\u001b[A\n",
      " 27%|██████████▎                           | 3/11 [00:02<00:07,  1.03it/s]\u001b[A\n",
      " 36%|█████████████▊                        | 4/11 [00:03<00:06,  1.05it/s]\u001b[A\n",
      " 45%|█████████████████▎                    | 5/11 [00:04<00:05,  1.05it/s]\u001b[A\n",
      " 55%|████████████████████▋                 | 6/11 [00:05<00:04,  1.05it/s]\u001b[A\n",
      " 64%|████████████████████████▏             | 7/11 [00:06<00:03,  1.06it/s]\u001b[A\n",
      " 73%|███████████████████████████▋          | 8/11 [00:07<00:02,  1.06it/s]\u001b[A\n",
      " 82%|███████████████████████████████       | 9/11 [00:08<00:01,  1.05it/s]\u001b[A\n",
      " 91%|█████████████████████████████████▋   | 10/11 [00:09<00:00,  1.04it/s]\u001b[A\n",
      "100%|█████████████████████████████████████| 11/11 [00:10<00:00,  1.05it/s]\u001b[A\n"
     ]
    },
    {
     "name": "stdout",
     "output_type": "stream",
     "text": [
      "BC Output shape (1260, 11, 22)\n",
      "Spatial Disaggregation - Monthly (NCLIM ==  12 )\n",
      "SD Type - PREC\n",
      "No of timesteps  1260\n",
      "SD Input shape (1260, 52, 112) (1260, 11, 22)\n"
     ]
    },
    {
     "name": "stderr",
     "output_type": "stream",
     "text": [
      "\n",
      "  0%|                                            | 0/1260 [00:00<?, ?it/s]\u001b[A\n",
      " 17%|█████▍                          | 213/1260 [00:00<00:00, 2124.09it/s]\u001b[A\n",
      " 34%|██████████▊                     | 426/1260 [00:00<00:00, 2121.89it/s]\u001b[A\n",
      " 51%|████████████████▎               | 641/1260 [00:00<00:00, 2134.61it/s]\u001b[A\n",
      " 68%|█████████████████████▋          | 855/1260 [00:00<00:00, 2115.36it/s]\u001b[A\n",
      "100%|███████████████████████████████| 1260/1260 [00:00<00:00, 2139.05it/s]\u001b[A\n",
      " 97%|██████████████████████████████████▉ | 97/100 [19:05<00:35, 11.80s/it]"
     ]
    },
    {
     "name": "stdout",
     "output_type": "stream",
     "text": [
      "SD Output shape (1260, 52, 112)\n",
      "PREC\n",
      "Bias Correction Spatially - monthly:\n",
      "Training years : 105.0 == 105.0\n",
      "Testing years : 105.0\n",
      "Bias correction fucntion : <function gamma_quantile_mapping at 0x7f0d2fb2fe50>\n",
      "BC Input shape (1260, 11, 22) (1260, 11, 22) (1260, 11, 22)\n",
      "11 22\n"
     ]
    },
    {
     "name": "stderr",
     "output_type": "stream",
     "text": [
      "\n",
      "  0%|                                              | 0/11 [00:00<?, ?it/s]\u001b[A\n",
      "  9%|███▍                                  | 1/11 [00:00<00:09,  1.05it/s]\u001b[A\n",
      " 18%|██████▉                               | 2/11 [00:01<00:08,  1.04it/s]\u001b[A\n",
      " 27%|██████████▎                           | 3/11 [00:02<00:07,  1.05it/s]\u001b[A\n",
      " 36%|█████████████▊                        | 4/11 [00:03<00:06,  1.05it/s]\u001b[A\n",
      " 45%|█████████████████▎                    | 5/11 [00:04<00:05,  1.04it/s]\u001b[A\n",
      " 55%|████████████████████▋                 | 6/11 [00:05<00:04,  1.04it/s]\u001b[A\n",
      " 64%|████████████████████████▏             | 7/11 [00:06<00:03,  1.04it/s]\u001b[A\n",
      " 73%|███████████████████████████▋          | 8/11 [00:07<00:02,  1.04it/s]\u001b[A\n",
      " 82%|███████████████████████████████       | 9/11 [00:08<00:01,  1.02it/s]\u001b[A\n",
      " 91%|█████████████████████████████████▋   | 10/11 [00:09<00:00,  1.01it/s]\u001b[A\n",
      "100%|█████████████████████████████████████| 11/11 [00:10<00:00,  1.03it/s]\u001b[A\n"
     ]
    },
    {
     "name": "stdout",
     "output_type": "stream",
     "text": [
      "BC Output shape (1260, 11, 22)\n",
      "Spatial Disaggregation - Monthly (NCLIM ==  12 )\n",
      "SD Type - PREC\n",
      "No of timesteps  1260\n",
      "SD Input shape (1260, 52, 112) (1260, 11, 22)\n"
     ]
    },
    {
     "name": "stderr",
     "output_type": "stream",
     "text": [
      "\n",
      "  0%|                                            | 0/1260 [00:00<?, ?it/s]\u001b[A\n",
      " 16%|█████                           | 201/1260 [00:00<00:00, 2005.11it/s]\u001b[A\n",
      " 32%|██████████▏                     | 402/1260 [00:00<00:00, 1983.57it/s]\u001b[A\n",
      " 48%|███████████████▎                | 601/1260 [00:00<00:00, 1953.35it/s]\u001b[A\n",
      " 64%|████████████████████▍           | 804/1260 [00:00<00:00, 1982.38it/s]\u001b[A\n",
      " 80%|████████████████████████▋      | 1003/1260 [00:00<00:00, 1961.27it/s]\u001b[A\n",
      "100%|███████████████████████████████| 1260/1260 [00:00<00:00, 1950.79it/s]\u001b[A\n",
      " 98%|███████████████████████████████████▎| 98/100 [19:17<00:23, 11.89s/it]"
     ]
    },
    {
     "name": "stdout",
     "output_type": "stream",
     "text": [
      "SD Output shape (1260, 52, 112)\n",
      "PREC\n",
      "Bias Correction Spatially - monthly:\n",
      "Training years : 105.0 == 105.0\n",
      "Testing years : 105.0\n",
      "Bias correction fucntion : <function gamma_quantile_mapping at 0x7f0d2fb2fe50>\n",
      "BC Input shape (1260, 11, 22) (1260, 11, 22) (1260, 11, 22)\n",
      "11 22\n"
     ]
    },
    {
     "name": "stderr",
     "output_type": "stream",
     "text": [
      "\n",
      "  0%|                                              | 0/11 [00:00<?, ?it/s]\u001b[A\n",
      "  9%|███▍                                  | 1/11 [00:01<00:10,  1.00s/it]\u001b[A\n",
      " 18%|██████▉                               | 2/11 [00:02<00:09,  1.01s/it]\u001b[A\n",
      " 27%|██████████▎                           | 3/11 [00:03<00:08,  1.02s/it]\u001b[A\n",
      " 36%|█████████████▊                        | 4/11 [00:04<00:07,  1.00s/it]\u001b[A\n",
      " 45%|█████████████████▎                    | 5/11 [00:05<00:05,  1.00it/s]\u001b[A\n",
      " 55%|████████████████████▋                 | 6/11 [00:06<00:05,  1.02s/it]\u001b[A\n",
      " 64%|████████████████████████▏             | 7/11 [00:07<00:04,  1.01s/it]\u001b[A\n",
      " 73%|███████████████████████████▋          | 8/11 [00:08<00:03,  1.03s/it]\u001b[A\n",
      " 82%|███████████████████████████████       | 9/11 [00:09<00:02,  1.03s/it]\u001b[A\n",
      " 91%|█████████████████████████████████▋   | 10/11 [00:10<00:01,  1.03s/it]\u001b[A\n",
      "100%|█████████████████████████████████████| 11/11 [00:11<00:00,  1.02s/it]\u001b[A\n"
     ]
    },
    {
     "name": "stdout",
     "output_type": "stream",
     "text": [
      "BC Output shape (1260, 11, 22)\n",
      "Spatial Disaggregation - Monthly (NCLIM ==  12 )\n",
      "SD Type - PREC\n",
      "No of timesteps  1260\n",
      "SD Input shape (1260, 52, 112) (1260, 11, 22)\n"
     ]
    },
    {
     "name": "stderr",
     "output_type": "stream",
     "text": [
      "\n",
      "  0%|                                            | 0/1260 [00:00<?, ?it/s]\u001b[A\n",
      " 15%|████▋                           | 185/1260 [00:00<00:00, 1838.16it/s]\u001b[A\n",
      " 29%|█████████▎                      | 369/1260 [00:00<00:00, 1829.11it/s]\u001b[A\n",
      " 44%|██████████████▏                 | 560/1260 [00:00<00:00, 1863.90it/s]\u001b[A\n",
      " 60%|███████████████████▏            | 754/1260 [00:00<00:00, 1890.65it/s]\u001b[A\n",
      " 77%|████████████████████████▌       | 965/1260 [00:00<00:00, 1969.16it/s]\u001b[A\n",
      "100%|███████████████████████████████| 1260/1260 [00:00<00:00, 1915.10it/s]\u001b[A\n",
      " 99%|███████████████████████████████████▋| 99/100 [19:30<00:12, 12.11s/it]"
     ]
    },
    {
     "name": "stdout",
     "output_type": "stream",
     "text": [
      "SD Output shape (1260, 52, 112)\n",
      "PREC\n",
      "Bias Correction Spatially - monthly:\n",
      "Training years : 105.0 == 105.0\n",
      "Testing years : 105.0\n",
      "Bias correction fucntion : <function gamma_quantile_mapping at 0x7f0d2fb2fe50>\n",
      "BC Input shape (1260, 11, 22) (1260, 11, 22) (1260, 11, 22)\n",
      "11 22\n"
     ]
    },
    {
     "name": "stderr",
     "output_type": "stream",
     "text": [
      "\n",
      "  0%|                                              | 0/11 [00:00<?, ?it/s]\u001b[A\n",
      "  9%|███▍                                  | 1/11 [00:01<00:10,  1.01s/it]\u001b[A\n",
      " 18%|██████▉                               | 2/11 [00:01<00:08,  1.02it/s]\u001b[A\n",
      " 27%|██████████▎                           | 3/11 [00:02<00:07,  1.03it/s]\u001b[A\n",
      " 36%|█████████████▊                        | 4/11 [00:03<00:06,  1.04it/s]\u001b[A\n",
      " 45%|█████████████████▎                    | 5/11 [00:04<00:05,  1.04it/s]\u001b[A\n",
      " 55%|████████████████████▋                 | 6/11 [00:05<00:04,  1.05it/s]\u001b[A\n",
      " 64%|████████████████████████▏             | 7/11 [00:06<00:03,  1.04it/s]\u001b[A\n",
      " 73%|███████████████████████████▋          | 8/11 [00:07<00:02,  1.04it/s]\u001b[A\n",
      " 82%|███████████████████████████████       | 9/11 [00:08<00:01,  1.02it/s]\u001b[A\n",
      " 91%|█████████████████████████████████▋   | 10/11 [00:09<00:00,  1.02it/s]\u001b[A\n",
      "100%|█████████████████████████████████████| 11/11 [00:10<00:00,  1.03it/s]\u001b[A\n"
     ]
    },
    {
     "name": "stdout",
     "output_type": "stream",
     "text": [
      "BC Output shape (1260, 11, 22)\n",
      "Spatial Disaggregation - Monthly (NCLIM ==  12 )\n",
      "SD Type - PREC\n",
      "No of timesteps  1260\n",
      "SD Input shape (1260, 52, 112) (1260, 11, 22)\n"
     ]
    },
    {
     "name": "stderr",
     "output_type": "stream",
     "text": [
      "\n",
      "  0%|                                            | 0/1260 [00:00<?, ?it/s]\u001b[A\n",
      " 18%|█████▋                          | 222/1260 [00:00<00:00, 2214.07it/s]\u001b[A\n",
      " 35%|███████████▎                    | 444/1260 [00:00<00:00, 2201.85it/s]\u001b[A\n",
      " 53%|████████████████▉               | 665/1260 [00:00<00:00, 2199.63it/s]\u001b[A\n",
      " 70%|██████████████████████▍         | 885/1260 [00:00<00:00, 2187.61it/s]\u001b[A\n",
      "100%|███████████████████████████████| 1260/1260 [00:00<00:00, 2183.39it/s]\u001b[A\n",
      "100%|███████████████████████████████████| 100/100 [19:42<00:00, 11.82s/it]\n"
     ]
    },
    {
     "name": "stdout",
     "output_type": "stream",
     "text": [
      "SD Output shape (1260, 52, 112)\n",
      "Finished at: 12/09/2023 20:04:50\n",
      "Experiment Name: US_T_BCSD\n",
      "\n",
      "\n",
      "Started BCSD at: 12/09/2023 20:04:51\n",
      "GCM name :  CanESM2\n",
      "Output path :  /home/vikram/BCSD_data/US_T_BCSD/\n"
     ]
    },
    {
     "name": "stderr",
     "output_type": "stream",
     "text": [
      "  0%|                                             | 0/100 [00:00<?, ?it/s]"
     ]
    },
    {
     "name": "stdout",
     "output_type": "stream",
     "text": [
      "Bias Correction Spatially - monthly:\n",
      "Training years : 105.0 == 105.0\n",
      "Testing years : 105.0\n",
      "Bias correction fucntion : <function normal_quantile_mapping at 0x7f0d34c71dc0>\n",
      "BC Input shape (1260, 11, 22) (1260, 11, 22) (1260, 11, 22)\n",
      "11 22\n"
     ]
    },
    {
     "name": "stderr",
     "output_type": "stream",
     "text": [
      "\n",
      "  0%|                                              | 0/11 [00:00<?, ?it/s]\u001b[A\n",
      " 18%|██████▉                               | 2/11 [00:00<00:00, 19.10it/s]\u001b[A\n",
      " 36%|█████████████▊                        | 4/11 [00:00<00:00, 17.60it/s]\u001b[A\n",
      " 55%|████████████████████▋                 | 6/11 [00:00<00:00, 18.36it/s]\u001b[A\n",
      " 73%|███████████████████████████▋          | 8/11 [00:00<00:00, 18.74it/s]\u001b[A\n",
      "100%|█████████████████████████████████████| 11/11 [00:00<00:00, 18.70it/s]\u001b[A\n"
     ]
    },
    {
     "name": "stdout",
     "output_type": "stream",
     "text": [
      "BC Output shape (1260, 11, 22)\n",
      "Spatial Disaggregation - Monthly (NCLIM ==  12 )\n",
      "SD Type - PREC\n",
      "No of timesteps  1260\n",
      "SD Input shape (1260, 52, 112) (1260, 11, 22)\n"
     ]
    },
    {
     "name": "stderr",
     "output_type": "stream",
     "text": [
      "\n",
      "  0%|                                            | 0/1260 [00:00<?, ?it/s]\u001b[A\n",
      " 18%|█████▋                          | 222/1260 [00:00<00:00, 2213.04it/s]\u001b[A\n",
      " 35%|███████████▎                    | 444/1260 [00:00<00:00, 2185.86it/s]\u001b[A\n",
      " 53%|████████████████▊               | 663/1260 [00:00<00:00, 2173.60it/s]\u001b[A\n",
      " 70%|██████████████████████▎         | 881/1260 [00:00<00:00, 2175.73it/s]\u001b[A\n",
      "100%|███████████████████████████████| 1260/1260 [00:00<00:00, 2172.86it/s]\u001b[A\n",
      "  1%|▎                                    | 1/100 [00:01<03:08,  1.90s/it]"
     ]
    },
    {
     "name": "stdout",
     "output_type": "stream",
     "text": [
      "SD Output shape (1260, 52, 112)\n",
      "Bias Correction Spatially - monthly:\n",
      "Training years : 105.0 == 105.0\n",
      "Testing years : 105.0\n",
      "Bias correction fucntion : <function normal_quantile_mapping at 0x7f0d34c71dc0>\n",
      "BC Input shape (1260, 11, 22) (1260, 11, 22) (1260, 11, 22)\n",
      "11 22\n"
     ]
    },
    {
     "name": "stderr",
     "output_type": "stream",
     "text": [
      "\n",
      "  0%|                                              | 0/11 [00:00<?, ?it/s]\u001b[A\n",
      " 18%|██████▉                               | 2/11 [00:00<00:00, 18.85it/s]\u001b[A\n",
      " 36%|█████████████▊                        | 4/11 [00:00<00:00, 18.82it/s]\u001b[A\n",
      " 55%|████████████████████▋                 | 6/11 [00:00<00:00, 18.97it/s]\u001b[A\n",
      " 73%|███████████████████████████▋          | 8/11 [00:00<00:00, 19.04it/s]\u001b[A\n",
      "100%|█████████████████████████████████████| 11/11 [00:00<00:00, 18.91it/s]\u001b[A\n"
     ]
    },
    {
     "name": "stdout",
     "output_type": "stream",
     "text": [
      "BC Output shape (1260, 11, 22)\n",
      "Spatial Disaggregation - Monthly (NCLIM ==  12 )\n",
      "SD Type - PREC\n",
      "No of timesteps  1260\n",
      "SD Input shape (1260, 52, 112) (1260, 11, 22)\n"
     ]
    },
    {
     "name": "stderr",
     "output_type": "stream",
     "text": [
      "\n",
      "  0%|                                            | 0/1260 [00:00<?, ?it/s]\u001b[A\n",
      " 17%|█████▍                          | 216/1260 [00:00<00:00, 2156.36it/s]\u001b[A\n",
      " 35%|███████████                     | 435/1260 [00:00<00:00, 2172.66it/s]\u001b[A\n",
      " 52%|████████████████▋               | 655/1260 [00:00<00:00, 2184.61it/s]\u001b[A\n",
      " 69%|██████████████████████▏         | 874/1260 [00:00<00:00, 2180.38it/s]\u001b[A\n",
      "100%|███████████████████████████████| 1260/1260 [00:00<00:00, 2175.49it/s]\u001b[A\n",
      "  2%|▋                                    | 2/100 [00:03<03:06,  1.90s/it]"
     ]
    },
    {
     "name": "stdout",
     "output_type": "stream",
     "text": [
      "SD Output shape (1260, 52, 112)\n",
      "Bias Correction Spatially - monthly:\n",
      "Training years : 105.0 == 105.0\n",
      "Testing years : 105.0\n",
      "Bias correction fucntion : <function normal_quantile_mapping at 0x7f0d34c71dc0>\n",
      "BC Input shape (1260, 11, 22) (1260, 11, 22) (1260, 11, 22)\n",
      "11 22\n"
     ]
    },
    {
     "name": "stderr",
     "output_type": "stream",
     "text": [
      "\n",
      "  0%|                                              | 0/11 [00:00<?, ?it/s]\u001b[A\n",
      " 18%|██████▉                               | 2/11 [00:00<00:00, 18.87it/s]\u001b[A\n",
      " 36%|█████████████▊                        | 4/11 [00:00<00:00, 18.23it/s]\u001b[A\n",
      " 55%|████████████████████▋                 | 6/11 [00:00<00:00, 18.44it/s]\u001b[A\n",
      " 73%|███████████████████████████▋          | 8/11 [00:00<00:00, 18.47it/s]\u001b[A\n",
      "100%|█████████████████████████████████████| 11/11 [00:00<00:00, 18.58it/s]\u001b[A\n"
     ]
    },
    {
     "name": "stdout",
     "output_type": "stream",
     "text": [
      "BC Output shape (1260, 11, 22)\n",
      "Spatial Disaggregation - Monthly (NCLIM ==  12 )\n",
      "SD Type - PREC\n",
      "No of timesteps  1260\n",
      "SD Input shape (1260, 52, 112) (1260, 11, 22)\n"
     ]
    },
    {
     "name": "stderr",
     "output_type": "stream",
     "text": [
      "\n",
      "  0%|                                            | 0/1260 [00:00<?, ?it/s]\u001b[A\n",
      " 18%|█████▋                          | 224/1260 [00:00<00:00, 2238.57it/s]\u001b[A\n",
      " 36%|███████████▍                    | 448/1260 [00:00<00:00, 2222.88it/s]\u001b[A\n",
      " 53%|█████████████████               | 671/1260 [00:00<00:00, 2222.40it/s]\u001b[A\n",
      " 71%|██████████████████████▋         | 894/1260 [00:00<00:00, 2224.07it/s]\u001b[A\n",
      "100%|███████████████████████████████| 1260/1260 [00:00<00:00, 2225.93it/s]\u001b[A\n",
      "  3%|█                                    | 3/100 [00:05<03:05,  1.91s/it]"
     ]
    },
    {
     "name": "stdout",
     "output_type": "stream",
     "text": [
      "SD Output shape (1260, 52, 112)\n",
      "Bias Correction Spatially - monthly:\n",
      "Training years : 105.0 == 105.0\n",
      "Testing years : 105.0\n",
      "Bias correction fucntion : <function normal_quantile_mapping at 0x7f0d34c71dc0>\n",
      "BC Input shape (1260, 11, 22) (1260, 11, 22) (1260, 11, 22)\n",
      "11 22\n"
     ]
    },
    {
     "name": "stderr",
     "output_type": "stream",
     "text": [
      "\n",
      "  0%|                                              | 0/11 [00:00<?, ?it/s]\u001b[A\n",
      " 18%|██████▉                               | 2/11 [00:00<00:00, 19.89it/s]\u001b[A\n",
      " 36%|█████████████▊                        | 4/11 [00:00<00:00, 19.71it/s]\u001b[A\n",
      " 55%|████████████████████▋                 | 6/11 [00:00<00:00, 19.70it/s]\u001b[A\n",
      " 73%|███████████████████████████▋          | 8/11 [00:00<00:00, 19.67it/s]\u001b[A\n",
      "100%|█████████████████████████████████████| 11/11 [00:00<00:00, 19.65it/s]\u001b[A\n"
     ]
    },
    {
     "name": "stdout",
     "output_type": "stream",
     "text": [
      "BC Output shape (1260, 11, 22)\n",
      "Spatial Disaggregation - Monthly (NCLIM ==  12 )\n",
      "SD Type - PREC\n",
      "No of timesteps  1260\n",
      "SD Input shape (1260, 52, 112) (1260, 11, 22)\n"
     ]
    },
    {
     "name": "stderr",
     "output_type": "stream",
     "text": [
      "\n",
      "  0%|                                            | 0/1260 [00:00<?, ?it/s]\u001b[A\n",
      " 18%|█████▋                          | 226/1260 [00:00<00:00, 2254.20it/s]\u001b[A\n",
      " 36%|███████████▍                    | 452/1260 [00:00<00:00, 2158.85it/s]\u001b[A\n",
      " 53%|█████████████████               | 672/1260 [00:00<00:00, 2174.22it/s]\u001b[A\n",
      " 71%|██████████████████████▌         | 890/1260 [00:00<00:00, 2150.90it/s]\u001b[A\n",
      "100%|███████████████████████████████| 1260/1260 [00:00<00:00, 2134.49it/s]\u001b[A\n",
      "  4%|█▍                                   | 4/100 [00:07<03:01,  1.89s/it]"
     ]
    },
    {
     "name": "stdout",
     "output_type": "stream",
     "text": [
      "SD Output shape (1260, 52, 112)\n",
      "Bias Correction Spatially - monthly:\n",
      "Training years : 105.0 == 105.0\n",
      "Testing years : 105.0\n",
      "Bias correction fucntion : <function normal_quantile_mapping at 0x7f0d34c71dc0>\n",
      "BC Input shape (1260, 11, 22) (1260, 11, 22) (1260, 11, 22)\n",
      "11 22\n"
     ]
    },
    {
     "name": "stderr",
     "output_type": "stream",
     "text": [
      "\n",
      "  0%|                                              | 0/11 [00:00<?, ?it/s]\u001b[A\n",
      " 18%|██████▉                               | 2/11 [00:00<00:00, 17.83it/s]\u001b[A\n",
      " 36%|█████████████▊                        | 4/11 [00:00<00:00, 18.74it/s]\u001b[A\n",
      " 55%|████████████████████▋                 | 6/11 [00:00<00:00, 19.01it/s]\u001b[A\n",
      " 73%|███████████████████████████▋          | 8/11 [00:00<00:00, 19.19it/s]\u001b[A\n",
      "100%|█████████████████████████████████████| 11/11 [00:00<00:00, 19.09it/s]\u001b[A\n"
     ]
    },
    {
     "name": "stdout",
     "output_type": "stream",
     "text": [
      "BC Output shape (1260, 11, 22)\n",
      "Spatial Disaggregation - Monthly (NCLIM ==  12 )\n",
      "SD Type - PREC\n",
      "No of timesteps  1260\n",
      "SD Input shape (1260, 52, 112) (1260, 11, 22)\n"
     ]
    },
    {
     "name": "stderr",
     "output_type": "stream",
     "text": [
      "\n",
      "  0%|                                            | 0/1260 [00:00<?, ?it/s]\u001b[A\n",
      " 18%|█████▋                          | 223/1260 [00:00<00:00, 2226.98it/s]\u001b[A\n",
      " 35%|███████████▎                    | 446/1260 [00:00<00:00, 2224.81it/s]\u001b[A\n",
      " 53%|████████████████▉               | 669/1260 [00:00<00:00, 2204.16it/s]\u001b[A\n",
      " 71%|██████████████████████▌         | 890/1260 [00:00<00:00, 2196.40it/s]\u001b[A\n",
      "100%|███████████████████████████████| 1260/1260 [00:00<00:00, 2196.34it/s]\u001b[A\n",
      "  5%|█▊                                   | 5/100 [00:09<02:59,  1.89s/it]"
     ]
    },
    {
     "name": "stdout",
     "output_type": "stream",
     "text": [
      "SD Output shape (1260, 52, 112)\n",
      "Bias Correction Spatially - monthly:\n",
      "Training years : 105.0 == 105.0\n",
      "Testing years : 105.0\n",
      "Bias correction fucntion : <function normal_quantile_mapping at 0x7f0d34c71dc0>\n",
      "BC Input shape (1260, 11, 22) (1260, 11, 22) (1260, 11, 22)\n",
      "11 22\n"
     ]
    },
    {
     "name": "stderr",
     "output_type": "stream",
     "text": [
      "\n",
      "  0%|                                              | 0/11 [00:00<?, ?it/s]\u001b[A\n",
      " 18%|██████▉                               | 2/11 [00:00<00:00, 11.51it/s]\u001b[A\n",
      " 36%|█████████████▊                        | 4/11 [00:00<00:00, 15.13it/s]\u001b[A\n",
      " 55%|████████████████████▋                 | 6/11 [00:00<00:00, 16.85it/s]\u001b[A\n",
      " 73%|███████████████████████████▋          | 8/11 [00:00<00:00, 17.81it/s]\u001b[A\n",
      "100%|█████████████████████████████████████| 11/11 [00:00<00:00, 17.23it/s]\u001b[A\n"
     ]
    },
    {
     "name": "stdout",
     "output_type": "stream",
     "text": [
      "BC Output shape (1260, 11, 22)\n",
      "Spatial Disaggregation - Monthly (NCLIM ==  12 )\n",
      "SD Type - PREC\n",
      "No of timesteps  1260\n",
      "SD Input shape (1260, 52, 112) (1260, 11, 22)\n"
     ]
    },
    {
     "name": "stderr",
     "output_type": "stream",
     "text": [
      "\n",
      "  0%|                                            | 0/1260 [00:00<?, ?it/s]\u001b[A\n",
      " 18%|█████▋                          | 223/1260 [00:00<00:00, 2223.44it/s]\u001b[A\n",
      " 35%|███████████▎                    | 446/1260 [00:00<00:00, 2198.98it/s]\u001b[A\n",
      " 53%|████████████████▉               | 666/1260 [00:00<00:00, 2178.51it/s]\u001b[A\n",
      " 70%|██████████████████████▌         | 887/1260 [00:00<00:00, 2187.72it/s]\u001b[A\n",
      "100%|███████████████████████████████| 1260/1260 [00:00<00:00, 2189.22it/s]\u001b[A\n",
      "  6%|██▏                                  | 6/100 [00:11<03:00,  1.92s/it]"
     ]
    },
    {
     "name": "stdout",
     "output_type": "stream",
     "text": [
      "SD Output shape (1260, 52, 112)\n",
      "Bias Correction Spatially - monthly:\n",
      "Training years : 105.0 == 105.0\n",
      "Testing years : 105.0\n",
      "Bias correction fucntion : <function normal_quantile_mapping at 0x7f0d34c71dc0>\n",
      "BC Input shape (1260, 11, 22) (1260, 11, 22) (1260, 11, 22)\n",
      "11 22\n"
     ]
    },
    {
     "name": "stderr",
     "output_type": "stream",
     "text": [
      "\n",
      "  0%|                                              | 0/11 [00:00<?, ?it/s]\u001b[A\n",
      " 18%|██████▉                               | 2/11 [00:00<00:00, 18.75it/s]\u001b[A\n",
      " 36%|█████████████▊                        | 4/11 [00:00<00:00, 19.03it/s]\u001b[A\n",
      " 55%|████████████████████▋                 | 6/11 [00:00<00:00, 19.15it/s]\u001b[A\n",
      " 73%|███████████████████████████▋          | 8/11 [00:00<00:00, 19.24it/s]\u001b[A\n",
      "100%|█████████████████████████████████████| 11/11 [00:00<00:00, 19.12it/s]\u001b[A\n"
     ]
    },
    {
     "name": "stdout",
     "output_type": "stream",
     "text": [
      "BC Output shape (1260, 11, 22)\n",
      "Spatial Disaggregation - Monthly (NCLIM ==  12 )\n",
      "SD Type - PREC\n",
      "No of timesteps  1260\n",
      "SD Input shape (1260, 52, 112) (1260, 11, 22)\n"
     ]
    },
    {
     "name": "stderr",
     "output_type": "stream",
     "text": [
      "\n",
      "  0%|                                            | 0/1260 [00:00<?, ?it/s]\u001b[A\n",
      " 18%|█████▋                          | 222/1260 [00:00<00:00, 2214.27it/s]\u001b[A\n",
      " 35%|███████████▎                    | 444/1260 [00:00<00:00, 2203.01it/s]\u001b[A\n",
      " 53%|████████████████▉               | 665/1260 [00:00<00:00, 2198.37it/s]\u001b[A\n",
      " 70%|██████████████████████▌         | 887/1260 [00:00<00:00, 2205.12it/s]\u001b[A\n",
      "100%|███████████████████████████████| 1260/1260 [00:00<00:00, 2196.71it/s]\u001b[A\n",
      "  7%|██▌                                  | 7/100 [00:13<02:57,  1.90s/it]"
     ]
    },
    {
     "name": "stdout",
     "output_type": "stream",
     "text": [
      "SD Output shape (1260, 52, 112)\n",
      "Bias Correction Spatially - monthly:\n",
      "Training years : 105.0 == 105.0\n",
      "Testing years : 105.0\n",
      "Bias correction fucntion : <function normal_quantile_mapping at 0x7f0d34c71dc0>\n",
      "BC Input shape (1260, 11, 22) (1260, 11, 22) (1260, 11, 22)\n",
      "11 22\n"
     ]
    },
    {
     "name": "stderr",
     "output_type": "stream",
     "text": [
      "\n",
      "  0%|                                              | 0/11 [00:00<?, ?it/s]\u001b[A\n",
      " 18%|██████▉                               | 2/11 [00:00<00:00, 18.88it/s]\u001b[A\n",
      " 36%|█████████████▊                        | 4/11 [00:00<00:00, 18.33it/s]\u001b[A\n",
      " 55%|████████████████████▋                 | 6/11 [00:00<00:00, 18.88it/s]\u001b[A\n",
      " 73%|███████████████████████████▋          | 8/11 [00:00<00:00, 19.00it/s]\u001b[A\n",
      "100%|█████████████████████████████████████| 11/11 [00:00<00:00, 18.96it/s]\u001b[A\n"
     ]
    },
    {
     "name": "stdout",
     "output_type": "stream",
     "text": [
      "BC Output shape (1260, 11, 22)\n",
      "Spatial Disaggregation - Monthly (NCLIM ==  12 )\n",
      "SD Type - PREC\n",
      "No of timesteps  1260\n",
      "SD Input shape (1260, 52, 112) (1260, 11, 22)\n"
     ]
    },
    {
     "name": "stderr",
     "output_type": "stream",
     "text": [
      "\n",
      "  0%|                                            | 0/1260 [00:00<?, ?it/s]\u001b[A\n",
      " 18%|█████▌                          | 221/1260 [00:00<00:00, 2207.73it/s]\u001b[A\n",
      " 35%|███████████▏                    | 442/1260 [00:00<00:00, 2193.25it/s]\u001b[A\n",
      " 53%|████████████████▊               | 663/1260 [00:00<00:00, 2199.34it/s]\u001b[A\n",
      " 70%|██████████████████████▍         | 883/1260 [00:00<00:00, 2181.13it/s]\u001b[A\n",
      "100%|███████████████████████████████| 1260/1260 [00:00<00:00, 2135.04it/s]\u001b[A\n",
      "  8%|██▉                                  | 8/100 [00:15<02:54,  1.90s/it]"
     ]
    },
    {
     "name": "stdout",
     "output_type": "stream",
     "text": [
      "SD Output shape (1260, 52, 112)\n",
      "Bias Correction Spatially - monthly:\n",
      "Training years : 105.0 == 105.0\n",
      "Testing years : 105.0\n",
      "Bias correction fucntion : <function normal_quantile_mapping at 0x7f0d34c71dc0>\n",
      "BC Input shape (1260, 11, 22) (1260, 11, 22) (1260, 11, 22)\n",
      "11 22\n"
     ]
    },
    {
     "name": "stderr",
     "output_type": "stream",
     "text": [
      "\n",
      "  0%|                                              | 0/11 [00:00<?, ?it/s]\u001b[A\n",
      " 18%|██████▉                               | 2/11 [00:00<00:00, 18.97it/s]\u001b[A\n",
      " 36%|█████████████▊                        | 4/11 [00:00<00:00, 19.10it/s]\u001b[A\n",
      " 55%|████████████████████▋                 | 6/11 [00:00<00:00, 18.75it/s]\u001b[A\n",
      " 73%|███████████████████████████▋          | 8/11 [00:00<00:00, 19.09it/s]\u001b[A\n",
      "100%|█████████████████████████████████████| 11/11 [00:00<00:00, 18.97it/s]\u001b[A\n"
     ]
    },
    {
     "name": "stdout",
     "output_type": "stream",
     "text": [
      "BC Output shape (1260, 11, 22)\n",
      "Spatial Disaggregation - Monthly (NCLIM ==  12 )\n",
      "SD Type - PREC\n",
      "No of timesteps  1260\n",
      "SD Input shape (1260, 52, 112) (1260, 11, 22)\n"
     ]
    },
    {
     "name": "stderr",
     "output_type": "stream",
     "text": [
      "\n",
      "  0%|                                            | 0/1260 [00:00<?, ?it/s]\u001b[A\n",
      " 18%|█████▋                          | 222/1260 [00:00<00:00, 2214.11it/s]\u001b[A\n",
      " 35%|███████████▎                    | 444/1260 [00:00<00:00, 2197.04it/s]\u001b[A\n",
      " 53%|████████████████▊               | 664/1260 [00:00<00:00, 2193.21it/s]\u001b[A\n",
      " 70%|██████████████████████▍         | 884/1260 [00:00<00:00, 2191.62it/s]\u001b[A\n",
      "100%|███████████████████████████████| 1260/1260 [00:00<00:00, 2186.77it/s]\u001b[A\n",
      "  9%|███▎                                 | 9/100 [00:17<02:52,  1.90s/it]"
     ]
    },
    {
     "name": "stdout",
     "output_type": "stream",
     "text": [
      "SD Output shape (1260, 52, 112)\n",
      "Bias Correction Spatially - monthly:\n",
      "Training years : 105.0 == 105.0\n",
      "Testing years : 105.0\n",
      "Bias correction fucntion : <function normal_quantile_mapping at 0x7f0d34c71dc0>\n",
      "BC Input shape (1260, 11, 22) (1260, 11, 22) (1260, 11, 22)\n",
      "11 22\n"
     ]
    },
    {
     "name": "stderr",
     "output_type": "stream",
     "text": [
      "\n",
      "  0%|                                              | 0/11 [00:00<?, ?it/s]\u001b[A\n",
      " 18%|██████▉                               | 2/11 [00:00<00:00, 16.11it/s]\u001b[A\n",
      " 36%|█████████████▊                        | 4/11 [00:00<00:00, 17.92it/s]\u001b[A\n",
      " 55%|████████████████████▋                 | 6/11 [00:00<00:00, 18.66it/s]\u001b[A\n",
      " 73%|███████████████████████████▋          | 8/11 [00:00<00:00, 19.01it/s]\u001b[A\n",
      "100%|█████████████████████████████████████| 11/11 [00:00<00:00, 18.75it/s]\u001b[A\n"
     ]
    },
    {
     "name": "stdout",
     "output_type": "stream",
     "text": [
      "BC Output shape (1260, 11, 22)\n",
      "Spatial Disaggregation - Monthly (NCLIM ==  12 )\n",
      "SD Type - PREC\n",
      "No of timesteps  1260\n",
      "SD Input shape (1260, 52, 112) (1260, 11, 22)\n"
     ]
    },
    {
     "name": "stderr",
     "output_type": "stream",
     "text": [
      "\n",
      "  0%|                                            | 0/1260 [00:00<?, ?it/s]\u001b[A\n",
      " 17%|█████▍                          | 214/1260 [00:00<00:00, 2137.32it/s]\u001b[A\n",
      " 34%|██████████▊                     | 428/1260 [00:00<00:00, 2121.09it/s]\u001b[A\n",
      " 51%|████████████████▎               | 641/1260 [00:00<00:00, 1998.89it/s]\u001b[A\n",
      " 68%|█████████████████████▊          | 859/1260 [00:00<00:00, 2065.63it/s]\u001b[A\n",
      "100%|███████████████████████████████| 1260/1260 [00:00<00:00, 2093.02it/s]\u001b[A\n",
      " 10%|███▌                                | 10/100 [00:19<02:51,  1.90s/it]"
     ]
    },
    {
     "name": "stdout",
     "output_type": "stream",
     "text": [
      "SD Output shape (1260, 52, 112)\n",
      "Bias Correction Spatially - monthly:\n",
      "Training years : 105.0 == 105.0\n",
      "Testing years : 105.0\n",
      "Bias correction fucntion : <function normal_quantile_mapping at 0x7f0d34c71dc0>\n",
      "BC Input shape (1260, 11, 22) (1260, 11, 22) (1260, 11, 22)\n",
      "11 22\n"
     ]
    },
    {
     "name": "stderr",
     "output_type": "stream",
     "text": [
      "\n",
      "  0%|                                              | 0/11 [00:00<?, ?it/s]\u001b[A\n",
      " 18%|██████▉                               | 2/11 [00:00<00:00, 19.57it/s]\u001b[A\n",
      " 36%|█████████████▊                        | 4/11 [00:00<00:00, 19.41it/s]\u001b[A\n",
      " 55%|████████████████████▋                 | 6/11 [00:00<00:00, 19.34it/s]\u001b[A\n",
      " 73%|███████████████████████████▋          | 8/11 [00:00<00:00, 19.15it/s]\u001b[A\n",
      "100%|█████████████████████████████████████| 11/11 [00:00<00:00, 17.82it/s]\u001b[A\n"
     ]
    },
    {
     "name": "stdout",
     "output_type": "stream",
     "text": [
      "BC Output shape (1260, 11, 22)\n",
      "Spatial Disaggregation - Monthly (NCLIM ==  12 )\n",
      "SD Type - PREC\n",
      "No of timesteps  1260\n",
      "SD Input shape (1260, 52, 112) (1260, 11, 22)\n"
     ]
    },
    {
     "name": "stderr",
     "output_type": "stream",
     "text": [
      "\n",
      "  0%|                                            | 0/1260 [00:00<?, ?it/s]\u001b[A\n",
      " 17%|█████▌                          | 220/1260 [00:00<00:00, 2198.08it/s]\u001b[A\n",
      " 35%|███████████▏                    | 441/1260 [00:00<00:00, 2202.11it/s]\u001b[A\n",
      " 53%|████████████████▊               | 663/1260 [00:00<00:00, 2209.74it/s]\u001b[A\n",
      " 70%|██████████████████████▍         | 884/1260 [00:00<00:00, 2201.57it/s]\u001b[A\n",
      "100%|███████████████████████████████| 1260/1260 [00:00<00:00, 2179.66it/s]\u001b[A\n",
      " 11%|███▉                                | 11/100 [00:20<02:50,  1.91s/it]"
     ]
    },
    {
     "name": "stdout",
     "output_type": "stream",
     "text": [
      "SD Output shape (1260, 52, 112)\n",
      "Bias Correction Spatially - monthly:\n",
      "Training years : 105.0 == 105.0\n",
      "Testing years : 105.0\n",
      "Bias correction fucntion : <function normal_quantile_mapping at 0x7f0d34c71dc0>\n",
      "BC Input shape (1260, 11, 22) (1260, 11, 22) (1260, 11, 22)\n",
      "11 22\n"
     ]
    },
    {
     "name": "stderr",
     "output_type": "stream",
     "text": [
      "\n",
      "  0%|                                              | 0/11 [00:00<?, ?it/s]\u001b[A\n",
      " 18%|██████▉                               | 2/11 [00:00<00:00, 19.38it/s]\u001b[A\n",
      " 36%|█████████████▊                        | 4/11 [00:00<00:00, 19.08it/s]\u001b[A\n",
      " 55%|████████████████████▋                 | 6/11 [00:00<00:00, 19.13it/s]\u001b[A\n",
      " 73%|███████████████████████████▋          | 8/11 [00:00<00:00, 19.13it/s]\u001b[A\n",
      "100%|█████████████████████████████████████| 11/11 [00:00<00:00, 19.09it/s]\u001b[A\n"
     ]
    },
    {
     "name": "stdout",
     "output_type": "stream",
     "text": [
      "BC Output shape (1260, 11, 22)\n",
      "Spatial Disaggregation - Monthly (NCLIM ==  12 )\n",
      "SD Type - PREC\n",
      "No of timesteps  1260\n",
      "SD Input shape (1260, 52, 112) (1260, 11, 22)\n"
     ]
    },
    {
     "name": "stderr",
     "output_type": "stream",
     "text": [
      "\n",
      "  0%|                                            | 0/1260 [00:00<?, ?it/s]\u001b[A\n",
      " 17%|█████▎                          | 211/1260 [00:00<00:00, 2105.97it/s]\u001b[A\n",
      " 34%|██████████▋                     | 423/1260 [00:00<00:00, 2109.13it/s]\u001b[A\n",
      " 51%|████████████████▎               | 641/1260 [00:00<00:00, 2137.07it/s]\u001b[A\n",
      " 68%|█████████████████████▊          | 859/1260 [00:00<00:00, 2151.77it/s]\u001b[A\n",
      "100%|███████████████████████████████| 1260/1260 [00:00<00:00, 2126.80it/s]\u001b[A\n",
      " 12%|████▎                               | 12/100 [00:22<02:47,  1.91s/it]"
     ]
    },
    {
     "name": "stdout",
     "output_type": "stream",
     "text": [
      "SD Output shape (1260, 52, 112)\n",
      "Bias Correction Spatially - monthly:\n",
      "Training years : 105.0 == 105.0\n",
      "Testing years : 105.0\n",
      "Bias correction fucntion : <function normal_quantile_mapping at 0x7f0d34c71dc0>\n",
      "BC Input shape (1260, 11, 22) (1260, 11, 22) (1260, 11, 22)\n",
      "11 22\n"
     ]
    },
    {
     "name": "stderr",
     "output_type": "stream",
     "text": [
      "\n",
      "  0%|                                              | 0/11 [00:00<?, ?it/s]\u001b[A\n",
      " 18%|██████▉                               | 2/11 [00:00<00:00, 18.37it/s]\u001b[A\n",
      " 36%|█████████████▊                        | 4/11 [00:00<00:00, 18.93it/s]\u001b[A\n",
      " 55%|████████████████████▋                 | 6/11 [00:00<00:00, 19.17it/s]\u001b[A\n",
      " 73%|███████████████████████████▋          | 8/11 [00:00<00:00, 19.24it/s]\u001b[A\n",
      "100%|█████████████████████████████████████| 11/11 [00:00<00:00, 19.15it/s]\u001b[A\n"
     ]
    },
    {
     "name": "stdout",
     "output_type": "stream",
     "text": [
      "BC Output shape (1260, 11, 22)\n",
      "Spatial Disaggregation - Monthly (NCLIM ==  12 )\n",
      "SD Type - PREC\n",
      "No of timesteps  1260\n",
      "SD Input shape (1260, 52, 112) (1260, 11, 22)\n"
     ]
    },
    {
     "name": "stderr",
     "output_type": "stream",
     "text": [
      "\n",
      "  0%|                                            | 0/1260 [00:00<?, ?it/s]\u001b[A\n",
      " 17%|█████▌                          | 220/1260 [00:00<00:00, 2197.52it/s]\u001b[A\n",
      " 35%|███████████▏                    | 440/1260 [00:00<00:00, 2104.17it/s]\u001b[A\n",
      " 52%|████████████████▋               | 657/1260 [00:00<00:00, 2127.68it/s]\u001b[A\n",
      " 69%|██████████████████████▏         | 874/1260 [00:00<00:00, 2141.91it/s]\u001b[A\n",
      "100%|███████████████████████████████| 1260/1260 [00:00<00:00, 2147.63it/s]\u001b[A\n",
      " 13%|████▋                               | 13/100 [00:24<02:45,  1.90s/it]"
     ]
    },
    {
     "name": "stdout",
     "output_type": "stream",
     "text": [
      "SD Output shape (1260, 52, 112)\n",
      "Bias Correction Spatially - monthly:\n",
      "Training years : 105.0 == 105.0\n",
      "Testing years : 105.0\n",
      "Bias correction fucntion : <function normal_quantile_mapping at 0x7f0d34c71dc0>\n",
      "BC Input shape (1260, 11, 22) (1260, 11, 22) (1260, 11, 22)\n",
      "11 22\n"
     ]
    },
    {
     "name": "stderr",
     "output_type": "stream",
     "text": [
      "\n",
      "  0%|                                              | 0/11 [00:00<?, ?it/s]\u001b[A\n",
      " 18%|██████▉                               | 2/11 [00:00<00:00, 19.58it/s]\u001b[A\n",
      " 36%|█████████████▊                        | 4/11 [00:00<00:00, 19.41it/s]\u001b[A\n",
      " 55%|████████████████████▋                 | 6/11 [00:00<00:00, 18.66it/s]\u001b[A\n",
      " 73%|███████████████████████████▋          | 8/11 [00:00<00:00, 18.56it/s]\u001b[A\n",
      "100%|█████████████████████████████████████| 11/11 [00:00<00:00, 18.81it/s]\u001b[A\n"
     ]
    },
    {
     "name": "stdout",
     "output_type": "stream",
     "text": [
      "BC Output shape (1260, 11, 22)\n",
      "Spatial Disaggregation - Monthly (NCLIM ==  12 )\n",
      "SD Type - PREC\n",
      "No of timesteps  1260\n",
      "SD Input shape (1260, 52, 112) (1260, 11, 22)\n"
     ]
    },
    {
     "name": "stderr",
     "output_type": "stream",
     "text": [
      "\n",
      "  0%|                                            | 0/1260 [00:00<?, ?it/s]\u001b[A\n",
      " 17%|█████▌                          | 218/1260 [00:00<00:00, 2176.66it/s]\u001b[A\n",
      " 35%|███████████                     | 436/1260 [00:00<00:00, 2136.27it/s]\u001b[A\n",
      " 52%|████████████████▌               | 654/1260 [00:00<00:00, 2154.85it/s]\u001b[A\n",
      " 69%|██████████████████████          | 870/1260 [00:00<00:00, 2156.67it/s]\u001b[A\n",
      "100%|███████████████████████████████| 1260/1260 [00:00<00:00, 2162.09it/s]\u001b[A\n",
      " 14%|█████                               | 14/100 [00:26<02:43,  1.90s/it]"
     ]
    },
    {
     "name": "stdout",
     "output_type": "stream",
     "text": [
      "SD Output shape (1260, 52, 112)\n",
      "Bias Correction Spatially - monthly:\n",
      "Training years : 105.0 == 105.0\n",
      "Testing years : 105.0\n",
      "Bias correction fucntion : <function normal_quantile_mapping at 0x7f0d34c71dc0>\n",
      "BC Input shape (1260, 11, 22) (1260, 11, 22) (1260, 11, 22)\n",
      "11 22\n"
     ]
    },
    {
     "name": "stderr",
     "output_type": "stream",
     "text": [
      "\n",
      "  0%|                                              | 0/11 [00:00<?, ?it/s]\u001b[A\n",
      " 18%|██████▉                               | 2/11 [00:00<00:00, 18.98it/s]\u001b[A\n",
      " 36%|█████████████▊                        | 4/11 [00:00<00:00, 18.40it/s]\u001b[A\n",
      " 55%|████████████████████▋                 | 6/11 [00:00<00:00, 18.70it/s]\u001b[A\n",
      " 73%|███████████████████████████▋          | 8/11 [00:00<00:00, 18.84it/s]\u001b[A\n",
      "100%|█████████████████████████████████████| 11/11 [00:00<00:00, 18.34it/s]\u001b[A\n"
     ]
    },
    {
     "name": "stdout",
     "output_type": "stream",
     "text": [
      "BC Output shape (1260, 11, 22)\n",
      "Spatial Disaggregation - Monthly (NCLIM ==  12 )\n",
      "SD Type - PREC\n",
      "No of timesteps  1260\n",
      "SD Input shape (1260, 52, 112) (1260, 11, 22)\n"
     ]
    },
    {
     "name": "stderr",
     "output_type": "stream",
     "text": [
      "\n",
      "  0%|                                            | 0/1260 [00:00<?, ?it/s]\u001b[A\n",
      " 17%|█████▍                          | 216/1260 [00:00<00:00, 2149.67it/s]\u001b[A\n",
      " 34%|██████████▉                     | 431/1260 [00:00<00:00, 2123.83it/s]\u001b[A\n",
      " 51%|████████████████▎               | 644/1260 [00:00<00:00, 2050.46it/s]\u001b[A\n",
      " 68%|█████████████████████▊          | 861/1260 [00:00<00:00, 2092.69it/s]\u001b[A\n",
      "100%|███████████████████████████████| 1260/1260 [00:00<00:00, 2112.40it/s]\u001b[A\n",
      " 15%|█████▍                              | 15/100 [00:28<02:42,  1.91s/it]"
     ]
    },
    {
     "name": "stdout",
     "output_type": "stream",
     "text": [
      "SD Output shape (1260, 52, 112)\n",
      "Bias Correction Spatially - monthly:\n",
      "Training years : 105.0 == 105.0\n",
      "Testing years : 105.0\n",
      "Bias correction fucntion : <function normal_quantile_mapping at 0x7f0d34c71dc0>\n",
      "BC Input shape (1260, 11, 22) (1260, 11, 22) (1260, 11, 22)\n",
      "11 22\n"
     ]
    },
    {
     "name": "stderr",
     "output_type": "stream",
     "text": [
      "\n",
      "  0%|                                              | 0/11 [00:00<?, ?it/s]\u001b[A\n",
      " 18%|██████▉                               | 2/11 [00:00<00:00, 19.45it/s]\u001b[A\n",
      " 36%|█████████████▊                        | 4/11 [00:00<00:00, 19.16it/s]\u001b[A\n",
      " 55%|████████████████████▋                 | 6/11 [00:00<00:00, 16.48it/s]\u001b[A\n",
      " 73%|███████████████████████████▋          | 8/11 [00:00<00:00, 17.52it/s]\u001b[A\n",
      "100%|█████████████████████████████████████| 11/11 [00:00<00:00, 18.09it/s]\u001b[A\n"
     ]
    },
    {
     "name": "stdout",
     "output_type": "stream",
     "text": [
      "BC Output shape (1260, 11, 22)\n",
      "Spatial Disaggregation - Monthly (NCLIM ==  12 )\n",
      "SD Type - PREC\n",
      "No of timesteps  1260\n",
      "SD Input shape (1260, 52, 112) (1260, 11, 22)\n"
     ]
    },
    {
     "name": "stderr",
     "output_type": "stream",
     "text": [
      "\n",
      "  0%|                                            | 0/1260 [00:00<?, ?it/s]\u001b[A\n",
      " 18%|█████▋                          | 223/1260 [00:00<00:00, 2222.25it/s]\u001b[A\n",
      " 35%|███████████▎                    | 446/1260 [00:00<00:00, 2209.70it/s]\u001b[A\n",
      " 53%|████████████████▉               | 667/1260 [00:00<00:00, 2149.41it/s]\u001b[A\n",
      " 70%|██████████████████████▍         | 883/1260 [00:00<00:00, 2121.49it/s]\u001b[A\n",
      "100%|███████████████████████████████| 1260/1260 [00:00<00:00, 2125.47it/s]\u001b[A\n",
      " 16%|█████▊                              | 16/100 [00:30<02:41,  1.92s/it]"
     ]
    },
    {
     "name": "stdout",
     "output_type": "stream",
     "text": [
      "SD Output shape (1260, 52, 112)\n",
      "Bias Correction Spatially - monthly:\n",
      "Training years : 105.0 == 105.0\n",
      "Testing years : 105.0\n",
      "Bias correction fucntion : <function normal_quantile_mapping at 0x7f0d34c71dc0>\n",
      "BC Input shape (1260, 11, 22) (1260, 11, 22) (1260, 11, 22)\n",
      "11 22\n"
     ]
    },
    {
     "name": "stderr",
     "output_type": "stream",
     "text": [
      "\n",
      "  0%|                                              | 0/11 [00:00<?, ?it/s]\u001b[A\n",
      " 18%|██████▉                               | 2/11 [00:00<00:00, 18.69it/s]\u001b[A\n",
      " 36%|█████████████▊                        | 4/11 [00:00<00:00, 18.48it/s]\u001b[A\n",
      " 55%|████████████████████▋                 | 6/11 [00:00<00:00, 18.77it/s]\u001b[A\n",
      " 73%|███████████████████████████▋          | 8/11 [00:00<00:00, 18.89it/s]\u001b[A\n",
      "100%|█████████████████████████████████████| 11/11 [00:00<00:00, 18.77it/s]\u001b[A\n"
     ]
    },
    {
     "name": "stdout",
     "output_type": "stream",
     "text": [
      "BC Output shape (1260, 11, 22)\n",
      "Spatial Disaggregation - Monthly (NCLIM ==  12 )\n",
      "SD Type - PREC\n",
      "No of timesteps  1260\n",
      "SD Input shape (1260, 52, 112) (1260, 11, 22)\n"
     ]
    },
    {
     "name": "stderr",
     "output_type": "stream",
     "text": [
      "\n",
      "  0%|                                            | 0/1260 [00:00<?, ?it/s]\u001b[A\n",
      " 18%|█████▌                          | 221/1260 [00:00<00:00, 2202.84it/s]\u001b[A\n",
      " 35%|███████████▏                    | 442/1260 [00:00<00:00, 2038.18it/s]\u001b[A\n",
      " 52%|████████████████▊               | 660/1260 [00:00<00:00, 2096.61it/s]\u001b[A\n",
      " 69%|██████████████████████▏         | 872/1260 [00:00<00:00, 2103.06it/s]\u001b[A\n",
      "100%|███████████████████████████████| 1260/1260 [00:00<00:00, 2131.09it/s]\u001b[A\n",
      " 17%|██████                              | 17/100 [00:32<02:39,  1.92s/it]"
     ]
    },
    {
     "name": "stdout",
     "output_type": "stream",
     "text": [
      "SD Output shape (1260, 52, 112)\n",
      "Bias Correction Spatially - monthly:\n",
      "Training years : 105.0 == 105.0\n",
      "Testing years : 105.0\n",
      "Bias correction fucntion : <function normal_quantile_mapping at 0x7f0d34c71dc0>\n",
      "BC Input shape (1260, 11, 22) (1260, 11, 22) (1260, 11, 22)\n",
      "11 22\n"
     ]
    },
    {
     "name": "stderr",
     "output_type": "stream",
     "text": [
      "\n",
      "  0%|                                              | 0/11 [00:00<?, ?it/s]\u001b[A\n",
      " 18%|██████▉                               | 2/11 [00:00<00:00, 19.47it/s]\u001b[A\n",
      " 36%|█████████████▊                        | 4/11 [00:00<00:00, 19.43it/s]\u001b[A\n",
      " 55%|████████████████████▋                 | 6/11 [00:00<00:00, 18.82it/s]\u001b[A\n",
      " 73%|███████████████████████████▋          | 8/11 [00:00<00:00, 18.98it/s]\u001b[A\n",
      "100%|█████████████████████████████████████| 11/11 [00:00<00:00, 19.04it/s]\u001b[A\n"
     ]
    },
    {
     "name": "stdout",
     "output_type": "stream",
     "text": [
      "BC Output shape (1260, 11, 22)\n",
      "Spatial Disaggregation - Monthly (NCLIM ==  12 )\n",
      "SD Type - PREC\n",
      "No of timesteps  1260\n",
      "SD Input shape (1260, 52, 112) (1260, 11, 22)\n"
     ]
    },
    {
     "name": "stderr",
     "output_type": "stream",
     "text": [
      "\n",
      "  0%|                                            | 0/1260 [00:00<?, ?it/s]\u001b[A\n",
      " 18%|█████▌                          | 221/1260 [00:00<00:00, 2205.70it/s]\u001b[A\n",
      " 35%|███████████▏                    | 442/1260 [00:00<00:00, 2173.52it/s]\u001b[A\n",
      " 53%|████████████████▊               | 664/1260 [00:00<00:00, 2190.88it/s]\u001b[A\n",
      " 70%|██████████████████████▍         | 884/1260 [00:00<00:00, 2178.33it/s]\u001b[A\n",
      "100%|███████████████████████████████| 1260/1260 [00:00<00:00, 2121.52it/s]\u001b[A\n",
      " 18%|██████▍                             | 18/100 [00:34<02:37,  1.92s/it]"
     ]
    },
    {
     "name": "stdout",
     "output_type": "stream",
     "text": [
      "SD Output shape (1260, 52, 112)\n",
      "Bias Correction Spatially - monthly:\n",
      "Training years : 105.0 == 105.0\n",
      "Testing years : 105.0\n",
      "Bias correction fucntion : <function normal_quantile_mapping at 0x7f0d34c71dc0>\n",
      "BC Input shape (1260, 11, 22) (1260, 11, 22) (1260, 11, 22)\n",
      "11 22\n"
     ]
    },
    {
     "name": "stderr",
     "output_type": "stream",
     "text": [
      "\n",
      "  0%|                                              | 0/11 [00:00<?, ?it/s]\u001b[A\n",
      " 18%|██████▉                               | 2/11 [00:00<00:00, 19.11it/s]\u001b[A\n",
      " 36%|█████████████▊                        | 4/11 [00:00<00:00, 19.10it/s]\u001b[A\n",
      " 55%|████████████████████▋                 | 6/11 [00:00<00:00, 19.07it/s]\u001b[A\n",
      " 73%|███████████████████████████▋          | 8/11 [00:00<00:00, 18.99it/s]\u001b[A\n",
      "100%|█████████████████████████████████████| 11/11 [00:00<00:00, 18.99it/s]\u001b[A\n"
     ]
    },
    {
     "name": "stdout",
     "output_type": "stream",
     "text": [
      "BC Output shape (1260, 11, 22)\n",
      "Spatial Disaggregation - Monthly (NCLIM ==  12 )\n",
      "SD Type - PREC\n",
      "No of timesteps  1260\n",
      "SD Input shape (1260, 52, 112) (1260, 11, 22)\n"
     ]
    },
    {
     "name": "stderr",
     "output_type": "stream",
     "text": [
      "\n",
      "  0%|                                            | 0/1260 [00:00<?, ?it/s]\u001b[A\n",
      " 17%|█████▌                          | 217/1260 [00:00<00:00, 2167.48it/s]\u001b[A\n",
      " 34%|███████████                     | 434/1260 [00:00<00:00, 2160.33it/s]\u001b[A\n",
      " 52%|████████████████▌               | 651/1260 [00:00<00:00, 2158.50it/s]\u001b[A\n",
      " 69%|██████████████████████          | 867/1260 [00:00<00:00, 2158.09it/s]\u001b[A\n",
      "100%|███████████████████████████████| 1260/1260 [00:00<00:00, 2134.82it/s]\u001b[A\n",
      " 19%|██████▊                             | 19/100 [00:36<02:35,  1.92s/it]"
     ]
    },
    {
     "name": "stdout",
     "output_type": "stream",
     "text": [
      "SD Output shape (1260, 52, 112)\n",
      "Bias Correction Spatially - monthly:\n",
      "Training years : 105.0 == 105.0\n",
      "Testing years : 105.0\n",
      "Bias correction fucntion : <function normal_quantile_mapping at 0x7f0d34c71dc0>\n",
      "BC Input shape (1260, 11, 22) (1260, 11, 22) (1260, 11, 22)\n",
      "11 22\n"
     ]
    },
    {
     "name": "stderr",
     "output_type": "stream",
     "text": [
      "\n",
      "  0%|                                              | 0/11 [00:00<?, ?it/s]\u001b[A\n",
      " 18%|██████▉                               | 2/11 [00:00<00:00, 16.74it/s]\u001b[A\n",
      " 36%|█████████████▊                        | 4/11 [00:00<00:00, 17.52it/s]\u001b[A\n",
      " 55%|████████████████████▋                 | 6/11 [00:00<00:00, 18.00it/s]\u001b[A\n",
      " 73%|███████████████████████████▋          | 8/11 [00:00<00:00, 18.31it/s]\u001b[A\n",
      "100%|█████████████████████████████████████| 11/11 [00:00<00:00, 17.91it/s]\u001b[A\n"
     ]
    },
    {
     "name": "stdout",
     "output_type": "stream",
     "text": [
      "BC Output shape (1260, 11, 22)\n",
      "Spatial Disaggregation - Monthly (NCLIM ==  12 )\n",
      "SD Type - PREC\n",
      "No of timesteps  1260\n",
      "SD Input shape (1260, 52, 112) (1260, 11, 22)\n"
     ]
    },
    {
     "name": "stderr",
     "output_type": "stream",
     "text": [
      "\n",
      "  0%|                                            | 0/1260 [00:00<?, ?it/s]\u001b[A\n",
      " 17%|█████▌                          | 218/1260 [00:00<00:00, 2178.75it/s]\u001b[A\n",
      " 35%|███████████▏                    | 439/1260 [00:00<00:00, 2191.79it/s]\u001b[A\n",
      " 52%|████████████████▋               | 659/1260 [00:00<00:00, 2124.52it/s]\u001b[A\n",
      " 70%|██████████████████████▍         | 882/1260 [00:00<00:00, 2163.49it/s]\u001b[A\n",
      "100%|███████████████████████████████| 1260/1260 [00:00<00:00, 2159.62it/s]\u001b[A\n",
      " 20%|███████▏                            | 20/100 [00:38<02:33,  1.92s/it]"
     ]
    },
    {
     "name": "stdout",
     "output_type": "stream",
     "text": [
      "SD Output shape (1260, 52, 112)\n",
      "Bias Correction Spatially - monthly:\n",
      "Training years : 105.0 == 105.0\n",
      "Testing years : 105.0\n",
      "Bias correction fucntion : <function normal_quantile_mapping at 0x7f0d34c71dc0>\n",
      "BC Input shape (1260, 11, 22) (1260, 11, 22) (1260, 11, 22)\n",
      "11 22\n"
     ]
    },
    {
     "name": "stderr",
     "output_type": "stream",
     "text": [
      "\n",
      "  0%|                                              | 0/11 [00:00<?, ?it/s]\u001b[A\n",
      " 18%|██████▉                               | 2/11 [00:00<00:00, 19.36it/s]\u001b[A\n",
      " 36%|█████████████▊                        | 4/11 [00:00<00:00, 19.23it/s]\u001b[A\n",
      " 55%|████████████████████▋                 | 6/11 [00:00<00:00, 19.00it/s]\u001b[A\n",
      " 73%|███████████████████████████▋          | 8/11 [00:00<00:00, 18.93it/s]\u001b[A\n",
      "100%|█████████████████████████████████████| 11/11 [00:00<00:00, 18.80it/s]\u001b[A\n"
     ]
    },
    {
     "name": "stdout",
     "output_type": "stream",
     "text": [
      "BC Output shape (1260, 11, 22)\n",
      "Spatial Disaggregation - Monthly (NCLIM ==  12 )\n",
      "SD Type - PREC\n",
      "No of timesteps  1260\n",
      "SD Input shape (1260, 52, 112) (1260, 11, 22)\n"
     ]
    },
    {
     "name": "stderr",
     "output_type": "stream",
     "text": [
      "\n",
      "  0%|                                            | 0/1260 [00:00<?, ?it/s]\u001b[A\n",
      " 17%|█████▌                          | 218/1260 [00:00<00:00, 2173.73it/s]\u001b[A\n",
      " 35%|███████████▏                    | 439/1260 [00:00<00:00, 2190.95it/s]\u001b[A\n",
      " 52%|████████████████▋               | 659/1260 [00:00<00:00, 2160.35it/s]\u001b[A\n",
      " 70%|██████████████████████▏         | 876/1260 [00:00<00:00, 2132.44it/s]\u001b[A\n",
      "100%|███████████████████████████████| 1260/1260 [00:00<00:00, 2122.90it/s]\u001b[A\n",
      " 21%|███████▌                            | 21/100 [00:40<02:31,  1.92s/it]"
     ]
    },
    {
     "name": "stdout",
     "output_type": "stream",
     "text": [
      "SD Output shape (1260, 52, 112)\n",
      "Bias Correction Spatially - monthly:\n",
      "Training years : 105.0 == 105.0\n",
      "Testing years : 105.0\n",
      "Bias correction fucntion : <function normal_quantile_mapping at 0x7f0d34c71dc0>\n",
      "BC Input shape (1260, 11, 22) (1260, 11, 22) (1260, 11, 22)\n",
      "11 22\n"
     ]
    },
    {
     "name": "stderr",
     "output_type": "stream",
     "text": [
      "\n",
      "  0%|                                              | 0/11 [00:00<?, ?it/s]\u001b[A\n",
      " 18%|██████▉                               | 2/11 [00:00<00:00, 18.99it/s]\u001b[A\n",
      " 36%|█████████████▊                        | 4/11 [00:00<00:00, 19.05it/s]\u001b[A\n",
      " 55%|████████████████████▋                 | 6/11 [00:00<00:00, 19.04it/s]\u001b[A\n",
      " 73%|███████████████████████████▋          | 8/11 [00:00<00:00, 19.06it/s]\u001b[A\n",
      "100%|█████████████████████████████████████| 11/11 [00:00<00:00, 18.62it/s]\u001b[A\n"
     ]
    },
    {
     "name": "stdout",
     "output_type": "stream",
     "text": [
      "BC Output shape (1260, 11, 22)\n",
      "Spatial Disaggregation - Monthly (NCLIM ==  12 )\n",
      "SD Type - PREC\n",
      "No of timesteps  1260\n",
      "SD Input shape (1260, 52, 112) (1260, 11, 22)\n"
     ]
    },
    {
     "name": "stderr",
     "output_type": "stream",
     "text": [
      "\n",
      "  0%|                                            | 0/1260 [00:00<?, ?it/s]\u001b[A\n",
      " 17%|█████▍                          | 215/1260 [00:00<00:00, 2143.53it/s]\u001b[A\n",
      " 34%|██████████▉                     | 431/1260 [00:00<00:00, 2150.41it/s]\u001b[A\n",
      " 51%|████████████████▍               | 647/1260 [00:00<00:00, 2086.80it/s]\u001b[A\n",
      " 68%|█████████████████████▋          | 856/1260 [00:00<00:00, 2059.30it/s]\u001b[A\n",
      "100%|███████████████████████████████| 1260/1260 [00:00<00:00, 2103.97it/s]\u001b[A\n",
      " 22%|███████▉                            | 22/100 [00:42<02:29,  1.92s/it]"
     ]
    },
    {
     "name": "stdout",
     "output_type": "stream",
     "text": [
      "SD Output shape (1260, 52, 112)\n",
      "Bias Correction Spatially - monthly:\n",
      "Training years : 105.0 == 105.0\n",
      "Testing years : 105.0\n",
      "Bias correction fucntion : <function normal_quantile_mapping at 0x7f0d34c71dc0>\n",
      "BC Input shape (1260, 11, 22) (1260, 11, 22) (1260, 11, 22)\n",
      "11 22\n"
     ]
    },
    {
     "name": "stderr",
     "output_type": "stream",
     "text": [
      "\n",
      "  0%|                                              | 0/11 [00:00<?, ?it/s]\u001b[A\n",
      " 18%|██████▉                               | 2/11 [00:00<00:00, 19.75it/s]\u001b[A\n",
      " 36%|█████████████▊                        | 4/11 [00:00<00:00, 19.62it/s]\u001b[A\n",
      " 55%|████████████████████▋                 | 6/11 [00:00<00:00, 19.54it/s]\u001b[A\n",
      " 73%|███████████████████████████▋          | 8/11 [00:00<00:00, 19.52it/s]\u001b[A\n",
      "100%|█████████████████████████████████████| 11/11 [00:00<00:00, 19.35it/s]\u001b[A\n"
     ]
    },
    {
     "name": "stdout",
     "output_type": "stream",
     "text": [
      "BC Output shape (1260, 11, 22)\n",
      "Spatial Disaggregation - Monthly (NCLIM ==  12 )\n",
      "SD Type - PREC\n",
      "No of timesteps  1260\n",
      "SD Input shape (1260, 52, 112) (1260, 11, 22)\n"
     ]
    },
    {
     "name": "stderr",
     "output_type": "stream",
     "text": [
      "\n",
      "  0%|                                            | 0/1260 [00:00<?, ?it/s]\u001b[A\n",
      " 17%|█████▌                          | 218/1260 [00:00<00:00, 2173.36it/s]\u001b[A\n",
      " 35%|███████████                     | 436/1260 [00:00<00:00, 2174.23it/s]\u001b[A\n",
      " 52%|████████████████▋               | 656/1260 [00:00<00:00, 2184.09it/s]\u001b[A\n",
      " 69%|██████████████████████▏         | 875/1260 [00:00<00:00, 2157.23it/s]\u001b[A\n",
      "100%|███████████████████████████████| 1260/1260 [00:00<00:00, 2171.63it/s]\u001b[A\n",
      " 23%|████████▎                           | 23/100 [00:43<02:27,  1.91s/it]"
     ]
    },
    {
     "name": "stdout",
     "output_type": "stream",
     "text": [
      "SD Output shape (1260, 52, 112)\n",
      "Bias Correction Spatially - monthly:\n",
      "Training years : 105.0 == 105.0\n",
      "Testing years : 105.0\n",
      "Bias correction fucntion : <function normal_quantile_mapping at 0x7f0d34c71dc0>\n",
      "BC Input shape (1260, 11, 22) (1260, 11, 22) (1260, 11, 22)\n",
      "11 22\n"
     ]
    },
    {
     "name": "stderr",
     "output_type": "stream",
     "text": [
      "\n",
      "  0%|                                              | 0/11 [00:00<?, ?it/s]\u001b[A\n",
      " 18%|██████▉                               | 2/11 [00:00<00:00, 16.56it/s]\u001b[A\n",
      " 36%|█████████████▊                        | 4/11 [00:00<00:00, 18.13it/s]\u001b[A\n",
      " 55%|████████████████████▋                 | 6/11 [00:00<00:00, 18.79it/s]\u001b[A\n",
      " 73%|███████████████████████████▋          | 8/11 [00:00<00:00, 18.62it/s]\u001b[A\n",
      "100%|█████████████████████████████████████| 11/11 [00:00<00:00, 18.12it/s]\u001b[A\n"
     ]
    },
    {
     "name": "stdout",
     "output_type": "stream",
     "text": [
      "BC Output shape (1260, 11, 22)\n",
      "Spatial Disaggregation - Monthly (NCLIM ==  12 )\n",
      "SD Type - PREC\n",
      "No of timesteps  1260\n",
      "SD Input shape (1260, 52, 112) (1260, 11, 22)\n"
     ]
    },
    {
     "name": "stderr",
     "output_type": "stream",
     "text": [
      "\n",
      "  0%|                                            | 0/1260 [00:00<?, ?it/s]\u001b[A\n",
      " 17%|█████▍                          | 216/1260 [00:00<00:00, 2158.24it/s]\u001b[A\n",
      " 34%|██████████▉                     | 433/1260 [00:00<00:00, 2162.02it/s]\u001b[A\n",
      " 52%|████████████████▌               | 650/1260 [00:00<00:00, 2137.47it/s]\u001b[A\n",
      " 69%|█████████████████████▉          | 864/1260 [00:00<00:00, 2059.72it/s]\u001b[A\n",
      "100%|███████████████████████████████| 1260/1260 [00:00<00:00, 2113.54it/s]\u001b[A\n",
      " 24%|████████▋                           | 24/100 [00:45<02:25,  1.91s/it]"
     ]
    },
    {
     "name": "stdout",
     "output_type": "stream",
     "text": [
      "SD Output shape (1260, 52, 112)\n",
      "Bias Correction Spatially - monthly:\n",
      "Training years : 105.0 == 105.0\n",
      "Testing years : 105.0\n",
      "Bias correction fucntion : <function normal_quantile_mapping at 0x7f0d34c71dc0>\n",
      "BC Input shape (1260, 11, 22) (1260, 11, 22) (1260, 11, 22)\n",
      "11 22\n"
     ]
    },
    {
     "name": "stderr",
     "output_type": "stream",
     "text": [
      "\n",
      "  0%|                                              | 0/11 [00:00<?, ?it/s]\u001b[A\n",
      " 18%|██████▉                               | 2/11 [00:00<00:00, 19.14it/s]\u001b[A\n",
      " 36%|█████████████▊                        | 4/11 [00:00<00:00, 18.56it/s]\u001b[A\n",
      " 55%|████████████████████▋                 | 6/11 [00:00<00:00, 18.34it/s]\u001b[A\n",
      " 73%|███████████████████████████▋          | 8/11 [00:00<00:00, 18.42it/s]\u001b[A\n",
      "100%|█████████████████████████████████████| 11/11 [00:00<00:00, 18.69it/s]\u001b[A\n"
     ]
    },
    {
     "name": "stdout",
     "output_type": "stream",
     "text": [
      "BC Output shape (1260, 11, 22)\n",
      "Spatial Disaggregation - Monthly (NCLIM ==  12 )\n",
      "SD Type - PREC\n",
      "No of timesteps  1260\n",
      "SD Input shape (1260, 52, 112) (1260, 11, 22)\n"
     ]
    },
    {
     "name": "stderr",
     "output_type": "stream",
     "text": [
      "\n",
      "  0%|                                            | 0/1260 [00:00<?, ?it/s]\u001b[A\n",
      " 17%|█████▍                          | 216/1260 [00:00<00:00, 2152.23it/s]\u001b[A\n",
      " 34%|██████████▉                     | 432/1260 [00:00<00:00, 2136.24it/s]\u001b[A\n",
      " 52%|████████████████▌               | 650/1260 [00:00<00:00, 2155.32it/s]\u001b[A\n",
      " 69%|█████████████████████▉          | 866/1260 [00:00<00:00, 2088.33it/s]\u001b[A\n",
      "100%|███████████████████████████████| 1260/1260 [00:00<00:00, 2111.57it/s]\u001b[A\n",
      " 25%|█████████                           | 25/100 [00:47<02:23,  1.92s/it]"
     ]
    },
    {
     "name": "stdout",
     "output_type": "stream",
     "text": [
      "SD Output shape (1260, 52, 112)\n",
      "Bias Correction Spatially - monthly:\n",
      "Training years : 105.0 == 105.0\n",
      "Testing years : 105.0\n",
      "Bias correction fucntion : <function normal_quantile_mapping at 0x7f0d34c71dc0>\n",
      "BC Input shape (1260, 11, 22) (1260, 11, 22) (1260, 11, 22)\n",
      "11 22\n"
     ]
    },
    {
     "name": "stderr",
     "output_type": "stream",
     "text": [
      "\n",
      "  0%|                                              | 0/11 [00:00<?, ?it/s]\u001b[A\n",
      " 18%|██████▉                               | 2/11 [00:00<00:00, 18.72it/s]\u001b[A\n",
      " 36%|█████████████▊                        | 4/11 [00:00<00:00, 18.62it/s]\u001b[A\n",
      " 55%|████████████████████▋                 | 6/11 [00:00<00:00, 18.35it/s]\u001b[A\n",
      " 73%|███████████████████████████▋          | 8/11 [00:00<00:00, 18.48it/s]\u001b[A\n",
      "100%|█████████████████████████████████████| 11/11 [00:00<00:00, 18.45it/s]\u001b[A\n"
     ]
    },
    {
     "name": "stdout",
     "output_type": "stream",
     "text": [
      "BC Output shape (1260, 11, 22)\n",
      "Spatial Disaggregation - Monthly (NCLIM ==  12 )\n",
      "SD Type - PREC\n",
      "No of timesteps  1260\n",
      "SD Input shape (1260, 52, 112) (1260, 11, 22)\n"
     ]
    },
    {
     "name": "stderr",
     "output_type": "stream",
     "text": [
      "\n",
      "  0%|                                            | 0/1260 [00:00<?, ?it/s]\u001b[A\n",
      " 15%|████▋                           | 187/1260 [00:00<00:00, 1868.14it/s]\u001b[A\n",
      " 32%|██████████▏                     | 403/1260 [00:00<00:00, 2035.52it/s]\u001b[A\n",
      " 49%|███████████████▋                | 619/1260 [00:00<00:00, 2091.90it/s]\u001b[A\n",
      " 66%|█████████████████████▏          | 835/1260 [00:00<00:00, 2115.38it/s]\u001b[A\n",
      "100%|███████████████████████████████| 1260/1260 [00:00<00:00, 2093.01it/s]\u001b[A\n",
      " 26%|█████████▎                          | 26/100 [00:49<02:22,  1.92s/it]"
     ]
    },
    {
     "name": "stdout",
     "output_type": "stream",
     "text": [
      "SD Output shape (1260, 52, 112)\n",
      "Bias Correction Spatially - monthly:\n",
      "Training years : 105.0 == 105.0\n",
      "Testing years : 105.0\n",
      "Bias correction fucntion : <function normal_quantile_mapping at 0x7f0d34c71dc0>\n",
      "BC Input shape (1260, 11, 22) (1260, 11, 22) (1260, 11, 22)\n",
      "11 22\n"
     ]
    },
    {
     "name": "stderr",
     "output_type": "stream",
     "text": [
      "\n",
      "  0%|                                              | 0/11 [00:00<?, ?it/s]\u001b[A\n",
      " 18%|██████▉                               | 2/11 [00:00<00:00, 19.31it/s]\u001b[A\n",
      " 36%|█████████████▊                        | 4/11 [00:00<00:00, 19.13it/s]\u001b[A\n",
      " 55%|████████████████████▋                 | 6/11 [00:00<00:00, 19.15it/s]\u001b[A\n",
      " 73%|███████████████████████████▋          | 8/11 [00:00<00:00, 18.72it/s]\u001b[A\n",
      "100%|█████████████████████████████████████| 11/11 [00:00<00:00, 18.68it/s]\u001b[A\n"
     ]
    },
    {
     "name": "stdout",
     "output_type": "stream",
     "text": [
      "BC Output shape (1260, 11, 22)\n",
      "Spatial Disaggregation - Monthly (NCLIM ==  12 )\n",
      "SD Type - PREC\n",
      "No of timesteps  1260\n",
      "SD Input shape (1260, 52, 112) (1260, 11, 22)\n"
     ]
    },
    {
     "name": "stderr",
     "output_type": "stream",
     "text": [
      "\n",
      "  0%|                                            | 0/1260 [00:00<?, ?it/s]\u001b[A\n",
      " 17%|█████▌                          | 217/1260 [00:00<00:00, 2166.04it/s]\u001b[A\n",
      " 34%|███████████                     | 434/1260 [00:00<00:00, 2161.52it/s]\u001b[A\n",
      " 52%|████████████████▌               | 651/1260 [00:00<00:00, 2148.40it/s]\u001b[A\n",
      " 69%|██████████████████████          | 868/1260 [00:00<00:00, 2154.34it/s]\u001b[A\n",
      "100%|███████████████████████████████| 1260/1260 [00:00<00:00, 2152.21it/s]\u001b[A\n",
      " 27%|█████████▋                          | 27/100 [00:51<02:20,  1.92s/it]"
     ]
    },
    {
     "name": "stdout",
     "output_type": "stream",
     "text": [
      "SD Output shape (1260, 52, 112)\n",
      "Bias Correction Spatially - monthly:\n",
      "Training years : 105.0 == 105.0\n",
      "Testing years : 105.0\n",
      "Bias correction fucntion : <function normal_quantile_mapping at 0x7f0d34c71dc0>\n",
      "BC Input shape (1260, 11, 22) (1260, 11, 22) (1260, 11, 22)\n",
      "11 22\n"
     ]
    },
    {
     "name": "stderr",
     "output_type": "stream",
     "text": [
      "\n",
      "  0%|                                              | 0/11 [00:00<?, ?it/s]\u001b[A\n",
      " 18%|██████▉                               | 2/11 [00:00<00:00, 18.05it/s]\u001b[A\n",
      " 36%|█████████████▊                        | 4/11 [00:00<00:00, 16.68it/s]\u001b[A\n",
      " 55%|████████████████████▋                 | 6/11 [00:00<00:00, 17.79it/s]\u001b[A\n",
      " 73%|███████████████████████████▋          | 8/11 [00:00<00:00, 18.13it/s]\u001b[A\n",
      "100%|█████████████████████████████████████| 11/11 [00:00<00:00, 18.21it/s]\u001b[A\n"
     ]
    },
    {
     "name": "stdout",
     "output_type": "stream",
     "text": [
      "BC Output shape (1260, 11, 22)\n",
      "Spatial Disaggregation - Monthly (NCLIM ==  12 )\n",
      "SD Type - PREC\n",
      "No of timesteps  1260\n",
      "SD Input shape (1260, 52, 112) (1260, 11, 22)\n"
     ]
    },
    {
     "name": "stderr",
     "output_type": "stream",
     "text": [
      "\n",
      "  0%|                                            | 0/1260 [00:00<?, ?it/s]\u001b[A\n",
      " 17%|█████▌                          | 220/1260 [00:00<00:00, 2199.15it/s]\u001b[A\n",
      " 35%|███████████▏                    | 440/1260 [00:00<00:00, 2186.25it/s]\u001b[A\n",
      " 52%|████████████████▊               | 661/1260 [00:00<00:00, 2193.13it/s]\u001b[A\n",
      " 70%|██████████████████████▎         | 881/1260 [00:00<00:00, 1980.42it/s]\u001b[A\n",
      "100%|███████████████████████████████| 1260/1260 [00:00<00:00, 1969.83it/s]\u001b[A\n",
      " 28%|██████████                          | 28/100 [00:53<02:19,  1.94s/it]"
     ]
    },
    {
     "name": "stdout",
     "output_type": "stream",
     "text": [
      "SD Output shape (1260, 52, 112)\n",
      "Bias Correction Spatially - monthly:\n",
      "Training years : 105.0 == 105.0\n",
      "Testing years : 105.0\n",
      "Bias correction fucntion : <function normal_quantile_mapping at 0x7f0d34c71dc0>\n",
      "BC Input shape (1260, 11, 22) (1260, 11, 22) (1260, 11, 22)\n",
      "11 22\n"
     ]
    },
    {
     "name": "stderr",
     "output_type": "stream",
     "text": [
      "\n",
      "  0%|                                              | 0/11 [00:00<?, ?it/s]\u001b[A\n",
      " 18%|██████▉                               | 2/11 [00:00<00:00, 18.73it/s]\u001b[A\n",
      " 36%|█████████████▊                        | 4/11 [00:00<00:00, 18.82it/s]\u001b[A\n",
      " 55%|████████████████████▋                 | 6/11 [00:00<00:00, 18.77it/s]\u001b[A\n",
      " 73%|███████████████████████████▋          | 8/11 [00:00<00:00, 18.73it/s]\u001b[A\n",
      "100%|█████████████████████████████████████| 11/11 [00:00<00:00, 18.43it/s]\u001b[A\n"
     ]
    },
    {
     "name": "stdout",
     "output_type": "stream",
     "text": [
      "BC Output shape (1260, 11, 22)\n",
      "Spatial Disaggregation - Monthly (NCLIM ==  12 )\n",
      "SD Type - PREC\n",
      "No of timesteps  1260\n",
      "SD Input shape (1260, 52, 112) (1260, 11, 22)\n"
     ]
    },
    {
     "name": "stderr",
     "output_type": "stream",
     "text": [
      "\n",
      "  0%|                                            | 0/1260 [00:00<?, ?it/s]\u001b[A\n",
      " 16%|█████▎                          | 207/1260 [00:00<00:00, 2065.55it/s]\u001b[A\n",
      " 33%|██████████▌                     | 414/1260 [00:00<00:00, 1973.33it/s]\u001b[A\n",
      " 49%|███████████████▊                | 622/1260 [00:00<00:00, 2015.54it/s]\u001b[A\n",
      " 65%|████████████████████▉           | 824/1260 [00:00<00:00, 2009.02it/s]\u001b[A\n",
      " 82%|█████████████████████████▎     | 1031/1260 [00:00<00:00, 2026.84it/s]\u001b[A\n",
      "100%|███████████████████████████████| 1260/1260 [00:00<00:00, 2013.40it/s]\u001b[A\n",
      " 29%|██████████▍                         | 29/100 [00:55<02:20,  1.98s/it]"
     ]
    },
    {
     "name": "stdout",
     "output_type": "stream",
     "text": [
      "SD Output shape (1260, 52, 112)\n",
      "Bias Correction Spatially - monthly:\n",
      "Training years : 105.0 == 105.0\n",
      "Testing years : 105.0\n",
      "Bias correction fucntion : <function normal_quantile_mapping at 0x7f0d34c71dc0>\n",
      "BC Input shape (1260, 11, 22) (1260, 11, 22) (1260, 11, 22)\n",
      "11 22\n"
     ]
    },
    {
     "name": "stderr",
     "output_type": "stream",
     "text": [
      "\n",
      "  0%|                                              | 0/11 [00:00<?, ?it/s]\u001b[A\n",
      " 18%|██████▉                               | 2/11 [00:00<00:00, 18.80it/s]\u001b[A\n",
      " 36%|█████████████▊                        | 4/11 [00:00<00:00, 19.11it/s]\u001b[A\n",
      " 55%|████████████████████▋                 | 6/11 [00:00<00:00, 18.34it/s]\u001b[A\n",
      " 73%|███████████████████████████▋          | 8/11 [00:00<00:00, 18.03it/s]\u001b[A\n",
      "100%|█████████████████████████████████████| 11/11 [00:00<00:00, 18.29it/s]\u001b[A\n"
     ]
    },
    {
     "name": "stdout",
     "output_type": "stream",
     "text": [
      "BC Output shape (1260, 11, 22)\n",
      "Spatial Disaggregation - Monthly (NCLIM ==  12 )\n",
      "SD Type - PREC\n",
      "No of timesteps  1260\n",
      "SD Input shape (1260, 52, 112) (1260, 11, 22)\n"
     ]
    },
    {
     "name": "stderr",
     "output_type": "stream",
     "text": [
      "\n",
      "  0%|                                            | 0/1260 [00:00<?, ?it/s]\u001b[A\n",
      " 17%|█████▍                          | 214/1260 [00:00<00:00, 2136.86it/s]\u001b[A\n",
      " 35%|███████████                     | 436/1260 [00:00<00:00, 2182.96it/s]\u001b[A\n",
      " 52%|████████████████▋               | 659/1260 [00:00<00:00, 2203.33it/s]\u001b[A\n",
      " 70%|██████████████████████▎         | 880/1260 [00:00<00:00, 2171.33it/s]\u001b[A\n",
      "100%|███████████████████████████████| 1260/1260 [00:00<00:00, 2179.30it/s]\u001b[A\n",
      " 30%|██████████▊                         | 30/100 [00:57<02:17,  1.97s/it]"
     ]
    },
    {
     "name": "stdout",
     "output_type": "stream",
     "text": [
      "SD Output shape (1260, 52, 112)\n",
      "Bias Correction Spatially - monthly:\n",
      "Training years : 105.0 == 105.0\n",
      "Testing years : 105.0\n",
      "Bias correction fucntion : <function normal_quantile_mapping at 0x7f0d34c71dc0>\n",
      "BC Input shape (1260, 11, 22) (1260, 11, 22) (1260, 11, 22)\n",
      "11 22\n"
     ]
    },
    {
     "name": "stderr",
     "output_type": "stream",
     "text": [
      "\n",
      "  0%|                                              | 0/11 [00:00<?, ?it/s]\u001b[A\n",
      " 18%|██████▉                               | 2/11 [00:00<00:00, 19.76it/s]\u001b[A\n",
      " 36%|█████████████▊                        | 4/11 [00:00<00:00, 19.44it/s]\u001b[A\n",
      " 55%|████████████████████▋                 | 6/11 [00:00<00:00, 19.19it/s]\u001b[A\n",
      " 73%|███████████████████████████▋          | 8/11 [00:00<00:00, 18.81it/s]\u001b[A\n",
      "100%|█████████████████████████████████████| 11/11 [00:00<00:00, 18.92it/s]\u001b[A\n"
     ]
    },
    {
     "name": "stdout",
     "output_type": "stream",
     "text": [
      "BC Output shape (1260, 11, 22)\n",
      "Spatial Disaggregation - Monthly (NCLIM ==  12 )\n",
      "SD Type - PREC\n",
      "No of timesteps  1260\n",
      "SD Input shape (1260, 52, 112) (1260, 11, 22)\n"
     ]
    },
    {
     "name": "stderr",
     "output_type": "stream",
     "text": [
      "\n",
      "  0%|                                            | 0/1260 [00:00<?, ?it/s]\u001b[A\n",
      " 17%|█████▎                          | 211/1260 [00:00<00:00, 2102.55it/s]\u001b[A\n",
      " 33%|██████████▋                     | 422/1260 [00:00<00:00, 2070.65it/s]\u001b[A\n",
      " 50%|████████████████▏               | 635/1260 [00:00<00:00, 2097.18it/s]\u001b[A\n",
      " 67%|█████████████████████▍          | 845/1260 [00:00<00:00, 1997.41it/s]\u001b[A\n",
      " 83%|█████████████████████████▋     | 1046/1260 [00:00<00:00, 1956.13it/s]\u001b[A\n",
      "100%|███████████████████████████████| 1260/1260 [00:00<00:00, 2007.93it/s]\u001b[A\n",
      " 31%|███████████▏                        | 31/100 [00:59<02:15,  1.96s/it]"
     ]
    },
    {
     "name": "stdout",
     "output_type": "stream",
     "text": [
      "SD Output shape (1260, 52, 112)\n",
      "Bias Correction Spatially - monthly:\n",
      "Training years : 105.0 == 105.0\n",
      "Testing years : 105.0\n",
      "Bias correction fucntion : <function normal_quantile_mapping at 0x7f0d34c71dc0>\n",
      "BC Input shape (1260, 11, 22) (1260, 11, 22) (1260, 11, 22)\n",
      "11 22\n"
     ]
    },
    {
     "name": "stderr",
     "output_type": "stream",
     "text": [
      "\n",
      "  0%|                                              | 0/11 [00:00<?, ?it/s]\u001b[A\n",
      " 18%|██████▉                               | 2/11 [00:00<00:00, 19.08it/s]\u001b[A\n",
      " 36%|█████████████▊                        | 4/11 [00:00<00:00, 18.88it/s]\u001b[A\n",
      " 55%|████████████████████▋                 | 6/11 [00:00<00:00, 18.33it/s]\u001b[A\n",
      " 73%|███████████████████████████▋          | 8/11 [00:00<00:00, 18.37it/s]\u001b[A\n",
      "100%|█████████████████████████████████████| 11/11 [00:00<00:00, 18.43it/s]\u001b[A\n"
     ]
    },
    {
     "name": "stdout",
     "output_type": "stream",
     "text": [
      "BC Output shape (1260, 11, 22)\n",
      "Spatial Disaggregation - Monthly (NCLIM ==  12 )\n",
      "SD Type - PREC\n",
      "No of timesteps  1260\n",
      "SD Input shape (1260, 52, 112) (1260, 11, 22)\n"
     ]
    },
    {
     "name": "stderr",
     "output_type": "stream",
     "text": [
      "\n",
      "  0%|                                            | 0/1260 [00:00<?, ?it/s]\u001b[A\n",
      " 17%|█████▍                          | 212/1260 [00:00<00:00, 2111.98it/s]\u001b[A\n",
      " 34%|██████████▊                     | 424/1260 [00:00<00:00, 2106.92it/s]\u001b[A\n",
      " 50%|████████████████▏               | 636/1260 [00:00<00:00, 2107.25it/s]\u001b[A\n",
      " 68%|█████████████████████▊          | 857/1260 [00:00<00:00, 2145.22it/s]\u001b[A\n",
      "100%|███████████████████████████████| 1260/1260 [00:00<00:00, 2153.09it/s]\u001b[A\n",
      " 32%|███████████▌                        | 32/100 [01:01<02:12,  1.95s/it]"
     ]
    },
    {
     "name": "stdout",
     "output_type": "stream",
     "text": [
      "SD Output shape (1260, 52, 112)\n",
      "Bias Correction Spatially - monthly:\n",
      "Training years : 105.0 == 105.0\n",
      "Testing years : 105.0\n",
      "Bias correction fucntion : <function normal_quantile_mapping at 0x7f0d34c71dc0>\n",
      "BC Input shape (1260, 11, 22) (1260, 11, 22) (1260, 11, 22)\n",
      "11 22\n"
     ]
    },
    {
     "name": "stderr",
     "output_type": "stream",
     "text": [
      "\n",
      "  0%|                                              | 0/11 [00:00<?, ?it/s]\u001b[A\n",
      " 18%|██████▉                               | 2/11 [00:00<00:00, 16.65it/s]\u001b[A\n",
      " 36%|█████████████▊                        | 4/11 [00:00<00:00, 16.64it/s]\u001b[A\n",
      " 55%|████████████████████▋                 | 6/11 [00:00<00:00, 17.41it/s]\u001b[A\n",
      " 73%|███████████████████████████▋          | 8/11 [00:00<00:00, 18.10it/s]\u001b[A\n",
      "100%|█████████████████████████████████████| 11/11 [00:00<00:00, 18.06it/s]\u001b[A\n"
     ]
    },
    {
     "name": "stdout",
     "output_type": "stream",
     "text": [
      "BC Output shape (1260, 11, 22)\n",
      "Spatial Disaggregation - Monthly (NCLIM ==  12 )\n",
      "SD Type - PREC\n",
      "No of timesteps  1260\n",
      "SD Input shape (1260, 52, 112) (1260, 11, 22)\n"
     ]
    },
    {
     "name": "stderr",
     "output_type": "stream",
     "text": [
      "\n",
      "  0%|                                            | 0/1260 [00:00<?, ?it/s]\u001b[A\n",
      " 18%|█████▋                          | 222/1260 [00:00<00:00, 2214.66it/s]\u001b[A\n",
      " 35%|███████████▎                    | 444/1260 [00:00<00:00, 2172.78it/s]\u001b[A\n",
      " 53%|████████████████▊               | 662/1260 [00:00<00:00, 2174.18it/s]\u001b[A\n",
      " 70%|██████████████████████▎         | 880/1260 [00:00<00:00, 2175.87it/s]\u001b[A\n",
      "100%|███████████████████████████████| 1260/1260 [00:00<00:00, 2159.25it/s]\u001b[A\n",
      " 33%|███████████▉                        | 33/100 [01:03<02:10,  1.94s/it]"
     ]
    },
    {
     "name": "stdout",
     "output_type": "stream",
     "text": [
      "SD Output shape (1260, 52, 112)\n",
      "Bias Correction Spatially - monthly:\n",
      "Training years : 105.0 == 105.0\n",
      "Testing years : 105.0\n",
      "Bias correction fucntion : <function normal_quantile_mapping at 0x7f0d34c71dc0>\n",
      "BC Input shape (1260, 11, 22) (1260, 11, 22) (1260, 11, 22)\n",
      "11 22\n"
     ]
    },
    {
     "name": "stderr",
     "output_type": "stream",
     "text": [
      "\n",
      "  0%|                                              | 0/11 [00:00<?, ?it/s]\u001b[A\n",
      " 18%|██████▉                               | 2/11 [00:00<00:00, 19.68it/s]\u001b[A\n",
      " 36%|█████████████▊                        | 4/11 [00:00<00:00, 19.26it/s]\u001b[A\n",
      " 55%|████████████████████▋                 | 6/11 [00:00<00:00, 18.97it/s]\u001b[A\n",
      " 73%|███████████████████████████▋          | 8/11 [00:00<00:00, 19.10it/s]\u001b[A\n",
      "100%|█████████████████████████████████████| 11/11 [00:00<00:00, 19.06it/s]\u001b[A\n"
     ]
    },
    {
     "name": "stdout",
     "output_type": "stream",
     "text": [
      "BC Output shape (1260, 11, 22)\n",
      "Spatial Disaggregation - Monthly (NCLIM ==  12 )\n",
      "SD Type - PREC\n",
      "No of timesteps  1260\n",
      "SD Input shape (1260, 52, 112) (1260, 11, 22)\n"
     ]
    },
    {
     "name": "stderr",
     "output_type": "stream",
     "text": [
      "\n",
      "  0%|                                            | 0/1260 [00:00<?, ?it/s]\u001b[A\n",
      " 17%|█████▌                          | 218/1260 [00:00<00:00, 2178.99it/s]\u001b[A\n",
      " 35%|███████████                     | 436/1260 [00:00<00:00, 2165.64it/s]\u001b[A\n",
      " 52%|████████████████▌               | 653/1260 [00:00<00:00, 2160.88it/s]\u001b[A\n",
      " 69%|██████████████████████▏         | 874/1260 [00:00<00:00, 2177.50it/s]\u001b[A\n",
      "100%|███████████████████████████████| 1260/1260 [00:00<00:00, 2172.41it/s]\u001b[A\n",
      " 34%|████████████▏                       | 34/100 [01:05<02:06,  1.92s/it]"
     ]
    },
    {
     "name": "stdout",
     "output_type": "stream",
     "text": [
      "SD Output shape (1260, 52, 112)\n",
      "Bias Correction Spatially - monthly:\n",
      "Training years : 105.0 == 105.0\n",
      "Testing years : 105.0\n",
      "Bias correction fucntion : <function normal_quantile_mapping at 0x7f0d34c71dc0>\n",
      "BC Input shape (1260, 11, 22) (1260, 11, 22) (1260, 11, 22)\n",
      "11 22\n"
     ]
    },
    {
     "name": "stderr",
     "output_type": "stream",
     "text": [
      "\n",
      "  0%|                                              | 0/11 [00:00<?, ?it/s]\u001b[A\n",
      " 18%|██████▉                               | 2/11 [00:00<00:00, 18.74it/s]\u001b[A\n",
      " 36%|█████████████▊                        | 4/11 [00:00<00:00, 19.06it/s]\u001b[A\n",
      " 55%|████████████████████▋                 | 6/11 [00:00<00:00, 19.15it/s]\u001b[A\n",
      " 73%|███████████████████████████▋          | 8/11 [00:00<00:00, 19.20it/s]\u001b[A\n",
      "100%|█████████████████████████████████████| 11/11 [00:00<00:00, 19.14it/s]\u001b[A\n"
     ]
    },
    {
     "name": "stdout",
     "output_type": "stream",
     "text": [
      "BC Output shape (1260, 11, 22)\n",
      "Spatial Disaggregation - Monthly (NCLIM ==  12 )\n",
      "SD Type - PREC\n",
      "No of timesteps  1260\n",
      "SD Input shape (1260, 52, 112) (1260, 11, 22)\n"
     ]
    },
    {
     "name": "stderr",
     "output_type": "stream",
     "text": [
      "\n",
      "  0%|                                            | 0/1260 [00:00<?, ?it/s]\u001b[A\n",
      " 17%|█████▌                          | 220/1260 [00:00<00:00, 2194.53it/s]\u001b[A\n",
      " 35%|███████████▏                    | 440/1260 [00:00<00:00, 2194.06it/s]\u001b[A\n",
      " 52%|████████████████▊               | 660/1260 [00:00<00:00, 2186.56it/s]\u001b[A\n",
      " 70%|██████████████████████▎         | 880/1260 [00:00<00:00, 2191.31it/s]\u001b[A\n",
      "100%|███████████████████████████████| 1260/1260 [00:00<00:00, 2188.13it/s]\u001b[A\n",
      " 35%|████████████▌                       | 35/100 [01:07<02:04,  1.91s/it]"
     ]
    },
    {
     "name": "stdout",
     "output_type": "stream",
     "text": [
      "SD Output shape (1260, 52, 112)\n",
      "Bias Correction Spatially - monthly:\n",
      "Training years : 105.0 == 105.0\n",
      "Testing years : 105.0\n",
      "Bias correction fucntion : <function normal_quantile_mapping at 0x7f0d34c71dc0>\n",
      "BC Input shape (1260, 11, 22) (1260, 11, 22) (1260, 11, 22)\n",
      "11 22\n"
     ]
    },
    {
     "name": "stderr",
     "output_type": "stream",
     "text": [
      "\n",
      "  0%|                                              | 0/11 [00:00<?, ?it/s]\u001b[A\n",
      " 18%|██████▉                               | 2/11 [00:00<00:00, 19.65it/s]\u001b[A\n",
      " 36%|█████████████▊                        | 4/11 [00:00<00:00, 19.49it/s]\u001b[A\n",
      " 55%|████████████████████▋                 | 6/11 [00:00<00:00, 19.48it/s]\u001b[A\n",
      " 73%|███████████████████████████▋          | 8/11 [00:00<00:00, 19.48it/s]\u001b[A\n",
      "100%|█████████████████████████████████████| 11/11 [00:00<00:00, 19.42it/s]\u001b[A\n"
     ]
    },
    {
     "name": "stdout",
     "output_type": "stream",
     "text": [
      "BC Output shape (1260, 11, 22)\n",
      "Spatial Disaggregation - Monthly (NCLIM ==  12 )\n",
      "SD Type - PREC\n",
      "No of timesteps  1260\n",
      "SD Input shape (1260, 52, 112) (1260, 11, 22)\n"
     ]
    },
    {
     "name": "stderr",
     "output_type": "stream",
     "text": [
      "\n",
      "  0%|                                            | 0/1260 [00:00<?, ?it/s]\u001b[A\n",
      " 17%|█████▌                          | 217/1260 [00:00<00:00, 2168.18it/s]\u001b[A\n",
      " 34%|███████████                     | 434/1260 [00:00<00:00, 2121.66it/s]\u001b[A\n",
      " 51%|████████████████▍               | 648/1260 [00:00<00:00, 2128.30it/s]\u001b[A\n",
      " 68%|█████████████████████▊          | 861/1260 [00:00<00:00, 2127.04it/s]\u001b[A\n",
      "100%|███████████████████████████████| 1260/1260 [00:00<00:00, 2137.64it/s]\u001b[A\n",
      " 36%|████████████▉                       | 36/100 [01:09<02:01,  1.90s/it]"
     ]
    },
    {
     "name": "stdout",
     "output_type": "stream",
     "text": [
      "SD Output shape (1260, 52, 112)\n",
      "Bias Correction Spatially - monthly:\n",
      "Training years : 105.0 == 105.0\n",
      "Testing years : 105.0\n",
      "Bias correction fucntion : <function normal_quantile_mapping at 0x7f0d34c71dc0>\n",
      "BC Input shape (1260, 11, 22) (1260, 11, 22) (1260, 11, 22)\n",
      "11 22\n"
     ]
    },
    {
     "name": "stderr",
     "output_type": "stream",
     "text": [
      "\n",
      "  0%|                                              | 0/11 [00:00<?, ?it/s]\u001b[A\n",
      " 18%|██████▉                               | 2/11 [00:00<00:00, 19.87it/s]\u001b[A\n",
      " 36%|█████████████▊                        | 4/11 [00:00<00:00, 19.75it/s]\u001b[A\n",
      " 55%|████████████████████▋                 | 6/11 [00:00<00:00, 19.76it/s]\u001b[A\n",
      " 73%|███████████████████████████▋          | 8/11 [00:00<00:00, 19.76it/s]\u001b[A\n",
      "100%|█████████████████████████████████████| 11/11 [00:00<00:00, 19.17it/s]\u001b[A\n"
     ]
    },
    {
     "name": "stdout",
     "output_type": "stream",
     "text": [
      "BC Output shape (1260, 11, 22)\n",
      "Spatial Disaggregation - Monthly (NCLIM ==  12 )\n",
      "SD Type - PREC\n",
      "No of timesteps  1260\n",
      "SD Input shape (1260, 52, 112) (1260, 11, 22)\n"
     ]
    },
    {
     "name": "stderr",
     "output_type": "stream",
     "text": [
      "\n",
      "  0%|                                            | 0/1260 [00:00<?, ?it/s]\u001b[A\n",
      " 17%|█████▎                          | 209/1260 [00:00<00:00, 2086.18it/s]\u001b[A\n",
      " 33%|██████████▋                     | 421/1260 [00:00<00:00, 2102.40it/s]\u001b[A\n",
      " 51%|████████████████▎               | 641/1260 [00:00<00:00, 2146.58it/s]\u001b[A\n",
      " 68%|█████████████████████▊          | 858/1260 [00:00<00:00, 2153.46it/s]\u001b[A\n",
      "100%|███████████████████████████████| 1260/1260 [00:00<00:00, 2152.56it/s]\u001b[A\n",
      " 37%|█████████████▎                      | 37/100 [01:10<02:00,  1.91s/it]"
     ]
    },
    {
     "name": "stdout",
     "output_type": "stream",
     "text": [
      "SD Output shape (1260, 52, 112)\n",
      "Bias Correction Spatially - monthly:\n",
      "Training years : 105.0 == 105.0\n",
      "Testing years : 105.0\n",
      "Bias correction fucntion : <function normal_quantile_mapping at 0x7f0d34c71dc0>\n",
      "BC Input shape (1260, 11, 22) (1260, 11, 22) (1260, 11, 22)\n",
      "11 22\n"
     ]
    },
    {
     "name": "stderr",
     "output_type": "stream",
     "text": [
      "\n",
      "  0%|                                              | 0/11 [00:00<?, ?it/s]\u001b[A\n",
      " 18%|██████▉                               | 2/11 [00:00<00:00, 19.58it/s]\u001b[A\n",
      " 36%|█████████████▊                        | 4/11 [00:00<00:00, 19.44it/s]\u001b[A\n",
      " 55%|████████████████████▋                 | 6/11 [00:00<00:00, 19.47it/s]\u001b[A\n",
      " 73%|███████████████████████████▋          | 8/11 [00:00<00:00, 19.46it/s]\u001b[A\n",
      "100%|█████████████████████████████████████| 11/11 [00:00<00:00, 19.49it/s]\u001b[A\n"
     ]
    },
    {
     "name": "stdout",
     "output_type": "stream",
     "text": [
      "BC Output shape (1260, 11, 22)\n",
      "Spatial Disaggregation - Monthly (NCLIM ==  12 )\n",
      "SD Type - PREC\n",
      "No of timesteps  1260\n",
      "SD Input shape (1260, 52, 112) (1260, 11, 22)\n"
     ]
    },
    {
     "name": "stderr",
     "output_type": "stream",
     "text": [
      "\n",
      "  0%|                                            | 0/1260 [00:00<?, ?it/s]\u001b[A\n",
      " 17%|█████▌                          | 217/1260 [00:00<00:00, 2166.18it/s]\u001b[A\n",
      " 34%|███████████                     | 434/1260 [00:00<00:00, 2068.65it/s]\u001b[A\n",
      " 51%|████████████████▎               | 642/1260 [00:00<00:00, 1970.46it/s]\u001b[A\n",
      " 67%|█████████████████████▎          | 840/1260 [00:00<00:00, 1948.43it/s]\u001b[A\n",
      " 83%|█████████████████████████▋     | 1043/1260 [00:00<00:00, 1974.50it/s]\u001b[A\n",
      "100%|███████████████████████████████| 1260/1260 [00:00<00:00, 2007.49it/s]\u001b[A\n",
      " 38%|█████████████▋                      | 38/100 [01:12<01:58,  1.92s/it]"
     ]
    },
    {
     "name": "stdout",
     "output_type": "stream",
     "text": [
      "SD Output shape (1260, 52, 112)\n",
      "Bias Correction Spatially - monthly:\n",
      "Training years : 105.0 == 105.0\n",
      "Testing years : 105.0\n",
      "Bias correction fucntion : <function normal_quantile_mapping at 0x7f0d34c71dc0>\n",
      "BC Input shape (1260, 11, 22) (1260, 11, 22) (1260, 11, 22)\n",
      "11 22\n"
     ]
    },
    {
     "name": "stderr",
     "output_type": "stream",
     "text": [
      "\n",
      "  0%|                                              | 0/11 [00:00<?, ?it/s]\u001b[A\n",
      " 18%|██████▉                               | 2/11 [00:00<00:00, 19.73it/s]\u001b[A\n",
      " 36%|█████████████▊                        | 4/11 [00:00<00:00, 19.38it/s]\u001b[A\n",
      " 55%|████████████████████▋                 | 6/11 [00:00<00:00, 19.26it/s]\u001b[A\n",
      " 73%|███████████████████████████▋          | 8/11 [00:00<00:00, 19.24it/s]\u001b[A\n",
      "100%|█████████████████████████████████████| 11/11 [00:00<00:00, 18.98it/s]\u001b[A\n"
     ]
    },
    {
     "name": "stdout",
     "output_type": "stream",
     "text": [
      "BC Output shape (1260, 11, 22)\n",
      "Spatial Disaggregation - Monthly (NCLIM ==  12 )\n",
      "SD Type - PREC\n",
      "No of timesteps  1260\n",
      "SD Input shape (1260, 52, 112) (1260, 11, 22)\n"
     ]
    },
    {
     "name": "stderr",
     "output_type": "stream",
     "text": [
      "\n",
      "  0%|                                            | 0/1260 [00:00<?, ?it/s]\u001b[A\n",
      " 17%|█████▎                          | 211/1260 [00:00<00:00, 2108.89it/s]\u001b[A\n",
      " 33%|██████████▋                     | 422/1260 [00:00<00:00, 2059.99it/s]\u001b[A\n",
      " 50%|███████████████▉                | 629/1260 [00:00<00:00, 2025.61it/s]\u001b[A\n",
      " 66%|█████████████████████▏          | 836/1260 [00:00<00:00, 2039.90it/s]\u001b[A\n",
      "100%|███████████████████████████████| 1260/1260 [00:00<00:00, 2089.34it/s]\u001b[A\n",
      " 39%|██████████████                      | 39/100 [01:14<01:56,  1.92s/it]"
     ]
    },
    {
     "name": "stdout",
     "output_type": "stream",
     "text": [
      "SD Output shape (1260, 52, 112)\n",
      "Bias Correction Spatially - monthly:\n",
      "Training years : 105.0 == 105.0\n",
      "Testing years : 105.0\n",
      "Bias correction fucntion : <function normal_quantile_mapping at 0x7f0d34c71dc0>\n",
      "BC Input shape (1260, 11, 22) (1260, 11, 22) (1260, 11, 22)\n",
      "11 22\n"
     ]
    },
    {
     "name": "stderr",
     "output_type": "stream",
     "text": [
      "\n",
      "  0%|                                              | 0/11 [00:00<?, ?it/s]\u001b[A\n",
      " 18%|██████▉                               | 2/11 [00:00<00:00, 18.57it/s]\u001b[A\n",
      " 36%|█████████████▊                        | 4/11 [00:00<00:00, 18.46it/s]\u001b[A\n",
      " 55%|████████████████████▋                 | 6/11 [00:00<00:00, 18.64it/s]\u001b[A\n",
      " 73%|███████████████████████████▋          | 8/11 [00:00<00:00, 18.72it/s]\u001b[A\n",
      "100%|█████████████████████████████████████| 11/11 [00:00<00:00, 18.73it/s]\u001b[A\n"
     ]
    },
    {
     "name": "stdout",
     "output_type": "stream",
     "text": [
      "BC Output shape (1260, 11, 22)\n",
      "Spatial Disaggregation - Monthly (NCLIM ==  12 )\n",
      "SD Type - PREC\n",
      "No of timesteps  1260\n",
      "SD Input shape (1260, 52, 112) (1260, 11, 22)\n"
     ]
    },
    {
     "name": "stderr",
     "output_type": "stream",
     "text": [
      "\n",
      "  0%|                                            | 0/1260 [00:00<?, ?it/s]\u001b[A\n",
      " 15%|████▊                           | 191/1260 [00:00<00:00, 1908.47it/s]\u001b[A\n",
      " 32%|██████████                      | 397/1260 [00:00<00:00, 1994.90it/s]\u001b[A\n",
      " 48%|███████████████▍                | 610/1260 [00:00<00:00, 2052.22it/s]\u001b[A\n",
      " 66%|█████████████████████▏          | 833/1260 [00:00<00:00, 2118.73it/s]\u001b[A\n",
      "100%|███████████████████████████████| 1260/1260 [00:00<00:00, 2118.19it/s]\u001b[A\n",
      " 40%|██████████████▍                     | 40/100 [01:16<01:54,  1.91s/it]"
     ]
    },
    {
     "name": "stdout",
     "output_type": "stream",
     "text": [
      "SD Output shape (1260, 52, 112)\n",
      "Bias Correction Spatially - monthly:\n",
      "Training years : 105.0 == 105.0\n",
      "Testing years : 105.0\n",
      "Bias correction fucntion : <function normal_quantile_mapping at 0x7f0d34c71dc0>\n",
      "BC Input shape (1260, 11, 22) (1260, 11, 22) (1260, 11, 22)\n",
      "11 22\n"
     ]
    },
    {
     "name": "stderr",
     "output_type": "stream",
     "text": [
      "\n",
      "  0%|                                              | 0/11 [00:00<?, ?it/s]\u001b[A\n",
      " 18%|██████▉                               | 2/11 [00:00<00:00, 19.81it/s]\u001b[A\n",
      " 36%|█████████████▊                        | 4/11 [00:00<00:00, 18.92it/s]\u001b[A\n",
      " 55%|████████████████████▋                 | 6/11 [00:00<00:00, 19.17it/s]\u001b[A\n",
      " 73%|███████████████████████████▋          | 8/11 [00:00<00:00, 18.97it/s]\u001b[A\n",
      "100%|█████████████████████████████████████| 11/11 [00:00<00:00, 19.01it/s]\u001b[A\n"
     ]
    },
    {
     "name": "stdout",
     "output_type": "stream",
     "text": [
      "BC Output shape (1260, 11, 22)\n",
      "Spatial Disaggregation - Monthly (NCLIM ==  12 )\n",
      "SD Type - PREC\n",
      "No of timesteps  1260\n",
      "SD Input shape (1260, 52, 112) (1260, 11, 22)\n"
     ]
    },
    {
     "name": "stderr",
     "output_type": "stream",
     "text": [
      "\n",
      "  0%|                                            | 0/1260 [00:00<?, ?it/s]\u001b[A\n",
      " 17%|█████▎                          | 209/1260 [00:00<00:00, 2087.60it/s]\u001b[A\n",
      " 34%|██████████▊                     | 428/1260 [00:00<00:00, 2143.94it/s]\u001b[A\n",
      " 51%|████████████████▎               | 643/1260 [00:00<00:00, 2143.29it/s]\u001b[A\n",
      " 68%|█████████████████████▊          | 858/1260 [00:00<00:00, 1974.91it/s]\u001b[A\n",
      "100%|███████████████████████████████| 1260/1260 [00:00<00:00, 2080.79it/s]\u001b[A\n",
      " 41%|██████████████▊                     | 41/100 [01:18<01:52,  1.91s/it]"
     ]
    },
    {
     "name": "stdout",
     "output_type": "stream",
     "text": [
      "SD Output shape (1260, 52, 112)\n",
      "Bias Correction Spatially - monthly:\n",
      "Training years : 105.0 == 105.0\n",
      "Testing years : 105.0\n",
      "Bias correction fucntion : <function normal_quantile_mapping at 0x7f0d34c71dc0>\n",
      "BC Input shape (1260, 11, 22) (1260, 11, 22) (1260, 11, 22)\n",
      "11 22\n"
     ]
    },
    {
     "name": "stderr",
     "output_type": "stream",
     "text": [
      "\n",
      "  0%|                                              | 0/11 [00:00<?, ?it/s]\u001b[A\n",
      " 18%|██████▉                               | 2/11 [00:00<00:00, 19.41it/s]\u001b[A\n",
      " 36%|█████████████▊                        | 4/11 [00:00<00:00, 19.31it/s]\u001b[A\n",
      " 55%|████████████████████▋                 | 6/11 [00:00<00:00, 19.04it/s]\u001b[A\n",
      " 73%|███████████████████████████▋          | 8/11 [00:00<00:00, 19.01it/s]\u001b[A\n",
      "100%|█████████████████████████████████████| 11/11 [00:00<00:00, 19.18it/s]\u001b[A\n"
     ]
    },
    {
     "name": "stdout",
     "output_type": "stream",
     "text": [
      "BC Output shape (1260, 11, 22)\n",
      "Spatial Disaggregation - Monthly (NCLIM ==  12 )\n",
      "SD Type - PREC\n",
      "No of timesteps  1260\n",
      "SD Input shape (1260, 52, 112) (1260, 11, 22)\n"
     ]
    },
    {
     "name": "stderr",
     "output_type": "stream",
     "text": [
      "\n",
      "  0%|                                            | 0/1260 [00:00<?, ?it/s]\u001b[A\n",
      " 18%|█████▌                          | 221/1260 [00:00<00:00, 2202.02it/s]\u001b[A\n",
      " 35%|███████████▏                    | 442/1260 [00:00<00:00, 2198.03it/s]\u001b[A\n",
      " 53%|████████████████▊               | 663/1260 [00:00<00:00, 2202.41it/s]\u001b[A\n",
      " 70%|██████████████████████▍         | 884/1260 [00:00<00:00, 2204.69it/s]\u001b[A\n",
      "100%|███████████████████████████████| 1260/1260 [00:00<00:00, 2192.10it/s]\u001b[A\n",
      " 42%|███████████████                     | 42/100 [01:20<01:50,  1.90s/it]"
     ]
    },
    {
     "name": "stdout",
     "output_type": "stream",
     "text": [
      "SD Output shape (1260, 52, 112)\n",
      "Bias Correction Spatially - monthly:\n",
      "Training years : 105.0 == 105.0\n",
      "Testing years : 105.0\n",
      "Bias correction fucntion : <function normal_quantile_mapping at 0x7f0d34c71dc0>\n",
      "BC Input shape (1260, 11, 22) (1260, 11, 22) (1260, 11, 22)\n",
      "11 22\n"
     ]
    },
    {
     "name": "stderr",
     "output_type": "stream",
     "text": [
      "\n",
      "  0%|                                              | 0/11 [00:00<?, ?it/s]\u001b[A\n",
      " 18%|██████▉                               | 2/11 [00:00<00:00, 19.61it/s]\u001b[A\n",
      " 36%|█████████████▊                        | 4/11 [00:00<00:00, 19.43it/s]\u001b[A\n",
      " 55%|████████████████████▋                 | 6/11 [00:00<00:00, 19.38it/s]\u001b[A\n",
      " 73%|███████████████████████████▋          | 8/11 [00:00<00:00, 19.15it/s]\u001b[A\n",
      "100%|█████████████████████████████████████| 11/11 [00:00<00:00, 18.99it/s]\u001b[A\n"
     ]
    },
    {
     "name": "stdout",
     "output_type": "stream",
     "text": [
      "BC Output shape (1260, 11, 22)\n",
      "Spatial Disaggregation - Monthly (NCLIM ==  12 )\n",
      "SD Type - PREC\n",
      "No of timesteps  1260\n",
      "SD Input shape (1260, 52, 112) (1260, 11, 22)\n"
     ]
    },
    {
     "name": "stderr",
     "output_type": "stream",
     "text": [
      "\n",
      "  0%|                                            | 0/1260 [00:00<?, ?it/s]\u001b[A\n",
      " 17%|█████▌                          | 220/1260 [00:00<00:00, 2191.75it/s]\u001b[A\n",
      " 35%|███████████▏                    | 440/1260 [00:00<00:00, 2182.77it/s]\u001b[A\n",
      " 52%|████████████████▋               | 659/1260 [00:00<00:00, 2179.32it/s]\u001b[A\n",
      " 70%|██████████████████████▎         | 879/1260 [00:00<00:00, 2185.15it/s]\u001b[A\n",
      "100%|███████████████████████████████| 1260/1260 [00:00<00:00, 2141.47it/s]\u001b[A\n",
      " 43%|███████████████▍                    | 43/100 [01:22<01:48,  1.90s/it]"
     ]
    },
    {
     "name": "stdout",
     "output_type": "stream",
     "text": [
      "SD Output shape (1260, 52, 112)\n",
      "Bias Correction Spatially - monthly:\n",
      "Training years : 105.0 == 105.0\n",
      "Testing years : 105.0\n",
      "Bias correction fucntion : <function normal_quantile_mapping at 0x7f0d34c71dc0>\n",
      "BC Input shape (1260, 11, 22) (1260, 11, 22) (1260, 11, 22)\n",
      "11 22\n"
     ]
    },
    {
     "name": "stderr",
     "output_type": "stream",
     "text": [
      "\n",
      "  0%|                                              | 0/11 [00:00<?, ?it/s]\u001b[A\n",
      " 18%|██████▉                               | 2/11 [00:00<00:00, 18.66it/s]\u001b[A\n",
      " 36%|█████████████▊                        | 4/11 [00:00<00:00, 18.39it/s]\u001b[A\n",
      " 55%|████████████████████▋                 | 6/11 [00:00<00:00, 18.68it/s]\u001b[A\n",
      " 73%|███████████████████████████▋          | 8/11 [00:00<00:00, 18.69it/s]\u001b[A\n",
      "100%|█████████████████████████████████████| 11/11 [00:00<00:00, 18.48it/s]\u001b[A\n"
     ]
    },
    {
     "name": "stdout",
     "output_type": "stream",
     "text": [
      "BC Output shape (1260, 11, 22)\n",
      "Spatial Disaggregation - Monthly (NCLIM ==  12 )\n",
      "SD Type - PREC\n",
      "No of timesteps  1260\n",
      "SD Input shape (1260, 52, 112) (1260, 11, 22)\n"
     ]
    },
    {
     "name": "stderr",
     "output_type": "stream",
     "text": [
      "\n",
      "  0%|                                            | 0/1260 [00:00<?, ?it/s]\u001b[A\n",
      " 17%|█████▍                          | 212/1260 [00:00<00:00, 2116.47it/s]\u001b[A\n",
      " 34%|██████████▊                     | 424/1260 [00:00<00:00, 2086.34it/s]\u001b[A\n",
      " 50%|████████████████▏               | 636/1260 [00:00<00:00, 2098.93it/s]\u001b[A\n",
      " 67%|█████████████████████▌          | 848/1260 [00:00<00:00, 2103.99it/s]\u001b[A\n",
      "100%|███████████████████████████████| 1260/1260 [00:00<00:00, 2114.95it/s]\u001b[A\n",
      " 44%|███████████████▊                    | 44/100 [01:24<01:46,  1.90s/it]"
     ]
    },
    {
     "name": "stdout",
     "output_type": "stream",
     "text": [
      "SD Output shape (1260, 52, 112)\n",
      "Bias Correction Spatially - monthly:\n",
      "Training years : 105.0 == 105.0\n",
      "Testing years : 105.0\n",
      "Bias correction fucntion : <function normal_quantile_mapping at 0x7f0d34c71dc0>\n",
      "BC Input shape (1260, 11, 22) (1260, 11, 22) (1260, 11, 22)\n",
      "11 22\n"
     ]
    },
    {
     "name": "stderr",
     "output_type": "stream",
     "text": [
      "\n",
      "  0%|                                              | 0/11 [00:00<?, ?it/s]\u001b[A\n",
      " 18%|██████▉                               | 2/11 [00:00<00:00, 18.52it/s]\u001b[A\n",
      " 36%|█████████████▊                        | 4/11 [00:00<00:00, 19.05it/s]\u001b[A\n",
      " 55%|████████████████████▋                 | 6/11 [00:00<00:00, 18.69it/s]\u001b[A\n",
      " 73%|███████████████████████████▋          | 8/11 [00:00<00:00, 18.80it/s]\u001b[A\n",
      "100%|█████████████████████████████████████| 11/11 [00:00<00:00, 18.24it/s]\u001b[A\n"
     ]
    },
    {
     "name": "stdout",
     "output_type": "stream",
     "text": [
      "BC Output shape (1260, 11, 22)\n",
      "Spatial Disaggregation - Monthly (NCLIM ==  12 )\n",
      "SD Type - PREC\n",
      "No of timesteps  1260\n",
      "SD Input shape (1260, 52, 112) (1260, 11, 22)\n"
     ]
    },
    {
     "name": "stderr",
     "output_type": "stream",
     "text": [
      "\n",
      "  0%|                                            | 0/1260 [00:00<?, ?it/s]\u001b[A\n",
      " 17%|█████▌                          | 218/1260 [00:00<00:00, 2178.10it/s]\u001b[A\n",
      " 35%|███████████                     | 437/1260 [00:00<00:00, 2182.85it/s]\u001b[A\n",
      " 52%|████████████████▋               | 656/1260 [00:00<00:00, 2178.65it/s]\u001b[A\n",
      " 69%|██████████████████████▏         | 874/1260 [00:00<00:00, 2159.11it/s]\u001b[A\n",
      "100%|███████████████████████████████| 1260/1260 [00:00<00:00, 2179.91it/s]\u001b[A\n",
      " 45%|████████████████▏                   | 45/100 [01:26<01:44,  1.91s/it]"
     ]
    },
    {
     "name": "stdout",
     "output_type": "stream",
     "text": [
      "SD Output shape (1260, 52, 112)\n",
      "Bias Correction Spatially - monthly:\n",
      "Training years : 105.0 == 105.0\n",
      "Testing years : 105.0\n",
      "Bias correction fucntion : <function normal_quantile_mapping at 0x7f0d34c71dc0>\n",
      "BC Input shape (1260, 11, 22) (1260, 11, 22) (1260, 11, 22)\n",
      "11 22\n"
     ]
    },
    {
     "name": "stderr",
     "output_type": "stream",
     "text": [
      "\n",
      "  0%|                                              | 0/11 [00:00<?, ?it/s]\u001b[A\n",
      " 18%|██████▉                               | 2/11 [00:00<00:00, 19.81it/s]\u001b[A\n",
      " 36%|█████████████▊                        | 4/11 [00:00<00:00, 19.65it/s]\u001b[A\n",
      " 55%|████████████████████▋                 | 6/11 [00:00<00:00, 19.60it/s]\u001b[A\n",
      " 73%|███████████████████████████▋          | 8/11 [00:00<00:00, 19.54it/s]\u001b[A\n",
      "100%|█████████████████████████████████████| 11/11 [00:00<00:00, 19.45it/s]\u001b[A\n"
     ]
    },
    {
     "name": "stdout",
     "output_type": "stream",
     "text": [
      "BC Output shape (1260, 11, 22)\n",
      "Spatial Disaggregation - Monthly (NCLIM ==  12 )\n",
      "SD Type - PREC\n",
      "No of timesteps  1260\n",
      "SD Input shape (1260, 52, 112) (1260, 11, 22)\n"
     ]
    },
    {
     "name": "stderr",
     "output_type": "stream",
     "text": [
      "\n",
      "  0%|                                            | 0/1260 [00:00<?, ?it/s]\u001b[A\n",
      " 16%|█████                           | 201/1260 [00:00<00:00, 2002.60it/s]\u001b[A\n",
      " 32%|██████████▎                     | 408/1260 [00:00<00:00, 2038.54it/s]\u001b[A\n",
      " 50%|████████████████                | 631/1260 [00:00<00:00, 2123.81it/s]\u001b[A\n",
      " 68%|█████████████████████▋          | 854/1260 [00:00<00:00, 2161.76it/s]\u001b[A\n",
      "100%|███████████████████████████████| 1260/1260 [00:00<00:00, 2150.15it/s]\u001b[A\n",
      " 46%|████████████████▌                   | 46/100 [01:28<01:42,  1.90s/it]"
     ]
    },
    {
     "name": "stdout",
     "output_type": "stream",
     "text": [
      "SD Output shape (1260, 52, 112)\n",
      "Bias Correction Spatially - monthly:\n",
      "Training years : 105.0 == 105.0\n",
      "Testing years : 105.0\n",
      "Bias correction fucntion : <function normal_quantile_mapping at 0x7f0d34c71dc0>\n",
      "BC Input shape (1260, 11, 22) (1260, 11, 22) (1260, 11, 22)\n",
      "11 22\n"
     ]
    },
    {
     "name": "stderr",
     "output_type": "stream",
     "text": [
      "\n",
      "  0%|                                              | 0/11 [00:00<?, ?it/s]\u001b[A\n",
      " 18%|██████▉                               | 2/11 [00:00<00:00, 17.32it/s]\u001b[A\n",
      " 36%|█████████████▊                        | 4/11 [00:00<00:00, 18.15it/s]\u001b[A\n",
      " 55%|████████████████████▋                 | 6/11 [00:00<00:00, 18.41it/s]\u001b[A\n",
      " 73%|███████████████████████████▋          | 8/11 [00:00<00:00, 18.38it/s]\u001b[A\n",
      "100%|█████████████████████████████████████| 11/11 [00:00<00:00, 18.55it/s]\u001b[A\n"
     ]
    },
    {
     "name": "stdout",
     "output_type": "stream",
     "text": [
      "BC Output shape (1260, 11, 22)\n",
      "Spatial Disaggregation - Monthly (NCLIM ==  12 )\n",
      "SD Type - PREC\n",
      "No of timesteps  1260\n",
      "SD Input shape (1260, 52, 112) (1260, 11, 22)\n"
     ]
    },
    {
     "name": "stderr",
     "output_type": "stream",
     "text": [
      "\n",
      "  0%|                                            | 0/1260 [00:00<?, ?it/s]\u001b[A\n",
      " 18%|█████▋                          | 223/1260 [00:00<00:00, 2229.23it/s]\u001b[A\n",
      " 35%|███████████▎                    | 446/1260 [00:00<00:00, 2185.30it/s]\u001b[A\n",
      " 53%|████████████████▉               | 665/1260 [00:00<00:00, 2187.38it/s]\u001b[A\n",
      " 70%|██████████████████████▌         | 888/1260 [00:00<00:00, 2201.34it/s]\u001b[A\n",
      "100%|███████████████████████████████| 1260/1260 [00:00<00:00, 2185.07it/s]\u001b[A\n",
      " 47%|████████████████▉                   | 47/100 [01:30<01:40,  1.90s/it]"
     ]
    },
    {
     "name": "stdout",
     "output_type": "stream",
     "text": [
      "SD Output shape (1260, 52, 112)\n",
      "Bias Correction Spatially - monthly:\n",
      "Training years : 105.0 == 105.0\n",
      "Testing years : 105.0\n",
      "Bias correction fucntion : <function normal_quantile_mapping at 0x7f0d34c71dc0>\n",
      "BC Input shape (1260, 11, 22) (1260, 11, 22) (1260, 11, 22)\n",
      "11 22\n"
     ]
    },
    {
     "name": "stderr",
     "output_type": "stream",
     "text": [
      "\n",
      "  0%|                                              | 0/11 [00:00<?, ?it/s]\u001b[A\n",
      " 18%|██████▉                               | 2/11 [00:00<00:00, 19.63it/s]\u001b[A\n",
      " 36%|█████████████▊                        | 4/11 [00:00<00:00, 19.37it/s]\u001b[A\n",
      " 55%|████████████████████▋                 | 6/11 [00:00<00:00, 19.43it/s]\u001b[A\n",
      " 73%|███████████████████████████▋          | 8/11 [00:00<00:00, 19.46it/s]\u001b[A\n",
      "100%|█████████████████████████████████████| 11/11 [00:00<00:00, 19.42it/s]\u001b[A\n"
     ]
    },
    {
     "name": "stdout",
     "output_type": "stream",
     "text": [
      "BC Output shape (1260, 11, 22)\n",
      "Spatial Disaggregation - Monthly (NCLIM ==  12 )\n",
      "SD Type - PREC\n",
      "No of timesteps  1260\n",
      "SD Input shape (1260, 52, 112) (1260, 11, 22)\n"
     ]
    },
    {
     "name": "stderr",
     "output_type": "stream",
     "text": [
      "\n",
      "  0%|                                            | 0/1260 [00:00<?, ?it/s]\u001b[A\n",
      " 17%|█████▎                          | 209/1260 [00:00<00:00, 2082.37it/s]\u001b[A\n",
      " 33%|██████████▌                     | 418/1260 [00:00<00:00, 2054.69it/s]\u001b[A\n",
      " 50%|███████████████▊                | 624/1260 [00:00<00:00, 2055.10it/s]\u001b[A\n",
      " 66%|█████████████████████           | 830/1260 [00:00<00:00, 2036.61it/s]\u001b[A\n",
      "100%|███████████████████████████████| 1260/1260 [00:00<00:00, 2089.03it/s]\u001b[A\n",
      " 48%|█████████████████▎                  | 48/100 [01:31<01:38,  1.90s/it]"
     ]
    },
    {
     "name": "stdout",
     "output_type": "stream",
     "text": [
      "SD Output shape (1260, 52, 112)\n",
      "Bias Correction Spatially - monthly:\n",
      "Training years : 105.0 == 105.0\n",
      "Testing years : 105.0\n",
      "Bias correction fucntion : <function normal_quantile_mapping at 0x7f0d34c71dc0>\n",
      "BC Input shape (1260, 11, 22) (1260, 11, 22) (1260, 11, 22)\n",
      "11 22\n"
     ]
    },
    {
     "name": "stderr",
     "output_type": "stream",
     "text": [
      "\n",
      "  0%|                                              | 0/11 [00:00<?, ?it/s]\u001b[A\n",
      " 18%|██████▉                               | 2/11 [00:00<00:00, 17.45it/s]\u001b[A\n",
      " 36%|█████████████▊                        | 4/11 [00:00<00:00, 18.55it/s]\u001b[A\n",
      " 55%|████████████████████▋                 | 6/11 [00:00<00:00, 18.54it/s]\u001b[A\n",
      " 73%|███████████████████████████▋          | 8/11 [00:00<00:00, 18.89it/s]\u001b[A\n",
      "100%|█████████████████████████████████████| 11/11 [00:00<00:00, 18.84it/s]\u001b[A\n"
     ]
    },
    {
     "name": "stdout",
     "output_type": "stream",
     "text": [
      "BC Output shape (1260, 11, 22)\n",
      "Spatial Disaggregation - Monthly (NCLIM ==  12 )\n",
      "SD Type - PREC\n",
      "No of timesteps  1260\n",
      "SD Input shape (1260, 52, 112) (1260, 11, 22)\n"
     ]
    },
    {
     "name": "stderr",
     "output_type": "stream",
     "text": [
      "\n",
      "  0%|                                            | 0/1260 [00:00<?, ?it/s]\u001b[A\n",
      " 17%|█████▎                          | 210/1260 [00:00<00:00, 2097.48it/s]\u001b[A\n",
      " 33%|██████████▋                     | 421/1260 [00:00<00:00, 2104.39it/s]\u001b[A\n",
      " 50%|████████████████                | 632/1260 [00:00<00:00, 2102.56it/s]\u001b[A\n",
      " 67%|█████████████████████▍          | 843/1260 [00:00<00:00, 2086.73it/s]\u001b[A\n",
      "100%|███████████████████████████████| 1260/1260 [00:00<00:00, 2097.58it/s]\u001b[A\n",
      " 49%|█████████████████▋                  | 49/100 [01:33<01:37,  1.91s/it]"
     ]
    },
    {
     "name": "stdout",
     "output_type": "stream",
     "text": [
      "SD Output shape (1260, 52, 112)\n",
      "Bias Correction Spatially - monthly:\n",
      "Training years : 105.0 == 105.0\n",
      "Testing years : 105.0\n",
      "Bias correction fucntion : <function normal_quantile_mapping at 0x7f0d34c71dc0>\n",
      "BC Input shape (1260, 11, 22) (1260, 11, 22) (1260, 11, 22)\n",
      "11 22\n"
     ]
    },
    {
     "name": "stderr",
     "output_type": "stream",
     "text": [
      "\n",
      "  0%|                                              | 0/11 [00:00<?, ?it/s]\u001b[A\n",
      " 18%|██████▉                               | 2/11 [00:00<00:00, 19.44it/s]\u001b[A\n",
      " 36%|█████████████▊                        | 4/11 [00:00<00:00, 19.27it/s]\u001b[A\n",
      " 55%|████████████████████▋                 | 6/11 [00:00<00:00, 19.21it/s]\u001b[A\n",
      " 73%|███████████████████████████▋          | 8/11 [00:00<00:00, 19.19it/s]\u001b[A\n",
      "100%|█████████████████████████████████████| 11/11 [00:00<00:00, 19.10it/s]\u001b[A\n"
     ]
    },
    {
     "name": "stdout",
     "output_type": "stream",
     "text": [
      "BC Output shape (1260, 11, 22)\n",
      "Spatial Disaggregation - Monthly (NCLIM ==  12 )\n",
      "SD Type - PREC\n",
      "No of timesteps  1260\n",
      "SD Input shape (1260, 52, 112) (1260, 11, 22)\n"
     ]
    },
    {
     "name": "stderr",
     "output_type": "stream",
     "text": [
      "\n",
      "  0%|                                            | 0/1260 [00:00<?, ?it/s]\u001b[A\n",
      " 17%|█████▍                          | 216/1260 [00:00<00:00, 2154.69it/s]\u001b[A\n",
      " 34%|██████████▉                     | 432/1260 [00:00<00:00, 2127.02it/s]\u001b[A\n",
      " 51%|████████████████▍               | 645/1260 [00:00<00:00, 2112.21it/s]\u001b[A\n",
      " 68%|█████████████████████▊          | 857/1260 [00:00<00:00, 2043.59it/s]\u001b[A\n",
      "100%|███████████████████████████████| 1260/1260 [00:00<00:00, 2080.05it/s]\u001b[A\n",
      " 50%|██████████████████                  | 50/100 [01:35<01:35,  1.91s/it]"
     ]
    },
    {
     "name": "stdout",
     "output_type": "stream",
     "text": [
      "SD Output shape (1260, 52, 112)\n",
      "Bias Correction Spatially - monthly:\n",
      "Training years : 105.0 == 105.0\n",
      "Testing years : 105.0\n",
      "Bias correction fucntion : <function normal_quantile_mapping at 0x7f0d34c71dc0>\n",
      "BC Input shape (1260, 11, 22) (1260, 11, 22) (1260, 11, 22)\n",
      "11 22\n"
     ]
    },
    {
     "name": "stderr",
     "output_type": "stream",
     "text": [
      "\n",
      "  0%|                                              | 0/11 [00:00<?, ?it/s]\u001b[A\n",
      " 18%|██████▉                               | 2/11 [00:00<00:00, 19.27it/s]\u001b[A\n",
      " 36%|█████████████▊                        | 4/11 [00:00<00:00, 19.14it/s]\u001b[A\n",
      " 55%|████████████████████▋                 | 6/11 [00:00<00:00, 18.93it/s]\u001b[A\n",
      " 73%|███████████████████████████▋          | 8/11 [00:00<00:00, 18.98it/s]\u001b[A\n",
      "100%|█████████████████████████████████████| 11/11 [00:00<00:00, 18.99it/s]\u001b[A\n"
     ]
    },
    {
     "name": "stdout",
     "output_type": "stream",
     "text": [
      "BC Output shape (1260, 11, 22)\n",
      "Spatial Disaggregation - Monthly (NCLIM ==  12 )\n",
      "SD Type - PREC\n",
      "No of timesteps  1260\n",
      "SD Input shape (1260, 52, 112) (1260, 11, 22)\n"
     ]
    },
    {
     "name": "stderr",
     "output_type": "stream",
     "text": [
      "\n",
      "  0%|                                            | 0/1260 [00:00<?, ?it/s]\u001b[A\n",
      " 17%|█████▌                          | 219/1260 [00:00<00:00, 2186.33it/s]\u001b[A\n",
      " 35%|███████████                     | 438/1260 [00:00<00:00, 2185.38it/s]\u001b[A\n",
      " 52%|████████████████▋               | 657/1260 [00:00<00:00, 2160.84it/s]\u001b[A\n",
      " 70%|██████████████████████▏         | 876/1260 [00:00<00:00, 2171.69it/s]\u001b[A\n",
      "100%|███████████████████████████████| 1260/1260 [00:00<00:00, 2173.09it/s]\u001b[A\n",
      " 51%|██████████████████▎                 | 51/100 [01:37<01:33,  1.90s/it]"
     ]
    },
    {
     "name": "stdout",
     "output_type": "stream",
     "text": [
      "SD Output shape (1260, 52, 112)\n",
      "Bias Correction Spatially - monthly:\n",
      "Training years : 105.0 == 105.0\n",
      "Testing years : 105.0\n",
      "Bias correction fucntion : <function normal_quantile_mapping at 0x7f0d34c71dc0>\n",
      "BC Input shape (1260, 11, 22) (1260, 11, 22) (1260, 11, 22)\n",
      "11 22\n"
     ]
    },
    {
     "name": "stderr",
     "output_type": "stream",
     "text": [
      "\n",
      "  0%|                                              | 0/11 [00:00<?, ?it/s]\u001b[A\n",
      " 18%|██████▉                               | 2/11 [00:00<00:00, 19.63it/s]\u001b[A\n",
      " 36%|█████████████▊                        | 4/11 [00:00<00:00, 19.29it/s]\u001b[A\n",
      " 55%|████████████████████▋                 | 6/11 [00:00<00:00, 19.27it/s]\u001b[A\n",
      " 73%|███████████████████████████▋          | 8/11 [00:00<00:00, 19.30it/s]\u001b[A\n",
      "100%|█████████████████████████████████████| 11/11 [00:00<00:00, 19.23it/s]\u001b[A\n"
     ]
    },
    {
     "name": "stdout",
     "output_type": "stream",
     "text": [
      "BC Output shape (1260, 11, 22)\n",
      "Spatial Disaggregation - Monthly (NCLIM ==  12 )\n",
      "SD Type - PREC\n",
      "No of timesteps  1260\n",
      "SD Input shape (1260, 52, 112) (1260, 11, 22)\n"
     ]
    },
    {
     "name": "stderr",
     "output_type": "stream",
     "text": [
      "\n",
      "  0%|                                            | 0/1260 [00:00<?, ?it/s]\u001b[A\n",
      " 18%|█████▋                          | 222/1260 [00:00<00:00, 2217.34it/s]\u001b[A\n",
      " 35%|███████████▎                    | 444/1260 [00:00<00:00, 2207.02it/s]\u001b[A\n",
      " 53%|████████████████▉               | 667/1260 [00:00<00:00, 2214.41it/s]\u001b[A\n",
      " 71%|██████████████████████▌         | 889/1260 [00:00<00:00, 2046.95it/s]\u001b[A\n",
      "100%|███████████████████████████████| 1260/1260 [00:00<00:00, 2127.12it/s]\u001b[A\n",
      " 52%|██████████████████▋                 | 52/100 [01:39<01:31,  1.90s/it]"
     ]
    },
    {
     "name": "stdout",
     "output_type": "stream",
     "text": [
      "SD Output shape (1260, 52, 112)\n",
      "Bias Correction Spatially - monthly:\n",
      "Training years : 105.0 == 105.0\n",
      "Testing years : 105.0\n",
      "Bias correction fucntion : <function normal_quantile_mapping at 0x7f0d34c71dc0>\n",
      "BC Input shape (1260, 11, 22) (1260, 11, 22) (1260, 11, 22)\n",
      "11 22\n"
     ]
    },
    {
     "name": "stderr",
     "output_type": "stream",
     "text": [
      "\n",
      "  0%|                                              | 0/11 [00:00<?, ?it/s]\u001b[A\n",
      " 18%|██████▉                               | 2/11 [00:00<00:00, 18.53it/s]\u001b[A\n",
      " 36%|█████████████▊                        | 4/11 [00:00<00:00, 18.32it/s]\u001b[A\n",
      " 55%|████████████████████▋                 | 6/11 [00:00<00:00, 18.38it/s]\u001b[A\n",
      " 73%|███████████████████████████▋          | 8/11 [00:00<00:00, 18.44it/s]\u001b[A\n",
      "100%|█████████████████████████████████████| 11/11 [00:00<00:00, 18.61it/s]\u001b[A\n"
     ]
    },
    {
     "name": "stdout",
     "output_type": "stream",
     "text": [
      "BC Output shape (1260, 11, 22)\n",
      "Spatial Disaggregation - Monthly (NCLIM ==  12 )\n",
      "SD Type - PREC\n",
      "No of timesteps  1260\n",
      "SD Input shape (1260, 52, 112) (1260, 11, 22)\n"
     ]
    },
    {
     "name": "stderr",
     "output_type": "stream",
     "text": [
      "\n",
      "  0%|                                            | 0/1260 [00:00<?, ?it/s]\u001b[A\n",
      " 17%|█████▌                          | 218/1260 [00:00<00:00, 2171.93it/s]\u001b[A\n",
      " 35%|███████████                     | 437/1260 [00:00<00:00, 2181.31it/s]\u001b[A\n",
      " 52%|████████████████▋               | 656/1260 [00:00<00:00, 2183.30it/s]\u001b[A\n",
      " 70%|██████████████████████▏         | 876/1260 [00:00<00:00, 2187.19it/s]\u001b[A\n",
      "100%|███████████████████████████████| 1260/1260 [00:00<00:00, 2178.82it/s]\u001b[A\n",
      " 53%|███████████████████                 | 53/100 [01:41<01:29,  1.90s/it]"
     ]
    },
    {
     "name": "stdout",
     "output_type": "stream",
     "text": [
      "SD Output shape (1260, 52, 112)\n",
      "Bias Correction Spatially - monthly:\n",
      "Training years : 105.0 == 105.0\n",
      "Testing years : 105.0\n",
      "Bias correction fucntion : <function normal_quantile_mapping at 0x7f0d34c71dc0>\n",
      "BC Input shape (1260, 11, 22) (1260, 11, 22) (1260, 11, 22)\n",
      "11 22\n"
     ]
    },
    {
     "name": "stderr",
     "output_type": "stream",
     "text": [
      "\n",
      "  0%|                                              | 0/11 [00:00<?, ?it/s]\u001b[A\n",
      " 18%|██████▉                               | 2/11 [00:00<00:00, 19.62it/s]\u001b[A\n",
      " 36%|█████████████▊                        | 4/11 [00:00<00:00, 19.44it/s]\u001b[A\n",
      " 55%|████████████████████▋                 | 6/11 [00:00<00:00, 19.03it/s]\u001b[A\n",
      " 73%|███████████████████████████▋          | 8/11 [00:00<00:00, 18.74it/s]\u001b[A\n",
      "100%|█████████████████████████████████████| 11/11 [00:00<00:00, 18.88it/s]\u001b[A\n"
     ]
    },
    {
     "name": "stdout",
     "output_type": "stream",
     "text": [
      "BC Output shape (1260, 11, 22)\n",
      "Spatial Disaggregation - Monthly (NCLIM ==  12 )\n",
      "SD Type - PREC\n",
      "No of timesteps  1260\n",
      "SD Input shape (1260, 52, 112) (1260, 11, 22)\n"
     ]
    },
    {
     "name": "stderr",
     "output_type": "stream",
     "text": [
      "\n",
      "  0%|                                            | 0/1260 [00:00<?, ?it/s]\u001b[A\n",
      " 18%|█████▋                          | 223/1260 [00:00<00:00, 2228.60it/s]\u001b[A\n",
      " 35%|███████████▎                    | 446/1260 [00:00<00:00, 2201.76it/s]\u001b[A\n",
      " 53%|████████████████▉               | 667/1260 [00:00<00:00, 2198.87it/s]\u001b[A\n",
      " 70%|██████████████████████▌         | 888/1260 [00:00<00:00, 2200.11it/s]\u001b[A\n",
      "100%|███████████████████████████████| 1260/1260 [00:00<00:00, 2197.47it/s]\u001b[A\n",
      " 54%|███████████████████▍                | 54/100 [01:43<01:27,  1.90s/it]"
     ]
    },
    {
     "name": "stdout",
     "output_type": "stream",
     "text": [
      "SD Output shape (1260, 52, 112)\n",
      "Bias Correction Spatially - monthly:\n",
      "Training years : 105.0 == 105.0\n",
      "Testing years : 105.0\n",
      "Bias correction fucntion : <function normal_quantile_mapping at 0x7f0d34c71dc0>\n",
      "BC Input shape (1260, 11, 22) (1260, 11, 22) (1260, 11, 22)\n",
      "11 22\n"
     ]
    },
    {
     "name": "stderr",
     "output_type": "stream",
     "text": [
      "\n",
      "  0%|                                              | 0/11 [00:00<?, ?it/s]\u001b[A\n",
      " 18%|██████▉                               | 2/11 [00:00<00:00, 17.90it/s]\u001b[A\n",
      " 36%|█████████████▊                        | 4/11 [00:00<00:00, 18.36it/s]\u001b[A\n",
      " 55%|████████████████████▋                 | 6/11 [00:00<00:00, 18.25it/s]\u001b[A\n",
      " 73%|███████████████████████████▋          | 8/11 [00:00<00:00, 18.70it/s]\u001b[A\n",
      "100%|█████████████████████████████████████| 11/11 [00:00<00:00, 17.38it/s]\u001b[A\n"
     ]
    },
    {
     "name": "stdout",
     "output_type": "stream",
     "text": [
      "BC Output shape (1260, 11, 22)\n",
      "Spatial Disaggregation - Monthly (NCLIM ==  12 )\n",
      "SD Type - PREC\n",
      "No of timesteps  1260\n",
      "SD Input shape (1260, 52, 112) (1260, 11, 22)\n"
     ]
    },
    {
     "name": "stderr",
     "output_type": "stream",
     "text": [
      "\n",
      "  0%|                                            | 0/1260 [00:00<?, ?it/s]\u001b[A\n",
      " 15%|████▉                           | 193/1260 [00:00<00:00, 1929.01it/s]\u001b[A\n",
      " 32%|██████████▍                     | 409/1260 [00:00<00:00, 2061.53it/s]\u001b[A\n",
      " 50%|███████████████▉                | 628/1260 [00:00<00:00, 2118.22it/s]\u001b[A\n",
      " 67%|█████████████████████▍          | 842/1260 [00:00<00:00, 2125.77it/s]\u001b[A\n",
      "100%|███████████████████████████████| 1260/1260 [00:00<00:00, 2139.79it/s]\u001b[A\n",
      " 55%|███████████████████▊                | 55/100 [01:45<01:26,  1.92s/it]"
     ]
    },
    {
     "name": "stdout",
     "output_type": "stream",
     "text": [
      "SD Output shape (1260, 52, 112)\n",
      "Bias Correction Spatially - monthly:\n",
      "Training years : 105.0 == 105.0\n",
      "Testing years : 105.0\n",
      "Bias correction fucntion : <function normal_quantile_mapping at 0x7f0d34c71dc0>\n",
      "BC Input shape (1260, 11, 22) (1260, 11, 22) (1260, 11, 22)\n",
      "11 22\n"
     ]
    },
    {
     "name": "stderr",
     "output_type": "stream",
     "text": [
      "\n",
      "  0%|                                              | 0/11 [00:00<?, ?it/s]\u001b[A\n",
      " 18%|██████▉                               | 2/11 [00:00<00:00, 17.22it/s]\u001b[A\n",
      " 36%|█████████████▊                        | 4/11 [00:00<00:00, 17.93it/s]\u001b[A\n",
      " 55%|████████████████████▋                 | 6/11 [00:00<00:00, 17.41it/s]\u001b[A\n",
      " 73%|███████████████████████████▋          | 8/11 [00:00<00:00, 17.77it/s]\u001b[A\n",
      "100%|█████████████████████████████████████| 11/11 [00:00<00:00, 17.80it/s]\u001b[A\n"
     ]
    },
    {
     "name": "stdout",
     "output_type": "stream",
     "text": [
      "BC Output shape (1260, 11, 22)\n",
      "Spatial Disaggregation - Monthly (NCLIM ==  12 )\n",
      "SD Type - PREC\n",
      "No of timesteps  1260\n",
      "SD Input shape (1260, 52, 112) (1260, 11, 22)\n"
     ]
    },
    {
     "name": "stderr",
     "output_type": "stream",
     "text": [
      "\n",
      "  0%|                                            | 0/1260 [00:00<?, ?it/s]\u001b[A\n",
      " 18%|█████▌                          | 221/1260 [00:00<00:00, 2201.61it/s]\u001b[A\n",
      " 35%|███████████▏                    | 442/1260 [00:00<00:00, 2173.68it/s]\u001b[A\n",
      " 52%|████████████████▊               | 660/1260 [00:00<00:00, 2170.47it/s]\u001b[A\n",
      " 70%|██████████████████████▎         | 881/1260 [00:00<00:00, 2184.08it/s]\u001b[A\n",
      "100%|███████████████████████████████| 1260/1260 [00:00<00:00, 2179.53it/s]\u001b[A\n",
      " 56%|████████████████████▏               | 56/100 [01:47<01:24,  1.92s/it]"
     ]
    },
    {
     "name": "stdout",
     "output_type": "stream",
     "text": [
      "SD Output shape (1260, 52, 112)\n",
      "Bias Correction Spatially - monthly:\n",
      "Training years : 105.0 == 105.0\n",
      "Testing years : 105.0\n",
      "Bias correction fucntion : <function normal_quantile_mapping at 0x7f0d34c71dc0>\n",
      "BC Input shape (1260, 11, 22) (1260, 11, 22) (1260, 11, 22)\n",
      "11 22\n"
     ]
    },
    {
     "name": "stderr",
     "output_type": "stream",
     "text": [
      "\n",
      "  0%|                                              | 0/11 [00:00<?, ?it/s]\u001b[A\n",
      " 18%|██████▉                               | 2/11 [00:00<00:00, 18.79it/s]\u001b[A\n",
      " 36%|█████████████▊                        | 4/11 [00:00<00:00, 18.67it/s]\u001b[A\n",
      " 55%|████████████████████▋                 | 6/11 [00:00<00:00, 18.66it/s]\u001b[A\n",
      " 73%|███████████████████████████▋          | 8/11 [00:00<00:00, 18.62it/s]\u001b[A\n",
      "100%|█████████████████████████████████████| 11/11 [00:00<00:00, 18.53it/s]\u001b[A\n"
     ]
    },
    {
     "name": "stdout",
     "output_type": "stream",
     "text": [
      "BC Output shape (1260, 11, 22)\n",
      "Spatial Disaggregation - Monthly (NCLIM ==  12 )\n",
      "SD Type - PREC\n",
      "No of timesteps  1260\n",
      "SD Input shape (1260, 52, 112) (1260, 11, 22)\n"
     ]
    },
    {
     "name": "stderr",
     "output_type": "stream",
     "text": [
      "\n",
      "  0%|                                            | 0/1260 [00:00<?, ?it/s]\u001b[A\n",
      " 17%|█████▎                          | 211/1260 [00:00<00:00, 2106.35it/s]\u001b[A\n",
      " 34%|██████████▉                     | 430/1260 [00:00<00:00, 2155.03it/s]\u001b[A\n",
      " 52%|████████████████▌               | 651/1260 [00:00<00:00, 2175.87it/s]\u001b[A\n",
      " 69%|██████████████████████          | 869/1260 [00:00<00:00, 2176.53it/s]\u001b[A\n",
      "100%|███████████████████████████████| 1260/1260 [00:00<00:00, 2176.52it/s]\u001b[A\n",
      " 57%|████████████████████▌               | 57/100 [01:49<01:22,  1.91s/it]"
     ]
    },
    {
     "name": "stdout",
     "output_type": "stream",
     "text": [
      "SD Output shape (1260, 52, 112)\n",
      "Bias Correction Spatially - monthly:\n",
      "Training years : 105.0 == 105.0\n",
      "Testing years : 105.0\n",
      "Bias correction fucntion : <function normal_quantile_mapping at 0x7f0d34c71dc0>\n",
      "BC Input shape (1260, 11, 22) (1260, 11, 22) (1260, 11, 22)\n",
      "11 22\n"
     ]
    },
    {
     "name": "stderr",
     "output_type": "stream",
     "text": [
      "\n",
      "  0%|                                              | 0/11 [00:00<?, ?it/s]\u001b[A\n",
      " 18%|██████▉                               | 2/11 [00:00<00:00, 19.75it/s]\u001b[A\n",
      " 36%|█████████████▊                        | 4/11 [00:00<00:00, 19.39it/s]\u001b[A\n",
      " 55%|████████████████████▋                 | 6/11 [00:00<00:00, 19.15it/s]\u001b[A\n",
      " 73%|███████████████████████████▋          | 8/11 [00:00<00:00, 19.22it/s]\u001b[A\n",
      "100%|█████████████████████████████████████| 11/11 [00:00<00:00, 18.54it/s]\u001b[A\n"
     ]
    },
    {
     "name": "stdout",
     "output_type": "stream",
     "text": [
      "BC Output shape (1260, 11, 22)\n",
      "Spatial Disaggregation - Monthly (NCLIM ==  12 )\n",
      "SD Type - PREC\n",
      "No of timesteps  1260\n",
      "SD Input shape (1260, 52, 112) (1260, 11, 22)\n"
     ]
    },
    {
     "name": "stderr",
     "output_type": "stream",
     "text": [
      "\n",
      "  0%|                                            | 0/1260 [00:00<?, ?it/s]\u001b[A\n",
      " 17%|█████▎                          | 211/1260 [00:00<00:00, 2106.34it/s]\u001b[A\n",
      " 34%|██████████▋                     | 423/1260 [00:00<00:00, 2110.46it/s]\u001b[A\n",
      " 50%|████████████████▏               | 635/1260 [00:00<00:00, 2096.75it/s]\u001b[A\n",
      " 68%|█████████████████████▋          | 852/1260 [00:00<00:00, 2122.44it/s]\u001b[A\n",
      "100%|███████████████████████████████| 1260/1260 [00:00<00:00, 2138.42it/s]\u001b[A\n",
      " 58%|████████████████████▉               | 58/100 [01:51<01:20,  1.92s/it]"
     ]
    },
    {
     "name": "stdout",
     "output_type": "stream",
     "text": [
      "SD Output shape (1260, 52, 112)\n",
      "Bias Correction Spatially - monthly:\n",
      "Training years : 105.0 == 105.0\n",
      "Testing years : 105.0\n",
      "Bias correction fucntion : <function normal_quantile_mapping at 0x7f0d34c71dc0>\n",
      "BC Input shape (1260, 11, 22) (1260, 11, 22) (1260, 11, 22)\n",
      "11 22\n"
     ]
    },
    {
     "name": "stderr",
     "output_type": "stream",
     "text": [
      "\n",
      "  0%|                                              | 0/11 [00:00<?, ?it/s]\u001b[A\n",
      " 18%|██████▉                               | 2/11 [00:00<00:00, 19.10it/s]\u001b[A\n",
      " 36%|█████████████▊                        | 4/11 [00:00<00:00, 18.90it/s]\u001b[A\n",
      " 55%|████████████████████▋                 | 6/11 [00:00<00:00, 18.86it/s]\u001b[A\n",
      " 73%|███████████████████████████▋          | 8/11 [00:00<00:00, 18.84it/s]\u001b[A\n",
      "100%|█████████████████████████████████████| 11/11 [00:00<00:00, 18.66it/s]\u001b[A\n"
     ]
    },
    {
     "name": "stdout",
     "output_type": "stream",
     "text": [
      "BC Output shape (1260, 11, 22)\n",
      "Spatial Disaggregation - Monthly (NCLIM ==  12 )\n",
      "SD Type - PREC\n",
      "No of timesteps  1260\n",
      "SD Input shape (1260, 52, 112) (1260, 11, 22)\n"
     ]
    },
    {
     "name": "stderr",
     "output_type": "stream",
     "text": [
      "\n",
      "  0%|                                            | 0/1260 [00:00<?, ?it/s]\u001b[A\n",
      " 17%|█████▍                          | 213/1260 [00:00<00:00, 2128.75it/s]\u001b[A\n",
      " 34%|██████████▊                     | 426/1260 [00:00<00:00, 2098.39it/s]\u001b[A\n",
      " 52%|████████████████▍               | 649/1260 [00:00<00:00, 2154.04it/s]\u001b[A\n",
      " 69%|██████████████████████          | 871/1260 [00:00<00:00, 2177.72it/s]\u001b[A\n",
      "100%|███████████████████████████████| 1260/1260 [00:00<00:00, 2155.53it/s]\u001b[A\n",
      " 59%|█████████████████████▏              | 59/100 [01:52<01:18,  1.91s/it]"
     ]
    },
    {
     "name": "stdout",
     "output_type": "stream",
     "text": [
      "SD Output shape (1260, 52, 112)\n",
      "Bias Correction Spatially - monthly:\n",
      "Training years : 105.0 == 105.0\n",
      "Testing years : 105.0\n",
      "Bias correction fucntion : <function normal_quantile_mapping at 0x7f0d34c71dc0>\n",
      "BC Input shape (1260, 11, 22) (1260, 11, 22) (1260, 11, 22)\n",
      "11 22\n"
     ]
    },
    {
     "name": "stderr",
     "output_type": "stream",
     "text": [
      "\n",
      "  0%|                                              | 0/11 [00:00<?, ?it/s]\u001b[A\n",
      " 18%|██████▉                               | 2/11 [00:00<00:00, 18.87it/s]\u001b[A\n",
      " 36%|█████████████▊                        | 4/11 [00:00<00:00, 19.22it/s]\u001b[A\n",
      " 55%|████████████████████▋                 | 6/11 [00:00<00:00, 19.36it/s]\u001b[A\n",
      " 73%|███████████████████████████▋          | 8/11 [00:00<00:00, 18.37it/s]\u001b[A\n",
      "100%|█████████████████████████████████████| 11/11 [00:00<00:00, 18.83it/s]\u001b[A\n"
     ]
    },
    {
     "name": "stdout",
     "output_type": "stream",
     "text": [
      "BC Output shape (1260, 11, 22)\n",
      "Spatial Disaggregation - Monthly (NCLIM ==  12 )\n",
      "SD Type - PREC\n",
      "No of timesteps  1260\n",
      "SD Input shape (1260, 52, 112) (1260, 11, 22)\n"
     ]
    },
    {
     "name": "stderr",
     "output_type": "stream",
     "text": [
      "\n",
      "  0%|                                            | 0/1260 [00:00<?, ?it/s]\u001b[A\n",
      " 17%|█████▍                          | 214/1260 [00:00<00:00, 2130.41it/s]\u001b[A\n",
      " 34%|██████████▉                     | 433/1260 [00:00<00:00, 2160.84it/s]\u001b[A\n",
      " 52%|████████████████▌               | 652/1260 [00:00<00:00, 2169.21it/s]\u001b[A\n",
      " 69%|██████████████████████          | 869/1260 [00:00<00:00, 1924.74it/s]\u001b[A\n",
      "100%|███████████████████████████████| 1260/1260 [00:00<00:00, 2047.29it/s]\u001b[A\n",
      " 60%|█████████████████████▌              | 60/100 [01:54<01:16,  1.92s/it]"
     ]
    },
    {
     "name": "stdout",
     "output_type": "stream",
     "text": [
      "SD Output shape (1260, 52, 112)\n",
      "Bias Correction Spatially - monthly:\n",
      "Training years : 105.0 == 105.0\n",
      "Testing years : 105.0\n",
      "Bias correction fucntion : <function normal_quantile_mapping at 0x7f0d34c71dc0>\n",
      "BC Input shape (1260, 11, 22) (1260, 11, 22) (1260, 11, 22)\n",
      "11 22\n"
     ]
    },
    {
     "name": "stderr",
     "output_type": "stream",
     "text": [
      "\n",
      "  0%|                                              | 0/11 [00:00<?, ?it/s]\u001b[A\n",
      " 18%|██████▉                               | 2/11 [00:00<00:00, 14.82it/s]\u001b[A\n",
      " 36%|█████████████▊                        | 4/11 [00:00<00:00, 16.97it/s]\u001b[A\n",
      " 55%|████████████████████▋                 | 6/11 [00:00<00:00, 17.59it/s]\u001b[A\n",
      " 73%|███████████████████████████▋          | 8/11 [00:00<00:00, 18.13it/s]\u001b[A\n",
      "100%|█████████████████████████████████████| 11/11 [00:00<00:00, 17.93it/s]\u001b[A\n"
     ]
    },
    {
     "name": "stdout",
     "output_type": "stream",
     "text": [
      "BC Output shape (1260, 11, 22)\n",
      "Spatial Disaggregation - Monthly (NCLIM ==  12 )\n",
      "SD Type - PREC\n",
      "No of timesteps  1260\n",
      "SD Input shape (1260, 52, 112) (1260, 11, 22)\n"
     ]
    },
    {
     "name": "stderr",
     "output_type": "stream",
     "text": [
      "\n",
      "  0%|                                            | 0/1260 [00:00<?, ?it/s]\u001b[A\n",
      " 17%|█████▌                          | 217/1260 [00:00<00:00, 2164.10it/s]\u001b[A\n",
      " 34%|███████████                     | 434/1260 [00:00<00:00, 2126.28it/s]\u001b[A\n",
      " 52%|████████████████▌               | 654/1260 [00:00<00:00, 2156.67it/s]\u001b[A\n",
      " 70%|██████████████████████▏         | 876/1260 [00:00<00:00, 2180.55it/s]\u001b[A\n",
      "100%|███████████████████████████████| 1260/1260 [00:00<00:00, 2175.76it/s]\u001b[A\n",
      " 61%|█████████████████████▉              | 61/100 [01:56<01:14,  1.92s/it]"
     ]
    },
    {
     "name": "stdout",
     "output_type": "stream",
     "text": [
      "SD Output shape (1260, 52, 112)\n",
      "Bias Correction Spatially - monthly:\n",
      "Training years : 105.0 == 105.0\n",
      "Testing years : 105.0\n",
      "Bias correction fucntion : <function normal_quantile_mapping at 0x7f0d34c71dc0>\n",
      "BC Input shape (1260, 11, 22) (1260, 11, 22) (1260, 11, 22)\n",
      "11 22\n"
     ]
    },
    {
     "name": "stderr",
     "output_type": "stream",
     "text": [
      "\n",
      "  0%|                                              | 0/11 [00:00<?, ?it/s]\u001b[A\n",
      " 18%|██████▉                               | 2/11 [00:00<00:00, 19.24it/s]\u001b[A\n",
      " 36%|█████████████▊                        | 4/11 [00:00<00:00, 18.36it/s]\u001b[A\n",
      " 55%|████████████████████▋                 | 6/11 [00:00<00:00, 18.51it/s]\u001b[A\n",
      " 73%|███████████████████████████▋          | 8/11 [00:00<00:00, 18.65it/s]\u001b[A\n",
      "100%|█████████████████████████████████████| 11/11 [00:00<00:00, 18.70it/s]\u001b[A\n"
     ]
    },
    {
     "name": "stdout",
     "output_type": "stream",
     "text": [
      "BC Output shape (1260, 11, 22)\n",
      "Spatial Disaggregation - Monthly (NCLIM ==  12 )\n",
      "SD Type - PREC\n",
      "No of timesteps  1260\n",
      "SD Input shape (1260, 52, 112) (1260, 11, 22)\n"
     ]
    },
    {
     "name": "stderr",
     "output_type": "stream",
     "text": [
      "\n",
      "  0%|                                            | 0/1260 [00:00<?, ?it/s]\u001b[A\n",
      " 17%|█████▌                          | 217/1260 [00:00<00:00, 2166.41it/s]\u001b[A\n",
      " 34%|███████████                     | 434/1260 [00:00<00:00, 2120.44it/s]\u001b[A\n",
      " 52%|████████████████▍               | 649/1260 [00:00<00:00, 2132.57it/s]\u001b[A\n",
      " 69%|██████████████████████          | 871/1260 [00:00<00:00, 2164.28it/s]\u001b[A\n",
      "100%|███████████████████████████████| 1260/1260 [00:00<00:00, 2151.50it/s]\u001b[A\n",
      " 62%|██████████████████████▎             | 62/100 [01:58<01:12,  1.91s/it]"
     ]
    },
    {
     "name": "stdout",
     "output_type": "stream",
     "text": [
      "SD Output shape (1260, 52, 112)\n",
      "Bias Correction Spatially - monthly:\n",
      "Training years : 105.0 == 105.0\n",
      "Testing years : 105.0\n",
      "Bias correction fucntion : <function normal_quantile_mapping at 0x7f0d34c71dc0>\n",
      "BC Input shape (1260, 11, 22) (1260, 11, 22) (1260, 11, 22)\n",
      "11 22\n"
     ]
    },
    {
     "name": "stderr",
     "output_type": "stream",
     "text": [
      "\n",
      "  0%|                                              | 0/11 [00:00<?, ?it/s]\u001b[A\n",
      " 18%|██████▉                               | 2/11 [00:00<00:00, 18.79it/s]\u001b[A\n",
      " 36%|█████████████▊                        | 4/11 [00:00<00:00, 18.53it/s]\u001b[A\n",
      " 55%|████████████████████▋                 | 6/11 [00:00<00:00, 17.68it/s]\u001b[A\n",
      " 73%|███████████████████████████▋          | 8/11 [00:00<00:00, 17.89it/s]\u001b[A\n",
      "100%|█████████████████████████████████████| 11/11 [00:00<00:00, 18.06it/s]\u001b[A\n"
     ]
    },
    {
     "name": "stdout",
     "output_type": "stream",
     "text": [
      "BC Output shape (1260, 11, 22)\n",
      "Spatial Disaggregation - Monthly (NCLIM ==  12 )\n",
      "SD Type - PREC\n",
      "No of timesteps  1260\n",
      "SD Input shape (1260, 52, 112) (1260, 11, 22)\n"
     ]
    },
    {
     "name": "stderr",
     "output_type": "stream",
     "text": [
      "\n",
      "  0%|                                            | 0/1260 [00:00<?, ?it/s]\u001b[A\n",
      " 17%|█████▌                          | 220/1260 [00:00<00:00, 2192.25it/s]\u001b[A\n",
      " 35%|███████████▏                    | 440/1260 [00:00<00:00, 2188.03it/s]\u001b[A\n",
      " 53%|████████████████▊               | 663/1260 [00:00<00:00, 2203.43it/s]\u001b[A\n",
      " 70%|██████████████████████▍         | 884/1260 [00:00<00:00, 2157.16it/s]\u001b[A\n",
      "100%|███████████████████████████████| 1260/1260 [00:00<00:00, 2143.64it/s]\u001b[A\n",
      " 63%|██████████████████████▋             | 63/100 [02:00<01:10,  1.92s/it]"
     ]
    },
    {
     "name": "stdout",
     "output_type": "stream",
     "text": [
      "SD Output shape (1260, 52, 112)\n",
      "Bias Correction Spatially - monthly:\n",
      "Training years : 105.0 == 105.0\n",
      "Testing years : 105.0\n",
      "Bias correction fucntion : <function normal_quantile_mapping at 0x7f0d34c71dc0>\n",
      "BC Input shape (1260, 11, 22) (1260, 11, 22) (1260, 11, 22)\n",
      "11 22\n"
     ]
    },
    {
     "name": "stderr",
     "output_type": "stream",
     "text": [
      "\n",
      "  0%|                                              | 0/11 [00:00<?, ?it/s]\u001b[A\n",
      " 18%|██████▉                               | 2/11 [00:00<00:00, 19.02it/s]\u001b[A\n",
      " 36%|█████████████▊                        | 4/11 [00:00<00:00, 18.96it/s]\u001b[A\n",
      " 55%|████████████████████▋                 | 6/11 [00:00<00:00, 18.91it/s]\u001b[A\n",
      " 73%|███████████████████████████▋          | 8/11 [00:00<00:00, 18.69it/s]\u001b[A\n",
      "100%|█████████████████████████████████████| 11/11 [00:00<00:00, 18.73it/s]\u001b[A\n"
     ]
    },
    {
     "name": "stdout",
     "output_type": "stream",
     "text": [
      "BC Output shape (1260, 11, 22)\n",
      "Spatial Disaggregation - Monthly (NCLIM ==  12 )\n",
      "SD Type - PREC\n",
      "No of timesteps  1260\n",
      "SD Input shape (1260, 52, 112) (1260, 11, 22)\n"
     ]
    },
    {
     "name": "stderr",
     "output_type": "stream",
     "text": [
      "\n",
      "  0%|                                            | 0/1260 [00:00<?, ?it/s]\u001b[A\n",
      " 18%|█████▌                          | 221/1260 [00:00<00:00, 2209.78it/s]\u001b[A\n",
      " 35%|███████████▏                    | 442/1260 [00:00<00:00, 2147.11it/s]\u001b[A\n",
      " 52%|████████████████▋               | 657/1260 [00:00<00:00, 2096.16it/s]\u001b[A\n",
      " 70%|██████████████████████▎         | 877/1260 [00:00<00:00, 2133.44it/s]\u001b[A\n",
      "100%|███████████████████████████████| 1260/1260 [00:00<00:00, 2144.49it/s]\u001b[A\n",
      " 64%|███████████████████████             | 64/100 [02:02<01:09,  1.92s/it]"
     ]
    },
    {
     "name": "stdout",
     "output_type": "stream",
     "text": [
      "SD Output shape (1260, 52, 112)\n",
      "Bias Correction Spatially - monthly:\n",
      "Training years : 105.0 == 105.0\n",
      "Testing years : 105.0\n",
      "Bias correction fucntion : <function normal_quantile_mapping at 0x7f0d34c71dc0>\n",
      "BC Input shape (1260, 11, 22) (1260, 11, 22) (1260, 11, 22)\n",
      "11 22\n"
     ]
    },
    {
     "name": "stderr",
     "output_type": "stream",
     "text": [
      "\n",
      "  0%|                                              | 0/11 [00:00<?, ?it/s]\u001b[A\n",
      " 18%|██████▉                               | 2/11 [00:00<00:00, 19.37it/s]\u001b[A\n",
      " 36%|█████████████▊                        | 4/11 [00:00<00:00, 19.21it/s]\u001b[A\n",
      " 55%|████████████████████▋                 | 6/11 [00:00<00:00, 19.22it/s]\u001b[A\n",
      " 73%|███████████████████████████▋          | 8/11 [00:00<00:00, 19.22it/s]\u001b[A\n",
      "100%|█████████████████████████████████████| 11/11 [00:00<00:00, 19.12it/s]\u001b[A\n"
     ]
    },
    {
     "name": "stdout",
     "output_type": "stream",
     "text": [
      "BC Output shape (1260, 11, 22)\n",
      "Spatial Disaggregation - Monthly (NCLIM ==  12 )\n",
      "SD Type - PREC\n",
      "No of timesteps  1260\n",
      "SD Input shape (1260, 52, 112) (1260, 11, 22)\n"
     ]
    },
    {
     "name": "stderr",
     "output_type": "stream",
     "text": [
      "\n",
      "  0%|                                            | 0/1260 [00:00<?, ?it/s]\u001b[A\n",
      " 17%|█████▌                          | 217/1260 [00:00<00:00, 2166.61it/s]\u001b[A\n",
      " 34%|███████████                     | 434/1260 [00:00<00:00, 2133.77it/s]\u001b[A\n",
      " 52%|████████████████▍               | 649/1260 [00:00<00:00, 2140.52it/s]\u001b[A\n",
      " 69%|██████████████████████          | 868/1260 [00:00<00:00, 2158.91it/s]\u001b[A\n",
      "100%|███████████████████████████████| 1260/1260 [00:00<00:00, 2145.32it/s]\u001b[A\n",
      " 65%|███████████████████████▍            | 65/100 [02:04<01:06,  1.91s/it]"
     ]
    },
    {
     "name": "stdout",
     "output_type": "stream",
     "text": [
      "SD Output shape (1260, 52, 112)\n",
      "Bias Correction Spatially - monthly:\n",
      "Training years : 105.0 == 105.0\n",
      "Testing years : 105.0\n",
      "Bias correction fucntion : <function normal_quantile_mapping at 0x7f0d34c71dc0>\n",
      "BC Input shape (1260, 11, 22) (1260, 11, 22) (1260, 11, 22)\n",
      "11 22\n"
     ]
    },
    {
     "name": "stderr",
     "output_type": "stream",
     "text": [
      "\n",
      "  0%|                                              | 0/11 [00:00<?, ?it/s]\u001b[A\n",
      " 18%|██████▉                               | 2/11 [00:00<00:00, 19.08it/s]\u001b[A\n",
      " 36%|█████████████▊                        | 4/11 [00:00<00:00, 19.20it/s]\u001b[A\n",
      " 55%|████████████████████▋                 | 6/11 [00:00<00:00, 18.81it/s]\u001b[A\n",
      " 73%|███████████████████████████▋          | 8/11 [00:00<00:00, 19.00it/s]\u001b[A\n",
      "100%|█████████████████████████████████████| 11/11 [00:00<00:00, 19.08it/s]\u001b[A\n"
     ]
    },
    {
     "name": "stdout",
     "output_type": "stream",
     "text": [
      "BC Output shape (1260, 11, 22)\n",
      "Spatial Disaggregation - Monthly (NCLIM ==  12 )\n",
      "SD Type - PREC\n",
      "No of timesteps  1260\n",
      "SD Input shape (1260, 52, 112) (1260, 11, 22)\n"
     ]
    },
    {
     "name": "stderr",
     "output_type": "stream",
     "text": [
      "\n",
      "  0%|                                            | 0/1260 [00:00<?, ?it/s]\u001b[A\n",
      " 17%|█████▎                          | 209/1260 [00:00<00:00, 2085.44it/s]\u001b[A\n",
      " 33%|██████████▋                     | 420/1260 [00:00<00:00, 2098.25it/s]\u001b[A\n",
      " 51%|████████████████▎               | 641/1260 [00:00<00:00, 2145.57it/s]\u001b[A\n",
      " 68%|█████████████████████▋          | 856/1260 [00:00<00:00, 2110.23it/s]\u001b[A\n",
      "100%|███████████████████████████████| 1260/1260 [00:00<00:00, 2060.93it/s]\u001b[A\n",
      " 66%|███████████████████████▊            | 66/100 [02:06<01:04,  1.91s/it]"
     ]
    },
    {
     "name": "stdout",
     "output_type": "stream",
     "text": [
      "SD Output shape (1260, 52, 112)\n",
      "Bias Correction Spatially - monthly:\n",
      "Training years : 105.0 == 105.0\n",
      "Testing years : 105.0\n",
      "Bias correction fucntion : <function normal_quantile_mapping at 0x7f0d34c71dc0>\n",
      "BC Input shape (1260, 11, 22) (1260, 11, 22) (1260, 11, 22)\n",
      "11 22\n"
     ]
    },
    {
     "name": "stderr",
     "output_type": "stream",
     "text": [
      "\n",
      "  0%|                                              | 0/11 [00:00<?, ?it/s]\u001b[A\n",
      " 18%|██████▉                               | 2/11 [00:00<00:00, 17.34it/s]\u001b[A\n",
      " 36%|█████████████▊                        | 4/11 [00:00<00:00, 18.11it/s]\u001b[A\n",
      " 55%|████████████████████▋                 | 6/11 [00:00<00:00, 18.35it/s]\u001b[A\n",
      " 73%|███████████████████████████▋          | 8/11 [00:00<00:00, 18.05it/s]\u001b[A\n",
      "100%|█████████████████████████████████████| 11/11 [00:00<00:00, 18.12it/s]\u001b[A\n"
     ]
    },
    {
     "name": "stdout",
     "output_type": "stream",
     "text": [
      "BC Output shape (1260, 11, 22)\n",
      "Spatial Disaggregation - Monthly (NCLIM ==  12 )\n",
      "SD Type - PREC\n",
      "No of timesteps  1260\n",
      "SD Input shape (1260, 52, 112) (1260, 11, 22)\n"
     ]
    },
    {
     "name": "stderr",
     "output_type": "stream",
     "text": [
      "\n",
      "  0%|                                            | 0/1260 [00:00<?, ?it/s]\u001b[A\n",
      " 18%|█████▋                          | 223/1260 [00:00<00:00, 2222.19it/s]\u001b[A\n",
      " 35%|███████████▎                    | 446/1260 [00:00<00:00, 2211.14it/s]\u001b[A\n",
      " 53%|████████████████▉               | 668/1260 [00:00<00:00, 2210.09it/s]\u001b[A\n",
      " 71%|██████████████████████▋         | 891/1260 [00:00<00:00, 2214.71it/s]\u001b[A\n",
      "100%|███████████████████████████████| 1260/1260 [00:00<00:00, 2209.00it/s]\u001b[A\n",
      " 67%|████████████████████████            | 67/100 [02:08<01:03,  1.92s/it]"
     ]
    },
    {
     "name": "stdout",
     "output_type": "stream",
     "text": [
      "SD Output shape (1260, 52, 112)\n",
      "Bias Correction Spatially - monthly:\n",
      "Training years : 105.0 == 105.0\n",
      "Testing years : 105.0\n",
      "Bias correction fucntion : <function normal_quantile_mapping at 0x7f0d34c71dc0>\n",
      "BC Input shape (1260, 11, 22) (1260, 11, 22) (1260, 11, 22)\n",
      "11 22\n"
     ]
    },
    {
     "name": "stderr",
     "output_type": "stream",
     "text": [
      "\n",
      "  0%|                                              | 0/11 [00:00<?, ?it/s]\u001b[A\n",
      " 18%|██████▉                               | 2/11 [00:00<00:00, 17.73it/s]\u001b[A\n",
      " 36%|█████████████▊                        | 4/11 [00:00<00:00, 18.36it/s]\u001b[A\n",
      " 55%|████████████████████▋                 | 6/11 [00:00<00:00, 18.44it/s]\u001b[A\n",
      " 73%|███████████████████████████▋          | 8/11 [00:00<00:00, 18.29it/s]\u001b[A\n",
      "100%|█████████████████████████████████████| 11/11 [00:00<00:00, 17.52it/s]\u001b[A\n"
     ]
    },
    {
     "name": "stdout",
     "output_type": "stream",
     "text": [
      "BC Output shape (1260, 11, 22)\n",
      "Spatial Disaggregation - Monthly (NCLIM ==  12 )\n",
      "SD Type - PREC\n",
      "No of timesteps  1260\n",
      "SD Input shape (1260, 52, 112) (1260, 11, 22)\n"
     ]
    },
    {
     "name": "stderr",
     "output_type": "stream",
     "text": [
      "\n",
      "  0%|                                            | 0/1260 [00:00<?, ?it/s]\u001b[A\n",
      " 14%|████▎                           | 172/1260 [00:00<00:00, 1717.13it/s]\u001b[A\n",
      " 29%|█████████▎                      | 365/1260 [00:00<00:00, 1839.17it/s]\u001b[A\n",
      " 46%|██████████████▊                 | 581/1260 [00:00<00:00, 1983.15it/s]\u001b[A\n",
      " 63%|████████████████████▏           | 796/1260 [00:00<00:00, 2046.43it/s]\u001b[A\n",
      " 81%|████████████████████████▉      | 1016/1260 [00:00<00:00, 2098.70it/s]\u001b[A\n",
      "100%|███████████████████████████████| 1260/1260 [00:00<00:00, 2048.61it/s]\u001b[A\n",
      " 68%|████████████████████████▍           | 68/100 [02:10<01:02,  1.95s/it]"
     ]
    },
    {
     "name": "stdout",
     "output_type": "stream",
     "text": [
      "SD Output shape (1260, 52, 112)\n",
      "Bias Correction Spatially - monthly:\n",
      "Training years : 105.0 == 105.0\n",
      "Testing years : 105.0\n",
      "Bias correction fucntion : <function normal_quantile_mapping at 0x7f0d34c71dc0>\n",
      "BC Input shape (1260, 11, 22) (1260, 11, 22) (1260, 11, 22)\n",
      "11 22\n"
     ]
    },
    {
     "name": "stderr",
     "output_type": "stream",
     "text": [
      "\n",
      "  0%|                                              | 0/11 [00:00<?, ?it/s]\u001b[A\n",
      " 18%|██████▉                               | 2/11 [00:00<00:00, 19.31it/s]\u001b[A\n",
      " 36%|█████████████▊                        | 4/11 [00:00<00:00, 19.12it/s]\u001b[A\n",
      " 55%|████████████████████▋                 | 6/11 [00:00<00:00, 19.14it/s]\u001b[A\n",
      " 73%|███████████████████████████▋          | 8/11 [00:00<00:00, 19.10it/s]\u001b[A\n",
      "100%|█████████████████████████████████████| 11/11 [00:00<00:00, 18.87it/s]\u001b[A\n"
     ]
    },
    {
     "name": "stdout",
     "output_type": "stream",
     "text": [
      "BC Output shape (1260, 11, 22)\n",
      "Spatial Disaggregation - Monthly (NCLIM ==  12 )\n",
      "SD Type - PREC\n",
      "No of timesteps  1260\n",
      "SD Input shape (1260, 52, 112) (1260, 11, 22)\n"
     ]
    },
    {
     "name": "stderr",
     "output_type": "stream",
     "text": [
      "\n",
      "  0%|                                            | 0/1260 [00:00<?, ?it/s]\u001b[A\n",
      " 17%|█████▍                          | 214/1260 [00:00<00:00, 2135.91it/s]\u001b[A\n",
      " 34%|██████████▊                     | 428/1260 [00:00<00:00, 2113.25it/s]\u001b[A\n",
      " 51%|████████████████▎               | 642/1260 [00:00<00:00, 2123.00it/s]\u001b[A\n",
      " 68%|█████████████████████▋          | 855/1260 [00:00<00:00, 2123.68it/s]\u001b[A\n",
      "100%|███████████████████████████████| 1260/1260 [00:00<00:00, 2132.36it/s]\u001b[A\n",
      " 69%|████████████████████████▊           | 69/100 [02:12<01:00,  1.94s/it]"
     ]
    },
    {
     "name": "stdout",
     "output_type": "stream",
     "text": [
      "SD Output shape (1260, 52, 112)\n",
      "Bias Correction Spatially - monthly:\n",
      "Training years : 105.0 == 105.0\n",
      "Testing years : 105.0\n",
      "Bias correction fucntion : <function normal_quantile_mapping at 0x7f0d34c71dc0>\n",
      "BC Input shape (1260, 11, 22) (1260, 11, 22) (1260, 11, 22)\n",
      "11 22\n"
     ]
    },
    {
     "name": "stderr",
     "output_type": "stream",
     "text": [
      "\n",
      "  0%|                                              | 0/11 [00:00<?, ?it/s]\u001b[A\n",
      " 18%|██████▉                               | 2/11 [00:00<00:00, 18.11it/s]\u001b[A\n",
      " 36%|█████████████▊                        | 4/11 [00:00<00:00, 18.29it/s]\u001b[A\n",
      " 55%|████████████████████▋                 | 6/11 [00:00<00:00, 18.09it/s]\u001b[A\n",
      " 73%|███████████████████████████▋          | 8/11 [00:00<00:00, 18.16it/s]\u001b[A\n",
      "100%|█████████████████████████████████████| 11/11 [00:00<00:00, 18.25it/s]\u001b[A\n"
     ]
    },
    {
     "name": "stdout",
     "output_type": "stream",
     "text": [
      "BC Output shape (1260, 11, 22)\n",
      "Spatial Disaggregation - Monthly (NCLIM ==  12 )\n",
      "SD Type - PREC\n",
      "No of timesteps  1260\n",
      "SD Input shape (1260, 52, 112) (1260, 11, 22)\n"
     ]
    },
    {
     "name": "stderr",
     "output_type": "stream",
     "text": [
      "\n",
      "  0%|                                            | 0/1260 [00:00<?, ?it/s]\u001b[A\n",
      " 17%|█████▎                          | 209/1260 [00:00<00:00, 2085.30it/s]\u001b[A\n",
      " 34%|██████████▊                     | 425/1260 [00:00<00:00, 2124.70it/s]\u001b[A\n",
      " 51%|████████████████▎               | 642/1260 [00:00<00:00, 2141.92it/s]\u001b[A\n",
      " 68%|█████████████████████▊          | 859/1260 [00:00<00:00, 2149.44it/s]\u001b[A\n",
      "100%|███████████████████████████████| 1260/1260 [00:00<00:00, 2122.06it/s]\u001b[A\n",
      " 70%|█████████████████████████▏          | 70/100 [02:14<00:58,  1.94s/it]"
     ]
    },
    {
     "name": "stdout",
     "output_type": "stream",
     "text": [
      "SD Output shape (1260, 52, 112)\n",
      "Bias Correction Spatially - monthly:\n",
      "Training years : 105.0 == 105.0\n",
      "Testing years : 105.0\n",
      "Bias correction fucntion : <function normal_quantile_mapping at 0x7f0d34c71dc0>\n",
      "BC Input shape (1260, 11, 22) (1260, 11, 22) (1260, 11, 22)\n",
      "11 22\n"
     ]
    },
    {
     "name": "stderr",
     "output_type": "stream",
     "text": [
      "\n",
      "  0%|                                              | 0/11 [00:00<?, ?it/s]\u001b[A\n",
      " 18%|██████▉                               | 2/11 [00:00<00:00, 18.58it/s]\u001b[A\n",
      " 36%|█████████████▊                        | 4/11 [00:00<00:00, 18.46it/s]\u001b[A\n",
      " 55%|████████████████████▋                 | 6/11 [00:00<00:00, 18.60it/s]\u001b[A\n",
      " 73%|███████████████████████████▋          | 8/11 [00:00<00:00, 18.65it/s]\u001b[A\n",
      "100%|█████████████████████████████████████| 11/11 [00:00<00:00, 18.61it/s]\u001b[A\n"
     ]
    },
    {
     "name": "stdout",
     "output_type": "stream",
     "text": [
      "BC Output shape (1260, 11, 22)\n",
      "Spatial Disaggregation - Monthly (NCLIM ==  12 )\n",
      "SD Type - PREC\n",
      "No of timesteps  1260\n",
      "SD Input shape (1260, 52, 112) (1260, 11, 22)\n"
     ]
    },
    {
     "name": "stderr",
     "output_type": "stream",
     "text": [
      "\n",
      "  0%|                                            | 0/1260 [00:00<?, ?it/s]\u001b[A\n",
      " 17%|█████▎                          | 209/1260 [00:00<00:00, 2083.54it/s]\u001b[A\n",
      " 34%|██████████▊                     | 424/1260 [00:00<00:00, 2117.66it/s]\u001b[A\n",
      " 51%|████████████████▏               | 638/1260 [00:00<00:00, 2126.33it/s]\u001b[A\n",
      " 68%|█████████████████████▋          | 852/1260 [00:00<00:00, 2131.23it/s]\u001b[A\n",
      "100%|███████████████████████████████| 1260/1260 [00:00<00:00, 2129.78it/s]\u001b[A\n",
      " 71%|█████████████████████████▌          | 71/100 [02:16<00:56,  1.94s/it]"
     ]
    },
    {
     "name": "stdout",
     "output_type": "stream",
     "text": [
      "SD Output shape (1260, 52, 112)\n",
      "Bias Correction Spatially - monthly:\n",
      "Training years : 105.0 == 105.0\n",
      "Testing years : 105.0\n",
      "Bias correction fucntion : <function normal_quantile_mapping at 0x7f0d34c71dc0>\n",
      "BC Input shape (1260, 11, 22) (1260, 11, 22) (1260, 11, 22)\n",
      "11 22\n"
     ]
    },
    {
     "name": "stderr",
     "output_type": "stream",
     "text": [
      "\n",
      "  0%|                                              | 0/11 [00:00<?, ?it/s]\u001b[A\n",
      " 18%|██████▉                               | 2/11 [00:00<00:00, 16.78it/s]\u001b[A\n",
      " 36%|█████████████▊                        | 4/11 [00:00<00:00, 17.61it/s]\u001b[A\n",
      " 55%|████████████████████▋                 | 6/11 [00:00<00:00, 18.10it/s]\u001b[A\n",
      " 73%|███████████████████████████▋          | 8/11 [00:00<00:00, 18.38it/s]\u001b[A\n",
      "100%|█████████████████████████████████████| 11/11 [00:00<00:00, 18.19it/s]\u001b[A\n"
     ]
    },
    {
     "name": "stdout",
     "output_type": "stream",
     "text": [
      "BC Output shape (1260, 11, 22)\n",
      "Spatial Disaggregation - Monthly (NCLIM ==  12 )\n",
      "SD Type - PREC\n",
      "No of timesteps  1260\n",
      "SD Input shape (1260, 52, 112) (1260, 11, 22)\n"
     ]
    },
    {
     "name": "stderr",
     "output_type": "stream",
     "text": [
      "\n",
      "  0%|                                            | 0/1260 [00:00<?, ?it/s]\u001b[A\n",
      " 17%|█████▍                          | 212/1260 [00:00<00:00, 2114.60it/s]\u001b[A\n",
      " 34%|██████████▊                     | 427/1260 [00:00<00:00, 2132.89it/s]\u001b[A\n",
      " 51%|████████████████▎               | 641/1260 [00:00<00:00, 2129.31it/s]\u001b[A\n",
      " 68%|█████████████████████▋          | 855/1260 [00:00<00:00, 2131.71it/s]\u001b[A\n",
      "100%|███████████████████████████████| 1260/1260 [00:00<00:00, 2124.57it/s]\u001b[A\n",
      " 72%|█████████████████████████▉          | 72/100 [02:18<00:54,  1.94s/it]"
     ]
    },
    {
     "name": "stdout",
     "output_type": "stream",
     "text": [
      "SD Output shape (1260, 52, 112)\n",
      "Bias Correction Spatially - monthly:\n",
      "Training years : 105.0 == 105.0\n",
      "Testing years : 105.0\n",
      "Bias correction fucntion : <function normal_quantile_mapping at 0x7f0d34c71dc0>\n",
      "BC Input shape (1260, 11, 22) (1260, 11, 22) (1260, 11, 22)\n",
      "11 22\n"
     ]
    },
    {
     "name": "stderr",
     "output_type": "stream",
     "text": [
      "\n",
      "  0%|                                              | 0/11 [00:00<?, ?it/s]\u001b[A\n",
      " 18%|██████▉                               | 2/11 [00:00<00:00, 18.13it/s]\u001b[A\n",
      " 36%|█████████████▊                        | 4/11 [00:00<00:00, 18.08it/s]\u001b[A\n",
      " 55%|████████████████████▋                 | 6/11 [00:00<00:00, 17.63it/s]\u001b[A\n",
      " 73%|███████████████████████████▋          | 8/11 [00:00<00:00, 17.88it/s]\u001b[A\n",
      "100%|█████████████████████████████████████| 11/11 [00:00<00:00, 17.90it/s]\u001b[A\n"
     ]
    },
    {
     "name": "stdout",
     "output_type": "stream",
     "text": [
      "BC Output shape (1260, 11, 22)\n",
      "Spatial Disaggregation - Monthly (NCLIM ==  12 )\n",
      "SD Type - PREC\n",
      "No of timesteps  1260\n",
      "SD Input shape (1260, 52, 112) (1260, 11, 22)\n"
     ]
    },
    {
     "name": "stderr",
     "output_type": "stream",
     "text": [
      "\n",
      "  0%|                                            | 0/1260 [00:00<?, ?it/s]\u001b[A\n",
      " 17%|█████▍                          | 215/1260 [00:00<00:00, 2141.58it/s]\u001b[A\n",
      " 34%|██████████▉                     | 430/1260 [00:00<00:00, 2122.04it/s]\u001b[A\n",
      " 51%|████████████████▎               | 643/1260 [00:00<00:00, 2110.34it/s]\u001b[A\n",
      " 68%|█████████████████████▋          | 855/1260 [00:00<00:00, 2104.21it/s]\u001b[A\n",
      "100%|███████████████████████████████| 1260/1260 [00:00<00:00, 2114.45it/s]\u001b[A\n",
      " 73%|██████████████████████████▎         | 73/100 [02:20<00:52,  1.94s/it]"
     ]
    },
    {
     "name": "stdout",
     "output_type": "stream",
     "text": [
      "SD Output shape (1260, 52, 112)\n",
      "Bias Correction Spatially - monthly:\n",
      "Training years : 105.0 == 105.0\n",
      "Testing years : 105.0\n",
      "Bias correction fucntion : <function normal_quantile_mapping at 0x7f0d34c71dc0>\n",
      "BC Input shape (1260, 11, 22) (1260, 11, 22) (1260, 11, 22)\n",
      "11 22\n"
     ]
    },
    {
     "name": "stderr",
     "output_type": "stream",
     "text": [
      "\n",
      "  0%|                                              | 0/11 [00:00<?, ?it/s]\u001b[A\n",
      " 18%|██████▉                               | 2/11 [00:00<00:00, 18.79it/s]\u001b[A\n",
      " 36%|█████████████▊                        | 4/11 [00:00<00:00, 17.50it/s]\u001b[A\n",
      " 55%|████████████████████▋                 | 6/11 [00:00<00:00, 18.32it/s]\u001b[A\n",
      " 73%|███████████████████████████▋          | 8/11 [00:00<00:00, 18.75it/s]\u001b[A\n",
      "100%|█████████████████████████████████████| 11/11 [00:00<00:00, 18.67it/s]\u001b[A\n"
     ]
    },
    {
     "name": "stdout",
     "output_type": "stream",
     "text": [
      "BC Output shape (1260, 11, 22)\n",
      "Spatial Disaggregation - Monthly (NCLIM ==  12 )\n",
      "SD Type - PREC\n",
      "No of timesteps  1260\n",
      "SD Input shape (1260, 52, 112) (1260, 11, 22)\n"
     ]
    },
    {
     "name": "stderr",
     "output_type": "stream",
     "text": [
      "\n",
      "  0%|                                            | 0/1260 [00:00<?, ?it/s]\u001b[A\n",
      " 17%|█████▍                          | 216/1260 [00:00<00:00, 2159.01it/s]\u001b[A\n",
      " 34%|██████████▉                     | 432/1260 [00:00<00:00, 2130.73it/s]\u001b[A\n",
      " 51%|████████████████▍               | 646/1260 [00:00<00:00, 2121.47it/s]\u001b[A\n",
      " 68%|█████████████████████▉          | 862/1260 [00:00<00:00, 2133.59it/s]\u001b[A\n",
      "100%|███████████████████████████████| 1260/1260 [00:00<00:00, 2136.60it/s]\u001b[A\n",
      " 74%|██████████████████████████▋         | 74/100 [02:21<00:50,  1.94s/it]"
     ]
    },
    {
     "name": "stdout",
     "output_type": "stream",
     "text": [
      "SD Output shape (1260, 52, 112)\n",
      "Bias Correction Spatially - monthly:\n",
      "Training years : 105.0 == 105.0\n",
      "Testing years : 105.0\n",
      "Bias correction fucntion : <function normal_quantile_mapping at 0x7f0d34c71dc0>\n",
      "BC Input shape (1260, 11, 22) (1260, 11, 22) (1260, 11, 22)\n",
      "11 22\n"
     ]
    },
    {
     "name": "stderr",
     "output_type": "stream",
     "text": [
      "\n",
      "  0%|                                              | 0/11 [00:00<?, ?it/s]\u001b[A\n",
      " 18%|██████▉                               | 2/11 [00:00<00:00, 18.55it/s]\u001b[A\n",
      " 36%|█████████████▊                        | 4/11 [00:00<00:00, 18.76it/s]\u001b[A\n",
      " 55%|████████████████████▋                 | 6/11 [00:00<00:00, 18.79it/s]\u001b[A\n",
      " 73%|███████████████████████████▋          | 8/11 [00:00<00:00, 18.88it/s]\u001b[A\n",
      "100%|█████████████████████████████████████| 11/11 [00:00<00:00, 18.75it/s]\u001b[A\n"
     ]
    },
    {
     "name": "stdout",
     "output_type": "stream",
     "text": [
      "BC Output shape (1260, 11, 22)\n",
      "Spatial Disaggregation - Monthly (NCLIM ==  12 )\n",
      "SD Type - PREC\n",
      "No of timesteps  1260\n",
      "SD Input shape (1260, 52, 112) (1260, 11, 22)\n"
     ]
    },
    {
     "name": "stderr",
     "output_type": "stream",
     "text": [
      "\n",
      "  0%|                                            | 0/1260 [00:00<?, ?it/s]\u001b[A\n",
      " 17%|█████▍                          | 213/1260 [00:00<00:00, 2125.74it/s]\u001b[A\n",
      " 34%|██████████▊                     | 426/1260 [00:00<00:00, 2113.25it/s]\u001b[A\n",
      " 51%|████████████████▏               | 639/1260 [00:00<00:00, 2117.77it/s]\u001b[A\n",
      " 68%|█████████████████████▌          | 851/1260 [00:00<00:00, 2116.01it/s]\u001b[A\n",
      "100%|███████████████████████████████| 1260/1260 [00:00<00:00, 2136.80it/s]\u001b[A\n",
      " 75%|███████████████████████████         | 75/100 [02:23<00:48,  1.93s/it]"
     ]
    },
    {
     "name": "stdout",
     "output_type": "stream",
     "text": [
      "SD Output shape (1260, 52, 112)\n",
      "Bias Correction Spatially - monthly:\n",
      "Training years : 105.0 == 105.0\n",
      "Testing years : 105.0\n",
      "Bias correction fucntion : <function normal_quantile_mapping at 0x7f0d34c71dc0>\n",
      "BC Input shape (1260, 11, 22) (1260, 11, 22) (1260, 11, 22)\n",
      "11 22\n"
     ]
    },
    {
     "name": "stderr",
     "output_type": "stream",
     "text": [
      "\n",
      "  0%|                                              | 0/11 [00:00<?, ?it/s]\u001b[A\n",
      " 18%|██████▉                               | 2/11 [00:00<00:00, 19.60it/s]\u001b[A\n",
      " 36%|█████████████▊                        | 4/11 [00:00<00:00, 19.26it/s]\u001b[A\n",
      " 55%|████████████████████▋                 | 6/11 [00:00<00:00, 18.64it/s]\u001b[A\n",
      " 73%|███████████████████████████▋          | 8/11 [00:00<00:00, 18.62it/s]\u001b[A\n",
      "100%|█████████████████████████████████████| 11/11 [00:00<00:00, 18.61it/s]\u001b[A\n"
     ]
    },
    {
     "name": "stdout",
     "output_type": "stream",
     "text": [
      "BC Output shape (1260, 11, 22)\n",
      "Spatial Disaggregation - Monthly (NCLIM ==  12 )\n",
      "SD Type - PREC\n",
      "No of timesteps  1260\n",
      "SD Input shape (1260, 52, 112) (1260, 11, 22)\n"
     ]
    },
    {
     "name": "stderr",
     "output_type": "stream",
     "text": [
      "\n",
      "  0%|                                            | 0/1260 [00:00<?, ?it/s]\u001b[A\n",
      " 17%|█████▎                          | 211/1260 [00:00<00:00, 2106.71it/s]\u001b[A\n",
      " 34%|██████████▊                     | 428/1260 [00:00<00:00, 2142.65it/s]\u001b[A\n",
      " 52%|████████████████▍               | 649/1260 [00:00<00:00, 2168.88it/s]\u001b[A\n",
      " 69%|██████████████████████          | 869/1260 [00:00<00:00, 2178.11it/s]\u001b[A\n",
      "100%|███████████████████████████████| 1260/1260 [00:00<00:00, 2176.31it/s]\u001b[A\n",
      " 76%|███████████████████████████▎        | 76/100 [02:25<00:46,  1.92s/it]"
     ]
    },
    {
     "name": "stdout",
     "output_type": "stream",
     "text": [
      "SD Output shape (1260, 52, 112)\n",
      "Bias Correction Spatially - monthly:\n",
      "Training years : 105.0 == 105.0\n",
      "Testing years : 105.0\n",
      "Bias correction fucntion : <function normal_quantile_mapping at 0x7f0d34c71dc0>\n",
      "BC Input shape (1260, 11, 22) (1260, 11, 22) (1260, 11, 22)\n",
      "11 22\n"
     ]
    },
    {
     "name": "stderr",
     "output_type": "stream",
     "text": [
      "\n",
      "  0%|                                              | 0/11 [00:00<?, ?it/s]\u001b[A\n",
      " 18%|██████▉                               | 2/11 [00:00<00:00, 19.04it/s]\u001b[A\n",
      " 36%|█████████████▊                        | 4/11 [00:00<00:00, 19.22it/s]\u001b[A\n",
      " 55%|████████████████████▋                 | 6/11 [00:00<00:00, 19.27it/s]\u001b[A\n",
      " 73%|███████████████████████████▋          | 8/11 [00:00<00:00, 19.33it/s]\u001b[A\n",
      "100%|█████████████████████████████████████| 11/11 [00:00<00:00, 19.29it/s]\u001b[A\n"
     ]
    },
    {
     "name": "stdout",
     "output_type": "stream",
     "text": [
      "BC Output shape (1260, 11, 22)\n",
      "Spatial Disaggregation - Monthly (NCLIM ==  12 )\n",
      "SD Type - PREC\n",
      "No of timesteps  1260\n",
      "SD Input shape (1260, 52, 112) (1260, 11, 22)\n"
     ]
    },
    {
     "name": "stderr",
     "output_type": "stream",
     "text": [
      "\n",
      "  0%|                                            | 0/1260 [00:00<?, ?it/s]\u001b[A\n",
      " 18%|█████▋                          | 223/1260 [00:00<00:00, 2221.47it/s]\u001b[A\n",
      " 35%|███████████▎                    | 446/1260 [00:00<00:00, 2205.72it/s]\u001b[A\n",
      " 53%|████████████████▉               | 667/1260 [00:00<00:00, 2167.88it/s]\u001b[A\n",
      " 70%|██████████████████████▍         | 884/1260 [00:00<00:00, 2142.90it/s]\u001b[A\n",
      "100%|███████████████████████████████| 1260/1260 [00:00<00:00, 2145.94it/s]\u001b[A\n",
      " 77%|███████████████████████████▋        | 77/100 [02:27<00:43,  1.91s/it]"
     ]
    },
    {
     "name": "stdout",
     "output_type": "stream",
     "text": [
      "SD Output shape (1260, 52, 112)\n",
      "Bias Correction Spatially - monthly:\n",
      "Training years : 105.0 == 105.0\n",
      "Testing years : 105.0\n",
      "Bias correction fucntion : <function normal_quantile_mapping at 0x7f0d34c71dc0>\n",
      "BC Input shape (1260, 11, 22) (1260, 11, 22) (1260, 11, 22)\n",
      "11 22\n"
     ]
    },
    {
     "name": "stderr",
     "output_type": "stream",
     "text": [
      "\n",
      "  0%|                                              | 0/11 [00:00<?, ?it/s]\u001b[A\n",
      " 18%|██████▉                               | 2/11 [00:00<00:00, 19.66it/s]\u001b[A\n",
      " 36%|█████████████▊                        | 4/11 [00:00<00:00, 19.52it/s]\u001b[A\n",
      " 55%|████████████████████▋                 | 6/11 [00:00<00:00, 19.52it/s]\u001b[A\n",
      " 73%|███████████████████████████▋          | 8/11 [00:00<00:00, 18.18it/s]\u001b[A\n",
      "100%|█████████████████████████████████████| 11/11 [00:00<00:00, 18.52it/s]\u001b[A\n"
     ]
    },
    {
     "name": "stdout",
     "output_type": "stream",
     "text": [
      "BC Output shape (1260, 11, 22)\n",
      "Spatial Disaggregation - Monthly (NCLIM ==  12 )\n",
      "SD Type - PREC\n",
      "No of timesteps  1260\n",
      "SD Input shape (1260, 52, 112) (1260, 11, 22)\n"
     ]
    },
    {
     "name": "stderr",
     "output_type": "stream",
     "text": [
      "\n",
      "  0%|                                            | 0/1260 [00:00<?, ?it/s]\u001b[A\n",
      " 17%|█████▍                          | 212/1260 [00:00<00:00, 2118.72it/s]\u001b[A\n",
      " 34%|██████████▊                     | 424/1260 [00:00<00:00, 2093.00it/s]\u001b[A\n",
      " 51%|████████████████▎               | 642/1260 [00:00<00:00, 2126.18it/s]\u001b[A\n",
      " 68%|█████████████████████▋          | 855/1260 [00:00<00:00, 2126.31it/s]\u001b[A\n",
      "100%|███████████████████████████████| 1260/1260 [00:00<00:00, 2050.22it/s]\u001b[A\n",
      " 78%|████████████████████████████        | 78/100 [02:29<00:42,  1.92s/it]"
     ]
    },
    {
     "name": "stdout",
     "output_type": "stream",
     "text": [
      "SD Output shape (1260, 52, 112)\n",
      "Bias Correction Spatially - monthly:\n",
      "Training years : 105.0 == 105.0\n",
      "Testing years : 105.0\n",
      "Bias correction fucntion : <function normal_quantile_mapping at 0x7f0d34c71dc0>\n",
      "BC Input shape (1260, 11, 22) (1260, 11, 22) (1260, 11, 22)\n",
      "11 22\n"
     ]
    },
    {
     "name": "stderr",
     "output_type": "stream",
     "text": [
      "\n",
      "  0%|                                              | 0/11 [00:00<?, ?it/s]\u001b[A\n",
      " 18%|██████▉                               | 2/11 [00:00<00:00, 17.84it/s]\u001b[A\n",
      " 36%|█████████████▊                        | 4/11 [00:00<00:00, 18.06it/s]\u001b[A\n",
      " 55%|████████████████████▋                 | 6/11 [00:00<00:00, 18.45it/s]\u001b[A\n",
      " 73%|███████████████████████████▋          | 8/11 [00:00<00:00, 18.63it/s]\u001b[A\n",
      "100%|█████████████████████████████████████| 11/11 [00:00<00:00, 18.63it/s]\u001b[A\n"
     ]
    },
    {
     "name": "stdout",
     "output_type": "stream",
     "text": [
      "BC Output shape (1260, 11, 22)\n",
      "Spatial Disaggregation - Monthly (NCLIM ==  12 )\n",
      "SD Type - PREC\n",
      "No of timesteps  1260\n",
      "SD Input shape (1260, 52, 112) (1260, 11, 22)\n"
     ]
    },
    {
     "name": "stderr",
     "output_type": "stream",
     "text": [
      "\n",
      "  0%|                                            | 0/1260 [00:00<?, ?it/s]\u001b[A\n",
      " 18%|█████▌                          | 221/1260 [00:00<00:00, 2208.05it/s]\u001b[A\n",
      " 35%|███████████▏                    | 442/1260 [00:00<00:00, 2207.58it/s]\u001b[A\n",
      " 53%|████████████████▊               | 664/1260 [00:00<00:00, 2211.37it/s]\u001b[A\n",
      " 70%|██████████████████████▌         | 887/1260 [00:00<00:00, 2217.34it/s]\u001b[A\n",
      "100%|███████████████████████████████| 1260/1260 [00:00<00:00, 2208.20it/s]\u001b[A\n",
      " 79%|████████████████████████████▍       | 79/100 [02:31<00:40,  1.91s/it]"
     ]
    },
    {
     "name": "stdout",
     "output_type": "stream",
     "text": [
      "SD Output shape (1260, 52, 112)\n",
      "Bias Correction Spatially - monthly:\n",
      "Training years : 105.0 == 105.0\n",
      "Testing years : 105.0\n",
      "Bias correction fucntion : <function normal_quantile_mapping at 0x7f0d34c71dc0>\n",
      "BC Input shape (1260, 11, 22) (1260, 11, 22) (1260, 11, 22)\n",
      "11 22\n"
     ]
    },
    {
     "name": "stderr",
     "output_type": "stream",
     "text": [
      "\n",
      "  0%|                                              | 0/11 [00:00<?, ?it/s]\u001b[A\n",
      " 18%|██████▉                               | 2/11 [00:00<00:00, 19.71it/s]\u001b[A\n",
      " 36%|█████████████▊                        | 4/11 [00:00<00:00, 19.15it/s]\u001b[A\n",
      " 55%|████████████████████▋                 | 6/11 [00:00<00:00, 18.93it/s]\u001b[A\n",
      " 73%|███████████████████████████▋          | 8/11 [00:00<00:00, 19.15it/s]\u001b[A\n",
      "100%|█████████████████████████████████████| 11/11 [00:00<00:00, 19.10it/s]\u001b[A\n"
     ]
    },
    {
     "name": "stdout",
     "output_type": "stream",
     "text": [
      "BC Output shape (1260, 11, 22)\n",
      "Spatial Disaggregation - Monthly (NCLIM ==  12 )\n",
      "SD Type - PREC\n",
      "No of timesteps  1260\n",
      "SD Input shape (1260, 52, 112) (1260, 11, 22)\n"
     ]
    },
    {
     "name": "stderr",
     "output_type": "stream",
     "text": [
      "\n",
      "  0%|                                            | 0/1260 [00:00<?, ?it/s]\u001b[A\n",
      " 17%|█████▌                          | 220/1260 [00:00<00:00, 2192.92it/s]\u001b[A\n",
      " 35%|███████████▏                    | 440/1260 [00:00<00:00, 2153.69it/s]\u001b[A\n",
      " 52%|████████████████▋               | 659/1260 [00:00<00:00, 2168.72it/s]\u001b[A\n",
      " 70%|██████████████████████▏         | 876/1260 [00:00<00:00, 2165.73it/s]\u001b[A\n",
      "100%|███████████████████████████████| 1260/1260 [00:00<00:00, 2137.65it/s]\u001b[A\n",
      " 80%|████████████████████████████▊       | 80/100 [02:33<00:38,  1.91s/it]"
     ]
    },
    {
     "name": "stdout",
     "output_type": "stream",
     "text": [
      "SD Output shape (1260, 52, 112)\n",
      "Bias Correction Spatially - monthly:\n",
      "Training years : 105.0 == 105.0\n",
      "Testing years : 105.0\n",
      "Bias correction fucntion : <function normal_quantile_mapping at 0x7f0d34c71dc0>\n",
      "BC Input shape (1260, 11, 22) (1260, 11, 22) (1260, 11, 22)\n",
      "11 22\n"
     ]
    },
    {
     "name": "stderr",
     "output_type": "stream",
     "text": [
      "\n",
      "  0%|                                              | 0/11 [00:00<?, ?it/s]\u001b[A\n",
      " 18%|██████▉                               | 2/11 [00:00<00:00, 19.08it/s]\u001b[A\n",
      " 36%|█████████████▊                        | 4/11 [00:00<00:00, 19.25it/s]\u001b[A\n",
      " 55%|████████████████████▋                 | 6/11 [00:00<00:00, 19.32it/s]\u001b[A\n",
      " 73%|███████████████████████████▋          | 8/11 [00:00<00:00, 19.33it/s]\u001b[A\n",
      "100%|█████████████████████████████████████| 11/11 [00:00<00:00, 19.27it/s]\u001b[A\n"
     ]
    },
    {
     "name": "stdout",
     "output_type": "stream",
     "text": [
      "BC Output shape (1260, 11, 22)\n",
      "Spatial Disaggregation - Monthly (NCLIM ==  12 )\n",
      "SD Type - PREC\n",
      "No of timesteps  1260\n",
      "SD Input shape (1260, 52, 112) (1260, 11, 22)\n"
     ]
    },
    {
     "name": "stderr",
     "output_type": "stream",
     "text": [
      "\n",
      "  0%|                                            | 0/1260 [00:00<?, ?it/s]\u001b[A\n",
      " 18%|█████▌                          | 221/1260 [00:00<00:00, 2208.36it/s]\u001b[A\n",
      " 35%|███████████▏                    | 442/1260 [00:00<00:00, 2198.01it/s]\u001b[A\n",
      " 53%|████████████████▊               | 662/1260 [00:00<00:00, 2197.98it/s]\u001b[A\n",
      " 70%|██████████████████████▍         | 884/1260 [00:00<00:00, 2203.31it/s]\u001b[A\n",
      "100%|███████████████████████████████| 1260/1260 [00:00<00:00, 2196.10it/s]\u001b[A\n",
      " 81%|█████████████████████████████▏      | 81/100 [02:35<00:35,  1.89s/it]"
     ]
    },
    {
     "name": "stdout",
     "output_type": "stream",
     "text": [
      "SD Output shape (1260, 52, 112)\n",
      "Bias Correction Spatially - monthly:\n",
      "Training years : 105.0 == 105.0\n",
      "Testing years : 105.0\n",
      "Bias correction fucntion : <function normal_quantile_mapping at 0x7f0d34c71dc0>\n",
      "BC Input shape (1260, 11, 22) (1260, 11, 22) (1260, 11, 22)\n",
      "11 22\n"
     ]
    },
    {
     "name": "stderr",
     "output_type": "stream",
     "text": [
      "\n",
      "  0%|                                              | 0/11 [00:00<?, ?it/s]\u001b[A\n",
      " 18%|██████▉                               | 2/11 [00:00<00:00, 19.70it/s]\u001b[A\n",
      " 36%|█████████████▊                        | 4/11 [00:00<00:00, 19.55it/s]\u001b[A\n",
      " 55%|████████████████████▋                 | 6/11 [00:00<00:00, 19.44it/s]\u001b[A\n",
      " 73%|███████████████████████████▋          | 8/11 [00:00<00:00, 19.47it/s]\u001b[A\n",
      "100%|█████████████████████████████████████| 11/11 [00:00<00:00, 19.40it/s]\u001b[A\n"
     ]
    },
    {
     "name": "stdout",
     "output_type": "stream",
     "text": [
      "BC Output shape (1260, 11, 22)\n",
      "Spatial Disaggregation - Monthly (NCLIM ==  12 )\n",
      "SD Type - PREC\n",
      "No of timesteps  1260\n",
      "SD Input shape (1260, 52, 112) (1260, 11, 22)\n"
     ]
    },
    {
     "name": "stderr",
     "output_type": "stream",
     "text": [
      "\n",
      "  0%|                                            | 0/1260 [00:00<?, ?it/s]\u001b[A\n",
      " 18%|█████▌                          | 221/1260 [00:00<00:00, 2204.22it/s]\u001b[A\n",
      " 35%|███████████▏                    | 442/1260 [00:00<00:00, 2192.23it/s]\u001b[A\n",
      " 53%|████████████████▊               | 664/1260 [00:00<00:00, 2201.10it/s]\u001b[A\n",
      " 70%|██████████████████████▍         | 885/1260 [00:00<00:00, 2143.59it/s]\u001b[A\n",
      "100%|███████████████████████████████| 1260/1260 [00:00<00:00, 2021.90it/s]\u001b[A\n",
      " 82%|█████████████████████████████▌      | 82/100 [02:37<00:34,  1.90s/it]"
     ]
    },
    {
     "name": "stdout",
     "output_type": "stream",
     "text": [
      "SD Output shape (1260, 52, 112)\n",
      "Bias Correction Spatially - monthly:\n",
      "Training years : 105.0 == 105.0\n",
      "Testing years : 105.0\n",
      "Bias correction fucntion : <function normal_quantile_mapping at 0x7f0d34c71dc0>\n",
      "BC Input shape (1260, 11, 22) (1260, 11, 22) (1260, 11, 22)\n",
      "11 22\n"
     ]
    },
    {
     "name": "stderr",
     "output_type": "stream",
     "text": [
      "\n",
      "  0%|                                              | 0/11 [00:00<?, ?it/s]\u001b[A\n",
      " 18%|██████▉                               | 2/11 [00:00<00:00, 19.37it/s]\u001b[A\n",
      " 36%|█████████████▊                        | 4/11 [00:00<00:00, 19.31it/s]\u001b[A\n",
      " 55%|████████████████████▋                 | 6/11 [00:00<00:00, 19.30it/s]\u001b[A\n",
      " 73%|███████████████████████████▋          | 8/11 [00:00<00:00, 18.56it/s]\u001b[A\n",
      "100%|█████████████████████████████████████| 11/11 [00:00<00:00, 18.87it/s]\u001b[A\n"
     ]
    },
    {
     "name": "stdout",
     "output_type": "stream",
     "text": [
      "BC Output shape (1260, 11, 22)\n",
      "Spatial Disaggregation - Monthly (NCLIM ==  12 )\n",
      "SD Type - PREC\n",
      "No of timesteps  1260\n",
      "SD Input shape (1260, 52, 112) (1260, 11, 22)\n"
     ]
    },
    {
     "name": "stderr",
     "output_type": "stream",
     "text": [
      "\n",
      "  0%|                                            | 0/1260 [00:00<?, ?it/s]\u001b[A\n",
      " 17%|█████▌                          | 220/1260 [00:00<00:00, 2196.06it/s]\u001b[A\n",
      " 35%|███████████▏                    | 440/1260 [00:00<00:00, 2191.94it/s]\u001b[A\n",
      " 52%|████████████████▊               | 660/1260 [00:00<00:00, 2152.86it/s]\u001b[A\n",
      " 70%|██████████████████████▏         | 876/1260 [00:00<00:00, 2095.62it/s]\u001b[A\n",
      "100%|███████████████████████████████| 1260/1260 [00:00<00:00, 2123.43it/s]\u001b[A\n",
      " 83%|█████████████████████████████▉      | 83/100 [02:39<00:32,  1.90s/it]"
     ]
    },
    {
     "name": "stdout",
     "output_type": "stream",
     "text": [
      "SD Output shape (1260, 52, 112)\n",
      "Bias Correction Spatially - monthly:\n",
      "Training years : 105.0 == 105.0\n",
      "Testing years : 105.0\n",
      "Bias correction fucntion : <function normal_quantile_mapping at 0x7f0d34c71dc0>\n",
      "BC Input shape (1260, 11, 22) (1260, 11, 22) (1260, 11, 22)\n",
      "11 22\n"
     ]
    },
    {
     "name": "stderr",
     "output_type": "stream",
     "text": [
      "\n",
      "  0%|                                              | 0/11 [00:00<?, ?it/s]\u001b[A\n",
      " 18%|██████▉                               | 2/11 [00:00<00:00, 18.62it/s]\u001b[A\n",
      " 36%|█████████████▊                        | 4/11 [00:00<00:00, 18.89it/s]\u001b[A\n",
      " 55%|████████████████████▋                 | 6/11 [00:00<00:00, 19.09it/s]\u001b[A\n",
      " 73%|███████████████████████████▋          | 8/11 [00:00<00:00, 19.12it/s]\u001b[A\n",
      "100%|█████████████████████████████████████| 11/11 [00:00<00:00, 19.05it/s]\u001b[A\n"
     ]
    },
    {
     "name": "stdout",
     "output_type": "stream",
     "text": [
      "BC Output shape (1260, 11, 22)\n",
      "Spatial Disaggregation - Monthly (NCLIM ==  12 )\n",
      "SD Type - PREC\n",
      "No of timesteps  1260\n",
      "SD Input shape (1260, 52, 112) (1260, 11, 22)\n"
     ]
    },
    {
     "name": "stderr",
     "output_type": "stream",
     "text": [
      "\n",
      "  0%|                                            | 0/1260 [00:00<?, ?it/s]\u001b[A\n",
      " 17%|█████▍                          | 213/1260 [00:00<00:00, 2125.49it/s]\u001b[A\n",
      " 34%|██████████▉                     | 431/1260 [00:00<00:00, 2152.56it/s]\u001b[A\n",
      " 52%|████████████████▍               | 649/1260 [00:00<00:00, 2164.66it/s]\u001b[A\n",
      " 69%|██████████████████████          | 867/1260 [00:00<00:00, 2167.32it/s]\u001b[A\n",
      "100%|███████████████████████████████| 1260/1260 [00:00<00:00, 2160.22it/s]\u001b[A\n",
      " 84%|██████████████████████████████▏     | 84/100 [02:40<00:30,  1.90s/it]"
     ]
    },
    {
     "name": "stdout",
     "output_type": "stream",
     "text": [
      "SD Output shape (1260, 52, 112)\n",
      "Bias Correction Spatially - monthly:\n",
      "Training years : 105.0 == 105.0\n",
      "Testing years : 105.0\n",
      "Bias correction fucntion : <function normal_quantile_mapping at 0x7f0d34c71dc0>\n",
      "BC Input shape (1260, 11, 22) (1260, 11, 22) (1260, 11, 22)\n",
      "11 22\n"
     ]
    },
    {
     "name": "stderr",
     "output_type": "stream",
     "text": [
      "\n",
      "  0%|                                              | 0/11 [00:00<?, ?it/s]\u001b[A\n",
      " 18%|██████▉                               | 2/11 [00:00<00:00, 16.78it/s]\u001b[A\n",
      " 36%|█████████████▊                        | 4/11 [00:00<00:00, 18.17it/s]\u001b[A\n",
      " 55%|████████████████████▋                 | 6/11 [00:00<00:00, 18.57it/s]\u001b[A\n",
      " 73%|███████████████████████████▋          | 8/11 [00:00<00:00, 18.80it/s]\u001b[A\n",
      "100%|█████████████████████████████████████| 11/11 [00:00<00:00, 18.63it/s]\u001b[A\n"
     ]
    },
    {
     "name": "stdout",
     "output_type": "stream",
     "text": [
      "BC Output shape (1260, 11, 22)\n",
      "Spatial Disaggregation - Monthly (NCLIM ==  12 )\n",
      "SD Type - PREC\n",
      "No of timesteps  1260\n",
      "SD Input shape (1260, 52, 112) (1260, 11, 22)\n"
     ]
    },
    {
     "name": "stderr",
     "output_type": "stream",
     "text": [
      "\n",
      "  0%|                                            | 0/1260 [00:00<?, ?it/s]\u001b[A\n",
      " 17%|█████▌                          | 219/1260 [00:00<00:00, 2181.91it/s]\u001b[A\n",
      " 35%|███████████                     | 438/1260 [00:00<00:00, 2139.54it/s]\u001b[A\n",
      " 52%|████████████████▋               | 656/1260 [00:00<00:00, 2156.51it/s]\u001b[A\n",
      " 69%|██████████████████████▏         | 872/1260 [00:00<00:00, 2147.23it/s]\u001b[A\n",
      "100%|███████████████████████████████| 1260/1260 [00:00<00:00, 2156.42it/s]\u001b[A\n",
      " 85%|██████████████████████████████▌     | 85/100 [02:42<00:28,  1.90s/it]"
     ]
    },
    {
     "name": "stdout",
     "output_type": "stream",
     "text": [
      "SD Output shape (1260, 52, 112)\n",
      "Bias Correction Spatially - monthly:\n",
      "Training years : 105.0 == 105.0\n",
      "Testing years : 105.0\n",
      "Bias correction fucntion : <function normal_quantile_mapping at 0x7f0d34c71dc0>\n",
      "BC Input shape (1260, 11, 22) (1260, 11, 22) (1260, 11, 22)\n",
      "11 22\n"
     ]
    },
    {
     "name": "stderr",
     "output_type": "stream",
     "text": [
      "\n",
      "  0%|                                              | 0/11 [00:00<?, ?it/s]\u001b[A\n",
      " 18%|██████▉                               | 2/11 [00:00<00:00, 17.37it/s]\u001b[A\n",
      " 36%|█████████████▊                        | 4/11 [00:00<00:00, 18.25it/s]\u001b[A\n",
      " 55%|████████████████████▋                 | 6/11 [00:00<00:00, 18.43it/s]\u001b[A\n",
      " 73%|███████████████████████████▋          | 8/11 [00:00<00:00, 18.66it/s]\u001b[A\n",
      "100%|█████████████████████████████████████| 11/11 [00:00<00:00, 18.66it/s]\u001b[A\n"
     ]
    },
    {
     "name": "stdout",
     "output_type": "stream",
     "text": [
      "BC Output shape (1260, 11, 22)\n",
      "Spatial Disaggregation - Monthly (NCLIM ==  12 )\n",
      "SD Type - PREC\n",
      "No of timesteps  1260\n",
      "SD Input shape (1260, 52, 112) (1260, 11, 22)\n"
     ]
    },
    {
     "name": "stderr",
     "output_type": "stream",
     "text": [
      "\n",
      "  0%|                                            | 0/1260 [00:00<?, ?it/s]\u001b[A\n",
      " 17%|█████▎                          | 211/1260 [00:00<00:00, 2107.56it/s]\u001b[A\n",
      " 33%|██████████▋                     | 422/1260 [00:00<00:00, 2095.96it/s]\u001b[A\n",
      " 51%|████████████████▎               | 641/1260 [00:00<00:00, 2137.81it/s]\u001b[A\n",
      " 68%|█████████████████████▉          | 862/1260 [00:00<00:00, 2164.03it/s]\u001b[A\n",
      "100%|███████████████████████████████| 1260/1260 [00:00<00:00, 2155.89it/s]\u001b[A\n",
      " 86%|██████████████████████████████▉     | 86/100 [02:44<00:26,  1.90s/it]"
     ]
    },
    {
     "name": "stdout",
     "output_type": "stream",
     "text": [
      "SD Output shape (1260, 52, 112)\n",
      "Bias Correction Spatially - monthly:\n",
      "Training years : 105.0 == 105.0\n",
      "Testing years : 105.0\n",
      "Bias correction fucntion : <function normal_quantile_mapping at 0x7f0d34c71dc0>\n",
      "BC Input shape (1260, 11, 22) (1260, 11, 22) (1260, 11, 22)\n",
      "11 22\n"
     ]
    },
    {
     "name": "stderr",
     "output_type": "stream",
     "text": [
      "\n",
      "  0%|                                              | 0/11 [00:00<?, ?it/s]\u001b[A\n",
      " 18%|██████▉                               | 2/11 [00:00<00:00, 19.61it/s]\u001b[A\n",
      " 36%|█████████████▊                        | 4/11 [00:00<00:00, 19.49it/s]\u001b[A\n",
      " 55%|████████████████████▋                 | 6/11 [00:00<00:00, 19.10it/s]\u001b[A\n",
      " 73%|███████████████████████████▋          | 8/11 [00:00<00:00, 19.09it/s]\u001b[A\n",
      "100%|█████████████████████████████████████| 11/11 [00:00<00:00, 19.09it/s]\u001b[A\n"
     ]
    },
    {
     "name": "stdout",
     "output_type": "stream",
     "text": [
      "BC Output shape (1260, 11, 22)\n",
      "Spatial Disaggregation - Monthly (NCLIM ==  12 )\n",
      "SD Type - PREC\n",
      "No of timesteps  1260\n",
      "SD Input shape (1260, 52, 112) (1260, 11, 22)\n"
     ]
    },
    {
     "name": "stderr",
     "output_type": "stream",
     "text": [
      "\n",
      "  0%|                                            | 0/1260 [00:00<?, ?it/s]\u001b[A\n",
      " 18%|█████▌                          | 221/1260 [00:00<00:00, 2203.35it/s]\u001b[A\n",
      " 35%|███████████▏                    | 442/1260 [00:00<00:00, 2137.30it/s]\u001b[A\n",
      " 52%|████████████████▋               | 659/1260 [00:00<00:00, 2150.79it/s]\u001b[A\n",
      " 69%|██████████████████████▏         | 875/1260 [00:00<00:00, 2147.59it/s]\u001b[A\n",
      "100%|███████████████████████████████| 1260/1260 [00:00<00:00, 2165.53it/s]\u001b[A\n",
      " 87%|███████████████████████████████▎    | 87/100 [02:46<00:24,  1.90s/it]"
     ]
    },
    {
     "name": "stdout",
     "output_type": "stream",
     "text": [
      "SD Output shape (1260, 52, 112)\n",
      "Bias Correction Spatially - monthly:\n",
      "Training years : 105.0 == 105.0\n",
      "Testing years : 105.0\n",
      "Bias correction fucntion : <function normal_quantile_mapping at 0x7f0d34c71dc0>\n",
      "BC Input shape (1260, 11, 22) (1260, 11, 22) (1260, 11, 22)\n",
      "11 22\n"
     ]
    },
    {
     "name": "stderr",
     "output_type": "stream",
     "text": [
      "\n",
      "  0%|                                              | 0/11 [00:00<?, ?it/s]\u001b[A\n",
      " 18%|██████▉                               | 2/11 [00:00<00:00, 19.74it/s]\u001b[A\n",
      " 36%|█████████████▊                        | 4/11 [00:00<00:00, 19.02it/s]\u001b[A\n",
      " 55%|████████████████████▋                 | 6/11 [00:00<00:00, 18.91it/s]\u001b[A\n",
      " 73%|███████████████████████████▋          | 8/11 [00:00<00:00, 18.76it/s]\u001b[A\n",
      "100%|█████████████████████████████████████| 11/11 [00:00<00:00, 18.67it/s]\u001b[A\n"
     ]
    },
    {
     "name": "stdout",
     "output_type": "stream",
     "text": [
      "BC Output shape (1260, 11, 22)\n",
      "Spatial Disaggregation - Monthly (NCLIM ==  12 )\n",
      "SD Type - PREC\n",
      "No of timesteps  1260\n",
      "SD Input shape (1260, 52, 112) (1260, 11, 22)\n"
     ]
    },
    {
     "name": "stderr",
     "output_type": "stream",
     "text": [
      "\n",
      "  0%|                                            | 0/1260 [00:00<?, ?it/s]\u001b[A\n",
      " 16%|█████▏                          | 205/1260 [00:00<00:00, 2043.30it/s]\u001b[A\n",
      " 33%|██████████▍                     | 410/1260 [00:00<00:00, 1989.68it/s]\u001b[A\n",
      " 48%|███████████████▍                | 610/1260 [00:00<00:00, 1957.98it/s]\u001b[A\n",
      " 65%|████████████████████▋           | 813/1260 [00:00<00:00, 1983.41it/s]\u001b[A\n",
      " 82%|█████████████████████████▎     | 1027/1260 [00:00<00:00, 2038.15it/s]\u001b[A\n",
      "100%|███████████████████████████████| 1260/1260 [00:00<00:00, 2029.45it/s]\u001b[A\n",
      " 88%|███████████████████████████████▋    | 88/100 [02:48<00:22,  1.91s/it]"
     ]
    },
    {
     "name": "stdout",
     "output_type": "stream",
     "text": [
      "SD Output shape (1260, 52, 112)\n",
      "Bias Correction Spatially - monthly:\n",
      "Training years : 105.0 == 105.0\n",
      "Testing years : 105.0\n",
      "Bias correction fucntion : <function normal_quantile_mapping at 0x7f0d34c71dc0>\n",
      "BC Input shape (1260, 11, 22) (1260, 11, 22) (1260, 11, 22)\n",
      "11 22\n"
     ]
    },
    {
     "name": "stderr",
     "output_type": "stream",
     "text": [
      "\n",
      "  0%|                                              | 0/11 [00:00<?, ?it/s]\u001b[A\n",
      " 18%|██████▉                               | 2/11 [00:00<00:00, 18.65it/s]\u001b[A\n",
      " 36%|█████████████▊                        | 4/11 [00:00<00:00, 18.80it/s]\u001b[A\n",
      " 55%|████████████████████▋                 | 6/11 [00:00<00:00, 17.60it/s]\u001b[A\n",
      " 73%|███████████████████████████▋          | 8/11 [00:00<00:00, 17.80it/s]\u001b[A\n",
      "100%|█████████████████████████████████████| 11/11 [00:00<00:00, 18.20it/s]\u001b[A\n"
     ]
    },
    {
     "name": "stdout",
     "output_type": "stream",
     "text": [
      "BC Output shape (1260, 11, 22)\n",
      "Spatial Disaggregation - Monthly (NCLIM ==  12 )\n",
      "SD Type - PREC\n",
      "No of timesteps  1260\n",
      "SD Input shape (1260, 52, 112) (1260, 11, 22)\n"
     ]
    },
    {
     "name": "stderr",
     "output_type": "stream",
     "text": [
      "\n",
      "  0%|                                            | 0/1260 [00:00<?, ?it/s]\u001b[A\n",
      " 17%|█████▌                          | 219/1260 [00:00<00:00, 2186.91it/s]\u001b[A\n",
      " 35%|███████████                     | 438/1260 [00:00<00:00, 2188.51it/s]\u001b[A\n",
      " 52%|████████████████▋               | 657/1260 [00:00<00:00, 2174.52it/s]\u001b[A\n",
      " 69%|██████████████████████▏         | 875/1260 [00:00<00:00, 2168.59it/s]\u001b[A\n",
      "100%|███████████████████████████████| 1260/1260 [00:00<00:00, 2147.61it/s]\u001b[A\n",
      " 89%|████████████████████████████████    | 89/100 [02:50<00:21,  1.91s/it]"
     ]
    },
    {
     "name": "stdout",
     "output_type": "stream",
     "text": [
      "SD Output shape (1260, 52, 112)\n",
      "Bias Correction Spatially - monthly:\n",
      "Training years : 105.0 == 105.0\n",
      "Testing years : 105.0\n",
      "Bias correction fucntion : <function normal_quantile_mapping at 0x7f0d34c71dc0>\n",
      "BC Input shape (1260, 11, 22) (1260, 11, 22) (1260, 11, 22)\n",
      "11 22\n"
     ]
    },
    {
     "name": "stderr",
     "output_type": "stream",
     "text": [
      "\n",
      "  0%|                                              | 0/11 [00:00<?, ?it/s]\u001b[A\n",
      " 18%|██████▉                               | 2/11 [00:00<00:00, 18.42it/s]\u001b[A\n",
      " 36%|█████████████▊                        | 4/11 [00:00<00:00, 18.41it/s]\u001b[A\n",
      " 55%|████████████████████▋                 | 6/11 [00:00<00:00, 18.60it/s]\u001b[A\n",
      " 73%|███████████████████████████▋          | 8/11 [00:00<00:00, 18.53it/s]\u001b[A\n",
      "100%|█████████████████████████████████████| 11/11 [00:00<00:00, 18.71it/s]\u001b[A\n"
     ]
    },
    {
     "name": "stdout",
     "output_type": "stream",
     "text": [
      "BC Output shape (1260, 11, 22)\n",
      "Spatial Disaggregation - Monthly (NCLIM ==  12 )\n",
      "SD Type - PREC\n",
      "No of timesteps  1260\n",
      "SD Input shape (1260, 52, 112) (1260, 11, 22)\n"
     ]
    },
    {
     "name": "stderr",
     "output_type": "stream",
     "text": [
      "\n",
      "  0%|                                            | 0/1260 [00:00<?, ?it/s]\u001b[A\n",
      " 16%|█████▏                          | 206/1260 [00:00<00:00, 2057.51it/s]\u001b[A\n",
      " 34%|██████████▋                     | 423/1260 [00:00<00:00, 2119.37it/s]\u001b[A\n",
      " 51%|████████████████▎               | 642/1260 [00:00<00:00, 2149.52it/s]\u001b[A\n",
      " 68%|█████████████████████▉          | 862/1260 [00:00<00:00, 2167.81it/s]\u001b[A\n",
      "100%|███████████████████████████████| 1260/1260 [00:00<00:00, 2161.01it/s]\u001b[A\n",
      " 90%|████████████████████████████████▍   | 90/100 [02:52<00:19,  1.91s/it]"
     ]
    },
    {
     "name": "stdout",
     "output_type": "stream",
     "text": [
      "SD Output shape (1260, 52, 112)\n",
      "Bias Correction Spatially - monthly:\n",
      "Training years : 105.0 == 105.0\n",
      "Testing years : 105.0\n",
      "Bias correction fucntion : <function normal_quantile_mapping at 0x7f0d34c71dc0>\n",
      "BC Input shape (1260, 11, 22) (1260, 11, 22) (1260, 11, 22)\n",
      "11 22\n"
     ]
    },
    {
     "name": "stderr",
     "output_type": "stream",
     "text": [
      "\n",
      "  0%|                                              | 0/11 [00:00<?, ?it/s]\u001b[A\n",
      " 18%|██████▉                               | 2/11 [00:00<00:00, 19.41it/s]\u001b[A\n",
      " 36%|█████████████▊                        | 4/11 [00:00<00:00, 19.00it/s]\u001b[A\n",
      " 55%|████████████████████▋                 | 6/11 [00:00<00:00, 19.12it/s]\u001b[A\n",
      " 73%|███████████████████████████▋          | 8/11 [00:00<00:00, 19.13it/s]\u001b[A\n",
      "100%|█████████████████████████████████████| 11/11 [00:00<00:00, 19.12it/s]\u001b[A\n"
     ]
    },
    {
     "name": "stdout",
     "output_type": "stream",
     "text": [
      "BC Output shape (1260, 11, 22)\n",
      "Spatial Disaggregation - Monthly (NCLIM ==  12 )\n",
      "SD Type - PREC\n",
      "No of timesteps  1260\n",
      "SD Input shape (1260, 52, 112) (1260, 11, 22)\n"
     ]
    },
    {
     "name": "stderr",
     "output_type": "stream",
     "text": [
      "\n",
      "  0%|                                            | 0/1260 [00:00<?, ?it/s]\u001b[A\n",
      " 17%|█████▌                          | 218/1260 [00:00<00:00, 2178.72it/s]\u001b[A\n",
      " 35%|███████████▏                    | 441/1260 [00:00<00:00, 2203.18it/s]\u001b[A\n",
      " 53%|████████████████▉               | 665/1260 [00:00<00:00, 2215.53it/s]\u001b[A\n",
      " 71%|██████████████████████▌         | 889/1260 [00:00<00:00, 2222.39it/s]\u001b[A\n",
      "100%|███████████████████████████████| 1260/1260 [00:00<00:00, 2199.13it/s]\u001b[A\n",
      " 91%|████████████████████████████████▊   | 91/100 [02:54<00:17,  1.90s/it]"
     ]
    },
    {
     "name": "stdout",
     "output_type": "stream",
     "text": [
      "SD Output shape (1260, 52, 112)\n",
      "Bias Correction Spatially - monthly:\n",
      "Training years : 105.0 == 105.0\n",
      "Testing years : 105.0\n",
      "Bias correction fucntion : <function normal_quantile_mapping at 0x7f0d34c71dc0>\n",
      "BC Input shape (1260, 11, 22) (1260, 11, 22) (1260, 11, 22)\n",
      "11 22\n"
     ]
    },
    {
     "name": "stderr",
     "output_type": "stream",
     "text": [
      "\n",
      "  0%|                                              | 0/11 [00:00<?, ?it/s]\u001b[A\n",
      " 18%|██████▉                               | 2/11 [00:00<00:00, 17.07it/s]\u001b[A\n",
      " 36%|█████████████▊                        | 4/11 [00:00<00:00, 16.80it/s]\u001b[A\n",
      " 55%|████████████████████▋                 | 6/11 [00:00<00:00, 17.76it/s]\u001b[A\n",
      " 73%|███████████████████████████▋          | 8/11 [00:00<00:00, 18.26it/s]\u001b[A\n",
      "100%|█████████████████████████████████████| 11/11 [00:00<00:00, 17.95it/s]\u001b[A\n"
     ]
    },
    {
     "name": "stdout",
     "output_type": "stream",
     "text": [
      "BC Output shape (1260, 11, 22)\n",
      "Spatial Disaggregation - Monthly (NCLIM ==  12 )\n",
      "SD Type - PREC\n",
      "No of timesteps  1260\n",
      "SD Input shape (1260, 52, 112) (1260, 11, 22)\n"
     ]
    },
    {
     "name": "stderr",
     "output_type": "stream",
     "text": [
      "\n",
      "  0%|                                            | 0/1260 [00:00<?, ?it/s]\u001b[A\n",
      " 18%|█████▋                          | 224/1260 [00:00<00:00, 2233.82it/s]\u001b[A\n",
      " 36%|███████████▍                    | 448/1260 [00:00<00:00, 2219.91it/s]\u001b[A\n",
      " 53%|█████████████████               | 671/1260 [00:00<00:00, 2222.08it/s]\u001b[A\n",
      " 71%|██████████████████████▋         | 894/1260 [00:00<00:00, 2060.22it/s]\u001b[A\n",
      "100%|███████████████████████████████| 1260/1260 [00:00<00:00, 2106.23it/s]\u001b[A\n",
      " 92%|█████████████████████████████████   | 92/100 [02:56<00:15,  1.91s/it]"
     ]
    },
    {
     "name": "stdout",
     "output_type": "stream",
     "text": [
      "SD Output shape (1260, 52, 112)\n",
      "Bias Correction Spatially - monthly:\n",
      "Training years : 105.0 == 105.0\n",
      "Testing years : 105.0\n",
      "Bias correction fucntion : <function normal_quantile_mapping at 0x7f0d34c71dc0>\n",
      "BC Input shape (1260, 11, 22) (1260, 11, 22) (1260, 11, 22)\n",
      "11 22\n"
     ]
    },
    {
     "name": "stderr",
     "output_type": "stream",
     "text": [
      "\n",
      "  0%|                                              | 0/11 [00:00<?, ?it/s]\u001b[A\n",
      " 18%|██████▉                               | 2/11 [00:00<00:00, 19.58it/s]\u001b[A\n",
      " 36%|█████████████▊                        | 4/11 [00:00<00:00, 19.50it/s]\u001b[A\n",
      " 55%|████████████████████▋                 | 6/11 [00:00<00:00, 19.37it/s]\u001b[A\n",
      " 73%|███████████████████████████▋          | 8/11 [00:00<00:00, 19.44it/s]\u001b[A\n",
      "100%|█████████████████████████████████████| 11/11 [00:00<00:00, 19.37it/s]\u001b[A\n"
     ]
    },
    {
     "name": "stdout",
     "output_type": "stream",
     "text": [
      "BC Output shape (1260, 11, 22)\n",
      "Spatial Disaggregation - Monthly (NCLIM ==  12 )\n",
      "SD Type - PREC\n",
      "No of timesteps  1260\n",
      "SD Input shape (1260, 52, 112) (1260, 11, 22)\n"
     ]
    },
    {
     "name": "stderr",
     "output_type": "stream",
     "text": [
      "\n",
      "  0%|                                            | 0/1260 [00:00<?, ?it/s]\u001b[A\n",
      " 17%|█████▍                          | 212/1260 [00:00<00:00, 2118.45it/s]\u001b[A\n",
      " 34%|██████████▉                     | 432/1260 [00:00<00:00, 2163.63it/s]\u001b[A\n",
      " 52%|████████████████▌               | 652/1260 [00:00<00:00, 2175.02it/s]\u001b[A\n",
      " 70%|██████████████████████▏         | 876/1260 [00:00<00:00, 2197.90it/s]\u001b[A\n",
      "100%|███████████████████████████████| 1260/1260 [00:00<00:00, 2193.88it/s]\u001b[A\n",
      " 93%|█████████████████████████████████▍  | 93/100 [02:58<00:13,  1.90s/it]"
     ]
    },
    {
     "name": "stdout",
     "output_type": "stream",
     "text": [
      "SD Output shape (1260, 52, 112)\n",
      "Bias Correction Spatially - monthly:\n",
      "Training years : 105.0 == 105.0\n",
      "Testing years : 105.0\n",
      "Bias correction fucntion : <function normal_quantile_mapping at 0x7f0d34c71dc0>\n",
      "BC Input shape (1260, 11, 22) (1260, 11, 22) (1260, 11, 22)\n",
      "11 22\n"
     ]
    },
    {
     "name": "stderr",
     "output_type": "stream",
     "text": [
      "\n",
      "  0%|                                              | 0/11 [00:00<?, ?it/s]\u001b[A\n",
      " 18%|██████▉                               | 2/11 [00:00<00:00, 19.45it/s]\u001b[A\n",
      " 36%|█████████████▊                        | 4/11 [00:00<00:00, 19.34it/s]\u001b[A\n",
      " 55%|████████████████████▋                 | 6/11 [00:00<00:00, 19.38it/s]\u001b[A\n",
      " 73%|███████████████████████████▋          | 8/11 [00:00<00:00, 19.39it/s]\u001b[A\n",
      "100%|█████████████████████████████████████| 11/11 [00:00<00:00, 19.27it/s]\u001b[A\n"
     ]
    },
    {
     "name": "stdout",
     "output_type": "stream",
     "text": [
      "BC Output shape (1260, 11, 22)\n",
      "Spatial Disaggregation - Monthly (NCLIM ==  12 )\n",
      "SD Type - PREC\n",
      "No of timesteps  1260\n",
      "SD Input shape (1260, 52, 112) (1260, 11, 22)\n"
     ]
    },
    {
     "name": "stderr",
     "output_type": "stream",
     "text": [
      "\n",
      "  0%|                                            | 0/1260 [00:00<?, ?it/s]\u001b[A\n",
      " 18%|█████▌                          | 221/1260 [00:00<00:00, 2203.32it/s]\u001b[A\n",
      " 35%|███████████▏                    | 442/1260 [00:00<00:00, 2170.13it/s]\u001b[A\n",
      " 52%|████████████████▊               | 660/1260 [00:00<00:00, 2169.39it/s]\u001b[A\n",
      " 70%|██████████████████████▎         | 877/1260 [00:00<00:00, 2136.52it/s]\u001b[A\n",
      "100%|███████████████████████████████| 1260/1260 [00:00<00:00, 2163.51it/s]\u001b[A\n",
      " 94%|█████████████████████████████████▊  | 94/100 [02:59<00:11,  1.89s/it]"
     ]
    },
    {
     "name": "stdout",
     "output_type": "stream",
     "text": [
      "SD Output shape (1260, 52, 112)\n",
      "Bias Correction Spatially - monthly:\n",
      "Training years : 105.0 == 105.0\n",
      "Testing years : 105.0\n",
      "Bias correction fucntion : <function normal_quantile_mapping at 0x7f0d34c71dc0>\n",
      "BC Input shape (1260, 11, 22) (1260, 11, 22) (1260, 11, 22)\n",
      "11 22\n"
     ]
    },
    {
     "name": "stderr",
     "output_type": "stream",
     "text": [
      "\n",
      "  0%|                                              | 0/11 [00:00<?, ?it/s]\u001b[A\n",
      " 18%|██████▉                               | 2/11 [00:00<00:00, 19.41it/s]\u001b[A\n",
      " 36%|█████████████▊                        | 4/11 [00:00<00:00, 19.37it/s]\u001b[A\n",
      " 55%|████████████████████▋                 | 6/11 [00:00<00:00, 19.30it/s]\u001b[A\n",
      " 73%|███████████████████████████▋          | 8/11 [00:00<00:00, 19.32it/s]\u001b[A\n",
      "100%|█████████████████████████████████████| 11/11 [00:00<00:00, 19.34it/s]\u001b[A\n"
     ]
    },
    {
     "name": "stdout",
     "output_type": "stream",
     "text": [
      "BC Output shape (1260, 11, 22)\n",
      "Spatial Disaggregation - Monthly (NCLIM ==  12 )\n",
      "SD Type - PREC\n",
      "No of timesteps  1260\n",
      "SD Input shape (1260, 52, 112) (1260, 11, 22)\n"
     ]
    },
    {
     "name": "stderr",
     "output_type": "stream",
     "text": [
      "\n",
      "  0%|                                            | 0/1260 [00:00<?, ?it/s]\u001b[A\n",
      " 16%|█████                           | 198/1260 [00:00<00:00, 1970.96it/s]\u001b[A\n",
      " 33%|██████████▌                     | 418/1260 [00:00<00:00, 2103.21it/s]\u001b[A\n",
      " 51%|████████████████▏               | 639/1260 [00:00<00:00, 2148.47it/s]\u001b[A\n",
      " 68%|█████████████████████▉          | 862/1260 [00:00<00:00, 2178.69it/s]\u001b[A\n",
      "100%|███████████████████████████████| 1260/1260 [00:00<00:00, 2163.06it/s]\u001b[A\n",
      " 95%|██████████████████████████████████▏ | 95/100 [03:01<00:09,  1.89s/it]"
     ]
    },
    {
     "name": "stdout",
     "output_type": "stream",
     "text": [
      "SD Output shape (1260, 52, 112)\n",
      "Bias Correction Spatially - monthly:\n",
      "Training years : 105.0 == 105.0\n",
      "Testing years : 105.0\n",
      "Bias correction fucntion : <function normal_quantile_mapping at 0x7f0d34c71dc0>\n",
      "BC Input shape (1260, 11, 22) (1260, 11, 22) (1260, 11, 22)\n",
      "11 22\n"
     ]
    },
    {
     "name": "stderr",
     "output_type": "stream",
     "text": [
      "\n",
      "  0%|                                              | 0/11 [00:00<?, ?it/s]\u001b[A\n",
      " 18%|██████▉                               | 2/11 [00:00<00:00, 18.20it/s]\u001b[A\n",
      " 36%|█████████████▊                        | 4/11 [00:00<00:00, 17.99it/s]\u001b[A\n",
      " 55%|████████████████████▋                 | 6/11 [00:00<00:00, 18.55it/s]\u001b[A\n",
      " 73%|███████████████████████████▋          | 8/11 [00:00<00:00, 18.55it/s]\u001b[A\n",
      "100%|█████████████████████████████████████| 11/11 [00:00<00:00, 18.51it/s]\u001b[A\n"
     ]
    },
    {
     "name": "stdout",
     "output_type": "stream",
     "text": [
      "BC Output shape (1260, 11, 22)\n",
      "Spatial Disaggregation - Monthly (NCLIM ==  12 )\n",
      "SD Type - PREC\n",
      "No of timesteps  1260\n",
      "SD Input shape (1260, 52, 112) (1260, 11, 22)\n"
     ]
    },
    {
     "name": "stderr",
     "output_type": "stream",
     "text": [
      "\n",
      "  0%|                                            | 0/1260 [00:00<?, ?it/s]\u001b[A\n",
      " 17%|█████▍                          | 213/1260 [00:00<00:00, 2115.26it/s]\u001b[A\n",
      " 34%|██████████▊                     | 428/1260 [00:00<00:00, 2133.98it/s]\u001b[A\n",
      " 51%|████████████████▎               | 644/1260 [00:00<00:00, 2143.53it/s]\u001b[A\n",
      " 68%|█████████████████████▉          | 863/1260 [00:00<00:00, 2159.45it/s]\u001b[A\n",
      "100%|███████████████████████████████| 1260/1260 [00:00<00:00, 2151.65it/s]\u001b[A\n",
      " 96%|██████████████████████████████████▌ | 96/100 [03:03<00:07,  1.90s/it]"
     ]
    },
    {
     "name": "stdout",
     "output_type": "stream",
     "text": [
      "SD Output shape (1260, 52, 112)\n",
      "Bias Correction Spatially - monthly:\n",
      "Training years : 105.0 == 105.0\n",
      "Testing years : 105.0\n",
      "Bias correction fucntion : <function normal_quantile_mapping at 0x7f0d34c71dc0>\n",
      "BC Input shape (1260, 11, 22) (1260, 11, 22) (1260, 11, 22)\n",
      "11 22\n"
     ]
    },
    {
     "name": "stderr",
     "output_type": "stream",
     "text": [
      "\n",
      "  0%|                                              | 0/11 [00:00<?, ?it/s]\u001b[A\n",
      " 18%|██████▉                               | 2/11 [00:00<00:00, 19.35it/s]\u001b[A\n",
      " 36%|█████████████▊                        | 4/11 [00:00<00:00, 19.01it/s]\u001b[A\n",
      " 55%|████████████████████▋                 | 6/11 [00:00<00:00, 19.03it/s]\u001b[A\n",
      " 73%|███████████████████████████▋          | 8/11 [00:00<00:00, 19.02it/s]\u001b[A\n",
      "100%|█████████████████████████████████████| 11/11 [00:00<00:00, 18.99it/s]\u001b[A\n"
     ]
    },
    {
     "name": "stdout",
     "output_type": "stream",
     "text": [
      "BC Output shape (1260, 11, 22)\n",
      "Spatial Disaggregation - Monthly (NCLIM ==  12 )\n",
      "SD Type - PREC\n",
      "No of timesteps  1260\n",
      "SD Input shape (1260, 52, 112) (1260, 11, 22)\n"
     ]
    },
    {
     "name": "stderr",
     "output_type": "stream",
     "text": [
      "\n",
      "  0%|                                            | 0/1260 [00:00<?, ?it/s]\u001b[A\n",
      " 17%|█████▍                          | 216/1260 [00:00<00:00, 2157.34it/s]\u001b[A\n",
      " 34%|██████████▉                     | 432/1260 [00:00<00:00, 2124.28it/s]\u001b[A\n",
      " 52%|████████████████▌               | 652/1260 [00:00<00:00, 2155.42it/s]\u001b[A\n",
      " 69%|██████████████████████          | 869/1260 [00:00<00:00, 2158.23it/s]\u001b[A\n",
      "100%|███████████████████████████████| 1260/1260 [00:00<00:00, 2163.73it/s]\u001b[A\n",
      " 97%|██████████████████████████████████▉ | 97/100 [03:05<00:05,  1.89s/it]"
     ]
    },
    {
     "name": "stdout",
     "output_type": "stream",
     "text": [
      "SD Output shape (1260, 52, 112)\n",
      "Bias Correction Spatially - monthly:\n",
      "Training years : 105.0 == 105.0\n",
      "Testing years : 105.0\n",
      "Bias correction fucntion : <function normal_quantile_mapping at 0x7f0d34c71dc0>\n",
      "BC Input shape (1260, 11, 22) (1260, 11, 22) (1260, 11, 22)\n",
      "11 22\n"
     ]
    },
    {
     "name": "stderr",
     "output_type": "stream",
     "text": [
      "\n",
      "  0%|                                              | 0/11 [00:00<?, ?it/s]\u001b[A\n",
      " 18%|██████▉                               | 2/11 [00:00<00:00, 18.60it/s]\u001b[A\n",
      " 36%|█████████████▊                        | 4/11 [00:00<00:00, 18.85it/s]\u001b[A\n",
      " 55%|████████████████████▋                 | 6/11 [00:00<00:00, 18.97it/s]\u001b[A\n",
      " 73%|███████████████████████████▋          | 8/11 [00:00<00:00, 18.79it/s]\u001b[A\n",
      "100%|█████████████████████████████████████| 11/11 [00:00<00:00, 18.81it/s]\u001b[A\n"
     ]
    },
    {
     "name": "stdout",
     "output_type": "stream",
     "text": [
      "BC Output shape (1260, 11, 22)\n",
      "Spatial Disaggregation - Monthly (NCLIM ==  12 )\n",
      "SD Type - PREC\n",
      "No of timesteps  1260\n",
      "SD Input shape (1260, 52, 112) (1260, 11, 22)\n"
     ]
    },
    {
     "name": "stderr",
     "output_type": "stream",
     "text": [
      "\n",
      "  0%|                                            | 0/1260 [00:00<?, ?it/s]\u001b[A\n",
      " 15%|████▉                           | 195/1260 [00:00<00:00, 1944.19it/s]\u001b[A\n",
      " 31%|██████████                      | 394/1260 [00:00<00:00, 1966.45it/s]\u001b[A\n",
      " 47%|███████████████▏                | 596/1260 [00:00<00:00, 1989.27it/s]\u001b[A\n",
      " 63%|████████████████████▎           | 800/1260 [00:00<00:00, 2009.06it/s]\u001b[A\n",
      " 80%|████████████████████████▊      | 1009/1260 [00:00<00:00, 2036.17it/s]\u001b[A\n",
      "100%|███████████████████████████████| 1260/1260 [00:00<00:00, 2013.77it/s]\u001b[A\n",
      " 98%|███████████████████████████████████▎| 98/100 [03:07<00:03,  1.91s/it]"
     ]
    },
    {
     "name": "stdout",
     "output_type": "stream",
     "text": [
      "SD Output shape (1260, 52, 112)\n",
      "Bias Correction Spatially - monthly:\n",
      "Training years : 105.0 == 105.0\n",
      "Testing years : 105.0\n",
      "Bias correction fucntion : <function normal_quantile_mapping at 0x7f0d34c71dc0>\n",
      "BC Input shape (1260, 11, 22) (1260, 11, 22) (1260, 11, 22)\n",
      "11 22\n"
     ]
    },
    {
     "name": "stderr",
     "output_type": "stream",
     "text": [
      "\n",
      "  0%|                                              | 0/11 [00:00<?, ?it/s]\u001b[A\n",
      " 18%|██████▉                               | 2/11 [00:00<00:00, 18.85it/s]\u001b[A\n",
      " 36%|█████████████▊                        | 4/11 [00:00<00:00, 18.90it/s]\u001b[A\n",
      " 55%|████████████████████▋                 | 6/11 [00:00<00:00, 18.78it/s]\u001b[A\n",
      " 73%|███████████████████████████▋          | 8/11 [00:00<00:00, 18.30it/s]\u001b[A\n",
      "100%|█████████████████████████████████████| 11/11 [00:00<00:00, 18.46it/s]\u001b[A\n"
     ]
    },
    {
     "name": "stdout",
     "output_type": "stream",
     "text": [
      "BC Output shape (1260, 11, 22)\n",
      "Spatial Disaggregation - Monthly (NCLIM ==  12 )\n",
      "SD Type - PREC\n",
      "No of timesteps  1260\n",
      "SD Input shape (1260, 52, 112) (1260, 11, 22)\n"
     ]
    },
    {
     "name": "stderr",
     "output_type": "stream",
     "text": [
      "\n",
      "  0%|                                            | 0/1260 [00:00<?, ?it/s]\u001b[A\n",
      " 17%|█████▌                          | 219/1260 [00:00<00:00, 2182.08it/s]\u001b[A\n",
      " 35%|███████████                     | 438/1260 [00:00<00:00, 2160.59it/s]\u001b[A\n",
      " 52%|████████████████▋               | 655/1260 [00:00<00:00, 2152.32it/s]\u001b[A\n",
      " 69%|██████████████████████          | 871/1260 [00:00<00:00, 2147.09it/s]\u001b[A\n",
      "100%|███████████████████████████████| 1260/1260 [00:00<00:00, 2156.96it/s]\u001b[A\n",
      " 99%|███████████████████████████████████▋| 99/100 [03:09<00:01,  1.92s/it]"
     ]
    },
    {
     "name": "stdout",
     "output_type": "stream",
     "text": [
      "SD Output shape (1260, 52, 112)\n",
      "Bias Correction Spatially - monthly:\n",
      "Training years : 105.0 == 105.0\n",
      "Testing years : 105.0\n",
      "Bias correction fucntion : <function normal_quantile_mapping at 0x7f0d34c71dc0>\n",
      "BC Input shape (1260, 11, 22) (1260, 11, 22) (1260, 11, 22)\n",
      "11 22\n"
     ]
    },
    {
     "name": "stderr",
     "output_type": "stream",
     "text": [
      "\n",
      "  0%|                                              | 0/11 [00:00<?, ?it/s]\u001b[A\n",
      " 18%|██████▉                               | 2/11 [00:00<00:00, 19.26it/s]\u001b[A\n",
      " 36%|█████████████▊                        | 4/11 [00:00<00:00, 18.49it/s]\u001b[A\n",
      " 55%|████████████████████▋                 | 6/11 [00:00<00:00, 18.59it/s]\u001b[A\n",
      " 73%|███████████████████████████▋          | 8/11 [00:00<00:00, 18.29it/s]\u001b[A\n",
      "100%|█████████████████████████████████████| 11/11 [00:00<00:00, 18.14it/s]\u001b[A\n"
     ]
    },
    {
     "name": "stdout",
     "output_type": "stream",
     "text": [
      "BC Output shape (1260, 11, 22)\n",
      "Spatial Disaggregation - Monthly (NCLIM ==  12 )\n",
      "SD Type - PREC\n",
      "No of timesteps  1260\n",
      "SD Input shape (1260, 52, 112) (1260, 11, 22)\n"
     ]
    },
    {
     "name": "stderr",
     "output_type": "stream",
     "text": [
      "\n",
      "  0%|                                            | 0/1260 [00:00<?, ?it/s]\u001b[A\n",
      " 17%|█████▍                          | 213/1260 [00:00<00:00, 2127.18it/s]\u001b[A\n",
      " 34%|██████████▊                     | 426/1260 [00:00<00:00, 2098.55it/s]\u001b[A\n",
      " 50%|████████████████▏               | 636/1260 [00:00<00:00, 2052.92it/s]\u001b[A\n",
      " 68%|█████████████████████▊          | 859/1260 [00:00<00:00, 2120.81it/s]\u001b[A\n",
      "100%|███████████████████████████████| 1260/1260 [00:00<00:00, 2141.12it/s]\u001b[A\n",
      "100%|███████████████████████████████████| 100/100 [03:11<00:00,  1.91s/it]"
     ]
    },
    {
     "name": "stdout",
     "output_type": "stream",
     "text": [
      "SD Output shape (1260, 52, 112)\n",
      "Finished at: 12/09/2023 20:08:02\n"
     ]
    },
    {
     "name": "stderr",
     "output_type": "stream",
     "text": [
      "\n"
     ]
    }
   ],
   "source": [
    "from tqdm import tqdm\n",
    "\n",
    "\n",
    "gcm_name ='CanESM2'\n",
    "\n",
    "\n",
    "for itr in range(len(df)):\n",
    "    exp_name = df['exp_names'][itr]\n",
    "    SD_type = df['SD_types'][itr]\n",
    "    bc_method = df['bc_methods'][itr]\n",
    "    var_type = df['var_types'][itr]\n",
    "    \n",
    "    path_out = '/home/vikram/BCSD_data/' + exp_name  + '/'\n",
    "    metadata = np.load(path_out+var_type +'_metadata'+gcm_name + '.npy',allow_pickle=True).item()\n",
    "    pre_obs = np.load(path_out+var_type +'_obs'+ '.npy')\n",
    "    pre_gcm = np.load(path_out+var_type +'_gcm_'+gcm_name+ '.npy')\n",
    "\n",
    "    print(\"Experiment Name:\",exp_name)\n",
    "    \n",
    "    path_out = metadata['path_out']\n",
    "\n",
    "    print(\"\\n\\nStarted BCSD at:\", datetime.now().strftime(\"%d/%m/%Y %H:%M:%S\"))\n",
    "    print('GCM name : ', gcm_name)\n",
    "    print('Output path : ',path_out)\n",
    "    for rnd_iter  in tqdm(range(100)):\n",
    "        rdn=  np.random.randn(pre_gcm.shape[0],pre_gcm.shape[1],pre_gcm.shape[2])\n",
    "        if SD_type == 'PREC':\n",
    "            rdn =np.exp(rdn) \n",
    "            print(SD_type)\n",
    "        else:\n",
    "            pass\n",
    "        \n",
    "        data_bcsd_rnd = bb.bcsd(var_type +'_rnd_new2_'+str(rnd_iter) + '_cru',pre_obs,rdn,rdn,\n",
    "                                metadata,bc_method,temporal_res = \"Monthly\",sd_type =SD_type,mode = 1)\n",
    "\n",
    "    print(\"Finished at:\", datetime.now().strftime(\"%d/%m/%Y %H:%M:%S\"))\n",
    "\n",
    "\n"
   ]
  },
  {
   "cell_type": "code",
   "execution_count": null,
   "id": "322f7eaf-5920-4d81-8750-e36171b05d07",
   "metadata": {},
   "outputs": [],
   "source": []
  },
  {
   "cell_type": "code",
   "execution_count": null,
   "id": "01df8d16-4262-4bd7-9502-9d28c4a0ff17",
   "metadata": {},
   "outputs": [],
   "source": []
  }
 ],
 "metadata": {
  "kernelspec": {
   "display_name": "Python 3 (ipykernel)",
   "language": "python",
   "name": "python3"
  },
  "language_info": {
   "codemirror_mode": {
    "name": "ipython",
    "version": 3
   },
   "file_extension": ".py",
   "mimetype": "text/x-python",
   "name": "python",
   "nbconvert_exporter": "python",
   "pygments_lexer": "ipython3",
   "version": "3.9.12"
  }
 },
 "nbformat": 4,
 "nbformat_minor": 5
}
