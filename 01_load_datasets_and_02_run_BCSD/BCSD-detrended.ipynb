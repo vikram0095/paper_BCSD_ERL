{
 "cells": [
  {
   "cell_type": "markdown",
   "id": "733832da-1c15-4a31-b09d-1296602399e9",
   "metadata": {
    "tags": []
   },
   "source": [
    "# imports and defs"
   ]
  },
  {
   "cell_type": "code",
   "execution_count": 1,
   "id": "b15bc069-da39-4c8e-87f4-0a9fbd5aa57d",
   "metadata": {},
   "outputs": [],
   "source": [
    "import numpy as np\n",
    "import pandas as pd\n",
    "import bcsd_module_detrended as bb\n",
    "import matplotlib.pyplot as plt\n",
    "import utility_module_2_v_3 as uu\n",
    "from datetime import datetime\n"
   ]
  },
  {
   "cell_type": "code",
   "execution_count": 2,
   "id": "a0edc81f-879e-4cac-bef7-cbf9b88fe217",
   "metadata": {},
   "outputs": [],
   "source": [
    "def check_for_nans_infs_zeros(data_sts):\n",
    "    print('Nans:',np.sum(np.isnan(data_sts)))\n",
    "    print('Infs:' ,np.sum(np.isinf(data_sts)))\n",
    "    print('Zeros:',np.sum((data_sts==0)))\n",
    "    "
   ]
  },
  {
   "cell_type": "code",
   "execution_count": 3,
   "id": "d0fd2b20-3e41-43ae-8e76-40443b6006fa",
   "metadata": {},
   "outputs": [],
   "source": [
    "## check dimensions and plot ts\n",
    "def data_check(data_sts,lat,lon,Np= 12):\n",
    "    check_for_nans_infs_zeros(data_sts)\n",
    "    map_bounds=metadata['data_bounds'] #[50 , 50, 110, 0] #ltrb\n",
    "    mp_spacing=10\n",
    "\n",
    "    plt.figure(figsize = (12,2))\n",
    "\n",
    "    plt.subplot(121)\n",
    "    uu.map_plot_cyl(np.nanmean(data_sts[:,:,:],axis=0),lat,lon,map_bounds,mp_spacing=10)\n",
    "    plt.title('Mean')\n",
    "\n",
    "    plt.subplot(122)\n",
    "    plt.plot(data_sts[:Np*5,int(lat.shape[0]/2),int(lon.shape[0]/2)])\n",
    "    plt.plot(data_sts[-Np*5:,int(lat.shape[0]/2),int(lon.shape[0]/2)])\n"
   ]
  },
  {
   "cell_type": "markdown",
   "id": "4508dd4b-ac6d-40f3-af15-18ce4e3f976b",
   "metadata": {
    "tags": []
   },
   "source": [
    "# Exp details"
   ]
  },
  {
   "cell_type": "code",
   "execution_count": 4,
   "id": "e6af716f-552d-4d6d-a888-fa52a3a6e21d",
   "metadata": {},
   "outputs": [
    {
     "data": {
      "text/html": [
       "<div>\n",
       "<style scoped>\n",
       "    .dataframe tbody tr th:only-of-type {\n",
       "        vertical-align: middle;\n",
       "    }\n",
       "\n",
       "    .dataframe tbody tr th {\n",
       "        vertical-align: top;\n",
       "    }\n",
       "\n",
       "    .dataframe thead th {\n",
       "        text-align: right;\n",
       "    }\n",
       "</style>\n",
       "<table border=\"1\" class=\"dataframe\">\n",
       "  <thead>\n",
       "    <tr style=\"text-align: right;\">\n",
       "      <th></th>\n",
       "      <th>exp_names</th>\n",
       "      <th>SD_types</th>\n",
       "      <th>bc_methods</th>\n",
       "      <th>var_types</th>\n",
       "    </tr>\n",
       "  </thead>\n",
       "  <tbody>\n",
       "    <tr>\n",
       "      <th>0</th>\n",
       "      <td>US_P_BCSD</td>\n",
       "      <td>PREC</td>\n",
       "      <td>&lt;function gamma_quantile_mapping at 0x7fb17b0b...</td>\n",
       "      <td>pre</td>\n",
       "    </tr>\n",
       "    <tr>\n",
       "      <th>1</th>\n",
       "      <td>US_P_BCSD_eqm</td>\n",
       "      <td>PREC</td>\n",
       "      <td>&lt;function empirical_quantile_mapping at 0x7fb1...</td>\n",
       "      <td>pre</td>\n",
       "    </tr>\n",
       "    <tr>\n",
       "      <th>2</th>\n",
       "      <td>US_T_BCSD</td>\n",
       "      <td>TEMP</td>\n",
       "      <td>&lt;function normal_quantile_mapping at 0x7fb17b0...</td>\n",
       "      <td>tas</td>\n",
       "    </tr>\n",
       "    <tr>\n",
       "      <th>3</th>\n",
       "      <td>US_T_BCSD_eqm</td>\n",
       "      <td>TEMP</td>\n",
       "      <td>&lt;function empirical_quantile_mapping at 0x7fb1...</td>\n",
       "      <td>tas</td>\n",
       "    </tr>\n",
       "  </tbody>\n",
       "</table>\n",
       "</div>"
      ],
      "text/plain": [
       "       exp_names SD_types                                         bc_methods  \\\n",
       "0      US_P_BCSD     PREC  <function gamma_quantile_mapping at 0x7fb17b0b...   \n",
       "1  US_P_BCSD_eqm     PREC  <function empirical_quantile_mapping at 0x7fb1...   \n",
       "2      US_T_BCSD     TEMP  <function normal_quantile_mapping at 0x7fb17b0...   \n",
       "3  US_T_BCSD_eqm     TEMP  <function empirical_quantile_mapping at 0x7fb1...   \n",
       "\n",
       "  var_types  \n",
       "0       pre  \n",
       "1       pre  \n",
       "2       tas  \n",
       "3       tas  "
      ]
     },
     "execution_count": 4,
     "metadata": {},
     "output_type": "execute_result"
    }
   ],
   "source": [
    "exp_names = ['US_P_BCSD',\n",
    "'US_P_BCSD_eqm',\n",
    "'US_T_BCSD',\n",
    "'US_T_BCSD_eqm',]\n",
    "\n",
    "SD_types = ['PREC','PREC','TEMP','TEMP']\n",
    "bc_methods = [bb.gamma_quantile_mapping,bb.empirical_quantile_mapping,bb.normal_quantile_mapping,bb.empirical_quantile_mapping]\n",
    "var_types = ['pre','pre','tas','tas']\n",
    "\n",
    "df = pd.DataFrame(list(zip(exp_names, SD_types,bc_methods,var_types)),\n",
    "               columns =['exp_names', 'SD_types','bc_methods', 'var_types'])\n",
    "df"
   ]
  },
  {
   "cell_type": "markdown",
   "id": "16986edf-b66d-490c-8499-7903d52c9938",
   "metadata": {
    "tags": []
   },
   "source": [
    "# Runs"
   ]
  },
  {
   "cell_type": "code",
   "execution_count": null,
   "id": "99452ab3-08ed-4637-96cf-354058434797",
   "metadata": {},
   "outputs": [],
   "source": [
    "\n",
    "\n",
    "for gcm_name in ['CanESM2','GFDL_CM3','MIROC_ESM','MRI_ESM1','ACCESS1_0','NorESM1_M','CM5A_LR','CNRM_CM5','MPI_ESM_MR']:\n",
    "    for itr in [0,2]:\n",
    "        exp_name = df['exp_names'][itr]\n",
    "        SD_type = df['SD_types'][itr]\n",
    "        bc_method = df['bc_methods'][itr]\n",
    "        var_type = df['var_types'][itr]\n",
    "\n",
    "        path_out = '/home/vikram/BCSD_data/' + exp_name  + '/'\n",
    "        metadata = np.load(path_out+var_type +'_metadata'+gcm_name + '.npy',allow_pickle=True).item()\n",
    "        pre_obs = np.load(path_out+var_type +'_obs'+ '.npy')\n",
    "        pre_gcmh = np.load(path_out+var_type +'_gcm_'+gcm_name+ '.npy')\n",
    "        pre_gcmf = np.load(path_out+var_type +'_gcm_future_'+gcm_name+ '.npy')\n",
    "\n",
    "        # rdn=  np.random.randn(pre_gcm.shape[0],pre_gcm.shape[1],pre_gcm.shape[2])\n",
    "        \n",
    "        # if SD_type == 'PREC':\n",
    "        #     rdn =np.exp(rdn) \n",
    "        #     print(SD_type)\n",
    "        # else:\n",
    "        #     pass\n",
    "        \n",
    "        print(\"Experiment Name:\",exp_name)\n",
    "        print('\\n\\nData precheck :')\n",
    "        # data_check(pre_obs, metadata['lat_obs'], metadata['lon_obs'])\n",
    "        # data_check(pre_gcm, metadata['lat_gcm'], metadata['lon_gcm'])\n",
    "        # data_check(rdn, metadata['lat_gcm'], metadata['lon_gcm'])\n",
    "\n",
    "        path_out = metadata['path_out']\n",
    "\n",
    "        print(\"\\n\\nStarted BCSD at:\", datetime.now().strftime(\"%d/%m/%Y %H:%M:%S\"))\n",
    "        print('GCM name : ', gcm_name)\n",
    "        print('Output path : ',path_out)\n",
    "\n",
    "        data_bcsd_pred = bb.bcsd(var_type +'_'+gcm_name+'_cru',pre_obs,pre_gcmh,pre_gcmf,metadata,bc_method,temporal_res = \"Monthly\",sd_type =SD_type,mode = 1)\n",
    "        # data_bcsd_rnd = bb.bcsd(var_type +'_rnd_0_cru',pre_obs,rdn,rdn,metadata,bc_method,temporal_res = \"Monthly\",sd_type =SD_type,mode = 1)\n",
    "\n",
    "        print(\"Finished at:\", datetime.now().strftime(\"%d/%m/%Y %H:%M:%S\"))\n",
    "\n",
    "\n",
    "        print('\\n\\nData postcheck :')\n",
    "        # data_check(pre_obs, metadata['lat_obs'], metadata['lon_obs'])\n",
    "        # data_check(pre_gcm, metadata['lat_gcm'], metadata['lon_gcm'])\n",
    "        # data_check(rdn, metadata['lat_gcm'], metadata['lon_gcm'])\n",
    "        # data_check(data_bcsd_pred, metadata['lat_obs'], metadata['lon_obs'])\n",
    "        # data_check(data_bcsd_rnd, metadata['lat_obs'], metadata['lon_obs'])\n"
   ]
  },
  {
   "cell_type": "markdown",
   "id": "9545450f-895b-419f-b22a-35998ea47ada",
   "metadata": {
    "tags": []
   },
   "source": [
    "# Exp details"
   ]
  },
  {
   "cell_type": "code",
   "execution_count": null,
   "id": "e43ce396-e6e4-4f92-83c9-c4149760d556",
   "metadata": {},
   "outputs": [],
   "source": [
    "exp_names = ['US_P_BCSD',\n",
    "'US_P_BCSD_eqm',\n",
    "'US_T_BCSD',\n",
    "'US_T_BCSD_eqm',]\n",
    "\n",
    "SD_types = ['PREC','PREC','TEMP','TEMP']\n",
    "bc_methods = [bb.gamma_quantile_mapping,bb.empirical_quantile_mapping,bb.normal_quantile_mapping,bb.empirical_quantile_mapping]\n",
    "var_types = ['pre','pre','tas','tas']\n",
    "\n",
    "df = pd.DataFrame(list(zip(exp_names, SD_types,bc_methods,var_types)),\n",
    "               columns =['exp_names', 'SD_types','bc_methods', 'var_types'])\n",
    "df['exp_names']"
   ]
  },
  {
   "cell_type": "markdown",
   "id": "8a9ef087-b1bb-4552-9437-a14075e02480",
   "metadata": {
    "tags": []
   },
   "source": [
    "# Runs"
   ]
  },
  {
   "cell_type": "code",
   "execution_count": null,
   "id": "b3cd5fb8-afe9-4787-8044-755c7a25de06",
   "metadata": {},
   "outputs": [],
   "source": [
    "\n",
    "\n",
    "gcm_name ='CanESM2'\n",
    "\n",
    "\n",
    "for itr in range(len(df)):\n",
    "    exp_name = df['exp_names'][itr]\n",
    "    SD_type = df['SD_types'][itr]\n",
    "    bc_method = df['bc_methods'][itr]\n",
    "    var_type = df['var_types'][itr]\n",
    "    \n",
    "    path_out = '/home/vikram/BCSD_data/' + exp_name  + '/'\n",
    "    metadata = np.load(path_out+var_type +'_metadata'+gcm_name + '.npy',allow_pickle=True).item()\n",
    "    pre_obs = np.load(path_out+var_type +'_obs'+ '.npy')\n",
    "    pre_gcm = np.load(path_out+var_type +'_gcm_'+gcm_name+ '.npy')\n",
    "\n",
    "    rdn=  np.random.randn(pre_gcm.shape[0],pre_gcm.shape[1],pre_gcm.shape[2])*np.nanmean(pre_obs)\n",
    "    rdn[rdn<0]=0\n",
    "    print(\"Experiment Name:\",exp_name)\n",
    "    print('\\n\\nData precheck :')\n",
    "    data_check(pre_obs, metadata['lat_obs'], metadata['lon_obs'])\n",
    "    data_check(pre_gcm, metadata['lat_gcm'], metadata['lon_gcm'])\n",
    "    data_check(rdn, metadata['lat_gcm'], metadata['lon_gcm'])\n",
    "\n",
    "    path_out = metadata['path_out']\n",
    "\n",
    "    print(\"\\n\\nStarted BCSD at:\", datetime.now().strftime(\"%d/%m/%Y %H:%M:%S\"))\n",
    "    print('GCM name : ', gcm_name)\n",
    "    print('Output path : ',path_out)\n",
    "\n",
    "    data_bcsd_pred = bb.bcsd(var_type +'_'+gcm_name+'_cru',pre_obs,pre_gcm,pre_gcm,metadata,bc_method,temporal_res = \"Monthly\",sd_type =SD_type,mode = 1)\n",
    "    data_bcsd_rnd = bb.bcsd(var_type +'_rnd_new_10_cru',pre_obs,rdn,rdn,metadata,bc_method,temporal_res = \"Monthly\",sd_type =SD_type,mode = 1)\n",
    "\n",
    "    print(\"Finished at:\", datetime.now().strftime(\"%d/%m/%Y %H:%M:%S\"))\n",
    "\n",
    "\n",
    "    print('\\n\\nData postcheck :')\n",
    "    # data_check(pre_obs, metadata['lat_obs'], metadata['lon_obs'])\n",
    "    # data_check(pre_gcm, metadata['lat_gcm'], metadata['lon_gcm'])\n",
    "    # data_check(rdn, metadata['lat_gcm'], metadata['lon_gcm'])\n",
    "    data_check(data_bcsd_pred, metadata['lat_obs'], metadata['lon_obs'])\n",
    "    data_check(data_bcsd_rnd, metadata['lat_obs'], metadata['lon_obs'])\n"
   ]
  },
  {
   "cell_type": "code",
   "execution_count": null,
   "id": "322f7eaf-5920-4d81-8750-e36171b05d07",
   "metadata": {},
   "outputs": [],
   "source": [
    "5"
   ]
  },
  {
   "cell_type": "code",
   "execution_count": null,
   "id": "01df8d16-4262-4bd7-9502-9d28c4a0ff17",
   "metadata": {},
   "outputs": [],
   "source": []
  }
 ],
 "metadata": {
  "kernelspec": {
   "display_name": "Python 3 (ipykernel)",
   "language": "python",
   "name": "python3"
  },
  "language_info": {
   "codemirror_mode": {
    "name": "ipython",
    "version": 3
   },
   "file_extension": ".py",
   "mimetype": "text/x-python",
   "name": "python",
   "nbconvert_exporter": "python",
   "pygments_lexer": "ipython3",
   "version": "3.9.12"
  }
 },
 "nbformat": 4,
 "nbformat_minor": 5
}
