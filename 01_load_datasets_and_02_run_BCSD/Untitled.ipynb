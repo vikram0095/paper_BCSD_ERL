{
 "cells": [
  {
   "cell_type": "code",
   "execution_count": 1,
   "id": "3f19afe3-22ad-40b8-ab36-1d94c6b12d22",
   "metadata": {},
   "outputs": [
    {
     "name": "stdout",
     "output_type": "stream",
     "text": [
      "http://aims3.llnl.gov/thredds/fileServer/cmip5_css02_data/cmip5/output1/MPI-M/MPI-ESM-MR/historical/day/atmos/day/r1i1p1/tas/1/tas_day_MPI-ESM-MR_historical_r1i1p1_19000101-19091231.nc\n",
      "http://aims3.llnl.gov/thredds/fileServer/cmip5_css02_data/cmip5/output1/MPI-M/MPI-ESM-MR/historical/day/atmos/day/r1i1p1/tas/1/tas_day_MPI-ESM-MR_historical_r1i1p1_19100101-19191231.nc\n",
      "http://aims3.llnl.gov/thredds/fileServer/cmip5_css02_data/cmip5/output1/MPI-M/MPI-ESM-MR/historical/day/atmos/day/r1i1p1/tas/1/tas_day_MPI-ESM-MR_historical_r1i1p1_19200101-19291231.nc\n",
      "http://aims3.llnl.gov/thredds/fileServer/cmip5_css02_data/cmip5/output1/MPI-M/MPI-ESM-MR/historical/day/atmos/day/r1i1p1/tas/1/tas_day_MPI-ESM-MR_historical_r1i1p1_19300101-19391231.nc\n",
      "http://aims3.llnl.gov/thredds/fileServer/cmip5_css02_data/cmip5/output1/MPI-M/MPI-ESM-MR/historical/day/atmos/day/r1i1p1/tas/1/tas_day_MPI-ESM-MR_historical_r1i1p1_19400101-19491231.nc\n",
      "http://aims3.llnl.gov/thredds/fileServer/cmip5_css02_data/cmip5/output1/MPI-M/MPI-ESM-MR/historical/day/atmos/day/r1i1p1/tas/1/tas_day_MPI-ESM-MR_historical_r1i1p1_19500101-19591231.nc\n",
      "http://aims3.llnl.gov/thredds/fileServer/cmip5_css02_data/cmip5/output1/MPI-M/MPI-ESM-MR/historical/day/atmos/day/r1i1p1/tas/1/tas_day_MPI-ESM-MR_historical_r1i1p1_19600101-19691231.nc\n",
      "http://aims3.llnl.gov/thredds/fileServer/cmip5_css02_data/cmip5/output1/MPI-M/MPI-ESM-MR/historical/day/atmos/day/r1i1p1/tas/1/tas_day_MPI-ESM-MR_historical_r1i1p1_19700101-19791231.nc\n",
      "http://aims3.llnl.gov/thredds/fileServer/cmip5_css02_data/cmip5/output1/MPI-M/MPI-ESM-MR/historical/day/atmos/day/r1i1p1/tas/1/tas_day_MPI-ESM-MR_historical_r1i1p1_19800101-19891231.nc\n",
      "http://aims3.llnl.gov/thredds/fileServer/cmip5_css02_data/cmip5/output1/MPI-M/MPI-ESM-MR/historical/day/atmos/day/r1i1p1/tas/1/tas_day_MPI-ESM-MR_historical_r1i1p1_19900101-19991231.nc\n"
     ]
    }
   ],
   "source": [
    "\n",
    "\n",
    "for yeaR in range(1900,2000,10):\n",
    "    print(\"http://aims3.llnl.gov/thredds/fileServer/cmip5_css02_data/cmip5/output1/MPI-M/MPI-ESM-MR/historical/day/atmos/day/r1i1p1/tas/1/tas_day_MPI-ESM-MR_historical_r1i1p1_\" +str(yeaR) +\"0101-\" +str(yeaR+9) +\"1231.nc\")\n",
    "\n",
    "\n",
    "\n"
   ]
  },
  {
   "cell_type": "code",
   "execution_count": 1,
   "id": "ab0699a3-2c5e-491e-93e6-4a680d8d62fb",
   "metadata": {},
   "outputs": [],
   "source": [
    "def moving_average_numpy(data, window):\n",
    "    weights = np.repeat(1.0, window) / window\n",
    "    return np.convolve(data, weights, mode='valid')\n"
   ]
  },
  {
   "cell_type": "code",
   "execution_count": 6,
   "id": "fa34d343-180c-427d-9eca-a472979838de",
   "metadata": {},
   "outputs": [
    {
     "data": {
      "text/plain": [
       "(100, 55, 55)"
      ]
     },
     "execution_count": 6,
     "metadata": {},
     "output_type": "execute_result"
    }
   ],
   "source": [
    "import numpy as np\n",
    "\n",
    "np.random.randn(100,55,55).shape"
   ]
  },
  {
   "cell_type": "code",
   "execution_count": null,
   "id": "2862c6dc-1314-43b1-84f3-805b20087aae",
   "metadata": {},
   "outputs": [],
   "source": [
    "moving_window = 10\n",
    "\n",
    "data_to_movmean = np.random.randn(100,55,55)\n",
    "N = data_to_movmean.shape[0]\n",
    "\n",
    "\n",
    "    \n",
    "    \n",
    "    \n",
    "    \n",
    "    "
   ]
  },
  {
   "cell_type": "code",
   "execution_count": 62,
   "id": "908ae11a-4c29-4431-a68d-17ef34ae4d89",
   "metadata": {},
   "outputs": [
    {
     "data": {
      "text/plain": [
       "[<matplotlib.lines.Line2D at 0x7f6f93a257c0>]"
      ]
     },
     "execution_count": 62,
     "metadata": {},
     "output_type": "execute_result"
    },
    {
     "data": {
      "image/png": "[encoded data removed]",
      "text/plain": [
       "<Figure size 432x288 with 1 Axes>"
      ]
     },
     "metadata": {
      "needs_background": "light"
     },
     "output_type": "display_data"
    }
   ],
   "source": [
    "import numpy as np\n",
    "def moving_average(data, w):\n",
    "    o_e = 1 - w%2\n",
    "    data_to_cov= np.hstack([np.zeros(w//2-o_e),data,np.zeros(w//2)])\n",
    "    weights = np.hstack([np.arange(w-w//2+o_e,w),np.repeat(w,data.shape[0]-w+1),np.arange(w-1,w//2-o_e,-1)])\n",
    "    return np.convolve(data_to_cov, np.ones(w), 'valid')/weights\n",
    "\n",
    "    \n",
    "import matplotlib.pyplot as plt\n",
    "\n",
    "data = np.array([10,5,8,9,15,22,26,11,15,16,18,7,8])\n",
    "\n",
    "\n",
    "\n",
    "\n",
    "\n",
    "plt.plot(moving_average(data,5))\n",
    "\n",
    "\n",
    "plt.plot(data)\n",
    "\n"
   ]
  },
  {
   "cell_type": "code",
   "execution_count": null,
   "id": "e4b34c1c-48b4-4eaa-bf84-2d045918fe8e",
   "metadata": {},
   "outputs": [],
   "source": []
  }
 ],
 "metadata": {
  "kernelspec": {
   "display_name": "Python 3 (ipykernel)",
   "language": "python",
   "name": "python3"
  },
  "language_info": {
   "codemirror_mode": {
    "name": "ipython",
    "version": 3
   },
   "file_extension": ".py",
   "mimetype": "text/x-python",
   "name": "python",
   "nbconvert_exporter": "python",
   "pygments_lexer": "ipython3",
   "version": "3.9.12"
  }
 },
 "nbformat": 4,
 "nbformat_minor": 5
}
